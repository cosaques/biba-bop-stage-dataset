{
 "cells": [
  {
   "cell_type": "code",
   "execution_count": 1,
   "id": "6e972aeb-01a6-4cfe-ad78-3909c7ab8daa",
   "metadata": {
    "execution": {
     "iopub.execute_input": "2025-07-24T08:31:58.903119Z",
     "iopub.status.busy": "2025-07-24T08:31:58.901120Z",
     "iopub.status.idle": "2025-07-24T08:32:04.683076Z",
     "shell.execute_reply": "2025-07-24T08:32:04.681215Z",
     "shell.execute_reply.started": "2025-07-24T08:31:58.903119Z"
    }
   },
   "outputs": [],
   "source": [
    "import pandas as pd"
   ]
  },
  {
   "cell_type": "code",
   "execution_count": 2,
   "id": "901ba372-955a-4671-b525-09d7f0e60723",
   "metadata": {
    "execution": {
     "iopub.execute_input": "2025-07-24T08:32:07.427154Z",
     "iopub.status.busy": "2025-07-24T08:32:07.426151Z",
     "iopub.status.idle": "2025-07-24T08:32:07.522259Z",
     "shell.execute_reply": "2025-07-24T08:32:07.521116Z",
     "shell.execute_reply.started": "2025-07-24T08:32:07.427154Z"
    }
   },
   "outputs": [],
   "source": [
    "man_df = pd.read_csv('data/caesar_fr.csv', encoding='utf-8', sep=';')\n",
    "man_df=man_df.sample(frac=1)"
   ]
  },
  {
   "cell_type": "code",
   "execution_count": 3,
   "id": "d887b0cf-e22c-477b-aa0a-95310ade35a6",
   "metadata": {
    "execution": {
     "iopub.execute_input": "2025-07-24T08:32:08.614909Z",
     "iopub.status.busy": "2025-07-24T08:32:08.613456Z",
     "iopub.status.idle": "2025-07-24T08:32:08.628218Z",
     "shell.execute_reply": "2025-07-24T08:32:08.626184Z",
     "shell.execute_reply.started": "2025-07-24T08:32:08.614909Z"
    }
   },
   "outputs": [],
   "source": [
    "caesar_male = man_df[man_df['sex'] == 1]"
   ]
  },
  {
   "cell_type": "code",
   "execution_count": 4,
   "id": "6af9bf27-985d-4dd3-83b9-9125fba91adc",
   "metadata": {
    "execution": {
     "iopub.execute_input": "2025-07-24T08:32:09.300960Z",
     "iopub.status.busy": "2025-07-24T08:32:09.299966Z",
     "iopub.status.idle": "2025-07-24T08:32:09.312392Z",
     "shell.execute_reply": "2025-07-24T08:32:09.310390Z",
     "shell.execute_reply.started": "2025-07-24T08:32:09.300960Z"
    }
   },
   "outputs": [],
   "source": [
    "data=pd.DataFrame()"
   ]
  },
  {
   "cell_type": "code",
   "execution_count": 5,
   "id": "3ac6cbd4-7b91-4247-aefc-f91c1b924147",
   "metadata": {
    "execution": {
     "iopub.execute_input": "2025-07-24T08:32:09.890354Z",
     "iopub.status.busy": "2025-07-24T08:32:09.890354Z",
     "iopub.status.idle": "2025-07-24T08:32:09.903369Z",
     "shell.execute_reply": "2025-07-24T08:32:09.900957Z",
     "shell.execute_reply.started": "2025-07-24T08:32:09.890354Z"
    }
   },
   "outputs": [],
   "source": [
    "data=caesar_male.copy()"
   ]
  },
  {
   "cell_type": "code",
   "execution_count": 6,
   "id": "4d10fac9-6033-4f58-929d-30e83b72f73c",
   "metadata": {
    "execution": {
     "iopub.execute_input": "2025-07-24T08:32:10.467120Z",
     "iopub.status.busy": "2025-07-24T08:32:10.465168Z",
     "iopub.status.idle": "2025-07-24T08:32:10.727238Z",
     "shell.execute_reply": "2025-07-24T08:32:10.725229Z",
     "shell.execute_reply.started": "2025-07-24T08:32:10.467120Z"
    }
   },
   "outputs": [
    {
     "data": {
      "text/html": [
       "<div>\n",
       "<style scoped>\n",
       "    .dataframe tbody tr th:only-of-type {\n",
       "        vertical-align: middle;\n",
       "    }\n",
       "\n",
       "    .dataframe tbody tr th {\n",
       "        vertical-align: top;\n",
       "    }\n",
       "\n",
       "    .dataframe thead th {\n",
       "        text-align: right;\n",
       "    }\n",
       "</style>\n",
       "<table border=\"1\" class=\"dataframe\">\n",
       "  <thead>\n",
       "    <tr style=\"text-align: right;\">\n",
       "      <th></th>\n",
       "      <th>taille</th>\n",
       "      <th>age</th>\n",
       "      <th>weight</th>\n",
       "      <th>sex</th>\n",
       "      <th>tour_de_cheville</th>\n",
       "      <th>longueur_du_bras</th>\n",
       "      <th>largeur_du_dos</th>\n",
       "      <th>tour_de_ventre_maximal</th>\n",
       "      <th>tour_de_poitrine</th>\n",
       "      <th>tour_de_poitrine_mesure_a_la_main</th>\n",
       "      <th>...</th>\n",
       "      <th>angle_de_l_epaule</th>\n",
       "      <th>longueur_du_côte</th>\n",
       "      <th>longueur_du_tronc</th>\n",
       "      <th>longueur_de_sous_poitrine</th>\n",
       "      <th>largeur_de_la_taille</th>\n",
       "      <th>tour_de_poignet</th>\n",
       "      <th>largeur_du_bassin</th>\n",
       "      <th>profondeur_de_poitrine</th>\n",
       "      <th>tour_d_epaule</th>\n",
       "      <th>longueur_d_avant_bras</th>\n",
       "    </tr>\n",
       "  </thead>\n",
       "  <tbody>\n",
       "    <tr>\n",
       "      <th>count</th>\n",
       "      <td>2106.000000</td>\n",
       "      <td>2102.000000</td>\n",
       "      <td>2106.000000</td>\n",
       "      <td>2107.0</td>\n",
       "      <td>2107.000000</td>\n",
       "      <td>2104.000000</td>\n",
       "      <td>2052.000000</td>\n",
       "      <td>2107.0</td>\n",
       "      <td>2106.000000</td>\n",
       "      <td>0.0</td>\n",
       "      <td>...</td>\n",
       "      <td>2107.0</td>\n",
       "      <td>2107.0</td>\n",
       "      <td>2107.0</td>\n",
       "      <td>2107.0</td>\n",
       "      <td>2107.0</td>\n",
       "      <td>2107.0</td>\n",
       "      <td>2107.0</td>\n",
       "      <td>2107.0</td>\n",
       "      <td>2107.0</td>\n",
       "      <td>2107.0</td>\n",
       "    </tr>\n",
       "    <tr>\n",
       "      <th>mean</th>\n",
       "      <td>177.913588</td>\n",
       "      <td>37.538297</td>\n",
       "      <td>82.985266</td>\n",
       "      <td>1.0</td>\n",
       "      <td>26.720221</td>\n",
       "      <td>64.139418</td>\n",
       "      <td>41.485936</td>\n",
       "      <td>0.0</td>\n",
       "      <td>101.697680</td>\n",
       "      <td>NaN</td>\n",
       "      <td>...</td>\n",
       "      <td>0.0</td>\n",
       "      <td>0.0</td>\n",
       "      <td>0.0</td>\n",
       "      <td>0.0</td>\n",
       "      <td>0.0</td>\n",
       "      <td>0.0</td>\n",
       "      <td>0.0</td>\n",
       "      <td>0.0</td>\n",
       "      <td>0.0</td>\n",
       "      <td>0.0</td>\n",
       "    </tr>\n",
       "    <tr>\n",
       "      <th>std</th>\n",
       "      <td>8.431030</td>\n",
       "      <td>12.763015</td>\n",
       "      <td>17.167743</td>\n",
       "      <td>0.0</td>\n",
       "      <td>1.545217</td>\n",
       "      <td>3.591747</td>\n",
       "      <td>2.403755</td>\n",
       "      <td>0.0</td>\n",
       "      <td>10.616289</td>\n",
       "      <td>NaN</td>\n",
       "      <td>...</td>\n",
       "      <td>0.0</td>\n",
       "      <td>0.0</td>\n",
       "      <td>0.0</td>\n",
       "      <td>0.0</td>\n",
       "      <td>0.0</td>\n",
       "      <td>0.0</td>\n",
       "      <td>0.0</td>\n",
       "      <td>0.0</td>\n",
       "      <td>0.0</td>\n",
       "      <td>0.0</td>\n",
       "    </tr>\n",
       "    <tr>\n",
       "      <th>min</th>\n",
       "      <td>131.495800</td>\n",
       "      <td>17.500000</td>\n",
       "      <td>45.812792</td>\n",
       "      <td>1.0</td>\n",
       "      <td>22.199600</td>\n",
       "      <td>40.894000</td>\n",
       "      <td>33.147000</td>\n",
       "      <td>0.0</td>\n",
       "      <td>75.793600</td>\n",
       "      <td>NaN</td>\n",
       "      <td>...</td>\n",
       "      <td>0.0</td>\n",
       "      <td>0.0</td>\n",
       "      <td>0.0</td>\n",
       "      <td>0.0</td>\n",
       "      <td>0.0</td>\n",
       "      <td>0.0</td>\n",
       "      <td>0.0</td>\n",
       "      <td>0.0</td>\n",
       "      <td>0.0</td>\n",
       "      <td>0.0</td>\n",
       "    </tr>\n",
       "    <tr>\n",
       "      <th>25%</th>\n",
       "      <td>172.212000</td>\n",
       "      <td>26.200000</td>\n",
       "      <td>70.801175</td>\n",
       "      <td>1.0</td>\n",
       "      <td>25.704800</td>\n",
       "      <td>61.798200</td>\n",
       "      <td>39.801800</td>\n",
       "      <td>0.0</td>\n",
       "      <td>94.411800</td>\n",
       "      <td>NaN</td>\n",
       "      <td>...</td>\n",
       "      <td>0.0</td>\n",
       "      <td>0.0</td>\n",
       "      <td>0.0</td>\n",
       "      <td>0.0</td>\n",
       "      <td>0.0</td>\n",
       "      <td>0.0</td>\n",
       "      <td>0.0</td>\n",
       "      <td>0.0</td>\n",
       "      <td>0.0</td>\n",
       "      <td>0.0</td>\n",
       "    </tr>\n",
       "    <tr>\n",
       "      <th>50%</th>\n",
       "      <td>177.495200</td>\n",
       "      <td>37.000000</td>\n",
       "      <td>80.058988</td>\n",
       "      <td>1.0</td>\n",
       "      <td>26.593800</td>\n",
       "      <td>64.008000</td>\n",
       "      <td>41.478200</td>\n",
       "      <td>0.0</td>\n",
       "      <td>100.406200</td>\n",
       "      <td>NaN</td>\n",
       "      <td>...</td>\n",
       "      <td>0.0</td>\n",
       "      <td>0.0</td>\n",
       "      <td>0.0</td>\n",
       "      <td>0.0</td>\n",
       "      <td>0.0</td>\n",
       "      <td>0.0</td>\n",
       "      <td>0.0</td>\n",
       "      <td>0.0</td>\n",
       "      <td>0.0</td>\n",
       "      <td>0.0</td>\n",
       "    </tr>\n",
       "    <tr>\n",
       "      <th>75%</th>\n",
       "      <td>183.311800</td>\n",
       "      <td>47.000000</td>\n",
       "      <td>91.398788</td>\n",
       "      <td>1.0</td>\n",
       "      <td>27.711400</td>\n",
       "      <td>66.395600</td>\n",
       "      <td>43.027600</td>\n",
       "      <td>0.0</td>\n",
       "      <td>107.670600</td>\n",
       "      <td>NaN</td>\n",
       "      <td>...</td>\n",
       "      <td>0.0</td>\n",
       "      <td>0.0</td>\n",
       "      <td>0.0</td>\n",
       "      <td>0.0</td>\n",
       "      <td>0.0</td>\n",
       "      <td>0.0</td>\n",
       "      <td>0.0</td>\n",
       "      <td>0.0</td>\n",
       "      <td>0.0</td>\n",
       "      <td>0.0</td>\n",
       "    </tr>\n",
       "    <tr>\n",
       "      <th>max</th>\n",
       "      <td>218.287600</td>\n",
       "      <td>79.000000</td>\n",
       "      <td>181.436800</td>\n",
       "      <td>1.0</td>\n",
       "      <td>36.703000</td>\n",
       "      <td>80.391000</td>\n",
       "      <td>50.165000</td>\n",
       "      <td>0.0</td>\n",
       "      <td>157.403800</td>\n",
       "      <td>NaN</td>\n",
       "      <td>...</td>\n",
       "      <td>0.0</td>\n",
       "      <td>0.0</td>\n",
       "      <td>0.0</td>\n",
       "      <td>0.0</td>\n",
       "      <td>0.0</td>\n",
       "      <td>0.0</td>\n",
       "      <td>0.0</td>\n",
       "      <td>0.0</td>\n",
       "      <td>0.0</td>\n",
       "      <td>0.0</td>\n",
       "    </tr>\n",
       "  </tbody>\n",
       "</table>\n",
       "<p>8 rows × 44 columns</p>\n",
       "</div>"
      ],
      "text/plain": [
       "            taille          age       weight     sex  tour_de_cheville  \\\n",
       "count  2106.000000  2102.000000  2106.000000  2107.0       2107.000000   \n",
       "mean    177.913588    37.538297    82.985266     1.0         26.720221   \n",
       "std       8.431030    12.763015    17.167743     0.0          1.545217   \n",
       "min     131.495800    17.500000    45.812792     1.0         22.199600   \n",
       "25%     172.212000    26.200000    70.801175     1.0         25.704800   \n",
       "50%     177.495200    37.000000    80.058988     1.0         26.593800   \n",
       "75%     183.311800    47.000000    91.398788     1.0         27.711400   \n",
       "max     218.287600    79.000000   181.436800     1.0         36.703000   \n",
       "\n",
       "       longueur_du_bras  largeur_du_dos  tour_de_ventre_maximal  \\\n",
       "count       2104.000000     2052.000000                  2107.0   \n",
       "mean          64.139418       41.485936                     0.0   \n",
       "std            3.591747        2.403755                     0.0   \n",
       "min           40.894000       33.147000                     0.0   \n",
       "25%           61.798200       39.801800                     0.0   \n",
       "50%           64.008000       41.478200                     0.0   \n",
       "75%           66.395600       43.027600                     0.0   \n",
       "max           80.391000       50.165000                     0.0   \n",
       "\n",
       "       tour_de_poitrine  tour_de_poitrine_mesure_a_la_main  ...  \\\n",
       "count       2106.000000                                0.0  ...   \n",
       "mean         101.697680                                NaN  ...   \n",
       "std           10.616289                                NaN  ...   \n",
       "min           75.793600                                NaN  ...   \n",
       "25%           94.411800                                NaN  ...   \n",
       "50%          100.406200                                NaN  ...   \n",
       "75%          107.670600                                NaN  ...   \n",
       "max          157.403800                                NaN  ...   \n",
       "\n",
       "       angle_de_l_epaule  longueur_du_côte  longueur_du_tronc  \\\n",
       "count             2107.0            2107.0             2107.0   \n",
       "mean                 0.0               0.0                0.0   \n",
       "std                  0.0               0.0                0.0   \n",
       "min                  0.0               0.0                0.0   \n",
       "25%                  0.0               0.0                0.0   \n",
       "50%                  0.0               0.0                0.0   \n",
       "75%                  0.0               0.0                0.0   \n",
       "max                  0.0               0.0                0.0   \n",
       "\n",
       "       longueur_de_sous_poitrine  largeur_de_la_taille  tour_de_poignet  \\\n",
       "count                     2107.0                2107.0           2107.0   \n",
       "mean                         0.0                   0.0              0.0   \n",
       "std                          0.0                   0.0              0.0   \n",
       "min                          0.0                   0.0              0.0   \n",
       "25%                          0.0                   0.0              0.0   \n",
       "50%                          0.0                   0.0              0.0   \n",
       "75%                          0.0                   0.0              0.0   \n",
       "max                          0.0                   0.0              0.0   \n",
       "\n",
       "       largeur_du_bassin  profondeur_de_poitrine  tour_d_epaule  \\\n",
       "count             2107.0                  2107.0         2107.0   \n",
       "mean                 0.0                     0.0            0.0   \n",
       "std                  0.0                     0.0            0.0   \n",
       "min                  0.0                     0.0            0.0   \n",
       "25%                  0.0                     0.0            0.0   \n",
       "50%                  0.0                     0.0            0.0   \n",
       "75%                  0.0                     0.0            0.0   \n",
       "max                  0.0                     0.0            0.0   \n",
       "\n",
       "       longueur_d_avant_bras  \n",
       "count                 2107.0  \n",
       "mean                     0.0  \n",
       "std                      0.0  \n",
       "min                      0.0  \n",
       "25%                      0.0  \n",
       "50%                      0.0  \n",
       "75%                      0.0  \n",
       "max                      0.0  \n",
       "\n",
       "[8 rows x 44 columns]"
      ]
     },
     "execution_count": 6,
     "metadata": {},
     "output_type": "execute_result"
    }
   ],
   "source": [
    "data.describe()"
   ]
  },
  {
   "cell_type": "code",
   "execution_count": 7,
   "id": "b03afeb0-9cfe-41f7-a842-4da5bfea3b80",
   "metadata": {
    "execution": {
     "iopub.execute_input": "2025-07-24T08:32:11.343954Z",
     "iopub.status.busy": "2025-07-24T08:32:11.343432Z",
     "iopub.status.idle": "2025-07-24T08:32:11.393099Z",
     "shell.execute_reply": "2025-07-24T08:32:11.391497Z",
     "shell.execute_reply.started": "2025-07-24T08:32:11.343954Z"
    }
   },
   "outputs": [],
   "source": [
    "data=data.drop_duplicates()"
   ]
  },
  {
   "cell_type": "code",
   "execution_count": 8,
   "id": "099f2e05-5e49-4850-81bc-e89594fe7c73",
   "metadata": {
    "execution": {
     "iopub.execute_input": "2025-07-24T08:32:12.204252Z",
     "iopub.status.busy": "2025-07-24T08:32:12.203203Z",
     "iopub.status.idle": "2025-07-24T08:32:12.225960Z",
     "shell.execute_reply": "2025-07-24T08:32:12.224939Z",
     "shell.execute_reply.started": "2025-07-24T08:32:12.204252Z"
    }
   },
   "outputs": [
    {
     "data": {
      "text/html": [
       "<div>\n",
       "<style scoped>\n",
       "    .dataframe tbody tr th:only-of-type {\n",
       "        vertical-align: middle;\n",
       "    }\n",
       "\n",
       "    .dataframe tbody tr th {\n",
       "        vertical-align: top;\n",
       "    }\n",
       "\n",
       "    .dataframe thead th {\n",
       "        text-align: right;\n",
       "    }\n",
       "</style>\n",
       "<table border=\"1\" class=\"dataframe\">\n",
       "  <thead>\n",
       "    <tr style=\"text-align: right;\">\n",
       "      <th></th>\n",
       "      <th>tour_de_ventre_maximal</th>\n",
       "      <th>tour_de_taille</th>\n",
       "    </tr>\n",
       "  </thead>\n",
       "  <tbody>\n",
       "    <tr>\n",
       "      <th>3417</th>\n",
       "      <td>0</td>\n",
       "      <td>84.9884</td>\n",
       "    </tr>\n",
       "    <tr>\n",
       "      <th>1955</th>\n",
       "      <td>0</td>\n",
       "      <td>82.1944</td>\n",
       "    </tr>\n",
       "    <tr>\n",
       "      <th>367</th>\n",
       "      <td>0</td>\n",
       "      <td>77.1906</td>\n",
       "    </tr>\n",
       "    <tr>\n",
       "      <th>1828</th>\n",
       "      <td>0</td>\n",
       "      <td>83.3882</td>\n",
       "    </tr>\n",
       "    <tr>\n",
       "      <th>2515</th>\n",
       "      <td>0</td>\n",
       "      <td>79.5020</td>\n",
       "    </tr>\n",
       "  </tbody>\n",
       "</table>\n",
       "</div>"
      ],
      "text/plain": [
       "      tour_de_ventre_maximal  tour_de_taille\n",
       "3417                       0         84.9884\n",
       "1955                       0         82.1944\n",
       "367                        0         77.1906\n",
       "1828                       0         83.3882\n",
       "2515                       0         79.5020"
      ]
     },
     "execution_count": 8,
     "metadata": {},
     "output_type": "execute_result"
    }
   ],
   "source": [
    "data[['tour_de_ventre_maximal','tour_de_taille']].head()"
   ]
  },
  {
   "cell_type": "code",
   "execution_count": 9,
   "id": "59fde52c-2f9e-419a-8fc1-f5603adfd163",
   "metadata": {
    "execution": {
     "iopub.execute_input": "2025-07-24T08:32:12.949370Z",
     "iopub.status.busy": "2025-07-24T08:32:12.948369Z",
     "iopub.status.idle": "2025-07-24T08:32:12.972394Z",
     "shell.execute_reply": "2025-07-24T08:32:12.971481Z",
     "shell.execute_reply.started": "2025-07-24T08:32:12.949370Z"
    }
   },
   "outputs": [],
   "source": [
    "mesure=caesar_male[['tour_de_ventre_maximal','tour_de_taille','tour_de_cuisse','largeur_des_hanches']]"
   ]
  },
  {
   "cell_type": "code",
   "execution_count": 10,
   "id": "8e0ecad3-1e9c-4191-9f6e-5cd913699ff5",
   "metadata": {
    "execution": {
     "iopub.execute_input": "2025-07-24T08:32:13.601254Z",
     "iopub.status.busy": "2025-07-24T08:32:13.600257Z",
     "iopub.status.idle": "2025-07-24T08:32:13.638714Z",
     "shell.execute_reply": "2025-07-24T08:32:13.636588Z",
     "shell.execute_reply.started": "2025-07-24T08:32:13.601254Z"
    }
   },
   "outputs": [
    {
     "data": {
      "text/html": [
       "<div>\n",
       "<style scoped>\n",
       "    .dataframe tbody tr th:only-of-type {\n",
       "        vertical-align: middle;\n",
       "    }\n",
       "\n",
       "    .dataframe tbody tr th {\n",
       "        vertical-align: top;\n",
       "    }\n",
       "\n",
       "    .dataframe thead th {\n",
       "        text-align: right;\n",
       "    }\n",
       "</style>\n",
       "<table border=\"1\" class=\"dataframe\">\n",
       "  <thead>\n",
       "    <tr style=\"text-align: right;\">\n",
       "      <th></th>\n",
       "      <th>tour_de_ventre_maximal</th>\n",
       "      <th>tour_de_taille</th>\n",
       "      <th>tour_de_cuisse</th>\n",
       "      <th>largeur_des_hanches</th>\n",
       "    </tr>\n",
       "  </thead>\n",
       "  <tbody>\n",
       "    <tr>\n",
       "      <th>3417</th>\n",
       "      <td>0</td>\n",
       "      <td>84.9884</td>\n",
       "      <td>57.9882</td>\n",
       "      <td>46.8884</td>\n",
       "    </tr>\n",
       "    <tr>\n",
       "      <th>1955</th>\n",
       "      <td>0</td>\n",
       "      <td>82.1944</td>\n",
       "      <td>58.2930</td>\n",
       "      <td>47.4980</td>\n",
       "    </tr>\n",
       "    <tr>\n",
       "      <th>367</th>\n",
       "      <td>0</td>\n",
       "      <td>77.1906</td>\n",
       "      <td>55.3974</td>\n",
       "      <td>45.8978</td>\n",
       "    </tr>\n",
       "    <tr>\n",
       "      <th>1828</th>\n",
       "      <td>0</td>\n",
       "      <td>83.3882</td>\n",
       "      <td>53.3908</td>\n",
       "      <td>45.2882</td>\n",
       "    </tr>\n",
       "    <tr>\n",
       "      <th>2515</th>\n",
       "      <td>0</td>\n",
       "      <td>79.5020</td>\n",
       "      <td>57.8104</td>\n",
       "      <td>48.1076</td>\n",
       "    </tr>\n",
       "  </tbody>\n",
       "</table>\n",
       "</div>"
      ],
      "text/plain": [
       "      tour_de_ventre_maximal  tour_de_taille  tour_de_cuisse  \\\n",
       "3417                       0         84.9884         57.9882   \n",
       "1955                       0         82.1944         58.2930   \n",
       "367                        0         77.1906         55.3974   \n",
       "1828                       0         83.3882         53.3908   \n",
       "2515                       0         79.5020         57.8104   \n",
       "\n",
       "      largeur_des_hanches  \n",
       "3417              46.8884  \n",
       "1955              47.4980  \n",
       "367               45.8978  \n",
       "1828              45.2882  \n",
       "2515              48.1076  "
      ]
     },
     "execution_count": 10,
     "metadata": {},
     "output_type": "execute_result"
    }
   ],
   "source": [
    "mesure.head()"
   ]
  },
  {
   "cell_type": "code",
   "execution_count": 11,
   "id": "2d3de6dc-447c-4fcb-a3d9-adc80af64e7a",
   "metadata": {
    "execution": {
     "iopub.execute_input": "2025-07-24T08:32:14.261657Z",
     "iopub.status.busy": "2025-07-24T08:32:14.260663Z",
     "iopub.status.idle": "2025-07-24T08:32:17.208410Z",
     "shell.execute_reply": "2025-07-24T08:32:17.207335Z",
     "shell.execute_reply.started": "2025-07-24T08:32:14.261657Z"
    }
   },
   "outputs": [
    {
     "data": {
      "image/png": "[encoded data removed]",
      "text/plain": [
       "<Figure size 640x480 with 1 Axes>"
      ]
     },
     "metadata": {},
     "output_type": "display_data"
    }
   ],
   "source": [
    "import matplotlib.pyplot as plt\n",
    "# Plot Living area vs Sale price\n",
    "plt.scatter(mesure['tour_de_ventre_maximal'], mesure['tour_de_taille'])\n",
    "# Labels\n",
    "plt.xlabel(\"tour de ventre max\")\n",
    "plt.ylabel(\"tour de taille\")\n",
    "plt.show()"
   ]
  },
  {
   "cell_type": "code",
   "execution_count": 12,
   "id": "6c5591a3-222f-4136-aa97-be23f4d5ecf4",
   "metadata": {
    "execution": {
     "iopub.execute_input": "2025-07-24T08:32:17.211946Z",
     "iopub.status.busy": "2025-07-24T08:32:17.211946Z",
     "iopub.status.idle": "2025-07-24T08:32:17.458949Z",
     "shell.execute_reply": "2025-07-24T08:32:17.456842Z",
     "shell.execute_reply.started": "2025-07-24T08:32:17.211946Z"
    }
   },
   "outputs": [
    {
     "data": {
      "image/png": "[encoded data removed]",
      "text/plain": [
       "<Figure size 640x480 with 1 Axes>"
      ]
     },
     "metadata": {},
     "output_type": "display_data"
    }
   ],
   "source": [
    "import matplotlib.pyplot as plt\n",
    "# Plot Living area vs Sale price\n",
    "plt.scatter(mesure['tour_de_cuisse'], mesure['largeur_des_hanches'],s=1)\n",
    "# Labels\n",
    "plt.xlabel(\"tour de cuisse\")\n",
    "plt.ylabel(\"largeur des hanches\")\n",
    "plt.show()"
   ]
  },
  {
   "cell_type": "code",
   "execution_count": 13,
   "id": "f580b198-103c-4838-b9e2-9d5096b06696",
   "metadata": {
    "execution": {
     "iopub.execute_input": "2025-07-24T08:32:17.461965Z",
     "iopub.status.busy": "2025-07-24T08:32:17.460960Z",
     "iopub.status.idle": "2025-07-24T08:32:18.749664Z",
     "shell.execute_reply": "2025-07-24T08:32:18.746634Z",
     "shell.execute_reply.started": "2025-07-24T08:32:17.461965Z"
    }
   },
   "outputs": [],
   "source": [
    "import pandas as pd\n",
    "\n",
    "def classifier_morphologie(row):\n",
    "    # Extraction des mesures\n",
    "    tour_ventre = row['tour_de_ventre_maximal']\n",
    "    tour_taille = row['tour_de_taille']\n",
    "    tour_poitrine = row['tour_de_poitrine']\n",
    "    tour_cuisse = row['tour_de_cuisse']\n",
    "    largeur_hanches = row['largeur_des_hanches']\n",
    "    \n",
    "    # --- Catégorie VENTRE (basée sur le ratio ventre/taille) ---\n",
    "    if tour_taille < 75:\n",
    "        ventre = \"plat\"\n",
    "    elif tour_taille < 90:\n",
    "        ventre = \"moyen\"\n",
    "    else:\n",
    "        ventre = \"rond\"\n",
    "    \n",
    "    # --- Catégorie TORSE (basée sur le tour de poitrine seul ou comparé à la taille) ---\n",
    "    if tour_poitrine < 85:\n",
    "        torse = \"fin\"\n",
    "    elif tour_poitrine < 100:\n",
    "        torse = \"moyen\"\n",
    "    else:\n",
    "        torse = \"large\"\n",
    "    \n",
    "    # --- Catégorie CUISSES (ratio cuisse / hanches) ---\n",
    "    ratio_cuisse = tour_cuisse / largeur_hanches\n",
    "    if ratio_cuisse < 0.55:\n",
    "        cuisses = \"fines\"\n",
    "    elif ratio_cuisse < 0.65:\n",
    "        cuisses = \"moyennes\"\n",
    "    else:\n",
    "        cuisses = \"larges\"\n",
    "    \n",
    "    return pd.Series([ventre, torse, cuisses], \n",
    "                     index=['categorie_ventre', 'categorie_torse', 'categorie_cuisses'])\n",
    "    \n",
    "# Remplace `df` par le nom de ton DataFrame\n",
    "data[['categorie_ventre', 'categorie_torse', 'categorie_cuisses']] = data.apply(classifier_morphologie, axis=1)"
   ]
  },
  {
   "cell_type": "code",
   "execution_count": 14,
   "id": "a939345a-cb7a-46df-9597-57ce48dc97b1",
   "metadata": {
    "execution": {
     "iopub.execute_input": "2025-07-24T08:32:23.165529Z",
     "iopub.status.busy": "2025-07-24T08:32:23.165529Z",
     "iopub.status.idle": "2025-07-24T08:32:23.207644Z",
     "shell.execute_reply": "2025-07-24T08:32:23.205645Z",
     "shell.execute_reply.started": "2025-07-24T08:32:23.165529Z"
    }
   },
   "outputs": [
    {
     "data": {
      "text/html": [
       "<div>\n",
       "<style scoped>\n",
       "    .dataframe tbody tr th:only-of-type {\n",
       "        vertical-align: middle;\n",
       "    }\n",
       "\n",
       "    .dataframe tbody tr th {\n",
       "        vertical-align: top;\n",
       "    }\n",
       "\n",
       "    .dataframe thead th {\n",
       "        text-align: right;\n",
       "    }\n",
       "</style>\n",
       "<table border=\"1\" class=\"dataframe\">\n",
       "  <thead>\n",
       "    <tr style=\"text-align: right;\">\n",
       "      <th></th>\n",
       "      <th>taille</th>\n",
       "      <th>age</th>\n",
       "      <th>weight</th>\n",
       "      <th>sex</th>\n",
       "      <th>tour_de_cheville</th>\n",
       "      <th>longueur_du_bras</th>\n",
       "      <th>largeur_du_dos</th>\n",
       "      <th>tour_de_ventre_maximal</th>\n",
       "      <th>tour_de_poitrine</th>\n",
       "      <th>tour_de_poitrine_mesure_a_la_main</th>\n",
       "      <th>...</th>\n",
       "      <th>longueur_de_sous_poitrine</th>\n",
       "      <th>largeur_de_la_taille</th>\n",
       "      <th>tour_de_poignet</th>\n",
       "      <th>largeur_du_bassin</th>\n",
       "      <th>profondeur_de_poitrine</th>\n",
       "      <th>tour_d_epaule</th>\n",
       "      <th>longueur_d_avant_bras</th>\n",
       "      <th>categorie_ventre</th>\n",
       "      <th>categorie_torse</th>\n",
       "      <th>categorie_cuisses</th>\n",
       "    </tr>\n",
       "  </thead>\n",
       "  <tbody>\n",
       "    <tr>\n",
       "      <th>3417</th>\n",
       "      <td>175.0060</td>\n",
       "      <td>33.7</td>\n",
       "      <td>74.398160</td>\n",
       "      <td>1.0</td>\n",
       "      <td>26.0096</td>\n",
       "      <td>60.1980</td>\n",
       "      <td>41.8846</td>\n",
       "      <td>0</td>\n",
       "      <td>100.5078</td>\n",
       "      <td>NaN</td>\n",
       "      <td>...</td>\n",
       "      <td>0</td>\n",
       "      <td>0</td>\n",
       "      <td>0</td>\n",
       "      <td>0</td>\n",
       "      <td>0</td>\n",
       "      <td>0</td>\n",
       "      <td>0</td>\n",
       "      <td>moyen</td>\n",
       "      <td>large</td>\n",
       "      <td>larges</td>\n",
       "    </tr>\n",
       "    <tr>\n",
       "      <th>1955</th>\n",
       "      <td>188.5950</td>\n",
       "      <td>23.0</td>\n",
       "      <td>77.001778</td>\n",
       "      <td>1.0</td>\n",
       "      <td>25.2984</td>\n",
       "      <td>67.0052</td>\n",
       "      <td>40.2590</td>\n",
       "      <td>0</td>\n",
       "      <td>101.6000</td>\n",
       "      <td>NaN</td>\n",
       "      <td>...</td>\n",
       "      <td>0</td>\n",
       "      <td>0</td>\n",
       "      <td>0</td>\n",
       "      <td>0</td>\n",
       "      <td>0</td>\n",
       "      <td>0</td>\n",
       "      <td>0</td>\n",
       "      <td>moyen</td>\n",
       "      <td>large</td>\n",
       "      <td>larges</td>\n",
       "    </tr>\n",
       "    <tr>\n",
       "      <th>367</th>\n",
       "      <td>164.7952</td>\n",
       "      <td>35.0</td>\n",
       "      <td>61.915308</td>\n",
       "      <td>1.0</td>\n",
       "      <td>23.7998</td>\n",
       "      <td>57.7088</td>\n",
       "      <td>39.4970</td>\n",
       "      <td>0</td>\n",
       "      <td>85.8012</td>\n",
       "      <td>NaN</td>\n",
       "      <td>...</td>\n",
       "      <td>0</td>\n",
       "      <td>0</td>\n",
       "      <td>0</td>\n",
       "      <td>0</td>\n",
       "      <td>0</td>\n",
       "      <td>0</td>\n",
       "      <td>0</td>\n",
       "      <td>moyen</td>\n",
       "      <td>moyen</td>\n",
       "      <td>larges</td>\n",
       "    </tr>\n",
       "    <tr>\n",
       "      <th>1828</th>\n",
       "      <td>171.3992</td>\n",
       "      <td>25.0</td>\n",
       "      <td>67.997977</td>\n",
       "      <td>1.0</td>\n",
       "      <td>26.4922</td>\n",
       "      <td>59.6900</td>\n",
       "      <td>40.5892</td>\n",
       "      <td>0</td>\n",
       "      <td>91.9988</td>\n",
       "      <td>NaN</td>\n",
       "      <td>...</td>\n",
       "      <td>0</td>\n",
       "      <td>0</td>\n",
       "      <td>0</td>\n",
       "      <td>0</td>\n",
       "      <td>0</td>\n",
       "      <td>0</td>\n",
       "      <td>0</td>\n",
       "      <td>moyen</td>\n",
       "      <td>moyen</td>\n",
       "      <td>larges</td>\n",
       "    </tr>\n",
       "    <tr>\n",
       "      <th>2515</th>\n",
       "      <td>174.5996</td>\n",
       "      <td>38.0</td>\n",
       "      <td>71.440740</td>\n",
       "      <td>1.0</td>\n",
       "      <td>26.6954</td>\n",
       "      <td>60.0964</td>\n",
       "      <td>43.9674</td>\n",
       "      <td>0</td>\n",
       "      <td>96.0120</td>\n",
       "      <td>NaN</td>\n",
       "      <td>...</td>\n",
       "      <td>0</td>\n",
       "      <td>0</td>\n",
       "      <td>0</td>\n",
       "      <td>0</td>\n",
       "      <td>0</td>\n",
       "      <td>0</td>\n",
       "      <td>0</td>\n",
       "      <td>moyen</td>\n",
       "      <td>moyen</td>\n",
       "      <td>larges</td>\n",
       "    </tr>\n",
       "  </tbody>\n",
       "</table>\n",
       "<p>5 rows × 47 columns</p>\n",
       "</div>"
      ],
      "text/plain": [
       "        taille   age     weight  sex  tour_de_cheville  longueur_du_bras  \\\n",
       "3417  175.0060  33.7  74.398160  1.0           26.0096           60.1980   \n",
       "1955  188.5950  23.0  77.001778  1.0           25.2984           67.0052   \n",
       "367   164.7952  35.0  61.915308  1.0           23.7998           57.7088   \n",
       "1828  171.3992  25.0  67.997977  1.0           26.4922           59.6900   \n",
       "2515  174.5996  38.0  71.440740  1.0           26.6954           60.0964   \n",
       "\n",
       "      largeur_du_dos  tour_de_ventre_maximal  tour_de_poitrine  \\\n",
       "3417         41.8846                       0          100.5078   \n",
       "1955         40.2590                       0          101.6000   \n",
       "367          39.4970                       0           85.8012   \n",
       "1828         40.5892                       0           91.9988   \n",
       "2515         43.9674                       0           96.0120   \n",
       "\n",
       "      tour_de_poitrine_mesure_a_la_main  ...  longueur_de_sous_poitrine  \\\n",
       "3417                                NaN  ...                          0   \n",
       "1955                                NaN  ...                          0   \n",
       "367                                 NaN  ...                          0   \n",
       "1828                                NaN  ...                          0   \n",
       "2515                                NaN  ...                          0   \n",
       "\n",
       "      largeur_de_la_taille  tour_de_poignet  largeur_du_bassin  \\\n",
       "3417                     0                0                  0   \n",
       "1955                     0                0                  0   \n",
       "367                      0                0                  0   \n",
       "1828                     0                0                  0   \n",
       "2515                     0                0                  0   \n",
       "\n",
       "      profondeur_de_poitrine  tour_d_epaule  longueur_d_avant_bras  \\\n",
       "3417                       0              0                      0   \n",
       "1955                       0              0                      0   \n",
       "367                        0              0                      0   \n",
       "1828                       0              0                      0   \n",
       "2515                       0              0                      0   \n",
       "\n",
       "      categorie_ventre  categorie_torse  categorie_cuisses  \n",
       "3417             moyen            large             larges  \n",
       "1955             moyen            large             larges  \n",
       "367              moyen            moyen             larges  \n",
       "1828             moyen            moyen             larges  \n",
       "2515             moyen            moyen             larges  \n",
       "\n",
       "[5 rows x 47 columns]"
      ]
     },
     "execution_count": 14,
     "metadata": {},
     "output_type": "execute_result"
    }
   ],
   "source": [
    "data.head()"
   ]
  },
  {
   "cell_type": "code",
   "execution_count": 15,
   "id": "deaed3b8-c5c8-4a39-b971-62bc78417a90",
   "metadata": {
    "execution": {
     "iopub.execute_input": "2025-07-24T08:32:23.865053Z",
     "iopub.status.busy": "2025-07-24T08:32:23.864040Z",
     "iopub.status.idle": "2025-07-24T08:32:23.889194Z",
     "shell.execute_reply": "2025-07-24T08:32:23.887207Z",
     "shell.execute_reply.started": "2025-07-24T08:32:23.865053Z"
    }
   },
   "outputs": [],
   "source": [
    "data=data.loc[:, (data != 0).any()]"
   ]
  },
  {
   "cell_type": "code",
   "execution_count": 16,
   "id": "6ffb3514-6df3-4436-a7ae-cb83afe251f1",
   "metadata": {
    "execution": {
     "iopub.execute_input": "2025-07-24T08:32:25.075787Z",
     "iopub.status.busy": "2025-07-24T08:32:25.074296Z",
     "iopub.status.idle": "2025-07-24T08:32:25.113128Z",
     "shell.execute_reply": "2025-07-24T08:32:25.111609Z",
     "shell.execute_reply.started": "2025-07-24T08:32:25.075787Z"
    }
   },
   "outputs": [
    {
     "data": {
      "text/html": [
       "<div>\n",
       "<style scoped>\n",
       "    .dataframe tbody tr th:only-of-type {\n",
       "        vertical-align: middle;\n",
       "    }\n",
       "\n",
       "    .dataframe tbody tr th {\n",
       "        vertical-align: top;\n",
       "    }\n",
       "\n",
       "    .dataframe thead th {\n",
       "        text-align: right;\n",
       "    }\n",
       "</style>\n",
       "<table border=\"1\" class=\"dataframe\">\n",
       "  <thead>\n",
       "    <tr style=\"text-align: right;\">\n",
       "      <th></th>\n",
       "      <th>taille</th>\n",
       "      <th>age</th>\n",
       "      <th>weight</th>\n",
       "      <th>sex</th>\n",
       "      <th>tour_de_cheville</th>\n",
       "      <th>longueur_du_bras</th>\n",
       "      <th>largeur_du_dos</th>\n",
       "      <th>tour_de_poitrine</th>\n",
       "      <th>tour_de_poitrine_mesure_a_la_main</th>\n",
       "      <th>hauteur_de_poitrine</th>\n",
       "      <th>...</th>\n",
       "      <th>largeur_d_epaule</th>\n",
       "      <th>hauteur_des_epaules</th>\n",
       "      <th>largeur_des_epaules_a_l_horizontales</th>\n",
       "      <th>longueur_de_la_colonne_vertebrale_jusqu_au_poignet</th>\n",
       "      <th>tour_de_cuisse</th>\n",
       "      <th>tour_de_taille</th>\n",
       "      <th>hauteur_de_la_taille</th>\n",
       "      <th>categorie_ventre</th>\n",
       "      <th>categorie_torse</th>\n",
       "      <th>categorie_cuisses</th>\n",
       "    </tr>\n",
       "  </thead>\n",
       "  <tbody>\n",
       "    <tr>\n",
       "      <th>3417</th>\n",
       "      <td>175.0060</td>\n",
       "      <td>33.7</td>\n",
       "      <td>74.398160</td>\n",
       "      <td>1.0</td>\n",
       "      <td>26.0096</td>\n",
       "      <td>60.1980</td>\n",
       "      <td>41.8846</td>\n",
       "      <td>100.5078</td>\n",
       "      <td>NaN</td>\n",
       "      <td>126.7968</td>\n",
       "      <td>...</td>\n",
       "      <td>41.8846</td>\n",
       "      <td>145.5928</td>\n",
       "      <td>46.8884</td>\n",
       "      <td>81.6102</td>\n",
       "      <td>57.9882</td>\n",
       "      <td>84.9884</td>\n",
       "      <td>102.3112</td>\n",
       "      <td>moyen</td>\n",
       "      <td>large</td>\n",
       "      <td>larges</td>\n",
       "    </tr>\n",
       "    <tr>\n",
       "      <th>1955</th>\n",
       "      <td>188.5950</td>\n",
       "      <td>23.0</td>\n",
       "      <td>77.001778</td>\n",
       "      <td>1.0</td>\n",
       "      <td>25.2984</td>\n",
       "      <td>67.0052</td>\n",
       "      <td>40.2590</td>\n",
       "      <td>101.6000</td>\n",
       "      <td>NaN</td>\n",
       "      <td>135.4074</td>\n",
       "      <td>...</td>\n",
       "      <td>40.2590</td>\n",
       "      <td>152.9842</td>\n",
       "      <td>47.4980</td>\n",
       "      <td>86.5124</td>\n",
       "      <td>58.2930</td>\n",
       "      <td>82.1944</td>\n",
       "      <td>113.7920</td>\n",
       "      <td>moyen</td>\n",
       "      <td>large</td>\n",
       "      <td>larges</td>\n",
       "    </tr>\n",
       "    <tr>\n",
       "      <th>367</th>\n",
       "      <td>164.7952</td>\n",
       "      <td>35.0</td>\n",
       "      <td>61.915308</td>\n",
       "      <td>1.0</td>\n",
       "      <td>23.7998</td>\n",
       "      <td>57.7088</td>\n",
       "      <td>39.4970</td>\n",
       "      <td>85.8012</td>\n",
       "      <td>NaN</td>\n",
       "      <td>119.2022</td>\n",
       "      <td>...</td>\n",
       "      <td>39.4970</td>\n",
       "      <td>133.7945</td>\n",
       "      <td>45.8978</td>\n",
       "      <td>78.8924</td>\n",
       "      <td>55.3974</td>\n",
       "      <td>77.1906</td>\n",
       "      <td>93.8022</td>\n",
       "      <td>moyen</td>\n",
       "      <td>moyen</td>\n",
       "      <td>larges</td>\n",
       "    </tr>\n",
       "    <tr>\n",
       "      <th>1828</th>\n",
       "      <td>171.3992</td>\n",
       "      <td>25.0</td>\n",
       "      <td>67.997977</td>\n",
       "      <td>1.0</td>\n",
       "      <td>26.4922</td>\n",
       "      <td>59.6900</td>\n",
       "      <td>40.5892</td>\n",
       "      <td>91.9988</td>\n",
       "      <td>NaN</td>\n",
       "      <td>123.2408</td>\n",
       "      <td>...</td>\n",
       "      <td>40.5892</td>\n",
       "      <td>137.9982</td>\n",
       "      <td>45.2882</td>\n",
       "      <td>82.7024</td>\n",
       "      <td>53.3908</td>\n",
       "      <td>83.3882</td>\n",
       "      <td>97.9932</td>\n",
       "      <td>moyen</td>\n",
       "      <td>moyen</td>\n",
       "      <td>larges</td>\n",
       "    </tr>\n",
       "    <tr>\n",
       "      <th>2515</th>\n",
       "      <td>174.5996</td>\n",
       "      <td>38.0</td>\n",
       "      <td>71.440740</td>\n",
       "      <td>1.0</td>\n",
       "      <td>26.6954</td>\n",
       "      <td>60.0964</td>\n",
       "      <td>43.9674</td>\n",
       "      <td>96.0120</td>\n",
       "      <td>NaN</td>\n",
       "      <td>125.8062</td>\n",
       "      <td>...</td>\n",
       "      <td>43.9674</td>\n",
       "      <td>138.5951</td>\n",
       "      <td>48.1076</td>\n",
       "      <td>81.7880</td>\n",
       "      <td>57.8104</td>\n",
       "      <td>79.5020</td>\n",
       "      <td>99.3902</td>\n",
       "      <td>moyen</td>\n",
       "      <td>moyen</td>\n",
       "      <td>larges</td>\n",
       "    </tr>\n",
       "  </tbody>\n",
       "</table>\n",
       "<p>5 rows × 26 columns</p>\n",
       "</div>"
      ],
      "text/plain": [
       "        taille   age     weight  sex  tour_de_cheville  longueur_du_bras  \\\n",
       "3417  175.0060  33.7  74.398160  1.0           26.0096           60.1980   \n",
       "1955  188.5950  23.0  77.001778  1.0           25.2984           67.0052   \n",
       "367   164.7952  35.0  61.915308  1.0           23.7998           57.7088   \n",
       "1828  171.3992  25.0  67.997977  1.0           26.4922           59.6900   \n",
       "2515  174.5996  38.0  71.440740  1.0           26.6954           60.0964   \n",
       "\n",
       "      largeur_du_dos  tour_de_poitrine  tour_de_poitrine_mesure_a_la_main  \\\n",
       "3417         41.8846          100.5078                                NaN   \n",
       "1955         40.2590          101.6000                                NaN   \n",
       "367          39.4970           85.8012                                NaN   \n",
       "1828         40.5892           91.9988                                NaN   \n",
       "2515         43.9674           96.0120                                NaN   \n",
       "\n",
       "      hauteur_de_poitrine  ...  largeur_d_epaule  hauteur_des_epaules  \\\n",
       "3417             126.7968  ...           41.8846             145.5928   \n",
       "1955             135.4074  ...           40.2590             152.9842   \n",
       "367              119.2022  ...           39.4970             133.7945   \n",
       "1828             123.2408  ...           40.5892             137.9982   \n",
       "2515             125.8062  ...           43.9674             138.5951   \n",
       "\n",
       "      largeur_des_epaules_a_l_horizontales  \\\n",
       "3417                               46.8884   \n",
       "1955                               47.4980   \n",
       "367                                45.8978   \n",
       "1828                               45.2882   \n",
       "2515                               48.1076   \n",
       "\n",
       "      longueur_de_la_colonne_vertebrale_jusqu_au_poignet  tour_de_cuisse  \\\n",
       "3417                                            81.6102          57.9882   \n",
       "1955                                            86.5124          58.2930   \n",
       "367                                             78.8924          55.3974   \n",
       "1828                                            82.7024          53.3908   \n",
       "2515                                            81.7880          57.8104   \n",
       "\n",
       "      tour_de_taille  hauteur_de_la_taille  categorie_ventre  categorie_torse  \\\n",
       "3417         84.9884              102.3112             moyen            large   \n",
       "1955         82.1944              113.7920             moyen            large   \n",
       "367          77.1906               93.8022             moyen            moyen   \n",
       "1828         83.3882               97.9932             moyen            moyen   \n",
       "2515         79.5020               99.3902             moyen            moyen   \n",
       "\n",
       "      categorie_cuisses  \n",
       "3417             larges  \n",
       "1955             larges  \n",
       "367              larges  \n",
       "1828             larges  \n",
       "2515             larges  \n",
       "\n",
       "[5 rows x 26 columns]"
      ]
     },
     "execution_count": 16,
     "metadata": {},
     "output_type": "execute_result"
    }
   ],
   "source": [
    "data.head()"
   ]
  },
  {
   "cell_type": "code",
   "execution_count": 17,
   "id": "27892ae7-700f-4bdb-a2ba-bac75e18ff20",
   "metadata": {
    "execution": {
     "iopub.execute_input": "2025-07-24T08:32:25.742293Z",
     "iopub.status.busy": "2025-07-24T08:32:25.741310Z",
     "iopub.status.idle": "2025-07-24T08:32:25.767115Z",
     "shell.execute_reply": "2025-07-24T08:32:25.765117Z",
     "shell.execute_reply.started": "2025-07-24T08:32:25.742293Z"
    }
   },
   "outputs": [],
   "source": [
    "data = data.dropna(how='all', axis=1)"
   ]
  },
  {
   "cell_type": "code",
   "execution_count": 18,
   "id": "a9d12e36-a5f7-45cd-91ec-84dc4f71cb7e",
   "metadata": {
    "execution": {
     "iopub.execute_input": "2025-07-24T08:32:26.587761Z",
     "iopub.status.busy": "2025-07-24T08:32:26.586761Z",
     "iopub.status.idle": "2025-07-24T08:32:26.654888Z",
     "shell.execute_reply": "2025-07-24T08:32:26.652366Z",
     "shell.execute_reply.started": "2025-07-24T08:32:26.586761Z"
    }
   },
   "outputs": [
    {
     "data": {
      "text/html": [
       "<div>\n",
       "<style scoped>\n",
       "    .dataframe tbody tr th:only-of-type {\n",
       "        vertical-align: middle;\n",
       "    }\n",
       "\n",
       "    .dataframe tbody tr th {\n",
       "        vertical-align: top;\n",
       "    }\n",
       "\n",
       "    .dataframe thead th {\n",
       "        text-align: right;\n",
       "    }\n",
       "</style>\n",
       "<table border=\"1\" class=\"dataframe\">\n",
       "  <thead>\n",
       "    <tr style=\"text-align: right;\">\n",
       "      <th></th>\n",
       "      <th>taille</th>\n",
       "      <th>age</th>\n",
       "      <th>weight</th>\n",
       "      <th>sex</th>\n",
       "      <th>tour_de_cheville</th>\n",
       "      <th>longueur_du_bras</th>\n",
       "      <th>largeur_du_dos</th>\n",
       "      <th>tour_de_poitrine</th>\n",
       "      <th>hauteur_de_poitrine</th>\n",
       "      <th>hauteur_d_entrejambe</th>\n",
       "      <th>...</th>\n",
       "      <th>largeur_d_epaule</th>\n",
       "      <th>hauteur_des_epaules</th>\n",
       "      <th>largeur_des_epaules_a_l_horizontales</th>\n",
       "      <th>longueur_de_la_colonne_vertebrale_jusqu_au_poignet</th>\n",
       "      <th>tour_de_cuisse</th>\n",
       "      <th>tour_de_taille</th>\n",
       "      <th>hauteur_de_la_taille</th>\n",
       "      <th>categorie_ventre</th>\n",
       "      <th>categorie_torse</th>\n",
       "      <th>categorie_cuisses</th>\n",
       "    </tr>\n",
       "  </thead>\n",
       "  <tbody>\n",
       "    <tr>\n",
       "      <th>3417</th>\n",
       "      <td>175.0060</td>\n",
       "      <td>33.7</td>\n",
       "      <td>74.398160</td>\n",
       "      <td>1.0</td>\n",
       "      <td>26.0096</td>\n",
       "      <td>60.1980</td>\n",
       "      <td>41.8846</td>\n",
       "      <td>100.5078</td>\n",
       "      <td>126.7968</td>\n",
       "      <td>78.6892</td>\n",
       "      <td>...</td>\n",
       "      <td>41.8846</td>\n",
       "      <td>145.5928</td>\n",
       "      <td>46.8884</td>\n",
       "      <td>81.6102</td>\n",
       "      <td>57.9882</td>\n",
       "      <td>84.9884</td>\n",
       "      <td>102.3112</td>\n",
       "      <td>moyen</td>\n",
       "      <td>large</td>\n",
       "      <td>larges</td>\n",
       "    </tr>\n",
       "    <tr>\n",
       "      <th>1955</th>\n",
       "      <td>188.5950</td>\n",
       "      <td>23.0</td>\n",
       "      <td>77.001778</td>\n",
       "      <td>1.0</td>\n",
       "      <td>25.2984</td>\n",
       "      <td>67.0052</td>\n",
       "      <td>40.2590</td>\n",
       "      <td>101.6000</td>\n",
       "      <td>135.4074</td>\n",
       "      <td>87.6046</td>\n",
       "      <td>...</td>\n",
       "      <td>40.2590</td>\n",
       "      <td>152.9842</td>\n",
       "      <td>47.4980</td>\n",
       "      <td>86.5124</td>\n",
       "      <td>58.2930</td>\n",
       "      <td>82.1944</td>\n",
       "      <td>113.7920</td>\n",
       "      <td>moyen</td>\n",
       "      <td>large</td>\n",
       "      <td>larges</td>\n",
       "    </tr>\n",
       "    <tr>\n",
       "      <th>367</th>\n",
       "      <td>164.7952</td>\n",
       "      <td>35.0</td>\n",
       "      <td>61.915308</td>\n",
       "      <td>1.0</td>\n",
       "      <td>23.7998</td>\n",
       "      <td>57.7088</td>\n",
       "      <td>39.4970</td>\n",
       "      <td>85.8012</td>\n",
       "      <td>119.2022</td>\n",
       "      <td>70.7898</td>\n",
       "      <td>...</td>\n",
       "      <td>39.4970</td>\n",
       "      <td>133.7945</td>\n",
       "      <td>45.8978</td>\n",
       "      <td>78.8924</td>\n",
       "      <td>55.3974</td>\n",
       "      <td>77.1906</td>\n",
       "      <td>93.8022</td>\n",
       "      <td>moyen</td>\n",
       "      <td>moyen</td>\n",
       "      <td>larges</td>\n",
       "    </tr>\n",
       "    <tr>\n",
       "      <th>1828</th>\n",
       "      <td>171.3992</td>\n",
       "      <td>25.0</td>\n",
       "      <td>67.997977</td>\n",
       "      <td>1.0</td>\n",
       "      <td>26.4922</td>\n",
       "      <td>59.6900</td>\n",
       "      <td>40.5892</td>\n",
       "      <td>91.9988</td>\n",
       "      <td>123.2408</td>\n",
       "      <td>77.6986</td>\n",
       "      <td>...</td>\n",
       "      <td>40.5892</td>\n",
       "      <td>137.9982</td>\n",
       "      <td>45.2882</td>\n",
       "      <td>82.7024</td>\n",
       "      <td>53.3908</td>\n",
       "      <td>83.3882</td>\n",
       "      <td>97.9932</td>\n",
       "      <td>moyen</td>\n",
       "      <td>moyen</td>\n",
       "      <td>larges</td>\n",
       "    </tr>\n",
       "    <tr>\n",
       "      <th>2515</th>\n",
       "      <td>174.5996</td>\n",
       "      <td>38.0</td>\n",
       "      <td>71.440740</td>\n",
       "      <td>1.0</td>\n",
       "      <td>26.6954</td>\n",
       "      <td>60.0964</td>\n",
       "      <td>43.9674</td>\n",
       "      <td>96.0120</td>\n",
       "      <td>125.8062</td>\n",
       "      <td>76.4032</td>\n",
       "      <td>...</td>\n",
       "      <td>43.9674</td>\n",
       "      <td>138.5951</td>\n",
       "      <td>48.1076</td>\n",
       "      <td>81.7880</td>\n",
       "      <td>57.8104</td>\n",
       "      <td>79.5020</td>\n",
       "      <td>99.3902</td>\n",
       "      <td>moyen</td>\n",
       "      <td>moyen</td>\n",
       "      <td>larges</td>\n",
       "    </tr>\n",
       "  </tbody>\n",
       "</table>\n",
       "<p>5 rows × 25 columns</p>\n",
       "</div>"
      ],
      "text/plain": [
       "        taille   age     weight  sex  tour_de_cheville  longueur_du_bras  \\\n",
       "3417  175.0060  33.7  74.398160  1.0           26.0096           60.1980   \n",
       "1955  188.5950  23.0  77.001778  1.0           25.2984           67.0052   \n",
       "367   164.7952  35.0  61.915308  1.0           23.7998           57.7088   \n",
       "1828  171.3992  25.0  67.997977  1.0           26.4922           59.6900   \n",
       "2515  174.5996  38.0  71.440740  1.0           26.6954           60.0964   \n",
       "\n",
       "      largeur_du_dos  tour_de_poitrine  hauteur_de_poitrine  \\\n",
       "3417         41.8846          100.5078             126.7968   \n",
       "1955         40.2590          101.6000             135.4074   \n",
       "367          39.4970           85.8012             119.2022   \n",
       "1828         40.5892           91.9988             123.2408   \n",
       "2515         43.9674           96.0120             125.8062   \n",
       "\n",
       "      hauteur_d_entrejambe  ...  largeur_d_epaule  hauteur_des_epaules  \\\n",
       "3417               78.6892  ...           41.8846             145.5928   \n",
       "1955               87.6046  ...           40.2590             152.9842   \n",
       "367                70.7898  ...           39.4970             133.7945   \n",
       "1828               77.6986  ...           40.5892             137.9982   \n",
       "2515               76.4032  ...           43.9674             138.5951   \n",
       "\n",
       "      largeur_des_epaules_a_l_horizontales  \\\n",
       "3417                               46.8884   \n",
       "1955                               47.4980   \n",
       "367                                45.8978   \n",
       "1828                               45.2882   \n",
       "2515                               48.1076   \n",
       "\n",
       "      longueur_de_la_colonne_vertebrale_jusqu_au_poignet  tour_de_cuisse  \\\n",
       "3417                                            81.6102          57.9882   \n",
       "1955                                            86.5124          58.2930   \n",
       "367                                             78.8924          55.3974   \n",
       "1828                                            82.7024          53.3908   \n",
       "2515                                            81.7880          57.8104   \n",
       "\n",
       "      tour_de_taille  hauteur_de_la_taille  categorie_ventre  categorie_torse  \\\n",
       "3417         84.9884              102.3112             moyen            large   \n",
       "1955         82.1944              113.7920             moyen            large   \n",
       "367          77.1906               93.8022             moyen            moyen   \n",
       "1828         83.3882               97.9932             moyen            moyen   \n",
       "2515         79.5020               99.3902             moyen            moyen   \n",
       "\n",
       "      categorie_cuisses  \n",
       "3417             larges  \n",
       "1955             larges  \n",
       "367              larges  \n",
       "1828             larges  \n",
       "2515             larges  \n",
       "\n",
       "[5 rows x 25 columns]"
      ]
     },
     "execution_count": 18,
     "metadata": {},
     "output_type": "execute_result"
    }
   ],
   "source": [
    "data.head()"
   ]
  },
  {
   "cell_type": "code",
   "execution_count": 19,
   "id": "3f555af4-44fc-4eff-8127-1bf0dbb41d68",
   "metadata": {
    "execution": {
     "iopub.execute_input": "2025-07-24T08:32:27.529474Z",
     "iopub.status.busy": "2025-07-24T08:32:27.528475Z",
     "iopub.status.idle": "2025-07-24T08:32:27.600148Z",
     "shell.execute_reply": "2025-07-24T08:32:27.598210Z",
     "shell.execute_reply.started": "2025-07-24T08:32:27.529474Z"
    }
   },
   "outputs": [
    {
     "data": {
      "text/html": [
       "<div>\n",
       "<style scoped>\n",
       "    .dataframe tbody tr th:only-of-type {\n",
       "        vertical-align: middle;\n",
       "    }\n",
       "\n",
       "    .dataframe tbody tr th {\n",
       "        vertical-align: top;\n",
       "    }\n",
       "\n",
       "    .dataframe thead th {\n",
       "        text-align: right;\n",
       "    }\n",
       "</style>\n",
       "<table border=\"1\" class=\"dataframe\">\n",
       "  <thead>\n",
       "    <tr style=\"text-align: right;\">\n",
       "      <th></th>\n",
       "      <th>taille</th>\n",
       "      <th>age</th>\n",
       "      <th>weight</th>\n",
       "      <th>sex</th>\n",
       "      <th>tour_de_cheville</th>\n",
       "      <th>longueur_du_bras</th>\n",
       "      <th>largeur_du_dos</th>\n",
       "      <th>tour_de_poitrine</th>\n",
       "      <th>hauteur_de_poitrine</th>\n",
       "      <th>hauteur_d_entrejambe</th>\n",
       "      <th>...</th>\n",
       "      <th>largeur_d_epaule</th>\n",
       "      <th>hauteur_des_epaules</th>\n",
       "      <th>largeur_des_epaules_a_l_horizontales</th>\n",
       "      <th>longueur_de_la_colonne_vertebrale_jusqu_au_poignet</th>\n",
       "      <th>tour_de_cuisse</th>\n",
       "      <th>tour_de_taille</th>\n",
       "      <th>hauteur_de_la_taille</th>\n",
       "      <th>categorie_ventre</th>\n",
       "      <th>categorie_torse</th>\n",
       "      <th>categorie_cuisses</th>\n",
       "    </tr>\n",
       "  </thead>\n",
       "  <tbody>\n",
       "    <tr>\n",
       "      <th>3417</th>\n",
       "      <td>175.0060</td>\n",
       "      <td>33.7</td>\n",
       "      <td>74.398160</td>\n",
       "      <td>1.0</td>\n",
       "      <td>26.0096</td>\n",
       "      <td>60.1980</td>\n",
       "      <td>41.8846</td>\n",
       "      <td>100.5078</td>\n",
       "      <td>126.7968</td>\n",
       "      <td>78.6892</td>\n",
       "      <td>...</td>\n",
       "      <td>41.8846</td>\n",
       "      <td>145.5928</td>\n",
       "      <td>46.8884</td>\n",
       "      <td>81.6102</td>\n",
       "      <td>57.9882</td>\n",
       "      <td>84.9884</td>\n",
       "      <td>102.3112</td>\n",
       "      <td>moyen</td>\n",
       "      <td>large</td>\n",
       "      <td>larges</td>\n",
       "    </tr>\n",
       "    <tr>\n",
       "      <th>1955</th>\n",
       "      <td>188.5950</td>\n",
       "      <td>23.0</td>\n",
       "      <td>77.001778</td>\n",
       "      <td>1.0</td>\n",
       "      <td>25.2984</td>\n",
       "      <td>67.0052</td>\n",
       "      <td>40.2590</td>\n",
       "      <td>101.6000</td>\n",
       "      <td>135.4074</td>\n",
       "      <td>87.6046</td>\n",
       "      <td>...</td>\n",
       "      <td>40.2590</td>\n",
       "      <td>152.9842</td>\n",
       "      <td>47.4980</td>\n",
       "      <td>86.5124</td>\n",
       "      <td>58.2930</td>\n",
       "      <td>82.1944</td>\n",
       "      <td>113.7920</td>\n",
       "      <td>moyen</td>\n",
       "      <td>large</td>\n",
       "      <td>larges</td>\n",
       "    </tr>\n",
       "    <tr>\n",
       "      <th>367</th>\n",
       "      <td>164.7952</td>\n",
       "      <td>35.0</td>\n",
       "      <td>61.915308</td>\n",
       "      <td>1.0</td>\n",
       "      <td>23.7998</td>\n",
       "      <td>57.7088</td>\n",
       "      <td>39.4970</td>\n",
       "      <td>85.8012</td>\n",
       "      <td>119.2022</td>\n",
       "      <td>70.7898</td>\n",
       "      <td>...</td>\n",
       "      <td>39.4970</td>\n",
       "      <td>133.7945</td>\n",
       "      <td>45.8978</td>\n",
       "      <td>78.8924</td>\n",
       "      <td>55.3974</td>\n",
       "      <td>77.1906</td>\n",
       "      <td>93.8022</td>\n",
       "      <td>moyen</td>\n",
       "      <td>moyen</td>\n",
       "      <td>larges</td>\n",
       "    </tr>\n",
       "    <tr>\n",
       "      <th>1828</th>\n",
       "      <td>171.3992</td>\n",
       "      <td>25.0</td>\n",
       "      <td>67.997977</td>\n",
       "      <td>1.0</td>\n",
       "      <td>26.4922</td>\n",
       "      <td>59.6900</td>\n",
       "      <td>40.5892</td>\n",
       "      <td>91.9988</td>\n",
       "      <td>123.2408</td>\n",
       "      <td>77.6986</td>\n",
       "      <td>...</td>\n",
       "      <td>40.5892</td>\n",
       "      <td>137.9982</td>\n",
       "      <td>45.2882</td>\n",
       "      <td>82.7024</td>\n",
       "      <td>53.3908</td>\n",
       "      <td>83.3882</td>\n",
       "      <td>97.9932</td>\n",
       "      <td>moyen</td>\n",
       "      <td>moyen</td>\n",
       "      <td>larges</td>\n",
       "    </tr>\n",
       "    <tr>\n",
       "      <th>2515</th>\n",
       "      <td>174.5996</td>\n",
       "      <td>38.0</td>\n",
       "      <td>71.440740</td>\n",
       "      <td>1.0</td>\n",
       "      <td>26.6954</td>\n",
       "      <td>60.0964</td>\n",
       "      <td>43.9674</td>\n",
       "      <td>96.0120</td>\n",
       "      <td>125.8062</td>\n",
       "      <td>76.4032</td>\n",
       "      <td>...</td>\n",
       "      <td>43.9674</td>\n",
       "      <td>138.5951</td>\n",
       "      <td>48.1076</td>\n",
       "      <td>81.7880</td>\n",
       "      <td>57.8104</td>\n",
       "      <td>79.5020</td>\n",
       "      <td>99.3902</td>\n",
       "      <td>moyen</td>\n",
       "      <td>moyen</td>\n",
       "      <td>larges</td>\n",
       "    </tr>\n",
       "  </tbody>\n",
       "</table>\n",
       "<p>5 rows × 25 columns</p>\n",
       "</div>"
      ],
      "text/plain": [
       "        taille   age     weight  sex  tour_de_cheville  longueur_du_bras  \\\n",
       "3417  175.0060  33.7  74.398160  1.0           26.0096           60.1980   \n",
       "1955  188.5950  23.0  77.001778  1.0           25.2984           67.0052   \n",
       "367   164.7952  35.0  61.915308  1.0           23.7998           57.7088   \n",
       "1828  171.3992  25.0  67.997977  1.0           26.4922           59.6900   \n",
       "2515  174.5996  38.0  71.440740  1.0           26.6954           60.0964   \n",
       "\n",
       "      largeur_du_dos  tour_de_poitrine  hauteur_de_poitrine  \\\n",
       "3417         41.8846          100.5078             126.7968   \n",
       "1955         40.2590          101.6000             135.4074   \n",
       "367          39.4970           85.8012             119.2022   \n",
       "1828         40.5892           91.9988             123.2408   \n",
       "2515         43.9674           96.0120             125.8062   \n",
       "\n",
       "      hauteur_d_entrejambe  ...  largeur_d_epaule  hauteur_des_epaules  \\\n",
       "3417               78.6892  ...           41.8846             145.5928   \n",
       "1955               87.6046  ...           40.2590             152.9842   \n",
       "367                70.7898  ...           39.4970             133.7945   \n",
       "1828               77.6986  ...           40.5892             137.9982   \n",
       "2515               76.4032  ...           43.9674             138.5951   \n",
       "\n",
       "      largeur_des_epaules_a_l_horizontales  \\\n",
       "3417                               46.8884   \n",
       "1955                               47.4980   \n",
       "367                                45.8978   \n",
       "1828                               45.2882   \n",
       "2515                               48.1076   \n",
       "\n",
       "      longueur_de_la_colonne_vertebrale_jusqu_au_poignet  tour_de_cuisse  \\\n",
       "3417                                            81.6102          57.9882   \n",
       "1955                                            86.5124          58.2930   \n",
       "367                                             78.8924          55.3974   \n",
       "1828                                            82.7024          53.3908   \n",
       "2515                                            81.7880          57.8104   \n",
       "\n",
       "      tour_de_taille  hauteur_de_la_taille  categorie_ventre  categorie_torse  \\\n",
       "3417         84.9884              102.3112             moyen            large   \n",
       "1955         82.1944              113.7920             moyen            large   \n",
       "367          77.1906               93.8022             moyen            moyen   \n",
       "1828         83.3882               97.9932             moyen            moyen   \n",
       "2515         79.5020               99.3902             moyen            moyen   \n",
       "\n",
       "      categorie_cuisses  \n",
       "3417             larges  \n",
       "1955             larges  \n",
       "367              larges  \n",
       "1828             larges  \n",
       "2515             larges  \n",
       "\n",
       "[5 rows x 25 columns]"
      ]
     },
     "execution_count": 19,
     "metadata": {},
     "output_type": "execute_result"
    }
   ],
   "source": [
    "import pandas as pd\n",
    "import numpy as np\n",
    "\n",
    "def remplacer_nan_par_moyenne(df):\n",
    "    for col in df.columns:\n",
    "        if pd.api.types.is_numeric_dtype(df[col]):\n",
    "            moyenne = df[col].mean(skipna=True)\n",
    "            df[col] = df[col].fillna(moyenne)\n",
    "    return df\n",
    "\n",
    "data = remplacer_nan_par_moyenne(data)\n",
    "data.head()"
   ]
  },
  {
   "cell_type": "code",
   "execution_count": 20,
   "id": "862ff022-679c-4408-8896-1b6807ce6050",
   "metadata": {
    "execution": {
     "iopub.execute_input": "2025-07-24T08:32:28.522331Z",
     "iopub.status.busy": "2025-07-24T08:32:28.521395Z",
     "iopub.status.idle": "2025-07-24T08:32:38.731989Z",
     "shell.execute_reply": "2025-07-24T08:32:38.729985Z",
     "shell.execute_reply.started": "2025-07-24T08:32:28.521395Z"
    }
   },
   "outputs": [
    {
     "name": "stdout",
     "output_type": "stream",
     "text": [
      "Valeurs uniques pour 'categorie_ventre' : ['moyen' 'rond' 'plat']\n",
      "Valeurs uniques pour 'categorie_torse' : ['large' 'moyen' 'fin']\n",
      "Valeurs uniques pour 'categorie_cuisses' : ['larges']\n"
     ]
    },
    {
     "data": {
      "text/html": [
       "<div>\n",
       "<style scoped>\n",
       "    .dataframe tbody tr th:only-of-type {\n",
       "        vertical-align: middle;\n",
       "    }\n",
       "\n",
       "    .dataframe tbody tr th {\n",
       "        vertical-align: top;\n",
       "    }\n",
       "\n",
       "    .dataframe thead th {\n",
       "        text-align: right;\n",
       "    }\n",
       "</style>\n",
       "<table border=\"1\" class=\"dataframe\">\n",
       "  <thead>\n",
       "    <tr style=\"text-align: right;\">\n",
       "      <th></th>\n",
       "      <th>taille</th>\n",
       "      <th>age</th>\n",
       "      <th>weight</th>\n",
       "      <th>sex</th>\n",
       "      <th>tour_de_cheville</th>\n",
       "      <th>longueur_du_bras</th>\n",
       "      <th>largeur_du_dos</th>\n",
       "      <th>tour_de_poitrine</th>\n",
       "      <th>hauteur_de_poitrine</th>\n",
       "      <th>hauteur_d_entrejambe</th>\n",
       "      <th>...</th>\n",
       "      <th>tour_de_cuisse</th>\n",
       "      <th>tour_de_taille</th>\n",
       "      <th>hauteur_de_la_taille</th>\n",
       "      <th>categorie_ventre_moyen</th>\n",
       "      <th>categorie_ventre_plat</th>\n",
       "      <th>categorie_ventre_rond</th>\n",
       "      <th>categorie_torse_fin</th>\n",
       "      <th>categorie_torse_large</th>\n",
       "      <th>categorie_torse_moyen</th>\n",
       "      <th>categorie_cuisses_larges</th>\n",
       "    </tr>\n",
       "  </thead>\n",
       "  <tbody>\n",
       "    <tr>\n",
       "      <th>3417</th>\n",
       "      <td>175.0060</td>\n",
       "      <td>33.7</td>\n",
       "      <td>74.398160</td>\n",
       "      <td>1.0</td>\n",
       "      <td>26.0096</td>\n",
       "      <td>60.1980</td>\n",
       "      <td>41.8846</td>\n",
       "      <td>100.5078</td>\n",
       "      <td>126.7968</td>\n",
       "      <td>78.6892</td>\n",
       "      <td>...</td>\n",
       "      <td>57.9882</td>\n",
       "      <td>84.9884</td>\n",
       "      <td>102.3112</td>\n",
       "      <td>1.0</td>\n",
       "      <td>0.0</td>\n",
       "      <td>0.0</td>\n",
       "      <td>0.0</td>\n",
       "      <td>1.0</td>\n",
       "      <td>0.0</td>\n",
       "      <td>1.0</td>\n",
       "    </tr>\n",
       "    <tr>\n",
       "      <th>1955</th>\n",
       "      <td>188.5950</td>\n",
       "      <td>23.0</td>\n",
       "      <td>77.001778</td>\n",
       "      <td>1.0</td>\n",
       "      <td>25.2984</td>\n",
       "      <td>67.0052</td>\n",
       "      <td>40.2590</td>\n",
       "      <td>101.6000</td>\n",
       "      <td>135.4074</td>\n",
       "      <td>87.6046</td>\n",
       "      <td>...</td>\n",
       "      <td>58.2930</td>\n",
       "      <td>82.1944</td>\n",
       "      <td>113.7920</td>\n",
       "      <td>1.0</td>\n",
       "      <td>0.0</td>\n",
       "      <td>0.0</td>\n",
       "      <td>0.0</td>\n",
       "      <td>1.0</td>\n",
       "      <td>0.0</td>\n",
       "      <td>1.0</td>\n",
       "    </tr>\n",
       "    <tr>\n",
       "      <th>367</th>\n",
       "      <td>164.7952</td>\n",
       "      <td>35.0</td>\n",
       "      <td>61.915308</td>\n",
       "      <td>1.0</td>\n",
       "      <td>23.7998</td>\n",
       "      <td>57.7088</td>\n",
       "      <td>39.4970</td>\n",
       "      <td>85.8012</td>\n",
       "      <td>119.2022</td>\n",
       "      <td>70.7898</td>\n",
       "      <td>...</td>\n",
       "      <td>55.3974</td>\n",
       "      <td>77.1906</td>\n",
       "      <td>93.8022</td>\n",
       "      <td>1.0</td>\n",
       "      <td>0.0</td>\n",
       "      <td>0.0</td>\n",
       "      <td>0.0</td>\n",
       "      <td>0.0</td>\n",
       "      <td>1.0</td>\n",
       "      <td>1.0</td>\n",
       "    </tr>\n",
       "    <tr>\n",
       "      <th>1828</th>\n",
       "      <td>171.3992</td>\n",
       "      <td>25.0</td>\n",
       "      <td>67.997977</td>\n",
       "      <td>1.0</td>\n",
       "      <td>26.4922</td>\n",
       "      <td>59.6900</td>\n",
       "      <td>40.5892</td>\n",
       "      <td>91.9988</td>\n",
       "      <td>123.2408</td>\n",
       "      <td>77.6986</td>\n",
       "      <td>...</td>\n",
       "      <td>53.3908</td>\n",
       "      <td>83.3882</td>\n",
       "      <td>97.9932</td>\n",
       "      <td>1.0</td>\n",
       "      <td>0.0</td>\n",
       "      <td>0.0</td>\n",
       "      <td>0.0</td>\n",
       "      <td>0.0</td>\n",
       "      <td>1.0</td>\n",
       "      <td>1.0</td>\n",
       "    </tr>\n",
       "    <tr>\n",
       "      <th>2515</th>\n",
       "      <td>174.5996</td>\n",
       "      <td>38.0</td>\n",
       "      <td>71.440740</td>\n",
       "      <td>1.0</td>\n",
       "      <td>26.6954</td>\n",
       "      <td>60.0964</td>\n",
       "      <td>43.9674</td>\n",
       "      <td>96.0120</td>\n",
       "      <td>125.8062</td>\n",
       "      <td>76.4032</td>\n",
       "      <td>...</td>\n",
       "      <td>57.8104</td>\n",
       "      <td>79.5020</td>\n",
       "      <td>99.3902</td>\n",
       "      <td>1.0</td>\n",
       "      <td>0.0</td>\n",
       "      <td>0.0</td>\n",
       "      <td>0.0</td>\n",
       "      <td>0.0</td>\n",
       "      <td>1.0</td>\n",
       "      <td>1.0</td>\n",
       "    </tr>\n",
       "  </tbody>\n",
       "</table>\n",
       "<p>5 rows × 29 columns</p>\n",
       "</div>"
      ],
      "text/plain": [
       "        taille   age     weight  sex  tour_de_cheville  longueur_du_bras  \\\n",
       "3417  175.0060  33.7  74.398160  1.0           26.0096           60.1980   \n",
       "1955  188.5950  23.0  77.001778  1.0           25.2984           67.0052   \n",
       "367   164.7952  35.0  61.915308  1.0           23.7998           57.7088   \n",
       "1828  171.3992  25.0  67.997977  1.0           26.4922           59.6900   \n",
       "2515  174.5996  38.0  71.440740  1.0           26.6954           60.0964   \n",
       "\n",
       "      largeur_du_dos  tour_de_poitrine  hauteur_de_poitrine  \\\n",
       "3417         41.8846          100.5078             126.7968   \n",
       "1955         40.2590          101.6000             135.4074   \n",
       "367          39.4970           85.8012             119.2022   \n",
       "1828         40.5892           91.9988             123.2408   \n",
       "2515         43.9674           96.0120             125.8062   \n",
       "\n",
       "      hauteur_d_entrejambe  ...  tour_de_cuisse  tour_de_taille  \\\n",
       "3417               78.6892  ...         57.9882         84.9884   \n",
       "1955               87.6046  ...         58.2930         82.1944   \n",
       "367                70.7898  ...         55.3974         77.1906   \n",
       "1828               77.6986  ...         53.3908         83.3882   \n",
       "2515               76.4032  ...         57.8104         79.5020   \n",
       "\n",
       "      hauteur_de_la_taille  categorie_ventre_moyen  categorie_ventre_plat  \\\n",
       "3417              102.3112                     1.0                    0.0   \n",
       "1955              113.7920                     1.0                    0.0   \n",
       "367                93.8022                     1.0                    0.0   \n",
       "1828               97.9932                     1.0                    0.0   \n",
       "2515               99.3902                     1.0                    0.0   \n",
       "\n",
       "      categorie_ventre_rond  categorie_torse_fin  categorie_torse_large  \\\n",
       "3417                    0.0                  0.0                    1.0   \n",
       "1955                    0.0                  0.0                    1.0   \n",
       "367                     0.0                  0.0                    0.0   \n",
       "1828                    0.0                  0.0                    0.0   \n",
       "2515                    0.0                  0.0                    0.0   \n",
       "\n",
       "      categorie_torse_moyen  categorie_cuisses_larges  \n",
       "3417                    0.0                       1.0  \n",
       "1955                    0.0                       1.0  \n",
       "367                     1.0                       1.0  \n",
       "1828                    1.0                       1.0  \n",
       "2515                    1.0                       1.0  \n",
       "\n",
       "[5 rows x 29 columns]"
      ]
     },
     "execution_count": 20,
     "metadata": {},
     "output_type": "execute_result"
    }
   ],
   "source": [
    "from sklearn.preprocessing import OneHotEncoder\n",
    "\n",
    "# Colonnes à encoder\n",
    "colonnes_cat = ['categorie_ventre', 'categorie_torse', 'categorie_cuisses']\n",
    "\n",
    "# Afficher les valeurs uniques pour vérification\n",
    "for col in colonnes_cat:\n",
    "    print(f\"Valeurs uniques pour '{col}' :\", data[col].unique())\n",
    "\n",
    "# Instancier OneHotEncoder avec drop='if_binary' (garde 1 seule colonne pour les colonnes binaires)\n",
    "ohe = OneHotEncoder(sparse_output=False, drop='if_binary')\n",
    "\n",
    "# Fit + transform sur les colonnes sélectionnées\n",
    "encoded_array = ohe.fit_transform(data[colonnes_cat])\n",
    "\n",
    "# Obtenir les noms des nouvelles colonnes générées\n",
    "encoded_col_names = ohe.get_feature_names_out(colonnes_cat)\n",
    "\n",
    "# Créer un DataFrame avec les colonnes encodées\n",
    "df_encoded = pd.DataFrame(encoded_array, columns=encoded_col_names, index=data.index)\n",
    "\n",
    "# Fusionner avec le DataFrame d’origine\n",
    "mesure_sc = pd.concat([data.drop(columns=colonnes_cat), df_encoded], axis=1)\n",
    "\n",
    "# Aperçu du DataFrame final\n",
    "mesure_sc.head()\n"
   ]
  },
  {
   "cell_type": "code",
   "execution_count": 21,
   "id": "740fc9fc-4956-4884-a950-1340ab2263de",
   "metadata": {
    "execution": {
     "iopub.execute_input": "2025-07-24T08:32:38.737544Z",
     "iopub.status.busy": "2025-07-24T08:32:38.736541Z",
     "iopub.status.idle": "2025-07-24T08:32:38.857901Z",
     "shell.execute_reply": "2025-07-24T08:32:38.853164Z",
     "shell.execute_reply.started": "2025-07-24T08:32:38.737544Z"
    }
   },
   "outputs": [
    {
     "data": {
      "text/html": [
       "<div>\n",
       "<style scoped>\n",
       "    .dataframe tbody tr th:only-of-type {\n",
       "        vertical-align: middle;\n",
       "    }\n",
       "\n",
       "    .dataframe tbody tr th {\n",
       "        vertical-align: top;\n",
       "    }\n",
       "\n",
       "    .dataframe thead th {\n",
       "        text-align: right;\n",
       "    }\n",
       "</style>\n",
       "<table border=\"1\" class=\"dataframe\">\n",
       "  <thead>\n",
       "    <tr style=\"text-align: right;\">\n",
       "      <th></th>\n",
       "      <th>taille</th>\n",
       "      <th>age</th>\n",
       "      <th>weight</th>\n",
       "      <th>sex</th>\n",
       "      <th>tour_de_cheville</th>\n",
       "      <th>longueur_du_bras</th>\n",
       "      <th>largeur_du_dos</th>\n",
       "      <th>tour_de_poitrine</th>\n",
       "      <th>hauteur_de_poitrine</th>\n",
       "      <th>hauteur_d_entrejambe</th>\n",
       "      <th>...</th>\n",
       "      <th>tour_de_cuisse</th>\n",
       "      <th>tour_de_taille</th>\n",
       "      <th>hauteur_de_la_taille</th>\n",
       "      <th>categorie_ventre_moyen</th>\n",
       "      <th>categorie_ventre_plat</th>\n",
       "      <th>categorie_ventre_rond</th>\n",
       "      <th>categorie_torse_fin</th>\n",
       "      <th>categorie_torse_large</th>\n",
       "      <th>categorie_torse_moyen</th>\n",
       "      <th>categorie_cuisses_larges</th>\n",
       "    </tr>\n",
       "  </thead>\n",
       "  <tbody>\n",
       "    <tr>\n",
       "      <th>3417</th>\n",
       "      <td>-0.224256</td>\n",
       "      <td>-0.158654</td>\n",
       "      <td>-0.274829</td>\n",
       "      <td>0.0</td>\n",
       "      <td>-0.291139</td>\n",
       "      <td>60.1980</td>\n",
       "      <td>0.127605</td>\n",
       "      <td>0.007678</td>\n",
       "      <td>-0.216058</td>\n",
       "      <td>-0.295918</td>\n",
       "      <td>...</td>\n",
       "      <td>-0.101449</td>\n",
       "      <td>-0.251880</td>\n",
       "      <td>-0.214984</td>\n",
       "      <td>0.0</td>\n",
       "      <td>0.0</td>\n",
       "      <td>0.0</td>\n",
       "      <td>0.0</td>\n",
       "      <td>1.0</td>\n",
       "      <td>0.0</td>\n",
       "      <td>1.0</td>\n",
       "    </tr>\n",
       "    <tr>\n",
       "      <th>1955</th>\n",
       "      <td>1.000000</td>\n",
       "      <td>-0.673077</td>\n",
       "      <td>-0.148425</td>\n",
       "      <td>0.0</td>\n",
       "      <td>-0.645570</td>\n",
       "      <td>67.0052</td>\n",
       "      <td>-0.392720</td>\n",
       "      <td>0.090211</td>\n",
       "      <td>0.773723</td>\n",
       "      <td>0.897959</td>\n",
       "      <td>...</td>\n",
       "      <td>-0.057971</td>\n",
       "      <td>-0.458647</td>\n",
       "      <td>1.257329</td>\n",
       "      <td>0.0</td>\n",
       "      <td>0.0</td>\n",
       "      <td>0.0</td>\n",
       "      <td>0.0</td>\n",
       "      <td>1.0</td>\n",
       "      <td>0.0</td>\n",
       "      <td>1.0</td>\n",
       "    </tr>\n",
       "    <tr>\n",
       "      <th>367</th>\n",
       "      <td>-1.144165</td>\n",
       "      <td>-0.096154</td>\n",
       "      <td>-0.880863</td>\n",
       "      <td>0.0</td>\n",
       "      <td>-1.392405</td>\n",
       "      <td>57.7088</td>\n",
       "      <td>-0.636623</td>\n",
       "      <td>-1.103647</td>\n",
       "      <td>-1.089051</td>\n",
       "      <td>-1.353741</td>\n",
       "      <td>...</td>\n",
       "      <td>-0.471014</td>\n",
       "      <td>-0.828947</td>\n",
       "      <td>-1.306189</td>\n",
       "      <td>0.0</td>\n",
       "      <td>0.0</td>\n",
       "      <td>0.0</td>\n",
       "      <td>0.0</td>\n",
       "      <td>0.0</td>\n",
       "      <td>1.0</td>\n",
       "      <td>1.0</td>\n",
       "    </tr>\n",
       "    <tr>\n",
       "      <th>1828</th>\n",
       "      <td>-0.549199</td>\n",
       "      <td>-0.576923</td>\n",
       "      <td>-0.585554</td>\n",
       "      <td>0.0</td>\n",
       "      <td>-0.050633</td>\n",
       "      <td>59.6900</td>\n",
       "      <td>-0.287029</td>\n",
       "      <td>-0.635317</td>\n",
       "      <td>-0.624818</td>\n",
       "      <td>-0.428571</td>\n",
       "      <td>...</td>\n",
       "      <td>-0.757246</td>\n",
       "      <td>-0.370301</td>\n",
       "      <td>-0.768730</td>\n",
       "      <td>0.0</td>\n",
       "      <td>0.0</td>\n",
       "      <td>0.0</td>\n",
       "      <td>0.0</td>\n",
       "      <td>0.0</td>\n",
       "      <td>1.0</td>\n",
       "      <td>1.0</td>\n",
       "    </tr>\n",
       "    <tr>\n",
       "      <th>2515</th>\n",
       "      <td>-0.260870</td>\n",
       "      <td>0.048077</td>\n",
       "      <td>-0.418410</td>\n",
       "      <td>0.0</td>\n",
       "      <td>0.050633</td>\n",
       "      <td>60.0964</td>\n",
       "      <td>0.794272</td>\n",
       "      <td>-0.332054</td>\n",
       "      <td>-0.329927</td>\n",
       "      <td>-0.602041</td>\n",
       "      <td>...</td>\n",
       "      <td>-0.126812</td>\n",
       "      <td>-0.657895</td>\n",
       "      <td>-0.589577</td>\n",
       "      <td>0.0</td>\n",
       "      <td>0.0</td>\n",
       "      <td>0.0</td>\n",
       "      <td>0.0</td>\n",
       "      <td>0.0</td>\n",
       "      <td>1.0</td>\n",
       "      <td>1.0</td>\n",
       "    </tr>\n",
       "  </tbody>\n",
       "</table>\n",
       "<p>5 rows × 29 columns</p>\n",
       "</div>"
      ],
      "text/plain": [
       "        taille       age    weight  sex  tour_de_cheville  longueur_du_bras  \\\n",
       "3417 -0.224256 -0.158654 -0.274829  0.0         -0.291139           60.1980   \n",
       "1955  1.000000 -0.673077 -0.148425  0.0         -0.645570           67.0052   \n",
       "367  -1.144165 -0.096154 -0.880863  0.0         -1.392405           57.7088   \n",
       "1828 -0.549199 -0.576923 -0.585554  0.0         -0.050633           59.6900   \n",
       "2515 -0.260870  0.048077 -0.418410  0.0          0.050633           60.0964   \n",
       "\n",
       "      largeur_du_dos  tour_de_poitrine  hauteur_de_poitrine  \\\n",
       "3417        0.127605          0.007678            -0.216058   \n",
       "1955       -0.392720          0.090211             0.773723   \n",
       "367        -0.636623         -1.103647            -1.089051   \n",
       "1828       -0.287029         -0.635317            -0.624818   \n",
       "2515        0.794272         -0.332054            -0.329927   \n",
       "\n",
       "      hauteur_d_entrejambe  ...  tour_de_cuisse  tour_de_taille  \\\n",
       "3417             -0.295918  ...       -0.101449       -0.251880   \n",
       "1955              0.897959  ...       -0.057971       -0.458647   \n",
       "367              -1.353741  ...       -0.471014       -0.828947   \n",
       "1828             -0.428571  ...       -0.757246       -0.370301   \n",
       "2515             -0.602041  ...       -0.126812       -0.657895   \n",
       "\n",
       "      hauteur_de_la_taille  categorie_ventre_moyen  categorie_ventre_plat  \\\n",
       "3417             -0.214984                     0.0                    0.0   \n",
       "1955              1.257329                     0.0                    0.0   \n",
       "367              -1.306189                     0.0                    0.0   \n",
       "1828             -0.768730                     0.0                    0.0   \n",
       "2515             -0.589577                     0.0                    0.0   \n",
       "\n",
       "      categorie_ventre_rond  categorie_torse_fin  categorie_torse_large  \\\n",
       "3417                    0.0                  0.0                    1.0   \n",
       "1955                    0.0                  0.0                    1.0   \n",
       "367                     0.0                  0.0                    0.0   \n",
       "1828                    0.0                  0.0                    0.0   \n",
       "2515                    0.0                  0.0                    0.0   \n",
       "\n",
       "      categorie_torse_moyen  categorie_cuisses_larges  \n",
       "3417                    0.0                       1.0  \n",
       "1955                    0.0                       1.0  \n",
       "367                     1.0                       1.0  \n",
       "1828                    1.0                       1.0  \n",
       "2515                    1.0                       1.0  \n",
       "\n",
       "[5 rows x 29 columns]"
      ]
     },
     "execution_count": 21,
     "metadata": {},
     "output_type": "execute_result"
    }
   ],
   "source": [
    "from sklearn.preprocessing import RobustScaler\n",
    "\n",
    "# 🟡 Colonnes à exclure du scaling\n",
    "colonnes_a_exclure = [\n",
    "    'longueur_du_bras', 'longueur_bras_binaire', \n",
    "    'categorie_ventre', 'categorie_torse', 'categorie_cuisses',\n",
    "    'categorie_ventre_rond', 'categorie_torse_fin', \n",
    "    'categorie_torse_large', 'categorie_torse_moyen', \n",
    "    'categorie_cuisses_larges'\n",
    "]\n",
    "\n",
    "# 🟢 Colonnes à scaler (toutes les autres)\n",
    "colonnes_a_scaler = [col for col in mesure_sc.columns if col not in colonnes_a_exclure]\n",
    "\n",
    "# ⚙️ Instanciation et application du RobustScaler\n",
    "scaler = RobustScaler()\n",
    "df_scaled = mesure_sc.copy()\n",
    "df_scaled[colonnes_a_scaler] = scaler.fit_transform(df_scaled[colonnes_a_scaler])\n",
    "df_scaled.head()"
   ]
  },
  {
   "cell_type": "code",
   "execution_count": 22,
   "id": "5b09bda9-6818-4d83-a367-a84a54030e3e",
   "metadata": {
    "execution": {
     "iopub.execute_input": "2025-07-24T08:32:38.861913Z",
     "iopub.status.busy": "2025-07-24T08:32:38.859902Z",
     "iopub.status.idle": "2025-07-24T08:32:41.773147Z",
     "shell.execute_reply": "2025-07-24T08:32:41.769148Z",
     "shell.execute_reply.started": "2025-07-24T08:32:38.861913Z"
    }
   },
   "outputs": [
    {
     "name": "stdout",
     "output_type": "stream",
     "text": [
      "✅ Modèle entraîné pour sex — Score R² : 1.0000\n",
      "✅ Modèle entraîné pour tour_de_cheville — Score R² : 0.5767\n",
      "✅ Modèle entraîné pour longueur_du_bras — Score R² : 0.6075\n",
      "✅ Modèle entraîné pour largeur_du_dos — Score R² : 0.4207\n",
      "✅ Modèle entraîné pour tour_de_poitrine — Score R² : 0.9165\n",
      "✅ Modèle entraîné pour hauteur_de_poitrine — Score R² : 0.8919\n",
      "✅ Modèle entraîné pour hauteur_d_entrejambe — Score R² : 0.8111\n",
      "✅ Modèle entraîné pour longueur_avant — Score R² : 0.5121\n",
      "✅ Modèle entraîné pour largeur_des_hanches — Score R² : 0.6911\n",
      "✅ Modèle entraîné pour hauteur_des_hanches — Score R² : 0.6974\n",
      "✅ Modèle entraîné pour hauteur_des_genoux — Score R² : 0.7951\n",
      "✅ Modèle entraîné pour tour_du_cou — Score R² : 0.4807\n",
      "✅ Modèle entraîné pour largeur_d_epaule — Score R² : 0.4207\n",
      "✅ Modèle entraîné pour hauteur_des_epaules — Score R² : 0.9094\n",
      "✅ Modèle entraîné pour largeur_des_epaules_a_l_horizontales — Score R² : 0.6911\n",
      "✅ Modèle entraîné pour longueur_de_la_colonne_vertebrale_jusqu_au_poignet — Score R² : 0.6813\n",
      "✅ Modèle entraîné pour tour_de_cuisse — Score R² : 0.8281\n",
      "✅ Modèle entraîné pour tour_de_taille — Score R² : 0.8890\n",
      "✅ Modèle entraîné pour hauteur_de_la_taille — Score R² : 0.7982\n"
     ]
    }
   ],
   "source": [
    "from sklearn.linear_model import LinearRegression\n",
    "from sklearn.impute import SimpleImputer\n",
    "\n",
    "def entrainer_regression_par_colonne(df, colonnes_explicatives, colonnes_cibles):\n",
    "    \"\"\"\n",
    "    Entraîne une régression linéaire pour chaque colonne cible dans colonnes_cibles\n",
    "    en utilisant les colonnes_explicatives comme variables d'entrée.\n",
    "\n",
    "    Args:\n",
    "        df (pd.DataFrame): Le DataFrame contenant les données.\n",
    "        colonnes_explicatives (list): Liste des noms de colonnes à utiliser comme X.\n",
    "        colonnes_cibles (list): Liste des noms de colonnes à prédire.\n",
    "\n",
    "    Returns:\n",
    "        dict: dictionnaire contenant pour chaque cible, son modèle entraîné et le score R².\n",
    "    \"\"\"\n",
    "    resultats = {}\n",
    "\n",
    "    for cible in colonnes_cibles:\n",
    "        X = df[colonnes_explicatives]\n",
    "        y = df[cible]\n",
    "\n",
    "        model = LinearRegression()\n",
    "        model.fit(X, y)\n",
    "        score = model.score(X, y)\n",
    "\n",
    "        resultats[cible] = {\n",
    "            'modele': model,\n",
    "            'score': score\n",
    "        }\n",
    "\n",
    "        print(f\"✅ Modèle entraîné pour {cible} — Score R² : {score:.4f}\")\n",
    "\n",
    "    return resultats\n",
    "\n",
    "# Exemple d’utilisation :\n",
    "colonnes_X = ['taille', 'age', 'weight',\n",
    "              'categorie_ventre_plat', 'categorie_ventre_moyen', 'categorie_ventre_rond',\n",
    "              'categorie_torse_fin', 'categorie_torse_moyen', 'categorie_torse_large',\n",
    "              'categorie_cuisses_fines', 'categorie_cuisses_moyennes', 'categorie_cuisses_larges']\n",
    "\n",
    "colonnes_X_valides = [col for col in colonnes_X if col in df_scaled.columns]\n",
    "\n",
    "\n",
    "# Par exemple, toutes les colonnes sauf colonnes_X sont cibles\n",
    "colonnes_y = [col for col in df_scaled.columns if col not in colonnes_X]\n",
    "\n",
    "imputer = SimpleImputer(strategy='median')  # ou strategy='mean'\n",
    "df_imputed = pd.DataFrame(imputer.fit_transform(df_scaled), columns=df_scaled.columns)\n",
    "\n",
    "\n",
    "resultats = entrainer_regression_par_colonne(df_imputed, colonnes_X_valides, colonnes_y)\n"
   ]
  },
  {
   "cell_type": "code",
   "execution_count": 23,
   "id": "4721dd5e-b8de-400e-afd5-bbe595c4737e",
   "metadata": {
    "execution": {
     "iopub.execute_input": "2025-07-24T08:32:41.778670Z",
     "iopub.status.busy": "2025-07-24T08:32:41.777676Z",
     "iopub.status.idle": "2025-07-24T08:32:42.366625Z",
     "shell.execute_reply": "2025-07-24T08:32:42.364625Z",
     "shell.execute_reply.started": "2025-07-24T08:32:41.778670Z"
    }
   },
   "outputs": [
    {
     "name": "stdout",
     "output_type": "stream",
     "text": [
      "✅ sex — R² train: 1.0000 | test: 1.0000\n",
      "✅ tour_de_cheville — R² train: 0.5783 | test: 0.5685\n",
      "✅ longueur_du_bras — R² train: 0.6242 | test: 0.5433\n",
      "✅ largeur_du_dos — R² train: 0.4008 | test: 0.4972\n",
      "✅ tour_de_poitrine — R² train: 0.9196 | test: 0.9051\n",
      "✅ hauteur_de_poitrine — R² train: 0.8865 | test: 0.9125\n",
      "✅ hauteur_d_entrejambe — R² train: 0.8129 | test: 0.8017\n",
      "✅ longueur_avant — R² train: 0.5082 | test: 0.5235\n",
      "✅ largeur_des_hanches — R² train: 0.6791 | test: 0.7342\n",
      "✅ hauteur_des_hanches — R² train: 0.6960 | test: 0.7004\n",
      "✅ hauteur_des_genoux — R² train: 0.7900 | test: 0.8141\n",
      "✅ tour_du_cou — R² train: 0.4805 | test: 0.4809\n",
      "✅ largeur_d_epaule — R² train: 0.4008 | test: 0.4972\n",
      "✅ hauteur_des_epaules — R² train: 0.9043 | test: 0.9294\n",
      "✅ largeur_des_epaules_a_l_horizontales — R² train: 0.6791 | test: 0.7342\n",
      "✅ longueur_de_la_colonne_vertebrale_jusqu_au_poignet — R² train: 0.6895 | test: 0.6478\n",
      "✅ tour_de_cuisse — R² train: 0.8246 | test: 0.8416\n",
      "✅ tour_de_taille — R² train: 0.8873 | test: 0.8946\n",
      "✅ hauteur_de_la_taille — R² train: 0.8006 | test: 0.7876\n"
     ]
    }
   ],
   "source": [
    "from sklearn.linear_model import LinearRegression\n",
    "from sklearn.model_selection import train_test_split\n",
    "from sklearn.metrics import r2_score\n",
    "from sklearn.impute import SimpleImputer\n",
    "import pandas as pd\n",
    "\n",
    "def entrainer_regression_par_colonne(df, colonnes_explicatives, colonnes_cibles, test_size=0.2, random_state=42):\n",
    "    \"\"\"\n",
    "    Entraîne une régression linéaire pour chaque colonne cible, avec train_test_split.\n",
    "\n",
    "    Args:\n",
    "        df (pd.DataFrame): Le DataFrame complet.\n",
    "        colonnes_explicatives (list): Noms des colonnes à utiliser comme variables d'entrée (X).\n",
    "        colonnes_cibles (list): Noms des colonnes à prédire (y).\n",
    "        test_size (float): Proportion du jeu de test (entre 0 et 1).\n",
    "        random_state (int): Graine pour la reproductibilité.\n",
    "\n",
    "    Returns:\n",
    "        dict: Pour chaque colonne cible, le modèle, score R² (train & test).\n",
    "    \"\"\"\n",
    "    resultats = {}\n",
    "\n",
    "    # 1. Imputer les NaN\n",
    "    imputer = SimpleImputer(strategy='median')\n",
    "    df_imputed = pd.DataFrame(imputer.fit_transform(df), columns=df.columns)\n",
    "\n",
    "    for cible in colonnes_cibles:\n",
    "        X = df_imputed[colonnes_explicatives]\n",
    "        y = df_imputed[cible]\n",
    "\n",
    "        # 2. Split des données\n",
    "        X_train, X_test, y_train, y_test = train_test_split(\n",
    "            X, y, test_size=test_size, random_state=random_state\n",
    "        )\n",
    "\n",
    "        # 3. Entraînement\n",
    "        model = LinearRegression()\n",
    "        model.fit(X_train, y_train)\n",
    "\n",
    "        # 4. Évaluation\n",
    "        score_train = model.score(X_train, y_train)\n",
    "        score_test = model.score(X_test, y_test)\n",
    "\n",
    "        resultats[cible] = {\n",
    "            'modele': model,\n",
    "            'score_train': score_train,\n",
    "            'score_test': score_test\n",
    "        }\n",
    "\n",
    "        print(f\"✅ {cible} — R² train: {score_train:.4f} | test: {score_test:.4f}\")\n",
    "\n",
    "    return resultats\n",
    "    \n",
    "colonnes_X = ['taille', 'age', 'weight',\n",
    "              'categorie_ventre_plat', 'categorie_ventre_moyen', 'categorie_ventre_rond',\n",
    "              'categorie_torse_fin', 'categorie_torse_moyen', 'categorie_torse_large',\n",
    "              'categorie_cuisses_fines', 'categorie_cuisses_moyennes', 'categorie_cuisses_larges']\n",
    "\n",
    "colonnes_X_valides = [col for col in colonnes_X if col in df_scaled.columns]\n",
    "\n",
    "\n",
    "# Par exemple, toutes les colonnes sauf colonnes_X sont cibles\n",
    "colonnes_y = [col for col in df_scaled.columns if col not in colonnes_X]\n",
    "\n",
    "resultats = entrainer_regression_par_colonne(df_scaled, colonnes_X_valides, colonnes_y)"
   ]
  },
  {
   "cell_type": "code",
   "execution_count": 24,
   "id": "965d172b-741c-41d2-9ad7-5443975dcfcd",
   "metadata": {
    "execution": {
     "iopub.execute_input": "2025-07-24T08:32:42.370626Z",
     "iopub.status.busy": "2025-07-24T08:32:42.368631Z",
     "iopub.status.idle": "2025-07-24T08:32:44.441253Z",
     "shell.execute_reply": "2025-07-24T08:32:44.438255Z",
     "shell.execute_reply.started": "2025-07-24T08:32:42.370626Z"
    }
   },
   "outputs": [
    {
     "name": "stdout",
     "output_type": "stream",
     "text": [
      "✅ sex — R² moyen: 1.0000 ± 0.0000\n",
      "✅ tour_de_cheville — R² moyen: 0.5710 ± 0.0194\n",
      "✅ longueur_du_bras — R² moyen: 0.6035 ± 0.0360\n",
      "✅ largeur_du_dos — R² moyen: 0.4146 ± 0.0600\n",
      "✅ tour_de_poitrine — R² moyen: 0.9157 ± 0.0084\n",
      "✅ hauteur_de_poitrine — R² moyen: 0.8910 ± 0.0202\n",
      "✅ hauteur_d_entrejambe — R² moyen: 0.8077 ± 0.0159\n",
      "✅ longueur_avant — R² moyen: 0.5062 ± 0.0343\n",
      "✅ largeur_des_hanches — R² moyen: 0.6857 ± 0.0351\n",
      "✅ hauteur_des_hanches — R² moyen: 0.6922 ± 0.0154\n",
      "✅ hauteur_des_genoux — R² moyen: 0.7921 ± 0.0255\n",
      "✅ tour_du_cou — R² moyen: 0.4762 ± 0.0115\n",
      "✅ largeur_d_epaule — R² moyen: 0.4146 ± 0.0600\n",
      "✅ hauteur_des_epaules — R² moyen: 0.9085 ± 0.0233\n",
      "✅ largeur_des_epaules_a_l_horizontales — R² moyen: 0.6857 ± 0.0351\n",
      "✅ longueur_de_la_colonne_vertebrale_jusqu_au_poignet — R² moyen: 0.6758 ± 0.0291\n",
      "✅ tour_de_cuisse — R² moyen: 0.8260 ± 0.0250\n",
      "✅ tour_de_taille — R² moyen: 0.8880 ± 0.0054\n",
      "✅ hauteur_de_la_taille — R² moyen: 0.7957 ± 0.0191\n"
     ]
    }
   ],
   "source": [
    "from sklearn.linear_model import LinearRegression\n",
    "from sklearn.model_selection import cross_val_score, KFold\n",
    "from sklearn.impute import SimpleImputer\n",
    "import pandas as pd\n",
    "import numpy as np\n",
    "\n",
    "def entrainer_regression_cv(df, colonnes_explicatives, colonnes_cibles, n_splits=5, random_state=42):\n",
    "    \"\"\"\n",
    "    Entraîne une régression linéaire pour chaque colonne cible avec K-Fold Cross Validation.\n",
    "\n",
    "    Args:\n",
    "        df (pd.DataFrame): Le DataFrame complet.\n",
    "        colonnes_explicatives (list): Noms des colonnes explicatives.\n",
    "        colonnes_cibles (list): Noms des colonnes cibles.\n",
    "        n_splits (int): Nombre de folds pour la validation croisée.\n",
    "        random_state (int): Graine pour la reproductibilité.\n",
    "\n",
    "    Returns:\n",
    "        dict: Pour chaque cible, moyenne et écart-type du score R² sur les folds.\n",
    "    \"\"\"\n",
    "    resultats = {}\n",
    "\n",
    "    # 1. Imputation des NaN\n",
    "    imputer = SimpleImputer(strategy='median')\n",
    "    df_imputed = pd.DataFrame(imputer.fit_transform(df), columns=df.columns)\n",
    "\n",
    "    # 2. Configuration du K-Fold\n",
    "    kf = KFold(n_splits=n_splits, shuffle=True, random_state=random_state)\n",
    "\n",
    "    for cible in colonnes_cibles:\n",
    "        X = df_imputed[colonnes_explicatives]\n",
    "        y = df_imputed[cible]\n",
    "\n",
    "        modele = LinearRegression()\n",
    "\n",
    "        # 3. Cross-validation sur R²\n",
    "        scores = cross_val_score(modele, X, y, cv=kf, scoring='r2')\n",
    "\n",
    "        resultats[cible] = {\n",
    "            'r2_moyen': np.mean(scores),\n",
    "            'r2_ecart_type': np.std(scores),\n",
    "            'r2_scores': scores\n",
    "        }\n",
    "\n",
    "        print(f\"✅ {cible} — R² moyen: {np.mean(scores):.4f} ± {np.std(scores):.4f}\")\n",
    "\n",
    "    return resultats\n",
    "colonnes_X = ['taille', 'age', 'weight',\n",
    "              'categorie_ventre_plat', 'categorie_ventre_moyen', 'categorie_ventre_rond',\n",
    "              'categorie_torse_fin', 'categorie_torse_moyen', 'categorie_torse_large',\n",
    "              'categorie_cuisses_fines', 'categorie_cuisses_moyennes', 'categorie_cuisses_larges']\n",
    "\n",
    "colonnes_X_valides = [col for col in colonnes_X if col in df_scaled.columns]\n",
    "colonnes_y = [col for col in df_scaled.columns if col not in colonnes_X_valides]\n",
    "\n",
    "resultats_cv = entrainer_regression_cv(df_scaled, colonnes_X_valides, colonnes_y, n_splits=5)\n"
   ]
  },
  {
   "cell_type": "code",
   "execution_count": 29,
   "id": "6c09e3a0-8a72-4f79-b78b-f2aeef7ddd9b",
   "metadata": {
    "execution": {
     "iopub.execute_input": "2025-07-24T08:45:43.768966Z",
     "iopub.status.busy": "2025-07-24T08:45:43.767741Z",
     "iopub.status.idle": "2025-07-24T10:49:18.722261Z",
     "shell.execute_reply": "2025-07-24T10:49:18.719403Z",
     "shell.execute_reply.started": "2025-07-24T08:45:43.768966Z"
    }
   },
   "outputs": [
    {
     "name": "stdout",
     "output_type": "stream",
     "text": [
      "\n",
      "⚙️ Traitement de la cible : sex\n"
     ]
    },
    {
     "name": "stderr",
     "output_type": "stream",
     "text": [
      "c:\\Users\\mbouke.besse\\OneDrive - ESTIA\\Documents\\code-dataset\\.venv\\lib\\site-packages\\tpot\\tpot_estimator\\estimator.py:458: UserWarning: Both generations and max_time_mins are set. TPOT will terminate when the first condition is met.\n",
      "  warnings.warn(\"Both generations and max_time_mins are set. TPOT will terminate when the first condition is met.\")\n",
      "c:\\Users\\mbouke.besse\\OneDrive - ESTIA\\Documents\\code-dataset\\.venv\\lib\\site-packages\\distributed\\node.py:187: UserWarning: Port 8787 is already in use.\n",
      "Perhaps you already have a cluster running?\n",
      "Hosting the HTTP server on port 51819 instead\n",
      "  warnings.warn(\n",
      "Generation:  25%|████████████████████████████▊                                                                                      | 1/4 [00:35<01:47, 35.74s/it]"
     ]
    },
    {
     "name": "stdout",
     "output_type": "stream",
     "text": [
      "Generation:  1\n",
      "Best mean_squared_error score: 0.0\n"
     ]
    },
    {
     "name": "stderr",
     "output_type": "stream",
     "text": [
      "Generation:  50%|█████████████████████████████████████████████████████████▌                                                         | 2/4 [01:04<01:02, 31.42s/it]"
     ]
    },
    {
     "name": "stdout",
     "output_type": "stream",
     "text": [
      "Generation:  2\n",
      "Best mean_squared_error score: 0.0\n"
     ]
    },
    {
     "name": "stderr",
     "output_type": "stream",
     "text": [
      "Generation:  75%|██████████████████████████████████████████████████████████████████████████████████████▎                            | 3/4 [01:32<00:30, 30.03s/it]"
     ]
    },
    {
     "name": "stdout",
     "output_type": "stream",
     "text": [
      "Generation:  3\n",
      "Best mean_squared_error score: 0.0\n"
     ]
    },
    {
     "name": "stderr",
     "output_type": "stream",
     "text": [
      "Generation: 100%|███████████████████████████████████████████████████████████████████████████████████████████████████████████████████| 4/4 [01:54<00:00, 28.54s/it]"
     ]
    },
    {
     "name": "stdout",
     "output_type": "stream",
     "text": [
      "Generation:  4\n",
      "Best mean_squared_error score: 0.0\n"
     ]
    },
    {
     "name": "stderr",
     "output_type": "stream",
     "text": [
      "\n"
     ]
    },
    {
     "name": "stdout",
     "output_type": "stream",
     "text": [
      "✅ sex — R² test: 1.0000\n",
      "\n",
      "⚙️ Traitement de la cible : tour_de_cheville\n"
     ]
    },
    {
     "name": "stderr",
     "output_type": "stream",
     "text": [
      "c:\\Users\\mbouke.besse\\OneDrive - ESTIA\\Documents\\code-dataset\\.venv\\lib\\site-packages\\tpot\\tpot_estimator\\estimator.py:458: UserWarning: Both generations and max_time_mins are set. TPOT will terminate when the first condition is met.\n",
      "  warnings.warn(\"Both generations and max_time_mins are set. TPOT will terminate when the first condition is met.\")\n",
      "c:\\Users\\mbouke.besse\\OneDrive - ESTIA\\Documents\\code-dataset\\.venv\\lib\\site-packages\\distributed\\node.py:187: UserWarning: Port 8787 is already in use.\n",
      "Perhaps you already have a cluster running?\n",
      "Hosting the HTTP server on port 51856 instead\n",
      "  warnings.warn(\n",
      "Generation:  25%|████████████████████████████▊                                                                                      | 1/4 [01:12<03:37, 72.63s/it]"
     ]
    },
    {
     "name": "stdout",
     "output_type": "stream",
     "text": [
      "Generation:  1\n",
      "Best mean_squared_error score: -0.2556252509289427\n"
     ]
    },
    {
     "name": "stderr",
     "output_type": "stream",
     "text": [
      "Generation:  50%|█████████████████████████████████████████████████████████▌                                                         | 2/4 [02:02<01:58, 59.10s/it]"
     ]
    },
    {
     "name": "stdout",
     "output_type": "stream",
     "text": [
      "Generation:  2\n",
      "Best mean_squared_error score: -0.2556252509289427\n"
     ]
    },
    {
     "name": "stderr",
     "output_type": "stream",
     "text": [
      "Generation:  75%|██████████████████████████████████████████████████████████████████████████████████████▎                            | 3/4 [03:07<01:01, 61.97s/it]"
     ]
    },
    {
     "name": "stdout",
     "output_type": "stream",
     "text": [
      "Generation:  3\n",
      "Best mean_squared_error score: -0.2547985416713766\n"
     ]
    },
    {
     "name": "stderr",
     "output_type": "stream",
     "text": [
      "Generation: 100%|███████████████████████████████████████████████████████████████████████████████████████████████████████████████████| 4/4 [04:10<00:00, 62.61s/it]"
     ]
    },
    {
     "name": "stdout",
     "output_type": "stream",
     "text": [
      "Generation:  4\n",
      "Best mean_squared_error score: -0.2547985416713766\n"
     ]
    },
    {
     "name": "stderr",
     "output_type": "stream",
     "text": [
      "\n",
      "c:\\Users\\mbouke.besse\\OneDrive - ESTIA\\Documents\\code-dataset\\.venv\\lib\\site-packages\\sklearn\\utils\\validation.py:2739: UserWarning: X does not have valid feature names, but LGBMRegressor was fitted with feature names\n",
      "  warnings.warn(\n",
      "c:\\Users\\mbouke.besse\\OneDrive - ESTIA\\Documents\\code-dataset\\.venv\\lib\\site-packages\\sklearn\\utils\\validation.py:2739: UserWarning: X does not have valid feature names, but LGBMRegressor was fitted with feature names\n",
      "  warnings.warn(\n",
      "c:\\Users\\mbouke.besse\\OneDrive - ESTIA\\Documents\\code-dataset\\.venv\\lib\\site-packages\\sklearn\\utils\\validation.py:2739: UserWarning: X does not have valid feature names, but LGBMRegressor was fitted with feature names\n",
      "  warnings.warn(\n",
      "c:\\Users\\mbouke.besse\\OneDrive - ESTIA\\Documents\\code-dataset\\.venv\\lib\\site-packages\\sklearn\\utils\\validation.py:2739: UserWarning: X does not have valid feature names, but LGBMRegressor was fitted with feature names\n",
      "  warnings.warn(\n",
      "c:\\Users\\mbouke.besse\\OneDrive - ESTIA\\Documents\\code-dataset\\.venv\\lib\\site-packages\\sklearn\\utils\\validation.py:2739: UserWarning: X does not have valid feature names, but LGBMRegressor was fitted with feature names\n",
      "  warnings.warn(\n",
      "c:\\Users\\mbouke.besse\\OneDrive - ESTIA\\Documents\\code-dataset\\.venv\\lib\\site-packages\\sklearn\\utils\\validation.py:2739: UserWarning: X does not have valid feature names, but LGBMRegressor was fitted with feature names\n",
      "  warnings.warn(\n",
      "c:\\Users\\mbouke.besse\\OneDrive - ESTIA\\Documents\\code-dataset\\.venv\\lib\\site-packages\\tpot\\tpot_estimator\\estimator.py:458: UserWarning: Both generations and max_time_mins are set. TPOT will terminate when the first condition is met.\n",
      "  warnings.warn(\"Both generations and max_time_mins are set. TPOT will terminate when the first condition is met.\")\n",
      "c:\\Users\\mbouke.besse\\OneDrive - ESTIA\\Documents\\code-dataset\\.venv\\lib\\site-packages\\distributed\\node.py:187: UserWarning: Port 8787 is already in use.\n",
      "Perhaps you already have a cluster running?\n",
      "Hosting the HTTP server on port 51922 instead\n",
      "  warnings.warn(\n"
     ]
    },
    {
     "name": "stdout",
     "output_type": "stream",
     "text": [
      "✅ tour_de_cheville — R² test: 0.5684\n",
      "\n",
      "⚙️ Traitement de la cible : longueur_du_bras\n"
     ]
    },
    {
     "name": "stderr",
     "output_type": "stream",
     "text": [
      "Generation:  25%|████████████████████████████▌                                                                                     | 1/4 [02:05<06:17, 126.00s/it]"
     ]
    },
    {
     "name": "stdout",
     "output_type": "stream",
     "text": [
      "Generation:  1\n",
      "Best mean_squared_error score: -4.822463605393365\n"
     ]
    },
    {
     "name": "stderr",
     "output_type": "stream",
     "text": [
      "Generation:  50%|█████████████████████████████████████████████████████████                                                         | 2/4 [05:03<05:12, 156.14s/it]"
     ]
    },
    {
     "name": "stdout",
     "output_type": "stream",
     "text": [
      "Generation:  2\n",
      "Best mean_squared_error score: -4.822463605393365\n"
     ]
    },
    {
     "name": "stderr",
     "output_type": "stream",
     "text": [
      "Generation:  75%|█████████████████████████████████████████████████████████████████████████████████████▌                            | 3/4 [08:17<02:53, 173.76s/it]"
     ]
    },
    {
     "name": "stdout",
     "output_type": "stream",
     "text": [
      "Generation:  3\n",
      "Best mean_squared_error score: -4.822463605393365\n"
     ]
    },
    {
     "name": "stderr",
     "output_type": "stream",
     "text": [
      "Generation: 100%|██████████████████████████████████████████████████████████████████████████████████████████████████████████████████| 4/4 [11:50<00:00, 177.56s/it]"
     ]
    },
    {
     "name": "stdout",
     "output_type": "stream",
     "text": [
      "Generation:  4\n",
      "Best mean_squared_error score: -4.819461880223088\n"
     ]
    },
    {
     "name": "stderr",
     "output_type": "stream",
     "text": [
      "\n",
      "c:\\Users\\mbouke.besse\\OneDrive - ESTIA\\Documents\\code-dataset\\.venv\\lib\\site-packages\\sklearn\\feature_selection\\_univariate_selection.py:111: UserWarning: Features [9] are constant.\n",
      "  warnings.warn(\"Features %s are constant.\" % constant_features_idx, UserWarning)\n",
      "c:\\Users\\mbouke.besse\\OneDrive - ESTIA\\Documents\\code-dataset\\.venv\\lib\\site-packages\\sklearn\\feature_selection\\_univariate_selection.py:112: RuntimeWarning: invalid value encountered in divide\n",
      "  f = msb / msw\n",
      "c:\\Users\\mbouke.besse\\OneDrive - ESTIA\\Documents\\code-dataset\\.venv\\lib\\site-packages\\sklearn\\neural_network\\_multilayer_perceptron.py:691: ConvergenceWarning: Stochastic Optimizer: Maximum iterations (200) reached and the optimization hasn't converged yet.\n",
      "  warnings.warn(\n"
     ]
    },
    {
     "name": "stdout",
     "output_type": "stream",
     "text": [
      "✅ longueur_du_bras — R² test: 0.5277\n",
      "\n",
      "⚙️ Traitement de la cible : largeur_du_dos\n"
     ]
    },
    {
     "name": "stderr",
     "output_type": "stream",
     "text": [
      "c:\\Users\\mbouke.besse\\OneDrive - ESTIA\\Documents\\code-dataset\\.venv\\lib\\site-packages\\tpot\\tpot_estimator\\estimator.py:458: UserWarning: Both generations and max_time_mins are set. TPOT will terminate when the first condition is met.\n",
      "  warnings.warn(\"Both generations and max_time_mins are set. TPOT will terminate when the first condition is met.\")\n",
      "c:\\Users\\mbouke.besse\\OneDrive - ESTIA\\Documents\\code-dataset\\.venv\\lib\\site-packages\\distributed\\node.py:187: UserWarning: Port 8787 is already in use.\n",
      "Perhaps you already have a cluster running?\n",
      "Hosting the HTTP server on port 52093 instead\n",
      "  warnings.warn(\n",
      "Generation:  25%|████████████████████████████▊                                                                                      | 1/4 [00:45<02:17, 45.71s/it]"
     ]
    },
    {
     "name": "stdout",
     "output_type": "stream",
     "text": [
      "Generation:  1\n",
      "Best mean_squared_error score: -0.3454571133094245\n"
     ]
    },
    {
     "name": "stderr",
     "output_type": "stream",
     "text": [
      "Generation:  50%|█████████████████████████████████████████████████████████▌                                                         | 2/4 [01:36<01:37, 48.54s/it]"
     ]
    },
    {
     "name": "stdout",
     "output_type": "stream",
     "text": [
      "Generation:  2\n",
      "Best mean_squared_error score: -0.34309328593217825\n"
     ]
    },
    {
     "name": "stderr",
     "output_type": "stream",
     "text": [
      "Generation:  75%|██████████████████████████████████████████████████████████████████████████████████████▎                            | 3/4 [02:32<00:52, 52.08s/it]"
     ]
    },
    {
     "name": "stdout",
     "output_type": "stream",
     "text": [
      "Generation:  3\n",
      "Best mean_squared_error score: -0.34309328593217825\n"
     ]
    },
    {
     "name": "stderr",
     "output_type": "stream",
     "text": [
      "Generation: 100%|███████████████████████████████████████████████████████████████████████████████████████████████████████████████████| 4/4 [04:03<00:00, 60.85s/it]"
     ]
    },
    {
     "name": "stdout",
     "output_type": "stream",
     "text": [
      "Generation:  4\n",
      "Best mean_squared_error score: -0.34192096904296165\n"
     ]
    },
    {
     "name": "stderr",
     "output_type": "stream",
     "text": [
      "\n"
     ]
    },
    {
     "name": "stdout",
     "output_type": "stream",
     "text": [
      "✅ largeur_du_dos — R² test: 0.5044\n",
      "\n",
      "⚙️ Traitement de la cible : tour_de_poitrine\n"
     ]
    },
    {
     "name": "stderr",
     "output_type": "stream",
     "text": [
      "c:\\Users\\mbouke.besse\\OneDrive - ESTIA\\Documents\\code-dataset\\.venv\\lib\\site-packages\\tpot\\tpot_estimator\\estimator.py:458: UserWarning: Both generations and max_time_mins are set. TPOT will terminate when the first condition is met.\n",
      "  warnings.warn(\"Both generations and max_time_mins are set. TPOT will terminate when the first condition is met.\")\n",
      "c:\\Users\\mbouke.besse\\OneDrive - ESTIA\\Documents\\code-dataset\\.venv\\lib\\site-packages\\distributed\\node.py:187: UserWarning: Port 8787 is already in use.\n",
      "Perhaps you already have a cluster running?\n",
      "Hosting the HTTP server on port 52147 instead\n",
      "  warnings.warn(\n",
      "Generation:  25%|████████████████████████████▊                                                                                      | 1/4 [01:06<03:18, 66.32s/it]"
     ]
    },
    {
     "name": "stdout",
     "output_type": "stream",
     "text": [
      "Generation:  1\n",
      "Best mean_squared_error score: -0.061429586761653804\n"
     ]
    },
    {
     "name": "stderr",
     "output_type": "stream",
     "text": [
      "Generation:  50%|█████████████████████████████████████████████████████████▌                                                         | 2/4 [01:52<01:48, 54.35s/it]"
     ]
    },
    {
     "name": "stdout",
     "output_type": "stream",
     "text": [
      "Generation:  2\n",
      "Best mean_squared_error score: -0.061429586761653804\n"
     ]
    },
    {
     "name": "stderr",
     "output_type": "stream",
     "text": [
      "Generation:  75%|██████████████████████████████████████████████████████████████████████████████████████▎                            | 3/4 [02:58<00:59, 59.63s/it]"
     ]
    },
    {
     "name": "stdout",
     "output_type": "stream",
     "text": [
      "Generation:  3\n",
      "Best mean_squared_error score: -0.061429586761653804\n"
     ]
    },
    {
     "name": "stderr",
     "output_type": "stream",
     "text": [
      "Generation: 100%|███████████████████████████████████████████████████████████████████████████████████████████████████████████████████| 4/4 [04:53<00:00, 73.42s/it]"
     ]
    },
    {
     "name": "stdout",
     "output_type": "stream",
     "text": [
      "Generation:  4\n",
      "Best mean_squared_error score: -0.05093868070571786\n"
     ]
    },
    {
     "name": "stderr",
     "output_type": "stream",
     "text": [
      "\n"
     ]
    },
    {
     "name": "stdout",
     "output_type": "stream",
     "text": [
      "✅ tour_de_poitrine — R² test: 0.9041\n",
      "\n",
      "⚙️ Traitement de la cible : hauteur_de_poitrine\n"
     ]
    },
    {
     "name": "stderr",
     "output_type": "stream",
     "text": [
      "c:\\Users\\mbouke.besse\\OneDrive - ESTIA\\Documents\\code-dataset\\.venv\\lib\\site-packages\\tpot\\tpot_estimator\\estimator.py:458: UserWarning: Both generations and max_time_mins are set. TPOT will terminate when the first condition is met.\n",
      "  warnings.warn(\"Both generations and max_time_mins are set. TPOT will terminate when the first condition is met.\")\n",
      "c:\\Users\\mbouke.besse\\OneDrive - ESTIA\\Documents\\code-dataset\\.venv\\lib\\site-packages\\distributed\\node.py:187: UserWarning: Port 8787 is already in use.\n",
      "Perhaps you already have a cluster running?\n",
      "Hosting the HTTP server on port 52233 instead\n",
      "  warnings.warn(\n",
      "Generation:  25%|████████████████████████████▊                                                                                      | 1/4 [01:03<03:11, 63.79s/it]"
     ]
    },
    {
     "name": "stdout",
     "output_type": "stream",
     "text": [
      "Generation:  1\n",
      "Best mean_squared_error score: -0.06525237994752617\n"
     ]
    },
    {
     "name": "stderr",
     "output_type": "stream",
     "text": [
      "Generation:  50%|█████████████████████████████████████████████████████████▌                                                         | 2/4 [02:49<02:56, 88.25s/it]"
     ]
    },
    {
     "name": "stdout",
     "output_type": "stream",
     "text": [
      "Generation:  2\n",
      "Best mean_squared_error score: -0.06525237994752617\n"
     ]
    },
    {
     "name": "stderr",
     "output_type": "stream",
     "text": [
      "Generation:  75%|██████████████████████████████████████████████████████████████████████████████████████▎                            | 3/4 [04:12<01:26, 86.14s/it]"
     ]
    },
    {
     "name": "stdout",
     "output_type": "stream",
     "text": [
      "Generation:  3\n",
      "Best mean_squared_error score: -0.0642407444725271\n"
     ]
    },
    {
     "name": "stderr",
     "output_type": "stream",
     "text": [
      "Generation: 100%|███████████████████████████████████████████████████████████████████████████████████████████████████████████████████| 4/4 [06:08<00:00, 92.18s/it]"
     ]
    },
    {
     "name": "stdout",
     "output_type": "stream",
     "text": [
      "Generation:  4\n",
      "Best mean_squared_error score: -0.0642407444725271\n"
     ]
    },
    {
     "name": "stderr",
     "output_type": "stream",
     "text": [
      "\n"
     ]
    },
    {
     "name": "stdout",
     "output_type": "stream",
     "text": [
      "✅ hauteur_de_poitrine — R² test: 0.8958\n",
      "\n",
      "⚙️ Traitement de la cible : hauteur_d_entrejambe\n"
     ]
    },
    {
     "name": "stderr",
     "output_type": "stream",
     "text": [
      "c:\\Users\\mbouke.besse\\OneDrive - ESTIA\\Documents\\code-dataset\\.venv\\lib\\site-packages\\tpot\\tpot_estimator\\estimator.py:458: UserWarning: Both generations and max_time_mins are set. TPOT will terminate when the first condition is met.\n",
      "  warnings.warn(\"Both generations and max_time_mins are set. TPOT will terminate when the first condition is met.\")\n",
      "c:\\Users\\mbouke.besse\\OneDrive - ESTIA\\Documents\\code-dataset\\.venv\\lib\\site-packages\\distributed\\node.py:187: UserWarning: Port 8787 is already in use.\n",
      "Perhaps you already have a cluster running?\n",
      "Hosting the HTTP server on port 52306 instead\n",
      "  warnings.warn(\n",
      "Generation:  25%|████████████████████████████▊                                                                                      | 1/4 [00:58<02:54, 58.22s/it]"
     ]
    },
    {
     "name": "stdout",
     "output_type": "stream",
     "text": [
      "Generation:  1\n",
      "Best mean_squared_error score: -0.1229490430821625\n"
     ]
    },
    {
     "name": "stderr",
     "output_type": "stream",
     "text": [
      "Generation:  50%|█████████████████████████████████████████████████████████▌                                                         | 2/4 [02:00<02:01, 60.78s/it]"
     ]
    },
    {
     "name": "stdout",
     "output_type": "stream",
     "text": [
      "Generation:  2\n",
      "Best mean_squared_error score: -0.11226174392977648\n"
     ]
    },
    {
     "name": "stderr",
     "output_type": "stream",
     "text": [
      "Generation:  75%|█████████████████████████████████████████████████████████████████████████████████████▌                            | 3/4 [05:33<02:10, 130.08s/it]"
     ]
    },
    {
     "name": "stdout",
     "output_type": "stream",
     "text": [
      "Generation:  3\n",
      "Best mean_squared_error score: -0.11226174392977648\n"
     ]
    },
    {
     "name": "stderr",
     "output_type": "stream",
     "text": [
      "Generation: 100%|██████████████████████████████████████████████████████████████████████████████████████████████████████████████████| 4/4 [08:28<00:00, 127.16s/it]"
     ]
    },
    {
     "name": "stdout",
     "output_type": "stream",
     "text": [
      "Generation:  4\n",
      "Best mean_squared_error score: -0.1120992901848234\n"
     ]
    },
    {
     "name": "stderr",
     "output_type": "stream",
     "text": [
      "\n",
      "c:\\Users\\mbouke.besse\\OneDrive - ESTIA\\Documents\\code-dataset\\.venv\\lib\\site-packages\\sklearn\\feature_selection\\_univariate_selection.py:111: UserWarning: Features [9] are constant.\n",
      "  warnings.warn(\"Features %s are constant.\" % constant_features_idx, UserWarning)\n",
      "c:\\Users\\mbouke.besse\\OneDrive - ESTIA\\Documents\\code-dataset\\.venv\\lib\\site-packages\\sklearn\\feature_selection\\_univariate_selection.py:112: RuntimeWarning: invalid value encountered in divide\n",
      "  f = msb / msw\n"
     ]
    },
    {
     "name": "stdout",
     "output_type": "stream",
     "text": [
      "✅ hauteur_d_entrejambe — R² test: 0.8029\n",
      "\n",
      "⚙️ Traitement de la cible : longueur_avant\n"
     ]
    },
    {
     "name": "stderr",
     "output_type": "stream",
     "text": [
      "c:\\Users\\mbouke.besse\\OneDrive - ESTIA\\Documents\\code-dataset\\.venv\\lib\\site-packages\\tpot\\tpot_estimator\\estimator.py:458: UserWarning: Both generations and max_time_mins are set. TPOT will terminate when the first condition is met.\n",
      "  warnings.warn(\"Both generations and max_time_mins are set. TPOT will terminate when the first condition is met.\")\n",
      "c:\\Users\\mbouke.besse\\OneDrive - ESTIA\\Documents\\code-dataset\\.venv\\lib\\site-packages\\distributed\\node.py:187: UserWarning: Port 8787 is already in use.\n",
      "Perhaps you already have a cluster running?\n",
      "Hosting the HTTP server on port 52459 instead\n",
      "  warnings.warn(\n",
      "Generation:  25%|████████████████████████████▊                                                                                      | 1/4 [01:01<03:04, 61.38s/it]"
     ]
    },
    {
     "name": "stdout",
     "output_type": "stream",
     "text": [
      "Generation:  1\n",
      "Best mean_squared_error score: -0.2989038553887731\n"
     ]
    },
    {
     "name": "stderr",
     "output_type": "stream",
     "text": [
      "Generation:  50%|█████████████████████████████████████████████████████████                                                         | 2/4 [04:14<04:37, 138.89s/it]"
     ]
    },
    {
     "name": "stdout",
     "output_type": "stream",
     "text": [
      "Generation:  2\n",
      "Best mean_squared_error score: -0.2956967842612451\n"
     ]
    },
    {
     "name": "stderr",
     "output_type": "stream",
     "text": [
      "Generation:  75%|█████████████████████████████████████████████████████████████████████████████████████▌                            | 3/4 [05:32<01:51, 111.23s/it]"
     ]
    },
    {
     "name": "stdout",
     "output_type": "stream",
     "text": [
      "Generation:  3\n",
      "Best mean_squared_error score: -0.29431503043419105\n"
     ]
    },
    {
     "name": "stderr",
     "output_type": "stream",
     "text": [
      "Generation: 100%|██████████████████████████████████████████████████████████████████████████████████████████████████████████████████| 4/4 [11:03<00:00, 165.83s/it]"
     ]
    },
    {
     "name": "stdout",
     "output_type": "stream",
     "text": [
      "Generation:  4\n",
      "Best mean_squared_error score: -0.29431503043419105\n"
     ]
    },
    {
     "name": "stderr",
     "output_type": "stream",
     "text": [
      "\n",
      "c:\\Users\\mbouke.besse\\OneDrive - ESTIA\\Documents\\code-dataset\\.venv\\lib\\site-packages\\sklearn\\feature_selection\\_univariate_selection.py:111: UserWarning: Features [9] are constant.\n",
      "  warnings.warn(\"Features %s are constant.\" % constant_features_idx, UserWarning)\n",
      "c:\\Users\\mbouke.besse\\OneDrive - ESTIA\\Documents\\code-dataset\\.venv\\lib\\site-packages\\sklearn\\feature_selection\\_univariate_selection.py:112: RuntimeWarning: invalid value encountered in divide\n",
      "  f = msb / msw\n"
     ]
    },
    {
     "name": "stdout",
     "output_type": "stream",
     "text": [
      "✅ longueur_avant — R² test: 0.5106\n",
      "\n",
      "⚙️ Traitement de la cible : largeur_des_hanches\n"
     ]
    },
    {
     "name": "stderr",
     "output_type": "stream",
     "text": [
      "c:\\Users\\mbouke.besse\\OneDrive - ESTIA\\Documents\\code-dataset\\.venv\\lib\\site-packages\\tpot\\tpot_estimator\\estimator.py:458: UserWarning: Both generations and max_time_mins are set. TPOT will terminate when the first condition is met.\n",
      "  warnings.warn(\"Both generations and max_time_mins are set. TPOT will terminate when the first condition is met.\")\n",
      "c:\\Users\\mbouke.besse\\OneDrive - ESTIA\\Documents\\code-dataset\\.venv\\lib\\site-packages\\distributed\\node.py:187: UserWarning: Port 8787 is already in use.\n",
      "Perhaps you already have a cluster running?\n",
      "Hosting the HTTP server on port 52575 instead\n",
      "  warnings.warn(\n",
      "Generation:  25%|████████████████████████████▊                                                                                      | 1/4 [00:58<02:54, 58.22s/it]"
     ]
    },
    {
     "name": "stdout",
     "output_type": "stream",
     "text": [
      "Generation:  1\n",
      "Best mean_squared_error score: -0.20765803742115307\n"
     ]
    },
    {
     "name": "stderr",
     "output_type": "stream",
     "text": [
      "Generation:  50%|█████████████████████████████████████████████████████████▌                                                         | 2/4 [01:48<01:47, 53.75s/it]"
     ]
    },
    {
     "name": "stdout",
     "output_type": "stream",
     "text": [
      "Generation:  2\n",
      "Best mean_squared_error score: -0.20765803742115307\n"
     ]
    },
    {
     "name": "stderr",
     "output_type": "stream",
     "text": [
      "Generation:  75%|██████████████████████████████████████████████████████████████████████████████████████▎                            | 3/4 [02:37<00:51, 51.20s/it]"
     ]
    },
    {
     "name": "stdout",
     "output_type": "stream",
     "text": [
      "Generation:  3\n",
      "Best mean_squared_error score: -0.20765803742115307\n"
     ]
    },
    {
     "name": "stderr",
     "output_type": "stream",
     "text": [
      "Generation: 100%|███████████████████████████████████████████████████████████████████████████████████████████████████████████████████| 4/4 [03:26<00:00, 51.56s/it]"
     ]
    },
    {
     "name": "stdout",
     "output_type": "stream",
     "text": [
      "Generation:  4\n",
      "Best mean_squared_error score: -0.196649226986917\n"
     ]
    },
    {
     "name": "stderr",
     "output_type": "stream",
     "text": [
      "\n",
      "c:\\Users\\mbouke.besse\\OneDrive - ESTIA\\Documents\\code-dataset\\.venv\\lib\\site-packages\\sklearn\\utils\\validation.py:2739: UserWarning: X does not have valid feature names, but LGBMRegressor was fitted with feature names\n",
      "  warnings.warn(\n",
      "c:\\Users\\mbouke.besse\\OneDrive - ESTIA\\Documents\\code-dataset\\.venv\\lib\\site-packages\\sklearn\\utils\\validation.py:2739: UserWarning: X does not have valid feature names, but LGBMRegressor was fitted with feature names\n",
      "  warnings.warn(\n",
      "c:\\Users\\mbouke.besse\\OneDrive - ESTIA\\Documents\\code-dataset\\.venv\\lib\\site-packages\\sklearn\\utils\\validation.py:2739: UserWarning: X does not have valid feature names, but LGBMRegressor was fitted with feature names\n",
      "  warnings.warn(\n",
      "c:\\Users\\mbouke.besse\\OneDrive - ESTIA\\Documents\\code-dataset\\.venv\\lib\\site-packages\\sklearn\\utils\\validation.py:2739: UserWarning: X does not have valid feature names, but LGBMRegressor was fitted with feature names\n",
      "  warnings.warn(\n",
      "c:\\Users\\mbouke.besse\\OneDrive - ESTIA\\Documents\\code-dataset\\.venv\\lib\\site-packages\\sklearn\\utils\\validation.py:2739: UserWarning: X does not have valid feature names, but LGBMRegressor was fitted with feature names\n",
      "  warnings.warn(\n",
      "c:\\Users\\mbouke.besse\\OneDrive - ESTIA\\Documents\\code-dataset\\.venv\\lib\\site-packages\\sklearn\\utils\\validation.py:2739: UserWarning: X does not have valid feature names, but LGBMRegressor was fitted with feature names\n",
      "  warnings.warn(\n",
      "c:\\Users\\mbouke.besse\\OneDrive - ESTIA\\Documents\\code-dataset\\.venv\\lib\\site-packages\\tpot\\tpot_estimator\\estimator.py:458: UserWarning: Both generations and max_time_mins are set. TPOT will terminate when the first condition is met.\n",
      "  warnings.warn(\"Both generations and max_time_mins are set. TPOT will terminate when the first condition is met.\")\n",
      "c:\\Users\\mbouke.besse\\OneDrive - ESTIA\\Documents\\code-dataset\\.venv\\lib\\site-packages\\distributed\\node.py:187: UserWarning: Port 8787 is already in use.\n",
      "Perhaps you already have a cluster running?\n",
      "Hosting the HTTP server on port 52627 instead\n",
      "  warnings.warn(\n"
     ]
    },
    {
     "name": "stdout",
     "output_type": "stream",
     "text": [
      "✅ largeur_des_hanches — R² test: 0.7401\n",
      "\n",
      "⚙️ Traitement de la cible : hauteur_des_hanches\n"
     ]
    },
    {
     "name": "stderr",
     "output_type": "stream",
     "text": [
      "Generation:  25%|████████████████████████████▊                                                                                      | 1/4 [01:05<03:15, 65.16s/it]"
     ]
    },
    {
     "name": "stdout",
     "output_type": "stream",
     "text": [
      "Generation:  1\n",
      "Best mean_squared_error score: -0.19112121721752529\n"
     ]
    },
    {
     "name": "stderr",
     "output_type": "stream",
     "text": [
      "Generation:  50%|█████████████████████████████████████████████████████████▌                                                         | 2/4 [02:25<02:28, 74.05s/it]"
     ]
    },
    {
     "name": "stdout",
     "output_type": "stream",
     "text": [
      "Generation:  2\n",
      "Best mean_squared_error score: -0.18939416427767808\n"
     ]
    },
    {
     "name": "stderr",
     "output_type": "stream",
     "text": [
      "Generation:  75%|██████████████████████████████████████████████████████████████████████████████████████▎                            | 3/4 [03:37<01:13, 73.25s/it]"
     ]
    },
    {
     "name": "stdout",
     "output_type": "stream",
     "text": [
      "Generation:  3\n",
      "Best mean_squared_error score: -0.18708805266066905\n"
     ]
    },
    {
     "name": "stderr",
     "output_type": "stream",
     "text": [
      "Generation: 100%|███████████████████████████████████████████████████████████████████████████████████████████████████████████████████| 4/4 [04:27<00:00, 66.91s/it]"
     ]
    },
    {
     "name": "stdout",
     "output_type": "stream",
     "text": [
      "Generation:  4\n",
      "Best mean_squared_error score: -0.18705729414939282\n"
     ]
    },
    {
     "name": "stderr",
     "output_type": "stream",
     "text": [
      "\n"
     ]
    },
    {
     "name": "stdout",
     "output_type": "stream",
     "text": [
      "✅ hauteur_des_hanches — R² test: 0.7030\n",
      "\n",
      "⚙️ Traitement de la cible : hauteur_des_genoux\n"
     ]
    },
    {
     "name": "stderr",
     "output_type": "stream",
     "text": [
      "c:\\Users\\mbouke.besse\\OneDrive - ESTIA\\Documents\\code-dataset\\.venv\\lib\\site-packages\\tpot\\tpot_estimator\\estimator.py:458: UserWarning: Both generations and max_time_mins are set. TPOT will terminate when the first condition is met.\n",
      "  warnings.warn(\"Both generations and max_time_mins are set. TPOT will terminate when the first condition is met.\")\n",
      "c:\\Users\\mbouke.besse\\OneDrive - ESTIA\\Documents\\code-dataset\\.venv\\lib\\site-packages\\distributed\\node.py:187: UserWarning: Port 8787 is already in use.\n",
      "Perhaps you already have a cluster running?\n",
      "Hosting the HTTP server on port 52761 instead\n",
      "  warnings.warn(\n",
      "Generation:  25%|████████████████████████████▊                                                                                      | 1/4 [01:12<03:37, 72.45s/it]"
     ]
    },
    {
     "name": "stdout",
     "output_type": "stream",
     "text": [
      "Generation:  1\n",
      "Best mean_squared_error score: -0.12095768624703204\n"
     ]
    },
    {
     "name": "stderr",
     "output_type": "stream",
     "text": [
      "Generation:  50%|█████████████████████████████████████████████████████████                                                         | 2/4 [04:18<04:38, 139.03s/it]"
     ]
    },
    {
     "name": "stdout",
     "output_type": "stream",
     "text": [
      "Generation:  2\n",
      "Best mean_squared_error score: -0.12095768624703204\n"
     ]
    },
    {
     "name": "stderr",
     "output_type": "stream",
     "text": [
      "Generation:  75%|█████████████████████████████████████████████████████████████████████████████████████▌                            | 3/4 [05:57<02:01, 121.16s/it]"
     ]
    },
    {
     "name": "stdout",
     "output_type": "stream",
     "text": [
      "Generation:  3\n",
      "Best mean_squared_error score: -0.11975500905755801\n"
     ]
    },
    {
     "name": "stderr",
     "output_type": "stream",
     "text": [
      "Generation: 100%|███████████████████████████████████████████████████████████████████████████████████████████████████████████████████| 4/4 [06:35<00:00, 98.77s/it]"
     ]
    },
    {
     "name": "stdout",
     "output_type": "stream",
     "text": [
      "Generation:  4\n",
      "Best mean_squared_error score: -0.11969944869623825\n"
     ]
    },
    {
     "name": "stderr",
     "output_type": "stream",
     "text": [
      "\n"
     ]
    },
    {
     "name": "stdout",
     "output_type": "stream",
     "text": [
      "✅ hauteur_des_genoux — R² test: 0.8084\n",
      "\n",
      "⚙️ Traitement de la cible : tour_du_cou\n"
     ]
    },
    {
     "name": "stderr",
     "output_type": "stream",
     "text": [
      "c:\\Users\\mbouke.besse\\OneDrive - ESTIA\\Documents\\code-dataset\\.venv\\lib\\site-packages\\tpot\\tpot_estimator\\estimator.py:458: UserWarning: Both generations and max_time_mins are set. TPOT will terminate when the first condition is met.\n",
      "  warnings.warn(\"Both generations and max_time_mins are set. TPOT will terminate when the first condition is met.\")\n",
      "c:\\Users\\mbouke.besse\\OneDrive - ESTIA\\Documents\\code-dataset\\.venv\\lib\\site-packages\\distributed\\node.py:187: UserWarning: Port 8787 is already in use.\n",
      "Perhaps you already have a cluster running?\n",
      "Hosting the HTTP server on port 53497 instead\n",
      "  warnings.warn(\n",
      "Generation:  25%|████████████████████████████▊                                                                                      | 1/4 [01:07<03:21, 67.30s/it]"
     ]
    },
    {
     "name": "stdout",
     "output_type": "stream",
     "text": [
      "Generation:  1\n",
      "Best mean_squared_error score: -0.36183247728959445\n"
     ]
    },
    {
     "name": "stderr",
     "output_type": "stream",
     "text": [
      "Generation:  50%|█████████████████████████████████████████████████████████▌                                                         | 2/4 [02:26<02:28, 74.08s/it]"
     ]
    },
    {
     "name": "stdout",
     "output_type": "stream",
     "text": [
      "Generation:  2\n",
      "Best mean_squared_error score: -0.36183247728959445\n"
     ]
    },
    {
     "name": "stderr",
     "output_type": "stream",
     "text": [
      "Generation:  75%|██████████████████████████████████████████████████████████████████████████████████████▎                            | 3/4 [03:41<01:14, 74.52s/it]"
     ]
    },
    {
     "name": "stdout",
     "output_type": "stream",
     "text": [
      "Generation:  3\n",
      "Best mean_squared_error score: -0.36183247728959445\n"
     ]
    },
    {
     "name": "stderr",
     "output_type": "stream",
     "text": [
      "Generation: 100%|███████████████████████████████████████████████████████████████████████████████████████████████████████████████████| 4/4 [05:03<00:00, 75.88s/it]"
     ]
    },
    {
     "name": "stdout",
     "output_type": "stream",
     "text": [
      "Generation:  4\n",
      "Best mean_squared_error score: -0.3597609669561266\n"
     ]
    },
    {
     "name": "stderr",
     "output_type": "stream",
     "text": [
      "\n",
      "c:\\Users\\mbouke.besse\\OneDrive - ESTIA\\Documents\\code-dataset\\.venv\\lib\\site-packages\\sklearn\\utils\\validation.py:2739: UserWarning: X does not have valid feature names, but LGBMRegressor was fitted with feature names\n",
      "  warnings.warn(\n",
      "c:\\Users\\mbouke.besse\\OneDrive - ESTIA\\Documents\\code-dataset\\.venv\\lib\\site-packages\\sklearn\\utils\\validation.py:2739: UserWarning: X does not have valid feature names, but LGBMRegressor was fitted with feature names\n",
      "  warnings.warn(\n",
      "c:\\Users\\mbouke.besse\\OneDrive - ESTIA\\Documents\\code-dataset\\.venv\\lib\\site-packages\\sklearn\\utils\\validation.py:2739: UserWarning: X does not have valid feature names, but LGBMRegressor was fitted with feature names\n",
      "  warnings.warn(\n",
      "c:\\Users\\mbouke.besse\\OneDrive - ESTIA\\Documents\\code-dataset\\.venv\\lib\\site-packages\\sklearn\\utils\\validation.py:2739: UserWarning: X does not have valid feature names, but LGBMRegressor was fitted with feature names\n",
      "  warnings.warn(\n",
      "c:\\Users\\mbouke.besse\\OneDrive - ESTIA\\Documents\\code-dataset\\.venv\\lib\\site-packages\\sklearn\\utils\\validation.py:2739: UserWarning: X does not have valid feature names, but LGBMRegressor was fitted with feature names\n",
      "  warnings.warn(\n",
      "c:\\Users\\mbouke.besse\\OneDrive - ESTIA\\Documents\\code-dataset\\.venv\\lib\\site-packages\\sklearn\\utils\\validation.py:2739: UserWarning: X does not have valid feature names, but LGBMRegressor was fitted with feature names\n",
      "  warnings.warn(\n",
      "c:\\Users\\mbouke.besse\\OneDrive - ESTIA\\Documents\\code-dataset\\.venv\\lib\\site-packages\\tpot\\tpot_estimator\\estimator.py:458: UserWarning: Both generations and max_time_mins are set. TPOT will terminate when the first condition is met.\n",
      "  warnings.warn(\"Both generations and max_time_mins are set. TPOT will terminate when the first condition is met.\")\n",
      "c:\\Users\\mbouke.besse\\OneDrive - ESTIA\\Documents\\code-dataset\\.venv\\lib\\site-packages\\distributed\\node.py:187: UserWarning: Port 8787 is already in use.\n",
      "Perhaps you already have a cluster running?\n",
      "Hosting the HTTP server on port 53604 instead\n",
      "  warnings.warn(\n"
     ]
    },
    {
     "name": "stdout",
     "output_type": "stream",
     "text": [
      "✅ tour_du_cou — R² test: 0.4807\n",
      "\n",
      "⚙️ Traitement de la cible : largeur_d_epaule\n"
     ]
    },
    {
     "name": "stderr",
     "output_type": "stream",
     "text": [
      "Generation:  25%|████████████████████████████▊                                                                                      | 1/4 [01:09<03:29, 69.76s/it]"
     ]
    },
    {
     "name": "stdout",
     "output_type": "stream",
     "text": [
      "Generation:  1\n",
      "Best mean_squared_error score: -0.3454571133094245\n"
     ]
    },
    {
     "name": "stderr",
     "output_type": "stream",
     "text": [
      "Generation:  50%|█████████████████████████████████████████████████████████▌                                                         | 2/4 [02:34<02:36, 78.32s/it]"
     ]
    },
    {
     "name": "stdout",
     "output_type": "stream",
     "text": [
      "Generation:  2\n",
      "Best mean_squared_error score: -0.34309328593217825\n"
     ]
    },
    {
     "name": "stderr",
     "output_type": "stream",
     "text": [
      "Generation:  75%|██████████████████████████████████████████████████████████████████████████████████████▎                            | 3/4 [03:44<01:14, 74.74s/it]"
     ]
    },
    {
     "name": "stdout",
     "output_type": "stream",
     "text": [
      "Generation:  3\n",
      "Best mean_squared_error score: -0.34309328593217825\n"
     ]
    },
    {
     "name": "stderr",
     "output_type": "stream",
     "text": [
      "Generation: 100%|███████████████████████████████████████████████████████████████████████████████████████████████████████████████████| 4/4 [05:36<00:00, 84.10s/it]"
     ]
    },
    {
     "name": "stdout",
     "output_type": "stream",
     "text": [
      "Generation:  4\n",
      "Best mean_squared_error score: -0.34192096904296165\n"
     ]
    },
    {
     "name": "stderr",
     "output_type": "stream",
     "text": [
      "\n"
     ]
    },
    {
     "name": "stdout",
     "output_type": "stream",
     "text": [
      "✅ largeur_d_epaule — R² test: 0.5044\n",
      "\n",
      "⚙️ Traitement de la cible : hauteur_des_epaules\n"
     ]
    },
    {
     "name": "stderr",
     "output_type": "stream",
     "text": [
      "c:\\Users\\mbouke.besse\\OneDrive - ESTIA\\Documents\\code-dataset\\.venv\\lib\\site-packages\\tpot\\tpot_estimator\\estimator.py:458: UserWarning: Both generations and max_time_mins are set. TPOT will terminate when the first condition is met.\n",
      "  warnings.warn(\"Both generations and max_time_mins are set. TPOT will terminate when the first condition is met.\")\n",
      "c:\\Users\\mbouke.besse\\OneDrive - ESTIA\\Documents\\code-dataset\\.venv\\lib\\site-packages\\distributed\\node.py:187: UserWarning: Port 8787 is already in use.\n",
      "Perhaps you already have a cluster running?\n",
      "Hosting the HTTP server on port 53704 instead\n",
      "  warnings.warn(\n",
      "Generation:  25%|████████████████████████████▊                                                                                      | 1/4 [01:34<04:42, 94.07s/it]"
     ]
    },
    {
     "name": "stdout",
     "output_type": "stream",
     "text": [
      "Generation:  1\n",
      "Best mean_squared_error score: -0.05623485266533612\n"
     ]
    },
    {
     "name": "stderr",
     "output_type": "stream",
     "text": [
      "Generation:  50%|█████████████████████████████████████████████████████████▌                                                         | 2/4 [03:11<03:12, 96.16s/it]"
     ]
    },
    {
     "name": "stdout",
     "output_type": "stream",
     "text": [
      "Generation:  2\n",
      "Best mean_squared_error score: -0.05616162576704127\n"
     ]
    },
    {
     "name": "stderr",
     "output_type": "stream",
     "text": [
      "Generation:  75%|██████████████████████████████████████████████████████████████████████████████████████▎                            | 3/4 [04:25<01:25, 85.94s/it]"
     ]
    },
    {
     "name": "stdout",
     "output_type": "stream",
     "text": [
      "Generation:  3\n",
      "Best mean_squared_error score: -0.05616162576704127\n"
     ]
    },
    {
     "name": "stderr",
     "output_type": "stream",
     "text": [
      "Generation: 100%|██████████████████████████████████████████████████████████████████████████████████████████████████████████████████| 4/4 [09:57<00:00, 149.39s/it]"
     ]
    },
    {
     "name": "stdout",
     "output_type": "stream",
     "text": [
      "Generation:  4\n",
      "Best mean_squared_error score: -0.05616162576704127\n"
     ]
    },
    {
     "name": "stderr",
     "output_type": "stream",
     "text": [
      "\n"
     ]
    },
    {
     "name": "stdout",
     "output_type": "stream",
     "text": [
      "✅ hauteur_des_epaules — R² test: 0.9250\n",
      "\n",
      "⚙️ Traitement de la cible : largeur_des_epaules_a_l_horizontales\n"
     ]
    },
    {
     "name": "stderr",
     "output_type": "stream",
     "text": [
      "c:\\Users\\mbouke.besse\\OneDrive - ESTIA\\Documents\\code-dataset\\.venv\\lib\\site-packages\\tpot\\tpot_estimator\\estimator.py:458: UserWarning: Both generations and max_time_mins are set. TPOT will terminate when the first condition is met.\n",
      "  warnings.warn(\"Both generations and max_time_mins are set. TPOT will terminate when the first condition is met.\")\n",
      "c:\\Users\\mbouke.besse\\OneDrive - ESTIA\\Documents\\code-dataset\\.venv\\lib\\site-packages\\distributed\\node.py:187: UserWarning: Port 8787 is already in use.\n",
      "Perhaps you already have a cluster running?\n",
      "Hosting the HTTP server on port 53807 instead\n",
      "  warnings.warn(\n",
      "Generation:  25%|████████████████████████████▊                                                                                      | 1/4 [01:10<03:31, 70.46s/it]"
     ]
    },
    {
     "name": "stdout",
     "output_type": "stream",
     "text": [
      "Generation:  1\n",
      "Best mean_squared_error score: -0.20765803742115307\n"
     ]
    },
    {
     "name": "stderr",
     "output_type": "stream",
     "text": [
      "Generation:  50%|█████████████████████████████████████████████████████████▌                                                         | 2/4 [02:16<02:15, 67.84s/it]"
     ]
    },
    {
     "name": "stdout",
     "output_type": "stream",
     "text": [
      "Generation:  2\n",
      "Best mean_squared_error score: -0.20765803742115307\n"
     ]
    },
    {
     "name": "stderr",
     "output_type": "stream",
     "text": [
      "Generation:  75%|██████████████████████████████████████████████████████████████████████████████████████▎                            | 3/4 [03:21<01:06, 66.35s/it]"
     ]
    },
    {
     "name": "stdout",
     "output_type": "stream",
     "text": [
      "Generation:  3\n",
      "Best mean_squared_error score: -0.20765803742115307\n"
     ]
    },
    {
     "name": "stderr",
     "output_type": "stream",
     "text": [
      "Generation: 100%|███████████████████████████████████████████████████████████████████████████████████████████████████████████████████| 4/4 [04:31<00:00, 67.81s/it]"
     ]
    },
    {
     "name": "stdout",
     "output_type": "stream",
     "text": [
      "Generation:  4\n",
      "Best mean_squared_error score: -0.196649226986917\n"
     ]
    },
    {
     "name": "stderr",
     "output_type": "stream",
     "text": [
      "\n",
      "c:\\Users\\mbouke.besse\\OneDrive - ESTIA\\Documents\\code-dataset\\.venv\\lib\\site-packages\\sklearn\\utils\\validation.py:2739: UserWarning: X does not have valid feature names, but LGBMRegressor was fitted with feature names\n",
      "  warnings.warn(\n",
      "c:\\Users\\mbouke.besse\\OneDrive - ESTIA\\Documents\\code-dataset\\.venv\\lib\\site-packages\\sklearn\\utils\\validation.py:2739: UserWarning: X does not have valid feature names, but LGBMRegressor was fitted with feature names\n",
      "  warnings.warn(\n",
      "c:\\Users\\mbouke.besse\\OneDrive - ESTIA\\Documents\\code-dataset\\.venv\\lib\\site-packages\\sklearn\\utils\\validation.py:2739: UserWarning: X does not have valid feature names, but LGBMRegressor was fitted with feature names\n",
      "  warnings.warn(\n",
      "c:\\Users\\mbouke.besse\\OneDrive - ESTIA\\Documents\\code-dataset\\.venv\\lib\\site-packages\\sklearn\\utils\\validation.py:2739: UserWarning: X does not have valid feature names, but LGBMRegressor was fitted with feature names\n",
      "  warnings.warn(\n",
      "c:\\Users\\mbouke.besse\\OneDrive - ESTIA\\Documents\\code-dataset\\.venv\\lib\\site-packages\\sklearn\\utils\\validation.py:2739: UserWarning: X does not have valid feature names, but LGBMRegressor was fitted with feature names\n",
      "  warnings.warn(\n",
      "c:\\Users\\mbouke.besse\\OneDrive - ESTIA\\Documents\\code-dataset\\.venv\\lib\\site-packages\\sklearn\\utils\\validation.py:2739: UserWarning: X does not have valid feature names, but LGBMRegressor was fitted with feature names\n",
      "  warnings.warn(\n",
      "c:\\Users\\mbouke.besse\\OneDrive - ESTIA\\Documents\\code-dataset\\.venv\\lib\\site-packages\\tpot\\tpot_estimator\\estimator.py:458: UserWarning: Both generations and max_time_mins are set. TPOT will terminate when the first condition is met.\n",
      "  warnings.warn(\"Both generations and max_time_mins are set. TPOT will terminate when the first condition is met.\")\n",
      "c:\\Users\\mbouke.besse\\OneDrive - ESTIA\\Documents\\code-dataset\\.venv\\lib\\site-packages\\distributed\\node.py:187: UserWarning: Port 8787 is already in use.\n",
      "Perhaps you already have a cluster running?\n",
      "Hosting the HTTP server on port 53863 instead\n",
      "  warnings.warn(\n"
     ]
    },
    {
     "name": "stdout",
     "output_type": "stream",
     "text": [
      "✅ largeur_des_epaules_a_l_horizontales — R² test: 0.7401\n",
      "\n",
      "⚙️ Traitement de la cible : longueur_de_la_colonne_vertebrale_jusqu_au_poignet\n"
     ]
    },
    {
     "name": "stderr",
     "output_type": "stream",
     "text": [
      "Generation:  25%|████████████████████████████▊                                                                                      | 1/4 [01:24<04:12, 84.29s/it]"
     ]
    },
    {
     "name": "stdout",
     "output_type": "stream",
     "text": [
      "Generation:  1\n",
      "Best mean_squared_error score: -0.1828700105369639\n"
     ]
    },
    {
     "name": "stderr",
     "output_type": "stream",
     "text": [
      "Generation:  50%|█████████████████████████████████████████████████████████                                                         | 2/4 [03:21<03:27, 103.75s/it]"
     ]
    },
    {
     "name": "stdout",
     "output_type": "stream",
     "text": [
      "Generation:  2\n",
      "Best mean_squared_error score: -0.18199944517608233\n"
     ]
    },
    {
     "name": "stderr",
     "output_type": "stream",
     "text": [
      "Generation:  75%|█████████████████████████████████████████████████████████████████████████████████████▌                            | 3/4 [05:58<02:08, 128.06s/it]"
     ]
    },
    {
     "name": "stdout",
     "output_type": "stream",
     "text": [
      "Generation:  3\n",
      "Best mean_squared_error score: -0.18195564783773321\n"
     ]
    },
    {
     "name": "stderr",
     "output_type": "stream",
     "text": [
      "Generation: 100%|██████████████████████████████████████████████████████████████████████████████████████████████████████████████████| 4/4 [07:48<00:00, 117.05s/it]"
     ]
    },
    {
     "name": "stdout",
     "output_type": "stream",
     "text": [
      "Generation:  4\n",
      "Best mean_squared_error score: -0.18195564783773321\n"
     ]
    },
    {
     "name": "stderr",
     "output_type": "stream",
     "text": [
      "\n"
     ]
    },
    {
     "name": "stdout",
     "output_type": "stream",
     "text": [
      "✅ longueur_de_la_colonne_vertebrale_jusqu_au_poignet — R² test: 0.6482\n",
      "\n",
      "⚙️ Traitement de la cible : tour_de_cuisse\n"
     ]
    },
    {
     "name": "stderr",
     "output_type": "stream",
     "text": [
      "c:\\Users\\mbouke.besse\\OneDrive - ESTIA\\Documents\\code-dataset\\.venv\\lib\\site-packages\\tpot\\tpot_estimator\\estimator.py:458: UserWarning: Both generations and max_time_mins are set. TPOT will terminate when the first condition is met.\n",
      "  warnings.warn(\"Both generations and max_time_mins are set. TPOT will terminate when the first condition is met.\")\n",
      "c:\\Users\\mbouke.besse\\OneDrive - ESTIA\\Documents\\code-dataset\\.venv\\lib\\site-packages\\distributed\\node.py:187: UserWarning: Port 8787 is already in use.\n",
      "Perhaps you already have a cluster running?\n",
      "Hosting the HTTP server on port 53978 instead\n",
      "  warnings.warn(\n",
      "Generation:  25%|████████████████████████████▊                                                                                      | 1/4 [01:27<04:22, 87.56s/it]"
     ]
    },
    {
     "name": "stdout",
     "output_type": "stream",
     "text": [
      "Generation:  1\n",
      "Best mean_squared_error score: -0.1322411840837845\n"
     ]
    },
    {
     "name": "stderr",
     "output_type": "stream",
     "text": [
      "Generation:  50%|█████████████████████████████████████████████████████████▌                                                         | 2/4 [02:34<02:30, 75.38s/it]"
     ]
    },
    {
     "name": "stdout",
     "output_type": "stream",
     "text": [
      "Generation:  2\n",
      "Best mean_squared_error score: -0.12820613242341722\n"
     ]
    },
    {
     "name": "stderr",
     "output_type": "stream",
     "text": [
      "Generation:  75%|█████████████████████████████████████████████████████████████████████████████████████▌                            | 3/4 [04:53<01:44, 104.47s/it]"
     ]
    },
    {
     "name": "stdout",
     "output_type": "stream",
     "text": [
      "Generation:  3\n",
      "Best mean_squared_error score: -0.12359880605875957\n"
     ]
    },
    {
     "name": "stderr",
     "output_type": "stream",
     "text": [
      "Generation: 100%|███████████████████████████████████████████████████████████████████████████████████████████████████████████████████| 4/4 [06:15<00:00, 93.82s/it]"
     ]
    },
    {
     "name": "stdout",
     "output_type": "stream",
     "text": [
      "Generation:  4\n",
      "Best mean_squared_error score: -0.12359769794536496\n"
     ]
    },
    {
     "name": "stderr",
     "output_type": "stream",
     "text": [
      "\n"
     ]
    },
    {
     "name": "stdout",
     "output_type": "stream",
     "text": [
      "✅ tour_de_cuisse — R² test: 0.8441\n",
      "\n",
      "⚙️ Traitement de la cible : tour_de_taille\n"
     ]
    },
    {
     "name": "stderr",
     "output_type": "stream",
     "text": [
      "c:\\Users\\mbouke.besse\\OneDrive - ESTIA\\Documents\\code-dataset\\.venv\\lib\\site-packages\\tpot\\tpot_estimator\\estimator.py:458: UserWarning: Both generations and max_time_mins are set. TPOT will terminate when the first condition is met.\n",
      "  warnings.warn(\"Both generations and max_time_mins are set. TPOT will terminate when the first condition is met.\")\n",
      "c:\\Users\\mbouke.besse\\OneDrive - ESTIA\\Documents\\code-dataset\\.venv\\lib\\site-packages\\distributed\\node.py:187: UserWarning: Port 8787 is already in use.\n",
      "Perhaps you already have a cluster running?\n",
      "Hosting the HTTP server on port 54043 instead\n",
      "  warnings.warn(\n",
      "Generation:  25%|████████████████████████████▊                                                                                      | 1/4 [01:32<04:36, 92.11s/it]"
     ]
    },
    {
     "name": "stdout",
     "output_type": "stream",
     "text": [
      "Generation:  1\n",
      "Best mean_squared_error score: -0.0825133429885958\n"
     ]
    },
    {
     "name": "stderr",
     "output_type": "stream",
     "text": [
      "Generation:  50%|█████████████████████████████████████████████████████████                                                         | 2/4 [03:58<04:08, 124.26s/it]"
     ]
    },
    {
     "name": "stdout",
     "output_type": "stream",
     "text": [
      "Generation:  2\n",
      "Best mean_squared_error score: -0.0825133429885958\n"
     ]
    },
    {
     "name": "stderr",
     "output_type": "stream",
     "text": [
      "Generation:  75%|█████████████████████████████████████████████████████████████████████████████████████▌                            | 3/4 [05:42<01:54, 114.94s/it]"
     ]
    },
    {
     "name": "stdout",
     "output_type": "stream",
     "text": [
      "Generation:  3\n",
      "Best mean_squared_error score: -0.0825133429885958\n"
     ]
    },
    {
     "name": "stderr",
     "output_type": "stream",
     "text": [
      "Generation: 100%|███████████████████████████████████████████████████████████████████████████████████████████████████████████████████| 4/4 [06:33<00:00, 98.49s/it]"
     ]
    },
    {
     "name": "stdout",
     "output_type": "stream",
     "text": [
      "Generation:  4\n",
      "Best mean_squared_error score: -0.0825133429885958\n"
     ]
    },
    {
     "name": "stderr",
     "output_type": "stream",
     "text": [
      "\n",
      "c:\\Users\\mbouke.besse\\OneDrive - ESTIA\\Documents\\code-dataset\\.venv\\lib\\site-packages\\sklearn\\feature_selection\\_univariate_selection.py:111: UserWarning: Features [3 4 5 9] are constant.\n",
      "  warnings.warn(\"Features %s are constant.\" % constant_features_idx, UserWarning)\n",
      "c:\\Users\\mbouke.besse\\OneDrive - ESTIA\\Documents\\code-dataset\\.venv\\lib\\site-packages\\sklearn\\feature_selection\\_univariate_selection.py:112: RuntimeWarning: divide by zero encountered in divide\n",
      "  f = msb / msw\n",
      "c:\\Users\\mbouke.besse\\OneDrive - ESTIA\\Documents\\code-dataset\\.venv\\lib\\site-packages\\sklearn\\feature_selection\\_univariate_selection.py:112: RuntimeWarning: invalid value encountered in divide\n",
      "  f = msb / msw\n",
      "c:\\Users\\mbouke.besse\\OneDrive - ESTIA\\Documents\\code-dataset\\.venv\\lib\\site-packages\\sklearn\\utils\\validation.py:2739: UserWarning: X does not have valid feature names, but LGBMRegressor was fitted with feature names\n",
      "  warnings.warn(\n",
      "c:\\Users\\mbouke.besse\\OneDrive - ESTIA\\Documents\\code-dataset\\.venv\\lib\\site-packages\\sklearn\\utils\\validation.py:2739: UserWarning: X does not have valid feature names, but LGBMRegressor was fitted with feature names\n",
      "  warnings.warn(\n",
      "c:\\Users\\mbouke.besse\\OneDrive - ESTIA\\Documents\\code-dataset\\.venv\\lib\\site-packages\\sklearn\\utils\\validation.py:2739: UserWarning: X does not have valid feature names, but LGBMRegressor was fitted with feature names\n",
      "  warnings.warn(\n",
      "c:\\Users\\mbouke.besse\\OneDrive - ESTIA\\Documents\\code-dataset\\.venv\\lib\\site-packages\\sklearn\\utils\\validation.py:2739: UserWarning: X does not have valid feature names, but LGBMRegressor was fitted with feature names\n",
      "  warnings.warn(\n",
      "c:\\Users\\mbouke.besse\\OneDrive - ESTIA\\Documents\\code-dataset\\.venv\\lib\\site-packages\\sklearn\\utils\\validation.py:2739: UserWarning: X does not have valid feature names, but LGBMRegressor was fitted with feature names\n",
      "  warnings.warn(\n",
      "c:\\Users\\mbouke.besse\\OneDrive - ESTIA\\Documents\\code-dataset\\.venv\\lib\\site-packages\\sklearn\\utils\\validation.py:2739: UserWarning: X does not have valid feature names, but LGBMRegressor was fitted with feature names\n",
      "  warnings.warn(\n",
      "c:\\Users\\mbouke.besse\\OneDrive - ESTIA\\Documents\\code-dataset\\.venv\\lib\\site-packages\\tpot\\tpot_estimator\\estimator.py:458: UserWarning: Both generations and max_time_mins are set. TPOT will terminate when the first condition is met.\n",
      "  warnings.warn(\"Both generations and max_time_mins are set. TPOT will terminate when the first condition is met.\")\n",
      "c:\\Users\\mbouke.besse\\OneDrive - ESTIA\\Documents\\code-dataset\\.venv\\lib\\site-packages\\distributed\\node.py:187: UserWarning: Port 8787 is already in use.\n",
      "Perhaps you already have a cluster running?\n",
      "Hosting the HTTP server on port 54125 instead\n",
      "  warnings.warn(\n"
     ]
    },
    {
     "name": "stdout",
     "output_type": "stream",
     "text": [
      "✅ tour_de_taille — R² test: 0.9066\n",
      "\n",
      "⚙️ Traitement de la cible : hauteur_de_la_taille\n"
     ]
    },
    {
     "name": "stderr",
     "output_type": "stream",
     "text": [
      "Generation:  25%|████████████████████████████▊                                                                                      | 1/4 [01:22<04:07, 82.37s/it]"
     ]
    },
    {
     "name": "stdout",
     "output_type": "stream",
     "text": [
      "Generation:  1\n",
      "Best mean_squared_error score: -0.13176259138864796\n"
     ]
    },
    {
     "name": "stderr",
     "output_type": "stream",
     "text": [
      "Generation:  50%|█████████████████████████████████████████████████████████                                                         | 2/4 [04:02<04:15, 128.00s/it]"
     ]
    },
    {
     "name": "stdout",
     "output_type": "stream",
     "text": [
      "Generation:  2\n",
      "Best mean_squared_error score: -0.12387881373419515\n"
     ]
    },
    {
     "name": "stderr",
     "output_type": "stream",
     "text": [
      "Generation:  75%|█████████████████████████████████████████████████████████████████████████████████████▌                            | 3/4 [05:55<02:01, 121.22s/it]"
     ]
    },
    {
     "name": "stdout",
     "output_type": "stream",
     "text": [
      "Generation:  3\n",
      "Best mean_squared_error score: -0.1236057515037039\n"
     ]
    },
    {
     "name": "stderr",
     "output_type": "stream",
     "text": [
      "Generation: 100%|██████████████████████████████████████████████████████████████████████████████████████████████████████████████████| 4/4 [07:36<00:00, 114.12s/it]"
     ]
    },
    {
     "name": "stdout",
     "output_type": "stream",
     "text": [
      "Generation:  4\n",
      "Best mean_squared_error score: -0.12360350145683208\n"
     ]
    },
    {
     "name": "stderr",
     "output_type": "stream",
     "text": [
      "\n"
     ]
    },
    {
     "name": "stdout",
     "output_type": "stream",
     "text": [
      "✅ hauteur_de_la_taille — R² test: 0.7867\n"
     ]
    }
   ],
   "source": [
    "from tpot import TPOTRegressor\n",
    "from sklearn.model_selection import train_test_split\n",
    "from sklearn.impute import SimpleImputer\n",
    "import pandas as pd\n",
    "import numpy as np\n",
    "\n",
    "def entrainer_tpot_regressions(df, colonnes_explicatives, colonnes_cibles, generations=4, population_size=20, random_state=42):\n",
    "    \"\"\"\n",
    "    Utilise TPOT pour entraîner un modèle de régression automatique pour chaque variable cible.\n",
    "\n",
    "    Args:\n",
    "        df (pd.DataFrame): Le DataFrame complet.\n",
    "        colonnes_explicatives (list): Colonnes d'entrée.\n",
    "        colonnes_cibles (list): Colonnes cibles à prédire.\n",
    "        generations (int): Nombre de générations pour TPOT.\n",
    "        population_size (int): Taille de la population.\n",
    "        random_state (int): Graine aléatoire.\n",
    "\n",
    "    Returns:\n",
    "        dict: Contient le score R² et le pipeline pour chaque cible.\n",
    "    \"\"\"\n",
    "    resultats = {}\n",
    "\n",
    "    # 1. Imputation des NaN\n",
    "    imputer = SimpleImputer(strategy='median')\n",
    "    df_imputed = pd.DataFrame(imputer.fit_transform(df), columns=df.columns)\n",
    "\n",
    "    for cible in colonnes_cibles:\n",
    "        print(f\"\\n⚙️ Traitement de la cible : {cible}\")\n",
    "\n",
    "        X = df_imputed[colonnes_explicatives]\n",
    "        y = df_imputed[cible]\n",
    "\n",
    "        # 2. Split pour test\n",
    "        X_train, X_test, y_train, y_test = train_test_split(\n",
    "            X, y, test_size=0.2, random_state=random_state\n",
    "        )\n",
    "\n",
    "        # 3. TPOT\n",
    "        tpot = TPOTRegressor(\n",
    "            generations=generations,\n",
    "            population_size=population_size,\n",
    "            verbose=3,\n",
    "            random_state=random_state,\n",
    "            n_jobs=1,\n",
    "            cv=2\n",
    "        )\n",
    "\n",
    "        tpot.fit(X_train, y_train)\n",
    "\n",
    "        # 4. Score sur test\n",
    "        r2_test = tpot.fitted_pipeline_.score(X_test, y_test)\n",
    "        print(f\"✅ {cible} — R² test: {r2_test:.4f}\")\n",
    "\n",
    "        resultats[cible] = {\n",
    "            'r2_test': r2_test,\n",
    "            'pipeline': tpot.fitted_pipeline_,\n",
    "            'tpot_object': tpot\n",
    "        }\n",
    "\n",
    "    return resultats\n",
    "colonnes_X = ['taille', 'age', 'weight',\n",
    "              'categorie_ventre_plat', 'categorie_ventre_moyen', 'categorie_ventre_rond',\n",
    "              'categorie_torse_fin', 'categorie_torse_moyen', 'categorie_torse_large',\n",
    "              'categorie_cuisses_fines', 'categorie_cuisses_moyennes', 'categorie_cuisses_larges']\n",
    "\n",
    "colonnes_X_valides = [col for col in colonnes_X if col in df_scaled.columns]\n",
    "colonnes_y = [col for col in df_scaled.columns if col not in colonnes_X_valides]\n",
    "\n",
    "resultats_tpot = entrainer_tpot_regressions(df_scaled, colonnes_X_valides, colonnes_y)\n"
   ]
  }
 ],
 "metadata": {
  "kernelspec": {
   "display_name": "Python 3 (ipykernel)",
   "language": "python",
   "name": "python3"
  },
  "language_info": {
   "codemirror_mode": {
    "name": "ipython",
    "version": 3
   },
   "file_extension": ".py",
   "mimetype": "text/x-python",
   "name": "python",
   "nbconvert_exporter": "python",
   "pygments_lexer": "ipython3",
   "version": "3.10.10"
  }
 },
 "nbformat": 4,
 "nbformat_minor": 5
}

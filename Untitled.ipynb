{
 "cells": [
  {
   "cell_type": "code",
   "execution_count": 96,
   "id": "dc7e7f82-777e-49ba-8709-6e2bf517aa19",
   "metadata": {
    "execution": {
     "iopub.execute_input": "2025-07-11T10:54:09.026863Z",
     "iopub.status.busy": "2025-07-11T10:54:09.026863Z",
     "iopub.status.idle": "2025-07-11T10:54:09.044890Z",
     "shell.execute_reply": "2025-07-11T10:54:09.044007Z",
     "shell.execute_reply.started": "2025-07-11T10:54:09.026863Z"
    }
   },
   "outputs": [],
   "source": [
    "import pandas as pd"
   ]
  },
  {
   "cell_type": "code",
   "execution_count": 126,
   "id": "e192c633-af00-4854-bd6e-59b3539f1057",
   "metadata": {
    "execution": {
     "iopub.execute_input": "2025-07-11T11:11:28.984848Z",
     "iopub.status.busy": "2025-07-11T11:11:28.983856Z",
     "iopub.status.idle": "2025-07-11T11:11:29.023104Z",
     "shell.execute_reply": "2025-07-11T11:11:29.021595Z",
     "shell.execute_reply.started": "2025-07-11T11:11:28.984848Z"
    }
   },
   "outputs": [],
   "source": [
    "man_df = pd.read_csv('data/Body Measurements _ original_CSV.csv', encoding='cp1252', sep=';')"
   ]
  },
  {
   "cell_type": "code",
   "execution_count": 127,
   "id": "8e456c28-5d85-4433-9473-4e38070ecc2d",
   "metadata": {
    "execution": {
     "iopub.execute_input": "2025-07-11T11:11:30.498319Z",
     "iopub.status.busy": "2025-07-11T11:11:30.497316Z",
     "iopub.status.idle": "2025-07-11T11:11:30.523781Z",
     "shell.execute_reply": "2025-07-11T11:11:30.522787Z",
     "shell.execute_reply.started": "2025-07-11T11:11:30.498319Z"
    }
   },
   "outputs": [
    {
     "data": {
      "text/plain": [
       "Index(['Gender', 'Age', 'HeadCircumference', 'ShoulderWidth', 'ChestWidth ',\n",
       "       'Belly ', 'Waist ', 'Hips ', 'ArmLength ', 'ShoulderToWaist ',\n",
       "       'WaistToKnee ', 'LegLength', 'TotalHeight'],\n",
       "      dtype='object')"
      ]
     },
     "execution_count": 127,
     "metadata": {},
     "output_type": "execute_result"
    }
   ],
   "source": [
    "man_df.columns"
   ]
  },
  {
   "cell_type": "code",
   "execution_count": 114,
   "id": "b7e126be-5fb1-459a-bfc5-4c115d279b45",
   "metadata": {
    "execution": {
     "iopub.execute_input": "2025-07-11T11:00:08.220867Z",
     "iopub.status.busy": "2025-07-11T11:00:08.220867Z",
     "iopub.status.idle": "2025-07-11T11:00:08.246674Z",
     "shell.execute_reply": "2025-07-11T11:00:08.245667Z",
     "shell.execute_reply.started": "2025-07-11T11:00:08.220867Z"
    }
   },
   "outputs": [
    {
     "data": {
      "text/html": [
       "<div>\n",
       "<style scoped>\n",
       "    .dataframe tbody tr th:only-of-type {\n",
       "        vertical-align: middle;\n",
       "    }\n",
       "\n",
       "    .dataframe tbody tr th {\n",
       "        vertical-align: top;\n",
       "    }\n",
       "\n",
       "    .dataframe thead th {\n",
       "        text-align: right;\n",
       "    }\n",
       "</style>\n",
       "<table border=\"1\" class=\"dataframe\">\n",
       "  <thead>\n",
       "    <tr style=\"text-align: right;\">\n",
       "      <th></th>\n",
       "      <th>Weight</th>\n",
       "      <th>Body Shape Index</th>\n",
       "      <th>Waist</th>\n",
       "      <th>Hips</th>\n",
       "      <th>Bust/Chest</th>\n",
       "      <th>Height</th>\n",
       "    </tr>\n",
       "  </thead>\n",
       "  <tbody>\n",
       "    <tr>\n",
       "      <th>count</th>\n",
       "      <td>20000.000000</td>\n",
       "      <td>20000.000000</td>\n",
       "      <td>20000.000000</td>\n",
       "      <td>20000.000000</td>\n",
       "      <td>20000.000000</td>\n",
       "      <td>20000.000000</td>\n",
       "    </tr>\n",
       "    <tr>\n",
       "      <th>mean</th>\n",
       "      <td>71.032300</td>\n",
       "      <td>1.701900</td>\n",
       "      <td>101.346014</td>\n",
       "      <td>90.989630</td>\n",
       "      <td>106.305063</td>\n",
       "      <td>182.044474</td>\n",
       "    </tr>\n",
       "    <tr>\n",
       "      <th>std</th>\n",
       "      <td>15.241731</td>\n",
       "      <td>1.481636</td>\n",
       "      <td>15.431711</td>\n",
       "      <td>17.010835</td>\n",
       "      <td>14.412298</td>\n",
       "      <td>14.897875</td>\n",
       "    </tr>\n",
       "    <tr>\n",
       "      <th>min</th>\n",
       "      <td>42.000000</td>\n",
       "      <td>0.000000</td>\n",
       "      <td>66.040000</td>\n",
       "      <td>66.040000</td>\n",
       "      <td>76.200000</td>\n",
       "      <td>147.320000</td>\n",
       "    </tr>\n",
       "    <tr>\n",
       "      <th>25%</th>\n",
       "      <td>61.000000</td>\n",
       "      <td>0.000000</td>\n",
       "      <td>88.660000</td>\n",
       "      <td>75.270000</td>\n",
       "      <td>96.277500</td>\n",
       "      <td>171.600000</td>\n",
       "    </tr>\n",
       "    <tr>\n",
       "      <th>50%</th>\n",
       "      <td>72.000000</td>\n",
       "      <td>1.000000</td>\n",
       "      <td>104.110000</td>\n",
       "      <td>91.640000</td>\n",
       "      <td>106.530000</td>\n",
       "      <td>187.550000</td>\n",
       "    </tr>\n",
       "    <tr>\n",
       "      <th>75%</th>\n",
       "      <td>82.000000</td>\n",
       "      <td>3.000000</td>\n",
       "      <td>114.540000</td>\n",
       "      <td>105.390000</td>\n",
       "      <td>117.892500</td>\n",
       "      <td>193.902500</td>\n",
       "    </tr>\n",
       "    <tr>\n",
       "      <th>max</th>\n",
       "      <td>117.000000</td>\n",
       "      <td>4.000000</td>\n",
       "      <td>121.920000</td>\n",
       "      <td>127.000000</td>\n",
       "      <td>132.080000</td>\n",
       "      <td>198.120000</td>\n",
       "    </tr>\n",
       "  </tbody>\n",
       "</table>\n",
       "</div>"
      ],
      "text/plain": [
       "             Weight  Body Shape Index         Waist          Hips  \\\n",
       "count  20000.000000      20000.000000  20000.000000  20000.000000   \n",
       "mean      71.032300          1.701900    101.346014     90.989630   \n",
       "std       15.241731          1.481636     15.431711     17.010835   \n",
       "min       42.000000          0.000000     66.040000     66.040000   \n",
       "25%       61.000000          0.000000     88.660000     75.270000   \n",
       "50%       72.000000          1.000000    104.110000     91.640000   \n",
       "75%       82.000000          3.000000    114.540000    105.390000   \n",
       "max      117.000000          4.000000    121.920000    127.000000   \n",
       "\n",
       "         Bust/Chest        Height  \n",
       "count  20000.000000  20000.000000  \n",
       "mean     106.305063    182.044474  \n",
       "std       14.412298     14.897875  \n",
       "min       76.200000    147.320000  \n",
       "25%       96.277500    171.600000  \n",
       "50%      106.530000    187.550000  \n",
       "75%      117.892500    193.902500  \n",
       "max      132.080000    198.120000  "
      ]
     },
     "execution_count": 114,
     "metadata": {},
     "output_type": "execute_result"
    }
   ],
   "source": [
    "man_df.describe()"
   ]
  },
  {
   "cell_type": "code",
   "execution_count": 115,
   "id": "c80266f6-9a3c-4586-99b6-c44ce299fbba",
   "metadata": {
    "execution": {
     "iopub.execute_input": "2025-07-11T11:00:09.570651Z",
     "iopub.status.busy": "2025-07-11T11:00:09.570651Z",
     "iopub.status.idle": "2025-07-11T11:00:09.583167Z",
     "shell.execute_reply": "2025-07-11T11:00:09.582208Z",
     "shell.execute_reply.started": "2025-07-11T11:00:09.570651Z"
    }
   },
   "outputs": [
    {
     "name": "stdout",
     "output_type": "stream",
     "text": [
      "<class 'pandas.core.frame.DataFrame'>\n",
      "RangeIndex: 20000 entries, 0 to 19999\n",
      "Data columns (total 7 columns):\n",
      " #   Column            Non-Null Count  Dtype  \n",
      "---  ------            --------------  -----  \n",
      " 0   Gender            20000 non-null  object \n",
      " 1   Weight            20000 non-null  int64  \n",
      " 2   Body Shape Index  20000 non-null  int64  \n",
      " 3   Waist             20000 non-null  float64\n",
      " 4   Hips              20000 non-null  float64\n",
      " 5   Bust/Chest        20000 non-null  float64\n",
      " 6   Height            20000 non-null  float64\n",
      "dtypes: float64(4), int64(2), object(1)\n",
      "memory usage: 1.1+ MB\n"
     ]
    }
   ],
   "source": [
    "man_df.info()"
   ]
  },
  {
   "cell_type": "code",
   "execution_count": null,
   "id": "82459240-b346-4aa0-864e-7a24da256ff0",
   "metadata": {},
   "outputs": [],
   "source": []
  }
 ],
 "metadata": {
  "kernelspec": {
   "display_name": "Python 3 (ipykernel)",
   "language": "python",
   "name": "python3"
  },
  "language_info": {
   "codemirror_mode": {
    "name": "ipython",
    "version": 3
   },
   "file_extension": ".py",
   "mimetype": "text/x-python",
   "name": "python",
   "nbconvert_exporter": "python",
   "pygments_lexer": "ipython3",
   "version": "3.10.10"
  }
 },
 "nbformat": 4,
 "nbformat_minor": 5
}

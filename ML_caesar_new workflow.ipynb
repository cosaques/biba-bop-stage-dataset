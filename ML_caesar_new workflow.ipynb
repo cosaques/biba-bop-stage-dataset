{
 "cells": [
  {
   "cell_type": "code",
   "execution_count": 1,
   "id": "6e972aeb-01a6-4cfe-ad78-3909c7ab8daa",
   "metadata": {
    "execution": {
     "iopub.execute_input": "2025-07-28T13:16:24.460134Z",
     "iopub.status.busy": "2025-07-28T13:16:24.459415Z",
     "iopub.status.idle": "2025-07-28T13:16:25.542268Z",
     "shell.execute_reply": "2025-07-28T13:16:25.541938Z",
     "shell.execute_reply.started": "2025-07-28T13:16:24.460117Z"
    }
   },
   "outputs": [],
   "source": [
    "import pandas as pd"
   ]
  },
  {
   "cell_type": "code",
   "execution_count": 2,
   "id": "901ba372-955a-4671-b525-09d7f0e60723",
   "metadata": {
    "execution": {
     "iopub.execute_input": "2025-07-28T13:16:26.817595Z",
     "iopub.status.busy": "2025-07-28T13:16:26.816883Z",
     "iopub.status.idle": "2025-07-28T13:16:26.840953Z",
     "shell.execute_reply": "2025-07-28T13:16:26.840473Z",
     "shell.execute_reply.started": "2025-07-28T13:16:26.817568Z"
    }
   },
   "outputs": [],
   "source": [
    "man_df = pd.read_csv('data/caesar_fr.csv', encoding='utf-8', sep=';')\n",
    "man_df=man_df.sample(frac=1)"
   ]
  },
  {
   "cell_type": "code",
   "execution_count": 3,
   "id": "d887b0cf-e22c-477b-aa0a-95310ade35a6",
   "metadata": {
    "execution": {
     "iopub.execute_input": "2025-07-28T13:16:28.638335Z",
     "iopub.status.busy": "2025-07-28T13:16:28.637964Z",
     "iopub.status.idle": "2025-07-28T13:16:28.644528Z",
     "shell.execute_reply": "2025-07-28T13:16:28.643997Z",
     "shell.execute_reply.started": "2025-07-28T13:16:28.638311Z"
    }
   },
   "outputs": [],
   "source": [
    "caesar_male = man_df[man_df['sex'] == 1]"
   ]
  },
  {
   "cell_type": "code",
   "execution_count": 4,
   "id": "6af9bf27-985d-4dd3-83b9-9125fba91adc",
   "metadata": {
    "execution": {
     "iopub.execute_input": "2025-07-28T13:16:30.529291Z",
     "iopub.status.busy": "2025-07-28T13:16:30.528788Z",
     "iopub.status.idle": "2025-07-28T13:16:30.533253Z",
     "shell.execute_reply": "2025-07-28T13:16:30.532818Z",
     "shell.execute_reply.started": "2025-07-28T13:16:30.529267Z"
    }
   },
   "outputs": [],
   "source": [
    "data=pd.DataFrame()"
   ]
  },
  {
   "cell_type": "code",
   "execution_count": 5,
   "id": "3ac6cbd4-7b91-4247-aefc-f91c1b924147",
   "metadata": {
    "execution": {
     "iopub.execute_input": "2025-07-28T13:16:34.197238Z",
     "iopub.status.busy": "2025-07-28T13:16:34.196684Z",
     "iopub.status.idle": "2025-07-28T13:16:34.200996Z",
     "shell.execute_reply": "2025-07-28T13:16:34.200500Z",
     "shell.execute_reply.started": "2025-07-28T13:16:34.197211Z"
    }
   },
   "outputs": [],
   "source": [
    "data=caesar_male.copy()"
   ]
  },
  {
   "cell_type": "code",
   "execution_count": 6,
   "id": "4d10fac9-6033-4f58-929d-30e83b72f73c",
   "metadata": {
    "execution": {
     "iopub.execute_input": "2025-07-25T09:12:05.395840Z",
     "iopub.status.busy": "2025-07-25T09:12:05.394838Z",
     "iopub.status.idle": "2025-07-25T09:12:05.610718Z",
     "shell.execute_reply": "2025-07-25T09:12:05.607842Z",
     "shell.execute_reply.started": "2025-07-25T09:12:05.395840Z"
    }
   },
   "outputs": [
    {
     "data": {
      "text/html": [
       "<div>\n",
       "<style scoped>\n",
       "    .dataframe tbody tr th:only-of-type {\n",
       "        vertical-align: middle;\n",
       "    }\n",
       "\n",
       "    .dataframe tbody tr th {\n",
       "        vertical-align: top;\n",
       "    }\n",
       "\n",
       "    .dataframe thead th {\n",
       "        text-align: right;\n",
       "    }\n",
       "</style>\n",
       "<table border=\"1\" class=\"dataframe\">\n",
       "  <thead>\n",
       "    <tr style=\"text-align: right;\">\n",
       "      <th></th>\n",
       "      <th>taille</th>\n",
       "      <th>age</th>\n",
       "      <th>weight</th>\n",
       "      <th>sex</th>\n",
       "      <th>tour_de_cheville</th>\n",
       "      <th>longueur_du_bras</th>\n",
       "      <th>largeur_du_dos</th>\n",
       "      <th>tour_de_ventre_maximal</th>\n",
       "      <th>tour_de_poitrine</th>\n",
       "      <th>tour_de_poitrine_mesure_a_la_main</th>\n",
       "      <th>...</th>\n",
       "      <th>angle_de_l_epaule</th>\n",
       "      <th>longueur_du_côte</th>\n",
       "      <th>longueur_du_tronc</th>\n",
       "      <th>longueur_de_sous_poitrine</th>\n",
       "      <th>largeur_de_la_taille</th>\n",
       "      <th>tour_de_poignet</th>\n",
       "      <th>largeur_du_bassin</th>\n",
       "      <th>profondeur_de_poitrine</th>\n",
       "      <th>tour_d_epaule</th>\n",
       "      <th>longueur_d_avant_bras</th>\n",
       "    </tr>\n",
       "  </thead>\n",
       "  <tbody>\n",
       "    <tr>\n",
       "      <th>count</th>\n",
       "      <td>2106.000000</td>\n",
       "      <td>2102.000000</td>\n",
       "      <td>2106.000000</td>\n",
       "      <td>2107.0</td>\n",
       "      <td>2107.000000</td>\n",
       "      <td>2104.000000</td>\n",
       "      <td>2052.000000</td>\n",
       "      <td>2107.0</td>\n",
       "      <td>2106.000000</td>\n",
       "      <td>0.0</td>\n",
       "      <td>...</td>\n",
       "      <td>2107.0</td>\n",
       "      <td>2107.0</td>\n",
       "      <td>2107.0</td>\n",
       "      <td>2107.0</td>\n",
       "      <td>2107.0</td>\n",
       "      <td>2107.0</td>\n",
       "      <td>2107.0</td>\n",
       "      <td>2107.0</td>\n",
       "      <td>2107.0</td>\n",
       "      <td>2107.0</td>\n",
       "    </tr>\n",
       "    <tr>\n",
       "      <th>mean</th>\n",
       "      <td>177.913588</td>\n",
       "      <td>37.538297</td>\n",
       "      <td>82.985266</td>\n",
       "      <td>1.0</td>\n",
       "      <td>26.720221</td>\n",
       "      <td>64.139418</td>\n",
       "      <td>41.485936</td>\n",
       "      <td>0.0</td>\n",
       "      <td>101.697680</td>\n",
       "      <td>NaN</td>\n",
       "      <td>...</td>\n",
       "      <td>0.0</td>\n",
       "      <td>0.0</td>\n",
       "      <td>0.0</td>\n",
       "      <td>0.0</td>\n",
       "      <td>0.0</td>\n",
       "      <td>0.0</td>\n",
       "      <td>0.0</td>\n",
       "      <td>0.0</td>\n",
       "      <td>0.0</td>\n",
       "      <td>0.0</td>\n",
       "    </tr>\n",
       "    <tr>\n",
       "      <th>std</th>\n",
       "      <td>8.431030</td>\n",
       "      <td>12.763015</td>\n",
       "      <td>17.167743</td>\n",
       "      <td>0.0</td>\n",
       "      <td>1.545217</td>\n",
       "      <td>3.591747</td>\n",
       "      <td>2.403755</td>\n",
       "      <td>0.0</td>\n",
       "      <td>10.616289</td>\n",
       "      <td>NaN</td>\n",
       "      <td>...</td>\n",
       "      <td>0.0</td>\n",
       "      <td>0.0</td>\n",
       "      <td>0.0</td>\n",
       "      <td>0.0</td>\n",
       "      <td>0.0</td>\n",
       "      <td>0.0</td>\n",
       "      <td>0.0</td>\n",
       "      <td>0.0</td>\n",
       "      <td>0.0</td>\n",
       "      <td>0.0</td>\n",
       "    </tr>\n",
       "    <tr>\n",
       "      <th>min</th>\n",
       "      <td>131.495800</td>\n",
       "      <td>17.500000</td>\n",
       "      <td>45.812792</td>\n",
       "      <td>1.0</td>\n",
       "      <td>22.199600</td>\n",
       "      <td>40.894000</td>\n",
       "      <td>33.147000</td>\n",
       "      <td>0.0</td>\n",
       "      <td>75.793600</td>\n",
       "      <td>NaN</td>\n",
       "      <td>...</td>\n",
       "      <td>0.0</td>\n",
       "      <td>0.0</td>\n",
       "      <td>0.0</td>\n",
       "      <td>0.0</td>\n",
       "      <td>0.0</td>\n",
       "      <td>0.0</td>\n",
       "      <td>0.0</td>\n",
       "      <td>0.0</td>\n",
       "      <td>0.0</td>\n",
       "      <td>0.0</td>\n",
       "    </tr>\n",
       "    <tr>\n",
       "      <th>25%</th>\n",
       "      <td>172.212000</td>\n",
       "      <td>26.200000</td>\n",
       "      <td>70.801175</td>\n",
       "      <td>1.0</td>\n",
       "      <td>25.704800</td>\n",
       "      <td>61.798200</td>\n",
       "      <td>39.801800</td>\n",
       "      <td>0.0</td>\n",
       "      <td>94.411800</td>\n",
       "      <td>NaN</td>\n",
       "      <td>...</td>\n",
       "      <td>0.0</td>\n",
       "      <td>0.0</td>\n",
       "      <td>0.0</td>\n",
       "      <td>0.0</td>\n",
       "      <td>0.0</td>\n",
       "      <td>0.0</td>\n",
       "      <td>0.0</td>\n",
       "      <td>0.0</td>\n",
       "      <td>0.0</td>\n",
       "      <td>0.0</td>\n",
       "    </tr>\n",
       "    <tr>\n",
       "      <th>50%</th>\n",
       "      <td>177.495200</td>\n",
       "      <td>37.000000</td>\n",
       "      <td>80.058988</td>\n",
       "      <td>1.0</td>\n",
       "      <td>26.593800</td>\n",
       "      <td>64.008000</td>\n",
       "      <td>41.478200</td>\n",
       "      <td>0.0</td>\n",
       "      <td>100.406200</td>\n",
       "      <td>NaN</td>\n",
       "      <td>...</td>\n",
       "      <td>0.0</td>\n",
       "      <td>0.0</td>\n",
       "      <td>0.0</td>\n",
       "      <td>0.0</td>\n",
       "      <td>0.0</td>\n",
       "      <td>0.0</td>\n",
       "      <td>0.0</td>\n",
       "      <td>0.0</td>\n",
       "      <td>0.0</td>\n",
       "      <td>0.0</td>\n",
       "    </tr>\n",
       "    <tr>\n",
       "      <th>75%</th>\n",
       "      <td>183.311800</td>\n",
       "      <td>47.000000</td>\n",
       "      <td>91.398788</td>\n",
       "      <td>1.0</td>\n",
       "      <td>27.711400</td>\n",
       "      <td>66.395600</td>\n",
       "      <td>43.027600</td>\n",
       "      <td>0.0</td>\n",
       "      <td>107.670600</td>\n",
       "      <td>NaN</td>\n",
       "      <td>...</td>\n",
       "      <td>0.0</td>\n",
       "      <td>0.0</td>\n",
       "      <td>0.0</td>\n",
       "      <td>0.0</td>\n",
       "      <td>0.0</td>\n",
       "      <td>0.0</td>\n",
       "      <td>0.0</td>\n",
       "      <td>0.0</td>\n",
       "      <td>0.0</td>\n",
       "      <td>0.0</td>\n",
       "    </tr>\n",
       "    <tr>\n",
       "      <th>max</th>\n",
       "      <td>218.287600</td>\n",
       "      <td>79.000000</td>\n",
       "      <td>181.436800</td>\n",
       "      <td>1.0</td>\n",
       "      <td>36.703000</td>\n",
       "      <td>80.391000</td>\n",
       "      <td>50.165000</td>\n",
       "      <td>0.0</td>\n",
       "      <td>157.403800</td>\n",
       "      <td>NaN</td>\n",
       "      <td>...</td>\n",
       "      <td>0.0</td>\n",
       "      <td>0.0</td>\n",
       "      <td>0.0</td>\n",
       "      <td>0.0</td>\n",
       "      <td>0.0</td>\n",
       "      <td>0.0</td>\n",
       "      <td>0.0</td>\n",
       "      <td>0.0</td>\n",
       "      <td>0.0</td>\n",
       "      <td>0.0</td>\n",
       "    </tr>\n",
       "  </tbody>\n",
       "</table>\n",
       "<p>8 rows × 44 columns</p>\n",
       "</div>"
      ],
      "text/plain": [
       "            taille          age       weight     sex  tour_de_cheville  \\\n",
       "count  2106.000000  2102.000000  2106.000000  2107.0       2107.000000   \n",
       "mean    177.913588    37.538297    82.985266     1.0         26.720221   \n",
       "std       8.431030    12.763015    17.167743     0.0          1.545217   \n",
       "min     131.495800    17.500000    45.812792     1.0         22.199600   \n",
       "25%     172.212000    26.200000    70.801175     1.0         25.704800   \n",
       "50%     177.495200    37.000000    80.058988     1.0         26.593800   \n",
       "75%     183.311800    47.000000    91.398788     1.0         27.711400   \n",
       "max     218.287600    79.000000   181.436800     1.0         36.703000   \n",
       "\n",
       "       longueur_du_bras  largeur_du_dos  tour_de_ventre_maximal  \\\n",
       "count       2104.000000     2052.000000                  2107.0   \n",
       "mean          64.139418       41.485936                     0.0   \n",
       "std            3.591747        2.403755                     0.0   \n",
       "min           40.894000       33.147000                     0.0   \n",
       "25%           61.798200       39.801800                     0.0   \n",
       "50%           64.008000       41.478200                     0.0   \n",
       "75%           66.395600       43.027600                     0.0   \n",
       "max           80.391000       50.165000                     0.0   \n",
       "\n",
       "       tour_de_poitrine  tour_de_poitrine_mesure_a_la_main  ...  \\\n",
       "count       2106.000000                                0.0  ...   \n",
       "mean         101.697680                                NaN  ...   \n",
       "std           10.616289                                NaN  ...   \n",
       "min           75.793600                                NaN  ...   \n",
       "25%           94.411800                                NaN  ...   \n",
       "50%          100.406200                                NaN  ...   \n",
       "75%          107.670600                                NaN  ...   \n",
       "max          157.403800                                NaN  ...   \n",
       "\n",
       "       angle_de_l_epaule  longueur_du_côte  longueur_du_tronc  \\\n",
       "count             2107.0            2107.0             2107.0   \n",
       "mean                 0.0               0.0                0.0   \n",
       "std                  0.0               0.0                0.0   \n",
       "min                  0.0               0.0                0.0   \n",
       "25%                  0.0               0.0                0.0   \n",
       "50%                  0.0               0.0                0.0   \n",
       "75%                  0.0               0.0                0.0   \n",
       "max                  0.0               0.0                0.0   \n",
       "\n",
       "       longueur_de_sous_poitrine  largeur_de_la_taille  tour_de_poignet  \\\n",
       "count                     2107.0                2107.0           2107.0   \n",
       "mean                         0.0                   0.0              0.0   \n",
       "std                          0.0                   0.0              0.0   \n",
       "min                          0.0                   0.0              0.0   \n",
       "25%                          0.0                   0.0              0.0   \n",
       "50%                          0.0                   0.0              0.0   \n",
       "75%                          0.0                   0.0              0.0   \n",
       "max                          0.0                   0.0              0.0   \n",
       "\n",
       "       largeur_du_bassin  profondeur_de_poitrine  tour_d_epaule  \\\n",
       "count             2107.0                  2107.0         2107.0   \n",
       "mean                 0.0                     0.0            0.0   \n",
       "std                  0.0                     0.0            0.0   \n",
       "min                  0.0                     0.0            0.0   \n",
       "25%                  0.0                     0.0            0.0   \n",
       "50%                  0.0                     0.0            0.0   \n",
       "75%                  0.0                     0.0            0.0   \n",
       "max                  0.0                     0.0            0.0   \n",
       "\n",
       "       longueur_d_avant_bras  \n",
       "count                 2107.0  \n",
       "mean                     0.0  \n",
       "std                      0.0  \n",
       "min                      0.0  \n",
       "25%                      0.0  \n",
       "50%                      0.0  \n",
       "75%                      0.0  \n",
       "max                      0.0  \n",
       "\n",
       "[8 rows x 44 columns]"
      ]
     },
     "execution_count": 6,
     "metadata": {},
     "output_type": "execute_result"
    }
   ],
   "source": [
    "data.describe()"
   ]
  },
  {
   "cell_type": "code",
   "execution_count": 7,
   "id": "b03afeb0-9cfe-41f7-a842-4da5bfea3b80",
   "metadata": {
    "execution": {
     "iopub.execute_input": "2025-07-25T09:12:05.613714Z",
     "iopub.status.busy": "2025-07-25T09:12:05.612712Z",
     "iopub.status.idle": "2025-07-25T09:12:05.655843Z",
     "shell.execute_reply": "2025-07-25T09:12:05.653956Z",
     "shell.execute_reply.started": "2025-07-25T09:12:05.613714Z"
    }
   },
   "outputs": [],
   "source": [
    "data=data.drop_duplicates()"
   ]
  },
  {
   "cell_type": "code",
   "execution_count": 8,
   "id": "099f2e05-5e49-4850-81bc-e89594fe7c73",
   "metadata": {
    "execution": {
     "iopub.execute_input": "2025-07-25T09:12:05.658848Z",
     "iopub.status.busy": "2025-07-25T09:12:05.657851Z",
     "iopub.status.idle": "2025-07-25T09:12:05.687760Z",
     "shell.execute_reply": "2025-07-25T09:12:05.684402Z",
     "shell.execute_reply.started": "2025-07-25T09:12:05.658848Z"
    }
   },
   "outputs": [
    {
     "data": {
      "text/html": [
       "<div>\n",
       "<style scoped>\n",
       "    .dataframe tbody tr th:only-of-type {\n",
       "        vertical-align: middle;\n",
       "    }\n",
       "\n",
       "    .dataframe tbody tr th {\n",
       "        vertical-align: top;\n",
       "    }\n",
       "\n",
       "    .dataframe thead th {\n",
       "        text-align: right;\n",
       "    }\n",
       "</style>\n",
       "<table border=\"1\" class=\"dataframe\">\n",
       "  <thead>\n",
       "    <tr style=\"text-align: right;\">\n",
       "      <th></th>\n",
       "      <th>tour_de_ventre_maximal</th>\n",
       "      <th>tour_de_taille</th>\n",
       "    </tr>\n",
       "  </thead>\n",
       "  <tbody>\n",
       "    <tr>\n",
       "      <th>4302</th>\n",
       "      <td>0</td>\n",
       "      <td>92.2020</td>\n",
       "    </tr>\n",
       "    <tr>\n",
       "      <th>2624</th>\n",
       "      <td>0</td>\n",
       "      <td>89.9922</td>\n",
       "    </tr>\n",
       "    <tr>\n",
       "      <th>4401</th>\n",
       "      <td>0</td>\n",
       "      <td>90.1954</td>\n",
       "    </tr>\n",
       "    <tr>\n",
       "      <th>544</th>\n",
       "      <td>0</td>\n",
       "      <td>87.5030</td>\n",
       "    </tr>\n",
       "    <tr>\n",
       "      <th>1117</th>\n",
       "      <td>0</td>\n",
       "      <td>81.3054</td>\n",
       "    </tr>\n",
       "  </tbody>\n",
       "</table>\n",
       "</div>"
      ],
      "text/plain": [
       "      tour_de_ventre_maximal  tour_de_taille\n",
       "4302                       0         92.2020\n",
       "2624                       0         89.9922\n",
       "4401                       0         90.1954\n",
       "544                        0         87.5030\n",
       "1117                       0         81.3054"
      ]
     },
     "execution_count": 8,
     "metadata": {},
     "output_type": "execute_result"
    }
   ],
   "source": [
    "data[['tour_de_ventre_maximal','tour_de_taille']].head()"
   ]
  },
  {
   "cell_type": "code",
   "execution_count": 9,
   "id": "59fde52c-2f9e-419a-8fc1-f5603adfd163",
   "metadata": {
    "execution": {
     "iopub.execute_input": "2025-07-25T09:12:05.690807Z",
     "iopub.status.busy": "2025-07-25T09:12:05.690807Z",
     "iopub.status.idle": "2025-07-25T09:12:05.717288Z",
     "shell.execute_reply": "2025-07-25T09:12:05.715419Z",
     "shell.execute_reply.started": "2025-07-25T09:12:05.690807Z"
    }
   },
   "outputs": [],
   "source": [
    "mesure=caesar_male[['tour_de_ventre_maximal','tour_de_taille','tour_de_cuisse','largeur_des_hanches']]"
   ]
  },
  {
   "cell_type": "code",
   "execution_count": 10,
   "id": "8e0ecad3-1e9c-4191-9f6e-5cd913699ff5",
   "metadata": {
    "execution": {
     "iopub.execute_input": "2025-07-25T09:12:05.726291Z",
     "iopub.status.busy": "2025-07-25T09:12:05.724299Z",
     "iopub.status.idle": "2025-07-25T09:12:05.748769Z",
     "shell.execute_reply": "2025-07-25T09:12:05.746774Z",
     "shell.execute_reply.started": "2025-07-25T09:12:05.726291Z"
    }
   },
   "outputs": [
    {
     "data": {
      "text/html": [
       "<div>\n",
       "<style scoped>\n",
       "    .dataframe tbody tr th:only-of-type {\n",
       "        vertical-align: middle;\n",
       "    }\n",
       "\n",
       "    .dataframe tbody tr th {\n",
       "        vertical-align: top;\n",
       "    }\n",
       "\n",
       "    .dataframe thead th {\n",
       "        text-align: right;\n",
       "    }\n",
       "</style>\n",
       "<table border=\"1\" class=\"dataframe\">\n",
       "  <thead>\n",
       "    <tr style=\"text-align: right;\">\n",
       "      <th></th>\n",
       "      <th>tour_de_ventre_maximal</th>\n",
       "      <th>tour_de_taille</th>\n",
       "      <th>tour_de_cuisse</th>\n",
       "      <th>largeur_des_hanches</th>\n",
       "    </tr>\n",
       "  </thead>\n",
       "  <tbody>\n",
       "    <tr>\n",
       "      <th>4302</th>\n",
       "      <td>0</td>\n",
       "      <td>92.2020</td>\n",
       "      <td>66.9036</td>\n",
       "      <td>54.2036</td>\n",
       "    </tr>\n",
       "    <tr>\n",
       "      <th>2624</th>\n",
       "      <td>0</td>\n",
       "      <td>89.9922</td>\n",
       "      <td>59.8932</td>\n",
       "      <td>49.7078</td>\n",
       "    </tr>\n",
       "    <tr>\n",
       "      <th>4401</th>\n",
       "      <td>0</td>\n",
       "      <td>90.1954</td>\n",
       "      <td>59.8932</td>\n",
       "      <td>48.7934</td>\n",
       "    </tr>\n",
       "    <tr>\n",
       "      <th>544</th>\n",
       "      <td>0</td>\n",
       "      <td>87.5030</td>\n",
       "      <td>57.0992</td>\n",
       "      <td>50.9016</td>\n",
       "    </tr>\n",
       "    <tr>\n",
       "      <th>1117</th>\n",
       "      <td>0</td>\n",
       "      <td>81.3054</td>\n",
       "      <td>58.8010</td>\n",
       "      <td>43.6118</td>\n",
       "    </tr>\n",
       "  </tbody>\n",
       "</table>\n",
       "</div>"
      ],
      "text/plain": [
       "      tour_de_ventre_maximal  tour_de_taille  tour_de_cuisse  \\\n",
       "4302                       0         92.2020         66.9036   \n",
       "2624                       0         89.9922         59.8932   \n",
       "4401                       0         90.1954         59.8932   \n",
       "544                        0         87.5030         57.0992   \n",
       "1117                       0         81.3054         58.8010   \n",
       "\n",
       "      largeur_des_hanches  \n",
       "4302              54.2036  \n",
       "2624              49.7078  \n",
       "4401              48.7934  \n",
       "544               50.9016  \n",
       "1117              43.6118  "
      ]
     },
     "execution_count": 10,
     "metadata": {},
     "output_type": "execute_result"
    }
   ],
   "source": [
    "mesure.head()"
   ]
  },
  {
   "cell_type": "code",
   "execution_count": 11,
   "id": "2d3de6dc-447c-4fcb-a3d9-adc80af64e7a",
   "metadata": {
    "execution": {
     "iopub.execute_input": "2025-07-25T09:12:05.752188Z",
     "iopub.status.busy": "2025-07-25T09:12:05.750784Z",
     "iopub.status.idle": "2025-07-25T09:12:08.416103Z",
     "shell.execute_reply": "2025-07-25T09:12:08.413101Z",
     "shell.execute_reply.started": "2025-07-25T09:12:05.752188Z"
    }
   },
   "outputs": [
    {
     "data": {
      "image/png": "[encoded data removed]",
      "text/plain": [
       "<Figure size 640x480 with 1 Axes>"
      ]
     },
     "metadata": {},
     "output_type": "display_data"
    }
   ],
   "source": [
    "import matplotlib.pyplot as plt\n",
    "# Plot Living area vs Sale price\n",
    "plt.scatter(mesure['tour_de_ventre_maximal'], mesure['tour_de_taille'])\n",
    "# Labels\n",
    "plt.xlabel(\"tour de ventre max\")\n",
    "plt.ylabel(\"tour de taille\")\n",
    "plt.show()"
   ]
  },
  {
   "cell_type": "code",
   "execution_count": 12,
   "id": "6c5591a3-222f-4136-aa97-be23f4d5ecf4",
   "metadata": {
    "execution": {
     "iopub.execute_input": "2025-07-25T09:12:08.421366Z",
     "iopub.status.busy": "2025-07-25T09:12:08.419367Z",
     "iopub.status.idle": "2025-07-25T09:12:08.756003Z",
     "shell.execute_reply": "2025-07-25T09:12:08.754006Z",
     "shell.execute_reply.started": "2025-07-25T09:12:08.421366Z"
    }
   },
   "outputs": [
    {
     "data": {
      "image/png": "[encoded data removed]",
      "text/plain": [
       "<Figure size 640x480 with 1 Axes>"
      ]
     },
     "metadata": {},
     "output_type": "display_data"
    }
   ],
   "source": [
    "import matplotlib.pyplot as plt\n",
    "# Plot Living area vs Sale price\n",
    "plt.scatter(mesure['tour_de_cuisse'], mesure['largeur_des_hanches'],s=1)\n",
    "# Labels\n",
    "plt.xlabel(\"tour de cuisse\")\n",
    "plt.ylabel(\"largeur des hanches\")\n",
    "plt.show()"
   ]
  },
  {
   "cell_type": "code",
   "execution_count": 13,
   "id": "6c28dce4-6899-46a5-b99a-d1dae3d0257b",
   "metadata": {
    "execution": {
     "iopub.execute_input": "2025-07-25T09:12:08.759009Z",
     "iopub.status.busy": "2025-07-25T09:12:08.758018Z",
     "iopub.status.idle": "2025-07-25T09:12:08.802266Z",
     "shell.execute_reply": "2025-07-25T09:12:08.800263Z",
     "shell.execute_reply.started": "2025-07-25T09:12:08.759009Z"
    }
   },
   "outputs": [
    {
     "data": {
      "text/html": [
       "<div>\n",
       "<style scoped>\n",
       "    .dataframe tbody tr th:only-of-type {\n",
       "        vertical-align: middle;\n",
       "    }\n",
       "\n",
       "    .dataframe tbody tr th {\n",
       "        vertical-align: top;\n",
       "    }\n",
       "\n",
       "    .dataframe thead th {\n",
       "        text-align: right;\n",
       "    }\n",
       "</style>\n",
       "<table border=\"1\" class=\"dataframe\">\n",
       "  <thead>\n",
       "    <tr style=\"text-align: right;\">\n",
       "      <th></th>\n",
       "      <th>largeur_d_epaule</th>\n",
       "    </tr>\n",
       "  </thead>\n",
       "  <tbody>\n",
       "    <tr>\n",
       "      <th>count</th>\n",
       "      <td>2052.000000</td>\n",
       "    </tr>\n",
       "    <tr>\n",
       "      <th>mean</th>\n",
       "      <td>41.485936</td>\n",
       "    </tr>\n",
       "    <tr>\n",
       "      <th>std</th>\n",
       "      <td>2.403755</td>\n",
       "    </tr>\n",
       "    <tr>\n",
       "      <th>min</th>\n",
       "      <td>33.147000</td>\n",
       "    </tr>\n",
       "    <tr>\n",
       "      <th>25%</th>\n",
       "      <td>39.801800</td>\n",
       "    </tr>\n",
       "    <tr>\n",
       "      <th>50%</th>\n",
       "      <td>41.478200</td>\n",
       "    </tr>\n",
       "    <tr>\n",
       "      <th>75%</th>\n",
       "      <td>43.027600</td>\n",
       "    </tr>\n",
       "    <tr>\n",
       "      <th>max</th>\n",
       "      <td>50.165000</td>\n",
       "    </tr>\n",
       "  </tbody>\n",
       "</table>\n",
       "</div>"
      ],
      "text/plain": [
       "       largeur_d_epaule\n",
       "count       2052.000000\n",
       "mean          41.485936\n",
       "std            2.403755\n",
       "min           33.147000\n",
       "25%           39.801800\n",
       "50%           41.478200\n",
       "75%           43.027600\n",
       "max           50.165000"
      ]
     },
     "execution_count": 13,
     "metadata": {},
     "output_type": "execute_result"
    }
   ],
   "source": [
    "data[[\"largeur_d_epaule\"]].describe()"
   ]
  },
  {
   "cell_type": "code",
   "execution_count": 14,
   "id": "676ebe8c-87fe-4a2c-bda2-24bcd8e3be93",
   "metadata": {
    "execution": {
     "iopub.execute_input": "2025-07-25T09:12:08.806154Z",
     "iopub.status.busy": "2025-07-25T09:12:08.805155Z",
     "iopub.status.idle": "2025-07-25T09:12:08.850247Z",
     "shell.execute_reply": "2025-07-25T09:12:08.847244Z",
     "shell.execute_reply.started": "2025-07-25T09:12:08.806154Z"
    }
   },
   "outputs": [
    {
     "data": {
      "text/html": [
       "<div>\n",
       "<style scoped>\n",
       "    .dataframe tbody tr th:only-of-type {\n",
       "        vertical-align: middle;\n",
       "    }\n",
       "\n",
       "    .dataframe tbody tr th {\n",
       "        vertical-align: top;\n",
       "    }\n",
       "\n",
       "    .dataframe thead th {\n",
       "        text-align: right;\n",
       "    }\n",
       "</style>\n",
       "<table border=\"1\" class=\"dataframe\">\n",
       "  <thead>\n",
       "    <tr style=\"text-align: right;\">\n",
       "      <th></th>\n",
       "      <th>tour_de_taille</th>\n",
       "    </tr>\n",
       "  </thead>\n",
       "  <tbody>\n",
       "    <tr>\n",
       "      <th>count</th>\n",
       "      <td>2103.000000</td>\n",
       "    </tr>\n",
       "    <tr>\n",
       "      <th>mean</th>\n",
       "      <td>90.094742</td>\n",
       "    </tr>\n",
       "    <tr>\n",
       "      <th>std</th>\n",
       "      <td>11.694893</td>\n",
       "    </tr>\n",
       "    <tr>\n",
       "      <th>min</th>\n",
       "      <td>61.899800</td>\n",
       "    </tr>\n",
       "    <tr>\n",
       "      <th>25%</th>\n",
       "      <td>82.194400</td>\n",
       "    </tr>\n",
       "    <tr>\n",
       "      <th>50%</th>\n",
       "      <td>88.290400</td>\n",
       "    </tr>\n",
       "    <tr>\n",
       "      <th>75%</th>\n",
       "      <td>95.707200</td>\n",
       "    </tr>\n",
       "    <tr>\n",
       "      <th>max</th>\n",
       "      <td>170.205400</td>\n",
       "    </tr>\n",
       "  </tbody>\n",
       "</table>\n",
       "</div>"
      ],
      "text/plain": [
       "       tour_de_taille\n",
       "count     2103.000000\n",
       "mean        90.094742\n",
       "std         11.694893\n",
       "min         61.899800\n",
       "25%         82.194400\n",
       "50%         88.290400\n",
       "75%         95.707200\n",
       "max        170.205400"
      ]
     },
     "execution_count": 14,
     "metadata": {},
     "output_type": "execute_result"
    }
   ],
   "source": [
    "data[[\"tour_de_taille\"]].describe()"
   ]
  },
  {
   "cell_type": "code",
   "execution_count": 15,
   "id": "5650c700-8629-403a-89fe-0ad58a1c41a1",
   "metadata": {
    "execution": {
     "iopub.execute_input": "2025-07-25T09:12:08.855251Z",
     "iopub.status.busy": "2025-07-25T09:12:08.853167Z",
     "iopub.status.idle": "2025-07-25T09:12:08.896684Z",
     "shell.execute_reply": "2025-07-25T09:12:08.894679Z",
     "shell.execute_reply.started": "2025-07-25T09:12:08.855251Z"
    }
   },
   "outputs": [
    {
     "data": {
      "text/html": [
       "<div>\n",
       "<style scoped>\n",
       "    .dataframe tbody tr th:only-of-type {\n",
       "        vertical-align: middle;\n",
       "    }\n",
       "\n",
       "    .dataframe tbody tr th {\n",
       "        vertical-align: top;\n",
       "    }\n",
       "\n",
       "    .dataframe thead th {\n",
       "        text-align: right;\n",
       "    }\n",
       "</style>\n",
       "<table border=\"1\" class=\"dataframe\">\n",
       "  <thead>\n",
       "    <tr style=\"text-align: right;\">\n",
       "      <th></th>\n",
       "      <th>largeur_des_hanches</th>\n",
       "    </tr>\n",
       "  </thead>\n",
       "  <tbody>\n",
       "    <tr>\n",
       "      <th>count</th>\n",
       "      <td>2104.000000</td>\n",
       "    </tr>\n",
       "    <tr>\n",
       "      <th>mean</th>\n",
       "      <td>48.210359</td>\n",
       "    </tr>\n",
       "    <tr>\n",
       "      <th>std</th>\n",
       "      <td>3.616818</td>\n",
       "    </tr>\n",
       "    <tr>\n",
       "      <th>min</th>\n",
       "      <td>37.795200</td>\n",
       "    </tr>\n",
       "    <tr>\n",
       "      <th>25%</th>\n",
       "      <td>45.694600</td>\n",
       "    </tr>\n",
       "    <tr>\n",
       "      <th>50%</th>\n",
       "      <td>47.904400</td>\n",
       "    </tr>\n",
       "    <tr>\n",
       "      <th>75%</th>\n",
       "      <td>50.292000</td>\n",
       "    </tr>\n",
       "    <tr>\n",
       "      <th>max</th>\n",
       "      <td>65.811400</td>\n",
       "    </tr>\n",
       "  </tbody>\n",
       "</table>\n",
       "</div>"
      ],
      "text/plain": [
       "       largeur_des_hanches\n",
       "count          2104.000000\n",
       "mean             48.210359\n",
       "std               3.616818\n",
       "min              37.795200\n",
       "25%              45.694600\n",
       "50%              47.904400\n",
       "75%              50.292000\n",
       "max              65.811400"
      ]
     },
     "execution_count": 15,
     "metadata": {},
     "output_type": "execute_result"
    }
   ],
   "source": [
    "data[[\"largeur_des_hanches\"]].describe()"
   ]
  },
  {
   "cell_type": "code",
   "execution_count": 6,
   "id": "dd56912e-2dde-47c1-901a-bec4f794ee63",
   "metadata": {
    "execution": {
     "iopub.execute_input": "2025-07-28T13:17:18.325571Z",
     "iopub.status.busy": "2025-07-28T13:17:18.324882Z",
     "iopub.status.idle": "2025-07-28T13:17:18.330986Z",
     "shell.execute_reply": "2025-07-28T13:17:18.330527Z",
     "shell.execute_reply.started": "2025-07-28T13:17:18.325552Z"
    }
   },
   "outputs": [],
   "source": [
    "data[\"largeur_d_epaule_ratio\"] = data[\"largeur_d_epaule\"] / data[\"taille\"]"
   ]
  },
  {
   "cell_type": "code",
   "execution_count": 7,
   "id": "5c21026c-fbbe-43c6-8596-916fd38c43ea",
   "metadata": {
    "execution": {
     "iopub.execute_input": "2025-07-28T13:17:41.674792Z",
     "iopub.status.busy": "2025-07-28T13:17:41.674039Z",
     "iopub.status.idle": "2025-07-28T13:17:41.701508Z",
     "shell.execute_reply": "2025-07-28T13:17:41.700512Z",
     "shell.execute_reply.started": "2025-07-28T13:17:41.674740Z"
    }
   },
   "outputs": [
    {
     "data": {
      "text/html": [
       "<div>\n",
       "<style scoped>\n",
       "    .dataframe tbody tr th:only-of-type {\n",
       "        vertical-align: middle;\n",
       "    }\n",
       "\n",
       "    .dataframe tbody tr th {\n",
       "        vertical-align: top;\n",
       "    }\n",
       "\n",
       "    .dataframe thead th {\n",
       "        text-align: right;\n",
       "    }\n",
       "</style>\n",
       "<table border=\"1\" class=\"dataframe\">\n",
       "  <thead>\n",
       "    <tr style=\"text-align: right;\">\n",
       "      <th></th>\n",
       "      <th>largeur_d_epaule_ratio</th>\n",
       "    </tr>\n",
       "  </thead>\n",
       "  <tbody>\n",
       "    <tr>\n",
       "      <th>count</th>\n",
       "      <td>2051.000000</td>\n",
       "    </tr>\n",
       "    <tr>\n",
       "      <th>mean</th>\n",
       "      <td>0.233380</td>\n",
       "    </tr>\n",
       "    <tr>\n",
       "      <th>std</th>\n",
       "      <td>0.012750</td>\n",
       "    </tr>\n",
       "    <tr>\n",
       "      <th>min</th>\n",
       "      <td>0.182973</td>\n",
       "    </tr>\n",
       "    <tr>\n",
       "      <th>25%</th>\n",
       "      <td>0.224841</td>\n",
       "    </tr>\n",
       "    <tr>\n",
       "      <th>50%</th>\n",
       "      <td>0.233791</td>\n",
       "    </tr>\n",
       "    <tr>\n",
       "      <th>75%</th>\n",
       "      <td>0.242234</td>\n",
       "    </tr>\n",
       "    <tr>\n",
       "      <th>max</th>\n",
       "      <td>0.273549</td>\n",
       "    </tr>\n",
       "  </tbody>\n",
       "</table>\n",
       "</div>"
      ],
      "text/plain": [
       "       largeur_d_epaule_ratio\n",
       "count             2051.000000\n",
       "mean                 0.233380\n",
       "std                  0.012750\n",
       "min                  0.182973\n",
       "25%                  0.224841\n",
       "50%                  0.233791\n",
       "75%                  0.242234\n",
       "max                  0.273549"
      ]
     },
     "execution_count": 7,
     "metadata": {},
     "output_type": "execute_result"
    }
   ],
   "source": [
    "data[[\"largeur_d_epaule_ratio\"]].describe()"
   ]
  },
  {
   "cell_type": "code",
   "execution_count": 16,
   "id": "f580b198-103c-4838-b9e2-9d5096b06696",
   "metadata": {
    "execution": {
     "iopub.execute_input": "2025-07-25T09:12:08.900654Z",
     "iopub.status.busy": "2025-07-25T09:12:08.899696Z",
     "iopub.status.idle": "2025-07-25T09:12:09.926930Z",
     "shell.execute_reply": "2025-07-25T09:12:09.924930Z",
     "shell.execute_reply.started": "2025-07-25T09:12:08.900654Z"
    }
   },
   "outputs": [],
   "source": [
    "import pandas as pd\n",
    "\n",
    "def classifier_morphologie(row):\n",
    "    # Extraction des mesures\n",
    "    tour_ventre = row['tour_de_ventre_maximal']\n",
    "    tour_taille = row['tour_de_taille']\n",
    "    forme_poitrine = row['largeur_d_epaule']\n",
    "    tour_cuisse = row['tour_de_cuisse']\n",
    "    largeur_hanches = row['largeur_des_hanches']\n",
    "    \n",
    "    # --- Catégorie VENTRE (basée sur le ratio ventre/taille) ---\n",
    "    if tour_taille < 82.194400:\n",
    "        ventre = \"plat\"\n",
    "    elif tour_taille > 82.194400 <= tour_taille<95.707200:\n",
    "        ventre = \"moyen\"\n",
    "    else:\n",
    "        ventre = \"rond\"\n",
    "    \n",
    "    # --- Catégorie TORSE (basée sur le tour de poitrine seul ou comparé à la taille) ---\n",
    "    if forme_poitrine < 39.801800:\n",
    "        torse = \"fin\"\n",
    "    elif 39.801800 <=forme_poitrine < 43.027600 :\n",
    "        torse = \"moyen\"\n",
    "    else:\n",
    "        torse = \"large\"\n",
    "    \n",
    "    # --- Catégorie CUISSES (ratio cuisse / hanches) ---\n",
    "    if largeur_hanches < 45.694600:\n",
    "        cuisses = \"fines\"\n",
    "    elif  45.694600 <=largeur_hanches<50.292000 :\n",
    "        cuisses = \"moyennes\"\n",
    "    else:\n",
    "        cuisses = \"larges\"\n",
    "    \n",
    "    return pd.Series([ventre, torse, cuisses], \n",
    "                     index=['categorie_ventre', 'categorie_torse', 'categorie_cuisses'])\n",
    "    \n",
    "# Remplace `df` par le nom de ton DataFrame\n",
    "data[['categorie_ventre', 'categorie_torse', 'categorie_cuisses']] = data.apply(classifier_morphologie, axis=1)"
   ]
  },
  {
   "cell_type": "code",
   "execution_count": 17,
   "id": "a939345a-cb7a-46df-9597-57ce48dc97b1",
   "metadata": {
    "execution": {
     "iopub.execute_input": "2025-07-25T09:12:09.929931Z",
     "iopub.status.busy": "2025-07-25T09:12:09.929088Z",
     "iopub.status.idle": "2025-07-25T09:12:09.990857Z",
     "shell.execute_reply": "2025-07-25T09:12:09.987860Z",
     "shell.execute_reply.started": "2025-07-25T09:12:09.929931Z"
    }
   },
   "outputs": [
    {
     "data": {
      "text/html": [
       "<div>\n",
       "<style scoped>\n",
       "    .dataframe tbody tr th:only-of-type {\n",
       "        vertical-align: middle;\n",
       "    }\n",
       "\n",
       "    .dataframe tbody tr th {\n",
       "        vertical-align: top;\n",
       "    }\n",
       "\n",
       "    .dataframe thead th {\n",
       "        text-align: right;\n",
       "    }\n",
       "</style>\n",
       "<table border=\"1\" class=\"dataframe\">\n",
       "  <thead>\n",
       "    <tr style=\"text-align: right;\">\n",
       "      <th></th>\n",
       "      <th>taille</th>\n",
       "      <th>age</th>\n",
       "      <th>weight</th>\n",
       "      <th>sex</th>\n",
       "      <th>tour_de_cheville</th>\n",
       "      <th>longueur_du_bras</th>\n",
       "      <th>largeur_du_dos</th>\n",
       "      <th>tour_de_ventre_maximal</th>\n",
       "      <th>tour_de_poitrine</th>\n",
       "      <th>tour_de_poitrine_mesure_a_la_main</th>\n",
       "      <th>...</th>\n",
       "      <th>longueur_de_sous_poitrine</th>\n",
       "      <th>largeur_de_la_taille</th>\n",
       "      <th>tour_de_poignet</th>\n",
       "      <th>largeur_du_bassin</th>\n",
       "      <th>profondeur_de_poitrine</th>\n",
       "      <th>tour_d_epaule</th>\n",
       "      <th>longueur_d_avant_bras</th>\n",
       "      <th>categorie_ventre</th>\n",
       "      <th>categorie_torse</th>\n",
       "      <th>categorie_cuisses</th>\n",
       "    </tr>\n",
       "  </thead>\n",
       "  <tbody>\n",
       "    <tr>\n",
       "      <th>4302</th>\n",
       "      <td>167.3098</td>\n",
       "      <td>27.0</td>\n",
       "      <td>92.986360</td>\n",
       "      <td>1.0</td>\n",
       "      <td>26.1874</td>\n",
       "      <td>61.0108</td>\n",
       "      <td>43.7896</td>\n",
       "      <td>0</td>\n",
       "      <td>106.5022</td>\n",
       "      <td>NaN</td>\n",
       "      <td>...</td>\n",
       "      <td>0</td>\n",
       "      <td>0</td>\n",
       "      <td>0</td>\n",
       "      <td>0</td>\n",
       "      <td>0</td>\n",
       "      <td>0</td>\n",
       "      <td>0</td>\n",
       "      <td>moyen</td>\n",
       "      <td>large</td>\n",
       "      <td>larges</td>\n",
       "    </tr>\n",
       "    <tr>\n",
       "      <th>2624</th>\n",
       "      <td>196.3928</td>\n",
       "      <td>26.0</td>\n",
       "      <td>92.079176</td>\n",
       "      <td>1.0</td>\n",
       "      <td>29.6926</td>\n",
       "      <td>70.6120</td>\n",
       "      <td>43.7642</td>\n",
       "      <td>0</td>\n",
       "      <td>97.2058</td>\n",
       "      <td>NaN</td>\n",
       "      <td>...</td>\n",
       "      <td>0</td>\n",
       "      <td>0</td>\n",
       "      <td>0</td>\n",
       "      <td>0</td>\n",
       "      <td>0</td>\n",
       "      <td>0</td>\n",
       "      <td>0</td>\n",
       "      <td>moyen</td>\n",
       "      <td>large</td>\n",
       "      <td>moyennes</td>\n",
       "    </tr>\n",
       "    <tr>\n",
       "      <th>4401</th>\n",
       "      <td>171.0944</td>\n",
       "      <td>46.0</td>\n",
       "      <td>85.275296</td>\n",
       "      <td>1.0</td>\n",
       "      <td>26.7970</td>\n",
       "      <td>62.6110</td>\n",
       "      <td>42.1132</td>\n",
       "      <td>0</td>\n",
       "      <td>100.8888</td>\n",
       "      <td>NaN</td>\n",
       "      <td>...</td>\n",
       "      <td>0</td>\n",
       "      <td>0</td>\n",
       "      <td>0</td>\n",
       "      <td>0</td>\n",
       "      <td>0</td>\n",
       "      <td>0</td>\n",
       "      <td>0</td>\n",
       "      <td>moyen</td>\n",
       "      <td>moyen</td>\n",
       "      <td>moyennes</td>\n",
       "    </tr>\n",
       "    <tr>\n",
       "      <th>544</th>\n",
       "      <td>165.5064</td>\n",
       "      <td>39.0</td>\n",
       "      <td>77.564232</td>\n",
       "      <td>1.0</td>\n",
       "      <td>25.9080</td>\n",
       "      <td>58.3946</td>\n",
       "      <td>41.1988</td>\n",
       "      <td>0</td>\n",
       "      <td>101.4984</td>\n",
       "      <td>NaN</td>\n",
       "      <td>...</td>\n",
       "      <td>0</td>\n",
       "      <td>0</td>\n",
       "      <td>0</td>\n",
       "      <td>0</td>\n",
       "      <td>0</td>\n",
       "      <td>0</td>\n",
       "      <td>0</td>\n",
       "      <td>moyen</td>\n",
       "      <td>moyen</td>\n",
       "      <td>larges</td>\n",
       "    </tr>\n",
       "    <tr>\n",
       "      <th>1117</th>\n",
       "      <td>177.2920</td>\n",
       "      <td>19.0</td>\n",
       "      <td>74.298370</td>\n",
       "      <td>1.0</td>\n",
       "      <td>28.8036</td>\n",
       "      <td>63.1952</td>\n",
       "      <td>NaN</td>\n",
       "      <td>0</td>\n",
       "      <td>92.8116</td>\n",
       "      <td>NaN</td>\n",
       "      <td>...</td>\n",
       "      <td>0</td>\n",
       "      <td>0</td>\n",
       "      <td>0</td>\n",
       "      <td>0</td>\n",
       "      <td>0</td>\n",
       "      <td>0</td>\n",
       "      <td>0</td>\n",
       "      <td>plat</td>\n",
       "      <td>large</td>\n",
       "      <td>fines</td>\n",
       "    </tr>\n",
       "  </tbody>\n",
       "</table>\n",
       "<p>5 rows × 47 columns</p>\n",
       "</div>"
      ],
      "text/plain": [
       "        taille   age     weight  sex  tour_de_cheville  longueur_du_bras  \\\n",
       "4302  167.3098  27.0  92.986360  1.0           26.1874           61.0108   \n",
       "2624  196.3928  26.0  92.079176  1.0           29.6926           70.6120   \n",
       "4401  171.0944  46.0  85.275296  1.0           26.7970           62.6110   \n",
       "544   165.5064  39.0  77.564232  1.0           25.9080           58.3946   \n",
       "1117  177.2920  19.0  74.298370  1.0           28.8036           63.1952   \n",
       "\n",
       "      largeur_du_dos  tour_de_ventre_maximal  tour_de_poitrine  \\\n",
       "4302         43.7896                       0          106.5022   \n",
       "2624         43.7642                       0           97.2058   \n",
       "4401         42.1132                       0          100.8888   \n",
       "544          41.1988                       0          101.4984   \n",
       "1117             NaN                       0           92.8116   \n",
       "\n",
       "      tour_de_poitrine_mesure_a_la_main  ...  longueur_de_sous_poitrine  \\\n",
       "4302                                NaN  ...                          0   \n",
       "2624                                NaN  ...                          0   \n",
       "4401                                NaN  ...                          0   \n",
       "544                                 NaN  ...                          0   \n",
       "1117                                NaN  ...                          0   \n",
       "\n",
       "      largeur_de_la_taille  tour_de_poignet  largeur_du_bassin  \\\n",
       "4302                     0                0                  0   \n",
       "2624                     0                0                  0   \n",
       "4401                     0                0                  0   \n",
       "544                      0                0                  0   \n",
       "1117                     0                0                  0   \n",
       "\n",
       "      profondeur_de_poitrine  tour_d_epaule  longueur_d_avant_bras  \\\n",
       "4302                       0              0                      0   \n",
       "2624                       0              0                      0   \n",
       "4401                       0              0                      0   \n",
       "544                        0              0                      0   \n",
       "1117                       0              0                      0   \n",
       "\n",
       "      categorie_ventre  categorie_torse  categorie_cuisses  \n",
       "4302             moyen            large             larges  \n",
       "2624             moyen            large           moyennes  \n",
       "4401             moyen            moyen           moyennes  \n",
       "544              moyen            moyen             larges  \n",
       "1117              plat            large              fines  \n",
       "\n",
       "[5 rows x 47 columns]"
      ]
     },
     "execution_count": 17,
     "metadata": {},
     "output_type": "execute_result"
    }
   ],
   "source": [
    "data.head()"
   ]
  },
  {
   "cell_type": "code",
   "execution_count": 18,
   "id": "deaed3b8-c5c8-4a39-b971-62bc78417a90",
   "metadata": {
    "execution": {
     "iopub.execute_input": "2025-07-25T09:12:09.993736Z",
     "iopub.status.busy": "2025-07-25T09:12:09.992738Z",
     "iopub.status.idle": "2025-07-25T09:12:10.020925Z",
     "shell.execute_reply": "2025-07-25T09:12:10.018924Z",
     "shell.execute_reply.started": "2025-07-25T09:12:09.993736Z"
    }
   },
   "outputs": [],
   "source": [
    "data=data.loc[:, (data != 0).any()]"
   ]
  },
  {
   "cell_type": "code",
   "execution_count": 19,
   "id": "6ffb3514-6df3-4436-a7ae-cb83afe251f1",
   "metadata": {
    "execution": {
     "iopub.execute_input": "2025-07-25T09:12:10.024090Z",
     "iopub.status.busy": "2025-07-25T09:12:10.022927Z",
     "iopub.status.idle": "2025-07-25T09:12:10.084722Z",
     "shell.execute_reply": "2025-07-25T09:12:10.081704Z",
     "shell.execute_reply.started": "2025-07-25T09:12:10.024090Z"
    }
   },
   "outputs": [
    {
     "data": {
      "text/html": [
       "<div>\n",
       "<style scoped>\n",
       "    .dataframe tbody tr th:only-of-type {\n",
       "        vertical-align: middle;\n",
       "    }\n",
       "\n",
       "    .dataframe tbody tr th {\n",
       "        vertical-align: top;\n",
       "    }\n",
       "\n",
       "    .dataframe thead th {\n",
       "        text-align: right;\n",
       "    }\n",
       "</style>\n",
       "<table border=\"1\" class=\"dataframe\">\n",
       "  <thead>\n",
       "    <tr style=\"text-align: right;\">\n",
       "      <th></th>\n",
       "      <th>taille</th>\n",
       "      <th>age</th>\n",
       "      <th>weight</th>\n",
       "      <th>sex</th>\n",
       "      <th>tour_de_cheville</th>\n",
       "      <th>longueur_du_bras</th>\n",
       "      <th>largeur_du_dos</th>\n",
       "      <th>tour_de_poitrine</th>\n",
       "      <th>tour_de_poitrine_mesure_a_la_main</th>\n",
       "      <th>hauteur_de_poitrine</th>\n",
       "      <th>...</th>\n",
       "      <th>largeur_d_epaule</th>\n",
       "      <th>hauteur_des_epaules</th>\n",
       "      <th>largeur_des_epaules_a_l_horizontales</th>\n",
       "      <th>longueur_de_la_colonne_vertebrale_jusqu_au_poignet</th>\n",
       "      <th>tour_de_cuisse</th>\n",
       "      <th>tour_de_taille</th>\n",
       "      <th>hauteur_de_la_taille</th>\n",
       "      <th>categorie_ventre</th>\n",
       "      <th>categorie_torse</th>\n",
       "      <th>categorie_cuisses</th>\n",
       "    </tr>\n",
       "  </thead>\n",
       "  <tbody>\n",
       "    <tr>\n",
       "      <th>4302</th>\n",
       "      <td>167.3098</td>\n",
       "      <td>27.0</td>\n",
       "      <td>92.986360</td>\n",
       "      <td>1.0</td>\n",
       "      <td>26.1874</td>\n",
       "      <td>61.0108</td>\n",
       "      <td>43.7896</td>\n",
       "      <td>106.5022</td>\n",
       "      <td>NaN</td>\n",
       "      <td>118.9990</td>\n",
       "      <td>...</td>\n",
       "      <td>43.7896</td>\n",
       "      <td>137.2997</td>\n",
       "      <td>54.2036</td>\n",
       "      <td>83.9978</td>\n",
       "      <td>66.9036</td>\n",
       "      <td>92.2020</td>\n",
       "      <td>97.5106</td>\n",
       "      <td>moyen</td>\n",
       "      <td>large</td>\n",
       "      <td>larges</td>\n",
       "    </tr>\n",
       "    <tr>\n",
       "      <th>2624</th>\n",
       "      <td>196.3928</td>\n",
       "      <td>26.0</td>\n",
       "      <td>92.079176</td>\n",
       "      <td>1.0</td>\n",
       "      <td>29.6926</td>\n",
       "      <td>70.6120</td>\n",
       "      <td>43.7642</td>\n",
       "      <td>97.2058</td>\n",
       "      <td>NaN</td>\n",
       "      <td>144.6022</td>\n",
       "      <td>...</td>\n",
       "      <td>43.7642</td>\n",
       "      <td>163.4617</td>\n",
       "      <td>49.7078</td>\n",
       "      <td>93.3958</td>\n",
       "      <td>59.8932</td>\n",
       "      <td>89.9922</td>\n",
       "      <td>116.1034</td>\n",
       "      <td>moyen</td>\n",
       "      <td>large</td>\n",
       "      <td>moyennes</td>\n",
       "    </tr>\n",
       "    <tr>\n",
       "      <th>4401</th>\n",
       "      <td>171.0944</td>\n",
       "      <td>46.0</td>\n",
       "      <td>85.275296</td>\n",
       "      <td>1.0</td>\n",
       "      <td>26.7970</td>\n",
       "      <td>62.6110</td>\n",
       "      <td>42.1132</td>\n",
       "      <td>100.8888</td>\n",
       "      <td>NaN</td>\n",
       "      <td>124.0028</td>\n",
       "      <td>...</td>\n",
       "      <td>42.1132</td>\n",
       "      <td>141.4018</td>\n",
       "      <td>48.7934</td>\n",
       "      <td>83.5914</td>\n",
       "      <td>59.8932</td>\n",
       "      <td>90.1954</td>\n",
       "      <td>100.5078</td>\n",
       "      <td>moyen</td>\n",
       "      <td>moyen</td>\n",
       "      <td>moyennes</td>\n",
       "    </tr>\n",
       "    <tr>\n",
       "      <th>544</th>\n",
       "      <td>165.5064</td>\n",
       "      <td>39.0</td>\n",
       "      <td>77.564232</td>\n",
       "      <td>1.0</td>\n",
       "      <td>25.9080</td>\n",
       "      <td>58.3946</td>\n",
       "      <td>41.1988</td>\n",
       "      <td>101.4984</td>\n",
       "      <td>NaN</td>\n",
       "      <td>119.6086</td>\n",
       "      <td>...</td>\n",
       "      <td>41.1988</td>\n",
       "      <td>136.1059</td>\n",
       "      <td>50.9016</td>\n",
       "      <td>79.6036</td>\n",
       "      <td>57.0992</td>\n",
       "      <td>87.5030</td>\n",
       "      <td>98.6028</td>\n",
       "      <td>moyen</td>\n",
       "      <td>moyen</td>\n",
       "      <td>larges</td>\n",
       "    </tr>\n",
       "    <tr>\n",
       "      <th>1117</th>\n",
       "      <td>177.2920</td>\n",
       "      <td>19.0</td>\n",
       "      <td>74.298370</td>\n",
       "      <td>1.0</td>\n",
       "      <td>28.8036</td>\n",
       "      <td>63.1952</td>\n",
       "      <td>NaN</td>\n",
       "      <td>92.8116</td>\n",
       "      <td>NaN</td>\n",
       "      <td>NaN</td>\n",
       "      <td>...</td>\n",
       "      <td>NaN</td>\n",
       "      <td>NaN</td>\n",
       "      <td>43.6118</td>\n",
       "      <td>83.4898</td>\n",
       "      <td>58.8010</td>\n",
       "      <td>81.3054</td>\n",
       "      <td>106.7054</td>\n",
       "      <td>plat</td>\n",
       "      <td>large</td>\n",
       "      <td>fines</td>\n",
       "    </tr>\n",
       "  </tbody>\n",
       "</table>\n",
       "<p>5 rows × 26 columns</p>\n",
       "</div>"
      ],
      "text/plain": [
       "        taille   age     weight  sex  tour_de_cheville  longueur_du_bras  \\\n",
       "4302  167.3098  27.0  92.986360  1.0           26.1874           61.0108   \n",
       "2624  196.3928  26.0  92.079176  1.0           29.6926           70.6120   \n",
       "4401  171.0944  46.0  85.275296  1.0           26.7970           62.6110   \n",
       "544   165.5064  39.0  77.564232  1.0           25.9080           58.3946   \n",
       "1117  177.2920  19.0  74.298370  1.0           28.8036           63.1952   \n",
       "\n",
       "      largeur_du_dos  tour_de_poitrine  tour_de_poitrine_mesure_a_la_main  \\\n",
       "4302         43.7896          106.5022                                NaN   \n",
       "2624         43.7642           97.2058                                NaN   \n",
       "4401         42.1132          100.8888                                NaN   \n",
       "544          41.1988          101.4984                                NaN   \n",
       "1117             NaN           92.8116                                NaN   \n",
       "\n",
       "      hauteur_de_poitrine  ...  largeur_d_epaule  hauteur_des_epaules  \\\n",
       "4302             118.9990  ...           43.7896             137.2997   \n",
       "2624             144.6022  ...           43.7642             163.4617   \n",
       "4401             124.0028  ...           42.1132             141.4018   \n",
       "544              119.6086  ...           41.1988             136.1059   \n",
       "1117                  NaN  ...               NaN                  NaN   \n",
       "\n",
       "      largeur_des_epaules_a_l_horizontales  \\\n",
       "4302                               54.2036   \n",
       "2624                               49.7078   \n",
       "4401                               48.7934   \n",
       "544                                50.9016   \n",
       "1117                               43.6118   \n",
       "\n",
       "      longueur_de_la_colonne_vertebrale_jusqu_au_poignet  tour_de_cuisse  \\\n",
       "4302                                            83.9978          66.9036   \n",
       "2624                                            93.3958          59.8932   \n",
       "4401                                            83.5914          59.8932   \n",
       "544                                             79.6036          57.0992   \n",
       "1117                                            83.4898          58.8010   \n",
       "\n",
       "      tour_de_taille  hauteur_de_la_taille  categorie_ventre  categorie_torse  \\\n",
       "4302         92.2020               97.5106             moyen            large   \n",
       "2624         89.9922              116.1034             moyen            large   \n",
       "4401         90.1954              100.5078             moyen            moyen   \n",
       "544          87.5030               98.6028             moyen            moyen   \n",
       "1117         81.3054              106.7054              plat            large   \n",
       "\n",
       "      categorie_cuisses  \n",
       "4302             larges  \n",
       "2624           moyennes  \n",
       "4401           moyennes  \n",
       "544              larges  \n",
       "1117              fines  \n",
       "\n",
       "[5 rows x 26 columns]"
      ]
     },
     "execution_count": 19,
     "metadata": {},
     "output_type": "execute_result"
    }
   ],
   "source": [
    "data.head()"
   ]
  },
  {
   "cell_type": "code",
   "execution_count": 20,
   "id": "27892ae7-700f-4bdb-a2ba-bac75e18ff20",
   "metadata": {
    "execution": {
     "iopub.execute_input": "2025-07-25T09:12:10.088728Z",
     "iopub.status.busy": "2025-07-25T09:12:10.086721Z",
     "iopub.status.idle": "2025-07-25T09:12:10.117358Z",
     "shell.execute_reply": "2025-07-25T09:12:10.112816Z",
     "shell.execute_reply.started": "2025-07-25T09:12:10.088728Z"
    }
   },
   "outputs": [],
   "source": [
    "data = data.dropna(how='all', axis=1)"
   ]
  },
  {
   "cell_type": "code",
   "execution_count": 21,
   "id": "a9d12e36-a5f7-45cd-91ec-84dc4f71cb7e",
   "metadata": {
    "execution": {
     "iopub.execute_input": "2025-07-25T09:12:10.121354Z",
     "iopub.status.busy": "2025-07-25T09:12:10.120353Z",
     "iopub.status.idle": "2025-07-25T09:12:10.179772Z",
     "shell.execute_reply": "2025-07-25T09:12:10.176789Z",
     "shell.execute_reply.started": "2025-07-25T09:12:10.121354Z"
    }
   },
   "outputs": [
    {
     "data": {
      "text/html": [
       "<div>\n",
       "<style scoped>\n",
       "    .dataframe tbody tr th:only-of-type {\n",
       "        vertical-align: middle;\n",
       "    }\n",
       "\n",
       "    .dataframe tbody tr th {\n",
       "        vertical-align: top;\n",
       "    }\n",
       "\n",
       "    .dataframe thead th {\n",
       "        text-align: right;\n",
       "    }\n",
       "</style>\n",
       "<table border=\"1\" class=\"dataframe\">\n",
       "  <thead>\n",
       "    <tr style=\"text-align: right;\">\n",
       "      <th></th>\n",
       "      <th>taille</th>\n",
       "      <th>age</th>\n",
       "      <th>weight</th>\n",
       "      <th>sex</th>\n",
       "      <th>tour_de_cheville</th>\n",
       "      <th>longueur_du_bras</th>\n",
       "      <th>largeur_du_dos</th>\n",
       "      <th>tour_de_poitrine</th>\n",
       "      <th>hauteur_de_poitrine</th>\n",
       "      <th>hauteur_d_entrejambe</th>\n",
       "      <th>...</th>\n",
       "      <th>largeur_d_epaule</th>\n",
       "      <th>hauteur_des_epaules</th>\n",
       "      <th>largeur_des_epaules_a_l_horizontales</th>\n",
       "      <th>longueur_de_la_colonne_vertebrale_jusqu_au_poignet</th>\n",
       "      <th>tour_de_cuisse</th>\n",
       "      <th>tour_de_taille</th>\n",
       "      <th>hauteur_de_la_taille</th>\n",
       "      <th>categorie_ventre</th>\n",
       "      <th>categorie_torse</th>\n",
       "      <th>categorie_cuisses</th>\n",
       "    </tr>\n",
       "  </thead>\n",
       "  <tbody>\n",
       "    <tr>\n",
       "      <th>4302</th>\n",
       "      <td>167.3098</td>\n",
       "      <td>27.0</td>\n",
       "      <td>92.986360</td>\n",
       "      <td>1.0</td>\n",
       "      <td>26.1874</td>\n",
       "      <td>61.0108</td>\n",
       "      <td>43.7896</td>\n",
       "      <td>106.5022</td>\n",
       "      <td>118.9990</td>\n",
       "      <td>72.8980</td>\n",
       "      <td>...</td>\n",
       "      <td>43.7896</td>\n",
       "      <td>137.2997</td>\n",
       "      <td>54.2036</td>\n",
       "      <td>83.9978</td>\n",
       "      <td>66.9036</td>\n",
       "      <td>92.2020</td>\n",
       "      <td>97.5106</td>\n",
       "      <td>moyen</td>\n",
       "      <td>large</td>\n",
       "      <td>larges</td>\n",
       "    </tr>\n",
       "    <tr>\n",
       "      <th>2624</th>\n",
       "      <td>196.3928</td>\n",
       "      <td>26.0</td>\n",
       "      <td>92.079176</td>\n",
       "      <td>1.0</td>\n",
       "      <td>29.6926</td>\n",
       "      <td>70.6120</td>\n",
       "      <td>43.7642</td>\n",
       "      <td>97.2058</td>\n",
       "      <td>144.6022</td>\n",
       "      <td>90.5002</td>\n",
       "      <td>...</td>\n",
       "      <td>43.7642</td>\n",
       "      <td>163.4617</td>\n",
       "      <td>49.7078</td>\n",
       "      <td>93.3958</td>\n",
       "      <td>59.8932</td>\n",
       "      <td>89.9922</td>\n",
       "      <td>116.1034</td>\n",
       "      <td>moyen</td>\n",
       "      <td>large</td>\n",
       "      <td>moyennes</td>\n",
       "    </tr>\n",
       "    <tr>\n",
       "      <th>4401</th>\n",
       "      <td>171.0944</td>\n",
       "      <td>46.0</td>\n",
       "      <td>85.275296</td>\n",
       "      <td>1.0</td>\n",
       "      <td>26.7970</td>\n",
       "      <td>62.6110</td>\n",
       "      <td>42.1132</td>\n",
       "      <td>100.8888</td>\n",
       "      <td>124.0028</td>\n",
       "      <td>75.4126</td>\n",
       "      <td>...</td>\n",
       "      <td>42.1132</td>\n",
       "      <td>141.4018</td>\n",
       "      <td>48.7934</td>\n",
       "      <td>83.5914</td>\n",
       "      <td>59.8932</td>\n",
       "      <td>90.1954</td>\n",
       "      <td>100.5078</td>\n",
       "      <td>moyen</td>\n",
       "      <td>moyen</td>\n",
       "      <td>moyennes</td>\n",
       "    </tr>\n",
       "    <tr>\n",
       "      <th>544</th>\n",
       "      <td>165.5064</td>\n",
       "      <td>39.0</td>\n",
       "      <td>77.564232</td>\n",
       "      <td>1.0</td>\n",
       "      <td>25.9080</td>\n",
       "      <td>58.3946</td>\n",
       "      <td>41.1988</td>\n",
       "      <td>101.4984</td>\n",
       "      <td>119.6086</td>\n",
       "      <td>72.3900</td>\n",
       "      <td>...</td>\n",
       "      <td>41.1988</td>\n",
       "      <td>136.1059</td>\n",
       "      <td>50.9016</td>\n",
       "      <td>79.6036</td>\n",
       "      <td>57.0992</td>\n",
       "      <td>87.5030</td>\n",
       "      <td>98.6028</td>\n",
       "      <td>moyen</td>\n",
       "      <td>moyen</td>\n",
       "      <td>larges</td>\n",
       "    </tr>\n",
       "    <tr>\n",
       "      <th>1117</th>\n",
       "      <td>177.2920</td>\n",
       "      <td>19.0</td>\n",
       "      <td>74.298370</td>\n",
       "      <td>1.0</td>\n",
       "      <td>28.8036</td>\n",
       "      <td>63.1952</td>\n",
       "      <td>NaN</td>\n",
       "      <td>92.8116</td>\n",
       "      <td>NaN</td>\n",
       "      <td>86.6902</td>\n",
       "      <td>...</td>\n",
       "      <td>NaN</td>\n",
       "      <td>NaN</td>\n",
       "      <td>43.6118</td>\n",
       "      <td>83.4898</td>\n",
       "      <td>58.8010</td>\n",
       "      <td>81.3054</td>\n",
       "      <td>106.7054</td>\n",
       "      <td>plat</td>\n",
       "      <td>large</td>\n",
       "      <td>fines</td>\n",
       "    </tr>\n",
       "  </tbody>\n",
       "</table>\n",
       "<p>5 rows × 25 columns</p>\n",
       "</div>"
      ],
      "text/plain": [
       "        taille   age     weight  sex  tour_de_cheville  longueur_du_bras  \\\n",
       "4302  167.3098  27.0  92.986360  1.0           26.1874           61.0108   \n",
       "2624  196.3928  26.0  92.079176  1.0           29.6926           70.6120   \n",
       "4401  171.0944  46.0  85.275296  1.0           26.7970           62.6110   \n",
       "544   165.5064  39.0  77.564232  1.0           25.9080           58.3946   \n",
       "1117  177.2920  19.0  74.298370  1.0           28.8036           63.1952   \n",
       "\n",
       "      largeur_du_dos  tour_de_poitrine  hauteur_de_poitrine  \\\n",
       "4302         43.7896          106.5022             118.9990   \n",
       "2624         43.7642           97.2058             144.6022   \n",
       "4401         42.1132          100.8888             124.0028   \n",
       "544          41.1988          101.4984             119.6086   \n",
       "1117             NaN           92.8116                  NaN   \n",
       "\n",
       "      hauteur_d_entrejambe  ...  largeur_d_epaule  hauteur_des_epaules  \\\n",
       "4302               72.8980  ...           43.7896             137.2997   \n",
       "2624               90.5002  ...           43.7642             163.4617   \n",
       "4401               75.4126  ...           42.1132             141.4018   \n",
       "544                72.3900  ...           41.1988             136.1059   \n",
       "1117               86.6902  ...               NaN                  NaN   \n",
       "\n",
       "      largeur_des_epaules_a_l_horizontales  \\\n",
       "4302                               54.2036   \n",
       "2624                               49.7078   \n",
       "4401                               48.7934   \n",
       "544                                50.9016   \n",
       "1117                               43.6118   \n",
       "\n",
       "      longueur_de_la_colonne_vertebrale_jusqu_au_poignet  tour_de_cuisse  \\\n",
       "4302                                            83.9978          66.9036   \n",
       "2624                                            93.3958          59.8932   \n",
       "4401                                            83.5914          59.8932   \n",
       "544                                             79.6036          57.0992   \n",
       "1117                                            83.4898          58.8010   \n",
       "\n",
       "      tour_de_taille  hauteur_de_la_taille  categorie_ventre  categorie_torse  \\\n",
       "4302         92.2020               97.5106             moyen            large   \n",
       "2624         89.9922              116.1034             moyen            large   \n",
       "4401         90.1954              100.5078             moyen            moyen   \n",
       "544          87.5030               98.6028             moyen            moyen   \n",
       "1117         81.3054              106.7054              plat            large   \n",
       "\n",
       "      categorie_cuisses  \n",
       "4302             larges  \n",
       "2624           moyennes  \n",
       "4401           moyennes  \n",
       "544              larges  \n",
       "1117              fines  \n",
       "\n",
       "[5 rows x 25 columns]"
      ]
     },
     "execution_count": 21,
     "metadata": {},
     "output_type": "execute_result"
    }
   ],
   "source": [
    "data.head()"
   ]
  },
  {
   "cell_type": "code",
   "execution_count": 22,
   "id": "3f555af4-44fc-4eff-8127-1bf0dbb41d68",
   "metadata": {
    "execution": {
     "iopub.execute_input": "2025-07-25T09:12:10.182753Z",
     "iopub.status.busy": "2025-07-25T09:12:10.181671Z",
     "iopub.status.idle": "2025-07-25T09:12:10.274796Z",
     "shell.execute_reply": "2025-07-25T09:12:10.271875Z",
     "shell.execute_reply.started": "2025-07-25T09:12:10.182753Z"
    }
   },
   "outputs": [
    {
     "data": {
      "text/html": [
       "<div>\n",
       "<style scoped>\n",
       "    .dataframe tbody tr th:only-of-type {\n",
       "        vertical-align: middle;\n",
       "    }\n",
       "\n",
       "    .dataframe tbody tr th {\n",
       "        vertical-align: top;\n",
       "    }\n",
       "\n",
       "    .dataframe thead th {\n",
       "        text-align: right;\n",
       "    }\n",
       "</style>\n",
       "<table border=\"1\" class=\"dataframe\">\n",
       "  <thead>\n",
       "    <tr style=\"text-align: right;\">\n",
       "      <th></th>\n",
       "      <th>taille</th>\n",
       "      <th>age</th>\n",
       "      <th>weight</th>\n",
       "      <th>sex</th>\n",
       "      <th>tour_de_cheville</th>\n",
       "      <th>longueur_du_bras</th>\n",
       "      <th>largeur_du_dos</th>\n",
       "      <th>tour_de_poitrine</th>\n",
       "      <th>hauteur_de_poitrine</th>\n",
       "      <th>hauteur_d_entrejambe</th>\n",
       "      <th>...</th>\n",
       "      <th>largeur_d_epaule</th>\n",
       "      <th>hauteur_des_epaules</th>\n",
       "      <th>largeur_des_epaules_a_l_horizontales</th>\n",
       "      <th>longueur_de_la_colonne_vertebrale_jusqu_au_poignet</th>\n",
       "      <th>tour_de_cuisse</th>\n",
       "      <th>tour_de_taille</th>\n",
       "      <th>hauteur_de_la_taille</th>\n",
       "      <th>categorie_ventre</th>\n",
       "      <th>categorie_torse</th>\n",
       "      <th>categorie_cuisses</th>\n",
       "    </tr>\n",
       "  </thead>\n",
       "  <tbody>\n",
       "    <tr>\n",
       "      <th>4302</th>\n",
       "      <td>167.3098</td>\n",
       "      <td>27.0</td>\n",
       "      <td>92.986360</td>\n",
       "      <td>1.0</td>\n",
       "      <td>26.1874</td>\n",
       "      <td>61.0108</td>\n",
       "      <td>43.789600</td>\n",
       "      <td>106.5022</td>\n",
       "      <td>118.999000</td>\n",
       "      <td>72.8980</td>\n",
       "      <td>...</td>\n",
       "      <td>43.789600</td>\n",
       "      <td>137.29970</td>\n",
       "      <td>54.2036</td>\n",
       "      <td>83.9978</td>\n",
       "      <td>66.9036</td>\n",
       "      <td>92.2020</td>\n",
       "      <td>97.5106</td>\n",
       "      <td>moyen</td>\n",
       "      <td>large</td>\n",
       "      <td>larges</td>\n",
       "    </tr>\n",
       "    <tr>\n",
       "      <th>2624</th>\n",
       "      <td>196.3928</td>\n",
       "      <td>26.0</td>\n",
       "      <td>92.079176</td>\n",
       "      <td>1.0</td>\n",
       "      <td>29.6926</td>\n",
       "      <td>70.6120</td>\n",
       "      <td>43.764200</td>\n",
       "      <td>97.2058</td>\n",
       "      <td>144.602200</td>\n",
       "      <td>90.5002</td>\n",
       "      <td>...</td>\n",
       "      <td>43.764200</td>\n",
       "      <td>163.46170</td>\n",
       "      <td>49.7078</td>\n",
       "      <td>93.3958</td>\n",
       "      <td>59.8932</td>\n",
       "      <td>89.9922</td>\n",
       "      <td>116.1034</td>\n",
       "      <td>moyen</td>\n",
       "      <td>large</td>\n",
       "      <td>moyennes</td>\n",
       "    </tr>\n",
       "    <tr>\n",
       "      <th>4401</th>\n",
       "      <td>171.0944</td>\n",
       "      <td>46.0</td>\n",
       "      <td>85.275296</td>\n",
       "      <td>1.0</td>\n",
       "      <td>26.7970</td>\n",
       "      <td>62.6110</td>\n",
       "      <td>42.113200</td>\n",
       "      <td>100.8888</td>\n",
       "      <td>124.002800</td>\n",
       "      <td>75.4126</td>\n",
       "      <td>...</td>\n",
       "      <td>42.113200</td>\n",
       "      <td>141.40180</td>\n",
       "      <td>48.7934</td>\n",
       "      <td>83.5914</td>\n",
       "      <td>59.8932</td>\n",
       "      <td>90.1954</td>\n",
       "      <td>100.5078</td>\n",
       "      <td>moyen</td>\n",
       "      <td>moyen</td>\n",
       "      <td>moyennes</td>\n",
       "    </tr>\n",
       "    <tr>\n",
       "      <th>544</th>\n",
       "      <td>165.5064</td>\n",
       "      <td>39.0</td>\n",
       "      <td>77.564232</td>\n",
       "      <td>1.0</td>\n",
       "      <td>25.9080</td>\n",
       "      <td>58.3946</td>\n",
       "      <td>41.198800</td>\n",
       "      <td>101.4984</td>\n",
       "      <td>119.608600</td>\n",
       "      <td>72.3900</td>\n",
       "      <td>...</td>\n",
       "      <td>41.198800</td>\n",
       "      <td>136.10590</td>\n",
       "      <td>50.9016</td>\n",
       "      <td>79.6036</td>\n",
       "      <td>57.0992</td>\n",
       "      <td>87.5030</td>\n",
       "      <td>98.6028</td>\n",
       "      <td>moyen</td>\n",
       "      <td>moyen</td>\n",
       "      <td>larges</td>\n",
       "    </tr>\n",
       "    <tr>\n",
       "      <th>1117</th>\n",
       "      <td>177.2920</td>\n",
       "      <td>19.0</td>\n",
       "      <td>74.298370</td>\n",
       "      <td>1.0</td>\n",
       "      <td>28.8036</td>\n",
       "      <td>63.1952</td>\n",
       "      <td>41.485936</td>\n",
       "      <td>92.8116</td>\n",
       "      <td>128.796549</td>\n",
       "      <td>86.6902</td>\n",
       "      <td>...</td>\n",
       "      <td>41.485936</td>\n",
       "      <td>145.86253</td>\n",
       "      <td>43.6118</td>\n",
       "      <td>83.4898</td>\n",
       "      <td>58.8010</td>\n",
       "      <td>81.3054</td>\n",
       "      <td>106.7054</td>\n",
       "      <td>plat</td>\n",
       "      <td>large</td>\n",
       "      <td>fines</td>\n",
       "    </tr>\n",
       "  </tbody>\n",
       "</table>\n",
       "<p>5 rows × 25 columns</p>\n",
       "</div>"
      ],
      "text/plain": [
       "        taille   age     weight  sex  tour_de_cheville  longueur_du_bras  \\\n",
       "4302  167.3098  27.0  92.986360  1.0           26.1874           61.0108   \n",
       "2624  196.3928  26.0  92.079176  1.0           29.6926           70.6120   \n",
       "4401  171.0944  46.0  85.275296  1.0           26.7970           62.6110   \n",
       "544   165.5064  39.0  77.564232  1.0           25.9080           58.3946   \n",
       "1117  177.2920  19.0  74.298370  1.0           28.8036           63.1952   \n",
       "\n",
       "      largeur_du_dos  tour_de_poitrine  hauteur_de_poitrine  \\\n",
       "4302       43.789600          106.5022           118.999000   \n",
       "2624       43.764200           97.2058           144.602200   \n",
       "4401       42.113200          100.8888           124.002800   \n",
       "544        41.198800          101.4984           119.608600   \n",
       "1117       41.485936           92.8116           128.796549   \n",
       "\n",
       "      hauteur_d_entrejambe  ...  largeur_d_epaule  hauteur_des_epaules  \\\n",
       "4302               72.8980  ...         43.789600            137.29970   \n",
       "2624               90.5002  ...         43.764200            163.46170   \n",
       "4401               75.4126  ...         42.113200            141.40180   \n",
       "544                72.3900  ...         41.198800            136.10590   \n",
       "1117               86.6902  ...         41.485936            145.86253   \n",
       "\n",
       "      largeur_des_epaules_a_l_horizontales  \\\n",
       "4302                               54.2036   \n",
       "2624                               49.7078   \n",
       "4401                               48.7934   \n",
       "544                                50.9016   \n",
       "1117                               43.6118   \n",
       "\n",
       "      longueur_de_la_colonne_vertebrale_jusqu_au_poignet  tour_de_cuisse  \\\n",
       "4302                                            83.9978          66.9036   \n",
       "2624                                            93.3958          59.8932   \n",
       "4401                                            83.5914          59.8932   \n",
       "544                                             79.6036          57.0992   \n",
       "1117                                            83.4898          58.8010   \n",
       "\n",
       "      tour_de_taille  hauteur_de_la_taille  categorie_ventre  categorie_torse  \\\n",
       "4302         92.2020               97.5106             moyen            large   \n",
       "2624         89.9922              116.1034             moyen            large   \n",
       "4401         90.1954              100.5078             moyen            moyen   \n",
       "544          87.5030               98.6028             moyen            moyen   \n",
       "1117         81.3054              106.7054              plat            large   \n",
       "\n",
       "      categorie_cuisses  \n",
       "4302             larges  \n",
       "2624           moyennes  \n",
       "4401           moyennes  \n",
       "544              larges  \n",
       "1117              fines  \n",
       "\n",
       "[5 rows x 25 columns]"
      ]
     },
     "execution_count": 22,
     "metadata": {},
     "output_type": "execute_result"
    }
   ],
   "source": [
    "import pandas as pd\n",
    "import numpy as np\n",
    "\n",
    "def remplacer_nan_par_moyenne(df):\n",
    "    for col in df.columns:\n",
    "        if pd.api.types.is_numeric_dtype(df[col]):\n",
    "            moyenne = df[col].mean(skipna=True)\n",
    "            df[col] = df[col].fillna(moyenne)\n",
    "    return df\n",
    "\n",
    "data = remplacer_nan_par_moyenne(data)\n",
    "data.head()"
   ]
  },
  {
   "cell_type": "code",
   "execution_count": 23,
   "id": "862ff022-679c-4408-8896-1b6807ce6050",
   "metadata": {
    "execution": {
     "iopub.execute_input": "2025-07-25T09:12:10.278817Z",
     "iopub.status.busy": "2025-07-25T09:12:10.276873Z",
     "iopub.status.idle": "2025-07-25T09:12:21.284070Z",
     "shell.execute_reply": "2025-07-25T09:12:21.283069Z",
     "shell.execute_reply.started": "2025-07-25T09:12:10.278817Z"
    }
   },
   "outputs": [
    {
     "name": "stdout",
     "output_type": "stream",
     "text": [
      "Valeurs uniques pour 'categorie_ventre' : ['moyen' 'plat' 'rond']\n",
      "Valeurs uniques pour 'categorie_torse' : ['large' 'moyen' 'fin']\n",
      "Valeurs uniques pour 'categorie_cuisses' : ['larges' 'moyennes' 'fines']\n"
     ]
    },
    {
     "data": {
      "text/html": [
       "<div>\n",
       "<style scoped>\n",
       "    .dataframe tbody tr th:only-of-type {\n",
       "        vertical-align: middle;\n",
       "    }\n",
       "\n",
       "    .dataframe tbody tr th {\n",
       "        vertical-align: top;\n",
       "    }\n",
       "\n",
       "    .dataframe thead th {\n",
       "        text-align: right;\n",
       "    }\n",
       "</style>\n",
       "<table border=\"1\" class=\"dataframe\">\n",
       "  <thead>\n",
       "    <tr style=\"text-align: right;\">\n",
       "      <th></th>\n",
       "      <th>taille</th>\n",
       "      <th>age</th>\n",
       "      <th>weight</th>\n",
       "      <th>sex</th>\n",
       "      <th>tour_de_cheville</th>\n",
       "      <th>longueur_du_bras</th>\n",
       "      <th>largeur_du_dos</th>\n",
       "      <th>tour_de_poitrine</th>\n",
       "      <th>hauteur_de_poitrine</th>\n",
       "      <th>hauteur_d_entrejambe</th>\n",
       "      <th>...</th>\n",
       "      <th>hauteur_de_la_taille</th>\n",
       "      <th>categorie_ventre_moyen</th>\n",
       "      <th>categorie_ventre_plat</th>\n",
       "      <th>categorie_ventre_rond</th>\n",
       "      <th>categorie_torse_fin</th>\n",
       "      <th>categorie_torse_large</th>\n",
       "      <th>categorie_torse_moyen</th>\n",
       "      <th>categorie_cuisses_fines</th>\n",
       "      <th>categorie_cuisses_larges</th>\n",
       "      <th>categorie_cuisses_moyennes</th>\n",
       "    </tr>\n",
       "  </thead>\n",
       "  <tbody>\n",
       "    <tr>\n",
       "      <th>4302</th>\n",
       "      <td>167.3098</td>\n",
       "      <td>27.0</td>\n",
       "      <td>92.986360</td>\n",
       "      <td>1.0</td>\n",
       "      <td>26.1874</td>\n",
       "      <td>61.0108</td>\n",
       "      <td>43.789600</td>\n",
       "      <td>106.5022</td>\n",
       "      <td>118.999000</td>\n",
       "      <td>72.8980</td>\n",
       "      <td>...</td>\n",
       "      <td>97.5106</td>\n",
       "      <td>1.0</td>\n",
       "      <td>0.0</td>\n",
       "      <td>0.0</td>\n",
       "      <td>0.0</td>\n",
       "      <td>1.0</td>\n",
       "      <td>0.0</td>\n",
       "      <td>0.0</td>\n",
       "      <td>1.0</td>\n",
       "      <td>0.0</td>\n",
       "    </tr>\n",
       "    <tr>\n",
       "      <th>2624</th>\n",
       "      <td>196.3928</td>\n",
       "      <td>26.0</td>\n",
       "      <td>92.079176</td>\n",
       "      <td>1.0</td>\n",
       "      <td>29.6926</td>\n",
       "      <td>70.6120</td>\n",
       "      <td>43.764200</td>\n",
       "      <td>97.2058</td>\n",
       "      <td>144.602200</td>\n",
       "      <td>90.5002</td>\n",
       "      <td>...</td>\n",
       "      <td>116.1034</td>\n",
       "      <td>1.0</td>\n",
       "      <td>0.0</td>\n",
       "      <td>0.0</td>\n",
       "      <td>0.0</td>\n",
       "      <td>1.0</td>\n",
       "      <td>0.0</td>\n",
       "      <td>0.0</td>\n",
       "      <td>0.0</td>\n",
       "      <td>1.0</td>\n",
       "    </tr>\n",
       "    <tr>\n",
       "      <th>4401</th>\n",
       "      <td>171.0944</td>\n",
       "      <td>46.0</td>\n",
       "      <td>85.275296</td>\n",
       "      <td>1.0</td>\n",
       "      <td>26.7970</td>\n",
       "      <td>62.6110</td>\n",
       "      <td>42.113200</td>\n",
       "      <td>100.8888</td>\n",
       "      <td>124.002800</td>\n",
       "      <td>75.4126</td>\n",
       "      <td>...</td>\n",
       "      <td>100.5078</td>\n",
       "      <td>1.0</td>\n",
       "      <td>0.0</td>\n",
       "      <td>0.0</td>\n",
       "      <td>0.0</td>\n",
       "      <td>0.0</td>\n",
       "      <td>1.0</td>\n",
       "      <td>0.0</td>\n",
       "      <td>0.0</td>\n",
       "      <td>1.0</td>\n",
       "    </tr>\n",
       "    <tr>\n",
       "      <th>544</th>\n",
       "      <td>165.5064</td>\n",
       "      <td>39.0</td>\n",
       "      <td>77.564232</td>\n",
       "      <td>1.0</td>\n",
       "      <td>25.9080</td>\n",
       "      <td>58.3946</td>\n",
       "      <td>41.198800</td>\n",
       "      <td>101.4984</td>\n",
       "      <td>119.608600</td>\n",
       "      <td>72.3900</td>\n",
       "      <td>...</td>\n",
       "      <td>98.6028</td>\n",
       "      <td>1.0</td>\n",
       "      <td>0.0</td>\n",
       "      <td>0.0</td>\n",
       "      <td>0.0</td>\n",
       "      <td>0.0</td>\n",
       "      <td>1.0</td>\n",
       "      <td>0.0</td>\n",
       "      <td>1.0</td>\n",
       "      <td>0.0</td>\n",
       "    </tr>\n",
       "    <tr>\n",
       "      <th>1117</th>\n",
       "      <td>177.2920</td>\n",
       "      <td>19.0</td>\n",
       "      <td>74.298370</td>\n",
       "      <td>1.0</td>\n",
       "      <td>28.8036</td>\n",
       "      <td>63.1952</td>\n",
       "      <td>41.485936</td>\n",
       "      <td>92.8116</td>\n",
       "      <td>128.796549</td>\n",
       "      <td>86.6902</td>\n",
       "      <td>...</td>\n",
       "      <td>106.7054</td>\n",
       "      <td>0.0</td>\n",
       "      <td>1.0</td>\n",
       "      <td>0.0</td>\n",
       "      <td>0.0</td>\n",
       "      <td>1.0</td>\n",
       "      <td>0.0</td>\n",
       "      <td>1.0</td>\n",
       "      <td>0.0</td>\n",
       "      <td>0.0</td>\n",
       "    </tr>\n",
       "  </tbody>\n",
       "</table>\n",
       "<p>5 rows × 31 columns</p>\n",
       "</div>"
      ],
      "text/plain": [
       "        taille   age     weight  sex  tour_de_cheville  longueur_du_bras  \\\n",
       "4302  167.3098  27.0  92.986360  1.0           26.1874           61.0108   \n",
       "2624  196.3928  26.0  92.079176  1.0           29.6926           70.6120   \n",
       "4401  171.0944  46.0  85.275296  1.0           26.7970           62.6110   \n",
       "544   165.5064  39.0  77.564232  1.0           25.9080           58.3946   \n",
       "1117  177.2920  19.0  74.298370  1.0           28.8036           63.1952   \n",
       "\n",
       "      largeur_du_dos  tour_de_poitrine  hauteur_de_poitrine  \\\n",
       "4302       43.789600          106.5022           118.999000   \n",
       "2624       43.764200           97.2058           144.602200   \n",
       "4401       42.113200          100.8888           124.002800   \n",
       "544        41.198800          101.4984           119.608600   \n",
       "1117       41.485936           92.8116           128.796549   \n",
       "\n",
       "      hauteur_d_entrejambe  ...  hauteur_de_la_taille  categorie_ventre_moyen  \\\n",
       "4302               72.8980  ...               97.5106                     1.0   \n",
       "2624               90.5002  ...              116.1034                     1.0   \n",
       "4401               75.4126  ...              100.5078                     1.0   \n",
       "544                72.3900  ...               98.6028                     1.0   \n",
       "1117               86.6902  ...              106.7054                     0.0   \n",
       "\n",
       "      categorie_ventre_plat  categorie_ventre_rond  categorie_torse_fin  \\\n",
       "4302                    0.0                    0.0                  0.0   \n",
       "2624                    0.0                    0.0                  0.0   \n",
       "4401                    0.0                    0.0                  0.0   \n",
       "544                     0.0                    0.0                  0.0   \n",
       "1117                    1.0                    0.0                  0.0   \n",
       "\n",
       "      categorie_torse_large  categorie_torse_moyen  categorie_cuisses_fines  \\\n",
       "4302                    1.0                    0.0                      0.0   \n",
       "2624                    1.0                    0.0                      0.0   \n",
       "4401                    0.0                    1.0                      0.0   \n",
       "544                     0.0                    1.0                      0.0   \n",
       "1117                    1.0                    0.0                      1.0   \n",
       "\n",
       "      categorie_cuisses_larges  categorie_cuisses_moyennes  \n",
       "4302                       1.0                         0.0  \n",
       "2624                       0.0                         1.0  \n",
       "4401                       0.0                         1.0  \n",
       "544                        1.0                         0.0  \n",
       "1117                       0.0                         0.0  \n",
       "\n",
       "[5 rows x 31 columns]"
      ]
     },
     "execution_count": 23,
     "metadata": {},
     "output_type": "execute_result"
    }
   ],
   "source": [
    "from sklearn.preprocessing import OneHotEncoder\n",
    "\n",
    "# Colonnes à encoder\n",
    "colonnes_cat = ['categorie_ventre', 'categorie_torse', 'categorie_cuisses']\n",
    "\n",
    "# Afficher les valeurs uniques pour vérification\n",
    "for col in colonnes_cat:\n",
    "    print(f\"Valeurs uniques pour '{col}' :\", data[col].unique())\n",
    "\n",
    "# Instancier OneHotEncoder avec drop='if_binary' (garde 1 seule colonne pour les colonnes binaires)\n",
    "ohe = OneHotEncoder(sparse_output=False, drop='if_binary')\n",
    "\n",
    "# Fit + transform sur les colonnes sélectionnées\n",
    "encoded_array = ohe.fit_transform(data[colonnes_cat])\n",
    "\n",
    "# Obtenir les noms des nouvelles colonnes générées\n",
    "encoded_col_names = ohe.get_feature_names_out(colonnes_cat)\n",
    "\n",
    "# Créer un DataFrame avec les colonnes encodées\n",
    "df_encoded = pd.DataFrame(encoded_array, columns=encoded_col_names, index=data.index)\n",
    "\n",
    "# Fusionner avec le DataFrame d’origine\n",
    "mesure_sc = pd.concat([data.drop(columns=colonnes_cat), df_encoded], axis=1)\n",
    "\n",
    "# Aperçu du DataFrame final\n",
    "mesure_sc.head()\n"
   ]
  },
  {
   "cell_type": "code",
   "execution_count": 24,
   "id": "740fc9fc-4956-4884-a950-1340ab2263de",
   "metadata": {
    "execution": {
     "iopub.execute_input": "2025-07-25T09:12:21.288073Z",
     "iopub.status.busy": "2025-07-25T09:12:21.287079Z",
     "iopub.status.idle": "2025-07-25T09:12:21.379026Z",
     "shell.execute_reply": "2025-07-25T09:12:21.376029Z",
     "shell.execute_reply.started": "2025-07-25T09:12:21.288073Z"
    }
   },
   "outputs": [
    {
     "data": {
      "text/html": [
       "<div>\n",
       "<style scoped>\n",
       "    .dataframe tbody tr th:only-of-type {\n",
       "        vertical-align: middle;\n",
       "    }\n",
       "\n",
       "    .dataframe tbody tr th {\n",
       "        vertical-align: top;\n",
       "    }\n",
       "\n",
       "    .dataframe thead th {\n",
       "        text-align: right;\n",
       "    }\n",
       "</style>\n",
       "<table border=\"1\" class=\"dataframe\">\n",
       "  <thead>\n",
       "    <tr style=\"text-align: right;\">\n",
       "      <th></th>\n",
       "      <th>taille</th>\n",
       "      <th>age</th>\n",
       "      <th>weight</th>\n",
       "      <th>sex</th>\n",
       "      <th>tour_de_cheville</th>\n",
       "      <th>longueur_du_bras</th>\n",
       "      <th>largeur_du_dos</th>\n",
       "      <th>tour_de_poitrine</th>\n",
       "      <th>hauteur_de_poitrine</th>\n",
       "      <th>hauteur_d_entrejambe</th>\n",
       "      <th>...</th>\n",
       "      <th>hauteur_de_la_taille</th>\n",
       "      <th>categorie_ventre_moyen</th>\n",
       "      <th>categorie_ventre_plat</th>\n",
       "      <th>categorie_ventre_rond</th>\n",
       "      <th>categorie_torse_fin</th>\n",
       "      <th>categorie_torse_large</th>\n",
       "      <th>categorie_torse_moyen</th>\n",
       "      <th>categorie_cuisses_fines</th>\n",
       "      <th>categorie_cuisses_larges</th>\n",
       "      <th>categorie_cuisses_moyennes</th>\n",
       "    </tr>\n",
       "  </thead>\n",
       "  <tbody>\n",
       "    <tr>\n",
       "      <th>4302</th>\n",
       "      <td>-0.917620</td>\n",
       "      <td>-0.480769</td>\n",
       "      <td>0.627615</td>\n",
       "      <td>0.0</td>\n",
       "      <td>-0.202532</td>\n",
       "      <td>61.0108</td>\n",
       "      <td>0.737361</td>\n",
       "      <td>0.460653</td>\n",
       "      <td>-1.112409</td>\n",
       "      <td>-1.071429</td>\n",
       "      <td>...</td>\n",
       "      <td>-0.830619</td>\n",
       "      <td>1.0</td>\n",
       "      <td>0.0</td>\n",
       "      <td>0.0</td>\n",
       "      <td>0.0</td>\n",
       "      <td>1.0</td>\n",
       "      <td>0.0</td>\n",
       "      <td>0.0</td>\n",
       "      <td>1.0</td>\n",
       "      <td>-1.0</td>\n",
       "    </tr>\n",
       "    <tr>\n",
       "      <th>2624</th>\n",
       "      <td>1.702517</td>\n",
       "      <td>-0.528846</td>\n",
       "      <td>0.583572</td>\n",
       "      <td>0.0</td>\n",
       "      <td>1.544304</td>\n",
       "      <td>70.6120</td>\n",
       "      <td>0.729231</td>\n",
       "      <td>-0.241843</td>\n",
       "      <td>1.830657</td>\n",
       "      <td>1.285714</td>\n",
       "      <td>...</td>\n",
       "      <td>1.553746</td>\n",
       "      <td>1.0</td>\n",
       "      <td>0.0</td>\n",
       "      <td>0.0</td>\n",
       "      <td>0.0</td>\n",
       "      <td>1.0</td>\n",
       "      <td>0.0</td>\n",
       "      <td>0.0</td>\n",
       "      <td>0.0</td>\n",
       "      <td>0.0</td>\n",
       "    </tr>\n",
       "    <tr>\n",
       "      <th>4401</th>\n",
       "      <td>-0.576659</td>\n",
       "      <td>0.432692</td>\n",
       "      <td>0.253248</td>\n",
       "      <td>0.0</td>\n",
       "      <td>0.101266</td>\n",
       "      <td>62.6110</td>\n",
       "      <td>0.200776</td>\n",
       "      <td>0.036468</td>\n",
       "      <td>-0.537226</td>\n",
       "      <td>-0.734694</td>\n",
       "      <td>...</td>\n",
       "      <td>-0.446254</td>\n",
       "      <td>1.0</td>\n",
       "      <td>0.0</td>\n",
       "      <td>0.0</td>\n",
       "      <td>0.0</td>\n",
       "      <td>0.0</td>\n",
       "      <td>1.0</td>\n",
       "      <td>0.0</td>\n",
       "      <td>0.0</td>\n",
       "      <td>0.0</td>\n",
       "    </tr>\n",
       "    <tr>\n",
       "      <th>544</th>\n",
       "      <td>-1.080092</td>\n",
       "      <td>0.096154</td>\n",
       "      <td>-0.121119</td>\n",
       "      <td>0.0</td>\n",
       "      <td>-0.341772</td>\n",
       "      <td>58.3946</td>\n",
       "      <td>-0.091907</td>\n",
       "      <td>0.082534</td>\n",
       "      <td>-1.042336</td>\n",
       "      <td>-1.139456</td>\n",
       "      <td>...</td>\n",
       "      <td>-0.690554</td>\n",
       "      <td>1.0</td>\n",
       "      <td>0.0</td>\n",
       "      <td>0.0</td>\n",
       "      <td>0.0</td>\n",
       "      <td>0.0</td>\n",
       "      <td>1.0</td>\n",
       "      <td>0.0</td>\n",
       "      <td>1.0</td>\n",
       "      <td>-1.0</td>\n",
       "    </tr>\n",
       "    <tr>\n",
       "      <th>1117</th>\n",
       "      <td>-0.018307</td>\n",
       "      <td>-0.865385</td>\n",
       "      <td>-0.279674</td>\n",
       "      <td>0.0</td>\n",
       "      <td>1.101266</td>\n",
       "      <td>63.1952</td>\n",
       "      <td>0.000000</td>\n",
       "      <td>-0.573896</td>\n",
       "      <td>0.013811</td>\n",
       "      <td>0.775510</td>\n",
       "      <td>...</td>\n",
       "      <td>0.348534</td>\n",
       "      <td>0.0</td>\n",
       "      <td>1.0</td>\n",
       "      <td>0.0</td>\n",
       "      <td>0.0</td>\n",
       "      <td>1.0</td>\n",
       "      <td>0.0</td>\n",
       "      <td>1.0</td>\n",
       "      <td>0.0</td>\n",
       "      <td>-1.0</td>\n",
       "    </tr>\n",
       "  </tbody>\n",
       "</table>\n",
       "<p>5 rows × 31 columns</p>\n",
       "</div>"
      ],
      "text/plain": [
       "        taille       age    weight  sex  tour_de_cheville  longueur_du_bras  \\\n",
       "4302 -0.917620 -0.480769  0.627615  0.0         -0.202532           61.0108   \n",
       "2624  1.702517 -0.528846  0.583572  0.0          1.544304           70.6120   \n",
       "4401 -0.576659  0.432692  0.253248  0.0          0.101266           62.6110   \n",
       "544  -1.080092  0.096154 -0.121119  0.0         -0.341772           58.3946   \n",
       "1117 -0.018307 -0.865385 -0.279674  0.0          1.101266           63.1952   \n",
       "\n",
       "      largeur_du_dos  tour_de_poitrine  hauteur_de_poitrine  \\\n",
       "4302        0.737361          0.460653            -1.112409   \n",
       "2624        0.729231         -0.241843             1.830657   \n",
       "4401        0.200776          0.036468            -0.537226   \n",
       "544        -0.091907          0.082534            -1.042336   \n",
       "1117        0.000000         -0.573896             0.013811   \n",
       "\n",
       "      hauteur_d_entrejambe  ...  hauteur_de_la_taille  categorie_ventre_moyen  \\\n",
       "4302             -1.071429  ...             -0.830619                     1.0   \n",
       "2624              1.285714  ...              1.553746                     1.0   \n",
       "4401             -0.734694  ...             -0.446254                     1.0   \n",
       "544              -1.139456  ...             -0.690554                     1.0   \n",
       "1117              0.775510  ...              0.348534                     0.0   \n",
       "\n",
       "      categorie_ventre_plat  categorie_ventre_rond  categorie_torse_fin  \\\n",
       "4302                    0.0                    0.0                  0.0   \n",
       "2624                    0.0                    0.0                  0.0   \n",
       "4401                    0.0                    0.0                  0.0   \n",
       "544                     0.0                    0.0                  0.0   \n",
       "1117                    1.0                    0.0                  0.0   \n",
       "\n",
       "      categorie_torse_large  categorie_torse_moyen  categorie_cuisses_fines  \\\n",
       "4302                    1.0                    0.0                      0.0   \n",
       "2624                    1.0                    0.0                      0.0   \n",
       "4401                    0.0                    1.0                      0.0   \n",
       "544                     0.0                    1.0                      0.0   \n",
       "1117                    1.0                    0.0                      1.0   \n",
       "\n",
       "      categorie_cuisses_larges  categorie_cuisses_moyennes  \n",
       "4302                       1.0                        -1.0  \n",
       "2624                       0.0                         0.0  \n",
       "4401                       0.0                         0.0  \n",
       "544                        1.0                        -1.0  \n",
       "1117                       0.0                        -1.0  \n",
       "\n",
       "[5 rows x 31 columns]"
      ]
     },
     "execution_count": 24,
     "metadata": {},
     "output_type": "execute_result"
    }
   ],
   "source": [
    "from sklearn.preprocessing import RobustScaler\n",
    "\n",
    "# 🟡 Colonnes à exclure du scaling\n",
    "colonnes_a_exclure = [\n",
    "    'longueur_du_bras', 'longueur_bras_binaire', \n",
    "    'categorie_ventre', 'categorie_torse', 'categorie_cuisses',\n",
    "    'categorie_ventre_rond', 'categorie_torse_fin', \n",
    "    'categorie_torse_large', 'categorie_torse_moyen', \n",
    "    'categorie_cuisses_larges'\n",
    "]\n",
    "\n",
    "# 🟢 Colonnes à scaler (toutes les autres)\n",
    "colonnes_a_scaler = [col for col in mesure_sc.columns if col not in colonnes_a_exclure]\n",
    "\n",
    "# ⚙️ Instanciation et application du RobustScaler\n",
    "scaler = RobustScaler()\n",
    "df_scaled = mesure_sc.copy()\n",
    "df_scaled[colonnes_a_scaler] = scaler.fit_transform(df_scaled[colonnes_a_scaler])\n",
    "df_scaled.head()"
   ]
  },
  {
   "cell_type": "code",
   "execution_count": 25,
   "id": "5b09bda9-6818-4d83-a367-a84a54030e3e",
   "metadata": {
    "execution": {
     "iopub.execute_input": "2025-07-25T09:12:21.383065Z",
     "iopub.status.busy": "2025-07-25T09:12:21.382023Z",
     "iopub.status.idle": "2025-07-25T09:12:23.809526Z",
     "shell.execute_reply": "2025-07-25T09:12:23.807515Z",
     "shell.execute_reply.started": "2025-07-25T09:12:21.383065Z"
    }
   },
   "outputs": [
    {
     "name": "stdout",
     "output_type": "stream",
     "text": [
      "✅ Modèle entraîné pour sex — Score R² : 1.0000\n",
      "✅ Modèle entraîné pour tour_de_cheville — Score R² : 0.5795\n",
      "✅ Modèle entraîné pour longueur_du_bras — Score R² : 0.6091\n",
      "✅ Modèle entraîné pour largeur_du_dos — Score R² : 0.8129\n",
      "✅ Modèle entraîné pour tour_de_poitrine — Score R² : 0.9013\n",
      "✅ Modèle entraîné pour hauteur_de_poitrine — Score R² : 0.8922\n",
      "✅ Modèle entraîné pour hauteur_d_entrejambe — Score R² : 0.8167\n",
      "✅ Modèle entraîné pour longueur_avant — Score R² : 0.5173\n",
      "✅ Modèle entraîné pour largeur_des_hanches — Score R² : 0.8731\n",
      "✅ Modèle entraîné pour hauteur_des_hanches — Score R² : 0.7011\n",
      "✅ Modèle entraîné pour hauteur_des_genoux — Score R² : 0.7958\n",
      "✅ Modèle entraîné pour tour_du_cou — Score R² : 0.4817\n",
      "✅ Modèle entraîné pour largeur_d_epaule — Score R² : 0.8129\n",
      "✅ Modèle entraîné pour hauteur_des_epaules — Score R² : 0.9109\n",
      "✅ Modèle entraîné pour largeur_des_epaules_a_l_horizontales — Score R² : 0.8731\n",
      "✅ Modèle entraîné pour longueur_de_la_colonne_vertebrale_jusqu_au_poignet — Score R² : 0.7114\n",
      "✅ Modèle entraîné pour tour_de_cuisse — Score R² : 0.8311\n",
      "✅ Modèle entraîné pour tour_de_taille — Score R² : 0.9003\n",
      "✅ Modèle entraîné pour hauteur_de_la_taille — Score R² : 0.7985\n"
     ]
    }
   ],
   "source": [
    "from sklearn.linear_model import LinearRegression\n",
    "from sklearn.impute import SimpleImputer\n",
    "\n",
    "def entrainer_regression_par_colonne(df, colonnes_explicatives, colonnes_cibles):\n",
    "    \"\"\"\n",
    "    Entraîne une régression linéaire pour chaque colonne cible dans colonnes_cibles\n",
    "    en utilisant les colonnes_explicatives comme variables d'entrée.\n",
    "\n",
    "    Args:\n",
    "        df (pd.DataFrame): Le DataFrame contenant les données.\n",
    "        colonnes_explicatives (list): Liste des noms de colonnes à utiliser comme X.\n",
    "        colonnes_cibles (list): Liste des noms de colonnes à prédire.\n",
    "\n",
    "    Returns:\n",
    "        dict: dictionnaire contenant pour chaque cible, son modèle entraîné et le score R².\n",
    "    \"\"\"\n",
    "    resultats = {}\n",
    "\n",
    "    for cible in colonnes_cibles:\n",
    "        X = df[colonnes_explicatives]\n",
    "        y = df[cible]\n",
    "\n",
    "        model = LinearRegression()\n",
    "        model.fit(X, y)\n",
    "        score = model.score(X, y)\n",
    "\n",
    "        resultats[cible] = {\n",
    "            'modele': model,\n",
    "            'score': score\n",
    "        }\n",
    "\n",
    "        print(f\"✅ Modèle entraîné pour {cible} — Score R² : {score:.4f}\")\n",
    "\n",
    "    return resultats\n",
    "\n",
    "# Exemple d’utilisation :\n",
    "colonnes_X = ['taille', 'age', 'weight',\n",
    "              'categorie_ventre_plat', 'categorie_ventre_moyen', 'categorie_ventre_rond',\n",
    "              'categorie_torse_fin', 'categorie_torse_moyen', 'categorie_torse_large',\n",
    "              'categorie_cuisses_fines', 'categorie_cuisses_moyennes', 'categorie_cuisses_larges']\n",
    "\n",
    "colonnes_X_valides = [col for col in colonnes_X if col in df_scaled.columns]\n",
    "\n",
    "\n",
    "# Par exemple, toutes les colonnes sauf colonnes_X sont cibles\n",
    "colonnes_y = [col for col in df_scaled.columns if col not in colonnes_X]\n",
    "\n",
    "imputer = SimpleImputer(strategy='median')  # ou strategy='mean'\n",
    "df_imputed = pd.DataFrame(imputer.fit_transform(df_scaled), columns=df_scaled.columns)\n",
    "\n",
    "\n",
    "resultats = entrainer_regression_par_colonne(df_imputed, colonnes_X_valides, colonnes_y)\n"
   ]
  },
  {
   "cell_type": "code",
   "execution_count": 26,
   "id": "4721dd5e-b8de-400e-afd5-bbe595c4737e",
   "metadata": {
    "execution": {
     "iopub.execute_input": "2025-07-25T09:12:23.813526Z",
     "iopub.status.busy": "2025-07-25T09:12:23.812519Z",
     "iopub.status.idle": "2025-07-25T09:12:24.469709Z",
     "shell.execute_reply": "2025-07-25T09:12:24.466685Z",
     "shell.execute_reply.started": "2025-07-25T09:12:23.812519Z"
    }
   },
   "outputs": [
    {
     "name": "stdout",
     "output_type": "stream",
     "text": [
      "✅ sex — R² train: 1.0000 | test: 1.0000\n",
      "✅ tour_de_cheville — R² train: 0.5890 | test: 0.5311\n",
      "✅ longueur_du_bras — R² train: 0.6131 | test: 0.5817\n",
      "✅ largeur_du_dos — R² train: 0.8147 | test: 0.8047\n",
      "✅ tour_de_poitrine — R² train: 0.9004 | test: 0.9048\n",
      "✅ hauteur_de_poitrine — R² train: 0.8869 | test: 0.9120\n",
      "✅ hauteur_d_entrejambe — R² train: 0.8198 | test: 0.8000\n",
      "✅ longueur_avant — R² train: 0.5199 | test: 0.4988\n",
      "✅ largeur_des_hanches — R² train: 0.8739 | test: 0.8688\n",
      "✅ hauteur_des_hanches — R² train: 0.7045 | test: 0.6834\n",
      "✅ hauteur_des_genoux — R² train: 0.7944 | test: 0.7990\n",
      "✅ tour_du_cou — R² train: 0.4854 | test: 0.4620\n",
      "✅ largeur_d_epaule — R² train: 0.8147 | test: 0.8047\n",
      "✅ hauteur_des_epaules — R² train: 0.9053 | test: 0.9328\n",
      "✅ largeur_des_epaules_a_l_horizontales — R² train: 0.8739 | test: 0.8688\n",
      "✅ longueur_de_la_colonne_vertebrale_jusqu_au_poignet — R² train: 0.7139 | test: 0.6927\n",
      "✅ tour_de_cuisse — R² train: 0.8325 | test: 0.8218\n",
      "✅ tour_de_taille — R² train: 0.8996 | test: 0.9030\n",
      "✅ hauteur_de_la_taille — R² train: 0.8048 | test: 0.7683\n"
     ]
    }
   ],
   "source": [
    "from sklearn.linear_model import LinearRegression\n",
    "from sklearn.model_selection import train_test_split\n",
    "from sklearn.metrics import r2_score\n",
    "from sklearn.impute import SimpleImputer\n",
    "import pandas as pd\n",
    "\n",
    "def entrainer_regression_par_colonne(df, colonnes_explicatives, colonnes_cibles, test_size=0.2, random_state=42):\n",
    "    \"\"\"\n",
    "    Entraîne une régression linéaire pour chaque colonne cible, avec train_test_split.\n",
    "\n",
    "    Args:\n",
    "        df (pd.DataFrame): Le DataFrame complet.\n",
    "        colonnes_explicatives (list): Noms des colonnes à utiliser comme variables d'entrée (X).\n",
    "        colonnes_cibles (list): Noms des colonnes à prédire (y).\n",
    "        test_size (float): Proportion du jeu de test (entre 0 et 1).\n",
    "        random_state (int): Graine pour la reproductibilité.\n",
    "\n",
    "    Returns:\n",
    "        dict: Pour chaque colonne cible, le modèle, score R² (train & test).\n",
    "    \"\"\"\n",
    "    resultats = {}\n",
    "\n",
    "    # 1. Imputer les NaN\n",
    "    imputer = SimpleImputer(strategy='median')\n",
    "    df_imputed = pd.DataFrame(imputer.fit_transform(df), columns=df.columns)\n",
    "\n",
    "    for cible in colonnes_cibles:\n",
    "        X = df_imputed[colonnes_explicatives]\n",
    "        y = df_imputed[cible]\n",
    "\n",
    "        # 2. Split des données\n",
    "        X_train, X_test, y_train, y_test = train_test_split(\n",
    "            X, y, test_size=test_size, random_state=random_state\n",
    "        )\n",
    "\n",
    "        # 3. Entraînement\n",
    "        model = LinearRegression()\n",
    "        model.fit(X_train, y_train)\n",
    "\n",
    "        # 4. Évaluation\n",
    "        score_train = model.score(X_train, y_train)\n",
    "        score_test = model.score(X_test, y_test)\n",
    "\n",
    "        resultats[cible] = {\n",
    "            'modele': model,\n",
    "            'score_train': score_train,\n",
    "            'score_test': score_test\n",
    "        }\n",
    "\n",
    "        print(f\"✅ {cible} — R² train: {score_train:.4f} | test: {score_test:.4f}\")\n",
    "\n",
    "    return resultats\n",
    "    \n",
    "colonnes_X = ['taille', 'age', 'weight',\n",
    "              'categorie_ventre_plat', 'categorie_ventre_moyen', 'categorie_ventre_rond',\n",
    "              'categorie_torse_fin', 'categorie_torse_moyen', 'categorie_torse_large',\n",
    "              'categorie_cuisses_fines', 'categorie_cuisses_moyennes', 'categorie_cuisses_larges']\n",
    "\n",
    "colonnes_X_valides = [col for col in colonnes_X if col in df_scaled.columns]\n",
    "\n",
    "\n",
    "# Par exemple, toutes les colonnes sauf colonnes_X sont cibles\n",
    "colonnes_y = [col for col in df_scaled.columns if col not in colonnes_X]\n",
    "\n",
    "resultats = entrainer_regression_par_colonne(df_scaled, colonnes_X_valides, colonnes_y)"
   ]
  },
  {
   "cell_type": "code",
   "execution_count": 29,
   "id": "965d172b-741c-41d2-9ad7-5443975dcfcd",
   "metadata": {
    "execution": {
     "iopub.execute_input": "2025-07-25T11:54:30.137646Z",
     "iopub.status.busy": "2025-07-25T11:54:30.136646Z",
     "iopub.status.idle": "2025-07-25T11:54:32.670449Z",
     "shell.execute_reply": "2025-07-25T11:54:32.668442Z",
     "shell.execute_reply.started": "2025-07-25T11:54:30.137646Z"
    }
   },
   "outputs": [
    {
     "name": "stdout",
     "output_type": "stream",
     "text": [
      "✅ sex — R² moyen: 1.0000 ± 0.0000\n",
      "✅ tour_de_cheville — R² moyen: 0.5704 ± 0.0381\n",
      "✅ longueur_du_bras — R² moyen: 0.6029 ± 0.0315\n",
      "✅ largeur_du_dos — R² moyen: 0.8099 ± 0.0189\n",
      "✅ tour_de_poitrine — R² moyen: 0.9002 ± 0.0064\n",
      "✅ hauteur_de_poitrine — R² moyen: 0.8893 ± 0.0404\n",
      "✅ hauteur_d_entrejambe — R² moyen: 0.8139 ± 0.0082\n",
      "✅ longueur_avant — R² moyen: 0.5073 ± 0.0245\n",
      "✅ largeur_des_hanches — R² moyen: 0.8717 ± 0.0080\n",
      "✅ hauteur_des_hanches — R² moyen: 0.6956 ± 0.0353\n",
      "✅ hauteur_des_genoux — R² moyen: 0.7913 ± 0.0348\n",
      "✅ tour_du_cou — R² moyen: 0.4759 ± 0.0157\n",
      "✅ largeur_d_epaule — R² moyen: 0.8099 ± 0.0189\n",
      "✅ hauteur_des_epaules — R² moyen: 0.9089 ± 0.0399\n",
      "✅ largeur_des_epaules_a_l_horizontales — R² moyen: 0.8717 ± 0.0080\n",
      "✅ longueur_de_la_colonne_vertebrale_jusqu_au_poignet — R² moyen: 0.7056 ± 0.0176\n",
      "✅ tour_de_cuisse — R² moyen: 0.8279 ± 0.0062\n",
      "✅ tour_de_taille — R² moyen: 0.8988 ± 0.0103\n",
      "✅ hauteur_de_la_taille — R² moyen: 0.7953 ± 0.0136\n"
     ]
    }
   ],
   "source": [
    "from sklearn.linear_model import LinearRegression\n",
    "from sklearn.model_selection import cross_val_score, KFold\n",
    "from sklearn.impute import SimpleImputer\n",
    "import pandas as pd\n",
    "import numpy as np\n",
    "\n",
    "def entrainer_regression_cv(df, colonnes_explicatives, colonnes_cibles, n_splits=5, random_state=42):\n",
    "    \"\"\"\n",
    "    Entraîne une régression linéaire pour chaque colonne cible avec K-Fold Cross Validation.\n",
    "\n",
    "    Args:\n",
    "        df (pd.DataFrame): Le DataFrame complet.\n",
    "        colonnes_explicatives (list): Noms des colonnes explicatives.\n",
    "        colonnes_cibles (list): Noms des colonnes cibles.\n",
    "        n_splits (int): Nombre de folds pour la validation croisée.\n",
    "        random_state (int): Graine pour la reproductibilité.\n",
    "\n",
    "    Returns:\n",
    "        dict: Pour chaque cible, moyenne et écart-type du score R² sur les folds.\n",
    "    \"\"\"\n",
    "    resultats = {}\n",
    "\n",
    "    # 1. Imputation des NaN\n",
    "    imputer = SimpleImputer(strategy='median')\n",
    "    df_imputed = pd.DataFrame(imputer.fit_transform(df), columns=df.columns)\n",
    "\n",
    "    # 2. Configuration du K-Fold\n",
    "    kf = KFold(n_splits=n_splits, shuffle=True, random_state=random_state)\n",
    "\n",
    "    for cible in colonnes_cibles:\n",
    "        X = df_imputed[colonnes_explicatives]\n",
    "        y = df_imputed[cible]\n",
    "\n",
    "        modele = LinearRegression()\n",
    "\n",
    "        # 3. Cross-validation sur R²\n",
    "        scores = cross_val_score(modele, X, y, cv=kf, scoring='r2')\n",
    "\n",
    "        resultats[cible] = {\n",
    "            'r2_moyen': np.mean(scores),\n",
    "            'r2_ecart_type': np.std(scores),\n",
    "            'r2_scores': scores\n",
    "        }\n",
    "\n",
    "        print(f\"✅ {cible} — R² moyen: {np.mean(scores):.4f} ± {np.std(scores):.4f}\")\n",
    "\n",
    "    return resultats\n",
    "colonnes_X = ['taille', 'age', 'weight',\n",
    "              'categorie_ventre_plat', 'categorie_ventre_moyen', 'categorie_ventre_rond',\n",
    "              'categorie_torse_fin', 'categorie_torse_moyen', 'categorie_torse_large',\n",
    "              'categorie_cuisses_fines', 'categorie_cuisses_moyennes', 'categorie_cuisses_larges']\n",
    "\n",
    "colonnes_X_valides = [col for col in colonnes_X if col in df_scaled.columns]\n",
    "colonnes_y = [col for col in df_scaled.columns if col not in colonnes_X_valides]\n",
    "\n",
    "resultats_cv = entrainer_regression_cv(df_scaled, colonnes_X_valides, colonnes_y, n_splits=5)\n"
   ]
  },
  {
   "cell_type": "code",
   "execution_count": 28,
   "id": "6c09e3a0-8a72-4f79-b78b-f2aeef7ddd9b",
   "metadata": {
    "execution": {
     "iopub.execute_input": "2025-07-25T09:12:26.760819Z",
     "iopub.status.busy": "2025-07-25T09:12:26.759814Z",
     "iopub.status.idle": "2025-07-25T11:33:47.690133Z",
     "shell.execute_reply": "2025-07-25T11:33:47.688134Z",
     "shell.execute_reply.started": "2025-07-25T09:12:26.760819Z"
    }
   },
   "outputs": [
    {
     "name": "stdout",
     "output_type": "stream",
     "text": [
      "\n",
      "⚙️ Traitement de la cible : sex\n"
     ]
    },
    {
     "name": "stderr",
     "output_type": "stream",
     "text": [
      "c:\\Users\\mbouke.besse\\OneDrive - ESTIA\\Documents\\code-dataset\\.venv\\lib\\site-packages\\tpot\\tpot_estimator\\estimator.py:458: UserWarning: Both generations and max_time_mins are set. TPOT will terminate when the first condition is met.\n",
      "  warnings.warn(\"Both generations and max_time_mins are set. TPOT will terminate when the first condition is met.\")\n",
      "Generation:  25%|████████████████████████████▊                                                                                      | 1/4 [00:26<01:18, 26.01s/it]"
     ]
    },
    {
     "name": "stdout",
     "output_type": "stream",
     "text": [
      "Generation:  1\n",
      "Best mean_squared_error score: 0.0\n"
     ]
    },
    {
     "name": "stderr",
     "output_type": "stream",
     "text": [
      "Generation:  50%|█████████████████████████████████████████████████████████▌                                                         | 2/4 [01:04<01:07, 33.55s/it]"
     ]
    },
    {
     "name": "stdout",
     "output_type": "stream",
     "text": [
      "Generation:  2\n",
      "Best mean_squared_error score: 0.0\n"
     ]
    },
    {
     "name": "stderr",
     "output_type": "stream",
     "text": [
      "Generation:  75%|██████████████████████████████████████████████████████████████████████████████████████▎                            | 3/4 [01:44<00:36, 36.37s/it]"
     ]
    },
    {
     "name": "stdout",
     "output_type": "stream",
     "text": [
      "Generation:  3\n",
      "Best mean_squared_error score: 0.0\n"
     ]
    },
    {
     "name": "stderr",
     "output_type": "stream",
     "text": [
      "Generation: 100%|███████████████████████████████████████████████████████████████████████████████████████████████████████████████████| 4/4 [02:18<00:00, 34.57s/it]"
     ]
    },
    {
     "name": "stdout",
     "output_type": "stream",
     "text": [
      "Generation:  4\n",
      "Best mean_squared_error score: 0.0\n"
     ]
    },
    {
     "name": "stderr",
     "output_type": "stream",
     "text": [
      "\n"
     ]
    },
    {
     "name": "stdout",
     "output_type": "stream",
     "text": [
      "✅ sex — R² test: 1.0000\n",
      "\n",
      "⚙️ Traitement de la cible : tour_de_cheville\n"
     ]
    },
    {
     "name": "stderr",
     "output_type": "stream",
     "text": [
      "c:\\Users\\mbouke.besse\\OneDrive - ESTIA\\Documents\\code-dataset\\.venv\\lib\\site-packages\\tpot\\tpot_estimator\\estimator.py:458: UserWarning: Both generations and max_time_mins are set. TPOT will terminate when the first condition is met.\n",
      "  warnings.warn(\"Both generations and max_time_mins are set. TPOT will terminate when the first condition is met.\")\n",
      "Generation:  25%|████████████████████████████▌                                                                                     | 1/4 [01:57<05:53, 117.99s/it]"
     ]
    },
    {
     "name": "stdout",
     "output_type": "stream",
     "text": [
      "Generation:  1\n",
      "Best mean_squared_error score: -0.2506658323891371\n"
     ]
    },
    {
     "name": "stderr",
     "output_type": "stream",
     "text": [
      "Generation:  50%|█████████████████████████████████████████████████████████                                                         | 2/4 [03:50<03:49, 114.97s/it]"
     ]
    },
    {
     "name": "stdout",
     "output_type": "stream",
     "text": [
      "Generation:  2\n",
      "Best mean_squared_error score: -0.2506658323891371\n"
     ]
    },
    {
     "name": "stderr",
     "output_type": "stream",
     "text": [
      "Generation:  75%|██████████████████████████████████████████████████████████████████████████████████████▎                            | 3/4 [04:59<01:33, 93.80s/it]"
     ]
    },
    {
     "name": "stdout",
     "output_type": "stream",
     "text": [
      "Generation:  3\n",
      "Best mean_squared_error score: -0.2506278214429334\n"
     ]
    },
    {
     "name": "stderr",
     "output_type": "stream",
     "text": [
      "Generation: 100%|███████████████████████████████████████████████████████████████████████████████████████████████████████████████████| 4/4 [05:35<00:00, 83.96s/it]"
     ]
    },
    {
     "name": "stdout",
     "output_type": "stream",
     "text": [
      "Generation:  4\n",
      "Best mean_squared_error score: -0.2506278214429334\n"
     ]
    },
    {
     "name": "stderr",
     "output_type": "stream",
     "text": [
      "\n"
     ]
    },
    {
     "name": "stdout",
     "output_type": "stream",
     "text": [
      "✅ tour_de_cheville — R² test: 0.5301\n",
      "\n",
      "⚙️ Traitement de la cible : longueur_du_bras\n"
     ]
    },
    {
     "name": "stderr",
     "output_type": "stream",
     "text": [
      "c:\\Users\\mbouke.besse\\OneDrive - ESTIA\\Documents\\code-dataset\\.venv\\lib\\site-packages\\tpot\\tpot_estimator\\estimator.py:458: UserWarning: Both generations and max_time_mins are set. TPOT will terminate when the first condition is met.\n",
      "  warnings.warn(\"Both generations and max_time_mins are set. TPOT will terminate when the first condition is met.\")\n",
      "Generation:  25%|████████████████████████████▌                                                                                     | 1/4 [01:52<05:37, 112.36s/it]"
     ]
    },
    {
     "name": "stdout",
     "output_type": "stream",
     "text": [
      "Generation:  1\n",
      "Best mean_squared_error score: -5.258637775332917\n"
     ]
    },
    {
     "name": "stderr",
     "output_type": "stream",
     "text": [
      "Generation:  50%|█████████████████████████████████████████████████████████                                                         | 2/4 [03:33<03:31, 105.66s/it]"
     ]
    },
    {
     "name": "stdout",
     "output_type": "stream",
     "text": [
      "Generation:  2\n",
      "Best mean_squared_error score: -5.250871105351223\n"
     ]
    },
    {
     "name": "stderr",
     "output_type": "stream",
     "text": [
      "Generation:  75%|█████████████████████████████████████████████████████████████████████████████████████▌                            | 3/4 [06:24<02:15, 135.37s/it]"
     ]
    },
    {
     "name": "stdout",
     "output_type": "stream",
     "text": [
      "Generation:  3\n",
      "Best mean_squared_error score: -5.237501682136546\n"
     ]
    },
    {
     "name": "stderr",
     "output_type": "stream",
     "text": [
      "Generation: 100%|██████████████████████████████████████████████████████████████████████████████████████████████████████████████████| 4/4 [09:36<00:00, 144.17s/it]"
     ]
    },
    {
     "name": "stdout",
     "output_type": "stream",
     "text": [
      "Generation:  4\n",
      "Best mean_squared_error score: -5.234600110921247\n"
     ]
    },
    {
     "name": "stderr",
     "output_type": "stream",
     "text": [
      "\n"
     ]
    },
    {
     "name": "stdout",
     "output_type": "stream",
     "text": [
      "✅ longueur_du_bras — R² test: 0.5850\n",
      "\n",
      "⚙️ Traitement de la cible : largeur_du_dos\n"
     ]
    },
    {
     "name": "stderr",
     "output_type": "stream",
     "text": [
      "c:\\Users\\mbouke.besse\\OneDrive - ESTIA\\Documents\\code-dataset\\.venv\\lib\\site-packages\\tpot\\tpot_estimator\\estimator.py:458: UserWarning: Both generations and max_time_mins are set. TPOT will terminate when the first condition is met.\n",
      "  warnings.warn(\"Both generations and max_time_mins are set. TPOT will terminate when the first condition is met.\")\n",
      "Generation:  25%|████████████████████████████▊                                                                                      | 1/4 [01:10<03:32, 70.78s/it]"
     ]
    },
    {
     "name": "stdout",
     "output_type": "stream",
     "text": [
      "Generation:  1\n",
      "Best mean_squared_error score: -0.10938176545595943\n"
     ]
    },
    {
     "name": "stderr",
     "output_type": "stream",
     "text": [
      "Generation:  50%|█████████████████████████████████████████████████████████                                                         | 2/4 [03:40<03:54, 117.11s/it]"
     ]
    },
    {
     "name": "stdout",
     "output_type": "stream",
     "text": [
      "Generation:  2\n",
      "Best mean_squared_error score: -0.10855087985985562\n"
     ]
    },
    {
     "name": "stderr",
     "output_type": "stream",
     "text": [
      "Generation:  75%|██████████████████████████████████████████████████████████████████████████████████████▎                            | 3/4 [04:50<01:35, 95.52s/it]"
     ]
    },
    {
     "name": "stdout",
     "output_type": "stream",
     "text": [
      "Generation:  3\n",
      "Best mean_squared_error score: -0.10781610721830623\n"
     ]
    },
    {
     "name": "stderr",
     "output_type": "stream",
     "text": [
      "Generation: 100%|███████████████████████████████████████████████████████████████████████████████████████████████████████████████████| 4/4 [06:25<00:00, 96.41s/it]"
     ]
    },
    {
     "name": "stdout",
     "output_type": "stream",
     "text": [
      "Generation:  4\n",
      "Best mean_squared_error score: -0.10781610721830623\n"
     ]
    },
    {
     "name": "stderr",
     "output_type": "stream",
     "text": [
      "\n"
     ]
    },
    {
     "name": "stdout",
     "output_type": "stream",
     "text": [
      "✅ largeur_du_dos — R² test: 0.8090\n",
      "\n",
      "⚙️ Traitement de la cible : tour_de_poitrine\n"
     ]
    },
    {
     "name": "stderr",
     "output_type": "stream",
     "text": [
      "c:\\Users\\mbouke.besse\\OneDrive - ESTIA\\Documents\\code-dataset\\.venv\\lib\\site-packages\\tpot\\tpot_estimator\\estimator.py:458: UserWarning: Both generations and max_time_mins are set. TPOT will terminate when the first condition is met.\n",
      "  warnings.warn(\"Both generations and max_time_mins are set. TPOT will terminate when the first condition is met.\")\n",
      "Generation:  25%|████████████████████████████▌                                                                                     | 1/4 [01:44<05:14, 104.68s/it]"
     ]
    },
    {
     "name": "stdout",
     "output_type": "stream",
     "text": [
      "Generation:  1\n",
      "Best mean_squared_error score: -0.08222782147533983\n"
     ]
    },
    {
     "name": "stderr",
     "output_type": "stream",
     "text": [
      "Generation:  50%|█████████████████████████████████████████████████████████▌                                                         | 2/4 [03:14<03:11, 95.73s/it]"
     ]
    },
    {
     "name": "stdout",
     "output_type": "stream",
     "text": [
      "Generation:  2\n",
      "Best mean_squared_error score: -0.08222782147533983\n"
     ]
    },
    {
     "name": "stderr",
     "output_type": "stream",
     "text": [
      "Generation:  75%|██████████████████████████████████████████████████████████████████████████████████████▎                            | 3/4 [04:39<01:30, 90.88s/it]"
     ]
    },
    {
     "name": "stdout",
     "output_type": "stream",
     "text": [
      "Generation:  3\n",
      "Best mean_squared_error score: -0.08222782147533983\n"
     ]
    },
    {
     "name": "stderr",
     "output_type": "stream",
     "text": [
      "Generation: 100%|███████████████████████████████████████████████████████████████████████████████████████████████████████████████████| 4/4 [05:27<00:00, 81.87s/it]"
     ]
    },
    {
     "name": "stdout",
     "output_type": "stream",
     "text": [
      "Generation:  4\n",
      "Best mean_squared_error score: -0.08190149845877806\n"
     ]
    },
    {
     "name": "stderr",
     "output_type": "stream",
     "text": [
      "\n"
     ]
    },
    {
     "name": "stdout",
     "output_type": "stream",
     "text": [
      "✅ tour_de_poitrine — R² test: 0.9051\n",
      "\n",
      "⚙️ Traitement de la cible : hauteur_de_poitrine\n"
     ]
    },
    {
     "name": "stderr",
     "output_type": "stream",
     "text": [
      "c:\\Users\\mbouke.besse\\OneDrive - ESTIA\\Documents\\code-dataset\\.venv\\lib\\site-packages\\tpot\\tpot_estimator\\estimator.py:458: UserWarning: Both generations and max_time_mins are set. TPOT will terminate when the first condition is met.\n",
      "  warnings.warn(\"Both generations and max_time_mins are set. TPOT will terminate when the first condition is met.\")\n",
      "Generation:  25%|████████████████████████████▊                                                                                      | 1/4 [01:17<03:51, 77.32s/it]"
     ]
    },
    {
     "name": "stdout",
     "output_type": "stream",
     "text": [
      "Generation:  1\n",
      "Best mean_squared_error score: -0.06413464551028517\n"
     ]
    },
    {
     "name": "stderr",
     "output_type": "stream",
     "text": [
      "Generation:  50%|█████████████████████████████████████████████████████████                                                         | 2/4 [04:29<04:50, 145.01s/it]"
     ]
    },
    {
     "name": "stdout",
     "output_type": "stream",
     "text": [
      "Generation:  2\n",
      "Best mean_squared_error score: -0.062394457714206854\n"
     ]
    },
    {
     "name": "stderr",
     "output_type": "stream",
     "text": [
      "Generation:  75%|█████████████████████████████████████████████████████████████████████████████████████▌                            | 3/4 [09:35<03:38, 218.54s/it]"
     ]
    },
    {
     "name": "stdout",
     "output_type": "stream",
     "text": [
      "Generation:  3\n",
      "Best mean_squared_error score: -0.062394457714206854\n"
     ]
    },
    {
     "name": "stderr",
     "output_type": "stream",
     "text": [
      "Generation: 100%|██████████████████████████████████████████████████████████████████████████████████████████████████████████████████| 4/4 [20:47<00:00, 311.89s/it]"
     ]
    },
    {
     "name": "stdout",
     "output_type": "stream",
     "text": [
      "Generation:  4\n",
      "Best mean_squared_error score: -0.06021633866681127\n"
     ]
    },
    {
     "name": "stderr",
     "output_type": "stream",
     "text": [
      "\n"
     ]
    },
    {
     "name": "stdout",
     "output_type": "stream",
     "text": [
      "✅ hauteur_de_poitrine — R² test: 0.9070\n",
      "\n",
      "⚙️ Traitement de la cible : hauteur_d_entrejambe\n"
     ]
    },
    {
     "name": "stderr",
     "output_type": "stream",
     "text": [
      "c:\\Users\\mbouke.besse\\OneDrive - ESTIA\\Documents\\code-dataset\\.venv\\lib\\site-packages\\tpot\\tpot_estimator\\estimator.py:458: UserWarning: Both generations and max_time_mins are set. TPOT will terminate when the first condition is met.\n",
      "  warnings.warn(\"Both generations and max_time_mins are set. TPOT will terminate when the first condition is met.\")\n",
      "Generation:  25%|████████████████████████████▊                                                                                      | 1/4 [01:02<03:07, 62.61s/it]"
     ]
    },
    {
     "name": "stdout",
     "output_type": "stream",
     "text": [
      "Generation:  1\n",
      "Best mean_squared_error score: -0.1241236421130756\n"
     ]
    },
    {
     "name": "stderr",
     "output_type": "stream",
     "text": [
      "Generation:  50%|█████████████████████████████████████████████████████████                                                         | 2/4 [03:16<03:28, 104.40s/it]"
     ]
    },
    {
     "name": "stdout",
     "output_type": "stream",
     "text": [
      "Generation:  2\n",
      "Best mean_squared_error score: -0.1132763210778372\n"
     ]
    },
    {
     "name": "stderr",
     "output_type": "stream",
     "text": [
      "Generation:  75%|█████████████████████████████████████████████████████████████████████████████████████▌                            | 3/4 [06:34<02:27, 147.32s/it]"
     ]
    },
    {
     "name": "stdout",
     "output_type": "stream",
     "text": [
      "Generation:  3\n",
      "Best mean_squared_error score: -0.10817879373364467\n"
     ]
    },
    {
     "name": "stderr",
     "output_type": "stream",
     "text": [
      "Generation: 100%|██████████████████████████████████████████████████████████████████████████████████████████████████████████████████| 4/4 [08:02<00:00, 120.73s/it]"
     ]
    },
    {
     "name": "stdout",
     "output_type": "stream",
     "text": [
      "Generation:  4\n",
      "Best mean_squared_error score: -0.10803863648875058\n"
     ]
    },
    {
     "name": "stderr",
     "output_type": "stream",
     "text": [
      "\n"
     ]
    },
    {
     "name": "stdout",
     "output_type": "stream",
     "text": [
      "✅ hauteur_d_entrejambe — R² test: 0.7980\n",
      "\n",
      "⚙️ Traitement de la cible : longueur_avant\n"
     ]
    },
    {
     "name": "stderr",
     "output_type": "stream",
     "text": [
      "c:\\Users\\mbouke.besse\\OneDrive - ESTIA\\Documents\\code-dataset\\.venv\\lib\\site-packages\\tpot\\tpot_estimator\\estimator.py:458: UserWarning: Both generations and max_time_mins are set. TPOT will terminate when the first condition is met.\n",
      "  warnings.warn(\"Both generations and max_time_mins are set. TPOT will terminate when the first condition is met.\")\n",
      "Generation:  25%|████████████████████████████▊                                                                                      | 1/4 [00:56<02:50, 56.75s/it]"
     ]
    },
    {
     "name": "stdout",
     "output_type": "stream",
     "text": [
      "Generation:  1\n",
      "Best mean_squared_error score: -0.3012791651874548\n"
     ]
    },
    {
     "name": "stderr",
     "output_type": "stream",
     "text": [
      "Generation:  50%|█████████████████████████████████████████████████████████▌                                                         | 2/4 [01:53<01:53, 56.76s/it]"
     ]
    },
    {
     "name": "stdout",
     "output_type": "stream",
     "text": [
      "Generation:  2\n",
      "Best mean_squared_error score: -0.2943370913945397\n"
     ]
    },
    {
     "name": "stderr",
     "output_type": "stream",
     "text": [
      "Generation:  75%|██████████████████████████████████████████████████████████████████████████████████████▎                            | 3/4 [02:36<00:50, 50.34s/it]"
     ]
    },
    {
     "name": "stdout",
     "output_type": "stream",
     "text": [
      "Generation:  3\n",
      "Best mean_squared_error score: -0.2943370913945397\n"
     ]
    },
    {
     "name": "stderr",
     "output_type": "stream",
     "text": [
      "Generation: 100%|███████████████████████████████████████████████████████████████████████████████████████████████████████████████████| 4/4 [04:28<00:00, 67.02s/it]"
     ]
    },
    {
     "name": "stdout",
     "output_type": "stream",
     "text": [
      "Generation:  4\n",
      "Best mean_squared_error score: -0.29255436229753173\n"
     ]
    },
    {
     "name": "stderr",
     "output_type": "stream",
     "text": [
      "\n"
     ]
    },
    {
     "name": "stdout",
     "output_type": "stream",
     "text": [
      "✅ longueur_avant — R² test: 0.4990\n",
      "\n",
      "⚙️ Traitement de la cible : largeur_des_hanches\n"
     ]
    },
    {
     "name": "stderr",
     "output_type": "stream",
     "text": [
      "c:\\Users\\mbouke.besse\\OneDrive - ESTIA\\Documents\\code-dataset\\.venv\\lib\\site-packages\\tpot\\tpot_estimator\\estimator.py:458: UserWarning: Both generations and max_time_mins are set. TPOT will terminate when the first condition is met.\n",
      "  warnings.warn(\"Both generations and max_time_mins are set. TPOT will terminate when the first condition is met.\")\n",
      "Generation:  25%|████████████████████████████▊                                                                                      | 1/4 [01:22<04:08, 82.74s/it]"
     ]
    },
    {
     "name": "stdout",
     "output_type": "stream",
     "text": [
      "Generation:  1\n",
      "Best mean_squared_error score: -0.0853866042486921\n"
     ]
    },
    {
     "name": "stderr",
     "output_type": "stream",
     "text": [
      "Generation:  50%|█████████████████████████████████████████████████████████▌                                                         | 2/4 [02:30<02:27, 73.82s/it]"
     ]
    },
    {
     "name": "stdout",
     "output_type": "stream",
     "text": [
      "Generation:  2\n",
      "Best mean_squared_error score: -0.0853866042486921\n"
     ]
    },
    {
     "name": "stderr",
     "output_type": "stream",
     "text": [
      "Generation:  75%|█████████████████████████████████████████████████████████████████████████████████████▌                            | 3/4 [04:54<01:45, 105.85s/it]"
     ]
    },
    {
     "name": "stdout",
     "output_type": "stream",
     "text": [
      "Generation:  3\n",
      "Best mean_squared_error score: -0.0853866042486921\n"
     ]
    },
    {
     "name": "stderr",
     "output_type": "stream",
     "text": [
      "Generation: 100%|███████████████████████████████████████████████████████████████████████████████████████████████████████████████████| 4/4 [06:14<00:00, 93.51s/it]"
     ]
    },
    {
     "name": "stdout",
     "output_type": "stream",
     "text": [
      "Generation:  4\n",
      "Best mean_squared_error score: -0.08486120477453143\n"
     ]
    },
    {
     "name": "stderr",
     "output_type": "stream",
     "text": [
      "\n",
      "c:\\Users\\mbouke.besse\\OneDrive - ESTIA\\Documents\\code-dataset\\.venv\\lib\\site-packages\\sklearn\\svm\\_base.py:1249: ConvergenceWarning: Liblinear failed to converge, increase the number of iterations.\n",
      "  warnings.warn(\n"
     ]
    },
    {
     "name": "stdout",
     "output_type": "stream",
     "text": [
      "✅ largeur_des_hanches — R² test: 0.8678\n",
      "\n",
      "⚙️ Traitement de la cible : hauteur_des_hanches\n"
     ]
    },
    {
     "name": "stderr",
     "output_type": "stream",
     "text": [
      "c:\\Users\\mbouke.besse\\OneDrive - ESTIA\\Documents\\code-dataset\\.venv\\lib\\site-packages\\tpot\\tpot_estimator\\estimator.py:458: UserWarning: Both generations and max_time_mins are set. TPOT will terminate when the first condition is met.\n",
      "  warnings.warn(\"Both generations and max_time_mins are set. TPOT will terminate when the first condition is met.\")\n",
      "Generation:  25%|████████████████████████████▊                                                                                      | 1/4 [01:22<04:08, 82.76s/it]"
     ]
    },
    {
     "name": "stdout",
     "output_type": "stream",
     "text": [
      "Generation:  1\n",
      "Best mean_squared_error score: -0.1896313736358526\n"
     ]
    },
    {
     "name": "stderr",
     "output_type": "stream",
     "text": [
      "Generation:  50%|█████████████████████████████████████████████████████████                                                         | 2/4 [03:22<03:29, 104.79s/it]"
     ]
    },
    {
     "name": "stdout",
     "output_type": "stream",
     "text": [
      "Generation:  2\n",
      "Best mean_squared_error score: -0.1850653972327413\n"
     ]
    },
    {
     "name": "stderr",
     "output_type": "stream",
     "text": [
      "Generation:  75%|█████████████████████████████████████████████████████████████████████████████████████▌                            | 3/4 [05:49<02:03, 123.73s/it]"
     ]
    },
    {
     "name": "stdout",
     "output_type": "stream",
     "text": [
      "Generation:  3\n",
      "Best mean_squared_error score: -0.1850653972327413\n"
     ]
    },
    {
     "name": "stderr",
     "output_type": "stream",
     "text": [
      "Generation: 100%|██████████████████████████████████████████████████████████████████████████████████████████████████████████████████| 4/4 [07:20<00:00, 110.15s/it]"
     ]
    },
    {
     "name": "stdout",
     "output_type": "stream",
     "text": [
      "Generation:  4\n",
      "Best mean_squared_error score: -0.1850653972327413\n"
     ]
    },
    {
     "name": "stderr",
     "output_type": "stream",
     "text": [
      "\n"
     ]
    },
    {
     "name": "stdout",
     "output_type": "stream",
     "text": [
      "✅ hauteur_des_hanches — R² test: 0.6836\n",
      "\n",
      "⚙️ Traitement de la cible : hauteur_des_genoux\n"
     ]
    },
    {
     "name": "stderr",
     "output_type": "stream",
     "text": [
      "c:\\Users\\mbouke.besse\\OneDrive - ESTIA\\Documents\\code-dataset\\.venv\\lib\\site-packages\\tpot\\tpot_estimator\\estimator.py:458: UserWarning: Both generations and max_time_mins are set. TPOT will terminate when the first condition is met.\n",
      "  warnings.warn(\"Both generations and max_time_mins are set. TPOT will terminate when the first condition is met.\")\n",
      "Generation:  25%|████████████████████████████▊                                                                                      | 1/4 [01:05<03:16, 65.56s/it]"
     ]
    },
    {
     "name": "stdout",
     "output_type": "stream",
     "text": [
      "Generation:  1\n",
      "Best mean_squared_error score: -0.11981842405502963\n"
     ]
    },
    {
     "name": "stderr",
     "output_type": "stream",
     "text": [
      "Generation:  50%|█████████████████████████████████████████████████████████                                                         | 2/4 [03:27<03:41, 110.57s/it]"
     ]
    },
    {
     "name": "stdout",
     "output_type": "stream",
     "text": [
      "Generation:  2\n",
      "Best mean_squared_error score: -0.11981842405502963\n"
     ]
    },
    {
     "name": "stderr",
     "output_type": "stream",
     "text": [
      "Generation:  75%|██████████████████████████████████████████████████████████████████████████████████████▎                            | 3/4 [04:11<01:20, 80.29s/it]"
     ]
    },
    {
     "name": "stdout",
     "output_type": "stream",
     "text": [
      "Generation:  3\n",
      "Best mean_squared_error score: -0.11915467755847722\n"
     ]
    },
    {
     "name": "stderr",
     "output_type": "stream",
     "text": [
      "Generation: 100%|███████████████████████████████████████████████████████████████████████████████████████████████████████████████████| 4/4 [04:50<00:00, 72.64s/it]"
     ]
    },
    {
     "name": "stdout",
     "output_type": "stream",
     "text": [
      "Generation:  4\n",
      "Best mean_squared_error score: -0.11735618204774961\n"
     ]
    },
    {
     "name": "stderr",
     "output_type": "stream",
     "text": [
      "\n"
     ]
    },
    {
     "name": "stdout",
     "output_type": "stream",
     "text": [
      "✅ hauteur_des_genoux — R² test: 0.7965\n",
      "\n",
      "⚙️ Traitement de la cible : tour_du_cou\n"
     ]
    },
    {
     "name": "stderr",
     "output_type": "stream",
     "text": [
      "c:\\Users\\mbouke.besse\\OneDrive - ESTIA\\Documents\\code-dataset\\.venv\\lib\\site-packages\\tpot\\tpot_estimator\\estimator.py:458: UserWarning: Both generations and max_time_mins are set. TPOT will terminate when the first condition is met.\n",
      "  warnings.warn(\"Both generations and max_time_mins are set. TPOT will terminate when the first condition is met.\")\n",
      "Generation:  25%|████████████████████████████▊                                                                                      | 1/4 [01:02<03:06, 62.08s/it]"
     ]
    },
    {
     "name": "stdout",
     "output_type": "stream",
     "text": [
      "Generation:  1\n",
      "Best mean_squared_error score: -0.3613366271411258\n"
     ]
    },
    {
     "name": "stderr",
     "output_type": "stream",
     "text": [
      "Generation:  50%|█████████████████████████████████████████████████████████▌                                                         | 2/4 [01:45<01:41, 50.94s/it]"
     ]
    },
    {
     "name": "stdout",
     "output_type": "stream",
     "text": [
      "Generation:  2\n",
      "Best mean_squared_error score: -0.358166575827916\n"
     ]
    },
    {
     "name": "stderr",
     "output_type": "stream",
     "text": [
      "Generation:  75%|██████████████████████████████████████████████████████████████████████████████████████▎                            | 3/4 [02:26<00:46, 46.43s/it]"
     ]
    },
    {
     "name": "stdout",
     "output_type": "stream",
     "text": [
      "Generation:  3\n",
      "Best mean_squared_error score: -0.358166575827916\n"
     ]
    },
    {
     "name": "stderr",
     "output_type": "stream",
     "text": [
      "Generation: 100%|███████████████████████████████████████████████████████████████████████████████████████████████████████████████████| 4/4 [02:57<00:00, 44.33s/it]"
     ]
    },
    {
     "name": "stdout",
     "output_type": "stream",
     "text": [
      "Generation:  4\n",
      "Best mean_squared_error score: -0.358166575827916\n"
     ]
    },
    {
     "name": "stderr",
     "output_type": "stream",
     "text": [
      "\n"
     ]
    },
    {
     "name": "stdout",
     "output_type": "stream",
     "text": [
      "✅ tour_du_cou — R² test: 0.4441\n",
      "\n",
      "⚙️ Traitement de la cible : largeur_d_epaule\n"
     ]
    },
    {
     "name": "stderr",
     "output_type": "stream",
     "text": [
      "c:\\Users\\mbouke.besse\\OneDrive - ESTIA\\Documents\\code-dataset\\.venv\\lib\\site-packages\\tpot\\tpot_estimator\\estimator.py:458: UserWarning: Both generations and max_time_mins are set. TPOT will terminate when the first condition is met.\n",
      "  warnings.warn(\"Both generations and max_time_mins are set. TPOT will terminate when the first condition is met.\")\n",
      "Generation:  25%|████████████████████████████▌                                                                                     | 1/4 [01:45<05:16, 105.51s/it]"
     ]
    },
    {
     "name": "stdout",
     "output_type": "stream",
     "text": [
      "Generation:  1\n",
      "Best mean_squared_error score: -0.10938176545595943\n"
     ]
    },
    {
     "name": "stderr",
     "output_type": "stream",
     "text": [
      "Generation:  50%|█████████████████████████████████████████████████████████                                                         | 2/4 [04:11<04:18, 129.29s/it]"
     ]
    },
    {
     "name": "stdout",
     "output_type": "stream",
     "text": [
      "Generation:  2\n",
      "Best mean_squared_error score: -0.10855087985985562\n"
     ]
    },
    {
     "name": "stderr",
     "output_type": "stream",
     "text": [
      "Generation:  75%|█████████████████████████████████████████████████████████████████████████████████████▌                            | 3/4 [05:22<01:42, 102.75s/it]"
     ]
    },
    {
     "name": "stdout",
     "output_type": "stream",
     "text": [
      "Generation:  3\n",
      "Best mean_squared_error score: -0.10781610721830623\n"
     ]
    },
    {
     "name": "stderr",
     "output_type": "stream",
     "text": [
      "Generation: 100%|██████████████████████████████████████████████████████████████████████████████████████████████████████████████████| 4/4 [06:54<00:00, 103.54s/it]"
     ]
    },
    {
     "name": "stdout",
     "output_type": "stream",
     "text": [
      "Generation:  4\n",
      "Best mean_squared_error score: -0.10781610721830623\n"
     ]
    },
    {
     "name": "stderr",
     "output_type": "stream",
     "text": [
      "\n"
     ]
    },
    {
     "name": "stdout",
     "output_type": "stream",
     "text": [
      "✅ largeur_d_epaule — R² test: 0.8090\n",
      "\n",
      "⚙️ Traitement de la cible : hauteur_des_epaules\n"
     ]
    },
    {
     "name": "stderr",
     "output_type": "stream",
     "text": [
      "c:\\Users\\mbouke.besse\\OneDrive - ESTIA\\Documents\\code-dataset\\.venv\\lib\\site-packages\\tpot\\tpot_estimator\\estimator.py:458: UserWarning: Both generations and max_time_mins are set. TPOT will terminate when the first condition is met.\n",
      "  warnings.warn(\"Both generations and max_time_mins are set. TPOT will terminate when the first condition is met.\")\n",
      "Generation:  25%|████████████████████████████▊                                                                                      | 1/4 [01:07<03:21, 67.25s/it]"
     ]
    },
    {
     "name": "stdout",
     "output_type": "stream",
     "text": [
      "Generation:  1\n",
      "Best mean_squared_error score: -0.054634205379038125\n"
     ]
    },
    {
     "name": "stderr",
     "output_type": "stream",
     "text": [
      "Generation:  50%|█████████████████████████████████████████████████████████                                                         | 2/4 [03:31<03:45, 112.72s/it]"
     ]
    },
    {
     "name": "stdout",
     "output_type": "stream",
     "text": [
      "Generation:  2\n",
      "Best mean_squared_error score: -0.05107762929283098\n"
     ]
    },
    {
     "name": "stderr",
     "output_type": "stream",
     "text": [
      "Generation:  75%|█████████████████████████████████████████████████████████████████████████████████████▌                            | 3/4 [05:12<01:47, 107.22s/it]"
     ]
    },
    {
     "name": "stdout",
     "output_type": "stream",
     "text": [
      "Generation:  3\n",
      "Best mean_squared_error score: -0.05107762929283098\n"
     ]
    },
    {
     "name": "stderr",
     "output_type": "stream",
     "text": [
      "Generation: 100%|██████████████████████████████████████████████████████████████████████████████████████████████████████████████████| 4/4 [11:40<00:00, 175.06s/it]"
     ]
    },
    {
     "name": "stdout",
     "output_type": "stream",
     "text": [
      "Generation:  4\n",
      "Best mean_squared_error score: -0.04967373512857577\n"
     ]
    },
    {
     "name": "stderr",
     "output_type": "stream",
     "text": [
      "\n",
      "c:\\Users\\mbouke.besse\\OneDrive - ESTIA\\Documents\\code-dataset\\.venv\\lib\\site-packages\\sklearn\\neural_network\\_multilayer_perceptron.py:691: ConvergenceWarning: Stochastic Optimizer: Maximum iterations (200) reached and the optimization hasn't converged yet.\n",
      "  warnings.warn(\n"
     ]
    },
    {
     "name": "stdout",
     "output_type": "stream",
     "text": [
      "✅ hauteur_des_epaules — R² test: 0.9358\n",
      "\n",
      "⚙️ Traitement de la cible : largeur_des_epaules_a_l_horizontales\n"
     ]
    },
    {
     "name": "stderr",
     "output_type": "stream",
     "text": [
      "c:\\Users\\mbouke.besse\\OneDrive - ESTIA\\Documents\\code-dataset\\.venv\\lib\\site-packages\\tpot\\tpot_estimator\\estimator.py:458: UserWarning: Both generations and max_time_mins are set. TPOT will terminate when the first condition is met.\n",
      "  warnings.warn(\"Both generations and max_time_mins are set. TPOT will terminate when the first condition is met.\")\n",
      "Generation:  25%|████████████████████████████▊                                                                                      | 1/4 [01:14<03:43, 74.50s/it]"
     ]
    },
    {
     "name": "stdout",
     "output_type": "stream",
     "text": [
      "Generation:  1\n",
      "Best mean_squared_error score: -0.0853866042486921\n"
     ]
    },
    {
     "name": "stderr",
     "output_type": "stream",
     "text": [
      "Generation:  50%|█████████████████████████████████████████████████████████▌                                                         | 2/4 [02:16<02:14, 67.07s/it]"
     ]
    },
    {
     "name": "stdout",
     "output_type": "stream",
     "text": [
      "Generation:  2\n",
      "Best mean_squared_error score: -0.0853866042486921\n"
     ]
    },
    {
     "name": "stderr",
     "output_type": "stream",
     "text": [
      "Generation:  75%|██████████████████████████████████████████████████████████████████████████████████████▎                            | 3/4 [04:32<01:38, 98.75s/it]"
     ]
    },
    {
     "name": "stdout",
     "output_type": "stream",
     "text": [
      "Generation:  3\n",
      "Best mean_squared_error score: -0.0853866042486921\n"
     ]
    },
    {
     "name": "stderr",
     "output_type": "stream",
     "text": [
      "Generation: 100%|███████████████████████████████████████████████████████████████████████████████████████████████████████████████████| 4/4 [05:52<00:00, 88.11s/it]"
     ]
    },
    {
     "name": "stdout",
     "output_type": "stream",
     "text": [
      "Generation:  4\n",
      "Best mean_squared_error score: -0.08486120477453143\n"
     ]
    },
    {
     "name": "stderr",
     "output_type": "stream",
     "text": [
      "\n",
      "c:\\Users\\mbouke.besse\\OneDrive - ESTIA\\Documents\\code-dataset\\.venv\\lib\\site-packages\\sklearn\\svm\\_base.py:1249: ConvergenceWarning: Liblinear failed to converge, increase the number of iterations.\n",
      "  warnings.warn(\n"
     ]
    },
    {
     "name": "stdout",
     "output_type": "stream",
     "text": [
      "✅ largeur_des_epaules_a_l_horizontales — R² test: 0.8678\n",
      "\n",
      "⚙️ Traitement de la cible : longueur_de_la_colonne_vertebrale_jusqu_au_poignet\n"
     ]
    },
    {
     "name": "stderr",
     "output_type": "stream",
     "text": [
      "c:\\Users\\mbouke.besse\\OneDrive - ESTIA\\Documents\\code-dataset\\.venv\\lib\\site-packages\\tpot\\tpot_estimator\\estimator.py:458: UserWarning: Both generations and max_time_mins are set. TPOT will terminate when the first condition is met.\n",
      "  warnings.warn(\"Both generations and max_time_mins are set. TPOT will terminate when the first condition is met.\")\n",
      "Generation:  25%|████████████████████████████▊                                                                                      | 1/4 [01:19<03:59, 79.77s/it]"
     ]
    },
    {
     "name": "stdout",
     "output_type": "stream",
     "text": [
      "Generation:  1\n",
      "Best mean_squared_error score: -0.17777486376426854\n"
     ]
    },
    {
     "name": "stderr",
     "output_type": "stream",
     "text": [
      "Generation:  50%|█████████████████████████████████████████████████████████                                                         | 2/4 [03:50<04:03, 121.67s/it]"
     ]
    },
    {
     "name": "stdout",
     "output_type": "stream",
     "text": [
      "Generation:  2\n",
      "Best mean_squared_error score: -0.1776890105634087\n"
     ]
    },
    {
     "name": "stderr",
     "output_type": "stream",
     "text": [
      "Generation:  75%|██████████████████████████████████████████████████████████████████████████████████████▎                            | 3/4 [04:50<01:33, 93.38s/it]"
     ]
    },
    {
     "name": "stdout",
     "output_type": "stream",
     "text": [
      "Generation:  3\n",
      "Best mean_squared_error score: -0.17749836169481112\n"
     ]
    },
    {
     "name": "stderr",
     "output_type": "stream",
     "text": [
      "Generation: 100%|███████████████████████████████████████████████████████████████████████████████████████████████████████████████████| 4/4 [05:33<00:00, 83.30s/it]"
     ]
    },
    {
     "name": "stdout",
     "output_type": "stream",
     "text": [
      "Generation:  4\n",
      "Best mean_squared_error score: -0.17726311769405384\n"
     ]
    },
    {
     "name": "stderr",
     "output_type": "stream",
     "text": [
      "\n"
     ]
    },
    {
     "name": "stdout",
     "output_type": "stream",
     "text": [
      "✅ longueur_de_la_colonne_vertebrale_jusqu_au_poignet — R² test: 0.6945\n",
      "\n",
      "⚙️ Traitement de la cible : tour_de_cuisse\n"
     ]
    },
    {
     "name": "stderr",
     "output_type": "stream",
     "text": [
      "c:\\Users\\mbouke.besse\\OneDrive - ESTIA\\Documents\\code-dataset\\.venv\\lib\\site-packages\\tpot\\tpot_estimator\\estimator.py:458: UserWarning: Both generations and max_time_mins are set. TPOT will terminate when the first condition is met.\n",
      "  warnings.warn(\"Both generations and max_time_mins are set. TPOT will terminate when the first condition is met.\")\n",
      "Generation:  25%|████████████████████████████▊                                                                                      | 1/4 [01:09<03:29, 69.74s/it]"
     ]
    },
    {
     "name": "stdout",
     "output_type": "stream",
     "text": [
      "Generation:  1\n",
      "Best mean_squared_error score: -0.14375234784577903\n"
     ]
    },
    {
     "name": "stderr",
     "output_type": "stream",
     "text": [
      "Generation:  50%|█████████████████████████████████████████████████████████▌                                                         | 2/4 [03:09<03:18, 99.06s/it]"
     ]
    },
    {
     "name": "stdout",
     "output_type": "stream",
     "text": [
      "Generation:  2\n",
      "Best mean_squared_error score: -0.12141136949091912\n"
     ]
    },
    {
     "name": "stderr",
     "output_type": "stream",
     "text": [
      "Generation:  75%|██████████████████████████████████████████████████████████████████████████████████████▎                            | 3/4 [04:24<01:28, 88.19s/it]"
     ]
    },
    {
     "name": "stdout",
     "output_type": "stream",
     "text": [
      "Generation:  3\n",
      "Best mean_squared_error score: -0.12141136949091912\n"
     ]
    },
    {
     "name": "stderr",
     "output_type": "stream",
     "text": [
      "Generation: 100%|███████████████████████████████████████████████████████████████████████████████████████████████████████████████████| 4/4 [05:34<00:00, 83.55s/it]"
     ]
    },
    {
     "name": "stdout",
     "output_type": "stream",
     "text": [
      "Generation:  4\n",
      "Best mean_squared_error score: -0.11381804912165358\n"
     ]
    },
    {
     "name": "stderr",
     "output_type": "stream",
     "text": [
      "\n"
     ]
    },
    {
     "name": "stdout",
     "output_type": "stream",
     "text": [
      "✅ tour_de_cuisse — R² test: 0.8378\n",
      "\n",
      "⚙️ Traitement de la cible : tour_de_taille\n"
     ]
    },
    {
     "name": "stderr",
     "output_type": "stream",
     "text": [
      "c:\\Users\\mbouke.besse\\OneDrive - ESTIA\\Documents\\code-dataset\\.venv\\lib\\site-packages\\tpot\\tpot_estimator\\estimator.py:458: UserWarning: Both generations and max_time_mins are set. TPOT will terminate when the first condition is met.\n",
      "  warnings.warn(\"Both generations and max_time_mins are set. TPOT will terminate when the first condition is met.\")\n",
      "Generation:  25%|████████████████████████████▊                                                                                      | 1/4 [01:34<04:44, 94.99s/it]"
     ]
    },
    {
     "name": "stdout",
     "output_type": "stream",
     "text": [
      "Generation:  1\n",
      "Best mean_squared_error score: -0.07538755559098591\n"
     ]
    },
    {
     "name": "stderr",
     "output_type": "stream",
     "text": [
      "Generation:  50%|█████████████████████████████████████████████████████████▌                                                         | 2/4 [02:38<02:33, 76.60s/it]"
     ]
    },
    {
     "name": "stdout",
     "output_type": "stream",
     "text": [
      "Generation:  2\n",
      "Best mean_squared_error score: -0.07362372399898903\n"
     ]
    },
    {
     "name": "stderr",
     "output_type": "stream",
     "text": [
      "Generation:  75%|██████████████████████████████████████████████████████████████████████████████████████▎                            | 3/4 [03:48<01:13, 73.50s/it]"
     ]
    },
    {
     "name": "stdout",
     "output_type": "stream",
     "text": [
      "Generation:  3\n",
      "Best mean_squared_error score: -0.07362372399898903\n"
     ]
    },
    {
     "name": "stderr",
     "output_type": "stream",
     "text": [
      "Generation: 100%|██████████████████████████████████████████████████████████████████████████████████████████████████████████████████| 4/4 [07:11<00:00, 107.78s/it]"
     ]
    },
    {
     "name": "stdout",
     "output_type": "stream",
     "text": [
      "Generation:  4\n",
      "Best mean_squared_error score: -0.07362372399898903\n"
     ]
    },
    {
     "name": "stderr",
     "output_type": "stream",
     "text": [
      "\n",
      "c:\\Users\\mbouke.besse\\OneDrive - ESTIA\\Documents\\code-dataset\\.venv\\lib\\site-packages\\sklearn\\feature_selection\\_univariate_selection.py:112: RuntimeWarning: divide by zero encountered in divide\n",
      "  f = msb / msw\n"
     ]
    },
    {
     "name": "stdout",
     "output_type": "stream",
     "text": [
      "✅ tour_de_taille — R² test: 0.9194\n",
      "\n",
      "⚙️ Traitement de la cible : hauteur_de_la_taille\n"
     ]
    },
    {
     "name": "stderr",
     "output_type": "stream",
     "text": [
      "c:\\Users\\mbouke.besse\\OneDrive - ESTIA\\Documents\\code-dataset\\.venv\\lib\\site-packages\\tpot\\tpot_estimator\\estimator.py:458: UserWarning: Both generations and max_time_mins are set. TPOT will terminate when the first condition is met.\n",
      "  warnings.warn(\"Both generations and max_time_mins are set. TPOT will terminate when the first condition is met.\")\n",
      "Generation:  25%|████████████████████████████▊                                                                                      | 1/4 [01:14<03:42, 74.29s/it]"
     ]
    },
    {
     "name": "stdout",
     "output_type": "stream",
     "text": [
      "Generation:  1\n",
      "Best mean_squared_error score: -0.12801594061234003\n"
     ]
    },
    {
     "name": "stderr",
     "output_type": "stream",
     "text": [
      "Generation:  50%|█████████████████████████████████████████████████████████▌                                                         | 2/4 [02:51<02:55, 87.67s/it]"
     ]
    },
    {
     "name": "stdout",
     "output_type": "stream",
     "text": [
      "Generation:  2\n",
      "Best mean_squared_error score: -0.12460950215569888\n"
     ]
    },
    {
     "name": "stderr",
     "output_type": "stream",
     "text": [
      "Generation:  75%|█████████████████████████████████████████████████████████████████████████████████████▌                            | 3/4 [06:20<02:23, 143.10s/it]"
     ]
    },
    {
     "name": "stdout",
     "output_type": "stream",
     "text": [
      "Generation:  3\n",
      "Best mean_squared_error score: -0.12460626976226288\n"
     ]
    },
    {
     "name": "stderr",
     "output_type": "stream",
     "text": [
      "Generation: 100%|██████████████████████████████████████████████████████████████████████████████████████████████████████████████████| 4/4 [07:13<00:00, 108.40s/it]"
     ]
    },
    {
     "name": "stdout",
     "output_type": "stream",
     "text": [
      "Generation:  4\n",
      "Best mean_squared_error score: -0.12455104804902535\n"
     ]
    },
    {
     "name": "stderr",
     "output_type": "stream",
     "text": [
      "\n"
     ]
    },
    {
     "name": "stdout",
     "output_type": "stream",
     "text": [
      "✅ hauteur_de_la_taille — R² test: 0.7682\n"
     ]
    }
   ],
   "source": [
    "from tpot import TPOTRegressor\n",
    "from sklearn.model_selection import train_test_split\n",
    "from sklearn.impute import SimpleImputer\n",
    "import pandas as pd\n",
    "import numpy as np\n",
    "\n",
    "def entrainer_tpot_regressions(df, colonnes_explicatives, colonnes_cibles, generations=4, population_size=20, random_state=42):\n",
    "    \"\"\"\n",
    "    Utilise TPOT pour entraîner un modèle de régression automatique pour chaque variable cible.\n",
    "\n",
    "    Args:\n",
    "        df (pd.DataFrame): Le DataFrame complet.\n",
    "        colonnes_explicatives (list): Colonnes d'entrée.\n",
    "        colonnes_cibles (list): Colonnes cibles à prédire.\n",
    "        generations (int): Nombre de générations pour TPOT.\n",
    "        population_size (int): Taille de la population.\n",
    "        random_state (int): Graine aléatoire.\n",
    "\n",
    "    Returns:\n",
    "        dict: Contient le score R² et le pipeline pour chaque cible.\n",
    "    \"\"\"\n",
    "    resultats = {}\n",
    "\n",
    "    # 1. Imputation des NaN\n",
    "    imputer = SimpleImputer(strategy='median')\n",
    "    df_imputed = pd.DataFrame(imputer.fit_transform(df), columns=df.columns)\n",
    "\n",
    "    for cible in colonnes_cibles:\n",
    "        print(f\"\\n⚙️ Traitement de la cible : {cible}\")\n",
    "\n",
    "        X = df_imputed[colonnes_explicatives]\n",
    "        y = df_imputed[cible]\n",
    "\n",
    "        # 2. Split pour test\n",
    "        X_train, X_test, y_train, y_test = train_test_split(\n",
    "            X, y, test_size=0.2, random_state=random_state\n",
    "        )\n",
    "\n",
    "        # 3. TPOT\n",
    "        tpot = TPOTRegressor(\n",
    "            generations=generations,\n",
    "            population_size=population_size,\n",
    "            verbose=3,\n",
    "            random_state=random_state,\n",
    "            n_jobs=1,\n",
    "            cv=2\n",
    "        )\n",
    "\n",
    "        tpot.fit(X_train, y_train)\n",
    "\n",
    "        # 4. Score sur test\n",
    "        r2_test = tpot.fitted_pipeline_.score(X_test, y_test)\n",
    "        print(f\"✅ {cible} — R² test: {r2_test:.4f}\")\n",
    "\n",
    "        resultats[cible] = {\n",
    "            'r2_test': r2_test,\n",
    "            'pipeline': tpot.fitted_pipeline_,\n",
    "            'tpot_object': tpot\n",
    "        }\n",
    "\n",
    "    return resultats\n",
    "colonnes_X = ['taille', 'age', 'weight',\n",
    "              'categorie_ventre_plat', 'categorie_ventre_moyen', 'categorie_ventre_rond',\n",
    "              'categorie_torse_fin', 'categorie_torse_moyen', 'categorie_torse_large',\n",
    "              'categorie_cuisses_fines', 'categorie_cuisses_moyennes', 'categorie_cuisses_larges']\n",
    "\n",
    "colonnes_X_valides = [col for col in colonnes_X if col in df_scaled.columns]\n",
    "colonnes_y = [col for col in df_scaled.columns if col not in colonnes_X_valides]\n",
    "\n",
    "resultats_tpot = entrainer_tpot_regressions(df_scaled, colonnes_X_valides, colonnes_y)\n"
   ]
  }
 ],
 "metadata": {
  "kernelspec": {
   "display_name": "Python 3 (ipykernel)",
   "language": "python",
   "name": "python3"
  },
  "language_info": {
   "codemirror_mode": {
    "name": "ipython",
    "version": 3
   },
   "file_extension": ".py",
   "mimetype": "text/x-python",
   "name": "python",
   "nbconvert_exporter": "python",
   "pygments_lexer": "ipython3",
   "version": "3.12.9"
  }
 },
 "nbformat": 4,
 "nbformat_minor": 5
}

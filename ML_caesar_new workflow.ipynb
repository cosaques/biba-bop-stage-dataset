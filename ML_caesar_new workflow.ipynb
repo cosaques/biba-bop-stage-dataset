{
 "cells": [
  {
   "cell_type": "code",
   "execution_count": 1,
   "id": "6e972aeb-01a6-4cfe-ad78-3909c7ab8daa",
   "metadata": {
    "execution": {
     "iopub.execute_input": "2025-07-24T13:02:27.422267Z",
     "iopub.status.busy": "2025-07-24T13:02:27.420273Z",
     "iopub.status.idle": "2025-07-24T13:02:28.436858Z",
     "shell.execute_reply": "2025-07-24T13:02:28.434345Z",
     "shell.execute_reply.started": "2025-07-24T13:02:27.421268Z"
    }
   },
   "outputs": [],
   "source": [
    "import pandas as pd"
   ]
  },
  {
   "cell_type": "code",
   "execution_count": 2,
   "id": "901ba372-955a-4671-b525-09d7f0e60723",
   "metadata": {
    "execution": {
     "iopub.execute_input": "2025-07-24T13:02:32.488321Z",
     "iopub.status.busy": "2025-07-24T13:02:32.487320Z",
     "iopub.status.idle": "2025-07-24T13:02:32.579357Z",
     "shell.execute_reply": "2025-07-24T13:02:32.578216Z",
     "shell.execute_reply.started": "2025-07-24T13:02:32.488321Z"
    }
   },
   "outputs": [],
   "source": [
    "man_df = pd.read_csv('data/caesar_fr.csv', encoding='utf-8', sep=';')\n",
    "man_df=man_df.sample(frac=1)"
   ]
  },
  {
   "cell_type": "code",
   "execution_count": 3,
   "id": "d887b0cf-e22c-477b-aa0a-95310ade35a6",
   "metadata": {
    "execution": {
     "iopub.execute_input": "2025-07-24T13:02:33.407483Z",
     "iopub.status.busy": "2025-07-24T13:02:33.407483Z",
     "iopub.status.idle": "2025-07-24T13:02:33.434599Z",
     "shell.execute_reply": "2025-07-24T13:02:33.431652Z",
     "shell.execute_reply.started": "2025-07-24T13:02:33.407483Z"
    }
   },
   "outputs": [],
   "source": [
    "caesar_male = man_df[man_df['sex'] == 1]"
   ]
  },
  {
   "cell_type": "code",
   "execution_count": 4,
   "id": "6af9bf27-985d-4dd3-83b9-9125fba91adc",
   "metadata": {
    "execution": {
     "iopub.execute_input": "2025-07-24T13:02:34.235505Z",
     "iopub.status.busy": "2025-07-24T13:02:34.234942Z",
     "iopub.status.idle": "2025-07-24T13:02:34.260501Z",
     "shell.execute_reply": "2025-07-24T13:02:34.256211Z",
     "shell.execute_reply.started": "2025-07-24T13:02:34.235505Z"
    }
   },
   "outputs": [],
   "source": [
    "data=pd.DataFrame()"
   ]
  },
  {
   "cell_type": "code",
   "execution_count": 5,
   "id": "3ac6cbd4-7b91-4247-aefc-f91c1b924147",
   "metadata": {
    "execution": {
     "iopub.execute_input": "2025-07-24T13:02:35.005420Z",
     "iopub.status.busy": "2025-07-24T13:02:35.005420Z",
     "iopub.status.idle": "2025-07-24T13:02:35.016533Z",
     "shell.execute_reply": "2025-07-24T13:02:35.015509Z",
     "shell.execute_reply.started": "2025-07-24T13:02:35.005420Z"
    }
   },
   "outputs": [],
   "source": [
    "data=caesar_male.copy()"
   ]
  },
  {
   "cell_type": "code",
   "execution_count": 6,
   "id": "4d10fac9-6033-4f58-929d-30e83b72f73c",
   "metadata": {
    "execution": {
     "iopub.execute_input": "2025-07-24T13:02:35.775331Z",
     "iopub.status.busy": "2025-07-24T13:02:35.775331Z",
     "iopub.status.idle": "2025-07-24T13:02:36.026288Z",
     "shell.execute_reply": "2025-07-24T13:02:36.024179Z",
     "shell.execute_reply.started": "2025-07-24T13:02:35.775331Z"
    }
   },
   "outputs": [
    {
     "data": {
      "text/html": [
       "<div>\n",
       "<style scoped>\n",
       "    .dataframe tbody tr th:only-of-type {\n",
       "        vertical-align: middle;\n",
       "    }\n",
       "\n",
       "    .dataframe tbody tr th {\n",
       "        vertical-align: top;\n",
       "    }\n",
       "\n",
       "    .dataframe thead th {\n",
       "        text-align: right;\n",
       "    }\n",
       "</style>\n",
       "<table border=\"1\" class=\"dataframe\">\n",
       "  <thead>\n",
       "    <tr style=\"text-align: right;\">\n",
       "      <th></th>\n",
       "      <th>taille</th>\n",
       "      <th>age</th>\n",
       "      <th>weight</th>\n",
       "      <th>sex</th>\n",
       "      <th>tour_de_cheville</th>\n",
       "      <th>longueur_du_bras</th>\n",
       "      <th>largeur_du_dos</th>\n",
       "      <th>tour_de_ventre_maximal</th>\n",
       "      <th>tour_de_poitrine</th>\n",
       "      <th>tour_de_poitrine_mesure_a_la_main</th>\n",
       "      <th>...</th>\n",
       "      <th>angle_de_l_epaule</th>\n",
       "      <th>longueur_du_côte</th>\n",
       "      <th>longueur_du_tronc</th>\n",
       "      <th>longueur_de_sous_poitrine</th>\n",
       "      <th>largeur_de_la_taille</th>\n",
       "      <th>tour_de_poignet</th>\n",
       "      <th>largeur_du_bassin</th>\n",
       "      <th>profondeur_de_poitrine</th>\n",
       "      <th>tour_d_epaule</th>\n",
       "      <th>longueur_d_avant_bras</th>\n",
       "    </tr>\n",
       "  </thead>\n",
       "  <tbody>\n",
       "    <tr>\n",
       "      <th>count</th>\n",
       "      <td>2106.000000</td>\n",
       "      <td>2102.000000</td>\n",
       "      <td>2106.000000</td>\n",
       "      <td>2107.0</td>\n",
       "      <td>2107.000000</td>\n",
       "      <td>2104.000000</td>\n",
       "      <td>2052.000000</td>\n",
       "      <td>2107.0</td>\n",
       "      <td>2106.000000</td>\n",
       "      <td>0.0</td>\n",
       "      <td>...</td>\n",
       "      <td>2107.0</td>\n",
       "      <td>2107.0</td>\n",
       "      <td>2107.0</td>\n",
       "      <td>2107.0</td>\n",
       "      <td>2107.0</td>\n",
       "      <td>2107.0</td>\n",
       "      <td>2107.0</td>\n",
       "      <td>2107.0</td>\n",
       "      <td>2107.0</td>\n",
       "      <td>2107.0</td>\n",
       "    </tr>\n",
       "    <tr>\n",
       "      <th>mean</th>\n",
       "      <td>177.913588</td>\n",
       "      <td>37.538297</td>\n",
       "      <td>82.985266</td>\n",
       "      <td>1.0</td>\n",
       "      <td>26.720221</td>\n",
       "      <td>64.139418</td>\n",
       "      <td>41.485936</td>\n",
       "      <td>0.0</td>\n",
       "      <td>101.697680</td>\n",
       "      <td>NaN</td>\n",
       "      <td>...</td>\n",
       "      <td>0.0</td>\n",
       "      <td>0.0</td>\n",
       "      <td>0.0</td>\n",
       "      <td>0.0</td>\n",
       "      <td>0.0</td>\n",
       "      <td>0.0</td>\n",
       "      <td>0.0</td>\n",
       "      <td>0.0</td>\n",
       "      <td>0.0</td>\n",
       "      <td>0.0</td>\n",
       "    </tr>\n",
       "    <tr>\n",
       "      <th>std</th>\n",
       "      <td>8.431030</td>\n",
       "      <td>12.763015</td>\n",
       "      <td>17.167743</td>\n",
       "      <td>0.0</td>\n",
       "      <td>1.545217</td>\n",
       "      <td>3.591747</td>\n",
       "      <td>2.403755</td>\n",
       "      <td>0.0</td>\n",
       "      <td>10.616289</td>\n",
       "      <td>NaN</td>\n",
       "      <td>...</td>\n",
       "      <td>0.0</td>\n",
       "      <td>0.0</td>\n",
       "      <td>0.0</td>\n",
       "      <td>0.0</td>\n",
       "      <td>0.0</td>\n",
       "      <td>0.0</td>\n",
       "      <td>0.0</td>\n",
       "      <td>0.0</td>\n",
       "      <td>0.0</td>\n",
       "      <td>0.0</td>\n",
       "    </tr>\n",
       "    <tr>\n",
       "      <th>min</th>\n",
       "      <td>131.495800</td>\n",
       "      <td>17.500000</td>\n",
       "      <td>45.812792</td>\n",
       "      <td>1.0</td>\n",
       "      <td>22.199600</td>\n",
       "      <td>40.894000</td>\n",
       "      <td>33.147000</td>\n",
       "      <td>0.0</td>\n",
       "      <td>75.793600</td>\n",
       "      <td>NaN</td>\n",
       "      <td>...</td>\n",
       "      <td>0.0</td>\n",
       "      <td>0.0</td>\n",
       "      <td>0.0</td>\n",
       "      <td>0.0</td>\n",
       "      <td>0.0</td>\n",
       "      <td>0.0</td>\n",
       "      <td>0.0</td>\n",
       "      <td>0.0</td>\n",
       "      <td>0.0</td>\n",
       "      <td>0.0</td>\n",
       "    </tr>\n",
       "    <tr>\n",
       "      <th>25%</th>\n",
       "      <td>172.212000</td>\n",
       "      <td>26.200000</td>\n",
       "      <td>70.801175</td>\n",
       "      <td>1.0</td>\n",
       "      <td>25.704800</td>\n",
       "      <td>61.798200</td>\n",
       "      <td>39.801800</td>\n",
       "      <td>0.0</td>\n",
       "      <td>94.411800</td>\n",
       "      <td>NaN</td>\n",
       "      <td>...</td>\n",
       "      <td>0.0</td>\n",
       "      <td>0.0</td>\n",
       "      <td>0.0</td>\n",
       "      <td>0.0</td>\n",
       "      <td>0.0</td>\n",
       "      <td>0.0</td>\n",
       "      <td>0.0</td>\n",
       "      <td>0.0</td>\n",
       "      <td>0.0</td>\n",
       "      <td>0.0</td>\n",
       "    </tr>\n",
       "    <tr>\n",
       "      <th>50%</th>\n",
       "      <td>177.495200</td>\n",
       "      <td>37.000000</td>\n",
       "      <td>80.058988</td>\n",
       "      <td>1.0</td>\n",
       "      <td>26.593800</td>\n",
       "      <td>64.008000</td>\n",
       "      <td>41.478200</td>\n",
       "      <td>0.0</td>\n",
       "      <td>100.406200</td>\n",
       "      <td>NaN</td>\n",
       "      <td>...</td>\n",
       "      <td>0.0</td>\n",
       "      <td>0.0</td>\n",
       "      <td>0.0</td>\n",
       "      <td>0.0</td>\n",
       "      <td>0.0</td>\n",
       "      <td>0.0</td>\n",
       "      <td>0.0</td>\n",
       "      <td>0.0</td>\n",
       "      <td>0.0</td>\n",
       "      <td>0.0</td>\n",
       "    </tr>\n",
       "    <tr>\n",
       "      <th>75%</th>\n",
       "      <td>183.311800</td>\n",
       "      <td>47.000000</td>\n",
       "      <td>91.398788</td>\n",
       "      <td>1.0</td>\n",
       "      <td>27.711400</td>\n",
       "      <td>66.395600</td>\n",
       "      <td>43.027600</td>\n",
       "      <td>0.0</td>\n",
       "      <td>107.670600</td>\n",
       "      <td>NaN</td>\n",
       "      <td>...</td>\n",
       "      <td>0.0</td>\n",
       "      <td>0.0</td>\n",
       "      <td>0.0</td>\n",
       "      <td>0.0</td>\n",
       "      <td>0.0</td>\n",
       "      <td>0.0</td>\n",
       "      <td>0.0</td>\n",
       "      <td>0.0</td>\n",
       "      <td>0.0</td>\n",
       "      <td>0.0</td>\n",
       "    </tr>\n",
       "    <tr>\n",
       "      <th>max</th>\n",
       "      <td>218.287600</td>\n",
       "      <td>79.000000</td>\n",
       "      <td>181.436800</td>\n",
       "      <td>1.0</td>\n",
       "      <td>36.703000</td>\n",
       "      <td>80.391000</td>\n",
       "      <td>50.165000</td>\n",
       "      <td>0.0</td>\n",
       "      <td>157.403800</td>\n",
       "      <td>NaN</td>\n",
       "      <td>...</td>\n",
       "      <td>0.0</td>\n",
       "      <td>0.0</td>\n",
       "      <td>0.0</td>\n",
       "      <td>0.0</td>\n",
       "      <td>0.0</td>\n",
       "      <td>0.0</td>\n",
       "      <td>0.0</td>\n",
       "      <td>0.0</td>\n",
       "      <td>0.0</td>\n",
       "      <td>0.0</td>\n",
       "    </tr>\n",
       "  </tbody>\n",
       "</table>\n",
       "<p>8 rows × 44 columns</p>\n",
       "</div>"
      ],
      "text/plain": [
       "            taille          age       weight     sex  tour_de_cheville  \\\n",
       "count  2106.000000  2102.000000  2106.000000  2107.0       2107.000000   \n",
       "mean    177.913588    37.538297    82.985266     1.0         26.720221   \n",
       "std       8.431030    12.763015    17.167743     0.0          1.545217   \n",
       "min     131.495800    17.500000    45.812792     1.0         22.199600   \n",
       "25%     172.212000    26.200000    70.801175     1.0         25.704800   \n",
       "50%     177.495200    37.000000    80.058988     1.0         26.593800   \n",
       "75%     183.311800    47.000000    91.398788     1.0         27.711400   \n",
       "max     218.287600    79.000000   181.436800     1.0         36.703000   \n",
       "\n",
       "       longueur_du_bras  largeur_du_dos  tour_de_ventre_maximal  \\\n",
       "count       2104.000000     2052.000000                  2107.0   \n",
       "mean          64.139418       41.485936                     0.0   \n",
       "std            3.591747        2.403755                     0.0   \n",
       "min           40.894000       33.147000                     0.0   \n",
       "25%           61.798200       39.801800                     0.0   \n",
       "50%           64.008000       41.478200                     0.0   \n",
       "75%           66.395600       43.027600                     0.0   \n",
       "max           80.391000       50.165000                     0.0   \n",
       "\n",
       "       tour_de_poitrine  tour_de_poitrine_mesure_a_la_main  ...  \\\n",
       "count       2106.000000                                0.0  ...   \n",
       "mean         101.697680                                NaN  ...   \n",
       "std           10.616289                                NaN  ...   \n",
       "min           75.793600                                NaN  ...   \n",
       "25%           94.411800                                NaN  ...   \n",
       "50%          100.406200                                NaN  ...   \n",
       "75%          107.670600                                NaN  ...   \n",
       "max          157.403800                                NaN  ...   \n",
       "\n",
       "       angle_de_l_epaule  longueur_du_côte  longueur_du_tronc  \\\n",
       "count             2107.0            2107.0             2107.0   \n",
       "mean                 0.0               0.0                0.0   \n",
       "std                  0.0               0.0                0.0   \n",
       "min                  0.0               0.0                0.0   \n",
       "25%                  0.0               0.0                0.0   \n",
       "50%                  0.0               0.0                0.0   \n",
       "75%                  0.0               0.0                0.0   \n",
       "max                  0.0               0.0                0.0   \n",
       "\n",
       "       longueur_de_sous_poitrine  largeur_de_la_taille  tour_de_poignet  \\\n",
       "count                     2107.0                2107.0           2107.0   \n",
       "mean                         0.0                   0.0              0.0   \n",
       "std                          0.0                   0.0              0.0   \n",
       "min                          0.0                   0.0              0.0   \n",
       "25%                          0.0                   0.0              0.0   \n",
       "50%                          0.0                   0.0              0.0   \n",
       "75%                          0.0                   0.0              0.0   \n",
       "max                          0.0                   0.0              0.0   \n",
       "\n",
       "       largeur_du_bassin  profondeur_de_poitrine  tour_d_epaule  \\\n",
       "count             2107.0                  2107.0         2107.0   \n",
       "mean                 0.0                     0.0            0.0   \n",
       "std                  0.0                     0.0            0.0   \n",
       "min                  0.0                     0.0            0.0   \n",
       "25%                  0.0                     0.0            0.0   \n",
       "50%                  0.0                     0.0            0.0   \n",
       "75%                  0.0                     0.0            0.0   \n",
       "max                  0.0                     0.0            0.0   \n",
       "\n",
       "       longueur_d_avant_bras  \n",
       "count                 2107.0  \n",
       "mean                     0.0  \n",
       "std                      0.0  \n",
       "min                      0.0  \n",
       "25%                      0.0  \n",
       "50%                      0.0  \n",
       "75%                      0.0  \n",
       "max                      0.0  \n",
       "\n",
       "[8 rows x 44 columns]"
      ]
     },
     "execution_count": 6,
     "metadata": {},
     "output_type": "execute_result"
    }
   ],
   "source": [
    "data.describe()"
   ]
  },
  {
   "cell_type": "code",
   "execution_count": 7,
   "id": "b03afeb0-9cfe-41f7-a842-4da5bfea3b80",
   "metadata": {
    "execution": {
     "iopub.execute_input": "2025-07-24T13:02:37.081359Z",
     "iopub.status.busy": "2025-07-24T13:02:37.080318Z",
     "iopub.status.idle": "2025-07-24T13:02:37.144512Z",
     "shell.execute_reply": "2025-07-24T13:02:37.143002Z",
     "shell.execute_reply.started": "2025-07-24T13:02:37.080318Z"
    }
   },
   "outputs": [],
   "source": [
    "data=data.drop_duplicates()"
   ]
  },
  {
   "cell_type": "code",
   "execution_count": 8,
   "id": "099f2e05-5e49-4850-81bc-e89594fe7c73",
   "metadata": {
    "execution": {
     "iopub.execute_input": "2025-07-24T13:02:38.021139Z",
     "iopub.status.busy": "2025-07-24T13:02:38.020140Z",
     "iopub.status.idle": "2025-07-24T13:02:38.051501Z",
     "shell.execute_reply": "2025-07-24T13:02:38.049389Z",
     "shell.execute_reply.started": "2025-07-24T13:02:38.021139Z"
    }
   },
   "outputs": [
    {
     "data": {
      "text/html": [
       "<div>\n",
       "<style scoped>\n",
       "    .dataframe tbody tr th:only-of-type {\n",
       "        vertical-align: middle;\n",
       "    }\n",
       "\n",
       "    .dataframe tbody tr th {\n",
       "        vertical-align: top;\n",
       "    }\n",
       "\n",
       "    .dataframe thead th {\n",
       "        text-align: right;\n",
       "    }\n",
       "</style>\n",
       "<table border=\"1\" class=\"dataframe\">\n",
       "  <thead>\n",
       "    <tr style=\"text-align: right;\">\n",
       "      <th></th>\n",
       "      <th>tour_de_ventre_maximal</th>\n",
       "      <th>tour_de_taille</th>\n",
       "    </tr>\n",
       "  </thead>\n",
       "  <tbody>\n",
       "    <tr>\n",
       "      <th>106</th>\n",
       "      <td>0</td>\n",
       "      <td>74.5998</td>\n",
       "    </tr>\n",
       "    <tr>\n",
       "      <th>4438</th>\n",
       "      <td>0</td>\n",
       "      <td>89.8906</td>\n",
       "    </tr>\n",
       "    <tr>\n",
       "      <th>412</th>\n",
       "      <td>0</td>\n",
       "      <td>84.6074</td>\n",
       "    </tr>\n",
       "    <tr>\n",
       "      <th>4382</th>\n",
       "      <td>0</td>\n",
       "      <td>71.9074</td>\n",
       "    </tr>\n",
       "    <tr>\n",
       "      <th>2717</th>\n",
       "      <td>0</td>\n",
       "      <td>104.5972</td>\n",
       "    </tr>\n",
       "  </tbody>\n",
       "</table>\n",
       "</div>"
      ],
      "text/plain": [
       "      tour_de_ventre_maximal  tour_de_taille\n",
       "106                        0         74.5998\n",
       "4438                       0         89.8906\n",
       "412                        0         84.6074\n",
       "4382                       0         71.9074\n",
       "2717                       0        104.5972"
      ]
     },
     "execution_count": 8,
     "metadata": {},
     "output_type": "execute_result"
    }
   ],
   "source": [
    "data[['tour_de_ventre_maximal','tour_de_taille']].head()"
   ]
  },
  {
   "cell_type": "code",
   "execution_count": 9,
   "id": "59fde52c-2f9e-419a-8fc1-f5603adfd163",
   "metadata": {
    "execution": {
     "iopub.execute_input": "2025-07-24T13:02:39.397211Z",
     "iopub.status.busy": "2025-07-24T13:02:39.396685Z",
     "iopub.status.idle": "2025-07-24T13:02:39.403438Z",
     "shell.execute_reply": "2025-07-24T13:02:39.402504Z",
     "shell.execute_reply.started": "2025-07-24T13:02:39.397211Z"
    }
   },
   "outputs": [],
   "source": [
    "mesure=caesar_male[['tour_de_ventre_maximal','tour_de_taille','tour_de_cuisse','largeur_des_hanches']]"
   ]
  },
  {
   "cell_type": "code",
   "execution_count": 10,
   "id": "8e0ecad3-1e9c-4191-9f6e-5cd913699ff5",
   "metadata": {
    "execution": {
     "iopub.execute_input": "2025-07-24T13:02:40.225388Z",
     "iopub.status.busy": "2025-07-24T13:02:40.223864Z",
     "iopub.status.idle": "2025-07-24T13:02:40.259792Z",
     "shell.execute_reply": "2025-07-24T13:02:40.257281Z",
     "shell.execute_reply.started": "2025-07-24T13:02:40.225388Z"
    }
   },
   "outputs": [
    {
     "data": {
      "text/html": [
       "<div>\n",
       "<style scoped>\n",
       "    .dataframe tbody tr th:only-of-type {\n",
       "        vertical-align: middle;\n",
       "    }\n",
       "\n",
       "    .dataframe tbody tr th {\n",
       "        vertical-align: top;\n",
       "    }\n",
       "\n",
       "    .dataframe thead th {\n",
       "        text-align: right;\n",
       "    }\n",
       "</style>\n",
       "<table border=\"1\" class=\"dataframe\">\n",
       "  <thead>\n",
       "    <tr style=\"text-align: right;\">\n",
       "      <th></th>\n",
       "      <th>tour_de_ventre_maximal</th>\n",
       "      <th>tour_de_taille</th>\n",
       "      <th>tour_de_cuisse</th>\n",
       "      <th>largeur_des_hanches</th>\n",
       "    </tr>\n",
       "  </thead>\n",
       "  <tbody>\n",
       "    <tr>\n",
       "      <th>106</th>\n",
       "      <td>0</td>\n",
       "      <td>74.5998</td>\n",
       "      <td>57.6072</td>\n",
       "      <td>47.0916</td>\n",
       "    </tr>\n",
       "    <tr>\n",
       "      <th>4438</th>\n",
       "      <td>0</td>\n",
       "      <td>89.8906</td>\n",
       "      <td>62.9920</td>\n",
       "      <td>56.1086</td>\n",
       "    </tr>\n",
       "    <tr>\n",
       "      <th>412</th>\n",
       "      <td>0</td>\n",
       "      <td>84.6074</td>\n",
       "      <td>55.7022</td>\n",
       "      <td>47.5996</td>\n",
       "    </tr>\n",
       "    <tr>\n",
       "      <th>4382</th>\n",
       "      <td>0</td>\n",
       "      <td>71.9074</td>\n",
       "      <td>56.2102</td>\n",
       "      <td>45.5930</td>\n",
       "    </tr>\n",
       "    <tr>\n",
       "      <th>2717</th>\n",
       "      <td>0</td>\n",
       "      <td>104.5972</td>\n",
       "      <td>73.5076</td>\n",
       "      <td>54.6100</td>\n",
       "    </tr>\n",
       "  </tbody>\n",
       "</table>\n",
       "</div>"
      ],
      "text/plain": [
       "      tour_de_ventre_maximal  tour_de_taille  tour_de_cuisse  \\\n",
       "106                        0         74.5998         57.6072   \n",
       "4438                       0         89.8906         62.9920   \n",
       "412                        0         84.6074         55.7022   \n",
       "4382                       0         71.9074         56.2102   \n",
       "2717                       0        104.5972         73.5076   \n",
       "\n",
       "      largeur_des_hanches  \n",
       "106               47.0916  \n",
       "4438              56.1086  \n",
       "412               47.5996  \n",
       "4382              45.5930  \n",
       "2717              54.6100  "
      ]
     },
     "execution_count": 10,
     "metadata": {},
     "output_type": "execute_result"
    }
   ],
   "source": [
    "mesure.head()"
   ]
  },
  {
   "cell_type": "code",
   "execution_count": 11,
   "id": "2d3de6dc-447c-4fcb-a3d9-adc80af64e7a",
   "metadata": {
    "execution": {
     "iopub.execute_input": "2025-07-24T13:02:40.853276Z",
     "iopub.status.busy": "2025-07-24T13:02:40.852284Z",
     "iopub.status.idle": "2025-07-24T13:02:42.681698Z",
     "shell.execute_reply": "2025-07-24T13:02:42.680246Z",
     "shell.execute_reply.started": "2025-07-24T13:02:40.853276Z"
    }
   },
   "outputs": [
    {
     "data": {
      "image/png": "[encoded data removed]",
      "text/plain": [
       "<Figure size 640x480 with 1 Axes>"
      ]
     },
     "metadata": {},
     "output_type": "display_data"
    }
   ],
   "source": [
    "import matplotlib.pyplot as plt\n",
    "# Plot Living area vs Sale price\n",
    "plt.scatter(mesure['tour_de_ventre_maximal'], mesure['tour_de_taille'])\n",
    "# Labels\n",
    "plt.xlabel(\"tour de ventre max\")\n",
    "plt.ylabel(\"tour de taille\")\n",
    "plt.show()"
   ]
  },
  {
   "cell_type": "code",
   "execution_count": 12,
   "id": "6c5591a3-222f-4136-aa97-be23f4d5ecf4",
   "metadata": {
    "execution": {
     "iopub.execute_input": "2025-07-24T13:02:42.686228Z",
     "iopub.status.busy": "2025-07-24T13:02:42.685213Z",
     "iopub.status.idle": "2025-07-24T13:02:42.916161Z",
     "shell.execute_reply": "2025-07-24T13:02:42.914363Z",
     "shell.execute_reply.started": "2025-07-24T13:02:42.686228Z"
    }
   },
   "outputs": [
    {
     "data": {
      "image/png": "[encoded data removed]",
      "text/plain": [
       "<Figure size 640x480 with 1 Axes>"
      ]
     },
     "metadata": {},
     "output_type": "display_data"
    }
   ],
   "source": [
    "import matplotlib.pyplot as plt\n",
    "# Plot Living area vs Sale price\n",
    "plt.scatter(mesure['tour_de_cuisse'], mesure['largeur_des_hanches'],s=1)\n",
    "# Labels\n",
    "plt.xlabel(\"tour de cuisse\")\n",
    "plt.ylabel(\"largeur des hanches\")\n",
    "plt.show()"
   ]
  },
  {
   "cell_type": "code",
   "execution_count": 14,
   "id": "6c28dce4-6899-46a5-b99a-d1dae3d0257b",
   "metadata": {
    "execution": {
     "iopub.execute_input": "2025-07-24T13:05:02.910371Z",
     "iopub.status.busy": "2025-07-24T13:05:02.908858Z",
     "iopub.status.idle": "2025-07-24T13:05:02.958515Z",
     "shell.execute_reply": "2025-07-24T13:05:02.955523Z",
     "shell.execute_reply.started": "2025-07-24T13:05:02.910371Z"
    }
   },
   "outputs": [
    {
     "data": {
      "text/html": [
       "<div>\n",
       "<style scoped>\n",
       "    .dataframe tbody tr th:only-of-type {\n",
       "        vertical-align: middle;\n",
       "    }\n",
       "\n",
       "    .dataframe tbody tr th {\n",
       "        vertical-align: top;\n",
       "    }\n",
       "\n",
       "    .dataframe thead th {\n",
       "        text-align: right;\n",
       "    }\n",
       "</style>\n",
       "<table border=\"1\" class=\"dataframe\">\n",
       "  <thead>\n",
       "    <tr style=\"text-align: right;\">\n",
       "      <th></th>\n",
       "      <th>largeur_d_epaule</th>\n",
       "    </tr>\n",
       "  </thead>\n",
       "  <tbody>\n",
       "    <tr>\n",
       "      <th>count</th>\n",
       "      <td>2052.000000</td>\n",
       "    </tr>\n",
       "    <tr>\n",
       "      <th>mean</th>\n",
       "      <td>41.485936</td>\n",
       "    </tr>\n",
       "    <tr>\n",
       "      <th>std</th>\n",
       "      <td>2.403755</td>\n",
       "    </tr>\n",
       "    <tr>\n",
       "      <th>min</th>\n",
       "      <td>33.147000</td>\n",
       "    </tr>\n",
       "    <tr>\n",
       "      <th>25%</th>\n",
       "      <td>39.801800</td>\n",
       "    </tr>\n",
       "    <tr>\n",
       "      <th>50%</th>\n",
       "      <td>41.478200</td>\n",
       "    </tr>\n",
       "    <tr>\n",
       "      <th>75%</th>\n",
       "      <td>43.027600</td>\n",
       "    </tr>\n",
       "    <tr>\n",
       "      <th>max</th>\n",
       "      <td>50.165000</td>\n",
       "    </tr>\n",
       "  </tbody>\n",
       "</table>\n",
       "</div>"
      ],
      "text/plain": [
       "       largeur_d_epaule\n",
       "count       2052.000000\n",
       "mean          41.485936\n",
       "std            2.403755\n",
       "min           33.147000\n",
       "25%           39.801800\n",
       "50%           41.478200\n",
       "75%           43.027600\n",
       "max           50.165000"
      ]
     },
     "execution_count": 14,
     "metadata": {},
     "output_type": "execute_result"
    }
   ],
   "source": [
    "data[[\"largeur_d_epaule\"]].describe()"
   ]
  },
  {
   "cell_type": "code",
   "execution_count": 16,
   "id": "676ebe8c-87fe-4a2c-bda2-24bcd8e3be93",
   "metadata": {
    "execution": {
     "iopub.execute_input": "2025-07-24T13:07:27.782475Z",
     "iopub.status.busy": "2025-07-24T13:07:27.782475Z",
     "iopub.status.idle": "2025-07-24T13:07:27.813556Z",
     "shell.execute_reply": "2025-07-24T13:07:27.811867Z",
     "shell.execute_reply.started": "2025-07-24T13:07:27.782475Z"
    }
   },
   "outputs": [
    {
     "data": {
      "text/html": [
       "<div>\n",
       "<style scoped>\n",
       "    .dataframe tbody tr th:only-of-type {\n",
       "        vertical-align: middle;\n",
       "    }\n",
       "\n",
       "    .dataframe tbody tr th {\n",
       "        vertical-align: top;\n",
       "    }\n",
       "\n",
       "    .dataframe thead th {\n",
       "        text-align: right;\n",
       "    }\n",
       "</style>\n",
       "<table border=\"1\" class=\"dataframe\">\n",
       "  <thead>\n",
       "    <tr style=\"text-align: right;\">\n",
       "      <th></th>\n",
       "      <th>tour_de_taille</th>\n",
       "    </tr>\n",
       "  </thead>\n",
       "  <tbody>\n",
       "    <tr>\n",
       "      <th>count</th>\n",
       "      <td>2103.000000</td>\n",
       "    </tr>\n",
       "    <tr>\n",
       "      <th>mean</th>\n",
       "      <td>90.094742</td>\n",
       "    </tr>\n",
       "    <tr>\n",
       "      <th>std</th>\n",
       "      <td>11.694893</td>\n",
       "    </tr>\n",
       "    <tr>\n",
       "      <th>min</th>\n",
       "      <td>61.899800</td>\n",
       "    </tr>\n",
       "    <tr>\n",
       "      <th>25%</th>\n",
       "      <td>82.194400</td>\n",
       "    </tr>\n",
       "    <tr>\n",
       "      <th>50%</th>\n",
       "      <td>88.290400</td>\n",
       "    </tr>\n",
       "    <tr>\n",
       "      <th>75%</th>\n",
       "      <td>95.707200</td>\n",
       "    </tr>\n",
       "    <tr>\n",
       "      <th>max</th>\n",
       "      <td>170.205400</td>\n",
       "    </tr>\n",
       "  </tbody>\n",
       "</table>\n",
       "</div>"
      ],
      "text/plain": [
       "       tour_de_taille\n",
       "count     2103.000000\n",
       "mean        90.094742\n",
       "std         11.694893\n",
       "min         61.899800\n",
       "25%         82.194400\n",
       "50%         88.290400\n",
       "75%         95.707200\n",
       "max        170.205400"
      ]
     },
     "execution_count": 16,
     "metadata": {},
     "output_type": "execute_result"
    }
   ],
   "source": [
    "data[[\"tour_de_taille\"]].describe()"
   ]
  },
  {
   "cell_type": "code",
   "execution_count": 17,
   "id": "5650c700-8629-403a-89fe-0ad58a1c41a1",
   "metadata": {
    "execution": {
     "iopub.execute_input": "2025-07-24T13:13:33.015280Z",
     "iopub.status.busy": "2025-07-24T13:13:33.015280Z",
     "iopub.status.idle": "2025-07-24T13:13:33.034336Z",
     "shell.execute_reply": "2025-07-24T13:13:33.033366Z",
     "shell.execute_reply.started": "2025-07-24T13:13:33.015280Z"
    }
   },
   "outputs": [
    {
     "data": {
      "text/html": [
       "<div>\n",
       "<style scoped>\n",
       "    .dataframe tbody tr th:only-of-type {\n",
       "        vertical-align: middle;\n",
       "    }\n",
       "\n",
       "    .dataframe tbody tr th {\n",
       "        vertical-align: top;\n",
       "    }\n",
       "\n",
       "    .dataframe thead th {\n",
       "        text-align: right;\n",
       "    }\n",
       "</style>\n",
       "<table border=\"1\" class=\"dataframe\">\n",
       "  <thead>\n",
       "    <tr style=\"text-align: right;\">\n",
       "      <th></th>\n",
       "      <th>largeur_des_hanches</th>\n",
       "    </tr>\n",
       "  </thead>\n",
       "  <tbody>\n",
       "    <tr>\n",
       "      <th>count</th>\n",
       "      <td>2104.000000</td>\n",
       "    </tr>\n",
       "    <tr>\n",
       "      <th>mean</th>\n",
       "      <td>48.210359</td>\n",
       "    </tr>\n",
       "    <tr>\n",
       "      <th>std</th>\n",
       "      <td>3.616818</td>\n",
       "    </tr>\n",
       "    <tr>\n",
       "      <th>min</th>\n",
       "      <td>37.795200</td>\n",
       "    </tr>\n",
       "    <tr>\n",
       "      <th>25%</th>\n",
       "      <td>45.694600</td>\n",
       "    </tr>\n",
       "    <tr>\n",
       "      <th>50%</th>\n",
       "      <td>47.904400</td>\n",
       "    </tr>\n",
       "    <tr>\n",
       "      <th>75%</th>\n",
       "      <td>50.292000</td>\n",
       "    </tr>\n",
       "    <tr>\n",
       "      <th>max</th>\n",
       "      <td>65.811400</td>\n",
       "    </tr>\n",
       "  </tbody>\n",
       "</table>\n",
       "</div>"
      ],
      "text/plain": [
       "       largeur_des_hanches\n",
       "count          2104.000000\n",
       "mean             48.210359\n",
       "std               3.616818\n",
       "min              37.795200\n",
       "25%              45.694600\n",
       "50%              47.904400\n",
       "75%              50.292000\n",
       "max              65.811400"
      ]
     },
     "execution_count": 17,
     "metadata": {},
     "output_type": "execute_result"
    }
   ],
   "source": [
    "data[[\"largeur_des_hanches\"]].describe()"
   ]
  },
  {
   "cell_type": "code",
   "execution_count": 20,
   "id": "f580b198-103c-4838-b9e2-9d5096b06696",
   "metadata": {
    "execution": {
     "iopub.execute_input": "2025-07-24T13:16:27.051863Z",
     "iopub.status.busy": "2025-07-24T13:16:27.051863Z",
     "iopub.status.idle": "2025-07-24T13:16:27.808117Z",
     "shell.execute_reply": "2025-07-24T13:16:27.807138Z",
     "shell.execute_reply.started": "2025-07-24T13:16:27.051863Z"
    }
   },
   "outputs": [],
   "source": [
    "import pandas as pd\n",
    "\n",
    "def classifier_morphologie(row):\n",
    "    # Extraction des mesures\n",
    "    tour_ventre = row['tour_de_ventre_maximal']\n",
    "    tour_taille = row['tour_de_taille']\n",
    "    forme_poitrine = row['largeur_d_epaule']\n",
    "    tour_cuisse = row['tour_de_cuisse']\n",
    "    largeur_hanches = row['largeur_des_hanches']\n",
    "    \n",
    "    # --- Catégorie VENTRE (basée sur le ratio ventre/taille) ---\n",
    "    if tour_taille < 82.194400:\n",
    "        ventre = \"plat\"\n",
    "    elif tour_taille > 82.194400 <= tour_taille<95.707200:\n",
    "        ventre = \"moyen\"\n",
    "    else:\n",
    "        ventre = \"rond\"\n",
    "    \n",
    "    # --- Catégorie TORSE (basée sur le tour de poitrine seul ou comparé à la taille) ---\n",
    "    if forme_poitrine < 39.801800:\n",
    "        torse = \"fin\"\n",
    "    elif 39.801800 <=forme_poitrine < 43.027600 :\n",
    "        torse = \"moyen\"\n",
    "    else:\n",
    "        torse = \"large\"\n",
    "    \n",
    "    # --- Catégorie CUISSES (ratio cuisse / hanches) ---\n",
    "    if largeur_hanches < 45.694600:\n",
    "        cuisses = \"fines\"\n",
    "    elif  45.694600 <=largeur_hanches<50.292000 :\n",
    "        cuisses = \"moyennes\"\n",
    "    else:\n",
    "        cuisses = \"larges\"\n",
    "    \n",
    "    return pd.Series([ventre, torse, cuisses], \n",
    "                     index=['categorie_ventre', 'categorie_torse', 'categorie_cuisses'])\n",
    "    \n",
    "# Remplace `df` par le nom de ton DataFrame\n",
    "data[['categorie_ventre', 'categorie_torse', 'categorie_cuisses']] = data.apply(classifier_morphologie, axis=1)"
   ]
  },
  {
   "cell_type": "code",
   "execution_count": 21,
   "id": "a939345a-cb7a-46df-9597-57ce48dc97b1",
   "metadata": {
    "execution": {
     "iopub.execute_input": "2025-07-24T13:16:31.273426Z",
     "iopub.status.busy": "2025-07-24T13:16:31.271426Z",
     "iopub.status.idle": "2025-07-24T13:16:31.339876Z",
     "shell.execute_reply": "2025-07-24T13:16:31.337347Z",
     "shell.execute_reply.started": "2025-07-24T13:16:31.273426Z"
    }
   },
   "outputs": [
    {
     "data": {
      "text/html": [
       "<div>\n",
       "<style scoped>\n",
       "    .dataframe tbody tr th:only-of-type {\n",
       "        vertical-align: middle;\n",
       "    }\n",
       "\n",
       "    .dataframe tbody tr th {\n",
       "        vertical-align: top;\n",
       "    }\n",
       "\n",
       "    .dataframe thead th {\n",
       "        text-align: right;\n",
       "    }\n",
       "</style>\n",
       "<table border=\"1\" class=\"dataframe\">\n",
       "  <thead>\n",
       "    <tr style=\"text-align: right;\">\n",
       "      <th></th>\n",
       "      <th>taille</th>\n",
       "      <th>age</th>\n",
       "      <th>weight</th>\n",
       "      <th>sex</th>\n",
       "      <th>tour_de_cheville</th>\n",
       "      <th>longueur_du_bras</th>\n",
       "      <th>largeur_du_dos</th>\n",
       "      <th>tour_de_ventre_maximal</th>\n",
       "      <th>tour_de_poitrine</th>\n",
       "      <th>tour_de_poitrine_mesure_a_la_main</th>\n",
       "      <th>...</th>\n",
       "      <th>longueur_de_sous_poitrine</th>\n",
       "      <th>largeur_de_la_taille</th>\n",
       "      <th>tour_de_poignet</th>\n",
       "      <th>largeur_du_bassin</th>\n",
       "      <th>profondeur_de_poitrine</th>\n",
       "      <th>tour_d_epaule</th>\n",
       "      <th>longueur_d_avant_bras</th>\n",
       "      <th>categorie_ventre</th>\n",
       "      <th>categorie_torse</th>\n",
       "      <th>categorie_cuisses</th>\n",
       "    </tr>\n",
       "  </thead>\n",
       "  <tbody>\n",
       "    <tr>\n",
       "      <th>106</th>\n",
       "      <td>174.4980</td>\n",
       "      <td>19.0</td>\n",
       "      <td>66.451228</td>\n",
       "      <td>1.0</td>\n",
       "      <td>24.7904</td>\n",
       "      <td>60.2996</td>\n",
       "      <td>40.4876</td>\n",
       "      <td>0</td>\n",
       "      <td>94.9960</td>\n",
       "      <td>NaN</td>\n",
       "      <td>...</td>\n",
       "      <td>0</td>\n",
       "      <td>0</td>\n",
       "      <td>0</td>\n",
       "      <td>0</td>\n",
       "      <td>0</td>\n",
       "      <td>0</td>\n",
       "      <td>0</td>\n",
       "      <td>plat</td>\n",
       "      <td>moyen</td>\n",
       "      <td>moyennes</td>\n",
       "    </tr>\n",
       "    <tr>\n",
       "      <th>4438</th>\n",
       "      <td>179.0954</td>\n",
       "      <td>32.0</td>\n",
       "      <td>90.491604</td>\n",
       "      <td>1.0</td>\n",
       "      <td>25.7048</td>\n",
       "      <td>62.5094</td>\n",
       "      <td>42.7990</td>\n",
       "      <td>0</td>\n",
       "      <td>108.5088</td>\n",
       "      <td>NaN</td>\n",
       "      <td>...</td>\n",
       "      <td>0</td>\n",
       "      <td>0</td>\n",
       "      <td>0</td>\n",
       "      <td>0</td>\n",
       "      <td>0</td>\n",
       "      <td>0</td>\n",
       "      <td>0</td>\n",
       "      <td>moyen</td>\n",
       "      <td>moyen</td>\n",
       "      <td>larges</td>\n",
       "    </tr>\n",
       "    <tr>\n",
       "      <th>412</th>\n",
       "      <td>172.5930</td>\n",
       "      <td>59.0</td>\n",
       "      <td>76.883844</td>\n",
       "      <td>1.0</td>\n",
       "      <td>26.6954</td>\n",
       "      <td>62.9920</td>\n",
       "      <td>42.1386</td>\n",
       "      <td>0</td>\n",
       "      <td>97.7900</td>\n",
       "      <td>NaN</td>\n",
       "      <td>...</td>\n",
       "      <td>0</td>\n",
       "      <td>0</td>\n",
       "      <td>0</td>\n",
       "      <td>0</td>\n",
       "      <td>0</td>\n",
       "      <td>0</td>\n",
       "      <td>0</td>\n",
       "      <td>moyen</td>\n",
       "      <td>moyen</td>\n",
       "      <td>moyennes</td>\n",
       "    </tr>\n",
       "    <tr>\n",
       "      <th>4382</th>\n",
       "      <td>177.2920</td>\n",
       "      <td>41.0</td>\n",
       "      <td>71.894332</td>\n",
       "      <td>1.0</td>\n",
       "      <td>26.8986</td>\n",
       "      <td>60.9092</td>\n",
       "      <td>41.4020</td>\n",
       "      <td>0</td>\n",
       "      <td>89.6874</td>\n",
       "      <td>NaN</td>\n",
       "      <td>...</td>\n",
       "      <td>0</td>\n",
       "      <td>0</td>\n",
       "      <td>0</td>\n",
       "      <td>0</td>\n",
       "      <td>0</td>\n",
       "      <td>0</td>\n",
       "      <td>0</td>\n",
       "      <td>plat</td>\n",
       "      <td>moyen</td>\n",
       "      <td>fines</td>\n",
       "    </tr>\n",
       "    <tr>\n",
       "      <th>2717</th>\n",
       "      <td>177.4952</td>\n",
       "      <td>32.0</td>\n",
       "      <td>106.367324</td>\n",
       "      <td>1.0</td>\n",
       "      <td>27.3050</td>\n",
       "      <td>65.9892</td>\n",
       "      <td>40.4876</td>\n",
       "      <td>0</td>\n",
       "      <td>118.2116</td>\n",
       "      <td>NaN</td>\n",
       "      <td>...</td>\n",
       "      <td>0</td>\n",
       "      <td>0</td>\n",
       "      <td>0</td>\n",
       "      <td>0</td>\n",
       "      <td>0</td>\n",
       "      <td>0</td>\n",
       "      <td>0</td>\n",
       "      <td>rond</td>\n",
       "      <td>moyen</td>\n",
       "      <td>larges</td>\n",
       "    </tr>\n",
       "  </tbody>\n",
       "</table>\n",
       "<p>5 rows × 47 columns</p>\n",
       "</div>"
      ],
      "text/plain": [
       "        taille   age      weight  sex  tour_de_cheville  longueur_du_bras  \\\n",
       "106   174.4980  19.0   66.451228  1.0           24.7904           60.2996   \n",
       "4438  179.0954  32.0   90.491604  1.0           25.7048           62.5094   \n",
       "412   172.5930  59.0   76.883844  1.0           26.6954           62.9920   \n",
       "4382  177.2920  41.0   71.894332  1.0           26.8986           60.9092   \n",
       "2717  177.4952  32.0  106.367324  1.0           27.3050           65.9892   \n",
       "\n",
       "      largeur_du_dos  tour_de_ventre_maximal  tour_de_poitrine  \\\n",
       "106          40.4876                       0           94.9960   \n",
       "4438         42.7990                       0          108.5088   \n",
       "412          42.1386                       0           97.7900   \n",
       "4382         41.4020                       0           89.6874   \n",
       "2717         40.4876                       0          118.2116   \n",
       "\n",
       "      tour_de_poitrine_mesure_a_la_main  ...  longueur_de_sous_poitrine  \\\n",
       "106                                 NaN  ...                          0   \n",
       "4438                                NaN  ...                          0   \n",
       "412                                 NaN  ...                          0   \n",
       "4382                                NaN  ...                          0   \n",
       "2717                                NaN  ...                          0   \n",
       "\n",
       "      largeur_de_la_taille  tour_de_poignet  largeur_du_bassin  \\\n",
       "106                      0                0                  0   \n",
       "4438                     0                0                  0   \n",
       "412                      0                0                  0   \n",
       "4382                     0                0                  0   \n",
       "2717                     0                0                  0   \n",
       "\n",
       "      profondeur_de_poitrine  tour_d_epaule  longueur_d_avant_bras  \\\n",
       "106                        0              0                      0   \n",
       "4438                       0              0                      0   \n",
       "412                        0              0                      0   \n",
       "4382                       0              0                      0   \n",
       "2717                       0              0                      0   \n",
       "\n",
       "      categorie_ventre  categorie_torse  categorie_cuisses  \n",
       "106               plat            moyen           moyennes  \n",
       "4438             moyen            moyen             larges  \n",
       "412              moyen            moyen           moyennes  \n",
       "4382              plat            moyen              fines  \n",
       "2717              rond            moyen             larges  \n",
       "\n",
       "[5 rows x 47 columns]"
      ]
     },
     "execution_count": 21,
     "metadata": {},
     "output_type": "execute_result"
    }
   ],
   "source": [
    "data.head()"
   ]
  },
  {
   "cell_type": "code",
   "execution_count": 22,
   "id": "deaed3b8-c5c8-4a39-b971-62bc78417a90",
   "metadata": {
    "execution": {
     "iopub.execute_input": "2025-07-24T13:16:35.313359Z",
     "iopub.status.busy": "2025-07-24T13:16:35.312360Z",
     "iopub.status.idle": "2025-07-24T13:16:35.335109Z",
     "shell.execute_reply": "2025-07-24T13:16:35.333109Z",
     "shell.execute_reply.started": "2025-07-24T13:16:35.313359Z"
    }
   },
   "outputs": [],
   "source": [
    "data=data.loc[:, (data != 0).any()]"
   ]
  },
  {
   "cell_type": "code",
   "execution_count": 23,
   "id": "6ffb3514-6df3-4436-a7ae-cb83afe251f1",
   "metadata": {
    "execution": {
     "iopub.execute_input": "2025-07-24T13:16:37.845721Z",
     "iopub.status.busy": "2025-07-24T13:16:37.844720Z",
     "iopub.status.idle": "2025-07-24T13:16:37.900191Z",
     "shell.execute_reply": "2025-07-24T13:16:37.897688Z",
     "shell.execute_reply.started": "2025-07-24T13:16:37.845721Z"
    }
   },
   "outputs": [
    {
     "data": {
      "text/html": [
       "<div>\n",
       "<style scoped>\n",
       "    .dataframe tbody tr th:only-of-type {\n",
       "        vertical-align: middle;\n",
       "    }\n",
       "\n",
       "    .dataframe tbody tr th {\n",
       "        vertical-align: top;\n",
       "    }\n",
       "\n",
       "    .dataframe thead th {\n",
       "        text-align: right;\n",
       "    }\n",
       "</style>\n",
       "<table border=\"1\" class=\"dataframe\">\n",
       "  <thead>\n",
       "    <tr style=\"text-align: right;\">\n",
       "      <th></th>\n",
       "      <th>taille</th>\n",
       "      <th>age</th>\n",
       "      <th>weight</th>\n",
       "      <th>sex</th>\n",
       "      <th>tour_de_cheville</th>\n",
       "      <th>longueur_du_bras</th>\n",
       "      <th>largeur_du_dos</th>\n",
       "      <th>tour_de_poitrine</th>\n",
       "      <th>tour_de_poitrine_mesure_a_la_main</th>\n",
       "      <th>hauteur_de_poitrine</th>\n",
       "      <th>...</th>\n",
       "      <th>largeur_d_epaule</th>\n",
       "      <th>hauteur_des_epaules</th>\n",
       "      <th>largeur_des_epaules_a_l_horizontales</th>\n",
       "      <th>longueur_de_la_colonne_vertebrale_jusqu_au_poignet</th>\n",
       "      <th>tour_de_cuisse</th>\n",
       "      <th>tour_de_taille</th>\n",
       "      <th>hauteur_de_la_taille</th>\n",
       "      <th>categorie_ventre</th>\n",
       "      <th>categorie_torse</th>\n",
       "      <th>categorie_cuisses</th>\n",
       "    </tr>\n",
       "  </thead>\n",
       "  <tbody>\n",
       "    <tr>\n",
       "      <th>106</th>\n",
       "      <td>174.4980</td>\n",
       "      <td>19.0</td>\n",
       "      <td>66.451228</td>\n",
       "      <td>1.0</td>\n",
       "      <td>24.7904</td>\n",
       "      <td>60.2996</td>\n",
       "      <td>40.4876</td>\n",
       "      <td>94.9960</td>\n",
       "      <td>NaN</td>\n",
       "      <td>126.7968</td>\n",
       "      <td>...</td>\n",
       "      <td>40.4876</td>\n",
       "      <td>142.7480</td>\n",
       "      <td>47.0916</td>\n",
       "      <td>82.6008</td>\n",
       "      <td>57.6072</td>\n",
       "      <td>74.5998</td>\n",
       "      <td>102.3874</td>\n",
       "      <td>plat</td>\n",
       "      <td>moyen</td>\n",
       "      <td>moyennes</td>\n",
       "    </tr>\n",
       "    <tr>\n",
       "      <th>4438</th>\n",
       "      <td>179.0954</td>\n",
       "      <td>32.0</td>\n",
       "      <td>90.491604</td>\n",
       "      <td>1.0</td>\n",
       "      <td>25.7048</td>\n",
       "      <td>62.5094</td>\n",
       "      <td>42.7990</td>\n",
       "      <td>108.5088</td>\n",
       "      <td>NaN</td>\n",
       "      <td>129.7940</td>\n",
       "      <td>...</td>\n",
       "      <td>42.7990</td>\n",
       "      <td>148.1963</td>\n",
       "      <td>56.1086</td>\n",
       "      <td>83.6930</td>\n",
       "      <td>62.9920</td>\n",
       "      <td>89.8906</td>\n",
       "      <td>105.7910</td>\n",
       "      <td>moyen</td>\n",
       "      <td>moyen</td>\n",
       "      <td>larges</td>\n",
       "    </tr>\n",
       "    <tr>\n",
       "      <th>412</th>\n",
       "      <td>172.5930</td>\n",
       "      <td>59.0</td>\n",
       "      <td>76.883844</td>\n",
       "      <td>1.0</td>\n",
       "      <td>26.6954</td>\n",
       "      <td>62.9920</td>\n",
       "      <td>42.1386</td>\n",
       "      <td>97.7900</td>\n",
       "      <td>NaN</td>\n",
       "      <td>125.6030</td>\n",
       "      <td>...</td>\n",
       "      <td>42.1386</td>\n",
       "      <td>140.9065</td>\n",
       "      <td>47.5996</td>\n",
       "      <td>84.2010</td>\n",
       "      <td>55.7022</td>\n",
       "      <td>84.6074</td>\n",
       "      <td>103.5050</td>\n",
       "      <td>moyen</td>\n",
       "      <td>moyen</td>\n",
       "      <td>moyennes</td>\n",
       "    </tr>\n",
       "    <tr>\n",
       "      <th>4382</th>\n",
       "      <td>177.2920</td>\n",
       "      <td>41.0</td>\n",
       "      <td>71.894332</td>\n",
       "      <td>1.0</td>\n",
       "      <td>26.8986</td>\n",
       "      <td>60.9092</td>\n",
       "      <td>41.4020</td>\n",
       "      <td>89.6874</td>\n",
       "      <td>NaN</td>\n",
       "      <td>125.8062</td>\n",
       "      <td>...</td>\n",
       "      <td>41.4020</td>\n",
       "      <td>141.5923</td>\n",
       "      <td>45.5930</td>\n",
       "      <td>82.8040</td>\n",
       "      <td>56.2102</td>\n",
       "      <td>71.9074</td>\n",
       "      <td>107.1118</td>\n",
       "      <td>plat</td>\n",
       "      <td>moyen</td>\n",
       "      <td>fines</td>\n",
       "    </tr>\n",
       "    <tr>\n",
       "      <th>2717</th>\n",
       "      <td>177.4952</td>\n",
       "      <td>32.0</td>\n",
       "      <td>106.367324</td>\n",
       "      <td>1.0</td>\n",
       "      <td>27.3050</td>\n",
       "      <td>65.9892</td>\n",
       "      <td>40.4876</td>\n",
       "      <td>118.2116</td>\n",
       "      <td>NaN</td>\n",
       "      <td>127.6096</td>\n",
       "      <td>...</td>\n",
       "      <td>40.4876</td>\n",
       "      <td>145.0086</td>\n",
       "      <td>54.6100</td>\n",
       "      <td>86.3092</td>\n",
       "      <td>73.5076</td>\n",
       "      <td>104.5972</td>\n",
       "      <td>99.9998</td>\n",
       "      <td>rond</td>\n",
       "      <td>moyen</td>\n",
       "      <td>larges</td>\n",
       "    </tr>\n",
       "  </tbody>\n",
       "</table>\n",
       "<p>5 rows × 26 columns</p>\n",
       "</div>"
      ],
      "text/plain": [
       "        taille   age      weight  sex  tour_de_cheville  longueur_du_bras  \\\n",
       "106   174.4980  19.0   66.451228  1.0           24.7904           60.2996   \n",
       "4438  179.0954  32.0   90.491604  1.0           25.7048           62.5094   \n",
       "412   172.5930  59.0   76.883844  1.0           26.6954           62.9920   \n",
       "4382  177.2920  41.0   71.894332  1.0           26.8986           60.9092   \n",
       "2717  177.4952  32.0  106.367324  1.0           27.3050           65.9892   \n",
       "\n",
       "      largeur_du_dos  tour_de_poitrine  tour_de_poitrine_mesure_a_la_main  \\\n",
       "106          40.4876           94.9960                                NaN   \n",
       "4438         42.7990          108.5088                                NaN   \n",
       "412          42.1386           97.7900                                NaN   \n",
       "4382         41.4020           89.6874                                NaN   \n",
       "2717         40.4876          118.2116                                NaN   \n",
       "\n",
       "      hauteur_de_poitrine  ...  largeur_d_epaule  hauteur_des_epaules  \\\n",
       "106              126.7968  ...           40.4876             142.7480   \n",
       "4438             129.7940  ...           42.7990             148.1963   \n",
       "412              125.6030  ...           42.1386             140.9065   \n",
       "4382             125.8062  ...           41.4020             141.5923   \n",
       "2717             127.6096  ...           40.4876             145.0086   \n",
       "\n",
       "      largeur_des_epaules_a_l_horizontales  \\\n",
       "106                                47.0916   \n",
       "4438                               56.1086   \n",
       "412                                47.5996   \n",
       "4382                               45.5930   \n",
       "2717                               54.6100   \n",
       "\n",
       "      longueur_de_la_colonne_vertebrale_jusqu_au_poignet  tour_de_cuisse  \\\n",
       "106                                             82.6008          57.6072   \n",
       "4438                                            83.6930          62.9920   \n",
       "412                                             84.2010          55.7022   \n",
       "4382                                            82.8040          56.2102   \n",
       "2717                                            86.3092          73.5076   \n",
       "\n",
       "      tour_de_taille  hauteur_de_la_taille  categorie_ventre  categorie_torse  \\\n",
       "106          74.5998              102.3874              plat            moyen   \n",
       "4438         89.8906              105.7910             moyen            moyen   \n",
       "412          84.6074              103.5050             moyen            moyen   \n",
       "4382         71.9074              107.1118              plat            moyen   \n",
       "2717        104.5972               99.9998              rond            moyen   \n",
       "\n",
       "      categorie_cuisses  \n",
       "106            moyennes  \n",
       "4438             larges  \n",
       "412            moyennes  \n",
       "4382              fines  \n",
       "2717             larges  \n",
       "\n",
       "[5 rows x 26 columns]"
      ]
     },
     "execution_count": 23,
     "metadata": {},
     "output_type": "execute_result"
    }
   ],
   "source": [
    "data.head()"
   ]
  },
  {
   "cell_type": "code",
   "execution_count": 24,
   "id": "27892ae7-700f-4bdb-a2ba-bac75e18ff20",
   "metadata": {
    "execution": {
     "iopub.execute_input": "2025-07-24T13:16:39.241511Z",
     "iopub.status.busy": "2025-07-24T13:16:39.240497Z",
     "iopub.status.idle": "2025-07-24T13:16:39.253109Z",
     "shell.execute_reply": "2025-07-24T13:16:39.250577Z",
     "shell.execute_reply.started": "2025-07-24T13:16:39.240497Z"
    }
   },
   "outputs": [],
   "source": [
    "data = data.dropna(how='all', axis=1)"
   ]
  },
  {
   "cell_type": "code",
   "execution_count": 25,
   "id": "a9d12e36-a5f7-45cd-91ec-84dc4f71cb7e",
   "metadata": {
    "execution": {
     "iopub.execute_input": "2025-07-24T13:16:40.100381Z",
     "iopub.status.busy": "2025-07-24T13:16:40.100381Z",
     "iopub.status.idle": "2025-07-24T13:16:40.150281Z",
     "shell.execute_reply": "2025-07-24T13:16:40.148180Z",
     "shell.execute_reply.started": "2025-07-24T13:16:40.100381Z"
    }
   },
   "outputs": [
    {
     "data": {
      "text/html": [
       "<div>\n",
       "<style scoped>\n",
       "    .dataframe tbody tr th:only-of-type {\n",
       "        vertical-align: middle;\n",
       "    }\n",
       "\n",
       "    .dataframe tbody tr th {\n",
       "        vertical-align: top;\n",
       "    }\n",
       "\n",
       "    .dataframe thead th {\n",
       "        text-align: right;\n",
       "    }\n",
       "</style>\n",
       "<table border=\"1\" class=\"dataframe\">\n",
       "  <thead>\n",
       "    <tr style=\"text-align: right;\">\n",
       "      <th></th>\n",
       "      <th>taille</th>\n",
       "      <th>age</th>\n",
       "      <th>weight</th>\n",
       "      <th>sex</th>\n",
       "      <th>tour_de_cheville</th>\n",
       "      <th>longueur_du_bras</th>\n",
       "      <th>largeur_du_dos</th>\n",
       "      <th>tour_de_poitrine</th>\n",
       "      <th>hauteur_de_poitrine</th>\n",
       "      <th>hauteur_d_entrejambe</th>\n",
       "      <th>...</th>\n",
       "      <th>largeur_d_epaule</th>\n",
       "      <th>hauteur_des_epaules</th>\n",
       "      <th>largeur_des_epaules_a_l_horizontales</th>\n",
       "      <th>longueur_de_la_colonne_vertebrale_jusqu_au_poignet</th>\n",
       "      <th>tour_de_cuisse</th>\n",
       "      <th>tour_de_taille</th>\n",
       "      <th>hauteur_de_la_taille</th>\n",
       "      <th>categorie_ventre</th>\n",
       "      <th>categorie_torse</th>\n",
       "      <th>categorie_cuisses</th>\n",
       "    </tr>\n",
       "  </thead>\n",
       "  <tbody>\n",
       "    <tr>\n",
       "      <th>106</th>\n",
       "      <td>174.4980</td>\n",
       "      <td>19.0</td>\n",
       "      <td>66.451228</td>\n",
       "      <td>1.0</td>\n",
       "      <td>24.7904</td>\n",
       "      <td>60.2996</td>\n",
       "      <td>40.4876</td>\n",
       "      <td>94.9960</td>\n",
       "      <td>126.7968</td>\n",
       "      <td>80.0100</td>\n",
       "      <td>...</td>\n",
       "      <td>40.4876</td>\n",
       "      <td>142.7480</td>\n",
       "      <td>47.0916</td>\n",
       "      <td>82.6008</td>\n",
       "      <td>57.6072</td>\n",
       "      <td>74.5998</td>\n",
       "      <td>102.3874</td>\n",
       "      <td>plat</td>\n",
       "      <td>moyen</td>\n",
       "      <td>moyennes</td>\n",
       "    </tr>\n",
       "    <tr>\n",
       "      <th>4438</th>\n",
       "      <td>179.0954</td>\n",
       "      <td>32.0</td>\n",
       "      <td>90.491604</td>\n",
       "      <td>1.0</td>\n",
       "      <td>25.7048</td>\n",
       "      <td>62.5094</td>\n",
       "      <td>42.7990</td>\n",
       "      <td>108.5088</td>\n",
       "      <td>129.7940</td>\n",
       "      <td>79.0956</td>\n",
       "      <td>...</td>\n",
       "      <td>42.7990</td>\n",
       "      <td>148.1963</td>\n",
       "      <td>56.1086</td>\n",
       "      <td>83.6930</td>\n",
       "      <td>62.9920</td>\n",
       "      <td>89.8906</td>\n",
       "      <td>105.7910</td>\n",
       "      <td>moyen</td>\n",
       "      <td>moyen</td>\n",
       "      <td>larges</td>\n",
       "    </tr>\n",
       "    <tr>\n",
       "      <th>412</th>\n",
       "      <td>172.5930</td>\n",
       "      <td>59.0</td>\n",
       "      <td>76.883844</td>\n",
       "      <td>1.0</td>\n",
       "      <td>26.6954</td>\n",
       "      <td>62.9920</td>\n",
       "      <td>42.1386</td>\n",
       "      <td>97.7900</td>\n",
       "      <td>125.6030</td>\n",
       "      <td>76.2000</td>\n",
       "      <td>...</td>\n",
       "      <td>42.1386</td>\n",
       "      <td>140.9065</td>\n",
       "      <td>47.5996</td>\n",
       "      <td>84.2010</td>\n",
       "      <td>55.7022</td>\n",
       "      <td>84.6074</td>\n",
       "      <td>103.5050</td>\n",
       "      <td>moyen</td>\n",
       "      <td>moyen</td>\n",
       "      <td>moyennes</td>\n",
       "    </tr>\n",
       "    <tr>\n",
       "      <th>4382</th>\n",
       "      <td>177.2920</td>\n",
       "      <td>41.0</td>\n",
       "      <td>71.894332</td>\n",
       "      <td>1.0</td>\n",
       "      <td>26.8986</td>\n",
       "      <td>60.9092</td>\n",
       "      <td>41.4020</td>\n",
       "      <td>89.6874</td>\n",
       "      <td>125.8062</td>\n",
       "      <td>78.5876</td>\n",
       "      <td>...</td>\n",
       "      <td>41.4020</td>\n",
       "      <td>141.5923</td>\n",
       "      <td>45.5930</td>\n",
       "      <td>82.8040</td>\n",
       "      <td>56.2102</td>\n",
       "      <td>71.9074</td>\n",
       "      <td>107.1118</td>\n",
       "      <td>plat</td>\n",
       "      <td>moyen</td>\n",
       "      <td>fines</td>\n",
       "    </tr>\n",
       "    <tr>\n",
       "      <th>2717</th>\n",
       "      <td>177.4952</td>\n",
       "      <td>32.0</td>\n",
       "      <td>106.367324</td>\n",
       "      <td>1.0</td>\n",
       "      <td>27.3050</td>\n",
       "      <td>65.9892</td>\n",
       "      <td>40.4876</td>\n",
       "      <td>118.2116</td>\n",
       "      <td>127.6096</td>\n",
       "      <td>78.7908</td>\n",
       "      <td>...</td>\n",
       "      <td>40.4876</td>\n",
       "      <td>145.0086</td>\n",
       "      <td>54.6100</td>\n",
       "      <td>86.3092</td>\n",
       "      <td>73.5076</td>\n",
       "      <td>104.5972</td>\n",
       "      <td>99.9998</td>\n",
       "      <td>rond</td>\n",
       "      <td>moyen</td>\n",
       "      <td>larges</td>\n",
       "    </tr>\n",
       "  </tbody>\n",
       "</table>\n",
       "<p>5 rows × 25 columns</p>\n",
       "</div>"
      ],
      "text/plain": [
       "        taille   age      weight  sex  tour_de_cheville  longueur_du_bras  \\\n",
       "106   174.4980  19.0   66.451228  1.0           24.7904           60.2996   \n",
       "4438  179.0954  32.0   90.491604  1.0           25.7048           62.5094   \n",
       "412   172.5930  59.0   76.883844  1.0           26.6954           62.9920   \n",
       "4382  177.2920  41.0   71.894332  1.0           26.8986           60.9092   \n",
       "2717  177.4952  32.0  106.367324  1.0           27.3050           65.9892   \n",
       "\n",
       "      largeur_du_dos  tour_de_poitrine  hauteur_de_poitrine  \\\n",
       "106          40.4876           94.9960             126.7968   \n",
       "4438         42.7990          108.5088             129.7940   \n",
       "412          42.1386           97.7900             125.6030   \n",
       "4382         41.4020           89.6874             125.8062   \n",
       "2717         40.4876          118.2116             127.6096   \n",
       "\n",
       "      hauteur_d_entrejambe  ...  largeur_d_epaule  hauteur_des_epaules  \\\n",
       "106                80.0100  ...           40.4876             142.7480   \n",
       "4438               79.0956  ...           42.7990             148.1963   \n",
       "412                76.2000  ...           42.1386             140.9065   \n",
       "4382               78.5876  ...           41.4020             141.5923   \n",
       "2717               78.7908  ...           40.4876             145.0086   \n",
       "\n",
       "      largeur_des_epaules_a_l_horizontales  \\\n",
       "106                                47.0916   \n",
       "4438                               56.1086   \n",
       "412                                47.5996   \n",
       "4382                               45.5930   \n",
       "2717                               54.6100   \n",
       "\n",
       "      longueur_de_la_colonne_vertebrale_jusqu_au_poignet  tour_de_cuisse  \\\n",
       "106                                             82.6008          57.6072   \n",
       "4438                                            83.6930          62.9920   \n",
       "412                                             84.2010          55.7022   \n",
       "4382                                            82.8040          56.2102   \n",
       "2717                                            86.3092          73.5076   \n",
       "\n",
       "      tour_de_taille  hauteur_de_la_taille  categorie_ventre  categorie_torse  \\\n",
       "106          74.5998              102.3874              plat            moyen   \n",
       "4438         89.8906              105.7910             moyen            moyen   \n",
       "412          84.6074              103.5050             moyen            moyen   \n",
       "4382         71.9074              107.1118              plat            moyen   \n",
       "2717        104.5972               99.9998              rond            moyen   \n",
       "\n",
       "      categorie_cuisses  \n",
       "106            moyennes  \n",
       "4438             larges  \n",
       "412            moyennes  \n",
       "4382              fines  \n",
       "2717             larges  \n",
       "\n",
       "[5 rows x 25 columns]"
      ]
     },
     "execution_count": 25,
     "metadata": {},
     "output_type": "execute_result"
    }
   ],
   "source": [
    "data.head()"
   ]
  },
  {
   "cell_type": "code",
   "execution_count": 26,
   "id": "3f555af4-44fc-4eff-8127-1bf0dbb41d68",
   "metadata": {
    "execution": {
     "iopub.execute_input": "2025-07-24T13:16:42.889573Z",
     "iopub.status.busy": "2025-07-24T13:16:42.888567Z",
     "iopub.status.idle": "2025-07-24T13:16:42.965222Z",
     "shell.execute_reply": "2025-07-24T13:16:42.963078Z",
     "shell.execute_reply.started": "2025-07-24T13:16:42.889573Z"
    }
   },
   "outputs": [
    {
     "data": {
      "text/html": [
       "<div>\n",
       "<style scoped>\n",
       "    .dataframe tbody tr th:only-of-type {\n",
       "        vertical-align: middle;\n",
       "    }\n",
       "\n",
       "    .dataframe tbody tr th {\n",
       "        vertical-align: top;\n",
       "    }\n",
       "\n",
       "    .dataframe thead th {\n",
       "        text-align: right;\n",
       "    }\n",
       "</style>\n",
       "<table border=\"1\" class=\"dataframe\">\n",
       "  <thead>\n",
       "    <tr style=\"text-align: right;\">\n",
       "      <th></th>\n",
       "      <th>taille</th>\n",
       "      <th>age</th>\n",
       "      <th>weight</th>\n",
       "      <th>sex</th>\n",
       "      <th>tour_de_cheville</th>\n",
       "      <th>longueur_du_bras</th>\n",
       "      <th>largeur_du_dos</th>\n",
       "      <th>tour_de_poitrine</th>\n",
       "      <th>hauteur_de_poitrine</th>\n",
       "      <th>hauteur_d_entrejambe</th>\n",
       "      <th>...</th>\n",
       "      <th>largeur_d_epaule</th>\n",
       "      <th>hauteur_des_epaules</th>\n",
       "      <th>largeur_des_epaules_a_l_horizontales</th>\n",
       "      <th>longueur_de_la_colonne_vertebrale_jusqu_au_poignet</th>\n",
       "      <th>tour_de_cuisse</th>\n",
       "      <th>tour_de_taille</th>\n",
       "      <th>hauteur_de_la_taille</th>\n",
       "      <th>categorie_ventre</th>\n",
       "      <th>categorie_torse</th>\n",
       "      <th>categorie_cuisses</th>\n",
       "    </tr>\n",
       "  </thead>\n",
       "  <tbody>\n",
       "    <tr>\n",
       "      <th>106</th>\n",
       "      <td>174.4980</td>\n",
       "      <td>19.0</td>\n",
       "      <td>66.451228</td>\n",
       "      <td>1.0</td>\n",
       "      <td>24.7904</td>\n",
       "      <td>60.2996</td>\n",
       "      <td>40.4876</td>\n",
       "      <td>94.9960</td>\n",
       "      <td>126.7968</td>\n",
       "      <td>80.0100</td>\n",
       "      <td>...</td>\n",
       "      <td>40.4876</td>\n",
       "      <td>142.7480</td>\n",
       "      <td>47.0916</td>\n",
       "      <td>82.6008</td>\n",
       "      <td>57.6072</td>\n",
       "      <td>74.5998</td>\n",
       "      <td>102.3874</td>\n",
       "      <td>plat</td>\n",
       "      <td>moyen</td>\n",
       "      <td>moyennes</td>\n",
       "    </tr>\n",
       "    <tr>\n",
       "      <th>4438</th>\n",
       "      <td>179.0954</td>\n",
       "      <td>32.0</td>\n",
       "      <td>90.491604</td>\n",
       "      <td>1.0</td>\n",
       "      <td>25.7048</td>\n",
       "      <td>62.5094</td>\n",
       "      <td>42.7990</td>\n",
       "      <td>108.5088</td>\n",
       "      <td>129.7940</td>\n",
       "      <td>79.0956</td>\n",
       "      <td>...</td>\n",
       "      <td>42.7990</td>\n",
       "      <td>148.1963</td>\n",
       "      <td>56.1086</td>\n",
       "      <td>83.6930</td>\n",
       "      <td>62.9920</td>\n",
       "      <td>89.8906</td>\n",
       "      <td>105.7910</td>\n",
       "      <td>moyen</td>\n",
       "      <td>moyen</td>\n",
       "      <td>larges</td>\n",
       "    </tr>\n",
       "    <tr>\n",
       "      <th>412</th>\n",
       "      <td>172.5930</td>\n",
       "      <td>59.0</td>\n",
       "      <td>76.883844</td>\n",
       "      <td>1.0</td>\n",
       "      <td>26.6954</td>\n",
       "      <td>62.9920</td>\n",
       "      <td>42.1386</td>\n",
       "      <td>97.7900</td>\n",
       "      <td>125.6030</td>\n",
       "      <td>76.2000</td>\n",
       "      <td>...</td>\n",
       "      <td>42.1386</td>\n",
       "      <td>140.9065</td>\n",
       "      <td>47.5996</td>\n",
       "      <td>84.2010</td>\n",
       "      <td>55.7022</td>\n",
       "      <td>84.6074</td>\n",
       "      <td>103.5050</td>\n",
       "      <td>moyen</td>\n",
       "      <td>moyen</td>\n",
       "      <td>moyennes</td>\n",
       "    </tr>\n",
       "    <tr>\n",
       "      <th>4382</th>\n",
       "      <td>177.2920</td>\n",
       "      <td>41.0</td>\n",
       "      <td>71.894332</td>\n",
       "      <td>1.0</td>\n",
       "      <td>26.8986</td>\n",
       "      <td>60.9092</td>\n",
       "      <td>41.4020</td>\n",
       "      <td>89.6874</td>\n",
       "      <td>125.8062</td>\n",
       "      <td>78.5876</td>\n",
       "      <td>...</td>\n",
       "      <td>41.4020</td>\n",
       "      <td>141.5923</td>\n",
       "      <td>45.5930</td>\n",
       "      <td>82.8040</td>\n",
       "      <td>56.2102</td>\n",
       "      <td>71.9074</td>\n",
       "      <td>107.1118</td>\n",
       "      <td>plat</td>\n",
       "      <td>moyen</td>\n",
       "      <td>fines</td>\n",
       "    </tr>\n",
       "    <tr>\n",
       "      <th>2717</th>\n",
       "      <td>177.4952</td>\n",
       "      <td>32.0</td>\n",
       "      <td>106.367324</td>\n",
       "      <td>1.0</td>\n",
       "      <td>27.3050</td>\n",
       "      <td>65.9892</td>\n",
       "      <td>40.4876</td>\n",
       "      <td>118.2116</td>\n",
       "      <td>127.6096</td>\n",
       "      <td>78.7908</td>\n",
       "      <td>...</td>\n",
       "      <td>40.4876</td>\n",
       "      <td>145.0086</td>\n",
       "      <td>54.6100</td>\n",
       "      <td>86.3092</td>\n",
       "      <td>73.5076</td>\n",
       "      <td>104.5972</td>\n",
       "      <td>99.9998</td>\n",
       "      <td>rond</td>\n",
       "      <td>moyen</td>\n",
       "      <td>larges</td>\n",
       "    </tr>\n",
       "  </tbody>\n",
       "</table>\n",
       "<p>5 rows × 25 columns</p>\n",
       "</div>"
      ],
      "text/plain": [
       "        taille   age      weight  sex  tour_de_cheville  longueur_du_bras  \\\n",
       "106   174.4980  19.0   66.451228  1.0           24.7904           60.2996   \n",
       "4438  179.0954  32.0   90.491604  1.0           25.7048           62.5094   \n",
       "412   172.5930  59.0   76.883844  1.0           26.6954           62.9920   \n",
       "4382  177.2920  41.0   71.894332  1.0           26.8986           60.9092   \n",
       "2717  177.4952  32.0  106.367324  1.0           27.3050           65.9892   \n",
       "\n",
       "      largeur_du_dos  tour_de_poitrine  hauteur_de_poitrine  \\\n",
       "106          40.4876           94.9960             126.7968   \n",
       "4438         42.7990          108.5088             129.7940   \n",
       "412          42.1386           97.7900             125.6030   \n",
       "4382         41.4020           89.6874             125.8062   \n",
       "2717         40.4876          118.2116             127.6096   \n",
       "\n",
       "      hauteur_d_entrejambe  ...  largeur_d_epaule  hauteur_des_epaules  \\\n",
       "106                80.0100  ...           40.4876             142.7480   \n",
       "4438               79.0956  ...           42.7990             148.1963   \n",
       "412                76.2000  ...           42.1386             140.9065   \n",
       "4382               78.5876  ...           41.4020             141.5923   \n",
       "2717               78.7908  ...           40.4876             145.0086   \n",
       "\n",
       "      largeur_des_epaules_a_l_horizontales  \\\n",
       "106                                47.0916   \n",
       "4438                               56.1086   \n",
       "412                                47.5996   \n",
       "4382                               45.5930   \n",
       "2717                               54.6100   \n",
       "\n",
       "      longueur_de_la_colonne_vertebrale_jusqu_au_poignet  tour_de_cuisse  \\\n",
       "106                                             82.6008          57.6072   \n",
       "4438                                            83.6930          62.9920   \n",
       "412                                             84.2010          55.7022   \n",
       "4382                                            82.8040          56.2102   \n",
       "2717                                            86.3092          73.5076   \n",
       "\n",
       "      tour_de_taille  hauteur_de_la_taille  categorie_ventre  categorie_torse  \\\n",
       "106          74.5998              102.3874              plat            moyen   \n",
       "4438         89.8906              105.7910             moyen            moyen   \n",
       "412          84.6074              103.5050             moyen            moyen   \n",
       "4382         71.9074              107.1118              plat            moyen   \n",
       "2717        104.5972               99.9998              rond            moyen   \n",
       "\n",
       "      categorie_cuisses  \n",
       "106            moyennes  \n",
       "4438             larges  \n",
       "412            moyennes  \n",
       "4382              fines  \n",
       "2717             larges  \n",
       "\n",
       "[5 rows x 25 columns]"
      ]
     },
     "execution_count": 26,
     "metadata": {},
     "output_type": "execute_result"
    }
   ],
   "source": [
    "import pandas as pd\n",
    "import numpy as np\n",
    "\n",
    "def remplacer_nan_par_moyenne(df):\n",
    "    for col in df.columns:\n",
    "        if pd.api.types.is_numeric_dtype(df[col]):\n",
    "            moyenne = df[col].mean(skipna=True)\n",
    "            df[col] = df[col].fillna(moyenne)\n",
    "    return df\n",
    "\n",
    "data = remplacer_nan_par_moyenne(data)\n",
    "data.head()"
   ]
  },
  {
   "cell_type": "code",
   "execution_count": 27,
   "id": "862ff022-679c-4408-8896-1b6807ce6050",
   "metadata": {
    "execution": {
     "iopub.execute_input": "2025-07-24T13:16:47.495356Z",
     "iopub.status.busy": "2025-07-24T13:16:47.494314Z",
     "iopub.status.idle": "2025-07-24T13:16:51.122598Z",
     "shell.execute_reply": "2025-07-24T13:16:51.121408Z",
     "shell.execute_reply.started": "2025-07-24T13:16:47.495356Z"
    }
   },
   "outputs": [
    {
     "name": "stdout",
     "output_type": "stream",
     "text": [
      "Valeurs uniques pour 'categorie_ventre' : ['plat' 'moyen' 'rond']\n",
      "Valeurs uniques pour 'categorie_torse' : ['moyen' 'large' 'fin']\n",
      "Valeurs uniques pour 'categorie_cuisses' : ['moyennes' 'larges' 'fines']\n"
     ]
    },
    {
     "data": {
      "text/html": [
       "<div>\n",
       "<style scoped>\n",
       "    .dataframe tbody tr th:only-of-type {\n",
       "        vertical-align: middle;\n",
       "    }\n",
       "\n",
       "    .dataframe tbody tr th {\n",
       "        vertical-align: top;\n",
       "    }\n",
       "\n",
       "    .dataframe thead th {\n",
       "        text-align: right;\n",
       "    }\n",
       "</style>\n",
       "<table border=\"1\" class=\"dataframe\">\n",
       "  <thead>\n",
       "    <tr style=\"text-align: right;\">\n",
       "      <th></th>\n",
       "      <th>taille</th>\n",
       "      <th>age</th>\n",
       "      <th>weight</th>\n",
       "      <th>sex</th>\n",
       "      <th>tour_de_cheville</th>\n",
       "      <th>longueur_du_bras</th>\n",
       "      <th>largeur_du_dos</th>\n",
       "      <th>tour_de_poitrine</th>\n",
       "      <th>hauteur_de_poitrine</th>\n",
       "      <th>hauteur_d_entrejambe</th>\n",
       "      <th>...</th>\n",
       "      <th>hauteur_de_la_taille</th>\n",
       "      <th>categorie_ventre_moyen</th>\n",
       "      <th>categorie_ventre_plat</th>\n",
       "      <th>categorie_ventre_rond</th>\n",
       "      <th>categorie_torse_fin</th>\n",
       "      <th>categorie_torse_large</th>\n",
       "      <th>categorie_torse_moyen</th>\n",
       "      <th>categorie_cuisses_fines</th>\n",
       "      <th>categorie_cuisses_larges</th>\n",
       "      <th>categorie_cuisses_moyennes</th>\n",
       "    </tr>\n",
       "  </thead>\n",
       "  <tbody>\n",
       "    <tr>\n",
       "      <th>106</th>\n",
       "      <td>174.4980</td>\n",
       "      <td>19.0</td>\n",
       "      <td>66.451228</td>\n",
       "      <td>1.0</td>\n",
       "      <td>24.7904</td>\n",
       "      <td>60.2996</td>\n",
       "      <td>40.4876</td>\n",
       "      <td>94.9960</td>\n",
       "      <td>126.7968</td>\n",
       "      <td>80.0100</td>\n",
       "      <td>...</td>\n",
       "      <td>102.3874</td>\n",
       "      <td>0.0</td>\n",
       "      <td>1.0</td>\n",
       "      <td>0.0</td>\n",
       "      <td>0.0</td>\n",
       "      <td>0.0</td>\n",
       "      <td>1.0</td>\n",
       "      <td>0.0</td>\n",
       "      <td>0.0</td>\n",
       "      <td>1.0</td>\n",
       "    </tr>\n",
       "    <tr>\n",
       "      <th>4438</th>\n",
       "      <td>179.0954</td>\n",
       "      <td>32.0</td>\n",
       "      <td>90.491604</td>\n",
       "      <td>1.0</td>\n",
       "      <td>25.7048</td>\n",
       "      <td>62.5094</td>\n",
       "      <td>42.7990</td>\n",
       "      <td>108.5088</td>\n",
       "      <td>129.7940</td>\n",
       "      <td>79.0956</td>\n",
       "      <td>...</td>\n",
       "      <td>105.7910</td>\n",
       "      <td>1.0</td>\n",
       "      <td>0.0</td>\n",
       "      <td>0.0</td>\n",
       "      <td>0.0</td>\n",
       "      <td>0.0</td>\n",
       "      <td>1.0</td>\n",
       "      <td>0.0</td>\n",
       "      <td>1.0</td>\n",
       "      <td>0.0</td>\n",
       "    </tr>\n",
       "    <tr>\n",
       "      <th>412</th>\n",
       "      <td>172.5930</td>\n",
       "      <td>59.0</td>\n",
       "      <td>76.883844</td>\n",
       "      <td>1.0</td>\n",
       "      <td>26.6954</td>\n",
       "      <td>62.9920</td>\n",
       "      <td>42.1386</td>\n",
       "      <td>97.7900</td>\n",
       "      <td>125.6030</td>\n",
       "      <td>76.2000</td>\n",
       "      <td>...</td>\n",
       "      <td>103.5050</td>\n",
       "      <td>1.0</td>\n",
       "      <td>0.0</td>\n",
       "      <td>0.0</td>\n",
       "      <td>0.0</td>\n",
       "      <td>0.0</td>\n",
       "      <td>1.0</td>\n",
       "      <td>0.0</td>\n",
       "      <td>0.0</td>\n",
       "      <td>1.0</td>\n",
       "    </tr>\n",
       "    <tr>\n",
       "      <th>4382</th>\n",
       "      <td>177.2920</td>\n",
       "      <td>41.0</td>\n",
       "      <td>71.894332</td>\n",
       "      <td>1.0</td>\n",
       "      <td>26.8986</td>\n",
       "      <td>60.9092</td>\n",
       "      <td>41.4020</td>\n",
       "      <td>89.6874</td>\n",
       "      <td>125.8062</td>\n",
       "      <td>78.5876</td>\n",
       "      <td>...</td>\n",
       "      <td>107.1118</td>\n",
       "      <td>0.0</td>\n",
       "      <td>1.0</td>\n",
       "      <td>0.0</td>\n",
       "      <td>0.0</td>\n",
       "      <td>0.0</td>\n",
       "      <td>1.0</td>\n",
       "      <td>1.0</td>\n",
       "      <td>0.0</td>\n",
       "      <td>0.0</td>\n",
       "    </tr>\n",
       "    <tr>\n",
       "      <th>2717</th>\n",
       "      <td>177.4952</td>\n",
       "      <td>32.0</td>\n",
       "      <td>106.367324</td>\n",
       "      <td>1.0</td>\n",
       "      <td>27.3050</td>\n",
       "      <td>65.9892</td>\n",
       "      <td>40.4876</td>\n",
       "      <td>118.2116</td>\n",
       "      <td>127.6096</td>\n",
       "      <td>78.7908</td>\n",
       "      <td>...</td>\n",
       "      <td>99.9998</td>\n",
       "      <td>0.0</td>\n",
       "      <td>0.0</td>\n",
       "      <td>1.0</td>\n",
       "      <td>0.0</td>\n",
       "      <td>0.0</td>\n",
       "      <td>1.0</td>\n",
       "      <td>0.0</td>\n",
       "      <td>1.0</td>\n",
       "      <td>0.0</td>\n",
       "    </tr>\n",
       "  </tbody>\n",
       "</table>\n",
       "<p>5 rows × 31 columns</p>\n",
       "</div>"
      ],
      "text/plain": [
       "        taille   age      weight  sex  tour_de_cheville  longueur_du_bras  \\\n",
       "106   174.4980  19.0   66.451228  1.0           24.7904           60.2996   \n",
       "4438  179.0954  32.0   90.491604  1.0           25.7048           62.5094   \n",
       "412   172.5930  59.0   76.883844  1.0           26.6954           62.9920   \n",
       "4382  177.2920  41.0   71.894332  1.0           26.8986           60.9092   \n",
       "2717  177.4952  32.0  106.367324  1.0           27.3050           65.9892   \n",
       "\n",
       "      largeur_du_dos  tour_de_poitrine  hauteur_de_poitrine  \\\n",
       "106          40.4876           94.9960             126.7968   \n",
       "4438         42.7990          108.5088             129.7940   \n",
       "412          42.1386           97.7900             125.6030   \n",
       "4382         41.4020           89.6874             125.8062   \n",
       "2717         40.4876          118.2116             127.6096   \n",
       "\n",
       "      hauteur_d_entrejambe  ...  hauteur_de_la_taille  categorie_ventre_moyen  \\\n",
       "106                80.0100  ...              102.3874                     0.0   \n",
       "4438               79.0956  ...              105.7910                     1.0   \n",
       "412                76.2000  ...              103.5050                     1.0   \n",
       "4382               78.5876  ...              107.1118                     0.0   \n",
       "2717               78.7908  ...               99.9998                     0.0   \n",
       "\n",
       "      categorie_ventre_plat  categorie_ventre_rond  categorie_torse_fin  \\\n",
       "106                     1.0                    0.0                  0.0   \n",
       "4438                    0.0                    0.0                  0.0   \n",
       "412                     0.0                    0.0                  0.0   \n",
       "4382                    1.0                    0.0                  0.0   \n",
       "2717                    0.0                    1.0                  0.0   \n",
       "\n",
       "      categorie_torse_large  categorie_torse_moyen  categorie_cuisses_fines  \\\n",
       "106                     0.0                    1.0                      0.0   \n",
       "4438                    0.0                    1.0                      0.0   \n",
       "412                     0.0                    1.0                      0.0   \n",
       "4382                    0.0                    1.0                      1.0   \n",
       "2717                    0.0                    1.0                      0.0   \n",
       "\n",
       "      categorie_cuisses_larges  categorie_cuisses_moyennes  \n",
       "106                        0.0                         1.0  \n",
       "4438                       1.0                         0.0  \n",
       "412                        0.0                         1.0  \n",
       "4382                       0.0                         0.0  \n",
       "2717                       1.0                         0.0  \n",
       "\n",
       "[5 rows x 31 columns]"
      ]
     },
     "execution_count": 27,
     "metadata": {},
     "output_type": "execute_result"
    }
   ],
   "source": [
    "from sklearn.preprocessing import OneHotEncoder\n",
    "\n",
    "# Colonnes à encoder\n",
    "colonnes_cat = ['categorie_ventre', 'categorie_torse', 'categorie_cuisses']\n",
    "\n",
    "# Afficher les valeurs uniques pour vérification\n",
    "for col in colonnes_cat:\n",
    "    print(f\"Valeurs uniques pour '{col}' :\", data[col].unique())\n",
    "\n",
    "# Instancier OneHotEncoder avec drop='if_binary' (garde 1 seule colonne pour les colonnes binaires)\n",
    "ohe = OneHotEncoder(sparse_output=False, drop='if_binary')\n",
    "\n",
    "# Fit + transform sur les colonnes sélectionnées\n",
    "encoded_array = ohe.fit_transform(data[colonnes_cat])\n",
    "\n",
    "# Obtenir les noms des nouvelles colonnes générées\n",
    "encoded_col_names = ohe.get_feature_names_out(colonnes_cat)\n",
    "\n",
    "# Créer un DataFrame avec les colonnes encodées\n",
    "df_encoded = pd.DataFrame(encoded_array, columns=encoded_col_names, index=data.index)\n",
    "\n",
    "# Fusionner avec le DataFrame d’origine\n",
    "mesure_sc = pd.concat([data.drop(columns=colonnes_cat), df_encoded], axis=1)\n",
    "\n",
    "# Aperçu du DataFrame final\n",
    "mesure_sc.head()\n"
   ]
  },
  {
   "cell_type": "code",
   "execution_count": 28,
   "id": "740fc9fc-4956-4884-a950-1340ab2263de",
   "metadata": {
    "execution": {
     "iopub.execute_input": "2025-07-24T13:16:56.284614Z",
     "iopub.status.busy": "2025-07-24T13:16:56.283616Z",
     "iopub.status.idle": "2025-07-24T13:16:56.376563Z",
     "shell.execute_reply": "2025-07-24T13:16:56.374267Z",
     "shell.execute_reply.started": "2025-07-24T13:16:56.284614Z"
    }
   },
   "outputs": [
    {
     "data": {
      "text/html": [
       "<div>\n",
       "<style scoped>\n",
       "    .dataframe tbody tr th:only-of-type {\n",
       "        vertical-align: middle;\n",
       "    }\n",
       "\n",
       "    .dataframe tbody tr th {\n",
       "        vertical-align: top;\n",
       "    }\n",
       "\n",
       "    .dataframe thead th {\n",
       "        text-align: right;\n",
       "    }\n",
       "</style>\n",
       "<table border=\"1\" class=\"dataframe\">\n",
       "  <thead>\n",
       "    <tr style=\"text-align: right;\">\n",
       "      <th></th>\n",
       "      <th>taille</th>\n",
       "      <th>age</th>\n",
       "      <th>weight</th>\n",
       "      <th>sex</th>\n",
       "      <th>tour_de_cheville</th>\n",
       "      <th>longueur_du_bras</th>\n",
       "      <th>largeur_du_dos</th>\n",
       "      <th>tour_de_poitrine</th>\n",
       "      <th>hauteur_de_poitrine</th>\n",
       "      <th>hauteur_d_entrejambe</th>\n",
       "      <th>...</th>\n",
       "      <th>hauteur_de_la_taille</th>\n",
       "      <th>categorie_ventre_moyen</th>\n",
       "      <th>categorie_ventre_plat</th>\n",
       "      <th>categorie_ventre_rond</th>\n",
       "      <th>categorie_torse_fin</th>\n",
       "      <th>categorie_torse_large</th>\n",
       "      <th>categorie_torse_moyen</th>\n",
       "      <th>categorie_cuisses_fines</th>\n",
       "      <th>categorie_cuisses_larges</th>\n",
       "      <th>categorie_cuisses_moyennes</th>\n",
       "    </tr>\n",
       "  </thead>\n",
       "  <tbody>\n",
       "    <tr>\n",
       "      <th>106</th>\n",
       "      <td>-0.270023</td>\n",
       "      <td>-0.865385</td>\n",
       "      <td>-0.660647</td>\n",
       "      <td>0.0</td>\n",
       "      <td>-0.898734</td>\n",
       "      <td>60.2996</td>\n",
       "      <td>-0.319549</td>\n",
       "      <td>-0.408829</td>\n",
       "      <td>-0.216058</td>\n",
       "      <td>-0.119048</td>\n",
       "      <td>...</td>\n",
       "      <td>-0.205212</td>\n",
       "      <td>0.0</td>\n",
       "      <td>1.0</td>\n",
       "      <td>0.0</td>\n",
       "      <td>0.0</td>\n",
       "      <td>0.0</td>\n",
       "      <td>1.0</td>\n",
       "      <td>0.0</td>\n",
       "      <td>0.0</td>\n",
       "      <td>0.0</td>\n",
       "    </tr>\n",
       "    <tr>\n",
       "      <th>4438</th>\n",
       "      <td>0.144165</td>\n",
       "      <td>-0.240385</td>\n",
       "      <td>0.506496</td>\n",
       "      <td>0.0</td>\n",
       "      <td>-0.443038</td>\n",
       "      <td>62.5094</td>\n",
       "      <td>0.420288</td>\n",
       "      <td>0.612284</td>\n",
       "      <td>0.128467</td>\n",
       "      <td>-0.241497</td>\n",
       "      <td>...</td>\n",
       "      <td>0.231270</td>\n",
       "      <td>1.0</td>\n",
       "      <td>0.0</td>\n",
       "      <td>0.0</td>\n",
       "      <td>0.0</td>\n",
       "      <td>0.0</td>\n",
       "      <td>1.0</td>\n",
       "      <td>0.0</td>\n",
       "      <td>1.0</td>\n",
       "      <td>-1.0</td>\n",
       "    </tr>\n",
       "    <tr>\n",
       "      <th>412</th>\n",
       "      <td>-0.441648</td>\n",
       "      <td>1.057692</td>\n",
       "      <td>-0.154151</td>\n",
       "      <td>0.0</td>\n",
       "      <td>0.050633</td>\n",
       "      <td>62.9920</td>\n",
       "      <td>0.208906</td>\n",
       "      <td>-0.197697</td>\n",
       "      <td>-0.353285</td>\n",
       "      <td>-0.629252</td>\n",
       "      <td>...</td>\n",
       "      <td>-0.061889</td>\n",
       "      <td>1.0</td>\n",
       "      <td>0.0</td>\n",
       "      <td>0.0</td>\n",
       "      <td>0.0</td>\n",
       "      <td>0.0</td>\n",
       "      <td>1.0</td>\n",
       "      <td>0.0</td>\n",
       "      <td>0.0</td>\n",
       "      <td>0.0</td>\n",
       "    </tr>\n",
       "    <tr>\n",
       "      <th>4382</th>\n",
       "      <td>-0.018307</td>\n",
       "      <td>0.192308</td>\n",
       "      <td>-0.396388</td>\n",
       "      <td>0.0</td>\n",
       "      <td>0.151899</td>\n",
       "      <td>60.9092</td>\n",
       "      <td>-0.026867</td>\n",
       "      <td>-0.809981</td>\n",
       "      <td>-0.329927</td>\n",
       "      <td>-0.309524</td>\n",
       "      <td>...</td>\n",
       "      <td>0.400651</td>\n",
       "      <td>0.0</td>\n",
       "      <td>1.0</td>\n",
       "      <td>0.0</td>\n",
       "      <td>0.0</td>\n",
       "      <td>0.0</td>\n",
       "      <td>1.0</td>\n",
       "      <td>1.0</td>\n",
       "      <td>0.0</td>\n",
       "      <td>-1.0</td>\n",
       "    </tr>\n",
       "    <tr>\n",
       "      <th>2717</th>\n",
       "      <td>0.000000</td>\n",
       "      <td>-0.240385</td>\n",
       "      <td>1.277252</td>\n",
       "      <td>0.0</td>\n",
       "      <td>0.354430</td>\n",
       "      <td>65.9892</td>\n",
       "      <td>-0.319549</td>\n",
       "      <td>1.345489</td>\n",
       "      <td>-0.122628</td>\n",
       "      <td>-0.282313</td>\n",
       "      <td>...</td>\n",
       "      <td>-0.511401</td>\n",
       "      <td>0.0</td>\n",
       "      <td>0.0</td>\n",
       "      <td>1.0</td>\n",
       "      <td>0.0</td>\n",
       "      <td>0.0</td>\n",
       "      <td>1.0</td>\n",
       "      <td>0.0</td>\n",
       "      <td>1.0</td>\n",
       "      <td>-1.0</td>\n",
       "    </tr>\n",
       "  </tbody>\n",
       "</table>\n",
       "<p>5 rows × 31 columns</p>\n",
       "</div>"
      ],
      "text/plain": [
       "        taille       age    weight  sex  tour_de_cheville  longueur_du_bras  \\\n",
       "106  -0.270023 -0.865385 -0.660647  0.0         -0.898734           60.2996   \n",
       "4438  0.144165 -0.240385  0.506496  0.0         -0.443038           62.5094   \n",
       "412  -0.441648  1.057692 -0.154151  0.0          0.050633           62.9920   \n",
       "4382 -0.018307  0.192308 -0.396388  0.0          0.151899           60.9092   \n",
       "2717  0.000000 -0.240385  1.277252  0.0          0.354430           65.9892   \n",
       "\n",
       "      largeur_du_dos  tour_de_poitrine  hauteur_de_poitrine  \\\n",
       "106        -0.319549         -0.408829            -0.216058   \n",
       "4438        0.420288          0.612284             0.128467   \n",
       "412         0.208906         -0.197697            -0.353285   \n",
       "4382       -0.026867         -0.809981            -0.329927   \n",
       "2717       -0.319549          1.345489            -0.122628   \n",
       "\n",
       "      hauteur_d_entrejambe  ...  hauteur_de_la_taille  categorie_ventre_moyen  \\\n",
       "106              -0.119048  ...             -0.205212                     0.0   \n",
       "4438             -0.241497  ...              0.231270                     1.0   \n",
       "412              -0.629252  ...             -0.061889                     1.0   \n",
       "4382             -0.309524  ...              0.400651                     0.0   \n",
       "2717             -0.282313  ...             -0.511401                     0.0   \n",
       "\n",
       "      categorie_ventre_plat  categorie_ventre_rond  categorie_torse_fin  \\\n",
       "106                     1.0                    0.0                  0.0   \n",
       "4438                    0.0                    0.0                  0.0   \n",
       "412                     0.0                    0.0                  0.0   \n",
       "4382                    1.0                    0.0                  0.0   \n",
       "2717                    0.0                    1.0                  0.0   \n",
       "\n",
       "      categorie_torse_large  categorie_torse_moyen  categorie_cuisses_fines  \\\n",
       "106                     0.0                    1.0                      0.0   \n",
       "4438                    0.0                    1.0                      0.0   \n",
       "412                     0.0                    1.0                      0.0   \n",
       "4382                    0.0                    1.0                      1.0   \n",
       "2717                    0.0                    1.0                      0.0   \n",
       "\n",
       "      categorie_cuisses_larges  categorie_cuisses_moyennes  \n",
       "106                        0.0                         0.0  \n",
       "4438                       1.0                        -1.0  \n",
       "412                        0.0                         0.0  \n",
       "4382                       0.0                        -1.0  \n",
       "2717                       1.0                        -1.0  \n",
       "\n",
       "[5 rows x 31 columns]"
      ]
     },
     "execution_count": 28,
     "metadata": {},
     "output_type": "execute_result"
    }
   ],
   "source": [
    "from sklearn.preprocessing import RobustScaler\n",
    "\n",
    "# 🟡 Colonnes à exclure du scaling\n",
    "colonnes_a_exclure = [\n",
    "    'longueur_du_bras', 'longueur_bras_binaire', \n",
    "    'categorie_ventre', 'categorie_torse', 'categorie_cuisses',\n",
    "    'categorie_ventre_rond', 'categorie_torse_fin', \n",
    "    'categorie_torse_large', 'categorie_torse_moyen', \n",
    "    'categorie_cuisses_larges'\n",
    "]\n",
    "\n",
    "# 🟢 Colonnes à scaler (toutes les autres)\n",
    "colonnes_a_scaler = [col for col in mesure_sc.columns if col not in colonnes_a_exclure]\n",
    "\n",
    "# ⚙️ Instanciation et application du RobustScaler\n",
    "scaler = RobustScaler()\n",
    "df_scaled = mesure_sc.copy()\n",
    "df_scaled[colonnes_a_scaler] = scaler.fit_transform(df_scaled[colonnes_a_scaler])\n",
    "df_scaled.head()"
   ]
  },
  {
   "cell_type": "code",
   "execution_count": 22,
   "id": "5b09bda9-6818-4d83-a367-a84a54030e3e",
   "metadata": {
    "execution": {
     "iopub.execute_input": "2025-07-24T08:32:38.861913Z",
     "iopub.status.busy": "2025-07-24T08:32:38.859902Z",
     "iopub.status.idle": "2025-07-24T08:32:41.773147Z",
     "shell.execute_reply": "2025-07-24T08:32:41.769148Z",
     "shell.execute_reply.started": "2025-07-24T08:32:38.861913Z"
    }
   },
   "outputs": [
    {
     "name": "stdout",
     "output_type": "stream",
     "text": [
      "✅ Modèle entraîné pour sex — Score R² : 1.0000\n",
      "✅ Modèle entraîné pour tour_de_cheville — Score R² : 0.5767\n",
      "✅ Modèle entraîné pour longueur_du_bras — Score R² : 0.6075\n",
      "✅ Modèle entraîné pour largeur_du_dos — Score R² : 0.4207\n",
      "✅ Modèle entraîné pour tour_de_poitrine — Score R² : 0.9165\n",
      "✅ Modèle entraîné pour hauteur_de_poitrine — Score R² : 0.8919\n",
      "✅ Modèle entraîné pour hauteur_d_entrejambe — Score R² : 0.8111\n",
      "✅ Modèle entraîné pour longueur_avant — Score R² : 0.5121\n",
      "✅ Modèle entraîné pour largeur_des_hanches — Score R² : 0.6911\n",
      "✅ Modèle entraîné pour hauteur_des_hanches — Score R² : 0.6974\n",
      "✅ Modèle entraîné pour hauteur_des_genoux — Score R² : 0.7951\n",
      "✅ Modèle entraîné pour tour_du_cou — Score R² : 0.4807\n",
      "✅ Modèle entraîné pour largeur_d_epaule — Score R² : 0.4207\n",
      "✅ Modèle entraîné pour hauteur_des_epaules — Score R² : 0.9094\n",
      "✅ Modèle entraîné pour largeur_des_epaules_a_l_horizontales — Score R² : 0.6911\n",
      "✅ Modèle entraîné pour longueur_de_la_colonne_vertebrale_jusqu_au_poignet — Score R² : 0.6813\n",
      "✅ Modèle entraîné pour tour_de_cuisse — Score R² : 0.8281\n",
      "✅ Modèle entraîné pour tour_de_taille — Score R² : 0.8890\n",
      "✅ Modèle entraîné pour hauteur_de_la_taille — Score R² : 0.7982\n"
     ]
    }
   ],
   "source": [
    "from sklearn.linear_model import LinearRegression\n",
    "from sklearn.impute import SimpleImputer\n",
    "\n",
    "def entrainer_regression_par_colonne(df, colonnes_explicatives, colonnes_cibles):\n",
    "    \"\"\"\n",
    "    Entraîne une régression linéaire pour chaque colonne cible dans colonnes_cibles\n",
    "    en utilisant les colonnes_explicatives comme variables d'entrée.\n",
    "\n",
    "    Args:\n",
    "        df (pd.DataFrame): Le DataFrame contenant les données.\n",
    "        colonnes_explicatives (list): Liste des noms de colonnes à utiliser comme X.\n",
    "        colonnes_cibles (list): Liste des noms de colonnes à prédire.\n",
    "\n",
    "    Returns:\n",
    "        dict: dictionnaire contenant pour chaque cible, son modèle entraîné et le score R².\n",
    "    \"\"\"\n",
    "    resultats = {}\n",
    "\n",
    "    for cible in colonnes_cibles:\n",
    "        X = df[colonnes_explicatives]\n",
    "        y = df[cible]\n",
    "\n",
    "        model = LinearRegression()\n",
    "        model.fit(X, y)\n",
    "        score = model.score(X, y)\n",
    "\n",
    "        resultats[cible] = {\n",
    "            'modele': model,\n",
    "            'score': score\n",
    "        }\n",
    "\n",
    "        print(f\"✅ Modèle entraîné pour {cible} — Score R² : {score:.4f}\")\n",
    "\n",
    "    return resultats\n",
    "\n",
    "# Exemple d’utilisation :\n",
    "colonnes_X = ['taille', 'age', 'weight',\n",
    "              'categorie_ventre_plat', 'categorie_ventre_moyen', 'categorie_ventre_rond',\n",
    "              'categorie_torse_fin', 'categorie_torse_moyen', 'categorie_torse_large',\n",
    "              'categorie_cuisses_fines', 'categorie_cuisses_moyennes', 'categorie_cuisses_larges']\n",
    "\n",
    "colonnes_X_valides = [col for col in colonnes_X if col in df_scaled.columns]\n",
    "\n",
    "\n",
    "# Par exemple, toutes les colonnes sauf colonnes_X sont cibles\n",
    "colonnes_y = [col for col in df_scaled.columns if col not in colonnes_X]\n",
    "\n",
    "imputer = SimpleImputer(strategy='median')  # ou strategy='mean'\n",
    "df_imputed = pd.DataFrame(imputer.fit_transform(df_scaled), columns=df_scaled.columns)\n",
    "\n",
    "\n",
    "resultats = entrainer_regression_par_colonne(df_imputed, colonnes_X_valides, colonnes_y)\n"
   ]
  },
  {
   "cell_type": "code",
   "execution_count": 23,
   "id": "4721dd5e-b8de-400e-afd5-bbe595c4737e",
   "metadata": {
    "execution": {
     "iopub.execute_input": "2025-07-24T08:32:41.778670Z",
     "iopub.status.busy": "2025-07-24T08:32:41.777676Z",
     "iopub.status.idle": "2025-07-24T08:32:42.366625Z",
     "shell.execute_reply": "2025-07-24T08:32:42.364625Z",
     "shell.execute_reply.started": "2025-07-24T08:32:41.778670Z"
    }
   },
   "outputs": [
    {
     "name": "stdout",
     "output_type": "stream",
     "text": [
      "✅ sex — R² train: 1.0000 | test: 1.0000\n",
      "✅ tour_de_cheville — R² train: 0.5783 | test: 0.5685\n",
      "✅ longueur_du_bras — R² train: 0.6242 | test: 0.5433\n",
      "✅ largeur_du_dos — R² train: 0.4008 | test: 0.4972\n",
      "✅ tour_de_poitrine — R² train: 0.9196 | test: 0.9051\n",
      "✅ hauteur_de_poitrine — R² train: 0.8865 | test: 0.9125\n",
      "✅ hauteur_d_entrejambe — R² train: 0.8129 | test: 0.8017\n",
      "✅ longueur_avant — R² train: 0.5082 | test: 0.5235\n",
      "✅ largeur_des_hanches — R² train: 0.6791 | test: 0.7342\n",
      "✅ hauteur_des_hanches — R² train: 0.6960 | test: 0.7004\n",
      "✅ hauteur_des_genoux — R² train: 0.7900 | test: 0.8141\n",
      "✅ tour_du_cou — R² train: 0.4805 | test: 0.4809\n",
      "✅ largeur_d_epaule — R² train: 0.4008 | test: 0.4972\n",
      "✅ hauteur_des_epaules — R² train: 0.9043 | test: 0.9294\n",
      "✅ largeur_des_epaules_a_l_horizontales — R² train: 0.6791 | test: 0.7342\n",
      "✅ longueur_de_la_colonne_vertebrale_jusqu_au_poignet — R² train: 0.6895 | test: 0.6478\n",
      "✅ tour_de_cuisse — R² train: 0.8246 | test: 0.8416\n",
      "✅ tour_de_taille — R² train: 0.8873 | test: 0.8946\n",
      "✅ hauteur_de_la_taille — R² train: 0.8006 | test: 0.7876\n"
     ]
    }
   ],
   "source": [
    "from sklearn.linear_model import LinearRegression\n",
    "from sklearn.model_selection import train_test_split\n",
    "from sklearn.metrics import r2_score\n",
    "from sklearn.impute import SimpleImputer\n",
    "import pandas as pd\n",
    "\n",
    "def entrainer_regression_par_colonne(df, colonnes_explicatives, colonnes_cibles, test_size=0.2, random_state=42):\n",
    "    \"\"\"\n",
    "    Entraîne une régression linéaire pour chaque colonne cible, avec train_test_split.\n",
    "\n",
    "    Args:\n",
    "        df (pd.DataFrame): Le DataFrame complet.\n",
    "        colonnes_explicatives (list): Noms des colonnes à utiliser comme variables d'entrée (X).\n",
    "        colonnes_cibles (list): Noms des colonnes à prédire (y).\n",
    "        test_size (float): Proportion du jeu de test (entre 0 et 1).\n",
    "        random_state (int): Graine pour la reproductibilité.\n",
    "\n",
    "    Returns:\n",
    "        dict: Pour chaque colonne cible, le modèle, score R² (train & test).\n",
    "    \"\"\"\n",
    "    resultats = {}\n",
    "\n",
    "    # 1. Imputer les NaN\n",
    "    imputer = SimpleImputer(strategy='median')\n",
    "    df_imputed = pd.DataFrame(imputer.fit_transform(df), columns=df.columns)\n",
    "\n",
    "    for cible in colonnes_cibles:\n",
    "        X = df_imputed[colonnes_explicatives]\n",
    "        y = df_imputed[cible]\n",
    "\n",
    "        # 2. Split des données\n",
    "        X_train, X_test, y_train, y_test = train_test_split(\n",
    "            X, y, test_size=test_size, random_state=random_state\n",
    "        )\n",
    "\n",
    "        # 3. Entraînement\n",
    "        model = LinearRegression()\n",
    "        model.fit(X_train, y_train)\n",
    "\n",
    "        # 4. Évaluation\n",
    "        score_train = model.score(X_train, y_train)\n",
    "        score_test = model.score(X_test, y_test)\n",
    "\n",
    "        resultats[cible] = {\n",
    "            'modele': model,\n",
    "            'score_train': score_train,\n",
    "            'score_test': score_test\n",
    "        }\n",
    "\n",
    "        print(f\"✅ {cible} — R² train: {score_train:.4f} | test: {score_test:.4f}\")\n",
    "\n",
    "    return resultats\n",
    "    \n",
    "colonnes_X = ['taille', 'age', 'weight',\n",
    "              'categorie_ventre_plat', 'categorie_ventre_moyen', 'categorie_ventre_rond',\n",
    "              'categorie_torse_fin', 'categorie_torse_moyen', 'categorie_torse_large',\n",
    "              'categorie_cuisses_fines', 'categorie_cuisses_moyennes', 'categorie_cuisses_larges']\n",
    "\n",
    "colonnes_X_valides = [col for col in colonnes_X if col in df_scaled.columns]\n",
    "\n",
    "\n",
    "# Par exemple, toutes les colonnes sauf colonnes_X sont cibles\n",
    "colonnes_y = [col for col in df_scaled.columns if col not in colonnes_X]\n",
    "\n",
    "resultats = entrainer_regression_par_colonne(df_scaled, colonnes_X_valides, colonnes_y)"
   ]
  },
  {
   "cell_type": "code",
   "execution_count": 29,
   "id": "965d172b-741c-41d2-9ad7-5443975dcfcd",
   "metadata": {
    "execution": {
     "iopub.execute_input": "2025-07-24T13:17:33.509699Z",
     "iopub.status.busy": "2025-07-24T13:17:33.508192Z",
     "iopub.status.idle": "2025-07-24T13:17:36.431160Z",
     "shell.execute_reply": "2025-07-24T13:17:36.429563Z",
     "shell.execute_reply.started": "2025-07-24T13:17:33.509699Z"
    }
   },
   "outputs": [
    {
     "name": "stdout",
     "output_type": "stream",
     "text": [
      "✅ sex — R² moyen: 1.0000 ± 0.0000\n",
      "✅ tour_de_cheville — R² moyen: 0.5712 ± 0.0291\n",
      "✅ longueur_du_bras — R² moyen: 0.6041 ± 0.0396\n",
      "✅ largeur_du_dos — R² moyen: 0.8096 ± 0.0096\n",
      "✅ tour_de_poitrine — R² moyen: 0.8998 ± 0.0063\n",
      "✅ hauteur_de_poitrine — R² moyen: 0.8895 ± 0.0259\n",
      "✅ hauteur_d_entrejambe — R² moyen: 0.8135 ± 0.0164\n",
      "✅ longueur_avant — R² moyen: 0.5079 ± 0.0392\n",
      "✅ largeur_des_hanches — R² moyen: 0.8717 ± 0.0089\n",
      "✅ hauteur_des_hanches — R² moyen: 0.6947 ± 0.0321\n",
      "✅ hauteur_des_genoux — R² moyen: 0.7925 ± 0.0228\n",
      "✅ tour_du_cou — R² moyen: 0.4746 ± 0.0182\n",
      "✅ largeur_d_epaule — R² moyen: 0.8096 ± 0.0096\n",
      "✅ hauteur_des_epaules — R² moyen: 0.9094 ± 0.0247\n",
      "✅ largeur_des_epaules_a_l_horizontales — R² moyen: 0.8717 ± 0.0089\n",
      "✅ longueur_de_la_colonne_vertebrale_jusqu_au_poignet — R² moyen: 0.7067 ± 0.0249\n",
      "✅ tour_de_cuisse — R² moyen: 0.8275 ± 0.0146\n",
      "✅ tour_de_taille — R² moyen: 0.8987 ± 0.0136\n",
      "✅ hauteur_de_la_taille — R² moyen: 0.7960 ± 0.0059\n"
     ]
    }
   ],
   "source": [
    "from sklearn.linear_model import LinearRegression\n",
    "from sklearn.model_selection import cross_val_score, KFold\n",
    "from sklearn.impute import SimpleImputer\n",
    "import pandas as pd\n",
    "import numpy as np\n",
    "\n",
    "def entrainer_regression_cv(df, colonnes_explicatives, colonnes_cibles, n_splits=5, random_state=42):\n",
    "    \"\"\"\n",
    "    Entraîne une régression linéaire pour chaque colonne cible avec K-Fold Cross Validation.\n",
    "\n",
    "    Args:\n",
    "        df (pd.DataFrame): Le DataFrame complet.\n",
    "        colonnes_explicatives (list): Noms des colonnes explicatives.\n",
    "        colonnes_cibles (list): Noms des colonnes cibles.\n",
    "        n_splits (int): Nombre de folds pour la validation croisée.\n",
    "        random_state (int): Graine pour la reproductibilité.\n",
    "\n",
    "    Returns:\n",
    "        dict: Pour chaque cible, moyenne et écart-type du score R² sur les folds.\n",
    "    \"\"\"\n",
    "    resultats = {}\n",
    "\n",
    "    # 1. Imputation des NaN\n",
    "    imputer = SimpleImputer(strategy='median')\n",
    "    df_imputed = pd.DataFrame(imputer.fit_transform(df), columns=df.columns)\n",
    "\n",
    "    # 2. Configuration du K-Fold\n",
    "    kf = KFold(n_splits=n_splits, shuffle=True, random_state=random_state)\n",
    "\n",
    "    for cible in colonnes_cibles:\n",
    "        X = df_imputed[colonnes_explicatives]\n",
    "        y = df_imputed[cible]\n",
    "\n",
    "        modele = LinearRegression()\n",
    "\n",
    "        # 3. Cross-validation sur R²\n",
    "        scores = cross_val_score(modele, X, y, cv=kf, scoring='r2')\n",
    "\n",
    "        resultats[cible] = {\n",
    "            'r2_moyen': np.mean(scores),\n",
    "            'r2_ecart_type': np.std(scores),\n",
    "            'r2_scores': scores\n",
    "        }\n",
    "\n",
    "        print(f\"✅ {cible} — R² moyen: {np.mean(scores):.4f} ± {np.std(scores):.4f}\")\n",
    "\n",
    "    return resultats\n",
    "colonnes_X = ['taille', 'age', 'weight',\n",
    "              'categorie_ventre_plat', 'categorie_ventre_moyen', 'categorie_ventre_rond',\n",
    "              'categorie_torse_fin', 'categorie_torse_moyen', 'categorie_torse_large',\n",
    "              'categorie_cuisses_fines', 'categorie_cuisses_moyennes', 'categorie_cuisses_larges']\n",
    "\n",
    "colonnes_X_valides = [col for col in colonnes_X if col in df_scaled.columns]\n",
    "colonnes_y = [col for col in df_scaled.columns if col not in colonnes_X_valides]\n",
    "\n",
    "resultats_cv = entrainer_regression_cv(df_scaled, colonnes_X_valides, colonnes_y, n_splits=5)\n"
   ]
  },
  {
   "cell_type": "code",
   "execution_count": null,
   "id": "6c09e3a0-8a72-4f79-b78b-f2aeef7ddd9b",
   "metadata": {
    "execution": {
     "iopub.execute_input": "2025-07-24T16:33:36.090610Z",
     "iopub.status.busy": "2025-07-24T16:33:36.088613Z"
    }
   },
   "outputs": [
    {
     "name": "stdout",
     "output_type": "stream",
     "text": [
      "\n",
      "⚙️ Traitement de la cible : sex\n"
     ]
    },
    {
     "name": "stderr",
     "output_type": "stream",
     "text": [
      "c:\\Users\\mbouke.besse\\OneDrive - ESTIA\\Documents\\code-dataset\\.venv\\lib\\site-packages\\tpot\\tpot_estimator\\estimator.py:458: UserWarning: Both generations and max_time_mins are set. TPOT will terminate when the first condition is met.\n",
      "  warnings.warn(\"Both generations and max_time_mins are set. TPOT will terminate when the first condition is met.\")\n",
      "c:\\Users\\mbouke.besse\\OneDrive - ESTIA\\Documents\\code-dataset\\.venv\\lib\\site-packages\\distributed\\node.py:187: UserWarning: Port 8787 is already in use.\n",
      "Perhaps you already have a cluster running?\n",
      "Hosting the HTTP server on port 64418 instead\n",
      "  warnings.warn(\n",
      "Generation:  25%|████████████████████████████▊                                                                                      | 1/4 [00:33<01:39, 33.02s/it]"
     ]
    },
    {
     "name": "stdout",
     "output_type": "stream",
     "text": [
      "Generation:  1\n",
      "Best mean_squared_error score: 0.0\n"
     ]
    },
    {
     "name": "stderr",
     "output_type": "stream",
     "text": [
      "Generation:  50%|█████████████████████████████████████████████████████████▌                                                         | 2/4 [01:18<01:20, 40.43s/it]"
     ]
    },
    {
     "name": "stdout",
     "output_type": "stream",
     "text": [
      "Generation:  2\n",
      "Best mean_squared_error score: 0.0\n"
     ]
    },
    {
     "name": "stderr",
     "output_type": "stream",
     "text": [
      "Generation:  75%|██████████████████████████████████████████████████████████████████████████████████████▎                            | 3/4 [02:03<00:42, 42.48s/it]"
     ]
    },
    {
     "name": "stdout",
     "output_type": "stream",
     "text": [
      "Generation:  3\n",
      "Best mean_squared_error score: 0.0\n"
     ]
    },
    {
     "name": "stderr",
     "output_type": "stream",
     "text": [
      "Generation: 100%|███████████████████████████████████████████████████████████████████████████████████████████████████████████████████| 4/4 [02:42<00:00, 40.75s/it]"
     ]
    },
    {
     "name": "stdout",
     "output_type": "stream",
     "text": [
      "Generation:  4\n",
      "Best mean_squared_error score: 0.0\n"
     ]
    },
    {
     "name": "stderr",
     "output_type": "stream",
     "text": [
      "\n"
     ]
    },
    {
     "name": "stdout",
     "output_type": "stream",
     "text": [
      "✅ sex — R² test: 1.0000\n",
      "\n",
      "⚙️ Traitement de la cible : tour_de_cheville\n"
     ]
    },
    {
     "name": "stderr",
     "output_type": "stream",
     "text": [
      "c:\\Users\\mbouke.besse\\OneDrive - ESTIA\\Documents\\code-dataset\\.venv\\lib\\site-packages\\tpot\\tpot_estimator\\estimator.py:458: UserWarning: Both generations and max_time_mins are set. TPOT will terminate when the first condition is met.\n",
      "  warnings.warn(\"Both generations and max_time_mins are set. TPOT will terminate when the first condition is met.\")\n",
      "c:\\Users\\mbouke.besse\\OneDrive - ESTIA\\Documents\\code-dataset\\.venv\\lib\\site-packages\\distributed\\node.py:187: UserWarning: Port 8787 is already in use.\n",
      "Perhaps you already have a cluster running?\n",
      "Hosting the HTTP server on port 64569 instead\n",
      "  warnings.warn(\n",
      "Generation:  25%|████████████████████████████▌                                                                                     | 1/4 [01:56<05:50, 116.67s/it]"
     ]
    },
    {
     "name": "stdout",
     "output_type": "stream",
     "text": [
      "Generation:  1\n",
      "Best mean_squared_error score: -0.2539003765852818\n"
     ]
    },
    {
     "name": "stderr",
     "output_type": "stream",
     "text": [
      "Generation:  50%|█████████████████████████████████████████████████████████                                                         | 2/4 [05:04<05:17, 158.56s/it]"
     ]
    },
    {
     "name": "stdout",
     "output_type": "stream",
     "text": [
      "Generation:  2\n",
      "Best mean_squared_error score: -0.2539003765852818\n"
     ]
    },
    {
     "name": "stderr",
     "output_type": "stream",
     "text": [
      "Generation:  75%|█████████████████████████████████████████████████████████████████████████████████████▌                            | 3/4 [06:27<02:03, 123.99s/it]"
     ]
    },
    {
     "name": "stdout",
     "output_type": "stream",
     "text": [
      "Generation:  3\n",
      "Best mean_squared_error score: -0.25303386003728223\n"
     ]
    },
    {
     "name": "stderr",
     "output_type": "stream",
     "text": [
      "Generation: 100%|██████████████████████████████████████████████████████████████████████████████████████████████████████████████████| 4/4 [08:50<00:00, 132.50s/it]"
     ]
    },
    {
     "name": "stdout",
     "output_type": "stream",
     "text": [
      "Generation:  4\n",
      "Best mean_squared_error score: -0.25303386003728223\n"
     ]
    },
    {
     "name": "stderr",
     "output_type": "stream",
     "text": [
      "\n"
     ]
    },
    {
     "name": "stdout",
     "output_type": "stream",
     "text": [
      "✅ tour_de_cheville — R² test: 0.5363\n",
      "\n",
      "⚙️ Traitement de la cible : longueur_du_bras\n"
     ]
    },
    {
     "name": "stderr",
     "output_type": "stream",
     "text": [
      "c:\\Users\\mbouke.besse\\OneDrive - ESTIA\\Documents\\code-dataset\\.venv\\lib\\site-packages\\tpot\\tpot_estimator\\estimator.py:458: UserWarning: Both generations and max_time_mins are set. TPOT will terminate when the first condition is met.\n",
      "  warnings.warn(\"Both generations and max_time_mins are set. TPOT will terminate when the first condition is met.\")\n",
      "c:\\Users\\mbouke.besse\\OneDrive - ESTIA\\Documents\\code-dataset\\.venv\\lib\\site-packages\\distributed\\node.py:187: UserWarning: Port 8787 is already in use.\n",
      "Perhaps you already have a cluster running?\n",
      "Hosting the HTTP server on port 64825 instead\n",
      "  warnings.warn(\n",
      "Generation:  25%|████████████████████████████▌                                                                                     | 1/4 [03:03<09:09, 183.02s/it]"
     ]
    },
    {
     "name": "stdout",
     "output_type": "stream",
     "text": [
      "Generation:  1\n",
      "Best mean_squared_error score: -5.283854380885508\n"
     ]
    },
    {
     "name": "stderr",
     "output_type": "stream",
     "text": [
      "Generation:  50%|█████████████████████████████████████████████████████████                                                         | 2/4 [05:22<05:14, 157.18s/it]"
     ]
    },
    {
     "name": "stdout",
     "output_type": "stream",
     "text": [
      "Generation:  2\n",
      "Best mean_squared_error score: -5.283854380885508\n"
     ]
    },
    {
     "name": "stderr",
     "output_type": "stream",
     "text": [
      "Generation:  75%|█████████████████████████████████████████████████████████████████████████████████████▌                            | 3/4 [07:08<02:13, 133.97s/it]"
     ]
    },
    {
     "name": "stdout",
     "output_type": "stream",
     "text": [
      "Generation:  3\n",
      "Best mean_squared_error score: -5.25393566743296\n"
     ]
    },
    {
     "name": "stderr",
     "output_type": "stream",
     "text": [
      "Generation: 100%|██████████████████████████████████████████████████████████████████████████████████████████████████████████████████| 4/4 [08:39<00:00, 129.83s/it]"
     ]
    },
    {
     "name": "stdout",
     "output_type": "stream",
     "text": [
      "Generation:  4\n",
      "Best mean_squared_error score: -5.25393566743296\n"
     ]
    },
    {
     "name": "stderr",
     "output_type": "stream",
     "text": [
      "\n"
     ]
    },
    {
     "name": "stdout",
     "output_type": "stream",
     "text": [
      "✅ longueur_du_bras — R² test: 0.6056\n",
      "\n",
      "⚙️ Traitement de la cible : largeur_du_dos\n"
     ]
    },
    {
     "name": "stderr",
     "output_type": "stream",
     "text": [
      "c:\\Users\\mbouke.besse\\OneDrive - ESTIA\\Documents\\code-dataset\\.venv\\lib\\site-packages\\tpot\\tpot_estimator\\estimator.py:458: UserWarning: Both generations and max_time_mins are set. TPOT will terminate when the first condition is met.\n",
      "  warnings.warn(\"Both generations and max_time_mins are set. TPOT will terminate when the first condition is met.\")\n",
      "c:\\Users\\mbouke.besse\\OneDrive - ESTIA\\Documents\\code-dataset\\.venv\\lib\\site-packages\\distributed\\node.py:187: UserWarning: Port 8787 is already in use.\n",
      "Perhaps you already have a cluster running?\n",
      "Hosting the HTTP server on port 65079 instead\n",
      "  warnings.warn(\n",
      "Generation:  25%|████████████████████████████▌                                                                                     | 1/4 [01:46<05:19, 106.55s/it]"
     ]
    },
    {
     "name": "stdout",
     "output_type": "stream",
     "text": [
      "Generation:  1\n",
      "Best mean_squared_error score: -0.10924105880275546\n"
     ]
    },
    {
     "name": "stderr",
     "output_type": "stream",
     "text": [
      "Generation:  50%|█████████████████████████████████████████████████████████▌                                                         | 2/4 [03:09<03:05, 92.55s/it]"
     ]
    },
    {
     "name": "stdout",
     "output_type": "stream",
     "text": [
      "Generation:  2\n",
      "Best mean_squared_error score: -0.10923762700431579\n"
     ]
    },
    {
     "name": "stderr",
     "output_type": "stream",
     "text": [
      "Generation:  75%|██████████████████████████████████████████████████████████████████████████████████████▎                            | 3/4 [04:12<01:18, 78.92s/it]"
     ]
    },
    {
     "name": "stdout",
     "output_type": "stream",
     "text": [
      "Generation:  3\n",
      "Best mean_squared_error score: -0.10762265599732246\n"
     ]
    },
    {
     "name": "stderr",
     "output_type": "stream",
     "text": [
      "Generation: 100%|███████████████████████████████████████████████████████████████████████████████████████████████████████████████████| 4/4 [05:06<00:00, 76.71s/it]"
     ]
    },
    {
     "name": "stdout",
     "output_type": "stream",
     "text": [
      "Generation:  4\n",
      "Best mean_squared_error score: -0.10762265599732246\n"
     ]
    },
    {
     "name": "stderr",
     "output_type": "stream",
     "text": [
      "\n",
      "c:\\Users\\mbouke.besse\\OneDrive - ESTIA\\Documents\\code-dataset\\.venv\\lib\\site-packages\\sklearn\\feature_selection\\_univariate_selection.py:112: RuntimeWarning: divide by zero encountered in divide\n",
      "  f = msb / msw\n"
     ]
    },
    {
     "name": "stdout",
     "output_type": "stream",
     "text": [
      "✅ largeur_du_dos — R² test: 0.8061\n",
      "\n",
      "⚙️ Traitement de la cible : tour_de_poitrine\n"
     ]
    },
    {
     "name": "stderr",
     "output_type": "stream",
     "text": [
      "c:\\Users\\mbouke.besse\\OneDrive - ESTIA\\Documents\\code-dataset\\.venv\\lib\\site-packages\\tpot\\tpot_estimator\\estimator.py:458: UserWarning: Both generations and max_time_mins are set. TPOT will terminate when the first condition is met.\n",
      "  warnings.warn(\"Both generations and max_time_mins are set. TPOT will terminate when the first condition is met.\")\n",
      "c:\\Users\\mbouke.besse\\OneDrive - ESTIA\\Documents\\code-dataset\\.venv\\lib\\site-packages\\distributed\\node.py:187: UserWarning: Port 8787 is already in use.\n",
      "Perhaps you already have a cluster running?\n",
      "Hosting the HTTP server on port 65194 instead\n",
      "  warnings.warn(\n",
      "Generation:  25%|████████████████████████████▌                                                                                     | 1/4 [02:02<06:07, 122.64s/it]"
     ]
    },
    {
     "name": "stdout",
     "output_type": "stream",
     "text": [
      "Generation:  1\n",
      "Best mean_squared_error score: -0.08178308845853408\n"
     ]
    },
    {
     "name": "stderr",
     "output_type": "stream",
     "text": [
      "Generation:  50%|█████████████████████████████████████████████████████████                                                         | 2/4 [06:27<06:52, 206.22s/it]"
     ]
    },
    {
     "name": "stdout",
     "output_type": "stream",
     "text": [
      "Generation:  2\n",
      "Best mean_squared_error score: -0.07410639156108842\n"
     ]
    },
    {
     "name": "stderr",
     "output_type": "stream",
     "text": [
      "Generation:  75%|█████████████████████████████████████████████████████████████████████████████████████▌                            | 3/4 [09:14<03:08, 188.24s/it]"
     ]
    },
    {
     "name": "stdout",
     "output_type": "stream",
     "text": [
      "Generation:  3\n",
      "Best mean_squared_error score: -0.06819316912748037\n"
     ]
    },
    {
     "name": "stderr",
     "output_type": "stream",
     "text": [
      "Generation: 100%|██████████████████████████████████████████████████████████████████████████████████████████████████████████████████| 4/4 [21:06<00:00, 316.51s/it]"
     ]
    },
    {
     "name": "stdout",
     "output_type": "stream",
     "text": [
      "Generation:  4\n",
      "Best mean_squared_error score: -0.06817981578892787\n"
     ]
    },
    {
     "name": "stderr",
     "output_type": "stream",
     "text": [
      "\n"
     ]
    },
    {
     "name": "stdout",
     "output_type": "stream",
     "text": [
      "✅ tour_de_poitrine — R² test: 0.9093\n",
      "\n",
      "⚙️ Traitement de la cible : hauteur_de_poitrine\n"
     ]
    },
    {
     "name": "stderr",
     "output_type": "stream",
     "text": [
      "c:\\Users\\mbouke.besse\\OneDrive - ESTIA\\Documents\\code-dataset\\.venv\\lib\\site-packages\\tpot\\tpot_estimator\\estimator.py:458: UserWarning: Both generations and max_time_mins are set. TPOT will terminate when the first condition is met.\n",
      "  warnings.warn(\"Both generations and max_time_mins are set. TPOT will terminate when the first condition is met.\")\n",
      "c:\\Users\\mbouke.besse\\OneDrive - ESTIA\\Documents\\code-dataset\\.venv\\lib\\site-packages\\distributed\\node.py:187: UserWarning: Port 8787 is already in use.\n",
      "Perhaps you already have a cluster running?\n",
      "Hosting the HTTP server on port 49297 instead\n",
      "  warnings.warn(\n",
      "Generation:  25%|████████████████████████████▊                                                                                      | 1/4 [01:20<04:00, 80.32s/it]"
     ]
    },
    {
     "name": "stdout",
     "output_type": "stream",
     "text": [
      "Generation:  1\n",
      "Best mean_squared_error score: -0.06591723421443632\n"
     ]
    },
    {
     "name": "stderr",
     "output_type": "stream",
     "text": [
      "Generation:  50%|█████████████████████████████████████████████████████████                                                         | 2/4 [03:18<03:25, 102.55s/it]"
     ]
    },
    {
     "name": "stdout",
     "output_type": "stream",
     "text": [
      "Generation:  2\n",
      "Best mean_squared_error score: -0.06353189909710999\n"
     ]
    },
    {
     "name": "stderr",
     "output_type": "stream",
     "text": [
      "Generation:  75%|█████████████████████████████████████████████████████████████████████████████████████▌                            | 3/4 [05:56<02:07, 127.93s/it]"
     ]
    },
    {
     "name": "stdout",
     "output_type": "stream",
     "text": [
      "Generation:  3\n",
      "Best mean_squared_error score: -0.06353189909710999\n"
     ]
    },
    {
     "name": "stderr",
     "output_type": "stream",
     "text": [
      "Generation: 100%|██████████████████████████████████████████████████████████████████████████████████████████████████████████████████| 4/4 [08:55<00:00, 133.93s/it]"
     ]
    },
    {
     "name": "stdout",
     "output_type": "stream",
     "text": [
      "Generation:  4\n",
      "Best mean_squared_error score: -0.06260767357884497\n"
     ]
    },
    {
     "name": "stderr",
     "output_type": "stream",
     "text": [
      "\n"
     ]
    },
    {
     "name": "stdout",
     "output_type": "stream",
     "text": [
      "✅ hauteur_de_poitrine — R² test: 0.8946\n",
      "\n",
      "⚙️ Traitement de la cible : hauteur_d_entrejambe\n"
     ]
    },
    {
     "name": "stderr",
     "output_type": "stream",
     "text": [
      "c:\\Users\\mbouke.besse\\OneDrive - ESTIA\\Documents\\code-dataset\\.venv\\lib\\site-packages\\tpot\\tpot_estimator\\estimator.py:458: UserWarning: Both generations and max_time_mins are set. TPOT will terminate when the first condition is met.\n",
      "  warnings.warn(\"Both generations and max_time_mins are set. TPOT will terminate when the first condition is met.\")\n",
      "c:\\Users\\mbouke.besse\\OneDrive - ESTIA\\Documents\\code-dataset\\.venv\\lib\\site-packages\\distributed\\node.py:187: UserWarning: Port 8787 is already in use.\n",
      "Perhaps you already have a cluster running?\n",
      "Hosting the HTTP server on port 49790 instead\n",
      "  warnings.warn(\n",
      "Generation:  25%|████████████████████████████▊                                                                                      | 1/4 [01:03<03:09, 63.23s/it]"
     ]
    },
    {
     "name": "stdout",
     "output_type": "stream",
     "text": [
      "Generation:  1\n",
      "Best mean_squared_error score: -0.12289847713914054\n"
     ]
    },
    {
     "name": "stderr",
     "output_type": "stream",
     "text": [
      "Generation:  50%|█████████████████████████████████████████████████████████▌                                                         | 2/4 [02:06<02:06, 63.03s/it]"
     ]
    },
    {
     "name": "stdout",
     "output_type": "stream",
     "text": [
      "Generation:  2\n",
      "Best mean_squared_error score: -0.10855491713831616\n"
     ]
    },
    {
     "name": "stderr",
     "output_type": "stream",
     "text": [
      "Generation:  75%|██████████████████████████████████████████████████████████████████████████████████████▎                            | 3/4 [02:52<00:55, 55.34s/it]"
     ]
    },
    {
     "name": "stdout",
     "output_type": "stream",
     "text": [
      "Generation:  3\n",
      "Best mean_squared_error score: -0.10855491713831616\n"
     ]
    },
    {
     "name": "stderr",
     "output_type": "stream",
     "text": [
      "Generation: 100%|███████████████████████████████████████████████████████████████████████████████████████████████████████████████████| 4/4 [03:18<00:00, 49.50s/it]"
     ]
    },
    {
     "name": "stdout",
     "output_type": "stream",
     "text": [
      "Generation:  4\n",
      "Best mean_squared_error score: -0.10855133524909194\n"
     ]
    },
    {
     "name": "stderr",
     "output_type": "stream",
     "text": [
      "\n"
     ]
    },
    {
     "name": "stdout",
     "output_type": "stream",
     "text": [
      "✅ hauteur_d_entrejambe — R² test: 0.7858\n",
      "\n",
      "⚙️ Traitement de la cible : longueur_avant\n"
     ]
    },
    {
     "name": "stderr",
     "output_type": "stream",
     "text": [
      "c:\\Users\\mbouke.besse\\OneDrive - ESTIA\\Documents\\code-dataset\\.venv\\lib\\site-packages\\tpot\\tpot_estimator\\estimator.py:458: UserWarning: Both generations and max_time_mins are set. TPOT will terminate when the first condition is met.\n",
      "  warnings.warn(\"Both generations and max_time_mins are set. TPOT will terminate when the first condition is met.\")\n",
      "c:\\Users\\mbouke.besse\\OneDrive - ESTIA\\Documents\\code-dataset\\.venv\\lib\\site-packages\\distributed\\node.py:187: UserWarning: Port 8787 is already in use.\n",
      "Perhaps you already have a cluster running?\n",
      "Hosting the HTTP server on port 49934 instead\n",
      "  warnings.warn(\n",
      "Generation:  25%|████████████████████████████▊                                                                                      | 1/4 [01:06<03:20, 66.94s/it]"
     ]
    },
    {
     "name": "stdout",
     "output_type": "stream",
     "text": [
      "Generation:  1\n",
      "Best mean_squared_error score: -0.3030442671758828\n"
     ]
    },
    {
     "name": "stderr",
     "output_type": "stream",
     "text": [
      "Generation:  50%|█████████████████████████████████████████████████████████▌                                                         | 2/4 [01:55<01:52, 56.39s/it]"
     ]
    },
    {
     "name": "stdout",
     "output_type": "stream",
     "text": [
      "Generation:  2\n",
      "Best mean_squared_error score: -0.29745308464905645\n"
     ]
    },
    {
     "name": "stderr",
     "output_type": "stream",
     "text": [
      "Generation:  75%|█████████████████████████████████████████████████████████████████████████████████████▌                            | 3/4 [04:39<01:45, 105.20s/it]"
     ]
    },
    {
     "name": "stdout",
     "output_type": "stream",
     "text": [
      "Generation:  3\n",
      "Best mean_squared_error score: -0.2972455935148856\n"
     ]
    },
    {
     "name": "stderr",
     "output_type": "stream",
     "text": [
      "Generation: 100%|███████████████████████████████████████████████████████████████████████████████████████████████████████████████████| 4/4 [05:19<00:00, 79.86s/it]"
     ]
    },
    {
     "name": "stdout",
     "output_type": "stream",
     "text": [
      "Generation:  4\n",
      "Best mean_squared_error score: -0.2972455935148856\n"
     ]
    },
    {
     "name": "stderr",
     "output_type": "stream",
     "text": [
      "\n",
      "c:\\Users\\mbouke.besse\\OneDrive - ESTIA\\Documents\\code-dataset\\.venv\\lib\\site-packages\\sklearn\\utils\\validation.py:2739: UserWarning: X does not have valid feature names, but LGBMRegressor was fitted with feature names\n",
      "  warnings.warn(\n",
      "c:\\Users\\mbouke.besse\\OneDrive - ESTIA\\Documents\\code-dataset\\.venv\\lib\\site-packages\\sklearn\\utils\\validation.py:2739: UserWarning: X does not have valid feature names, but LGBMRegressor was fitted with feature names\n",
      "  warnings.warn(\n",
      "c:\\Users\\mbouke.besse\\OneDrive - ESTIA\\Documents\\code-dataset\\.venv\\lib\\site-packages\\sklearn\\utils\\validation.py:2739: UserWarning: X does not have valid feature names, but LGBMRegressor was fitted with feature names\n",
      "  warnings.warn(\n",
      "c:\\Users\\mbouke.besse\\OneDrive - ESTIA\\Documents\\code-dataset\\.venv\\lib\\site-packages\\sklearn\\utils\\validation.py:2739: UserWarning: X does not have valid feature names, but LGBMRegressor was fitted with feature names\n",
      "  warnings.warn(\n",
      "c:\\Users\\mbouke.besse\\OneDrive - ESTIA\\Documents\\code-dataset\\.venv\\lib\\site-packages\\sklearn\\utils\\validation.py:2739: UserWarning: X does not have valid feature names, but LGBMRegressor was fitted with feature names\n",
      "  warnings.warn(\n",
      "c:\\Users\\mbouke.besse\\OneDrive - ESTIA\\Documents\\code-dataset\\.venv\\lib\\site-packages\\sklearn\\utils\\validation.py:2739: UserWarning: X does not have valid feature names, but LGBMRegressor was fitted with feature names\n",
      "  warnings.warn(\n",
      "c:\\Users\\mbouke.besse\\OneDrive - ESTIA\\Documents\\code-dataset\\.venv\\lib\\site-packages\\tpot\\tpot_estimator\\estimator.py:458: UserWarning: Both generations and max_time_mins are set. TPOT will terminate when the first condition is met.\n",
      "  warnings.warn(\"Both generations and max_time_mins are set. TPOT will terminate when the first condition is met.\")\n",
      "c:\\Users\\mbouke.besse\\OneDrive - ESTIA\\Documents\\code-dataset\\.venv\\lib\\site-packages\\distributed\\node.py:187: UserWarning: Port 8787 is already in use.\n",
      "Perhaps you already have a cluster running?\n",
      "Hosting the HTTP server on port 50152 instead\n",
      "  warnings.warn(\n"
     ]
    },
    {
     "name": "stdout",
     "output_type": "stream",
     "text": [
      "✅ longueur_avant — R² test: 0.5070\n",
      "\n",
      "⚙️ Traitement de la cible : largeur_des_hanches\n"
     ]
    },
    {
     "name": "stderr",
     "output_type": "stream",
     "text": [
      "Generation:  25%|████████████████████████████▊                                                                                      | 1/4 [01:15<03:46, 75.64s/it]"
     ]
    },
    {
     "name": "stdout",
     "output_type": "stream",
     "text": [
      "Generation:  1\n",
      "Best mean_squared_error score: -0.0796862859076849\n"
     ]
    },
    {
     "name": "stderr",
     "output_type": "stream",
     "text": [
      "Generation:  50%|█████████████████████████████████████████████████████████▌                                                         | 2/4 [02:23<02:21, 70.89s/it]"
     ]
    },
    {
     "name": "stdout",
     "output_type": "stream",
     "text": [
      "Generation:  2\n",
      "Best mean_squared_error score: -0.0795526277773156\n"
     ]
    },
    {
     "name": "stderr",
     "output_type": "stream",
     "text": [
      "Generation:  75%|██████████████████████████████████████████████████████████████████████████████████████▎                            | 3/4 [03:29<01:08, 68.62s/it]"
     ]
    },
    {
     "name": "stdout",
     "output_type": "stream",
     "text": [
      "Generation:  3\n",
      "Best mean_squared_error score: -0.0795526277773156\n"
     ]
    },
    {
     "name": "stderr",
     "output_type": "stream",
     "text": [
      "Generation: 100%|███████████████████████████████████████████████████████████████████████████████████████████████████████████████████| 4/4 [05:24<00:00, 81.11s/it]"
     ]
    },
    {
     "name": "stdout",
     "output_type": "stream",
     "text": [
      "Generation:  4\n",
      "Best mean_squared_error score: -0.0795526277773156\n"
     ]
    },
    {
     "name": "stderr",
     "output_type": "stream",
     "text": [
      "\n",
      "c:\\Users\\mbouke.besse\\OneDrive - ESTIA\\Documents\\code-dataset\\.venv\\lib\\site-packages\\sklearn\\feature_selection\\_univariate_selection.py:112: RuntimeWarning: divide by zero encountered in divide\n",
      "  f = msb / msw\n",
      "c:\\Users\\mbouke.besse\\OneDrive - ESTIA\\Documents\\code-dataset\\.venv\\lib\\site-packages\\sklearn\\utils\\validation.py:2739: UserWarning: X does not have valid feature names, but LGBMRegressor was fitted with feature names\n",
      "  warnings.warn(\n",
      "c:\\Users\\mbouke.besse\\OneDrive - ESTIA\\Documents\\code-dataset\\.venv\\lib\\site-packages\\sklearn\\utils\\validation.py:2739: UserWarning: X does not have valid feature names, but LGBMRegressor was fitted with feature names\n",
      "  warnings.warn(\n",
      "c:\\Users\\mbouke.besse\\OneDrive - ESTIA\\Documents\\code-dataset\\.venv\\lib\\site-packages\\sklearn\\utils\\validation.py:2739: UserWarning: X does not have valid feature names, but LGBMRegressor was fitted with feature names\n",
      "  warnings.warn(\n",
      "c:\\Users\\mbouke.besse\\OneDrive - ESTIA\\Documents\\code-dataset\\.venv\\lib\\site-packages\\sklearn\\utils\\validation.py:2739: UserWarning: X does not have valid feature names, but LGBMRegressor was fitted with feature names\n",
      "  warnings.warn(\n",
      "c:\\Users\\mbouke.besse\\OneDrive - ESTIA\\Documents\\code-dataset\\.venv\\lib\\site-packages\\sklearn\\utils\\validation.py:2739: UserWarning: X does not have valid feature names, but LGBMRegressor was fitted with feature names\n",
      "  warnings.warn(\n",
      "c:\\Users\\mbouke.besse\\OneDrive - ESTIA\\Documents\\code-dataset\\.venv\\lib\\site-packages\\sklearn\\utils\\validation.py:2739: UserWarning: X does not have valid feature names, but LGBMRegressor was fitted with feature names\n",
      "  warnings.warn(\n",
      "c:\\Users\\mbouke.besse\\OneDrive - ESTIA\\Documents\\code-dataset\\.venv\\lib\\site-packages\\tpot\\tpot_estimator\\estimator.py:458: UserWarning: Both generations and max_time_mins are set. TPOT will terminate when the first condition is met.\n",
      "  warnings.warn(\"Both generations and max_time_mins are set. TPOT will terminate when the first condition is met.\")\n",
      "c:\\Users\\mbouke.besse\\OneDrive - ESTIA\\Documents\\code-dataset\\.venv\\lib\\site-packages\\distributed\\node.py:187: UserWarning: Port 8787 is already in use.\n",
      "Perhaps you already have a cluster running?\n",
      "Hosting the HTTP server on port 50280 instead\n",
      "  warnings.warn(\n"
     ]
    },
    {
     "name": "stdout",
     "output_type": "stream",
     "text": [
      "✅ largeur_des_hanches — R² test: 0.8796\n",
      "\n",
      "⚙️ Traitement de la cible : hauteur_des_hanches\n"
     ]
    },
    {
     "name": "stderr",
     "output_type": "stream",
     "text": [
      "Generation:  25%|████████████████████████████▊                                                                                      | 1/4 [01:01<03:05, 61.99s/it]"
     ]
    },
    {
     "name": "stdout",
     "output_type": "stream",
     "text": [
      "Generation:  1\n",
      "Best mean_squared_error score: -0.1925213443614249\n"
     ]
    },
    {
     "name": "stderr",
     "output_type": "stream",
     "text": [
      "Generation:  50%|█████████████████████████████████████████████████████████▌                                                         | 2/4 [02:04<02:04, 62.09s/it]"
     ]
    },
    {
     "name": "stdout",
     "output_type": "stream",
     "text": [
      "Generation:  2\n",
      "Best mean_squared_error score: -0.18547002921426506\n"
     ]
    },
    {
     "name": "stderr",
     "output_type": "stream",
     "text": [
      "Generation:  75%|██████████████████████████████████████████████████████████████████████████████████████▎                            | 3/4 [03:02<01:00, 60.41s/it]"
     ]
    },
    {
     "name": "stdout",
     "output_type": "stream",
     "text": [
      "Generation:  3\n",
      "Best mean_squared_error score: -0.1836067257657937\n"
     ]
    },
    {
     "name": "stderr",
     "output_type": "stream",
     "text": [
      "Generation: 100%|███████████████████████████████████████████████████████████████████████████████████████████████████████████████████| 4/4 [03:35<00:00, 53.99s/it]"
     ]
    },
    {
     "name": "stdout",
     "output_type": "stream",
     "text": [
      "Generation:  4\n",
      "Best mean_squared_error score: -0.18345807889322235\n"
     ]
    },
    {
     "name": "stderr",
     "output_type": "stream",
     "text": [
      "\n"
     ]
    },
    {
     "name": "stdout",
     "output_type": "stream",
     "text": [
      "✅ hauteur_des_hanches — R² test: 0.6422\n",
      "\n",
      "⚙️ Traitement de la cible : hauteur_des_genoux\n"
     ]
    },
    {
     "name": "stderr",
     "output_type": "stream",
     "text": [
      "c:\\Users\\mbouke.besse\\OneDrive - ESTIA\\Documents\\code-dataset\\.venv\\lib\\site-packages\\tpot\\tpot_estimator\\estimator.py:458: UserWarning: Both generations and max_time_mins are set. TPOT will terminate when the first condition is met.\n",
      "  warnings.warn(\"Both generations and max_time_mins are set. TPOT will terminate when the first condition is met.\")\n",
      "c:\\Users\\mbouke.besse\\OneDrive - ESTIA\\Documents\\code-dataset\\.venv\\lib\\site-packages\\distributed\\node.py:187: UserWarning: Port 8787 is already in use.\n",
      "Perhaps you already have a cluster running?\n",
      "Hosting the HTTP server on port 50395 instead\n",
      "  warnings.warn(\n",
      "Generation:  25%|████████████████████████████▊                                                                                      | 1/4 [00:56<02:50, 56.79s/it]"
     ]
    },
    {
     "name": "stdout",
     "output_type": "stream",
     "text": [
      "Generation:  1\n",
      "Best mean_squared_error score: -0.11772940968615271\n"
     ]
    },
    {
     "name": "stderr",
     "output_type": "stream",
     "text": [
      "Generation:  50%|█████████████████████████████████████████████████████████▌                                                         | 2/4 [01:41<01:39, 49.88s/it]"
     ]
    },
    {
     "name": "stdout",
     "output_type": "stream",
     "text": [
      "Generation:  2\n",
      "Best mean_squared_error score: -0.11772940968615271\n"
     ]
    },
    {
     "name": "stderr",
     "output_type": "stream",
     "text": [
      "Generation:  75%|██████████████████████████████████████████████████████████████████████████████████████▎                            | 3/4 [02:40<00:53, 53.99s/it]"
     ]
    },
    {
     "name": "stdout",
     "output_type": "stream",
     "text": [
      "Generation:  3\n",
      "Best mean_squared_error score: -0.11765459929115005\n"
     ]
    },
    {
     "name": "stderr",
     "output_type": "stream",
     "text": [
      "Generation: 100%|███████████████████████████████████████████████████████████████████████████████████████████████████████████████████| 4/4 [03:35<00:00, 53.96s/it]"
     ]
    },
    {
     "name": "stdout",
     "output_type": "stream",
     "text": [
      "Generation:  4\n",
      "Best mean_squared_error score: -0.11513754422461897\n"
     ]
    },
    {
     "name": "stderr",
     "output_type": "stream",
     "text": [
      "\n"
     ]
    },
    {
     "name": "stdout",
     "output_type": "stream",
     "text": [
      "✅ hauteur_des_genoux — R² test: 0.7684\n",
      "\n",
      "⚙️ Traitement de la cible : tour_du_cou\n"
     ]
    },
    {
     "name": "stderr",
     "output_type": "stream",
     "text": [
      "c:\\Users\\mbouke.besse\\OneDrive - ESTIA\\Documents\\code-dataset\\.venv\\lib\\site-packages\\tpot\\tpot_estimator\\estimator.py:458: UserWarning: Both generations and max_time_mins are set. TPOT will terminate when the first condition is met.\n",
      "  warnings.warn(\"Both generations and max_time_mins are set. TPOT will terminate when the first condition is met.\")\n",
      "c:\\Users\\mbouke.besse\\OneDrive - ESTIA\\Documents\\code-dataset\\.venv\\lib\\site-packages\\distributed\\node.py:187: UserWarning: Port 8787 is already in use.\n",
      "Perhaps you already have a cluster running?\n",
      "Hosting the HTTP server on port 50489 instead\n",
      "  warnings.warn(\n",
      "Generation:  25%|████████████████████████████▊                                                                                      | 1/4 [01:03<03:09, 63.30s/it]"
     ]
    },
    {
     "name": "stdout",
     "output_type": "stream",
     "text": [
      "Generation:  1\n",
      "Best mean_squared_error score: -0.36292806400267236\n"
     ]
    },
    {
     "name": "stderr",
     "output_type": "stream",
     "text": [
      "Generation:  50%|█████████████████████████████████████████████████████████▌                                                         | 2/4 [02:32<02:37, 78.69s/it]"
     ]
    },
    {
     "name": "stdout",
     "output_type": "stream",
     "text": [
      "Generation:  2\n",
      "Best mean_squared_error score: -0.3589912563795007\n"
     ]
    },
    {
     "name": "stderr",
     "output_type": "stream",
     "text": [
      "Generation:  75%|██████████████████████████████████████████████████████████████████████████████████████▎                            | 3/4 [03:14<01:01, 61.67s/it]"
     ]
    },
    {
     "name": "stdout",
     "output_type": "stream",
     "text": [
      "Generation:  3\n",
      "Best mean_squared_error score: -0.3589912563795007\n"
     ]
    },
    {
     "name": "stderr",
     "output_type": "stream",
     "text": [
      "Generation: 100%|███████████████████████████████████████████████████████████████████████████████████████████████████████████████████| 4/4 [03:34<00:00, 53.72s/it]"
     ]
    },
    {
     "name": "stdout",
     "output_type": "stream",
     "text": [
      "Generation:  4\n",
      "Best mean_squared_error score: -0.35768239849567846\n"
     ]
    },
    {
     "name": "stderr",
     "output_type": "stream",
     "text": [
      "\n"
     ]
    },
    {
     "name": "stdout",
     "output_type": "stream",
     "text": [
      "✅ tour_du_cou — R² test: 0.4775\n",
      "\n",
      "⚙️ Traitement de la cible : largeur_d_epaule\n"
     ]
    },
    {
     "name": "stderr",
     "output_type": "stream",
     "text": [
      "c:\\Users\\mbouke.besse\\OneDrive - ESTIA\\Documents\\code-dataset\\.venv\\lib\\site-packages\\tpot\\tpot_estimator\\estimator.py:458: UserWarning: Both generations and max_time_mins are set. TPOT will terminate when the first condition is met.\n",
      "  warnings.warn(\"Both generations and max_time_mins are set. TPOT will terminate when the first condition is met.\")\n",
      "c:\\Users\\mbouke.besse\\OneDrive - ESTIA\\Documents\\code-dataset\\.venv\\lib\\site-packages\\distributed\\node.py:187: UserWarning: Port 8787 is already in use.\n",
      "Perhaps you already have a cluster running?\n",
      "Hosting the HTTP server on port 50658 instead\n",
      "  warnings.warn(\n",
      "Generation:  25%|████████████████████████████▊                                                                                      | 1/4 [01:10<03:31, 70.58s/it]"
     ]
    },
    {
     "name": "stdout",
     "output_type": "stream",
     "text": [
      "Generation:  1\n",
      "Best mean_squared_error score: -0.10924105880275546\n"
     ]
    },
    {
     "name": "stderr",
     "output_type": "stream",
     "text": [
      "Generation:  50%|█████████████████████████████████████████████████████████▌                                                         | 2/4 [02:05<02:02, 61.44s/it]"
     ]
    },
    {
     "name": "stdout",
     "output_type": "stream",
     "text": [
      "Generation:  2\n",
      "Best mean_squared_error score: -0.10923762700431579\n"
     ]
    },
    {
     "name": "stderr",
     "output_type": "stream",
     "text": [
      "Generation:  75%|██████████████████████████████████████████████████████████████████████████████████████▎                            | 3/4 [02:49<00:53, 53.29s/it]"
     ]
    },
    {
     "name": "stdout",
     "output_type": "stream",
     "text": [
      "Generation:  3\n",
      "Best mean_squared_error score: -0.10762265599732246\n"
     ]
    },
    {
     "name": "stderr",
     "output_type": "stream",
     "text": [
      "Generation: 100%|███████████████████████████████████████████████████████████████████████████████████████████████████████████████████| 4/4 [03:23<00:00, 50.89s/it]"
     ]
    },
    {
     "name": "stdout",
     "output_type": "stream",
     "text": [
      "Generation:  4\n",
      "Best mean_squared_error score: -0.10762265599732246\n"
     ]
    },
    {
     "name": "stderr",
     "output_type": "stream",
     "text": [
      "\n",
      "c:\\Users\\mbouke.besse\\OneDrive - ESTIA\\Documents\\code-dataset\\.venv\\lib\\site-packages\\sklearn\\feature_selection\\_univariate_selection.py:112: RuntimeWarning: divide by zero encountered in divide\n",
      "  f = msb / msw\n"
     ]
    },
    {
     "name": "stdout",
     "output_type": "stream",
     "text": [
      "✅ largeur_d_epaule — R² test: 0.8061\n",
      "\n",
      "⚙️ Traitement de la cible : hauteur_des_epaules\n"
     ]
    },
    {
     "name": "stderr",
     "output_type": "stream",
     "text": [
      "c:\\Users\\mbouke.besse\\OneDrive - ESTIA\\Documents\\code-dataset\\.venv\\lib\\site-packages\\tpot\\tpot_estimator\\estimator.py:458: UserWarning: Both generations and max_time_mins are set. TPOT will terminate when the first condition is met.\n",
      "  warnings.warn(\"Both generations and max_time_mins are set. TPOT will terminate when the first condition is met.\")\n",
      "c:\\Users\\mbouke.besse\\OneDrive - ESTIA\\Documents\\code-dataset\\.venv\\lib\\site-packages\\distributed\\node.py:187: UserWarning: Port 8787 is already in use.\n",
      "Perhaps you already have a cluster running?\n",
      "Hosting the HTTP server on port 50833 instead\n",
      "  warnings.warn(\n",
      "Generation:  25%|████████████████████████████▊                                                                                      | 1/4 [01:03<03:11, 63.86s/it]"
     ]
    },
    {
     "name": "stdout",
     "output_type": "stream",
     "text": [
      "Generation:  1\n",
      "Best mean_squared_error score: -0.05631328021954636\n"
     ]
    },
    {
     "name": "stderr",
     "output_type": "stream",
     "text": [
      "Generation:  50%|█████████████████████████████████████████████████████████                                                         | 2/4 [03:38<03:54, 117.05s/it]"
     ]
    },
    {
     "name": "stdout",
     "output_type": "stream",
     "text": [
      "Generation:  2\n",
      "Best mean_squared_error score: -0.05586783227712003\n"
     ]
    },
    {
     "name": "stderr",
     "output_type": "stream",
     "text": [
      "Generation:  75%|██████████████████████████████████████████████████████████████████████████████████████▎                            | 3/4 [04:48<01:35, 95.64s/it]"
     ]
    },
    {
     "name": "stdout",
     "output_type": "stream",
     "text": [
      "Generation:  3\n",
      "Best mean_squared_error score: -0.05586783227712003\n"
     ]
    },
    {
     "name": "stderr",
     "output_type": "stream",
     "text": [
      "Generation: 100%|███████████████████████████████████████████████████████████████████████████████████████████████████████████████████| 4/4 [06:00<00:00, 90.13s/it]"
     ]
    },
    {
     "name": "stdout",
     "output_type": "stream",
     "text": [
      "Generation:  4\n",
      "Best mean_squared_error score: -0.05247450908297423\n"
     ]
    },
    {
     "name": "stderr",
     "output_type": "stream",
     "text": [
      "\n",
      "c:\\Users\\mbouke.besse\\OneDrive - ESTIA\\Documents\\code-dataset\\.venv\\lib\\site-packages\\sklearn\\neural_network\\_multilayer_perceptron.py:691: ConvergenceWarning: Stochastic Optimizer: Maximum iterations (200) reached and the optimization hasn't converged yet.\n",
      "  warnings.warn(\n"
     ]
    },
    {
     "name": "stdout",
     "output_type": "stream",
     "text": [
      "✅ hauteur_des_epaules — R² test: 0.9317\n",
      "\n",
      "⚙️ Traitement de la cible : largeur_des_epaules_a_l_horizontales\n"
     ]
    },
    {
     "name": "stderr",
     "output_type": "stream",
     "text": [
      "c:\\Users\\mbouke.besse\\OneDrive - ESTIA\\Documents\\code-dataset\\.venv\\lib\\site-packages\\tpot\\tpot_estimator\\estimator.py:458: UserWarning: Both generations and max_time_mins are set. TPOT will terminate when the first condition is met.\n",
      "  warnings.warn(\"Both generations and max_time_mins are set. TPOT will terminate when the first condition is met.\")\n",
      "c:\\Users\\mbouke.besse\\OneDrive - ESTIA\\Documents\\code-dataset\\.venv\\lib\\site-packages\\distributed\\node.py:187: UserWarning: Port 8787 is already in use.\n",
      "Perhaps you already have a cluster running?\n",
      "Hosting the HTTP server on port 51133 instead\n",
      "  warnings.warn(\n",
      "Generation:  25%|████████████████████████████▊                                                                                      | 1/4 [01:27<04:23, 87.74s/it]"
     ]
    },
    {
     "name": "stdout",
     "output_type": "stream",
     "text": [
      "Generation:  1\n",
      "Best mean_squared_error score: -0.0796862859076849\n"
     ]
    },
    {
     "name": "stderr",
     "output_type": "stream",
     "text": [
      "Generation:  50%|█████████████████████████████████████████████████████████▌                                                         | 2/4 [02:36<02:33, 76.80s/it]"
     ]
    },
    {
     "name": "stdout",
     "output_type": "stream",
     "text": [
      "Generation:  2\n",
      "Best mean_squared_error score: -0.0795526277773156\n"
     ]
    },
    {
     "name": "stderr",
     "output_type": "stream",
     "text": [
      "Generation:  75%|██████████████████████████████████████████████████████████████████████████████████████▎                            | 3/4 [03:42<01:11, 71.60s/it]"
     ]
    },
    {
     "name": "stdout",
     "output_type": "stream",
     "text": [
      "Generation:  3\n",
      "Best mean_squared_error score: -0.0795526277773156\n"
     ]
    },
    {
     "name": "stderr",
     "output_type": "stream",
     "text": [
      "Generation: 100%|███████████████████████████████████████████████████████████████████████████████████████████████████████████████████| 4/4 [05:56<00:00, 89.08s/it]"
     ]
    },
    {
     "name": "stdout",
     "output_type": "stream",
     "text": [
      "Generation:  4\n",
      "Best mean_squared_error score: -0.0795526277773156\n"
     ]
    },
    {
     "name": "stderr",
     "output_type": "stream",
     "text": [
      "\n",
      "c:\\Users\\mbouke.besse\\OneDrive - ESTIA\\Documents\\code-dataset\\.venv\\lib\\site-packages\\sklearn\\feature_selection\\_univariate_selection.py:112: RuntimeWarning: divide by zero encountered in divide\n",
      "  f = msb / msw\n",
      "c:\\Users\\mbouke.besse\\OneDrive - ESTIA\\Documents\\code-dataset\\.venv\\lib\\site-packages\\sklearn\\utils\\validation.py:2739: UserWarning: X does not have valid feature names, but LGBMRegressor was fitted with feature names\n",
      "  warnings.warn(\n",
      "c:\\Users\\mbouke.besse\\OneDrive - ESTIA\\Documents\\code-dataset\\.venv\\lib\\site-packages\\sklearn\\utils\\validation.py:2739: UserWarning: X does not have valid feature names, but LGBMRegressor was fitted with feature names\n",
      "  warnings.warn(\n",
      "c:\\Users\\mbouke.besse\\OneDrive - ESTIA\\Documents\\code-dataset\\.venv\\lib\\site-packages\\sklearn\\utils\\validation.py:2739: UserWarning: X does not have valid feature names, but LGBMRegressor was fitted with feature names\n",
      "  warnings.warn(\n",
      "c:\\Users\\mbouke.besse\\OneDrive - ESTIA\\Documents\\code-dataset\\.venv\\lib\\site-packages\\sklearn\\utils\\validation.py:2739: UserWarning: X does not have valid feature names, but LGBMRegressor was fitted with feature names\n",
      "  warnings.warn(\n",
      "c:\\Users\\mbouke.besse\\OneDrive - ESTIA\\Documents\\code-dataset\\.venv\\lib\\site-packages\\sklearn\\utils\\validation.py:2739: UserWarning: X does not have valid feature names, but LGBMRegressor was fitted with feature names\n",
      "  warnings.warn(\n",
      "c:\\Users\\mbouke.besse\\OneDrive - ESTIA\\Documents\\code-dataset\\.venv\\lib\\site-packages\\sklearn\\utils\\validation.py:2739: UserWarning: X does not have valid feature names, but LGBMRegressor was fitted with feature names\n",
      "  warnings.warn(\n",
      "c:\\Users\\mbouke.besse\\OneDrive - ESTIA\\Documents\\code-dataset\\.venv\\lib\\site-packages\\tpot\\tpot_estimator\\estimator.py:458: UserWarning: Both generations and max_time_mins are set. TPOT will terminate when the first condition is met.\n",
      "  warnings.warn(\"Both generations and max_time_mins are set. TPOT will terminate when the first condition is met.\")\n",
      "c:\\Users\\mbouke.besse\\OneDrive - ESTIA\\Documents\\code-dataset\\.venv\\lib\\site-packages\\distributed\\node.py:187: UserWarning: Port 8787 is already in use.\n",
      "Perhaps you already have a cluster running?\n",
      "Hosting the HTTP server on port 51380 instead\n",
      "  warnings.warn(\n"
     ]
    },
    {
     "name": "stdout",
     "output_type": "stream",
     "text": [
      "✅ largeur_des_epaules_a_l_horizontales — R² test: 0.8796\n",
      "\n",
      "⚙️ Traitement de la cible : longueur_de_la_colonne_vertebrale_jusqu_au_poignet\n"
     ]
    },
    {
     "name": "stderr",
     "output_type": "stream",
     "text": [
      "Generation:  25%|████████████████████████████▊                                                                                      | 1/4 [01:14<03:43, 74.38s/it]"
     ]
    },
    {
     "name": "stdout",
     "output_type": "stream",
     "text": [
      "Generation:  1\n",
      "Best mean_squared_error score: -0.17598324303448276\n"
     ]
    },
    {
     "name": "stderr",
     "output_type": "stream",
     "text": [
      "Generation:  50%|█████████████████████████████████████████████████████████                                                         | 2/4 [03:52<04:06, 123.48s/it]"
     ]
    },
    {
     "name": "stdout",
     "output_type": "stream",
     "text": [
      "Generation:  2\n",
      "Best mean_squared_error score: -0.17598324303448276\n"
     ]
    },
    {
     "name": "stderr",
     "output_type": "stream",
     "text": [
      "Generation:  75%|█████████████████████████████████████████████████████████████████████████████████████▌                            | 3/4 [05:23<01:48, 108.90s/it]"
     ]
    },
    {
     "name": "stdout",
     "output_type": "stream",
     "text": [
      "Generation:  3\n",
      "Best mean_squared_error score: -0.17588472810026212\n"
     ]
    },
    {
     "name": "stderr",
     "output_type": "stream",
     "text": [
      "Generation: 100%|███████████████████████████████████████████████████████████████████████████████████████████████████████████████████| 4/4 [05:58<00:00, 89.69s/it]"
     ]
    },
    {
     "name": "stdout",
     "output_type": "stream",
     "text": [
      "Generation:  4\n",
      "Best mean_squared_error score: -0.17588472810026212\n"
     ]
    },
    {
     "name": "stderr",
     "output_type": "stream",
     "text": [
      "\n"
     ]
    },
    {
     "name": "stdout",
     "output_type": "stream",
     "text": [
      "✅ longueur_de_la_colonne_vertebrale_jusqu_au_poignet — R² test: 0.7161\n",
      "\n",
      "⚙️ Traitement de la cible : tour_de_cuisse\n"
     ]
    },
    {
     "name": "stderr",
     "output_type": "stream",
     "text": [
      "c:\\Users\\mbouke.besse\\OneDrive - ESTIA\\Documents\\code-dataset\\.venv\\lib\\site-packages\\tpot\\tpot_estimator\\estimator.py:458: UserWarning: Both generations and max_time_mins are set. TPOT will terminate when the first condition is met.\n",
      "  warnings.warn(\"Both generations and max_time_mins are set. TPOT will terminate when the first condition is met.\")\n",
      "c:\\Users\\mbouke.besse\\OneDrive - ESTIA\\Documents\\code-dataset\\.venv\\lib\\site-packages\\distributed\\node.py:187: UserWarning: Port 8787 is already in use.\n",
      "Perhaps you already have a cluster running?\n",
      "Hosting the HTTP server on port 51599 instead\n",
      "  warnings.warn(\n",
      "Generation:  25%|████████████████████████████▊                                                                                      | 1/4 [01:16<03:48, 76.26s/it]"
     ]
    },
    {
     "name": "stdout",
     "output_type": "stream",
     "text": [
      "Generation:  1\n",
      "Best mean_squared_error score: -0.14880261122465618\n"
     ]
    },
    {
     "name": "stderr",
     "output_type": "stream",
     "text": [
      "Generation:  50%|█████████████████████████████████████████████████████████                                                         | 2/4 [04:50<05:14, 157.29s/it]"
     ]
    },
    {
     "name": "stdout",
     "output_type": "stream",
     "text": [
      "Generation:  2\n",
      "Best mean_squared_error score: -0.14880261122465618\n"
     ]
    },
    {
     "name": "stderr",
     "output_type": "stream",
     "text": [
      "Generation:  75%|█████████████████████████████████████████████████████████████████████████████████████▌                            | 3/4 [06:28<02:10, 130.11s/it]"
     ]
    },
    {
     "name": "stdout",
     "output_type": "stream",
     "text": [
      "Generation:  3\n",
      "Best mean_squared_error score: -0.11983537592695274\n"
     ]
    },
    {
     "name": "stderr",
     "output_type": "stream",
     "text": [
      "Generation: 100%|██████████████████████████████████████████████████████████████████████████████████████████████████████████████████| 4/4 [10:35<00:00, 158.93s/it]"
     ]
    },
    {
     "name": "stdout",
     "output_type": "stream",
     "text": [
      "Generation:  4\n",
      "Best mean_squared_error score: -0.11983537592695274\n"
     ]
    },
    {
     "name": "stderr",
     "output_type": "stream",
     "text": [
      "\n"
     ]
    },
    {
     "name": "stdout",
     "output_type": "stream",
     "text": [
      "✅ tour_de_cuisse — R² test: 0.8604\n",
      "\n",
      "⚙️ Traitement de la cible : tour_de_taille\n"
     ]
    },
    {
     "name": "stderr",
     "output_type": "stream",
     "text": [
      "c:\\Users\\mbouke.besse\\OneDrive - ESTIA\\Documents\\code-dataset\\.venv\\lib\\site-packages\\tpot\\tpot_estimator\\estimator.py:458: UserWarning: Both generations and max_time_mins are set. TPOT will terminate when the first condition is met.\n",
      "  warnings.warn(\"Both generations and max_time_mins are set. TPOT will terminate when the first condition is met.\")\n",
      "c:\\Users\\mbouke.besse\\OneDrive - ESTIA\\Documents\\code-dataset\\.venv\\lib\\site-packages\\distributed\\node.py:187: UserWarning: Port 8787 is already in use.\n",
      "Perhaps you already have a cluster running?\n",
      "Hosting the HTTP server on port 51959 instead\n",
      "  warnings.warn(\n",
      "Generation:   0%|                                                                                                                           | 0/4 [00:00<?, ?it/s]"
     ]
    }
   ],
   "source": [
    "from tpot import TPOTRegressor\n",
    "from sklearn.model_selection import train_test_split\n",
    "from sklearn.impute import SimpleImputer\n",
    "import pandas as pd\n",
    "import numpy as np\n",
    "\n",
    "def entrainer_tpot_regressions(df, colonnes_explicatives, colonnes_cibles, generations=4, population_size=20, random_state=42):\n",
    "    \"\"\"\n",
    "    Utilise TPOT pour entraîner un modèle de régression automatique pour chaque variable cible.\n",
    "\n",
    "    Args:\n",
    "        df (pd.DataFrame): Le DataFrame complet.\n",
    "        colonnes_explicatives (list): Colonnes d'entrée.\n",
    "        colonnes_cibles (list): Colonnes cibles à prédire.\n",
    "        generations (int): Nombre de générations pour TPOT.\n",
    "        population_size (int): Taille de la population.\n",
    "        random_state (int): Graine aléatoire.\n",
    "\n",
    "    Returns:\n",
    "        dict: Contient le score R² et le pipeline pour chaque cible.\n",
    "    \"\"\"\n",
    "    resultats = {}\n",
    "\n",
    "    # 1. Imputation des NaN\n",
    "    imputer = SimpleImputer(strategy='median')\n",
    "    df_imputed = pd.DataFrame(imputer.fit_transform(df), columns=df.columns)\n",
    "\n",
    "    for cible in colonnes_cibles:\n",
    "        print(f\"\\n⚙️ Traitement de la cible : {cible}\")\n",
    "\n",
    "        X = df_imputed[colonnes_explicatives]\n",
    "        y = df_imputed[cible]\n",
    "\n",
    "        # 2. Split pour test\n",
    "        X_train, X_test, y_train, y_test = train_test_split(\n",
    "            X, y, test_size=0.2, random_state=random_state\n",
    "        )\n",
    "\n",
    "        # 3. TPOT\n",
    "        tpot = TPOTRegressor(\n",
    "            generations=generations,\n",
    "            population_size=population_size,\n",
    "            verbose=3,\n",
    "            random_state=random_state,\n",
    "            n_jobs=1,\n",
    "            cv=2\n",
    "        )\n",
    "\n",
    "        tpot.fit(X_train, y_train)\n",
    "\n",
    "        # 4. Score sur test\n",
    "        r2_test = tpot.fitted_pipeline_.score(X_test, y_test)\n",
    "        print(f\"✅ {cible} — R² test: {r2_test:.4f}\")\n",
    "\n",
    "        resultats[cible] = {\n",
    "            'r2_test': r2_test,\n",
    "            'pipeline': tpot.fitted_pipeline_,\n",
    "            'tpot_object': tpot\n",
    "        }\n",
    "\n",
    "    return resultats\n",
    "colonnes_X = ['taille', 'age', 'weight',\n",
    "              'categorie_ventre_plat', 'categorie_ventre_moyen', 'categorie_ventre_rond',\n",
    "              'categorie_torse_fin', 'categorie_torse_moyen', 'categorie_torse_large',\n",
    "              'categorie_cuisses_fines', 'categorie_cuisses_moyennes', 'categorie_cuisses_larges']\n",
    "\n",
    "colonnes_X_valides = [col for col in colonnes_X if col in df_scaled.columns]\n",
    "colonnes_y = [col for col in df_scaled.columns if col not in colonnes_X_valides]\n",
    "\n",
    "resultats_tpot = entrainer_tpot_regressions(df_scaled, colonnes_X_valides, colonnes_y)\n"
   ]
  }
 ],
 "metadata": {
  "kernelspec": {
   "display_name": "Python 3 (ipykernel)",
   "language": "python",
   "name": "python3"
  },
  "language_info": {
   "codemirror_mode": {
    "name": "ipython",
    "version": 3
   },
   "file_extension": ".py",
   "mimetype": "text/x-python",
   "name": "python",
   "nbconvert_exporter": "python",
   "pygments_lexer": "ipython3",
   "version": "3.10.10"
  }
 },
 "nbformat": 4,
 "nbformat_minor": 5
}

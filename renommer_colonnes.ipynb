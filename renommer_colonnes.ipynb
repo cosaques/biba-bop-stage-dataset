{
 "cells": [
  {
   "cell_type": "code",
   "execution_count": 1,
   "id": "321e083d",
   "metadata": {
    "execution": {
     "iopub.execute_input": "2025-07-15T09:26:38.603816Z",
     "iopub.status.busy": "2025-07-15T09:26:38.603816Z",
     "iopub.status.idle": "2025-07-15T09:26:39.193762Z",
     "shell.execute_reply": "2025-07-15T09:26:39.192839Z",
     "shell.execute_reply.started": "2025-07-15T09:26:38.603816Z"
    },
    "vscode": {
     "languageId": "plaintext"
    }
   },
   "outputs": [],
   "source": [
    "import pandas as pd"
   ]
  },
  {
   "cell_type": "code",
   "execution_count": 33,
   "id": "0b34f0bd",
   "metadata": {
    "execution": {
     "iopub.execute_input": "2025-07-15T12:44:44.371371Z",
     "iopub.status.busy": "2025-07-15T12:44:44.371371Z",
     "iopub.status.idle": "2025-07-15T12:44:44.687553Z",
     "shell.execute_reply": "2025-07-15T12:44:44.685559Z",
     "shell.execute_reply.started": "2025-07-15T12:44:44.371371Z"
    },
    "vscode": {
     "languageId": "plaintext"
    }
   },
   "outputs": [
    {
     "name": "stdout",
     "output_type": "stream",
     "text": [
      "\n",
      "\n",
      "=== Mesure : Age ===\n",
      "       ANSUR II MALE  ANSUR II FEMALE  BDIMS MALE  BDIMS FEMALE  CAESAR MALE  \\\n",
      "count    4082.000000      1986.000000  247.000000    260.000000  2102.000000   \n",
      "mean       30.158991        28.943605   31.668016     28.769231    37.538297   \n",
      "std         8.810118         8.332078   10.151450      8.853190    12.763015   \n",
      "min        17.000000        17.000000   18.000000     18.000000    17.500000   \n",
      "25%        23.000000        22.000000   24.000000     22.000000    26.200000   \n",
      "50%        28.000000        27.000000   29.000000     26.000000    37.000000   \n",
      "75%        36.000000        34.000000   37.000000     34.000000    47.000000   \n",
      "max        58.000000        58.000000   65.000000     67.000000    79.000000   \n",
      "\n",
      "       CAESAR FEMALE  \n",
      "count    2350.000000  \n",
      "mean       38.013191  \n",
      "std        12.804536  \n",
      "min        18.000000  \n",
      "25%        27.000000  \n",
      "50%        37.000000  \n",
      "75%        48.000000  \n",
      "max        69.000000  \n",
      "\n",
      "\n",
      "=== Mesure : Taille ===\n",
      "       ANSUR II MALE  ANSUR II FEMALE  BDIMS MALE  BDIMS FEMALE  CAESAR MALE  \\\n",
      "count    4082.000000      1986.000000  247.000000    260.000000  2106.000000   \n",
      "mean     1756.214601      1628.473313  177.745344    164.872308    70.044720   \n",
      "std        68.550788        64.199512    7.183629      6.544602     3.319303   \n",
      "min      1491.000000      1409.000000  157.200000    147.200000    51.770000   \n",
      "25%      1710.000000      1586.250000  172.900000    160.000000    67.800000   \n",
      "50%      1755.000000      1626.000000  177.800000    164.500000    69.880000   \n",
      "75%      1802.000000      1672.000000  182.650000    169.500000    72.170000   \n",
      "max      1993.000000      1829.000000  198.100000    182.900000    85.940000   \n",
      "\n",
      "       CAESAR FEMALE  \n",
      "count    2352.000000  \n",
      "mean       64.835787  \n",
      "std         2.992799  \n",
      "min        49.130000  \n",
      "25%        62.800000  \n",
      "50%        64.720000  \n",
      "75%        66.770000  \n",
      "max        76.690000  \n"
     ]
    }
   ],
   "source": [
    "import pandas as pd\n",
    "\n",
    "# Charger les fichiers\n",
    "df_male = pd.read_csv('data/ANSUR_II_MALE_corrigé.csv', encoding='cp1252', sep=';')\n",
    "df_female = pd.read_csv('data/ANSUR_II_FEMALE_corrigé.csv', encoding='cp1252', sep=';')\n",
    "df_bdims = pd.read_csv('data/bdims_corrigé.csv', encoding='cp1252', sep=',')\n",
    "df_caesar = pd.read_csv('data/caesar_corrigé.csv', encoding='cp1252', sep=';')\n",
    "\n",
    "# Séparer BDIMS en hommes (1) et femmes (0)\n",
    "df_bdims_male = df_bdims[df_bdims['Sexe'] == 1]\n",
    "df_bdims_female = df_bdims[df_bdims['Sexe'] == 0]\n",
    "\n",
    "# Séparer CAESAR en hommes (1) et femmes (0) (supposant que la colonne s'appelle aussi 'sex')\n",
    "df_caesar_male = df_caesar[df_caesar['Sexe'] == 'male']\n",
    "df_caesar_female = df_caesar[df_caesar['Sexe'] == 'female']\n",
    "\n",
    "# Trouver les colonnes communes (en incluant les nouvelles séparations)\n",
    "colonnes_communes = list(\n",
    "    set(df_male.columns) & \n",
    "    set(df_female.columns) & \n",
    "    set(df_bdims_male.columns) & \n",
    "    set(df_bdims_female.columns) & \n",
    "    set(df_caesar_male.columns) & \n",
    "    set(df_caesar_female.columns)\n",
    ")\n",
    "\n",
    "colonnes_communes.sort()  # Pour lisibilité\n",
    "\n",
    "# Pour chaque mesure, créer un tableau comparatif\n",
    "for col in colonnes_communes:\n",
    "    desc_male = df_male[col].describe()\n",
    "    desc_female = df_female[col].describe()\n",
    "    desc_bdims_male = df_bdims_male[col].describe()\n",
    "    desc_bdims_female = df_bdims_female[col].describe()\n",
    "    desc_caesar_male = df_caesar_male[col].describe()\n",
    "    desc_caesar_female = df_caesar_female[col].describe()\n",
    "    \n",
    "    # Créer un DataFrame avec les statistiques comme lignes\n",
    "    comparaison = pd.DataFrame({\n",
    "        'ANSUR II MALE': desc_male,\n",
    "        'ANSUR II FEMALE': desc_female,\n",
    "        'BDIMS MALE': desc_bdims_male,\n",
    "        'BDIMS FEMALE': desc_bdims_female,\n",
    "        'CAESAR MALE': desc_caesar_male,\n",
    "        'CAESAR FEMALE': desc_caesar_female\n",
    "    })\n",
    "\n",
    "    print(f\"\\n\\n=== Mesure : {col} ===\")\n",
    "    print(comparaison)    "
   ]
  },
  {
   "cell_type": "code",
   "execution_count": 25,
   "id": "96098b29-6ef7-4a79-84e8-9f89093bd742",
   "metadata": {
    "execution": {
     "iopub.execute_input": "2025-07-15T12:29:31.254740Z",
     "iopub.status.busy": "2025-07-15T12:29:31.254740Z",
     "iopub.status.idle": "2025-07-15T12:29:31.270517Z",
     "shell.execute_reply": "2025-07-15T12:29:31.268518Z",
     "shell.execute_reply.started": "2025-07-15T12:29:31.254740Z"
    }
   },
   "outputs": [
    {
     "data": {
      "text/plain": [
       "Index(['Largeur des epaules (biacromiale)', 'Largeur des hanches (bi-iliaque)',\n",
       "       'Largeur des hanches (bitrochanterienne)', 'Profondeur de poitrine',\n",
       "       'Largeur de poitrine', 'Largeur du coude', 'Largeur du poignet',\n",
       "       'Largeur du genou', 'Largeur de la cheville', 'Tour d_epaule',\n",
       "       'Tour de poitrine', 'Tour de taille', 'Tour du nombril',\n",
       "       'Tour de hanches', 'Tour de cuisse', 'Tour de biceps',\n",
       "       'Tour d_avant-bras', 'Tour de genou', 'Tour de mollet',\n",
       "       'Tour de cheville', 'Tour de poignet', 'Age', 'Poids', 'Taille',\n",
       "       'Sexe'],\n",
       "      dtype='object')"
      ]
     },
     "execution_count": 25,
     "metadata": {},
     "output_type": "execute_result"
    }
   ],
   "source": [
    "df_bdims.columns"
   ]
  },
  {
   "cell_type": "code",
   "execution_count": 26,
   "id": "3642bce3-b185-4c99-ba3b-977e01464bca",
   "metadata": {
    "execution": {
     "iopub.execute_input": "2025-07-15T12:29:32.415259Z",
     "iopub.status.busy": "2025-07-15T12:29:32.414245Z",
     "iopub.status.idle": "2025-07-15T12:29:32.437308Z",
     "shell.execute_reply": "2025-07-15T12:29:32.435306Z",
     "shell.execute_reply.started": "2025-07-15T12:29:32.415259Z"
    }
   },
   "outputs": [
    {
     "data": {
      "text/plain": [
       "Index(['index', 'Unnamed: 0', 'Age', 'num_children', 'Sexe', 'reported_height',\n",
       "       'reported_weight', 'reported_pants_size_waist',\n",
       "       'reported_pants_size_inseam', 'Tour de poitrine mesure a la main',\n",
       "       'bra_size_cup', 'age_range', 'shoe_size_us', 'Tour de cheville',\n",
       "       'spine_to_scye_len', 'spine_to_elbow_len', 'Longueur de bras',\n",
       "       'Longueur du bras', 'arm_len_shoulder_elbow', 'scye_circum',\n",
       "       'Tour de poitrine', 'chest_circum_below_bust', 'chest_circum_scye',\n",
       "       'Hauteur d_entrejambe', 'hand_len', 'Tour de hanches haut',\n",
       "       'Hauteur des hanches', 'Tour du cou', 'Largeur des epaules', 'Taille',\n",
       "       'Tour de cuisse', 'u_crotch', 'Tour de taille', 'Hauteur de la taille',\n",
       "       'Poids', 'Largeur des epaules a l_horizontale', 'bicristal_breadth',\n",
       "       'bust_to_bust', 'cervical_height', 'Hauteur de poitrine',\n",
       "       'interscye_dist', 'Hauteur des epaules', 'acromion_radial_len',\n",
       "       'ankle_height_inside', 'ankle_height_outside', 'axilla_height',\n",
       "       'elbow_height', 'Hauteur des genoux', 'Longueur de l_avant-bras',\n",
       "       'sleeve_inseam', 'Longueur du cote', 'acromion_radial_stylion_len',\n",
       "       'Longueur de l_epaule', 'dataset'],\n",
       "      dtype='object')"
      ]
     },
     "execution_count": 26,
     "metadata": {},
     "output_type": "execute_result"
    }
   ],
   "source": [
    "df_caesar.columns"
   ]
  },
  {
   "cell_type": "code",
   "execution_count": 31,
   "id": "905dbb6f-9534-4a51-9a7d-e258ba9f25ff",
   "metadata": {
    "execution": {
     "iopub.execute_input": "2025-07-15T12:39:11.591482Z",
     "iopub.status.busy": "2025-07-15T12:39:11.590477Z",
     "iopub.status.idle": "2025-07-15T12:39:11.610589Z",
     "shell.execute_reply": "2025-07-15T12:39:11.608625Z",
     "shell.execute_reply.started": "2025-07-15T12:39:11.591482Z"
    }
   },
   "outputs": [
    {
     "name": "stdout",
     "output_type": "stream",
     "text": [
      "ANSUR MALE : ['ID sujet', 'Profondeur abdominale assis', 'Hauteur acromiale', 'Longueur acromion-radial', 'Circonference de la cheville', 'Hauteur de l_aisselle', 'Circonference du metatarse', 'Longueur du metatarse', 'Largeur biacromiale', 'Circonference du biceps flechi', 'Largeur bicristale', 'Largeur bideltoïdienne', 'Largeur bimalleolaire', 'Arc tragion-menton', 'Arc tragion-sous-mandibule', 'Largeur bizygomatique', 'Circonference des fesses', 'Profondeur des fesses', 'Hauteur des fesses', 'Longueur fesses-genoux', 'Longueur fesses-poplite', 'Circonference du mollet', 'Hauteur cervicale', 'Largeur de la poitrine', 'Circonference de la poitrine', 'Profondeur de la poitrine', 'Hauteur de la poitrine', 'Hauteur de l_entrejambe', 'Longueur entrejambe-omphalion', 'Longueur entrejambe-posterieure-omphalion', 'Largeur de l_oreille', 'Longueur de l_oreille', 'Saillie de l_oreille', 'Hauteur du coude au repos', 'Hauteur des yeux assis', 'Largeur du pied (horizontal)', 'Longueur du pied', 'Longueur centre-prise avant-bras', 'Circonference de l_avant-bras flechi', 'Largeur avant-bras', 'Longueur avant-bras-main', 'Longueur fonctionnelle de la jambe', 'Largeur de la main', 'Circonference de la main', 'Longueur de la main', 'Largeur de la tête', 'Circonference de la tête', 'Longueur de la tête', 'Circonference talon-cheville', 'Largeur du talon', 'Largeur des hanches', 'Largeur des hanches assis', 'Hauteur ilio-cristale', 'Largeur interpupillaire', 'Distance interscye I', 'Distance interscye II', 'Hauteur du genou (milieu de la rotule)', 'Hauteur du genou assis', 'Hauteur de l_epicondyle femoral lateral', 'Hauteur de la malleole laterale', 'Circonference basse de la cuisse', 'Longueur menton-sellion', 'Circonference du cou', 'Circonference de la base du cou', 'Portee des doigts au-dessus de la tête assis', 'Longueur de la paume', 'Hauteur poplitee', 'Longueur radius-stylion', 'Circonference de l_epaule', 'Longueur epaule-coude', 'Longueur de l_epaule', 'Hauteur assise', 'Longueur de manche (colonne vertebrale-poignet)', 'Longueur exterieure de la manche', 'Envergure', 'Taille', 'Hauteur suprasternale', 'Hauteur de la 10e côte', 'Circonference de la cuisse', 'Degagement de la cuisse', 'Portee du bout du pouce', 'Hauteur tibiale', 'Hauteur tragion-sommet de la tête', 'Hauteur trochanterienne', 'Circonference verticale du tronc (USA)', 'Longueur arrière de la taille', 'Largeur de la taille', 'Circonference de la taille', 'Profondeur de la taille', 'Longueur frontale de la taille assis', 'Hauteur taille-omphalion', 'Poids (kg)', 'Circonference du poignet', 'Hauteur du poignet', 'Genre', 'Date', 'Installation', 'Composant', 'Branche', 'Specialite principale (MOS)', 'Lieu de naissance du sujet', 'Race numerique du sujet', 'Ethnie', 'Race (DOD)', 'Age', 'Taille (pouces)', 'Poids (livres)', 'Preference d_ecriture']\n"
     ]
    }
   ],
   "source": [
    "print(\"ANSUR MALE :\", df_male.columns.tolist())"
   ]
  },
  {
   "cell_type": "code",
   "execution_count": null,
   "id": "8175f6af-3628-402f-b6b9-7b41163b4d6b",
   "metadata": {},
   "outputs": [],
   "source": []
  }
 ],
 "metadata": {
  "kernelspec": {
   "display_name": "Python 3 (ipykernel)",
   "language": "python",
   "name": "python3"
  },
  "language_info": {
   "codemirror_mode": {
    "name": "ipython",
    "version": 3
   },
   "file_extension": ".py",
   "mimetype": "text/x-python",
   "name": "python",
   "nbconvert_exporter": "python",
   "pygments_lexer": "ipython3",
   "version": "3.10.10"
  }
 },
 "nbformat": 4,
 "nbformat_minor": 5
}

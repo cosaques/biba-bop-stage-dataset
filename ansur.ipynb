{
 "cells": [
  {
   "cell_type": "code",
   "execution_count": 1,
   "id": "25e15d2a",
   "metadata": {
    "execution": {
     "iopub.execute_input": "2025-07-10T14:57:55.219604Z",
     "iopub.status.busy": "2025-07-10T14:57:55.219604Z",
     "iopub.status.idle": "2025-07-10T14:58:02.378188Z",
     "shell.execute_reply": "2025-07-10T14:58:02.375195Z",
     "shell.execute_reply.started": "2025-07-10T14:57:55.219604Z"
    }
   },
   "outputs": [],
   "source": [
    " import pandas as pd"
   ]
  },
  {
   "cell_type": "code",
   "execution_count": 2,
   "id": "30e59d36",
   "metadata": {
    "execution": {
     "iopub.execute_input": "2025-07-10T14:58:02.382729Z",
     "iopub.status.busy": "2025-07-10T14:58:02.381709Z",
     "iopub.status.idle": "2025-07-10T14:58:02.597557Z",
     "shell.execute_reply": "2025-07-10T14:58:02.594557Z",
     "shell.execute_reply.started": "2025-07-10T14:58:02.382729Z"
    }
   },
   "outputs": [],
   "source": [
    "man_df = pd.read_csv('data/ANSUR_II_MALE.csv', encoding='cp1252', sep=';')\n",
    "man_df = man_df[[\"stature\",\n",
    "\"anklecircumference\",\n",
    "\"shoulderelbowlength\",\n",
    "\"waistbacklength\",\n",
    "\"biacromialbreadth\",\n",
    "\"waistcircumference\",\n",
    "\"bicepscircumferenceflexed\",\n",
    "\"chestcircumference\",\n",
    "\"chestheight\",\n",
    "\"calfcircumference\",\n",
    "\"crotchheight\",\n",
    "\"forearmcircumferenceflexed\",\n",
    "\"forearmcenterofgriplength\",\n",
    "\"headcircumference\",\n",
    "\"hipbreadth\",\n",
    "\"iliocristaleheight\",\n",
    "\"kneeheightmidpatella\",\n",
    "\"neckcircumference\",\n",
    "\"buttockkneelength\",\n",
    "\"biacromialbreadth\",\n",
    "\"acromialheight\",\n",
    "\"bideltoidbreadth\",\n",
    "\"sleevelengthspinewrist\",\n",
    "\"thighcircumference\",\n",
    "\"sittingheight\",\n",
    "\"shoulderelbowlength\",\n",
    "\"waistbreadth\",\n",
    "\"waistcircumference\",\n",
    "\"waistheightomphalion\",\n",
    "\"wristcircumference\",\n",
    "\"Weightlbs\",\n",
    "\"Age\"]\n",
    "]"
   ]
  },
  {
   "cell_type": "code",
   "execution_count": 8,
   "id": "0ba29781-28c1-4a1c-8fa6-3e32d0e3c733",
   "metadata": {
    "execution": {
     "iopub.execute_input": "2025-07-10T14:59:41.163360Z",
     "iopub.status.busy": "2025-07-10T14:59:41.160819Z",
     "iopub.status.idle": "2025-07-10T14:59:41.198498Z",
     "shell.execute_reply": "2025-07-10T14:59:41.192789Z",
     "shell.execute_reply.started": "2025-07-10T14:59:41.162345Z"
    }
   },
   "outputs": [
    {
     "data": {
      "text/plain": [
       "(4082, 32)"
      ]
     },
     "execution_count": 8,
     "metadata": {},
     "output_type": "execute_result"
    }
   ],
   "source": [
    "man_df.shape"
   ]
  },
  {
   "cell_type": "code",
   "execution_count": 6,
   "id": "2612b907-5dc2-47bd-9b65-f4c645cb8509",
   "metadata": {
    "execution": {
     "iopub.execute_input": "2025-07-10T14:58:23.930749Z",
     "iopub.status.busy": "2025-07-10T14:58:23.929748Z",
     "iopub.status.idle": "2025-07-10T14:58:23.952739Z",
     "shell.execute_reply": "2025-07-10T14:58:23.951219Z",
     "shell.execute_reply.started": "2025-07-10T14:58:23.930749Z"
    }
   },
   "outputs": [
    {
     "data": {
      "text/plain": [
       "Weightlbs    1\n",
       "dtype: int64"
      ]
     },
     "execution_count": 6,
     "metadata": {},
     "output_type": "execute_result"
    }
   ],
   "source": [
    "((man_df[[\"Weightlbs\"]]* 0.453592) == 0).sum()"
   ]
  },
  {
   "cell_type": "markdown",
   "id": "7616b137-565e-4b54-9c5e-89b57b99a99e",
   "metadata": {},
   "source": []
  }
 ],
 "metadata": {
  "kernelspec": {
   "display_name": "Python 3 (ipykernel)",
   "language": "python",
   "name": "python3"
  },
  "language_info": {
   "codemirror_mode": {
    "name": "ipython",
    "version": 3
   },
   "file_extension": ".py",
   "mimetype": "text/x-python",
   "name": "python",
   "nbconvert_exporter": "python",
   "pygments_lexer": "ipython3",
   "version": "3.10.10"
  }
 },
 "nbformat": 4,
 "nbformat_minor": 5
}

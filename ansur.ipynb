{
 "cells": [
  {
   "cell_type": "code",
   "execution_count": 1,
   "id": "25e15d2a",
   "metadata": {
    "execution": {
     "iopub.execute_input": "2025-07-10T12:35:58.593732Z",
     "iopub.status.busy": "2025-07-10T12:35:58.593049Z",
     "iopub.status.idle": "2025-07-10T12:35:58.921225Z",
     "shell.execute_reply": "2025-07-10T12:35:58.920940Z",
     "shell.execute_reply.started": "2025-07-10T12:35:58.593692Z"
    }
   },
   "outputs": [],
   "source": [
    " import pandas as pd"
   ]
  },
  {
   "cell_type": "code",
   "execution_count": 25,
   "id": "30e59d36",
   "metadata": {
    "execution": {
     "iopub.execute_input": "2025-07-10T13:20:10.720210Z",
     "iopub.status.busy": "2025-07-10T13:20:10.718808Z",
     "iopub.status.idle": "2025-07-10T13:20:10.761043Z",
     "shell.execute_reply": "2025-07-10T13:20:10.760688Z",
     "shell.execute_reply.started": "2025-07-10T13:20:10.720162Z"
    }
   },
   "outputs": [],
   "source": [
    "man_df = pd.read_csv('data/ANSUR_II_MALE.csv', encoding='cp1252', sep=';')\n",
    "man_df = man_df[[\"stature\",\n",
    "\"anklecircumference\",\n",
    "\"shoulderelbowlength\",\n",
    "\"waistbacklength\",\n",
    "\"biacromialbreadth\",\n",
    "\"waistcircumference\",\n",
    "\"bicepscircumferenceflexed\",\n",
    "\"chestcircumference\",\n",
    "\"chestheight\",\n",
    "\"calfcircumference\",\n",
    "\"crotchheight\",\n",
    "\"forearmcircumferenceflexed\",\n",
    "\"forearmcenterofgriplength\",\n",
    "\"headcircumference\",\n",
    "\"hipbreadth\",\n",
    "\"iliocristaleheight\",\n",
    "\"kneeheightmidpatella\",\n",
    "\"neckcircumference\",\n",
    "\"buttockkneelength\",\n",
    "\"biacromialbreadth\",\n",
    "\"acromialheight\",\n",
    "\"bideltoidbreadth\",\n",
    "\"sleevelengthspinewrist\",\n",
    "\"thighcircumference\",\n",
    "\"sittingheight\",\n",
    "\"shoulderelbowlength\",\n",
    "\"waistbreadth\",\n",
    "\"waistcircumference\",\n",
    "\"waistheightomphalion\",\n",
    "\"wristcircumference\",\n",
    "\"Weightlbs\",\n",
    "\"Age\"]\n",
    "]"
   ]
  },
  {
   "cell_type": "code",
   "execution_count": 18,
   "id": "0ba29781-28c1-4a1c-8fa6-3e32d0e3c733",
   "metadata": {
    "execution": {
     "iopub.execute_input": "2025-07-10T13:14:55.660151Z",
     "iopub.status.busy": "2025-07-10T13:14:55.659541Z",
     "iopub.status.idle": "2025-07-10T13:14:55.667100Z",
     "shell.execute_reply": "2025-07-10T13:14:55.666123Z",
     "shell.execute_reply.started": "2025-07-10T13:14:55.660122Z"
    }
   },
   "outputs": [
    {
     "data": {
      "text/plain": [
       "(4082, 32)"
      ]
     },
     "execution_count": 18,
     "metadata": {},
     "output_type": "execute_result"
    }
   ],
   "source": [
    "man_df.shape"
   ]
  },
  {
   "cell_type": "code",
   "execution_count": 33,
   "id": "2612b907-5dc2-47bd-9b65-f4c645cb8509",
   "metadata": {
    "execution": {
     "iopub.execute_input": "2025-07-10T13:21:57.186782Z",
     "iopub.status.busy": "2025-07-10T13:21:57.185642Z",
     "iopub.status.idle": "2025-07-10T13:21:57.196045Z",
     "shell.execute_reply": "2025-07-10T13:21:57.194544Z",
     "shell.execute_reply.started": "2025-07-10T13:21:57.186748Z"
    }
   },
   "outputs": [
    {
     "data": {
      "text/plain": [
       "Weightlbs    1\n",
       "dtype: int64"
      ]
     },
     "execution_count": 33,
     "metadata": {},
     "output_type": "execute_result"
    }
   ],
   "source": [
    "((man_df[[\"Weightlbs\"]]* 0.453592) == 0).sum()"
   ]
  },
  {
   "cell_type": "markdown",
   "id": "7616b137-565e-4b54-9c5e-89b57b99a99e",
   "metadata": {},
   "source": []
  }
 ],
 "metadata": {
  "kernelspec": {
   "display_name": "Python 3 (ipykernel)",
   "language": "python",
   "name": "python3"
  },
  "language_info": {
   "codemirror_mode": {
    "name": "ipython",
    "version": 3
   },
   "file_extension": ".py",
   "mimetype": "text/x-python",
   "name": "python",
   "nbconvert_exporter": "python",
   "pygments_lexer": "ipython3",
   "version": "3.12.9"
  }
 },
 "nbformat": 4,
 "nbformat_minor": 5
}

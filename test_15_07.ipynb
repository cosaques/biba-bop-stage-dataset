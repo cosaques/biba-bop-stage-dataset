{
 "cells": [
  {
   "cell_type": "code",
   "execution_count": 3,
   "id": "b64d16b5-3283-449f-9f77-57cf85f9e59c",
   "metadata": {
    "execution": {
     "iopub.execute_input": "2025-07-15T13:51:26.701652Z",
     "iopub.status.busy": "2025-07-15T13:51:26.701652Z",
     "iopub.status.idle": "2025-07-15T13:51:30.542869Z",
     "shell.execute_reply": "2025-07-15T13:51:30.539856Z",
     "shell.execute_reply.started": "2025-07-15T13:51:26.701652Z"
    }
   },
   "outputs": [],
   "source": [
    " import pandas as pd"
   ]
  },
  {
   "cell_type": "code",
   "execution_count": 4,
   "id": "5558abb5-7636-4f8a-9625-169ec9a620a7",
   "metadata": {
    "execution": {
     "iopub.execute_input": "2025-07-15T13:51:30.545776Z",
     "iopub.status.busy": "2025-07-15T13:51:30.544761Z",
     "iopub.status.idle": "2025-07-15T13:51:30.652276Z",
     "shell.execute_reply": "2025-07-15T13:51:30.650134Z",
     "shell.execute_reply.started": "2025-07-15T13:51:30.545776Z"
    }
   },
   "outputs": [],
   "source": [
    "man_df = pd.read_csv('data/ANSUR_II_MALE.csv', encoding='cp1252', sep=';')\n",
    "man_df[\"sex\"] = 1"
   ]
  },
  {
   "cell_type": "code",
   "execution_count": 5,
   "id": "bd8520bb-bcfc-4cdf-a548-0610227fbd25",
   "metadata": {
    "execution": {
     "iopub.execute_input": "2025-07-15T13:51:30.653748Z",
     "iopub.status.busy": "2025-07-15T13:51:30.653235Z",
     "iopub.status.idle": "2025-07-15T13:51:30.713539Z",
     "shell.execute_reply": "2025-07-15T13:51:30.711661Z",
     "shell.execute_reply.started": "2025-07-15T13:51:30.653748Z"
    }
   },
   "outputs": [],
   "source": [
    "woman_df = pd.read_csv('data/ANSUR_II_FEMALE.csv', encoding='cp1252', sep=';')\n",
    "woman_df[\"sex\"] = 0"
   ]
  },
  {
   "cell_type": "code",
   "execution_count": 6,
   "id": "aa0f5edc-b02d-43ea-ad84-b4dbe52cabfd",
   "metadata": {
    "execution": {
     "iopub.execute_input": "2025-07-15T13:51:30.716538Z",
     "iopub.status.busy": "2025-07-15T13:51:30.716538Z",
     "iopub.status.idle": "2025-07-15T13:51:30.729719Z",
     "shell.execute_reply": "2025-07-15T13:51:30.727660Z",
     "shell.execute_reply.started": "2025-07-15T13:51:30.716538Z"
    }
   },
   "outputs": [
    {
     "name": "stdout",
     "output_type": "stream",
     "text": [
      "(4082, 109)\n",
      "(1986, 109)\n"
     ]
    }
   ],
   "source": [
    "print(man_df.shape)\n",
    "print(woman_df.shape)"
   ]
  },
  {
   "cell_type": "code",
   "execution_count": 7,
   "id": "0e4b796c-0916-4276-b4be-659938aec946",
   "metadata": {
    "execution": {
     "iopub.execute_input": "2025-07-15T13:51:30.732679Z",
     "iopub.status.busy": "2025-07-15T13:51:30.731682Z",
     "iopub.status.idle": "2025-07-15T13:51:30.760959Z",
     "shell.execute_reply": "2025-07-15T13:51:30.759013Z",
     "shell.execute_reply.started": "2025-07-15T13:51:30.732679Z"
    }
   },
   "outputs": [],
   "source": [
    "ansur_df = pd.concat([man_df, woman_df], ignore_index=True)"
   ]
  },
  {
   "cell_type": "markdown",
   "id": "7661aa1f-210c-4937-9227-b39c027825b3",
   "metadata": {},
   "source": [
    "## Cleaned data"
   ]
  },
  {
   "cell_type": "code",
   "execution_count": 8,
   "id": "dd07e52f-13df-4810-910f-760a8fae75ee",
   "metadata": {
    "execution": {
     "iopub.execute_input": "2025-07-15T13:51:31.650517Z",
     "iopub.status.busy": "2025-07-15T13:51:31.650517Z",
     "iopub.status.idle": "2025-07-15T13:51:31.661580Z",
     "shell.execute_reply": "2025-07-15T13:51:31.659604Z",
     "shell.execute_reply.started": "2025-07-15T13:51:31.650517Z"
    }
   },
   "outputs": [],
   "source": [
    "cleaned_ansur = pd.DataFrame()\n",
    "cleaned_ansur[\"taille\"] = ansur_df[\"stature\"]/10"
   ]
  },
  {
   "cell_type": "code",
   "execution_count": 9,
   "id": "fadcd04d-c85e-47db-97fb-c4eb701c59e2",
   "metadata": {
    "execution": {
     "iopub.execute_input": "2025-07-15T13:51:33.095825Z",
     "iopub.status.busy": "2025-07-15T13:51:33.095825Z",
     "iopub.status.idle": "2025-07-15T13:51:33.109947Z",
     "shell.execute_reply": "2025-07-15T13:51:33.108948Z",
     "shell.execute_reply.started": "2025-07-15T13:51:33.095825Z"
    }
   },
   "outputs": [],
   "source": [
    "cleaned_ansur[\"age\"] = ansur_df[\"Age\"]"
   ]
  },
  {
   "cell_type": "code",
   "execution_count": 10,
   "id": "6f097c15-7db9-448f-8891-e2fc6d23f21f",
   "metadata": {
    "execution": {
     "iopub.execute_input": "2025-07-15T13:51:33.893811Z",
     "iopub.status.busy": "2025-07-15T13:51:33.893811Z",
     "iopub.status.idle": "2025-07-15T13:51:33.905402Z",
     "shell.execute_reply": "2025-07-15T13:51:33.903112Z",
     "shell.execute_reply.started": "2025-07-15T13:51:33.893811Z"
    }
   },
   "outputs": [],
   "source": [
    "cleaned_ansur[\"weight\"] = ansur_df[\"Weightlbs\"]*0.453592"
   ]
  },
  {
   "cell_type": "code",
   "execution_count": 11,
   "id": "7a796de1-3e6e-416b-b78a-a3b13fad1140",
   "metadata": {
    "execution": {
     "iopub.execute_input": "2025-07-15T13:51:34.986170Z",
     "iopub.status.busy": "2025-07-15T13:51:34.986170Z",
     "iopub.status.idle": "2025-07-15T13:51:34.995424Z",
     "shell.execute_reply": "2025-07-15T13:51:34.994420Z",
     "shell.execute_reply.started": "2025-07-15T13:51:34.986170Z"
    }
   },
   "outputs": [],
   "source": [
    "cleaned_ansur[\"sex\"] = ansur_df[\"sex\"]"
   ]
  },
  {
   "cell_type": "code",
   "execution_count": 16,
   "id": "e85600d9-d60a-4799-b751-1a3677f638d6",
   "metadata": {
    "execution": {
     "iopub.execute_input": "2025-07-15T13:59:10.589643Z",
     "iopub.status.busy": "2025-07-15T13:59:10.589643Z",
     "iopub.status.idle": "2025-07-15T13:59:10.604680Z",
     "shell.execute_reply": "2025-07-15T13:59:10.602676Z",
     "shell.execute_reply.started": "2025-07-15T13:59:10.589643Z"
    }
   },
   "outputs": [],
   "source": [
    "cleaned_ansur[\"tour_de_cheville\"]=ansur_df[\"anklecircumference\"]/10"
   ]
  },
  {
   "cell_type": "code",
   "execution_count": 19,
   "id": "cae53695-62e0-42ee-9377-05235e72854f",
   "metadata": {
    "execution": {
     "iopub.execute_input": "2025-07-15T14:01:00.520366Z",
     "iopub.status.busy": "2025-07-15T14:01:00.519382Z",
     "iopub.status.idle": "2025-07-15T14:01:00.534866Z",
     "shell.execute_reply": "2025-07-15T14:01:00.532859Z",
     "shell.execute_reply.started": "2025-07-15T14:01:00.520366Z"
    }
   },
   "outputs": [],
   "source": [
    "cleaned_ansur[\"longueur_de_bras\"]=ansur_df[\"shoulderelbowlength\"]/10"
   ]
  },
  {
   "cell_type": "code",
   "execution_count": 22,
   "id": "564a712d-7d7f-40d6-b4f3-7b27f294c64b",
   "metadata": {
    "execution": {
     "iopub.execute_input": "2025-07-15T14:03:16.818803Z",
     "iopub.status.busy": "2025-07-15T14:03:16.817803Z",
     "iopub.status.idle": "2025-07-15T14:03:16.831343Z",
     "shell.execute_reply": "2025-07-15T14:03:16.828334Z",
     "shell.execute_reply.started": "2025-07-15T14:03:16.818803Z"
    }
   },
   "outputs": [],
   "source": [
    "cleaned_ansur[\"longueur_du_dos\"]=ansur_df[\"waistbacklength\"]/10"
   ]
  },
  {
   "cell_type": "code",
   "execution_count": 25,
   "id": "262ee7af-dda8-49dd-836d-5e6f62dc47d6",
   "metadata": {
    "execution": {
     "iopub.execute_input": "2025-07-15T14:04:25.835513Z",
     "iopub.status.busy": "2025-07-15T14:04:25.834512Z",
     "iopub.status.idle": "2025-07-15T14:04:25.845135Z",
     "shell.execute_reply": "2025-07-15T14:04:25.845135Z",
     "shell.execute_reply.started": "2025-07-15T14:04:25.835513Z"
    }
   },
   "outputs": [],
   "source": [
    "cleaned_ansur[\"largeur_du_dos\"]=ansur_df[\"biacromialbreadth\"]/10"
   ]
  },
  {
   "cell_type": "code",
   "execution_count": 27,
   "id": "9d43faa9-8272-4449-82db-bc0b2b04055a",
   "metadata": {
    "execution": {
     "iopub.execute_input": "2025-07-15T14:05:10.471303Z",
     "iopub.status.busy": "2025-07-15T14:05:10.471303Z",
     "iopub.status.idle": "2025-07-15T14:05:10.492070Z",
     "shell.execute_reply": "2025-07-15T14:05:10.491068Z",
     "shell.execute_reply.started": "2025-07-15T14:05:10.471303Z"
    }
   },
   "outputs": [],
   "source": [
    "cleaned_ansur[\"tour_de_ventre_maximal\"]=ansur_df[\"waistcircumference\"]/10"
   ]
  },
  {
   "cell_type": "code",
   "execution_count": 29,
   "id": "602c2aa2-6d02-41e5-86ba-90de2470568d",
   "metadata": {
    "execution": {
     "iopub.execute_input": "2025-07-15T14:05:55.875709Z",
     "iopub.status.busy": "2025-07-15T14:05:55.875709Z",
     "iopub.status.idle": "2025-07-15T14:05:55.889760Z",
     "shell.execute_reply": "2025-07-15T14:05:55.888760Z",
     "shell.execute_reply.started": "2025-07-15T14:05:55.875709Z"
    }
   },
   "outputs": [],
   "source": [
    "cleaned_ansur[\"tour_de_biceps\"]=ansur_df[\"bicepscircumferenceflexed\"]/10"
   ]
  },
  {
   "cell_type": "code",
   "execution_count": 31,
   "id": "60c9be34-3717-414a-a345-074389d2208a",
   "metadata": {
    "execution": {
     "iopub.execute_input": "2025-07-15T14:06:43.128952Z",
     "iopub.status.busy": "2025-07-15T14:06:43.126933Z",
     "iopub.status.idle": "2025-07-15T14:06:43.146750Z",
     "shell.execute_reply": "2025-07-15T14:06:43.145132Z",
     "shell.execute_reply.started": "2025-07-15T14:06:43.128952Z"
    }
   },
   "outputs": [],
   "source": [
    "cleaned_ansur[\"tour_de_poitrine\"]=ansur_df[\"chestcircumference\"]/10"
   ]
  },
  {
   "cell_type": "code",
   "execution_count": 33,
   "id": "adc302a0-5494-42d4-be6c-4cab376b3371",
   "metadata": {
    "execution": {
     "iopub.execute_input": "2025-07-15T14:08:41.362777Z",
     "iopub.status.busy": "2025-07-15T14:08:41.361784Z",
     "iopub.status.idle": "2025-07-15T14:08:41.372099Z",
     "shell.execute_reply": "2025-07-15T14:08:41.369778Z",
     "shell.execute_reply.started": "2025-07-15T14:08:41.362777Z"
    }
   },
   "outputs": [],
   "source": [
    "cleaned_ansur[\"hauteur_de_poitrine\"]=ansur_df[\"chestheight\"]/10"
   ]
  },
  {
   "cell_type": "code",
   "execution_count": 35,
   "id": "45fc5877-cad6-41bd-b766-8f5d16603d7d",
   "metadata": {
    "execution": {
     "iopub.execute_input": "2025-07-15T14:09:16.489647Z",
     "iopub.status.busy": "2025-07-15T14:09:16.488696Z",
     "iopub.status.idle": "2025-07-15T14:09:16.512485Z",
     "shell.execute_reply": "2025-07-15T14:09:16.510501Z",
     "shell.execute_reply.started": "2025-07-15T14:09:16.489647Z"
    }
   },
   "outputs": [],
   "source": [
    "cleaned_ansur[\"tour_de_mollet\"]=ansur_df[\"calfcircumference\"]/10"
   ]
  },
  {
   "cell_type": "code",
   "execution_count": 37,
   "id": "15b5f14b-1cb5-4620-917a-5de69b279a70",
   "metadata": {
    "execution": {
     "iopub.execute_input": "2025-07-15T14:10:34.665680Z",
     "iopub.status.busy": "2025-07-15T14:10:34.664680Z",
     "iopub.status.idle": "2025-07-15T14:10:34.685755Z",
     "shell.execute_reply": "2025-07-15T14:10:34.684809Z",
     "shell.execute_reply.started": "2025-07-15T14:10:34.665680Z"
    }
   },
   "outputs": [],
   "source": [
    "cleaned_ansur[\"hauteur_d_entrejambe\"]=ansur_df[\"crotchheight\"]/10"
   ]
  },
  {
   "cell_type": "code",
   "execution_count": 39,
   "id": "3e1582ee-9248-49b1-92b1-929901759bed",
   "metadata": {
    "execution": {
     "iopub.execute_input": "2025-07-15T14:11:21.819545Z",
     "iopub.status.busy": "2025-07-15T14:11:21.819545Z",
     "iopub.status.idle": "2025-07-15T14:11:21.839525Z",
     "shell.execute_reply": "2025-07-15T14:11:21.838012Z",
     "shell.execute_reply.started": "2025-07-15T14:11:21.819545Z"
    }
   },
   "outputs": [],
   "source": [
    "cleaned_ansur[\"tour_d_avant-bras\"]=ansur_df[\"forearmcircumferenceflexed\"]/10"
   ]
  },
  {
   "cell_type": "code",
   "execution_count": 41,
   "id": "67fdff74-ebf0-4793-b67f-99e5e9d2433e",
   "metadata": {
    "execution": {
     "iopub.execute_input": "2025-07-15T14:13:06.204398Z",
     "iopub.status.busy": "2025-07-15T14:13:06.204398Z",
     "iopub.status.idle": "2025-07-15T14:13:06.218134Z",
     "shell.execute_reply": "2025-07-15T14:13:06.215925Z",
     "shell.execute_reply.started": "2025-07-15T14:13:06.204398Z"
    }
   },
   "outputs": [],
   "source": [
    "cleaned_ansur[\"longueur_avant\"]=ansur_df[\"forearmcenterofgriplength\"]/10"
   ]
  },
  {
   "cell_type": "code",
   "execution_count": 43,
   "id": "963431aa-aa78-4765-9d32-0312fd8e7d01",
   "metadata": {
    "execution": {
     "iopub.execute_input": "2025-07-15T14:13:31.432437Z",
     "iopub.status.busy": "2025-07-15T14:13:31.431440Z",
     "iopub.status.idle": "2025-07-15T14:13:31.446139Z",
     "shell.execute_reply": "2025-07-15T14:13:31.443849Z",
     "shell.execute_reply.started": "2025-07-15T14:13:31.432437Z"
    }
   },
   "outputs": [],
   "source": [
    "cleaned_ansur[\"tour_de_tête\"]=ansur_df[\"headcircumference\"]/10"
   ]
  },
  {
   "cell_type": "code",
   "execution_count": 45,
   "id": "5da0b76b-c7cd-40ba-a4d9-5236264e37a5",
   "metadata": {
    "execution": {
     "iopub.execute_input": "2025-07-15T14:14:26.582778Z",
     "iopub.status.busy": "2025-07-15T14:14:26.582778Z",
     "iopub.status.idle": "2025-07-15T14:14:26.589777Z",
     "shell.execute_reply": "2025-07-15T14:14:26.588775Z",
     "shell.execute_reply.started": "2025-07-15T14:14:26.582778Z"
    }
   },
   "outputs": [],
   "source": [
    "cleaned_ansur[\"largeur_des_hanches\"]=ansur_df[\"hipbreadth\"]/10"
   ]
  },
  {
   "cell_type": "code",
   "execution_count": 47,
   "id": "4da566e8-a2e2-4054-ab51-6c0cc441557d",
   "metadata": {
    "execution": {
     "iopub.execute_input": "2025-07-15T14:15:42.945749Z",
     "iopub.status.busy": "2025-07-15T14:15:42.944749Z",
     "iopub.status.idle": "2025-07-15T14:15:42.954273Z",
     "shell.execute_reply": "2025-07-15T14:15:42.952304Z",
     "shell.execute_reply.started": "2025-07-15T14:15:42.945749Z"
    }
   },
   "outputs": [],
   "source": [
    "cleaned_ansur[\"hauteur_des_hanches\"]=ansur_df[\"iliocristaleheight\"]/10"
   ]
  },
  {
   "cell_type": "code",
   "execution_count": 49,
   "id": "b95dc2b6-3ce8-4fb9-83ab-152fac34333d",
   "metadata": {
    "execution": {
     "iopub.execute_input": "2025-07-15T14:16:25.476711Z",
     "iopub.status.busy": "2025-07-15T14:16:25.475466Z",
     "iopub.status.idle": "2025-07-15T14:16:25.490450Z",
     "shell.execute_reply": "2025-07-15T14:16:25.489427Z",
     "shell.execute_reply.started": "2025-07-15T14:16:25.476711Z"
    }
   },
   "outputs": [],
   "source": [
    "cleaned_ansur[\"hauteur_des_genoux\"]=ansur_df[\"kneeheightmidpatella\"]/10"
   ]
  },
  {
   "cell_type": "code",
   "execution_count": 51,
   "id": "feae0e6f-7e13-40ce-8b13-4b1b3d3b8a00",
   "metadata": {
    "execution": {
     "iopub.execute_input": "2025-07-15T14:16:55.024505Z",
     "iopub.status.busy": "2025-07-15T14:16:55.024505Z",
     "iopub.status.idle": "2025-07-15T14:16:55.042449Z",
     "shell.execute_reply": "2025-07-15T14:16:55.039342Z",
     "shell.execute_reply.started": "2025-07-15T14:16:55.024505Z"
    }
   },
   "outputs": [],
   "source": [
    "cleaned_ansur[\"tour_du_cou\"]=ansur_df[\"neckcircumference\"]/10"
   ]
  },
  {
   "cell_type": "code",
   "execution_count": 53,
   "id": "3dada48c-beb0-4c97-90ee-5e281181e3c1",
   "metadata": {
    "execution": {
     "iopub.execute_input": "2025-07-15T14:17:27.936867Z",
     "iopub.status.busy": "2025-07-15T14:17:27.935868Z",
     "iopub.status.idle": "2025-07-15T14:17:27.946391Z",
     "shell.execute_reply": "2025-07-15T14:17:27.945387Z",
     "shell.execute_reply.started": "2025-07-15T14:17:27.935868Z"
    }
   },
   "outputs": [],
   "source": [
    "cleaned_ansur[\"longueur_du_cou_au_genou\"]=ansur_df[\"buttockkneelength\"]/10"
   ]
  },
  {
   "cell_type": "code",
   "execution_count": 55,
   "id": "899c9bfb-d495-468a-b7af-f9720a0f820e",
   "metadata": {
    "execution": {
     "iopub.execute_input": "2025-07-15T14:17:56.559888Z",
     "iopub.status.busy": "2025-07-15T14:17:56.559888Z",
     "iopub.status.idle": "2025-07-15T14:17:56.577413Z",
     "shell.execute_reply": "2025-07-15T14:17:56.576413Z",
     "shell.execute_reply.started": "2025-07-15T14:17:56.559888Z"
    }
   },
   "outputs": [],
   "source": [
    "cleaned_ansur[\"largeur_d_epaule\"]=ansur_df[\"biacromialbreadth\"]/10"
   ]
  },
  {
   "cell_type": "code",
   "execution_count": 60,
   "id": "61e84b88-4bcf-49df-82cb-eac845d1412d",
   "metadata": {
    "execution": {
     "iopub.execute_input": "2025-07-15T14:19:57.729139Z",
     "iopub.status.busy": "2025-07-15T14:19:57.728139Z",
     "iopub.status.idle": "2025-07-15T14:19:57.739417Z",
     "shell.execute_reply": "2025-07-15T14:19:57.736896Z",
     "shell.execute_reply.started": "2025-07-15T14:19:57.729139Z"
    }
   },
   "outputs": [],
   "source": [
    "cleaned_ansur[\"largeur_des_epaules_a_l_horizontales\"]=ansur_df[\"bideltoidbreadth\"]/10"
   ]
  },
  {
   "cell_type": "code",
   "execution_count": 62,
   "id": "80cf9288-22ad-4d34-a8c2-c32a0c65943a",
   "metadata": {
    "execution": {
     "iopub.execute_input": "2025-07-15T14:20:28.149738Z",
     "iopub.status.busy": "2025-07-15T14:20:28.148736Z",
     "iopub.status.idle": "2025-07-15T14:20:28.173712Z",
     "shell.execute_reply": "2025-07-15T14:20:28.172714Z",
     "shell.execute_reply.started": "2025-07-15T14:20:28.149738Z"
    }
   },
   "outputs": [],
   "source": [
    "cleaned_ansur[\"longueur_de_la_colonne_vertebrale_jusqu_au_poignet\"]=ansur_df[\"sleevelengthspinewrist\"]/10"
   ]
  },
  {
   "cell_type": "code",
   "execution_count": 64,
   "id": "ef0429f3-4d82-4377-b9f1-687af9f6c10d",
   "metadata": {
    "execution": {
     "iopub.execute_input": "2025-07-15T14:21:45.629257Z",
     "iopub.status.busy": "2025-07-15T14:21:45.629257Z",
     "iopub.status.idle": "2025-07-15T14:21:45.641885Z",
     "shell.execute_reply": "2025-07-15T14:21:45.639415Z",
     "shell.execute_reply.started": "2025-07-15T14:21:45.629257Z"
    }
   },
   "outputs": [],
   "source": [
    "cleaned_ansur[\"tour_de_cuisse\"]=ansur_df[\"thighcircumference\"]/10"
   ]
  },
  {
   "cell_type": "code",
   "execution_count": 66,
   "id": "830f869e-2e85-4e92-b305-3ab2145c3287",
   "metadata": {
    "execution": {
     "iopub.execute_input": "2025-07-15T14:22:14.480203Z",
     "iopub.status.busy": "2025-07-15T14:22:14.479195Z",
     "iopub.status.idle": "2025-07-15T14:22:14.493745Z",
     "shell.execute_reply": "2025-07-15T14:22:14.489725Z",
     "shell.execute_reply.started": "2025-07-15T14:22:14.480203Z"
    }
   },
   "outputs": [],
   "source": [
    "cleaned_ansur[\"longueur_du_tronc\"]=ansur_df[\"sittingheight\"]/10"
   ]
  },
  {
   "cell_type": "code",
   "execution_count": 68,
   "id": "ae99a927-9efd-43be-aaa8-2afd24d0491e",
   "metadata": {
    "execution": {
     "iopub.execute_input": "2025-07-15T14:22:45.942553Z",
     "iopub.status.busy": "2025-07-15T14:22:45.941551Z",
     "iopub.status.idle": "2025-07-15T14:22:45.954151Z",
     "shell.execute_reply": "2025-07-15T14:22:45.952149Z",
     "shell.execute_reply.started": "2025-07-15T14:22:45.942553Z"
    }
   },
   "outputs": [],
   "source": [
    "cleaned_ansur[\"longueur_du_bras\"]=ansur_df[\"shoulderelbowlength\"]/10"
   ]
  },
  {
   "cell_type": "code",
   "execution_count": 70,
   "id": "981097f5-cfa3-48e4-8257-0168f4779b1f",
   "metadata": {
    "execution": {
     "iopub.execute_input": "2025-07-15T14:23:21.094343Z",
     "iopub.status.busy": "2025-07-15T14:23:21.093326Z",
     "iopub.status.idle": "2025-07-15T14:23:21.107865Z",
     "shell.execute_reply": "2025-07-15T14:23:21.106865Z",
     "shell.execute_reply.started": "2025-07-15T14:23:21.094343Z"
    }
   },
   "outputs": [],
   "source": [
    "cleaned_ansur[\"largeur_de_la_taille\"]=ansur_df[\"waistbreadth\"]/10"
   ]
  },
  {
   "cell_type": "code",
   "execution_count": 72,
   "id": "60a15841-5070-417a-a88d-637e2b5f02c8",
   "metadata": {
    "execution": {
     "iopub.execute_input": "2025-07-15T14:23:42.107679Z",
     "iopub.status.busy": "2025-07-15T14:23:42.106681Z",
     "iopub.status.idle": "2025-07-15T14:23:42.123002Z",
     "shell.execute_reply": "2025-07-15T14:23:42.121675Z",
     "shell.execute_reply.started": "2025-07-15T14:23:42.107679Z"
    }
   },
   "outputs": [],
   "source": [
    "cleaned_ansur[\"tour_de_taille\"]=ansur_df[\"waistcircumference\"]/10"
   ]
  },
  {
   "cell_type": "code",
   "execution_count": 74,
   "id": "ac642dc7-a15c-448f-8b81-d0fa1ae9648e",
   "metadata": {
    "execution": {
     "iopub.execute_input": "2025-07-15T14:24:33.050944Z",
     "iopub.status.busy": "2025-07-15T14:24:33.050944Z",
     "iopub.status.idle": "2025-07-15T14:24:33.065403Z",
     "shell.execute_reply": "2025-07-15T14:24:33.063397Z",
     "shell.execute_reply.started": "2025-07-15T14:24:33.050944Z"
    }
   },
   "outputs": [],
   "source": [
    "cleaned_ansur[\"hauteur_de_la_taille\"]=ansur_df[\"waistheightomphalion\"]/10"
   ]
  },
  {
   "cell_type": "code",
   "execution_count": 76,
   "id": "31006034-d2e3-4b92-9fe7-c729f2a9e898",
   "metadata": {
    "execution": {
     "iopub.execute_input": "2025-07-15T14:24:55.772114Z",
     "iopub.status.busy": "2025-07-15T14:24:55.771105Z",
     "iopub.status.idle": "2025-07-15T14:24:55.791280Z",
     "shell.execute_reply": "2025-07-15T14:24:55.790255Z",
     "shell.execute_reply.started": "2025-07-15T14:24:55.771105Z"
    }
   },
   "outputs": [],
   "source": [
    "cleaned_ansur[\"tour_de_poignet\"]=ansur_df[\"wristcircumference\"]/10"
   ]
  },
  {
   "cell_type": "code",
   "execution_count": 77,
   "id": "97ae516a-6067-4a33-a959-2257de171dc1",
   "metadata": {
    "execution": {
     "iopub.execute_input": "2025-07-15T14:24:57.860564Z",
     "iopub.status.busy": "2025-07-15T14:24:57.859557Z",
     "iopub.status.idle": "2025-07-15T14:24:57.987292Z",
     "shell.execute_reply": "2025-07-15T14:24:57.985302Z",
     "shell.execute_reply.started": "2025-07-15T14:24:57.859557Z"
    }
   },
   "outputs": [
    {
     "data": {
      "text/html": [
       "<div>\n",
       "<style scoped>\n",
       "    .dataframe tbody tr th:only-of-type {\n",
       "        vertical-align: middle;\n",
       "    }\n",
       "\n",
       "    .dataframe tbody tr th {\n",
       "        vertical-align: top;\n",
       "    }\n",
       "\n",
       "    .dataframe thead th {\n",
       "        text-align: right;\n",
       "    }\n",
       "</style>\n",
       "<table border=\"1\" class=\"dataframe\">\n",
       "  <thead>\n",
       "    <tr style=\"text-align: right;\">\n",
       "      <th></th>\n",
       "      <th>taille</th>\n",
       "      <th>age</th>\n",
       "      <th>weight</th>\n",
       "      <th>sex</th>\n",
       "      <th>tour_de_cheville</th>\n",
       "      <th>longueur_de_bras</th>\n",
       "      <th>longueur_du_dos</th>\n",
       "      <th>largeur_du_dos</th>\n",
       "      <th>tour_de_ventre_maximal</th>\n",
       "      <th>tour_de_biceps</th>\n",
       "      <th>...</th>\n",
       "      <th>hauteur_des_epaules</th>\n",
       "      <th>largeur_des_epaules_a_l_horizontales</th>\n",
       "      <th>longueur_de_la_colonne_vertebrale_jusqu_au_poignet</th>\n",
       "      <th>tour_de_cuisse</th>\n",
       "      <th>longueur_du_tronc</th>\n",
       "      <th>longueur_du_bras</th>\n",
       "      <th>largeur_de_la_taille</th>\n",
       "      <th>tour_de_taille</th>\n",
       "      <th>hauteur_de_la_taille</th>\n",
       "      <th>tour_de_poignet</th>\n",
       "    </tr>\n",
       "  </thead>\n",
       "  <tbody>\n",
       "    <tr>\n",
       "      <th>count</th>\n",
       "      <td>6068.000000</td>\n",
       "      <td>6068.000000</td>\n",
       "      <td>6068.000000</td>\n",
       "      <td>6068.000000</td>\n",
       "      <td>6068.000000</td>\n",
       "      <td>6068.000000</td>\n",
       "      <td>6068.000000</td>\n",
       "      <td>6068.000000</td>\n",
       "      <td>6068.000000</td>\n",
       "      <td>6068.000000</td>\n",
       "      <td>...</td>\n",
       "      <td>6068.000000</td>\n",
       "      <td>6068.000000</td>\n",
       "      <td>6068.000000</td>\n",
       "      <td>6068.000000</td>\n",
       "      <td>6068.000000</td>\n",
       "      <td>6068.000000</td>\n",
       "      <td>6068.000000</td>\n",
       "      <td>6068.000000</td>\n",
       "      <td>6068.000000</td>\n",
       "      <td>6068.000000</td>\n",
       "    </tr>\n",
       "    <tr>\n",
       "      <th>mean</th>\n",
       "      <td>171.440606</td>\n",
       "      <td>29.761206</td>\n",
       "      <td>79.265052</td>\n",
       "      <td>0.672709</td>\n",
       "      <td>22.489140</td>\n",
       "      <td>35.408355</td>\n",
       "      <td>46.052472</td>\n",
       "      <td>39.920419</td>\n",
       "      <td>91.450148</td>\n",
       "      <td>34.093425</td>\n",
       "      <td>...</td>\n",
       "      <td>49.075445</td>\n",
       "      <td>49.075445</td>\n",
       "      <td>86.666529</td>\n",
       "      <td>62.219875</td>\n",
       "      <td>89.810778</td>\n",
       "      <td>35.408355</td>\n",
       "      <td>31.775000</td>\n",
       "      <td>91.450148</td>\n",
       "      <td>103.150115</td>\n",
       "      <td>16.900297</td>\n",
       "    </tr>\n",
       "    <tr>\n",
       "      <th>std</th>\n",
       "      <td>9.001534</td>\n",
       "      <td>8.674650</td>\n",
       "      <td>15.282400</td>\n",
       "      <td>0.469263</td>\n",
       "      <td>1.605183</td>\n",
       "      <td>2.259859</td>\n",
       "      <td>3.667791</td>\n",
       "      <td>3.023691</td>\n",
       "      <td>11.427451</td>\n",
       "      <td>4.151987</td>\n",
       "      <td>...</td>\n",
       "      <td>4.213554</td>\n",
       "      <td>4.213554</td>\n",
       "      <td>5.752407</td>\n",
       "      <td>5.775068</td>\n",
       "      <td>4.529904</td>\n",
       "      <td>2.259859</td>\n",
       "      <td>3.636313</td>\n",
       "      <td>11.427451</td>\n",
       "      <td>6.270239</td>\n",
       "      <td>1.312451</td>\n",
       "    </tr>\n",
       "    <tr>\n",
       "      <th>min</th>\n",
       "      <td>140.900000</td>\n",
       "      <td>17.000000</td>\n",
       "      <td>0.000000</td>\n",
       "      <td>0.000000</td>\n",
       "      <td>15.600000</td>\n",
       "      <td>27.100000</td>\n",
       "      <td>34.500000</td>\n",
       "      <td>28.300000</td>\n",
       "      <td>61.100000</td>\n",
       "      <td>21.600000</td>\n",
       "      <td>...</td>\n",
       "      <td>35.700000</td>\n",
       "      <td>35.700000</td>\n",
       "      <td>63.600000</td>\n",
       "      <td>41.200000</td>\n",
       "      <td>75.000000</td>\n",
       "      <td>27.100000</td>\n",
       "      <td>21.100000</td>\n",
       "      <td>61.100000</td>\n",
       "      <td>80.500000</td>\n",
       "      <td>12.400000</td>\n",
       "    </tr>\n",
       "    <tr>\n",
       "      <th>25%</th>\n",
       "      <td>165.175000</td>\n",
       "      <td>23.000000</td>\n",
       "      <td>68.038800</td>\n",
       "      <td>0.000000</td>\n",
       "      <td>21.400000</td>\n",
       "      <td>33.800000</td>\n",
       "      <td>43.500000</td>\n",
       "      <td>37.600000</td>\n",
       "      <td>82.900000</td>\n",
       "      <td>31.100000</td>\n",
       "      <td>...</td>\n",
       "      <td>46.000000</td>\n",
       "      <td>46.000000</td>\n",
       "      <td>82.400000</td>\n",
       "      <td>58.300000</td>\n",
       "      <td>86.600000</td>\n",
       "      <td>33.800000</td>\n",
       "      <td>29.200000</td>\n",
       "      <td>82.900000</td>\n",
       "      <td>98.800000</td>\n",
       "      <td>15.900000</td>\n",
       "    </tr>\n",
       "    <tr>\n",
       "      <th>50%</th>\n",
       "      <td>171.900000</td>\n",
       "      <td>28.000000</td>\n",
       "      <td>78.471416</td>\n",
       "      <td>1.000000</td>\n",
       "      <td>22.500000</td>\n",
       "      <td>35.500000</td>\n",
       "      <td>46.300000</td>\n",
       "      <td>40.400000</td>\n",
       "      <td>90.700000</td>\n",
       "      <td>34.100000</td>\n",
       "      <td>...</td>\n",
       "      <td>49.200000</td>\n",
       "      <td>49.200000</td>\n",
       "      <td>87.200000</td>\n",
       "      <td>62.100000</td>\n",
       "      <td>90.000000</td>\n",
       "      <td>35.500000</td>\n",
       "      <td>31.600000</td>\n",
       "      <td>90.700000</td>\n",
       "      <td>103.300000</td>\n",
       "      <td>17.000000</td>\n",
       "    </tr>\n",
       "    <tr>\n",
       "      <th>75%</th>\n",
       "      <td>177.900000</td>\n",
       "      <td>36.000000</td>\n",
       "      <td>88.904032</td>\n",
       "      <td>1.000000</td>\n",
       "      <td>23.500000</td>\n",
       "      <td>37.000000</td>\n",
       "      <td>48.600000</td>\n",
       "      <td>42.100000</td>\n",
       "      <td>99.200000</td>\n",
       "      <td>37.000000</td>\n",
       "      <td>...</td>\n",
       "      <td>52.000000</td>\n",
       "      <td>52.000000</td>\n",
       "      <td>91.000000</td>\n",
       "      <td>65.900000</td>\n",
       "      <td>93.000000</td>\n",
       "      <td>37.000000</td>\n",
       "      <td>34.300000</td>\n",
       "      <td>99.200000</td>\n",
       "      <td>107.600000</td>\n",
       "      <td>17.900000</td>\n",
       "    </tr>\n",
       "    <tr>\n",
       "      <th>max</th>\n",
       "      <td>199.300000</td>\n",
       "      <td>58.000000</td>\n",
       "      <td>145.603032</td>\n",
       "      <td>1.000000</td>\n",
       "      <td>29.300000</td>\n",
       "      <td>42.300000</td>\n",
       "      <td>59.800000</td>\n",
       "      <td>48.900000</td>\n",
       "      <td>137.900000</td>\n",
       "      <td>49.000000</td>\n",
       "      <td>...</td>\n",
       "      <td>63.700000</td>\n",
       "      <td>63.700000</td>\n",
       "      <td>105.800000</td>\n",
       "      <td>87.000000</td>\n",
       "      <td>103.900000</td>\n",
       "      <td>42.300000</td>\n",
       "      <td>46.100000</td>\n",
       "      <td>137.900000</td>\n",
       "      <td>124.500000</td>\n",
       "      <td>21.600000</td>\n",
       "    </tr>\n",
       "  </tbody>\n",
       "</table>\n",
       "<p>8 rows × 33 columns</p>\n",
       "</div>"
      ],
      "text/plain": [
       "            taille          age       weight          sex  tour_de_cheville  \\\n",
       "count  6068.000000  6068.000000  6068.000000  6068.000000       6068.000000   \n",
       "mean    171.440606    29.761206    79.265052     0.672709         22.489140   \n",
       "std       9.001534     8.674650    15.282400     0.469263          1.605183   \n",
       "min     140.900000    17.000000     0.000000     0.000000         15.600000   \n",
       "25%     165.175000    23.000000    68.038800     0.000000         21.400000   \n",
       "50%     171.900000    28.000000    78.471416     1.000000         22.500000   \n",
       "75%     177.900000    36.000000    88.904032     1.000000         23.500000   \n",
       "max     199.300000    58.000000   145.603032     1.000000         29.300000   \n",
       "\n",
       "       longueur_de_bras  longueur_du_dos  largeur_du_dos  \\\n",
       "count       6068.000000      6068.000000     6068.000000   \n",
       "mean          35.408355        46.052472       39.920419   \n",
       "std            2.259859         3.667791        3.023691   \n",
       "min           27.100000        34.500000       28.300000   \n",
       "25%           33.800000        43.500000       37.600000   \n",
       "50%           35.500000        46.300000       40.400000   \n",
       "75%           37.000000        48.600000       42.100000   \n",
       "max           42.300000        59.800000       48.900000   \n",
       "\n",
       "       tour_de_ventre_maximal  tour_de_biceps  ...  hauteur_des_epaules  \\\n",
       "count             6068.000000     6068.000000  ...          6068.000000   \n",
       "mean                91.450148       34.093425  ...            49.075445   \n",
       "std                 11.427451        4.151987  ...             4.213554   \n",
       "min                 61.100000       21.600000  ...            35.700000   \n",
       "25%                 82.900000       31.100000  ...            46.000000   \n",
       "50%                 90.700000       34.100000  ...            49.200000   \n",
       "75%                 99.200000       37.000000  ...            52.000000   \n",
       "max                137.900000       49.000000  ...            63.700000   \n",
       "\n",
       "       largeur_des_epaules_a_l_horizontales  \\\n",
       "count                           6068.000000   \n",
       "mean                              49.075445   \n",
       "std                                4.213554   \n",
       "min                               35.700000   \n",
       "25%                               46.000000   \n",
       "50%                               49.200000   \n",
       "75%                               52.000000   \n",
       "max                               63.700000   \n",
       "\n",
       "       longueur_de_la_colonne_vertebrale_jusqu_au_poignet  tour_de_cuisse  \\\n",
       "count                                        6068.000000      6068.000000   \n",
       "mean                                           86.666529        62.219875   \n",
       "std                                             5.752407         5.775068   \n",
       "min                                            63.600000        41.200000   \n",
       "25%                                            82.400000        58.300000   \n",
       "50%                                            87.200000        62.100000   \n",
       "75%                                            91.000000        65.900000   \n",
       "max                                           105.800000        87.000000   \n",
       "\n",
       "       longueur_du_tronc  longueur_du_bras  largeur_de_la_taille  \\\n",
       "count        6068.000000       6068.000000           6068.000000   \n",
       "mean           89.810778         35.408355             31.775000   \n",
       "std             4.529904          2.259859              3.636313   \n",
       "min            75.000000         27.100000             21.100000   \n",
       "25%            86.600000         33.800000             29.200000   \n",
       "50%            90.000000         35.500000             31.600000   \n",
       "75%            93.000000         37.000000             34.300000   \n",
       "max           103.900000         42.300000             46.100000   \n",
       "\n",
       "       tour_de_taille  hauteur_de_la_taille  tour_de_poignet  \n",
       "count     6068.000000           6068.000000      6068.000000  \n",
       "mean        91.450148            103.150115        16.900297  \n",
       "std         11.427451              6.270239         1.312451  \n",
       "min         61.100000             80.500000        12.400000  \n",
       "25%         82.900000             98.800000        15.900000  \n",
       "50%         90.700000            103.300000        17.000000  \n",
       "75%         99.200000            107.600000        17.900000  \n",
       "max        137.900000            124.500000        21.600000  \n",
       "\n",
       "[8 rows x 33 columns]"
      ]
     },
     "execution_count": 77,
     "metadata": {},
     "output_type": "execute_result"
    }
   ],
   "source": [
    "cleaned_ansur.describe()"
   ]
  },
  {
   "cell_type": "code",
   "execution_count": 78,
   "id": "58287d78-fca6-41b7-9b02-36942e1ac64e",
   "metadata": {
    "execution": {
     "iopub.execute_input": "2025-07-15T14:32:26.006653Z",
     "iopub.status.busy": "2025-07-15T14:32:26.005655Z",
     "iopub.status.idle": "2025-07-15T14:32:26.028566Z",
     "shell.execute_reply": "2025-07-15T14:32:26.027555Z",
     "shell.execute_reply.started": "2025-07-15T14:32:26.006653Z"
    }
   },
   "outputs": [],
   "source": [
    "bdims_df=pd.read_csv('data/bdims.csv', encoding='cp1252', sep=';')\n",
    "cleaned_bdims=pd.DataFrame()"
   ]
  },
  {
   "cell_type": "code",
   "execution_count": 79,
   "id": "2af9ba49-f7af-4a5a-bd6a-f5db8899544e",
   "metadata": {
    "execution": {
     "iopub.execute_input": "2025-07-15T14:33:09.308492Z",
     "iopub.status.busy": "2025-07-15T14:33:09.308492Z",
     "iopub.status.idle": "2025-07-15T14:33:09.333822Z",
     "shell.execute_reply": "2025-07-15T14:33:09.331819Z",
     "shell.execute_reply.started": "2025-07-15T14:33:09.308492Z"
    }
   },
   "outputs": [
    {
     "data": {
      "text/plain": [
       "count    507.000000\n",
       "mean      38.811440\n",
       "std        3.059132\n",
       "min       32.400000\n",
       "25%       36.200000\n",
       "50%       38.700000\n",
       "75%       41.150000\n",
       "max       47.400000\n",
       "Name: bia_di, dtype: float64"
      ]
     },
     "execution_count": 79,
     "metadata": {},
     "output_type": "execute_result"
    }
   ],
   "source": [
    "bdims_df[\"bia_di\"].describe()"
   ]
  },
  {
   "cell_type": "code",
   "execution_count": 86,
   "id": "cae2799c-c81f-49c8-b317-d901c27bf71f",
   "metadata": {
    "execution": {
     "iopub.execute_input": "2025-07-15T14:50:07.578941Z",
     "iopub.status.busy": "2025-07-15T14:50:07.578941Z",
     "iopub.status.idle": "2025-07-15T14:50:07.596401Z",
     "shell.execute_reply": "2025-07-15T14:50:07.594881Z",
     "shell.execute_reply.started": "2025-07-15T14:50:07.578941Z"
    }
   },
   "outputs": [],
   "source": [
    "cleaned_bdims[\"taille\"]=bdims_df[\"hgt\"]"
   ]
  },
  {
   "cell_type": "code",
   "execution_count": 88,
   "id": "4e371fb1-70a6-49da-baea-ab713160dd80",
   "metadata": {
    "execution": {
     "iopub.execute_input": "2025-07-15T14:53:32.972778Z",
     "iopub.status.busy": "2025-07-15T14:53:32.971786Z",
     "iopub.status.idle": "2025-07-15T14:53:32.979595Z",
     "shell.execute_reply": "2025-07-15T14:53:32.978463Z",
     "shell.execute_reply.started": "2025-07-15T14:53:32.972778Z"
    }
   },
   "outputs": [],
   "source": [
    "cleaned_bdims[\"age\"]=bdims_df[\"age\"]"
   ]
  },
  {
   "cell_type": "code",
   "execution_count": 90,
   "id": "7e8c6947-d660-47fc-b8e7-ad768fd99f4b",
   "metadata": {
    "execution": {
     "iopub.execute_input": "2025-07-15T14:54:06.178778Z",
     "iopub.status.busy": "2025-07-15T14:54:06.177765Z",
     "iopub.status.idle": "2025-07-15T14:54:06.190429Z",
     "shell.execute_reply": "2025-07-15T14:54:06.187306Z",
     "shell.execute_reply.started": "2025-07-15T14:54:06.178778Z"
    }
   },
   "outputs": [],
   "source": [
    "cleaned_bdims[\"weight\"]=bdims_df[\"wgt\"]"
   ]
  },
  {
   "cell_type": "code",
   "execution_count": 92,
   "id": "3674767f-f217-43a5-8253-c6e66bbf337f",
   "metadata": {
    "execution": {
     "iopub.execute_input": "2025-07-15T14:55:02.386078Z",
     "iopub.status.busy": "2025-07-15T14:55:02.386078Z",
     "iopub.status.idle": "2025-07-15T14:55:02.395131Z",
     "shell.execute_reply": "2025-07-15T14:55:02.393138Z",
     "shell.execute_reply.started": "2025-07-15T14:55:02.386078Z"
    }
   },
   "outputs": [],
   "source": [
    "cleaned_bdims[\"sex\"]=bdims_df[\"sex\"]"
   ]
  },
  {
   "cell_type": "code",
   "execution_count": 94,
   "id": "f3e2823c-d2f1-4021-906e-6a14c5526ece",
   "metadata": {
    "execution": {
     "iopub.execute_input": "2025-07-15T14:55:54.284282Z",
     "iopub.status.busy": "2025-07-15T14:55:54.284282Z",
     "iopub.status.idle": "2025-07-15T14:55:54.300789Z",
     "shell.execute_reply": "2025-07-15T14:55:54.299280Z",
     "shell.execute_reply.started": "2025-07-15T14:55:54.284282Z"
    }
   },
   "outputs": [],
   "source": [
    "cleaned_bdims[\"largeur_d_epaule\"]=bdims_df[\"bia_di\"]"
   ]
  },
  {
   "cell_type": "code",
   "execution_count": 96,
   "id": "1fe28312-4e8f-4d67-ae1e-65d44306e62c",
   "metadata": {
    "execution": {
     "iopub.execute_input": "2025-07-15T14:58:36.024113Z",
     "iopub.status.busy": "2025-07-15T14:58:36.022055Z",
     "iopub.status.idle": "2025-07-15T14:58:36.048191Z",
     "shell.execute_reply": "2025-07-15T14:58:36.047199Z",
     "shell.execute_reply.started": "2025-07-15T14:58:36.024113Z"
    }
   },
   "outputs": [],
   "source": [
    "cleaned_bdims[\"largeur_des_hanches\"]=bdims_df[\"bii_di\"]"
   ]
  },
  {
   "cell_type": "code",
   "execution_count": 98,
   "id": "3f635333-6e09-4197-a4be-184a4d77048f",
   "metadata": {
    "execution": {
     "iopub.execute_input": "2025-07-15T15:00:22.715508Z",
     "iopub.status.busy": "2025-07-15T15:00:22.715508Z",
     "iopub.status.idle": "2025-07-15T15:00:22.738736Z",
     "shell.execute_reply": "2025-07-15T15:00:22.735732Z",
     "shell.execute_reply.started": "2025-07-15T15:00:22.715508Z"
    }
   },
   "outputs": [],
   "source": [
    "cleaned_bdims[\"largeur_du_visage\"]=bdims_df[\"bit_di\"]"
   ]
  },
  {
   "cell_type": "code",
   "execution_count": 103,
   "id": "55482829-0109-40da-988b-6e9d6ea282c1",
   "metadata": {
    "execution": {
     "iopub.execute_input": "2025-07-15T15:04:33.975884Z",
     "iopub.status.busy": "2025-07-15T15:04:33.975884Z",
     "iopub.status.idle": "2025-07-15T15:04:33.995794Z",
     "shell.execute_reply": "2025-07-15T15:04:33.993500Z",
     "shell.execute_reply.started": "2025-07-15T15:04:33.975884Z"
    }
   },
   "outputs": [],
   "source": [
    "cleaned_bdims[\"profondeur_de_poitrine\"]=bdims_df[\"che_de\"]"
   ]
  },
  {
   "cell_type": "code",
   "execution_count": 104,
   "id": "c39ec96e-48f4-4b3d-ad4a-60e781893a9c",
   "metadata": {
    "execution": {
     "iopub.execute_input": "2025-07-15T15:04:34.940926Z",
     "iopub.status.busy": "2025-07-15T15:04:34.940926Z",
     "iopub.status.idle": "2025-07-15T15:04:34.958084Z",
     "shell.execute_reply": "2025-07-15T15:04:34.958084Z",
     "shell.execute_reply.started": "2025-07-15T15:04:34.940926Z"
    }
   },
   "outputs": [],
   "source": [
    "cleaned_bdims[\"hauteur_de_poitrine\"]=bdims_df[\"che_di\"]"
   ]
  },
  {
   "cell_type": "code",
   "execution_count": 106,
   "id": "e001e498-a45b-404e-9110-b235eb3b80f4",
   "metadata": {
    "execution": {
     "iopub.execute_input": "2025-07-15T15:05:05.042887Z",
     "iopub.status.busy": "2025-07-15T15:05:05.042887Z",
     "iopub.status.idle": "2025-07-15T15:05:05.060059Z",
     "shell.execute_reply": "2025-07-15T15:05:05.058058Z",
     "shell.execute_reply.started": "2025-07-15T15:05:05.042887Z"
    }
   },
   "outputs": [],
   "source": [
    "cleaned_bdims[\"tour_de_coude\"]=bdims_df[\"elb_di\"]"
   ]
  },
  {
   "cell_type": "code",
   "execution_count": 108,
   "id": "521a272e-db0f-4944-b0d5-5e164a827ddf",
   "metadata": {
    "execution": {
     "iopub.execute_input": "2025-07-15T15:05:59.426143Z",
     "iopub.status.busy": "2025-07-15T15:05:59.425146Z",
     "iopub.status.idle": "2025-07-15T15:05:59.442506Z",
     "shell.execute_reply": "2025-07-15T15:05:59.439499Z",
     "shell.execute_reply.started": "2025-07-15T15:05:59.426143Z"
    }
   },
   "outputs": [],
   "source": [
    "cleaned_bdims[\"tour_de_poignet\"]=bdims_df[\"wri_di\"]"
   ]
  },
  {
   "cell_type": "code",
   "execution_count": 110,
   "id": "5ad9439d-34ec-43cb-ad2f-8d6b0f38527b",
   "metadata": {
    "execution": {
     "iopub.execute_input": "2025-07-15T15:06:28.370361Z",
     "iopub.status.busy": "2025-07-15T15:06:28.370361Z",
     "iopub.status.idle": "2025-07-15T15:06:28.376381Z",
     "shell.execute_reply": "2025-07-15T15:06:28.375395Z",
     "shell.execute_reply.started": "2025-07-15T15:06:28.370361Z"
    }
   },
   "outputs": [],
   "source": [
    "cleaned_bdims[\"hauteur_des_genoux\"]=bdims_df[\"kne_di\"]"
   ]
  },
  {
   "cell_type": "code",
   "execution_count": 112,
   "id": "01e0198a-ba32-4e08-a085-91c67fe0c609",
   "metadata": {
    "execution": {
     "iopub.execute_input": "2025-07-15T15:06:53.021365Z",
     "iopub.status.busy": "2025-07-15T15:06:53.020490Z",
     "iopub.status.idle": "2025-07-15T15:06:53.031905Z",
     "shell.execute_reply": "2025-07-15T15:06:53.031007Z",
     "shell.execute_reply.started": "2025-07-15T15:06:53.021365Z"
    }
   },
   "outputs": [],
   "source": [
    "cleaned_bdims[\"tour_de_cheville\"]=bdims_df[\"ank_di\"]"
   ]
  },
  {
   "cell_type": "code",
   "execution_count": 114,
   "id": "546bcaa9-d1ae-4596-9914-4017b4803174",
   "metadata": {
    "execution": {
     "iopub.execute_input": "2025-07-15T15:08:22.114341Z",
     "iopub.status.busy": "2025-07-15T15:08:22.112448Z",
     "iopub.status.idle": "2025-07-15T15:08:22.129011Z",
     "shell.execute_reply": "2025-07-15T15:08:22.128008Z",
     "shell.execute_reply.started": "2025-07-15T15:08:22.114341Z"
    }
   },
   "outputs": [],
   "source": [
    "cleaned_bdims[\"largeur_d_epaule\"]=bdims_df[\"sho_gi\"]"
   ]
  },
  {
   "cell_type": "code",
   "execution_count": 116,
   "id": "6ff8211c-e726-4f0f-ae8d-be87678076ca",
   "metadata": {
    "execution": {
     "iopub.execute_input": "2025-07-15T15:09:05.773447Z",
     "iopub.status.busy": "2025-07-15T15:09:05.771934Z",
     "iopub.status.idle": "2025-07-15T15:09:05.782476Z",
     "shell.execute_reply": "2025-07-15T15:09:05.781487Z",
     "shell.execute_reply.started": "2025-07-15T15:09:05.773447Z"
    }
   },
   "outputs": [],
   "source": [
    "cleaned_bdims[\"tour_de_poitrine\"]=bdims_df[\"che_gi\"]"
   ]
  },
  {
   "cell_type": "code",
   "execution_count": 118,
   "id": "f26c5cfb-253f-4f60-94cb-b6cd536c4c94",
   "metadata": {
    "execution": {
     "iopub.execute_input": "2025-07-15T15:09:28.430012Z",
     "iopub.status.busy": "2025-07-15T15:09:28.428497Z",
     "iopub.status.idle": "2025-07-15T15:09:28.447077Z",
     "shell.execute_reply": "2025-07-15T15:09:28.444063Z",
     "shell.execute_reply.started": "2025-07-15T15:09:28.430012Z"
    }
   },
   "outputs": [],
   "source": [
    "cleaned_bdims[\"tour_de_taille\"]=bdims_df[\"wai_gi\"]"
   ]
  },
  {
   "cell_type": "code",
   "execution_count": 120,
   "id": "187ce20b-def3-433c-9e63-35a91dd61f92",
   "metadata": {
    "execution": {
     "iopub.execute_input": "2025-07-15T15:10:39.527026Z",
     "iopub.status.busy": "2025-07-15T15:10:39.526029Z",
     "iopub.status.idle": "2025-07-15T15:10:39.548491Z",
     "shell.execute_reply": "2025-07-15T15:10:39.547502Z",
     "shell.execute_reply.started": "2025-07-15T15:10:39.527026Z"
    }
   },
   "outputs": [],
   "source": [
    "cleaned_bdims[\"tour_de_ventre_maximal\"]=bdims_df[\"nav_gi\"]"
   ]
  },
  {
   "cell_type": "code",
   "execution_count": 122,
   "id": "2533ecf3-fe5b-4be6-bd5e-d0e8fb5b6705",
   "metadata": {
    "execution": {
     "iopub.execute_input": "2025-07-15T15:11:14.791606Z",
     "iopub.status.busy": "2025-07-15T15:11:14.791606Z",
     "iopub.status.idle": "2025-07-15T15:11:14.801114Z",
     "shell.execute_reply": "2025-07-15T15:11:14.800129Z",
     "shell.execute_reply.started": "2025-07-15T15:11:14.791606Z"
    }
   },
   "outputs": [],
   "source": [
    "cleaned_bdims[\"tour_de_hanches_haut\"]=bdims_df[\"hip_gi\"]"
   ]
  },
  {
   "cell_type": "code",
   "execution_count": 124,
   "id": "de57b1e5-babe-47ec-9e00-639ca98c18f7",
   "metadata": {
    "execution": {
     "iopub.execute_input": "2025-07-15T15:11:51.125005Z",
     "iopub.status.busy": "2025-07-15T15:11:51.123995Z",
     "iopub.status.idle": "2025-07-15T15:11:51.147103Z",
     "shell.execute_reply": "2025-07-15T15:11:51.145093Z",
     "shell.execute_reply.started": "2025-07-15T15:11:51.125005Z"
    }
   },
   "outputs": [],
   "source": [
    "cleaned_bdims[\"tour_de_cuisse\"]=bdims_df[\"thi_gi\"]"
   ]
  },
  {
   "cell_type": "code",
   "execution_count": 127,
   "id": "b8548d33-bb2e-4309-acc5-593077a9cf9b",
   "metadata": {
    "execution": {
     "iopub.execute_input": "2025-07-15T15:12:12.059938Z",
     "iopub.status.busy": "2025-07-15T15:12:12.058963Z",
     "iopub.status.idle": "2025-07-15T15:12:12.075650Z",
     "shell.execute_reply": "2025-07-15T15:12:12.074133Z",
     "shell.execute_reply.started": "2025-07-15T15:12:12.059938Z"
    }
   },
   "outputs": [],
   "source": [
    "cleaned_bdims[\"tour_de_biceps\"]=bdims_df[\"bic_gi\"]"
   ]
  },
  {
   "cell_type": "code",
   "execution_count": 129,
   "id": "67037f29-0551-470f-9be1-167738039952",
   "metadata": {
    "execution": {
     "iopub.execute_input": "2025-07-15T15:12:32.541483Z",
     "iopub.status.busy": "2025-07-15T15:12:32.540482Z",
     "iopub.status.idle": "2025-07-15T15:12:32.567127Z",
     "shell.execute_reply": "2025-07-15T15:12:32.565086Z",
     "shell.execute_reply.started": "2025-07-15T15:12:32.541483Z"
    }
   },
   "outputs": [],
   "source": [
    "cleaned_bdims[\"tour_d_avant\"]=bdims_df[\"for_gi\"]"
   ]
  },
  {
   "cell_type": "code",
   "execution_count": 131,
   "id": "2afab621-26dd-4dde-81f9-704e7900de9c",
   "metadata": {
    "execution": {
     "iopub.execute_input": "2025-07-15T15:12:54.087832Z",
     "iopub.status.busy": "2025-07-15T15:12:54.086874Z",
     "iopub.status.idle": "2025-07-15T15:12:54.097996Z",
     "shell.execute_reply": "2025-07-15T15:12:54.097019Z",
     "shell.execute_reply.started": "2025-07-15T15:12:54.087832Z"
    }
   },
   "outputs": [],
   "source": [
    "cleaned_bdims[\"tour_de_genou\"]=bdims_df[\"kne_gi\"]"
   ]
  },
  {
   "cell_type": "code",
   "execution_count": 133,
   "id": "61875083-77a1-4a88-a98f-1cd02a9bf871",
   "metadata": {
    "execution": {
     "iopub.execute_input": "2025-07-15T15:13:10.282705Z",
     "iopub.status.busy": "2025-07-15T15:13:10.282705Z",
     "iopub.status.idle": "2025-07-15T15:13:10.291223Z",
     "shell.execute_reply": "2025-07-15T15:13:10.290223Z",
     "shell.execute_reply.started": "2025-07-15T15:13:10.282705Z"
    }
   },
   "outputs": [],
   "source": [
    "cleaned_bdims[\"tour_de_mollet\"]=bdims_df[\"cal_gi\"]"
   ]
  },
  {
   "cell_type": "code",
   "execution_count": 135,
   "id": "5da69f73-532e-4990-a832-76550946ce02",
   "metadata": {
    "execution": {
     "iopub.execute_input": "2025-07-15T15:13:41.129716Z",
     "iopub.status.busy": "2025-07-15T15:13:41.128715Z",
     "iopub.status.idle": "2025-07-15T15:13:41.140025Z",
     "shell.execute_reply": "2025-07-15T15:13:41.138040Z",
     "shell.execute_reply.started": "2025-07-15T15:13:41.129716Z"
    }
   },
   "outputs": [],
   "source": [
    "cleaned_bdims[\"tour_de_cheville\"]=bdims_df[\"ank_gi\"]"
   ]
  },
  {
   "cell_type": "code",
   "execution_count": 136,
   "id": "49a56208-82c1-40a3-afc1-066e693f49b9",
   "metadata": {
    "execution": {
     "iopub.execute_input": "2025-07-15T15:13:41.916580Z",
     "iopub.status.busy": "2025-07-15T15:13:41.916580Z",
     "iopub.status.idle": "2025-07-15T15:13:41.960905Z",
     "shell.execute_reply": "2025-07-15T15:13:41.959906Z",
     "shell.execute_reply.started": "2025-07-15T15:13:41.916580Z"
    }
   },
   "outputs": [
    {
     "data": {
      "text/html": [
       "<div>\n",
       "<style scoped>\n",
       "    .dataframe tbody tr th:only-of-type {\n",
       "        vertical-align: middle;\n",
       "    }\n",
       "\n",
       "    .dataframe tbody tr th {\n",
       "        vertical-align: top;\n",
       "    }\n",
       "\n",
       "    .dataframe thead th {\n",
       "        text-align: right;\n",
       "    }\n",
       "</style>\n",
       "<table border=\"1\" class=\"dataframe\">\n",
       "  <thead>\n",
       "    <tr style=\"text-align: right;\">\n",
       "      <th></th>\n",
       "      <th>taille</th>\n",
       "      <th>age</th>\n",
       "      <th>weight</th>\n",
       "      <th>sex</th>\n",
       "      <th>largeur_d_epaule</th>\n",
       "      <th>largeur_des_hanches</th>\n",
       "      <th>largeur_du_visage</th>\n",
       "      <th>profondeur_de_la_poitrine</th>\n",
       "      <th>profondeur_de_poitrine</th>\n",
       "      <th>hauteur_de_poitrine</th>\n",
       "      <th>...</th>\n",
       "      <th>tour_de_cheville</th>\n",
       "      <th>tour_de_poitrine</th>\n",
       "      <th>tour_de_taille</th>\n",
       "      <th>tour_de_ventre_maximal</th>\n",
       "      <th>tour_de_hanches_haut</th>\n",
       "      <th>tour_de_cuisse</th>\n",
       "      <th>tour_de_biceps</th>\n",
       "      <th>tour_d_avant</th>\n",
       "      <th>tour_de_genou</th>\n",
       "      <th>tour_de_mollet</th>\n",
       "    </tr>\n",
       "  </thead>\n",
       "  <tbody>\n",
       "    <tr>\n",
       "      <th>count</th>\n",
       "      <td>507.000000</td>\n",
       "      <td>507.000000</td>\n",
       "      <td>507.000000</td>\n",
       "      <td>507.000000</td>\n",
       "      <td>507.000000</td>\n",
       "      <td>507.000000</td>\n",
       "      <td>507.000000</td>\n",
       "      <td>507.000000</td>\n",
       "      <td>507.000000</td>\n",
       "      <td>507.000000</td>\n",
       "      <td>...</td>\n",
       "      <td>507.000000</td>\n",
       "      <td>507.000000</td>\n",
       "      <td>507.000000</td>\n",
       "      <td>507.000000</td>\n",
       "      <td>507.000000</td>\n",
       "      <td>507.000000</td>\n",
       "      <td>507.000000</td>\n",
       "      <td>507.000000</td>\n",
       "      <td>507.000000</td>\n",
       "      <td>507.000000</td>\n",
       "    </tr>\n",
       "    <tr>\n",
       "      <th>mean</th>\n",
       "      <td>171.143787</td>\n",
       "      <td>30.181460</td>\n",
       "      <td>69.147535</td>\n",
       "      <td>0.487179</td>\n",
       "      <td>108.195069</td>\n",
       "      <td>27.829980</td>\n",
       "      <td>31.980473</td>\n",
       "      <td>19.226036</td>\n",
       "      <td>19.226036</td>\n",
       "      <td>27.973767</td>\n",
       "      <td>...</td>\n",
       "      <td>22.157396</td>\n",
       "      <td>93.333531</td>\n",
       "      <td>76.979487</td>\n",
       "      <td>85.653846</td>\n",
       "      <td>96.680868</td>\n",
       "      <td>56.855819</td>\n",
       "      <td>31.169625</td>\n",
       "      <td>25.942998</td>\n",
       "      <td>36.202959</td>\n",
       "      <td>36.078304</td>\n",
       "    </tr>\n",
       "    <tr>\n",
       "      <th>std</th>\n",
       "      <td>9.407205</td>\n",
       "      <td>9.608472</td>\n",
       "      <td>13.345762</td>\n",
       "      <td>0.500329</td>\n",
       "      <td>10.374834</td>\n",
       "      <td>2.206308</td>\n",
       "      <td>2.030916</td>\n",
       "      <td>2.515877</td>\n",
       "      <td>2.515877</td>\n",
       "      <td>2.741650</td>\n",
       "      <td>...</td>\n",
       "      <td>1.862337</td>\n",
       "      <td>10.027621</td>\n",
       "      <td>11.012688</td>\n",
       "      <td>9.424128</td>\n",
       "      <td>6.680623</td>\n",
       "      <td>4.459889</td>\n",
       "      <td>4.246941</td>\n",
       "      <td>2.830579</td>\n",
       "      <td>2.617570</td>\n",
       "      <td>2.847661</td>\n",
       "    </tr>\n",
       "    <tr>\n",
       "      <th>min</th>\n",
       "      <td>147.200000</td>\n",
       "      <td>18.000000</td>\n",
       "      <td>42.000000</td>\n",
       "      <td>0.000000</td>\n",
       "      <td>85.900000</td>\n",
       "      <td>18.700000</td>\n",
       "      <td>24.700000</td>\n",
       "      <td>14.300000</td>\n",
       "      <td>14.300000</td>\n",
       "      <td>22.200000</td>\n",
       "      <td>...</td>\n",
       "      <td>16.400000</td>\n",
       "      <td>72.600000</td>\n",
       "      <td>57.900000</td>\n",
       "      <td>64.000000</td>\n",
       "      <td>78.800000</td>\n",
       "      <td>46.300000</td>\n",
       "      <td>22.400000</td>\n",
       "      <td>19.600000</td>\n",
       "      <td>29.000000</td>\n",
       "      <td>28.400000</td>\n",
       "    </tr>\n",
       "    <tr>\n",
       "      <th>25%</th>\n",
       "      <td>163.800000</td>\n",
       "      <td>23.000000</td>\n",
       "      <td>58.400000</td>\n",
       "      <td>0.000000</td>\n",
       "      <td>99.450000</td>\n",
       "      <td>26.500000</td>\n",
       "      <td>30.600000</td>\n",
       "      <td>17.300000</td>\n",
       "      <td>17.300000</td>\n",
       "      <td>25.650000</td>\n",
       "      <td>...</td>\n",
       "      <td>21.000000</td>\n",
       "      <td>85.300000</td>\n",
       "      <td>68.000000</td>\n",
       "      <td>78.850000</td>\n",
       "      <td>92.000000</td>\n",
       "      <td>53.700000</td>\n",
       "      <td>27.600000</td>\n",
       "      <td>23.600000</td>\n",
       "      <td>34.400000</td>\n",
       "      <td>34.100000</td>\n",
       "    </tr>\n",
       "    <tr>\n",
       "      <th>50%</th>\n",
       "      <td>170.300000</td>\n",
       "      <td>27.000000</td>\n",
       "      <td>68.200000</td>\n",
       "      <td>0.000000</td>\n",
       "      <td>108.200000</td>\n",
       "      <td>28.000000</td>\n",
       "      <td>32.000000</td>\n",
       "      <td>19.000000</td>\n",
       "      <td>19.000000</td>\n",
       "      <td>27.800000</td>\n",
       "      <td>...</td>\n",
       "      <td>22.000000</td>\n",
       "      <td>91.600000</td>\n",
       "      <td>75.800000</td>\n",
       "      <td>84.600000</td>\n",
       "      <td>96.000000</td>\n",
       "      <td>56.300000</td>\n",
       "      <td>31.000000</td>\n",
       "      <td>25.800000</td>\n",
       "      <td>36.000000</td>\n",
       "      <td>36.000000</td>\n",
       "    </tr>\n",
       "    <tr>\n",
       "      <th>75%</th>\n",
       "      <td>177.800000</td>\n",
       "      <td>36.000000</td>\n",
       "      <td>78.850000</td>\n",
       "      <td>1.000000</td>\n",
       "      <td>116.550000</td>\n",
       "      <td>29.250000</td>\n",
       "      <td>33.350000</td>\n",
       "      <td>20.900000</td>\n",
       "      <td>20.900000</td>\n",
       "      <td>29.950000</td>\n",
       "      <td>...</td>\n",
       "      <td>23.300000</td>\n",
       "      <td>101.150000</td>\n",
       "      <td>84.500000</td>\n",
       "      <td>91.600000</td>\n",
       "      <td>101.000000</td>\n",
       "      <td>59.500000</td>\n",
       "      <td>34.450000</td>\n",
       "      <td>28.400000</td>\n",
       "      <td>37.950000</td>\n",
       "      <td>38.000000</td>\n",
       "    </tr>\n",
       "    <tr>\n",
       "      <th>max</th>\n",
       "      <td>198.100000</td>\n",
       "      <td>67.000000</td>\n",
       "      <td>116.400000</td>\n",
       "      <td>1.000000</td>\n",
       "      <td>134.800000</td>\n",
       "      <td>34.700000</td>\n",
       "      <td>38.000000</td>\n",
       "      <td>27.500000</td>\n",
       "      <td>27.500000</td>\n",
       "      <td>35.600000</td>\n",
       "      <td>...</td>\n",
       "      <td>29.300000</td>\n",
       "      <td>118.700000</td>\n",
       "      <td>113.200000</td>\n",
       "      <td>121.100000</td>\n",
       "      <td>128.300000</td>\n",
       "      <td>75.700000</td>\n",
       "      <td>42.400000</td>\n",
       "      <td>32.500000</td>\n",
       "      <td>49.000000</td>\n",
       "      <td>47.700000</td>\n",
       "    </tr>\n",
       "  </tbody>\n",
       "</table>\n",
       "<p>8 rows × 23 columns</p>\n",
       "</div>"
      ],
      "text/plain": [
       "           taille         age      weight         sex  largeur_d_epaule  \\\n",
       "count  507.000000  507.000000  507.000000  507.000000        507.000000   \n",
       "mean   171.143787   30.181460   69.147535    0.487179        108.195069   \n",
       "std      9.407205    9.608472   13.345762    0.500329         10.374834   \n",
       "min    147.200000   18.000000   42.000000    0.000000         85.900000   \n",
       "25%    163.800000   23.000000   58.400000    0.000000         99.450000   \n",
       "50%    170.300000   27.000000   68.200000    0.000000        108.200000   \n",
       "75%    177.800000   36.000000   78.850000    1.000000        116.550000   \n",
       "max    198.100000   67.000000  116.400000    1.000000        134.800000   \n",
       "\n",
       "       largeur_des_hanches  largeur_du_visage  profondeur_de_la_poitrine  \\\n",
       "count           507.000000         507.000000                 507.000000   \n",
       "mean             27.829980          31.980473                  19.226036   \n",
       "std               2.206308           2.030916                   2.515877   \n",
       "min              18.700000          24.700000                  14.300000   \n",
       "25%              26.500000          30.600000                  17.300000   \n",
       "50%              28.000000          32.000000                  19.000000   \n",
       "75%              29.250000          33.350000                  20.900000   \n",
       "max              34.700000          38.000000                  27.500000   \n",
       "\n",
       "       profondeur_de_poitrine  hauteur_de_poitrine  ...  tour_de_cheville  \\\n",
       "count              507.000000           507.000000  ...        507.000000   \n",
       "mean                19.226036            27.973767  ...         22.157396   \n",
       "std                  2.515877             2.741650  ...          1.862337   \n",
       "min                 14.300000            22.200000  ...         16.400000   \n",
       "25%                 17.300000            25.650000  ...         21.000000   \n",
       "50%                 19.000000            27.800000  ...         22.000000   \n",
       "75%                 20.900000            29.950000  ...         23.300000   \n",
       "max                 27.500000            35.600000  ...         29.300000   \n",
       "\n",
       "       tour_de_poitrine  tour_de_taille  tour_de_ventre_maximal  \\\n",
       "count        507.000000      507.000000              507.000000   \n",
       "mean          93.333531       76.979487               85.653846   \n",
       "std           10.027621       11.012688                9.424128   \n",
       "min           72.600000       57.900000               64.000000   \n",
       "25%           85.300000       68.000000               78.850000   \n",
       "50%           91.600000       75.800000               84.600000   \n",
       "75%          101.150000       84.500000               91.600000   \n",
       "max          118.700000      113.200000              121.100000   \n",
       "\n",
       "       tour_de_hanches_haut  tour_de_cuisse  tour_de_biceps  tour_d_avant  \\\n",
       "count            507.000000      507.000000      507.000000    507.000000   \n",
       "mean              96.680868       56.855819       31.169625     25.942998   \n",
       "std                6.680623        4.459889        4.246941      2.830579   \n",
       "min               78.800000       46.300000       22.400000     19.600000   \n",
       "25%               92.000000       53.700000       27.600000     23.600000   \n",
       "50%               96.000000       56.300000       31.000000     25.800000   \n",
       "75%              101.000000       59.500000       34.450000     28.400000   \n",
       "max              128.300000       75.700000       42.400000     32.500000   \n",
       "\n",
       "       tour_de_genou  tour_de_mollet  \n",
       "count     507.000000      507.000000  \n",
       "mean       36.202959       36.078304  \n",
       "std         2.617570        2.847661  \n",
       "min        29.000000       28.400000  \n",
       "25%        34.400000       34.100000  \n",
       "50%        36.000000       36.000000  \n",
       "75%        37.950000       38.000000  \n",
       "max        49.000000       47.700000  \n",
       "\n",
       "[8 rows x 23 columns]"
      ]
     },
     "execution_count": 136,
     "metadata": {},
     "output_type": "execute_result"
    }
   ],
   "source": [
    "cleaned_bdims.describe()"
   ]
  },
  {
   "cell_type": "code",
   "execution_count": 138,
   "id": "26f61b25-f9d4-4dac-9f33-e0b3c66fd736",
   "metadata": {
    "execution": {
     "iopub.execute_input": "2025-07-15T15:33:26.160280Z",
     "iopub.status.busy": "2025-07-15T15:33:26.159721Z",
     "iopub.status.idle": "2025-07-15T15:33:26.234819Z",
     "shell.execute_reply": "2025-07-15T15:33:26.233823Z",
     "shell.execute_reply.started": "2025-07-15T15:33:26.160280Z"
    }
   },
   "outputs": [],
   "source": [
    "caesar_df=pd.read_csv('data/caesar.csv', encoding='cp1252', sep=';')\n",
    "cleaned_caesar=pd.DataFrame()"
   ]
  },
  {
   "cell_type": "code",
   "execution_count": 141,
   "id": "5d7af21f-bd69-4771-9a78-78613786b901",
   "metadata": {
    "execution": {
     "iopub.execute_input": "2025-07-15T15:40:30.046334Z",
     "iopub.status.busy": "2025-07-15T15:40:30.045334Z",
     "iopub.status.idle": "2025-07-15T15:40:30.061445Z",
     "shell.execute_reply": "2025-07-15T15:40:30.058917Z",
     "shell.execute_reply.started": "2025-07-15T15:40:30.046334Z"
    }
   },
   "outputs": [],
   "source": [
    "cleaned_caesar[\"taille\"]=caesar_df[\"height\"]*2.54"
   ]
  },
  {
   "cell_type": "code",
   "execution_count": 144,
   "id": "c5d73f93-e366-4aff-84c3-99e1b577f820",
   "metadata": {
    "execution": {
     "iopub.execute_input": "2025-07-15T15:41:14.401833Z",
     "iopub.status.busy": "2025-07-15T15:41:14.399681Z",
     "iopub.status.idle": "2025-07-15T15:41:14.419366Z",
     "shell.execute_reply": "2025-07-15T15:41:14.417368Z",
     "shell.execute_reply.started": "2025-07-15T15:41:14.400676Z"
    }
   },
   "outputs": [],
   "source": [
    "cleaned_caesar[\"age\"]=caesar_df[\"age\"]"
   ]
  },
  {
   "cell_type": "code",
   "execution_count": 146,
   "id": "eaf2e94b-49d0-46f3-9696-1f67e3443ce9",
   "metadata": {
    "execution": {
     "iopub.execute_input": "2025-07-15T15:42:12.724734Z",
     "iopub.status.busy": "2025-07-15T15:42:12.723738Z",
     "iopub.status.idle": "2025-07-15T15:42:12.744570Z",
     "shell.execute_reply": "2025-07-15T15:42:12.743563Z",
     "shell.execute_reply.started": "2025-07-15T15:42:12.724734Z"
    }
   },
   "outputs": [],
   "source": [
    "cleaned_caesar[\"weight\"]=caesar_df[\"weight\"]*0.453592"
   ]
  },
  {
   "cell_type": "code",
   "execution_count": 153,
   "id": "00b97c00-7751-43ca-90c0-f4008a0e5683",
   "metadata": {
    "execution": {
     "iopub.execute_input": "2025-07-15T15:48:36.774574Z",
     "iopub.status.busy": "2025-07-15T15:48:36.773570Z",
     "iopub.status.idle": "2025-07-15T15:48:36.796828Z",
     "shell.execute_reply": "2025-07-15T15:48:36.793828Z",
     "shell.execute_reply.started": "2025-07-15T15:48:36.774574Z"
    }
   },
   "outputs": [],
   "source": [
    "caesar_df[\"gender\"] = caesar_df[\"gender\"].map({\"male\": 1, \"female\": 0})"
   ]
  },
  {
   "cell_type": "code",
   "execution_count": 155,
   "id": "09efcafa-01a5-48fc-8216-3fd547cdd854",
   "metadata": {
    "execution": {
     "iopub.execute_input": "2025-07-15T15:49:13.529170Z",
     "iopub.status.busy": "2025-07-15T15:49:13.528169Z",
     "iopub.status.idle": "2025-07-15T15:49:13.545610Z",
     "shell.execute_reply": "2025-07-15T15:49:13.544610Z",
     "shell.execute_reply.started": "2025-07-15T15:49:13.528169Z"
    }
   },
   "outputs": [],
   "source": [
    "cleaned_caesar[\"gender\"]=caesar_df[\"gender\"]"
   ]
  },
  {
   "cell_type": "code",
   "execution_count": 157,
   "id": "5103f698-d6b8-456f-b191-12b5fad169e4",
   "metadata": {
    "execution": {
     "iopub.execute_input": "2025-07-15T15:50:29.952699Z",
     "iopub.status.busy": "2025-07-15T15:50:29.951691Z",
     "iopub.status.idle": "2025-07-15T15:50:29.972765Z",
     "shell.execute_reply": "2025-07-15T15:50:29.971726Z",
     "shell.execute_reply.started": "2025-07-15T15:50:29.952699Z"
    }
   },
   "outputs": [],
   "source": [
    "cleaned_caesar[\"sex\"]=caesar_df[\"gender\"]"
   ]
  },
  {
   "cell_type": "code",
   "execution_count": 163,
   "id": "2dfb8588-f224-4208-9e88-b4581ed52ad8",
   "metadata": {
    "execution": {
     "iopub.execute_input": "2025-07-15T15:51:25.527143Z",
     "iopub.status.busy": "2025-07-15T15:51:25.527143Z",
     "iopub.status.idle": "2025-07-15T15:51:25.544861Z",
     "shell.execute_reply": "2025-07-15T15:51:25.543769Z",
     "shell.execute_reply.started": "2025-07-15T15:51:25.527143Z"
    }
   },
   "outputs": [],
   "source": [
    "cleaned_caesar[\"tour_de_cheville\"]=caesar_df[\"ankle_circum\"]*2.54"
   ]
  },
  {
   "cell_type": "code",
   "execution_count": 165,
   "id": "10ba754c-afb0-4509-848c-10ad8e5d3270",
   "metadata": {
    "execution": {
     "iopub.execute_input": "2025-07-15T15:51:46.926016Z",
     "iopub.status.busy": "2025-07-15T15:51:46.925018Z",
     "iopub.status.idle": "2025-07-15T15:51:46.940558Z",
     "shell.execute_reply": "2025-07-15T15:51:46.939556Z",
     "shell.execute_reply.started": "2025-07-15T15:51:46.925018Z"
    }
   },
   "outputs": [],
   "source": [
    "cleaned_caesar[\"longueur_de_bras\"]=caesar_df[\"arm_len_shoulder_wrist\"]*2.54"
   ]
  },
  {
   "cell_type": "code",
   "execution_count": 167,
   "id": "b4545024-e22c-41ca-b326-a82cafdd99be",
   "metadata": {
    "execution": {
     "iopub.execute_input": "2025-07-15T15:52:06.432481Z",
     "iopub.status.busy": "2025-07-15T15:52:06.432481Z",
     "iopub.status.idle": "2025-07-15T15:52:06.446629Z",
     "shell.execute_reply": "2025-07-15T15:52:06.444621Z",
     "shell.execute_reply.started": "2025-07-15T15:52:06.432481Z"
    }
   },
   "outputs": [],
   "source": [
    "cleaned_caesar[\"largeur_du_dos\"]=caesar_df[\"biacromial_breadth\"]*2.54"
   ]
  },
  {
   "cell_type": "code",
   "execution_count": 169,
   "id": "df045831-c16b-4754-b3ca-f4fb373997f6",
   "metadata": {
    "execution": {
     "iopub.execute_input": "2025-07-15T15:52:32.836637Z",
     "iopub.status.busy": "2025-07-15T15:52:32.835633Z",
     "iopub.status.idle": "2025-07-15T15:52:32.851370Z",
     "shell.execute_reply": "2025-07-15T15:52:32.850350Z",
     "shell.execute_reply.started": "2025-07-15T15:52:32.836637Z"
    }
   },
   "outputs": [],
   "source": [
    "cleaned_caesar[\"tour_de_ventre_maximal\"]=caesar_df[\"waist_circum_preferred\"]*2.54"
   ]
  },
  {
   "cell_type": "code",
   "execution_count": 171,
   "id": "e3b9aa15-04a0-4510-af7c-c4e7083ff161",
   "metadata": {
    "execution": {
     "iopub.execute_input": "2025-07-15T15:52:54.350615Z",
     "iopub.status.busy": "2025-07-15T15:52:54.349615Z",
     "iopub.status.idle": "2025-07-15T15:52:54.365599Z",
     "shell.execute_reply": "2025-07-15T15:52:54.364646Z",
     "shell.execute_reply.started": "2025-07-15T15:52:54.350615Z"
    }
   },
   "outputs": [],
   "source": [
    "cleaned_caesar[\"tour_de_poitrine\"]=caesar_df[\"chest_circum\"]*2.54"
   ]
  },
  {
   "cell_type": "code",
   "execution_count": 173,
   "id": "31a5c6e3-e848-4e7e-ad76-d36867f00fb8",
   "metadata": {
    "execution": {
     "iopub.execute_input": "2025-07-15T15:53:11.785531Z",
     "iopub.status.busy": "2025-07-15T15:53:11.784521Z",
     "iopub.status.idle": "2025-07-15T15:53:11.802592Z",
     "shell.execute_reply": "2025-07-15T15:53:11.800573Z",
     "shell.execute_reply.started": "2025-07-15T15:53:11.785531Z"
    }
   },
   "outputs": [],
   "source": [
    "cleaned_caesar[\"tour_de_poitrine_mesure_a_la_main\"]=caesar_df[\"bra_size_chest\"]*2.54"
   ]
  },
  {
   "cell_type": "code",
   "execution_count": 175,
   "id": "95c239d9-53b6-46c8-aa24-81872f91ed8a",
   "metadata": {
    "execution": {
     "iopub.execute_input": "2025-07-15T15:53:57.129691Z",
     "iopub.status.busy": "2025-07-15T15:53:57.129691Z",
     "iopub.status.idle": "2025-07-15T15:53:57.142213Z",
     "shell.execute_reply": "2025-07-15T15:53:57.140212Z",
     "shell.execute_reply.started": "2025-07-15T15:53:57.129691Z"
    }
   },
   "outputs": [],
   "source": [
    "cleaned_caesar[\"hauteur_de_poitrine\"]=caesar_df[\"chest_height\"]*2.54"
   ]
  },
  {
   "cell_type": "code",
   "execution_count": 177,
   "id": "46e8bed0-7256-473e-9eca-d4ead3980e99",
   "metadata": {
    "execution": {
     "iopub.execute_input": "2025-07-15T15:54:15.992555Z",
     "iopub.status.busy": "2025-07-15T15:54:15.991556Z",
     "iopub.status.idle": "2025-07-15T15:54:16.004145Z",
     "shell.execute_reply": "2025-07-15T15:54:16.003114Z",
     "shell.execute_reply.started": "2025-07-15T15:54:15.992555Z"
    }
   },
   "outputs": [],
   "source": [
    "cleaned_caesar[\"hauteur_d_entrejambe\"]=caesar_df[\"jean_inseam\"]*2.54"
   ]
  },
  {
   "cell_type": "code",
   "execution_count": 179,
   "id": "de7da753-687c-4c40-a7ca-9aaa7ea4c6a3",
   "metadata": {
    "execution": {
     "iopub.execute_input": "2025-07-15T15:54:50.744460Z",
     "iopub.status.busy": "2025-07-15T15:54:50.743459Z",
     "iopub.status.idle": "2025-07-15T15:54:50.759351Z",
     "shell.execute_reply": "2025-07-15T15:54:50.757348Z",
     "shell.execute_reply.started": "2025-07-15T15:54:50.744460Z"
    }
   },
   "outputs": [],
   "source": [
    "cleaned_caesar[\"longueur_avant\"]=caesar_df[\"radial_stylion_len\"]*2.54"
   ]
  },
  {
   "cell_type": "code",
   "execution_count": 181,
   "id": "6bb440af-3004-49f7-92f1-06cadbf95cee",
   "metadata": {
    "execution": {
     "iopub.execute_input": "2025-07-15T15:55:11.213633Z",
     "iopub.status.busy": "2025-07-15T15:55:11.213633Z",
     "iopub.status.idle": "2025-07-15T15:55:11.230732Z",
     "shell.execute_reply": "2025-07-15T15:55:11.228727Z",
     "shell.execute_reply.started": "2025-07-15T15:55:11.213633Z"
    }
   },
   "outputs": [],
   "source": [
    "cleaned_caesar[\"largeur_des_hanches\"]=caesar_df[\"bideltoid_breadth\"]*2.54"
   ]
  },
  {
   "cell_type": "code",
   "execution_count": 183,
   "id": "6b4a7c03-649b-43a0-8ee4-654dbeb91517",
   "metadata": {
    "execution": {
     "iopub.execute_input": "2025-07-15T15:55:37.606298Z",
     "iopub.status.busy": "2025-07-15T15:55:37.605295Z",
     "iopub.status.idle": "2025-07-15T15:55:37.622834Z",
     "shell.execute_reply": "2025-07-15T15:55:37.620723Z",
     "shell.execute_reply.started": "2025-07-15T15:55:37.606298Z"
    }
   },
   "outputs": [],
   "source": [
    "cleaned_caesar[\"hauteur_des_hanches\"]=caesar_df[\"hip_height\"]*2.54"
   ]
  },
  {
   "cell_type": "code",
   "execution_count": 185,
   "id": "673af7aa-cc32-4bc2-aec7-f51ea9262e09",
   "metadata": {
    "execution": {
     "iopub.execute_input": "2025-07-15T15:56:01.211140Z",
     "iopub.status.busy": "2025-07-15T15:56:01.210134Z",
     "iopub.status.idle": "2025-07-15T15:56:01.231130Z",
     "shell.execute_reply": "2025-07-15T15:56:01.229132Z",
     "shell.execute_reply.started": "2025-07-15T15:56:01.211140Z"
    }
   },
   "outputs": [],
   "source": [
    "cleaned_caesar[\"hauteur_des_genoux\"]=caesar_df[\"knee_height\"]*2.54"
   ]
  },
  {
   "cell_type": "code",
   "execution_count": 187,
   "id": "b00f834b-f3a0-4eee-82bd-34fc6dcbf522",
   "metadata": {
    "execution": {
     "iopub.execute_input": "2025-07-15T15:56:18.704722Z",
     "iopub.status.busy": "2025-07-15T15:56:18.704722Z",
     "iopub.status.idle": "2025-07-15T15:56:18.720289Z",
     "shell.execute_reply": "2025-07-15T15:56:18.719288Z",
     "shell.execute_reply.started": "2025-07-15T15:56:18.704722Z"
    }
   },
   "outputs": [],
   "source": [
    "cleaned_caesar[\"tour_du_cou\"]=caesar_df[\"neck_circum_base\"]*2.54"
   ]
  },
  {
   "cell_type": "code",
   "execution_count": 189,
   "id": "c5c55ab8-b534-4923-919f-53724ff71ac0",
   "metadata": {
    "execution": {
     "iopub.execute_input": "2025-07-15T15:56:36.716339Z",
     "iopub.status.busy": "2025-07-15T15:56:36.716339Z",
     "iopub.status.idle": "2025-07-15T15:56:36.738467Z",
     "shell.execute_reply": "2025-07-15T15:56:36.737467Z",
     "shell.execute_reply.started": "2025-07-15T15:56:36.716339Z"
    }
   },
   "outputs": [],
   "source": [
    "cleaned_caesar[\"largeur_d_epaule\"]=caesar_df[\"biacromial_breadth\"]*2.54"
   ]
  },
  {
   "cell_type": "code",
   "execution_count": 191,
   "id": "46b466ed-2c45-4334-aeba-9e83f5d3aba3",
   "metadata": {
    "execution": {
     "iopub.execute_input": "2025-07-15T15:57:11.370449Z",
     "iopub.status.busy": "2025-07-15T15:57:11.369449Z",
     "iopub.status.idle": "2025-07-15T15:57:11.388859Z",
     "shell.execute_reply": "2025-07-15T15:57:11.386297Z",
     "shell.execute_reply.started": "2025-07-15T15:57:11.370449Z"
    }
   },
   "outputs": [],
   "source": [
    "cleaned_caesar[\"hauteur_des_epaules\"]=caesar_df[\"acromion_height\"]*2.54"
   ]
  },
  {
   "cell_type": "code",
   "execution_count": 193,
   "id": "c9d74c52-50ab-4acd-984c-69bff6039e4c",
   "metadata": {
    "execution": {
     "iopub.execute_input": "2025-07-15T15:57:35.161501Z",
     "iopub.status.busy": "2025-07-15T15:57:35.160500Z",
     "iopub.status.idle": "2025-07-15T15:57:35.171774Z",
     "shell.execute_reply": "2025-07-15T15:57:35.170385Z",
     "shell.execute_reply.started": "2025-07-15T15:57:35.161501Z"
    }
   },
   "outputs": [],
   "source": [
    "cleaned_caesar[\"largeur_des_epaules_a_l_horizontales\"]=caesar_df[\"bideltoid_breadth\"]*2.54"
   ]
  },
  {
   "cell_type": "code",
   "execution_count": 195,
   "id": "ebd69ea7-11b6-41b3-86f3-d5f0b18f5e11",
   "metadata": {
    "execution": {
     "iopub.execute_input": "2025-07-15T15:57:58.819314Z",
     "iopub.status.busy": "2025-07-15T15:57:58.819314Z",
     "iopub.status.idle": "2025-07-15T15:57:58.832688Z",
     "shell.execute_reply": "2025-07-15T15:57:58.831678Z",
     "shell.execute_reply.started": "2025-07-15T15:57:58.819314Z"
    }
   },
   "outputs": [],
   "source": [
    "cleaned_caesar[\"longueur_de_la_colonne_vertebrale_jusqu_au_poignet\"]=caesar_df[\"arm_len_spine_wrist\"]*2.54"
   ]
  },
  {
   "cell_type": "code",
   "execution_count": 197,
   "id": "cd3dfcdf-af4a-4a8c-bf2d-aaec673f4065",
   "metadata": {
    "execution": {
     "iopub.execute_input": "2025-07-15T15:59:08.614791Z",
     "iopub.status.busy": "2025-07-15T15:59:08.613794Z",
     "iopub.status.idle": "2025-07-15T15:59:08.629826Z",
     "shell.execute_reply": "2025-07-15T15:59:08.626815Z",
     "shell.execute_reply.started": "2025-07-15T15:59:08.614791Z"
    }
   },
   "outputs": [],
   "source": [
    "cleaned_caesar[\"tour_de_cuisse\"]=caesar_df[\"thigh_circum_proximal\"]*2.54"
   ]
  },
  {
   "cell_type": "code",
   "execution_count": 199,
   "id": "c72122cc-254c-4ab7-9016-605edd431b98",
   "metadata": {
    "execution": {
     "iopub.execute_input": "2025-07-15T15:59:30.902604Z",
     "iopub.status.busy": "2025-07-15T15:59:30.901604Z",
     "iopub.status.idle": "2025-07-15T15:59:30.923503Z",
     "shell.execute_reply": "2025-07-15T15:59:30.922636Z",
     "shell.execute_reply.started": "2025-07-15T15:59:30.902604Z"
    }
   },
   "outputs": [],
   "source": [
    "cleaned_caesar[\"tour_de_taille\"]=caesar_df[\"waist_circum_preferred\"]*2.54"
   ]
  },
  {
   "cell_type": "code",
   "execution_count": 201,
   "id": "12aec337-90c2-4940-8dd6-4bca7b494b85",
   "metadata": {
    "execution": {
     "iopub.execute_input": "2025-07-15T15:59:50.980518Z",
     "iopub.status.busy": "2025-07-15T15:59:50.979520Z",
     "iopub.status.idle": "2025-07-15T15:59:50.998567Z",
     "shell.execute_reply": "2025-07-15T15:59:50.997534Z",
     "shell.execute_reply.started": "2025-07-15T15:59:50.980518Z"
    }
   },
   "outputs": [],
   "source": [
    "cleaned_caesar[\"hauteur_de_la_taille\"]=caesar_df[\"waist_height_preferred\"]*2.54"
   ]
  },
  {
   "cell_type": "code",
   "execution_count": 202,
   "id": "b0911ebe-4016-4e38-81cb-18cd674c960d",
   "metadata": {
    "execution": {
     "iopub.execute_input": "2025-07-15T15:59:52.749377Z",
     "iopub.status.busy": "2025-07-15T15:59:52.747394Z",
     "iopub.status.idle": "2025-07-15T15:59:52.803208Z",
     "shell.execute_reply": "2025-07-15T15:59:52.802222Z",
     "shell.execute_reply.started": "2025-07-15T15:59:52.749377Z"
    }
   },
   "outputs": [
    {
     "data": {
      "text/html": [
       "<div>\n",
       "<style scoped>\n",
       "    .dataframe tbody tr th:only-of-type {\n",
       "        vertical-align: middle;\n",
       "    }\n",
       "\n",
       "    .dataframe tbody tr th {\n",
       "        vertical-align: top;\n",
       "    }\n",
       "\n",
       "    .dataframe thead th {\n",
       "        text-align: right;\n",
       "    }\n",
       "</style>\n",
       "<table border=\"1\" class=\"dataframe\">\n",
       "  <thead>\n",
       "    <tr style=\"text-align: right;\">\n",
       "      <th></th>\n",
       "      <th>taille</th>\n",
       "      <th>age</th>\n",
       "      <th>weight</th>\n",
       "      <th>sex</th>\n",
       "      <th>tour_de_cheville</th>\n",
       "      <th>longueur_de_bras</th>\n",
       "      <th>largeur_du_dos</th>\n",
       "      <th>tour_de_ventre_maximal</th>\n",
       "      <th>tour_de_poitrine</th>\n",
       "      <th>tour_de_poitrine_mesure_a_la_main</th>\n",
       "      <th>...</th>\n",
       "      <th>hauteur_des_hanches</th>\n",
       "      <th>hauteur_des_genoux</th>\n",
       "      <th>tour_du_cou</th>\n",
       "      <th>largeur_d_epaule</th>\n",
       "      <th>hauteur_des_epaules</th>\n",
       "      <th>largeur_des_epaules_a_l_horizontales</th>\n",
       "      <th>longueur_de_la_colonne_vertebrale_jusqu_au_poignet</th>\n",
       "      <th>tour_de_cuisse</th>\n",
       "      <th>tour_de_taille</th>\n",
       "      <th>hauteur_de_la_taille</th>\n",
       "    </tr>\n",
       "  </thead>\n",
       "  <tbody>\n",
       "    <tr>\n",
       "      <th>count</th>\n",
       "      <td>4458.000000</td>\n",
       "      <td>4452.000000</td>\n",
       "      <td>4458.000000</td>\n",
       "      <td>4459.000000</td>\n",
       "      <td>4458.000000</td>\n",
       "      <td>4452.000000</td>\n",
       "      <td>4329.000000</td>\n",
       "      <td>4451.000000</td>\n",
       "      <td>4457.000000</td>\n",
       "      <td>2139.000000</td>\n",
       "      <td>...</td>\n",
       "      <td>4452.000000</td>\n",
       "      <td>4331.000000</td>\n",
       "      <td>4450.000000</td>\n",
       "      <td>4329.000000</td>\n",
       "      <td>4332.000000</td>\n",
       "      <td>4454.000000</td>\n",
       "      <td>4452.000000</td>\n",
       "      <td>4452.000000</td>\n",
       "      <td>4451.000000</td>\n",
       "      <td>4455.000000</td>\n",
       "    </tr>\n",
       "    <tr>\n",
       "      <th>mean</th>\n",
       "      <td>170.933197</td>\n",
       "      <td>37.788971</td>\n",
       "      <td>75.180081</td>\n",
       "      <td>0.472527</td>\n",
       "      <td>25.352163</td>\n",
       "      <td>61.074922</td>\n",
       "      <td>39.248509</td>\n",
       "      <td>84.741921</td>\n",
       "      <td>98.635648</td>\n",
       "      <td>91.024385</td>\n",
       "      <td>...</td>\n",
       "      <td>84.482762</td>\n",
       "      <td>46.994390</td>\n",
       "      <td>44.699091</td>\n",
       "      <td>39.248509</td>\n",
       "      <td>140.064688</td>\n",
       "      <td>45.252421</td>\n",
       "      <td>81.386586</td>\n",
       "      <td>59.646343</td>\n",
       "      <td>84.741921</td>\n",
       "      <td>102.623811</td>\n",
       "    </tr>\n",
       "    <tr>\n",
       "      <th>std</th>\n",
       "      <td>10.377478</td>\n",
       "      <td>12.785712</td>\n",
       "      <td>18.439671</td>\n",
       "      <td>0.499301</td>\n",
       "      <td>2.007630</td>\n",
       "      <td>4.467474</td>\n",
       "      <td>3.119254</td>\n",
       "      <td>13.404852</td>\n",
       "      <td>11.818823</td>\n",
       "      <td>6.902016</td>\n",
       "      <td>...</td>\n",
       "      <td>6.789567</td>\n",
       "      <td>3.785522</td>\n",
       "      <td>4.102895</td>\n",
       "      <td>3.119254</td>\n",
       "      <td>9.026015</td>\n",
       "      <td>4.461701</td>\n",
       "      <td>5.607947</td>\n",
       "      <td>6.525277</td>\n",
       "      <td>13.404852</td>\n",
       "      <td>6.265709</td>\n",
       "    </tr>\n",
       "    <tr>\n",
       "      <th>min</th>\n",
       "      <td>124.790200</td>\n",
       "      <td>17.500000</td>\n",
       "      <td>37.298870</td>\n",
       "      <td>0.000000</td>\n",
       "      <td>18.999200</td>\n",
       "      <td>40.894000</td>\n",
       "      <td>30.530800</td>\n",
       "      <td>55.702200</td>\n",
       "      <td>73.304400</td>\n",
       "      <td>81.280000</td>\n",
       "      <td>...</td>\n",
       "      <td>43.205400</td>\n",
       "      <td>35.890200</td>\n",
       "      <td>34.391600</td>\n",
       "      <td>30.530800</td>\n",
       "      <td>113.207800</td>\n",
       "      <td>34.594800</td>\n",
       "      <td>57.988200</td>\n",
       "      <td>41.300400</td>\n",
       "      <td>55.702200</td>\n",
       "      <td>63.703200</td>\n",
       "    </tr>\n",
       "    <tr>\n",
       "      <th>25%</th>\n",
       "      <td>163.322000</td>\n",
       "      <td>26.500000</td>\n",
       "      <td>61.905102</td>\n",
       "      <td>0.000000</td>\n",
       "      <td>23.799800</td>\n",
       "      <td>57.810400</td>\n",
       "      <td>36.931600</td>\n",
       "      <td>75.006200</td>\n",
       "      <td>90.093800</td>\n",
       "      <td>86.360000</td>\n",
       "      <td>...</td>\n",
       "      <td>79.603600</td>\n",
       "      <td>44.196000</td>\n",
       "      <td>41.605200</td>\n",
       "      <td>36.931600</td>\n",
       "      <td>133.753225</td>\n",
       "      <td>41.910000</td>\n",
       "      <td>77.190600</td>\n",
       "      <td>55.194200</td>\n",
       "      <td>75.006200</td>\n",
       "      <td>98.399600</td>\n",
       "    </tr>\n",
       "    <tr>\n",
       "      <th>50%</th>\n",
       "      <td>170.408600</td>\n",
       "      <td>37.000000</td>\n",
       "      <td>72.121128</td>\n",
       "      <td>0.000000</td>\n",
       "      <td>25.196800</td>\n",
       "      <td>60.909200</td>\n",
       "      <td>39.090600</td>\n",
       "      <td>83.007200</td>\n",
       "      <td>96.799400</td>\n",
       "      <td>91.440000</td>\n",
       "      <td>...</td>\n",
       "      <td>84.201000</td>\n",
       "      <td>46.761400</td>\n",
       "      <td>44.500800</td>\n",
       "      <td>39.090600</td>\n",
       "      <td>139.496800</td>\n",
       "      <td>44.805600</td>\n",
       "      <td>81.203800</td>\n",
       "      <td>58.699400</td>\n",
       "      <td>83.007200</td>\n",
       "      <td>102.387400</td>\n",
       "    </tr>\n",
       "    <tr>\n",
       "      <th>75%</th>\n",
       "      <td>177.876200</td>\n",
       "      <td>48.000000</td>\n",
       "      <td>84.973657</td>\n",
       "      <td>1.000000</td>\n",
       "      <td>26.797000</td>\n",
       "      <td>64.109600</td>\n",
       "      <td>41.503600</td>\n",
       "      <td>92.303600</td>\n",
       "      <td>105.206800</td>\n",
       "      <td>96.520000</td>\n",
       "      <td>...</td>\n",
       "      <td>89.103200</td>\n",
       "      <td>49.555400</td>\n",
       "      <td>47.498000</td>\n",
       "      <td>41.503600</td>\n",
       "      <td>146.103975</td>\n",
       "      <td>48.209200</td>\n",
       "      <td>85.293200</td>\n",
       "      <td>62.992000</td>\n",
       "      <td>92.303600</td>\n",
       "      <td>106.603800</td>\n",
       "    </tr>\n",
       "    <tr>\n",
       "      <th>max</th>\n",
       "      <td>218.287600</td>\n",
       "      <td>79.000000</td>\n",
       "      <td>181.436800</td>\n",
       "      <td>1.000000</td>\n",
       "      <td>36.703000</td>\n",
       "      <td>80.391000</td>\n",
       "      <td>50.165000</td>\n",
       "      <td>170.205400</td>\n",
       "      <td>157.403800</td>\n",
       "      <td>116.840000</td>\n",
       "      <td>...</td>\n",
       "      <td>108.204000</td>\n",
       "      <td>64.350900</td>\n",
       "      <td>62.204600</td>\n",
       "      <td>50.165000</td>\n",
       "      <td>179.768500</td>\n",
       "      <td>65.811400</td>\n",
       "      <td>103.098600</td>\n",
       "      <td>105.689400</td>\n",
       "      <td>170.205400</td>\n",
       "      <td>138.201400</td>\n",
       "    </tr>\n",
       "  </tbody>\n",
       "</table>\n",
       "<p>8 rows × 24 columns</p>\n",
       "</div>"
      ],
      "text/plain": [
       "            taille          age       weight          sex  tour_de_cheville  \\\n",
       "count  4458.000000  4452.000000  4458.000000  4459.000000       4458.000000   \n",
       "mean    170.933197    37.788971    75.180081     0.472527         25.352163   \n",
       "std      10.377478    12.785712    18.439671     0.499301          2.007630   \n",
       "min     124.790200    17.500000    37.298870     0.000000         18.999200   \n",
       "25%     163.322000    26.500000    61.905102     0.000000         23.799800   \n",
       "50%     170.408600    37.000000    72.121128     0.000000         25.196800   \n",
       "75%     177.876200    48.000000    84.973657     1.000000         26.797000   \n",
       "max     218.287600    79.000000   181.436800     1.000000         36.703000   \n",
       "\n",
       "       longueur_de_bras  largeur_du_dos  tour_de_ventre_maximal  \\\n",
       "count       4452.000000     4329.000000             4451.000000   \n",
       "mean          61.074922       39.248509               84.741921   \n",
       "std            4.467474        3.119254               13.404852   \n",
       "min           40.894000       30.530800               55.702200   \n",
       "25%           57.810400       36.931600               75.006200   \n",
       "50%           60.909200       39.090600               83.007200   \n",
       "75%           64.109600       41.503600               92.303600   \n",
       "max           80.391000       50.165000              170.205400   \n",
       "\n",
       "       tour_de_poitrine  tour_de_poitrine_mesure_a_la_main  ...  \\\n",
       "count       4457.000000                        2139.000000  ...   \n",
       "mean          98.635648                          91.024385  ...   \n",
       "std           11.818823                           6.902016  ...   \n",
       "min           73.304400                          81.280000  ...   \n",
       "25%           90.093800                          86.360000  ...   \n",
       "50%           96.799400                          91.440000  ...   \n",
       "75%          105.206800                          96.520000  ...   \n",
       "max          157.403800                         116.840000  ...   \n",
       "\n",
       "       hauteur_des_hanches  hauteur_des_genoux  tour_du_cou  largeur_d_epaule  \\\n",
       "count          4452.000000         4331.000000  4450.000000       4329.000000   \n",
       "mean             84.482762           46.994390    44.699091         39.248509   \n",
       "std               6.789567            3.785522     4.102895          3.119254   \n",
       "min              43.205400           35.890200    34.391600         30.530800   \n",
       "25%              79.603600           44.196000    41.605200         36.931600   \n",
       "50%              84.201000           46.761400    44.500800         39.090600   \n",
       "75%              89.103200           49.555400    47.498000         41.503600   \n",
       "max             108.204000           64.350900    62.204600         50.165000   \n",
       "\n",
       "       hauteur_des_epaules  largeur_des_epaules_a_l_horizontales  \\\n",
       "count          4332.000000                           4454.000000   \n",
       "mean            140.064688                             45.252421   \n",
       "std               9.026015                              4.461701   \n",
       "min             113.207800                             34.594800   \n",
       "25%             133.753225                             41.910000   \n",
       "50%             139.496800                             44.805600   \n",
       "75%             146.103975                             48.209200   \n",
       "max             179.768500                             65.811400   \n",
       "\n",
       "       longueur_de_la_colonne_vertebrale_jusqu_au_poignet  tour_de_cuisse  \\\n",
       "count                                        4452.000000      4452.000000   \n",
       "mean                                           81.386586        59.646343   \n",
       "std                                             5.607947         6.525277   \n",
       "min                                            57.988200        41.300400   \n",
       "25%                                            77.190600        55.194200   \n",
       "50%                                            81.203800        58.699400   \n",
       "75%                                            85.293200        62.992000   \n",
       "max                                           103.098600       105.689400   \n",
       "\n",
       "       tour_de_taille  hauteur_de_la_taille  \n",
       "count     4451.000000           4455.000000  \n",
       "mean        84.741921            102.623811  \n",
       "std         13.404852              6.265709  \n",
       "min         55.702200             63.703200  \n",
       "25%         75.006200             98.399600  \n",
       "50%         83.007200            102.387400  \n",
       "75%         92.303600            106.603800  \n",
       "max        170.205400            138.201400  \n",
       "\n",
       "[8 rows x 24 columns]"
      ]
     },
     "execution_count": 202,
     "metadata": {},
     "output_type": "execute_result"
    }
   ],
   "source": [
    "cleaned_caesar.describe()"
   ]
  },
  {
   "cell_type": "code",
   "execution_count": 205,
   "id": "a2d1cba4-ad55-4320-9182-0be2b6a2059a",
   "metadata": {
    "execution": {
     "iopub.execute_input": "2025-07-15T16:06:57.938217Z",
     "iopub.status.busy": "2025-07-15T16:06:57.937211Z",
     "iopub.status.idle": "2025-07-15T16:06:58.043486Z",
     "shell.execute_reply": "2025-07-15T16:06:58.042486Z",
     "shell.execute_reply.started": "2025-07-15T16:06:57.938217Z"
    }
   },
   "outputs": [
    {
     "name": "stdout",
     "output_type": "stream",
     "text": [
      "\n",
      "\n",
      "=== Mesure : age ===\n",
      "       ANSUR II MALE  ANSUR II FEMALE  BDIMS MALE  BDIMS FEMALE  CAESAR MALE  \\\n",
      "count    4082.000000      1986.000000  247.000000    260.000000  2102.000000   \n",
      "mean       30.158991        28.943605   31.668016     28.769231    37.538297   \n",
      "std         8.810118         8.332078   10.151450      8.853190    12.763015   \n",
      "min        17.000000        17.000000   18.000000     18.000000    17.500000   \n",
      "25%        23.000000        22.000000   24.000000     22.000000    26.200000   \n",
      "50%        28.000000        27.000000   29.000000     26.000000    37.000000   \n",
      "75%        36.000000        34.000000   37.000000     34.000000    47.000000   \n",
      "max        58.000000        58.000000   65.000000     67.000000    79.000000   \n",
      "\n",
      "       CAESAR FEMALE  \n",
      "count    2350.000000  \n",
      "mean       38.013191  \n",
      "std        12.804536  \n",
      "min        18.000000  \n",
      "25%        27.000000  \n",
      "50%        37.000000  \n",
      "75%        48.000000  \n",
      "max        69.000000  \n",
      "\n",
      "\n",
      "=== Mesure : hauteur_de_poitrine ===\n",
      "       ANSUR II MALE  ANSUR II FEMALE  BDIMS MALE  BDIMS FEMALE  CAESAR MALE  \\\n",
      "count    4082.000000      1986.000000  247.000000    260.000000  2054.000000   \n",
      "mean      129.111857       117.163646   29.948988     26.097308   128.796549   \n",
      "std         5.695670         5.549983    2.083108      1.818808     6.802525   \n",
      "min       108.800000        98.400000   24.700000     22.200000   103.403400   \n",
      "25%       125.225000       113.400000   28.650000     24.900000   124.206000   \n",
      "50%       128.900000       116.900000   29.900000     25.900000   128.397000   \n",
      "75%       132.900000       120.900000   31.400000     27.100000   133.197600   \n",
      "max       150.600000       135.500000   35.600000     33.200000   158.445200   \n",
      "\n",
      "       CAESAR FEMALE  \n",
      "count    2275.000000  \n",
      "mean      118.360785  \n",
      "std         6.439505  \n",
      "min        98.806000  \n",
      "25%       113.995200  \n",
      "50%       118.211600  \n",
      "75%       122.593100  \n",
      "max       145.999200  \n",
      "\n",
      "\n",
      "=== Mesure : hauteur_des_genoux ===\n",
      "       ANSUR II MALE  ANSUR II FEMALE  BDIMS MALE  BDIMS FEMALE  CAESAR MALE  \\\n",
      "count    4082.000000      1986.000000  247.000000    260.000000  2053.000000   \n",
      "mean       48.838805        44.904935   19.561943     18.096923    49.597886   \n",
      "std         2.812620         2.599166    1.071361      1.186601     3.048260   \n",
      "min        39.700000        34.600000   16.900000     15.700000    39.497000   \n",
      "25%        46.900000        43.200000   18.800000     17.300000    47.498000   \n",
      "50%        48.700000        44.800000   19.500000     18.000000    49.453800   \n",
      "75%        50.700000        46.600000   20.400000     18.700000    51.600100   \n",
      "max        61.200000        54.000000   23.000000     24.300000    64.350900   \n",
      "\n",
      "       CAESAR FEMALE  \n",
      "count    2273.000000  \n",
      "mean       44.635611  \n",
      "std         2.673869  \n",
      "min        35.890200  \n",
      "25%        42.799000  \n",
      "50%        44.513500  \n",
      "75%        46.355000  \n",
      "max        55.600600  \n",
      "\n",
      "\n",
      "=== Mesure : largeur_d_epaule ===\n",
      "       ANSUR II MALE  ANSUR II FEMALE  BDIMS MALE  BDIMS FEMALE  CAESAR MALE  \\\n",
      "count    4082.000000      1986.000000  247.000000    260.000000  2052.000000   \n",
      "mean       41.567565        36.534894  116.501619    100.303846    41.485936   \n",
      "std         1.916165         1.829885    6.498023      6.470598     2.403755   \n",
      "min        33.700000        28.300000  100.200000     85.900000    33.147000   \n",
      "25%        40.300000        35.300000  112.200000     96.100000    39.801800   \n",
      "50%        41.500000        36.500000  116.500000     99.500000    41.478200   \n",
      "75%        42.800000        37.800000  121.000000    103.925000    43.027600   \n",
      "max        48.900000        42.200000  134.800000    129.500000    50.165000   \n",
      "\n",
      "       CAESAR FEMALE  \n",
      "count    2272.000000  \n",
      "mean       37.230620  \n",
      "std         2.170358  \n",
      "min        30.530800  \n",
      "25%        35.712400  \n",
      "50%        37.198300  \n",
      "75%        38.658800  \n",
      "max        45.669200  \n",
      "\n",
      "\n",
      "=== Mesure : largeur_des_hanches ===\n",
      "       ANSUR II MALE  ANSUR II FEMALE  BDIMS MALE  BDIMS FEMALE  CAESAR MALE  \\\n",
      "count    4082.000000      1986.000000  247.000000    260.000000  2104.000000   \n",
      "mean       34.573322        35.383686   28.091498     27.581538    48.210359   \n",
      "std         2.416531         2.666969    2.067098      2.307476     3.616818   \n",
      "min        26.400000        27.600000   19.400000     18.700000    37.795200   \n",
      "25%        32.925000        33.600000   26.800000     26.200000    45.694600   \n",
      "50%        34.400000        35.300000   28.000000     27.800000    47.904400   \n",
      "75%        36.100000        37.000000   29.450000     29.200000    50.292000   \n",
      "max        45.200000        47.300000   34.700000     33.300000    65.811400   \n",
      "\n",
      "       CAESAR FEMALE  \n",
      "count    2350.000000  \n",
      "mean       42.604123  \n",
      "std         3.342537  \n",
      "min        34.594800  \n",
      "25%        40.411400  \n",
      "50%        42.189400  \n",
      "75%        44.196000  \n",
      "max        61.493400  \n",
      "\n",
      "\n",
      "=== Mesure : sex ===\n",
      "       ANSUR II MALE  ANSUR II FEMALE  BDIMS MALE  BDIMS FEMALE  CAESAR MALE  \\\n",
      "count         4082.0           1986.0       247.0         260.0       2107.0   \n",
      "mean             1.0              0.0         1.0           0.0          1.0   \n",
      "std              0.0              0.0         0.0           0.0          0.0   \n",
      "min              1.0              0.0         1.0           0.0          1.0   \n",
      "25%              1.0              0.0         1.0           0.0          1.0   \n",
      "50%              1.0              0.0         1.0           0.0          1.0   \n",
      "75%              1.0              0.0         1.0           0.0          1.0   \n",
      "max              1.0              0.0         1.0           0.0          1.0   \n",
      "\n",
      "       CAESAR FEMALE  \n",
      "count         2352.0  \n",
      "mean             0.0  \n",
      "std              0.0  \n",
      "min              0.0  \n",
      "25%              0.0  \n",
      "50%              0.0  \n",
      "75%              0.0  \n",
      "max              0.0  \n",
      "\n",
      "\n",
      "=== Mesure : taille ===\n",
      "       ANSUR II MALE  ANSUR II FEMALE  BDIMS MALE  BDIMS FEMALE  CAESAR MALE  \\\n",
      "count    4082.000000      1986.000000  247.000000    260.000000  2106.000000   \n",
      "mean      175.621460       162.847331  177.745344    164.872308   177.913588   \n",
      "std         6.855079         6.419951    7.183629      6.544602     8.431030   \n",
      "min       149.100000       140.900000  157.200000    147.200000   131.495800   \n",
      "25%       171.000000       158.625000  172.900000    160.000000   172.212000   \n",
      "50%       175.500000       162.600000  177.800000    164.500000   177.495200   \n",
      "75%       180.200000       167.200000  182.650000    169.500000   183.311800   \n",
      "max       199.300000       182.900000  198.100000    182.900000   218.287600   \n",
      "\n",
      "       CAESAR FEMALE  \n",
      "count    2352.000000  \n",
      "mean      164.682898  \n",
      "std         7.601709  \n",
      "min       124.790200  \n",
      "25%       159.512000  \n",
      "50%       164.388800  \n",
      "75%       169.595800  \n",
      "max       194.792600  \n",
      "\n",
      "\n",
      "=== Mesure : tour_de_cheville ===\n",
      "       ANSUR II MALE  ANSUR II FEMALE  BDIMS MALE  BDIMS FEMALE  CAESAR MALE  \\\n",
      "count    4082.000000      1986.000000  247.000000    260.000000  2107.000000   \n",
      "mean       22.934395        21.573968   23.159109     21.205769    26.720221   \n",
      "std         1.464910         1.489176    1.729088      1.438818     1.545217   \n",
      "min        15.600000        17.000000   16.400000     17.400000    22.199600   \n",
      "25%        21.925000        20.500000   22.000000     20.300000    25.704800   \n",
      "50%        22.800000        21.500000   23.000000     21.100000    26.593800   \n",
      "75%        23.900000        22.500000   24.300000     22.000000    27.711400   \n",
      "max        29.300000        27.500000   29.300000     26.000000    36.703000   \n",
      "\n",
      "       CAESAR FEMALE  \n",
      "count    2351.000000  \n",
      "mean       24.126089  \n",
      "std         1.524024  \n",
      "min        18.999200  \n",
      "25%        23.088600  \n",
      "50%        24.003000  \n",
      "75%        24.993600  \n",
      "max        31.800800  \n",
      "\n",
      "\n",
      "=== Mesure : tour_de_cuisse ===\n",
      "       ANSUR II MALE  ANSUR II FEMALE  BDIMS MALE  BDIMS FEMALE  CAESAR MALE  \\\n",
      "count    4082.000000      1986.000000  247.000000    260.000000  2105.000000   \n",
      "mean       62.514233        61.614854   56.497976     57.195769    59.344186   \n",
      "std         5.845217         5.581030    4.246667      4.636004     5.874585   \n",
      "min        41.200000        44.800000   46.800000     46.300000    43.002200   \n",
      "25%        58.600000        57.900000   53.700000     53.775000    55.499000   \n",
      "50%        62.400000        61.300000   56.000000     56.400000    58.699400   \n",
      "75%        66.200000        65.100000   59.150000     59.800000    62.509400   \n",
      "max        84.300000        87.000000   70.000000     75.700000    94.107000   \n",
      "\n",
      "       CAESAR FEMALE  \n",
      "count    2347.000000  \n",
      "mean       59.917345  \n",
      "std         7.048276  \n",
      "min        41.300400  \n",
      "25%        54.991000  \n",
      "50%        58.801000  \n",
      "75%        63.601600  \n",
      "max       105.689400  \n",
      "\n",
      "\n",
      "=== Mesure : tour_de_poitrine ===\n",
      "       ANSUR II MALE  ANSUR II FEMALE  BDIMS MALE  BDIMS FEMALE  CAESAR MALE  \\\n",
      "count    4082.000000      1986.000000  247.000000    260.000000  2106.000000   \n",
      "mean      105.870554        94.685801  100.989879     86.060000   101.697680   \n",
      "std         8.743527         8.269911    7.209018      6.170406    10.616289   \n",
      "min        77.400000        69.500000   79.300000     72.600000    75.793600   \n",
      "25%        99.600000        88.900000   95.950000     81.975000    94.411800   \n",
      "50%       105.600000        94.000000  101.000000     85.500000   100.406200   \n",
      "75%       111.700000        99.900000  106.050000     89.500000   107.670600   \n",
      "max       146.900000       126.600000  118.700000    109.000000   157.403800   \n",
      "\n",
      "       CAESAR FEMALE  \n",
      "count    2351.000000  \n",
      "mean       95.892714  \n",
      "std        12.164740  \n",
      "min        73.304400  \n",
      "25%        87.299800  \n",
      "50%        92.989400  \n",
      "75%       101.549200  \n",
      "max       155.498800  \n",
      "\n",
      "\n",
      "=== Mesure : tour_de_taille ===\n",
      "       ANSUR II MALE  ANSUR II FEMALE  BDIMS MALE  BDIMS FEMALE  CAESAR MALE  \\\n",
      "count    4082.000000      1986.000000  247.000000    260.000000  2103.000000   \n",
      "mean       94.057741        86.090534   84.533198     69.803462    90.094742   \n",
      "std        11.170587         9.993177    8.782241      7.587748    11.694893   \n",
      "min        64.800000        61.100000   67.100000     57.900000    61.899800   \n",
      "25%        85.700000        79.000000   77.900000     64.750000    82.194400   \n",
      "50%        93.700000        85.200000   83.400000     68.300000    88.290400   \n",
      "75%       101.600000        92.500000   90.000000     72.750000    95.707200   \n",
      "max       137.900000       133.400000  113.200000    101.500000   170.205400   \n",
      "\n",
      "       CAESAR FEMALE  \n",
      "count    2348.000000  \n",
      "mean       79.947636  \n",
      "std        13.020637  \n",
      "min        55.702200  \n",
      "25%        71.196200  \n",
      "50%        76.809600  \n",
      "75%        85.902800  \n",
      "max       149.809200  \n",
      "\n",
      "\n",
      "=== Mesure : tour_de_ventre_maximal ===\n",
      "       ANSUR II MALE  ANSUR II FEMALE  BDIMS MALE  BDIMS FEMALE  CAESAR MALE  \\\n",
      "count    4082.000000      1986.000000  247.000000    260.000000  2103.000000   \n",
      "mean       94.057741        86.090534   87.662348     83.745769    90.094742   \n",
      "std        11.170587         9.993177    8.384878      9.961634    11.694893   \n",
      "min        64.800000        61.100000   67.000000     64.000000    61.899800   \n",
      "25%        85.700000        79.000000   81.550000     76.650000    82.194400   \n",
      "50%        93.700000        85.200000   87.300000     82.350000    88.290400   \n",
      "75%       101.600000        92.500000   92.700000     90.025000    95.707200   \n",
      "max       137.900000       133.400000  111.800000    121.100000   170.205400   \n",
      "\n",
      "       CAESAR FEMALE  \n",
      "count    2348.000000  \n",
      "mean       79.947636  \n",
      "std        13.020637  \n",
      "min        55.702200  \n",
      "25%        71.196200  \n",
      "50%        76.809600  \n",
      "75%        85.902800  \n",
      "max       149.809200  \n",
      "\n",
      "\n",
      "=== Mesure : weight ===\n",
      "       ANSUR II MALE  ANSUR II FEMALE  BDIMS MALE  BDIMS FEMALE  CAESAR MALE  \\\n",
      "count    4082.000000      1986.000000  247.000000    260.000000  2106.000000   \n",
      "mean       85.277518        66.907104   78.144534     60.600385    82.985266   \n",
      "std        13.581392        10.367013   10.512890      9.615699    17.167743   \n",
      "min         0.000000        39.008912   53.900000     42.000000    45.812792   \n",
      "25%        76.203456        58.966960   70.950000     54.500000    70.801175   \n",
      "50%        83.914520        65.770840   77.300000     59.000000    80.058988   \n",
      "75%        93.893544        73.028312   85.500000     65.600000    91.398788   \n",
      "max       145.603032       122.469840  116.400000    105.200000   181.436800   \n",
      "\n",
      "       CAESAR FEMALE  \n",
      "count    2352.000000  \n",
      "mean       68.191255  \n",
      "std        16.651740  \n",
      "min        37.298870  \n",
      "25%        56.773843  \n",
      "50%        64.618716  \n",
      "75%        75.325755  \n",
      "max       156.489240  \n"
     ]
    }
   ],
   "source": [
    "# Séparer BDIMS en hommes (1) et femmes (0)\n",
    "df_bdims_male = cleaned_bdims[cleaned_bdims['sex'] == 1]\n",
    "df_bdims_female =cleaned_bdims[cleaned_bdims['sex'] == 0]\n",
    "\n",
    "# Séparer CAESAR en hommes (1) et femmes (0) (supposant que la colonne s'appelle aussi 'sex')\n",
    "df_caesar_male = cleaned_caesar[cleaned_caesar['sex'] == 1]\n",
    "df_caesar_female = cleaned_caesar[cleaned_caesar['sex'] == 0]\n",
    "\n",
    "# Séparer ANSUR en hommes (1) et femmes (0)\n",
    "df_ansur_male = cleaned_ansur[cleaned_ansur['sex'] == 1]\n",
    "df_ansur_female = cleaned_ansur[cleaned_ansur['sex'] == 0]\n",
    "\n",
    "# Trouver les colonnes communes (en incluant les nouvelles séparations)\n",
    "colonnes_communes = list(\n",
    "    set(df_ansur_male.columns) & \n",
    "    set(df_ansur_female.columns) & \n",
    "    set(df_bdims_male.columns) & \n",
    "    set(df_bdims_female.columns) & \n",
    "    set(df_caesar_male.columns) & \n",
    "    set(df_caesar_female.columns)\n",
    ")\n",
    "\n",
    "colonnes_communes.sort()  # Pour lisibilité\n",
    "\n",
    "# Pour chaque mesure, créer un tableau comparatif\n",
    "for col in colonnes_communes:\n",
    "    desc_ansur_male = df_ansur_male[col].describe()\n",
    "    desc_ansur_female = df_ansur_female[col].describe()\n",
    "    desc_bdims_male = df_bdims_male[col].describe()\n",
    "    desc_bdims_female = df_bdims_female[col].describe()\n",
    "    desc_caesar_male = df_caesar_male[col].describe()\n",
    "    desc_caesar_female = df_caesar_female[col].describe()\n",
    "    \n",
    "    # Créer un DataFrame avec les statistiques comme lignes\n",
    "    comparaison = pd.DataFrame({\n",
    "        'ANSUR II MALE': desc_ansur_male,\n",
    "        'ANSUR II FEMALE': desc_ansur_female,\n",
    "        'BDIMS MALE': desc_bdims_male,\n",
    "        'BDIMS FEMALE': desc_bdims_female,\n",
    "        'CAESAR MALE': desc_caesar_male,\n",
    "        'CAESAR FEMALE': desc_caesar_female\n",
    "    })\n",
    "\n",
    "    print(f\"\\n\\n=== Mesure : {col} ===\")\n",
    "    print(comparaison)    "
   ]
  }
 ],
 "metadata": {
  "kernelspec": {
   "display_name": "Python 3 (ipykernel)",
   "language": "python",
   "name": "python3"
  },
  "language_info": {
   "codemirror_mode": {
    "name": "ipython",
    "version": 3
   },
   "file_extension": ".py",
   "mimetype": "text/x-python",
   "name": "python",
   "nbconvert_exporter": "python",
   "pygments_lexer": "ipython3",
   "version": "3.10.10"
  }
 },
 "nbformat": 4,
 "nbformat_minor": 5
}

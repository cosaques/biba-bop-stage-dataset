{
 "cells": [
  {
   "cell_type": "code",
   "execution_count": 1,
   "id": "b64d16b5-3283-449f-9f77-57cf85f9e59c",
   "metadata": {
    "execution": {
     "iopub.execute_input": "2025-07-15T13:16:25.741017Z",
     "iopub.status.busy": "2025-07-15T13:16:25.740028Z",
     "iopub.status.idle": "2025-07-15T13:16:26.824207Z",
     "shell.execute_reply": "2025-07-15T13:16:26.823698Z",
     "shell.execute_reply.started": "2025-07-15T13:16:25.740985Z"
    }
   },
   "outputs": [],
   "source": [
    " import pandas as pd"
   ]
  },
  {
   "cell_type": "code",
   "execution_count": 41,
   "id": "5558abb5-7636-4f8a-9625-169ec9a620a7",
   "metadata": {
    "execution": {
     "iopub.execute_input": "2025-07-15T13:33:10.476136Z",
     "iopub.status.busy": "2025-07-15T13:33:10.475752Z",
     "iopub.status.idle": "2025-07-15T13:33:10.525449Z",
     "shell.execute_reply": "2025-07-15T13:33:10.524843Z",
     "shell.execute_reply.started": "2025-07-15T13:33:10.476113Z"
    }
   },
   "outputs": [],
   "source": [
    "man_df = pd.read_csv('data/ANSUR_II_MALE.csv', encoding='cp1252', sep=';')\n",
    "man_df[\"sex\"] = 1"
   ]
  },
  {
   "cell_type": "code",
   "execution_count": 47,
   "id": "bd8520bb-bcfc-4cdf-a548-0610227fbd25",
   "metadata": {
    "execution": {
     "iopub.execute_input": "2025-07-15T13:34:02.170839Z",
     "iopub.status.busy": "2025-07-15T13:34:02.170391Z",
     "iopub.status.idle": "2025-07-15T13:34:02.198793Z",
     "shell.execute_reply": "2025-07-15T13:34:02.198363Z",
     "shell.execute_reply.started": "2025-07-15T13:34:02.170815Z"
    }
   },
   "outputs": [],
   "source": [
    "woman_df = pd.read_csv('data/ANSUR_II_FEMALE.csv', encoding='cp1252', sep=';')\n",
    "woman_df[\"sex\"] = 0"
   ]
  },
  {
   "cell_type": "code",
   "execution_count": 43,
   "id": "aa0f5edc-b02d-43ea-ad84-b4dbe52cabfd",
   "metadata": {
    "execution": {
     "iopub.execute_input": "2025-07-15T13:33:21.811806Z",
     "iopub.status.busy": "2025-07-15T13:33:21.811429Z",
     "iopub.status.idle": "2025-07-15T13:33:21.815990Z",
     "shell.execute_reply": "2025-07-15T13:33:21.815458Z",
     "shell.execute_reply.started": "2025-07-15T13:33:21.811783Z"
    }
   },
   "outputs": [
    {
     "name": "stdout",
     "output_type": "stream",
     "text": [
      "(4082, 109)\n",
      "(1986, 109)\n"
     ]
    }
   ],
   "source": [
    "print(man_df.shape)\n",
    "print(woman_df.shape)"
   ]
  },
  {
   "cell_type": "code",
   "execution_count": 48,
   "id": "0e4b796c-0916-4276-b4be-659938aec946",
   "metadata": {
    "execution": {
     "iopub.execute_input": "2025-07-15T13:34:05.300876Z",
     "iopub.status.busy": "2025-07-15T13:34:05.300508Z",
     "iopub.status.idle": "2025-07-15T13:34:05.308088Z",
     "shell.execute_reply": "2025-07-15T13:34:05.307613Z",
     "shell.execute_reply.started": "2025-07-15T13:34:05.300853Z"
    }
   },
   "outputs": [],
   "source": [
    "ansur_df = pd.concat([man_df, woman_df], ignore_index=True)"
   ]
  },
  {
   "cell_type": "markdown",
   "id": "7661aa1f-210c-4937-9227-b39c027825b3",
   "metadata": {},
   "source": [
    "## Cleaned data"
   ]
  },
  {
   "cell_type": "code",
   "execution_count": 27,
   "id": "dd07e52f-13df-4810-910f-760a8fae75ee",
   "metadata": {
    "execution": {
     "iopub.execute_input": "2025-07-15T13:27:04.616384Z",
     "iopub.status.busy": "2025-07-15T13:27:04.615947Z",
     "iopub.status.idle": "2025-07-15T13:27:04.622971Z",
     "shell.execute_reply": "2025-07-15T13:27:04.622072Z",
     "shell.execute_reply.started": "2025-07-15T13:27:04.616355Z"
    }
   },
   "outputs": [],
   "source": [
    "cleaned_ansur = pd.DataFrame()\n",
    "cleaned_ansur[\"taille\"] = ansur_df[\"stature\"]/10"
   ]
  },
  {
   "cell_type": "code",
   "execution_count": 31,
   "id": "fadcd04d-c85e-47db-97fb-c4eb701c59e2",
   "metadata": {
    "execution": {
     "iopub.execute_input": "2025-07-15T13:29:03.482169Z",
     "iopub.status.busy": "2025-07-15T13:29:03.481748Z",
     "iopub.status.idle": "2025-07-15T13:29:03.486731Z",
     "shell.execute_reply": "2025-07-15T13:29:03.486180Z",
     "shell.execute_reply.started": "2025-07-15T13:29:03.482146Z"
    }
   },
   "outputs": [],
   "source": [
    "cleaned_ansur[\"age\"] = ansur_df[\"Age\"]"
   ]
  },
  {
   "cell_type": "code",
   "execution_count": 39,
   "id": "6f097c15-7db9-448f-8891-e2fc6d23f21f",
   "metadata": {
    "execution": {
     "iopub.execute_input": "2025-07-15T13:32:27.792054Z",
     "iopub.status.busy": "2025-07-15T13:32:27.791056Z",
     "iopub.status.idle": "2025-07-15T13:32:27.802828Z",
     "shell.execute_reply": "2025-07-15T13:32:27.802087Z",
     "shell.execute_reply.started": "2025-07-15T13:32:27.791880Z"
    }
   },
   "outputs": [],
   "source": [
    "cleaned_ansur[\"weight\"] = ansur_df[\"Weightlbs\"]*0.453592"
   ]
  },
  {
   "cell_type": "code",
   "execution_count": 50,
   "id": "7a796de1-3e6e-416b-b78a-a3b13fad1140",
   "metadata": {
    "execution": {
     "iopub.execute_input": "2025-07-15T13:34:15.835590Z",
     "iopub.status.busy": "2025-07-15T13:34:15.834904Z",
     "iopub.status.idle": "2025-07-15T13:34:15.840152Z",
     "shell.execute_reply": "2025-07-15T13:34:15.839357Z",
     "shell.execute_reply.started": "2025-07-15T13:34:15.835561Z"
    }
   },
   "outputs": [],
   "source": [
    "cleaned_ansur[\"sex\"] = ansur_df[\"sex\"]"
   ]
  },
  {
   "cell_type": "code",
   "execution_count": 51,
   "id": "97ae516a-6067-4a33-a959-2257de171dc1",
   "metadata": {
    "execution": {
     "iopub.execute_input": "2025-07-15T13:34:17.527096Z",
     "iopub.status.busy": "2025-07-15T13:34:17.526310Z",
     "iopub.status.idle": "2025-07-15T13:34:17.546188Z",
     "shell.execute_reply": "2025-07-15T13:34:17.545803Z",
     "shell.execute_reply.started": "2025-07-15T13:34:17.527068Z"
    }
   },
   "outputs": [
    {
     "data": {
      "text/html": [
       "<div>\n",
       "<style scoped>\n",
       "    .dataframe tbody tr th:only-of-type {\n",
       "        vertical-align: middle;\n",
       "    }\n",
       "\n",
       "    .dataframe tbody tr th {\n",
       "        vertical-align: top;\n",
       "    }\n",
       "\n",
       "    .dataframe thead th {\n",
       "        text-align: right;\n",
       "    }\n",
       "</style>\n",
       "<table border=\"1\" class=\"dataframe\">\n",
       "  <thead>\n",
       "    <tr style=\"text-align: right;\">\n",
       "      <th></th>\n",
       "      <th>taille</th>\n",
       "      <th>age</th>\n",
       "      <th>weight</th>\n",
       "      <th>sex</th>\n",
       "    </tr>\n",
       "  </thead>\n",
       "  <tbody>\n",
       "    <tr>\n",
       "      <th>count</th>\n",
       "      <td>6068.000000</td>\n",
       "      <td>6068.000000</td>\n",
       "      <td>6068.000000</td>\n",
       "      <td>6068.000000</td>\n",
       "    </tr>\n",
       "    <tr>\n",
       "      <th>mean</th>\n",
       "      <td>171.440606</td>\n",
       "      <td>29.761206</td>\n",
       "      <td>79.265052</td>\n",
       "      <td>0.672709</td>\n",
       "    </tr>\n",
       "    <tr>\n",
       "      <th>std</th>\n",
       "      <td>9.001534</td>\n",
       "      <td>8.674650</td>\n",
       "      <td>15.282400</td>\n",
       "      <td>0.469263</td>\n",
       "    </tr>\n",
       "    <tr>\n",
       "      <th>min</th>\n",
       "      <td>140.900000</td>\n",
       "      <td>17.000000</td>\n",
       "      <td>0.000000</td>\n",
       "      <td>0.000000</td>\n",
       "    </tr>\n",
       "    <tr>\n",
       "      <th>25%</th>\n",
       "      <td>165.175000</td>\n",
       "      <td>23.000000</td>\n",
       "      <td>68.038800</td>\n",
       "      <td>0.000000</td>\n",
       "    </tr>\n",
       "    <tr>\n",
       "      <th>50%</th>\n",
       "      <td>171.900000</td>\n",
       "      <td>28.000000</td>\n",
       "      <td>78.471416</td>\n",
       "      <td>1.000000</td>\n",
       "    </tr>\n",
       "    <tr>\n",
       "      <th>75%</th>\n",
       "      <td>177.900000</td>\n",
       "      <td>36.000000</td>\n",
       "      <td>88.904032</td>\n",
       "      <td>1.000000</td>\n",
       "    </tr>\n",
       "    <tr>\n",
       "      <th>max</th>\n",
       "      <td>199.300000</td>\n",
       "      <td>58.000000</td>\n",
       "      <td>145.603032</td>\n",
       "      <td>1.000000</td>\n",
       "    </tr>\n",
       "  </tbody>\n",
       "</table>\n",
       "</div>"
      ],
      "text/plain": [
       "            taille          age       weight          sex\n",
       "count  6068.000000  6068.000000  6068.000000  6068.000000\n",
       "mean    171.440606    29.761206    79.265052     0.672709\n",
       "std       9.001534     8.674650    15.282400     0.469263\n",
       "min     140.900000    17.000000     0.000000     0.000000\n",
       "25%     165.175000    23.000000    68.038800     0.000000\n",
       "50%     171.900000    28.000000    78.471416     1.000000\n",
       "75%     177.900000    36.000000    88.904032     1.000000\n",
       "max     199.300000    58.000000   145.603032     1.000000"
      ]
     },
     "execution_count": 51,
     "metadata": {},
     "output_type": "execute_result"
    }
   ],
   "source": [
    "cleaned_ansur.describe()"
   ]
  }
 ],
 "metadata": {
  "kernelspec": {
   "display_name": "Python 3 (ipykernel)",
   "language": "python",
   "name": "python3"
  },
  "language_info": {
   "codemirror_mode": {
    "name": "ipython",
    "version": 3
   },
   "file_extension": ".py",
   "mimetype": "text/x-python",
   "name": "python",
   "nbconvert_exporter": "python",
   "pygments_lexer": "ipython3",
   "version": "3.12.9"
  }
 },
 "nbformat": 4,
 "nbformat_minor": 5
}

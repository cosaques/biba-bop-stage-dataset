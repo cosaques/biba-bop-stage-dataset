{
 "cells": [
  {
   "cell_type": "code",
   "execution_count": 642,
   "id": "b64d16b5-3283-449f-9f77-57cf85f9e59c",
   "metadata": {
    "execution": {
     "iopub.execute_input": "2025-07-16T17:18:40.160593Z",
     "iopub.status.busy": "2025-07-16T17:18:40.160593Z",
     "iopub.status.idle": "2025-07-16T17:18:40.168928Z",
     "shell.execute_reply": "2025-07-16T17:18:40.167933Z",
     "shell.execute_reply.started": "2025-07-16T17:18:40.160593Z"
    }
   },
   "outputs": [],
   "source": [
    " import pandas as pd"
   ]
  },
  {
   "cell_type": "code",
   "execution_count": 643,
   "id": "5558abb5-7636-4f8a-9625-169ec9a620a7",
   "metadata": {
    "execution": {
     "iopub.execute_input": "2025-07-16T17:18:40.172440Z",
     "iopub.status.busy": "2025-07-16T17:18:40.171929Z",
     "iopub.status.idle": "2025-07-16T17:18:40.278709Z",
     "shell.execute_reply": "2025-07-16T17:18:40.276708Z",
     "shell.execute_reply.started": "2025-07-16T17:18:40.172440Z"
    }
   },
   "outputs": [],
   "source": [
    "man_df = pd.read_csv('data/ANSUR_II_MALE.csv', encoding='cp1252', sep=';')\n",
    "man_df[\"sex\"] = 1"
   ]
  },
  {
   "cell_type": "code",
   "execution_count": 644,
   "id": "bd8520bb-bcfc-4cdf-a548-0610227fbd25",
   "metadata": {
    "execution": {
     "iopub.execute_input": "2025-07-16T17:18:40.281713Z",
     "iopub.status.busy": "2025-07-16T17:18:40.279709Z",
     "iopub.status.idle": "2025-07-16T17:18:40.341549Z",
     "shell.execute_reply": "2025-07-16T17:18:40.339560Z",
     "shell.execute_reply.started": "2025-07-16T17:18:40.280709Z"
    }
   },
   "outputs": [],
   "source": [
    "woman_df = pd.read_csv('data/ANSUR_II_FEMALE.csv', encoding='cp1252', sep=';')\n",
    "woman_df[\"sex\"] = 0"
   ]
  },
  {
   "cell_type": "code",
   "execution_count": 645,
   "id": "aa0f5edc-b02d-43ea-ad84-b4dbe52cabfd",
   "metadata": {
    "execution": {
     "iopub.execute_input": "2025-07-16T17:18:40.344067Z",
     "iopub.status.busy": "2025-07-16T17:18:40.344067Z",
     "iopub.status.idle": "2025-07-16T17:18:40.357134Z",
     "shell.execute_reply": "2025-07-16T17:18:40.355135Z",
     "shell.execute_reply.started": "2025-07-16T17:18:40.344067Z"
    }
   },
   "outputs": [
    {
     "name": "stdout",
     "output_type": "stream",
     "text": [
      "(4082, 109)\n",
      "(1986, 109)\n"
     ]
    }
   ],
   "source": [
    "print(man_df.shape)\n",
    "print(woman_df.shape)"
   ]
  },
  {
   "cell_type": "code",
   "execution_count": 646,
   "id": "0e4b796c-0916-4276-b4be-659938aec946",
   "metadata": {
    "execution": {
     "iopub.execute_input": "2025-07-16T17:18:40.358134Z",
     "iopub.status.busy": "2025-07-16T17:18:40.358134Z",
     "iopub.status.idle": "2025-07-16T17:18:40.387767Z",
     "shell.execute_reply": "2025-07-16T17:18:40.385767Z",
     "shell.execute_reply.started": "2025-07-16T17:18:40.358134Z"
    }
   },
   "outputs": [],
   "source": [
    "ansur_df = pd.concat([man_df, woman_df], ignore_index=True)"
   ]
  },
  {
   "cell_type": "markdown",
   "id": "7661aa1f-210c-4937-9227-b39c027825b3",
   "metadata": {},
   "source": [
    "## Cleaned data"
   ]
  },
  {
   "cell_type": "code",
   "execution_count": 647,
   "id": "dd07e52f-13df-4810-910f-760a8fae75ee",
   "metadata": {
    "execution": {
     "iopub.execute_input": "2025-07-16T17:18:40.391769Z",
     "iopub.status.busy": "2025-07-16T17:18:40.389771Z",
     "iopub.status.idle": "2025-07-16T17:18:40.404406Z",
     "shell.execute_reply": "2025-07-16T17:18:40.401885Z",
     "shell.execute_reply.started": "2025-07-16T17:18:40.391769Z"
    }
   },
   "outputs": [],
   "source": [
    "cleaned_ansur = pd.DataFrame()\n",
    "cleaned_ansur[\"taille\"] = ansur_df[\"stature\"]/10"
   ]
  },
  {
   "cell_type": "code",
   "execution_count": 648,
   "id": "fadcd04d-c85e-47db-97fb-c4eb701c59e2",
   "metadata": {
    "execution": {
     "iopub.execute_input": "2025-07-16T17:18:40.407405Z",
     "iopub.status.busy": "2025-07-16T17:18:40.406414Z",
     "iopub.status.idle": "2025-07-16T17:18:40.419953Z",
     "shell.execute_reply": "2025-07-16T17:18:40.417955Z",
     "shell.execute_reply.started": "2025-07-16T17:18:40.407405Z"
    }
   },
   "outputs": [],
   "source": [
    "cleaned_ansur[\"age\"] = ansur_df[\"Age\"]"
   ]
  },
  {
   "cell_type": "code",
   "execution_count": 649,
   "id": "6f097c15-7db9-448f-8891-e2fc6d23f21f",
   "metadata": {
    "execution": {
     "iopub.execute_input": "2025-07-16T17:18:40.423135Z",
     "iopub.status.busy": "2025-07-16T17:18:40.420953Z",
     "iopub.status.idle": "2025-07-16T17:18:40.436098Z",
     "shell.execute_reply": "2025-07-16T17:18:40.434082Z",
     "shell.execute_reply.started": "2025-07-16T17:18:40.423135Z"
    }
   },
   "outputs": [],
   "source": [
    "cleaned_ansur[\"weight\"] = ansur_df[\"Weightlbs\"]*0.453592"
   ]
  },
  {
   "cell_type": "code",
   "execution_count": 650,
   "id": "7a796de1-3e6e-416b-b78a-a3b13fad1140",
   "metadata": {
    "execution": {
     "iopub.execute_input": "2025-07-16T17:18:40.439106Z",
     "iopub.status.busy": "2025-07-16T17:18:40.438101Z",
     "iopub.status.idle": "2025-07-16T17:18:40.450783Z",
     "shell.execute_reply": "2025-07-16T17:18:40.449784Z",
     "shell.execute_reply.started": "2025-07-16T17:18:40.439106Z"
    }
   },
   "outputs": [],
   "source": [
    "cleaned_ansur[\"sex\"] = ansur_df[\"sex\"]"
   ]
  },
  {
   "cell_type": "code",
   "execution_count": 651,
   "id": "e85600d9-d60a-4799-b751-1a3677f638d6",
   "metadata": {
    "execution": {
     "iopub.execute_input": "2025-07-16T17:18:40.457963Z",
     "iopub.status.busy": "2025-07-16T17:18:40.456960Z",
     "iopub.status.idle": "2025-07-16T17:18:40.467488Z",
     "shell.execute_reply": "2025-07-16T17:18:40.465487Z",
     "shell.execute_reply.started": "2025-07-16T17:18:40.457963Z"
    }
   },
   "outputs": [],
   "source": [
    "cleaned_ansur[\"tour_de_cheville\"]=ansur_df[\"anklecircumference\"]/10"
   ]
  },
  {
   "cell_type": "code",
   "execution_count": 652,
   "id": "5199e059-885d-4f35-8ce5-a92c2aefbac2",
   "metadata": {
    "execution": {
     "iopub.execute_input": "2025-07-16T17:18:40.469490Z",
     "iopub.status.busy": "2025-07-16T17:18:40.468489Z",
     "iopub.status.idle": "2025-07-16T17:18:40.483537Z",
     "shell.execute_reply": "2025-07-16T17:18:40.481525Z",
     "shell.execute_reply.started": "2025-07-16T17:18:40.468489Z"
    }
   },
   "outputs": [],
   "source": [
    "cleaned_ansur[\"longueur_du_bras\"]=ansur_df[\"shoulderelbowlength\"]/10"
   ]
  },
  {
   "cell_type": "code",
   "execution_count": 653,
   "id": "564a712d-7d7f-40d6-b4f3-7b27f294c64b",
   "metadata": {
    "execution": {
     "iopub.execute_input": "2025-07-16T17:18:40.485543Z",
     "iopub.status.busy": "2025-07-16T17:18:40.484539Z",
     "iopub.status.idle": "2025-07-16T17:18:40.498087Z",
     "shell.execute_reply": "2025-07-16T17:18:40.497099Z",
     "shell.execute_reply.started": "2025-07-16T17:18:40.485543Z"
    }
   },
   "outputs": [],
   "source": [
    "cleaned_ansur[\"longueur_du_dos\"]=ansur_df[\"waistbacklength\"]/10"
   ]
  },
  {
   "cell_type": "code",
   "execution_count": 654,
   "id": "262ee7af-dda8-49dd-836d-5e6f62dc47d6",
   "metadata": {
    "execution": {
     "iopub.execute_input": "2025-07-16T17:18:40.500087Z",
     "iopub.status.busy": "2025-07-16T17:18:40.500087Z",
     "iopub.status.idle": "2025-07-16T17:18:40.514178Z",
     "shell.execute_reply": "2025-07-16T17:18:40.513176Z",
     "shell.execute_reply.started": "2025-07-16T17:18:40.500087Z"
    }
   },
   "outputs": [],
   "source": [
    "cleaned_ansur[\"largeur_du_dos\"]=ansur_df[\"biacromialbreadth\"]/10"
   ]
  },
  {
   "cell_type": "code",
   "execution_count": 655,
   "id": "9d43faa9-8272-4449-82db-bc0b2b04055a",
   "metadata": {
    "execution": {
     "iopub.execute_input": "2025-07-16T17:18:40.516179Z",
     "iopub.status.busy": "2025-07-16T17:18:40.516179Z",
     "iopub.status.idle": "2025-07-16T17:18:40.530706Z",
     "shell.execute_reply": "2025-07-16T17:18:40.528719Z",
     "shell.execute_reply.started": "2025-07-16T17:18:40.516179Z"
    }
   },
   "outputs": [],
   "source": [
    "cleaned_ansur[\"tour_de_ventre_maximal\"]=ansur_df[\"waistcircumference\"]/10"
   ]
  },
  {
   "cell_type": "code",
   "execution_count": 656,
   "id": "602c2aa2-6d02-41e5-86ba-90de2470568d",
   "metadata": {
    "execution": {
     "iopub.execute_input": "2025-07-16T17:18:40.532214Z",
     "iopub.status.busy": "2025-07-16T17:18:40.532214Z",
     "iopub.status.idle": "2025-07-16T17:18:40.546786Z",
     "shell.execute_reply": "2025-07-16T17:18:40.544788Z",
     "shell.execute_reply.started": "2025-07-16T17:18:40.532214Z"
    }
   },
   "outputs": [],
   "source": [
    "cleaned_ansur[\"tour_de_biceps\"]=ansur_df[\"bicepscircumferenceflexed\"]/10"
   ]
  },
  {
   "cell_type": "code",
   "execution_count": 657,
   "id": "60c9be34-3717-414a-a345-074389d2208a",
   "metadata": {
    "execution": {
     "iopub.execute_input": "2025-07-16T17:18:40.549305Z",
     "iopub.status.busy": "2025-07-16T17:18:40.547786Z",
     "iopub.status.idle": "2025-07-16T17:18:40.561603Z",
     "shell.execute_reply": "2025-07-16T17:18:40.560092Z",
     "shell.execute_reply.started": "2025-07-16T17:18:40.549305Z"
    }
   },
   "outputs": [],
   "source": [
    "cleaned_ansur[\"tour_de_poitrine\"]=ansur_df[\"chestcircumference\"]/10"
   ]
  },
  {
   "cell_type": "code",
   "execution_count": 658,
   "id": "adc302a0-5494-42d4-be6c-4cab376b3371",
   "metadata": {
    "execution": {
     "iopub.execute_input": "2025-07-16T17:18:40.563617Z",
     "iopub.status.busy": "2025-07-16T17:18:40.562612Z",
     "iopub.status.idle": "2025-07-16T17:18:40.578153Z",
     "shell.execute_reply": "2025-07-16T17:18:40.576151Z",
     "shell.execute_reply.started": "2025-07-16T17:18:40.563617Z"
    }
   },
   "outputs": [],
   "source": [
    "cleaned_ansur[\"hauteur_de_poitrine\"]=ansur_df[\"chestheight\"]/10"
   ]
  },
  {
   "cell_type": "code",
   "execution_count": 659,
   "id": "45fc5877-cad6-41bd-b766-8f5d16603d7d",
   "metadata": {
    "execution": {
     "iopub.execute_input": "2025-07-16T17:18:40.580151Z",
     "iopub.status.busy": "2025-07-16T17:18:40.579152Z",
     "iopub.status.idle": "2025-07-16T17:18:40.593124Z",
     "shell.execute_reply": "2025-07-16T17:18:40.591685Z",
     "shell.execute_reply.started": "2025-07-16T17:18:40.580151Z"
    }
   },
   "outputs": [],
   "source": [
    "cleaned_ansur[\"tour_de_mollet\"]=ansur_df[\"calfcircumference\"]/10"
   ]
  },
  {
   "cell_type": "code",
   "execution_count": 660,
   "id": "15b5f14b-1cb5-4620-917a-5de69b279a70",
   "metadata": {
    "execution": {
     "iopub.execute_input": "2025-07-16T17:18:40.595125Z",
     "iopub.status.busy": "2025-07-16T17:18:40.594123Z",
     "iopub.status.idle": "2025-07-16T17:18:40.608654Z",
     "shell.execute_reply": "2025-07-16T17:18:40.606654Z",
     "shell.execute_reply.started": "2025-07-16T17:18:40.595125Z"
    }
   },
   "outputs": [],
   "source": [
    "cleaned_ansur[\"hauteur_d_entrejambe\"]=ansur_df[\"crotchheight\"]/10"
   ]
  },
  {
   "cell_type": "code",
   "execution_count": 661,
   "id": "67fe554e-c92e-4034-b6b9-dfdffd6d31fa",
   "metadata": {
    "execution": {
     "iopub.execute_input": "2025-07-16T17:18:40.610655Z",
     "iopub.status.busy": "2025-07-16T17:18:40.610655Z",
     "iopub.status.idle": "2025-07-16T17:18:40.624239Z",
     "shell.execute_reply": "2025-07-16T17:18:40.622235Z",
     "shell.execute_reply.started": "2025-07-16T17:18:40.610655Z"
    }
   },
   "outputs": [],
   "source": [
    "cleaned_ansur[\"tour_d_avant_bras\"]=ansur_df[\"forearmcircumferenceflexed\"]/10"
   ]
  },
  {
   "cell_type": "code",
   "execution_count": 662,
   "id": "67fdff74-ebf0-4793-b67f-99e5e9d2433e",
   "metadata": {
    "execution": {
     "iopub.execute_input": "2025-07-16T17:18:40.627239Z",
     "iopub.status.busy": "2025-07-16T17:18:40.626239Z",
     "iopub.status.idle": "2025-07-16T17:18:40.639765Z",
     "shell.execute_reply": "2025-07-16T17:18:40.637762Z",
     "shell.execute_reply.started": "2025-07-16T17:18:40.626239Z"
    }
   },
   "outputs": [],
   "source": [
    "cleaned_ansur[\"longueur_avant\"]=ansur_df[\"forearmcenterofgriplength\"]/10"
   ]
  },
  {
   "cell_type": "code",
   "execution_count": 663,
   "id": "963431aa-aa78-4765-9d32-0312fd8e7d01",
   "metadata": {
    "execution": {
     "iopub.execute_input": "2025-07-16T17:18:40.641765Z",
     "iopub.status.busy": "2025-07-16T17:18:40.641765Z",
     "iopub.status.idle": "2025-07-16T17:18:40.655279Z",
     "shell.execute_reply": "2025-07-16T17:18:40.653277Z",
     "shell.execute_reply.started": "2025-07-16T17:18:40.641765Z"
    }
   },
   "outputs": [],
   "source": [
    "cleaned_ansur[\"tour_de_tête\"]=ansur_df[\"headcircumference\"]/10"
   ]
  },
  {
   "cell_type": "code",
   "execution_count": 664,
   "id": "5da0b76b-c7cd-40ba-a4d9-5236264e37a5",
   "metadata": {
    "execution": {
     "iopub.execute_input": "2025-07-16T17:18:40.658278Z",
     "iopub.status.busy": "2025-07-16T17:18:40.657277Z",
     "iopub.status.idle": "2025-07-16T17:18:40.669807Z",
     "shell.execute_reply": "2025-07-16T17:18:40.668808Z",
     "shell.execute_reply.started": "2025-07-16T17:18:40.658278Z"
    }
   },
   "outputs": [],
   "source": [
    "cleaned_ansur[\"largeur_des_hanches\"]=ansur_df[\"hipbreadth\"]/10"
   ]
  },
  {
   "cell_type": "code",
   "execution_count": 665,
   "id": "4da566e8-a2e2-4054-ab51-6c0cc441557d",
   "metadata": {
    "execution": {
     "iopub.execute_input": "2025-07-16T17:18:40.673091Z",
     "iopub.status.busy": "2025-07-16T17:18:40.671810Z",
     "iopub.status.idle": "2025-07-16T17:18:40.685623Z",
     "shell.execute_reply": "2025-07-16T17:18:40.684623Z",
     "shell.execute_reply.started": "2025-07-16T17:18:40.673091Z"
    }
   },
   "outputs": [],
   "source": [
    "cleaned_ansur[\"hauteur_des_hanches\"]=ansur_df[\"iliocristaleheight\"]/10"
   ]
  },
  {
   "cell_type": "code",
   "execution_count": 666,
   "id": "b95dc2b6-3ce8-4fb9-83ab-152fac34333d",
   "metadata": {
    "execution": {
     "iopub.execute_input": "2025-07-16T17:18:40.686622Z",
     "iopub.status.busy": "2025-07-16T17:18:40.686622Z",
     "iopub.status.idle": "2025-07-16T17:18:40.701548Z",
     "shell.execute_reply": "2025-07-16T17:18:40.700038Z",
     "shell.execute_reply.started": "2025-07-16T17:18:40.686622Z"
    }
   },
   "outputs": [],
   "source": [
    "cleaned_ansur[\"hauteur_des_genoux\"]=ansur_df[\"kneeheightmidpatella\"]/10"
   ]
  },
  {
   "cell_type": "code",
   "execution_count": 667,
   "id": "feae0e6f-7e13-40ce-8b13-4b1b3d3b8a00",
   "metadata": {
    "execution": {
     "iopub.execute_input": "2025-07-16T17:18:40.703560Z",
     "iopub.status.busy": "2025-07-16T17:18:40.702557Z",
     "iopub.status.idle": "2025-07-16T17:18:40.716644Z",
     "shell.execute_reply": "2025-07-16T17:18:40.715642Z",
     "shell.execute_reply.started": "2025-07-16T17:18:40.703560Z"
    }
   },
   "outputs": [],
   "source": [
    "cleaned_ansur[\"tour_du_cou\"]=ansur_df[\"neckcircumference\"]/10"
   ]
  },
  {
   "cell_type": "code",
   "execution_count": 668,
   "id": "3dada48c-beb0-4c97-90ee-5e281181e3c1",
   "metadata": {
    "execution": {
     "iopub.execute_input": "2025-07-16T17:18:40.718643Z",
     "iopub.status.busy": "2025-07-16T17:18:40.717642Z",
     "iopub.status.idle": "2025-07-16T17:18:40.733677Z",
     "shell.execute_reply": "2025-07-16T17:18:40.731668Z",
     "shell.execute_reply.started": "2025-07-16T17:18:40.717642Z"
    }
   },
   "outputs": [],
   "source": [
    "cleaned_ansur[\"longueur_du_cou_au_genou\"]=ansur_df[\"buttockkneelength\"]/10"
   ]
  },
  {
   "cell_type": "code",
   "execution_count": 669,
   "id": "899c9bfb-d495-468a-b7af-f9720a0f820e",
   "metadata": {
    "execution": {
     "iopub.execute_input": "2025-07-16T17:18:40.741679Z",
     "iopub.status.busy": "2025-07-16T17:18:40.741679Z",
     "iopub.status.idle": "2025-07-16T17:18:40.748046Z",
     "shell.execute_reply": "2025-07-16T17:18:40.747045Z",
     "shell.execute_reply.started": "2025-07-16T17:18:40.741679Z"
    }
   },
   "outputs": [],
   "source": [
    "cleaned_ansur[\"largeur_d_epaule\"]=ansur_df[\"biacromialbreadth\"]/10"
   ]
  },
  {
   "cell_type": "code",
   "execution_count": 670,
   "id": "61e84b88-4bcf-49df-82cb-eac845d1412d",
   "metadata": {
    "execution": {
     "iopub.execute_input": "2025-07-16T17:18:40.750564Z",
     "iopub.status.busy": "2025-07-16T17:18:40.749553Z",
     "iopub.status.idle": "2025-07-16T17:18:40.763636Z",
     "shell.execute_reply": "2025-07-16T17:18:40.762635Z",
     "shell.execute_reply.started": "2025-07-16T17:18:40.750564Z"
    }
   },
   "outputs": [],
   "source": [
    "cleaned_ansur[\"largeur_des_epaules_a_l_horizontales\"]=ansur_df[\"bideltoidbreadth\"]/10"
   ]
  },
  {
   "cell_type": "code",
   "execution_count": 671,
   "id": "80cf9288-22ad-4d34-a8c2-c32a0c65943a",
   "metadata": {
    "execution": {
     "iopub.execute_input": "2025-07-16T17:18:40.766636Z",
     "iopub.status.busy": "2025-07-16T17:18:40.765637Z",
     "iopub.status.idle": "2025-07-16T17:18:40.779164Z",
     "shell.execute_reply": "2025-07-16T17:18:40.778165Z",
     "shell.execute_reply.started": "2025-07-16T17:18:40.766636Z"
    }
   },
   "outputs": [],
   "source": [
    "cleaned_ansur[\"longueur_de_la_colonne_vertebrale_jusqu_au_poignet\"]=ansur_df[\"sleevelengthspinewrist\"]/10"
   ]
  },
  {
   "cell_type": "code",
   "execution_count": 672,
   "id": "ef0429f3-4d82-4377-b9f1-687af9f6c10d",
   "metadata": {
    "execution": {
     "iopub.execute_input": "2025-07-16T17:18:40.781474Z",
     "iopub.status.busy": "2025-07-16T17:18:40.781474Z",
     "iopub.status.idle": "2025-07-16T17:18:40.795033Z",
     "shell.execute_reply": "2025-07-16T17:18:40.794034Z",
     "shell.execute_reply.started": "2025-07-16T17:18:40.781474Z"
    }
   },
   "outputs": [],
   "source": [
    "cleaned_ansur[\"tour_de_cuisse\"]=ansur_df[\"thighcircumference\"]/10"
   ]
  },
  {
   "cell_type": "code",
   "execution_count": 673,
   "id": "830f869e-2e85-4e92-b305-3ab2145c3287",
   "metadata": {
    "execution": {
     "iopub.execute_input": "2025-07-16T17:18:40.797033Z",
     "iopub.status.busy": "2025-07-16T17:18:40.797033Z",
     "iopub.status.idle": "2025-07-16T17:18:40.810556Z",
     "shell.execute_reply": "2025-07-16T17:18:40.809558Z",
     "shell.execute_reply.started": "2025-07-16T17:18:40.797033Z"
    }
   },
   "outputs": [],
   "source": [
    "cleaned_ansur[\"longueur_du_tronc\"]=ansur_df[\"sittingheight\"]/10"
   ]
  },
  {
   "cell_type": "code",
   "execution_count": 674,
   "id": "ae99a927-9efd-43be-aaa8-2afd24d0491e",
   "metadata": {
    "execution": {
     "iopub.execute_input": "2025-07-16T17:18:40.812596Z",
     "iopub.status.busy": "2025-07-16T17:18:40.811558Z",
     "iopub.status.idle": "2025-07-16T17:18:40.826896Z",
     "shell.execute_reply": "2025-07-16T17:18:40.824896Z",
     "shell.execute_reply.started": "2025-07-16T17:18:40.812596Z"
    }
   },
   "outputs": [],
   "source": [
    "cleaned_ansur[\"longueur_du_bras\"]=ansur_df[\"shoulderelbowlength\"]/10"
   ]
  },
  {
   "cell_type": "code",
   "execution_count": 675,
   "id": "981097f5-cfa3-48e4-8257-0168f4779b1f",
   "metadata": {
    "execution": {
     "iopub.execute_input": "2025-07-16T17:18:40.828896Z",
     "iopub.status.busy": "2025-07-16T17:18:40.827895Z",
     "iopub.status.idle": "2025-07-16T17:18:40.841434Z",
     "shell.execute_reply": "2025-07-16T17:18:40.840435Z",
     "shell.execute_reply.started": "2025-07-16T17:18:40.828896Z"
    }
   },
   "outputs": [],
   "source": [
    "cleaned_ansur[\"largeur_de_la_taille\"]=ansur_df[\"waistbreadth\"]/10"
   ]
  },
  {
   "cell_type": "code",
   "execution_count": 676,
   "id": "60a15841-5070-417a-a88d-637e2b5f02c8",
   "metadata": {
    "execution": {
     "iopub.execute_input": "2025-07-16T17:18:40.843714Z",
     "iopub.status.busy": "2025-07-16T17:18:40.843714Z",
     "iopub.status.idle": "2025-07-16T17:18:40.857758Z",
     "shell.execute_reply": "2025-07-16T17:18:40.855760Z",
     "shell.execute_reply.started": "2025-07-16T17:18:40.843714Z"
    }
   },
   "outputs": [],
   "source": [
    "cleaned_ansur[\"tour_de_taille\"]=ansur_df[\"waistcircumference\"]/10"
   ]
  },
  {
   "cell_type": "code",
   "execution_count": 677,
   "id": "ac642dc7-a15c-448f-8b81-d0fa1ae9648e",
   "metadata": {
    "execution": {
     "iopub.execute_input": "2025-07-16T17:18:40.860759Z",
     "iopub.status.busy": "2025-07-16T17:18:40.859760Z",
     "iopub.status.idle": "2025-07-16T17:18:40.872811Z",
     "shell.execute_reply": "2025-07-16T17:18:40.871799Z",
     "shell.execute_reply.started": "2025-07-16T17:18:40.860759Z"
    }
   },
   "outputs": [],
   "source": [
    "cleaned_ansur[\"hauteur_de_la_taille\"]=ansur_df[\"waistheightomphalion\"]/10"
   ]
  },
  {
   "cell_type": "code",
   "execution_count": 678,
   "id": "31006034-d2e3-4b92-9fe7-c729f2a9e898",
   "metadata": {
    "execution": {
     "iopub.execute_input": "2025-07-16T17:18:40.875814Z",
     "iopub.status.busy": "2025-07-16T17:18:40.874810Z",
     "iopub.status.idle": "2025-07-16T17:18:40.889223Z",
     "shell.execute_reply": "2025-07-16T17:18:40.887223Z",
     "shell.execute_reply.started": "2025-07-16T17:18:40.875814Z"
    }
   },
   "outputs": [],
   "source": [
    "cleaned_ansur[\"tour_de_poignet\"]=ansur_df[\"wristcircumference\"]/10"
   ]
  },
  {
   "cell_type": "code",
   "execution_count": 679,
   "id": "812d9c7a-4929-4b9d-93e6-38537c57259d",
   "metadata": {
    "execution": {
     "iopub.execute_input": "2025-07-16T17:18:40.891736Z",
     "iopub.status.busy": "2025-07-16T17:18:40.890225Z",
     "iopub.status.idle": "2025-07-16T17:18:40.904267Z",
     "shell.execute_reply": "2025-07-16T17:18:40.903271Z",
     "shell.execute_reply.started": "2025-07-16T17:18:40.891736Z"
    }
   },
   "outputs": [],
   "source": [
    "cleaned_ansur[\"profondeur_des_aisselles\"]=0"
   ]
  },
  {
   "cell_type": "code",
   "execution_count": 680,
   "id": "ca58c283-6053-466d-bb0d-888f59170acd",
   "metadata": {
    "execution": {
     "iopub.execute_input": "2025-07-16T17:18:40.908271Z",
     "iopub.status.busy": "2025-07-16T17:18:40.907268Z",
     "iopub.status.idle": "2025-07-16T17:18:40.920831Z",
     "shell.execute_reply": "2025-07-16T17:18:40.918829Z",
     "shell.execute_reply.started": "2025-07-16T17:18:40.908271Z"
    }
   },
   "outputs": [],
   "source": [
    "cleaned_ansur[\"tour_de_poitrine_mesure_a_la_main\"]=0"
   ]
  },
  {
   "cell_type": "code",
   "execution_count": 681,
   "id": "4b4c118d-76ba-47ce-ba83-1911fc401b7b",
   "metadata": {
    "execution": {
     "iopub.execute_input": "2025-07-16T17:18:40.923360Z",
     "iopub.status.busy": "2025-07-16T17:18:40.922347Z",
     "iopub.status.idle": "2025-07-16T17:18:40.936880Z",
     "shell.execute_reply": "2025-07-16T17:18:40.934884Z",
     "shell.execute_reply.started": "2025-07-16T17:18:40.923360Z"
    }
   },
   "outputs": [],
   "source": [
    "cleaned_ansur[\"tour_de_coude\"]=0"
   ]
  },
  {
   "cell_type": "code",
   "execution_count": 682,
   "id": "213fdf13-ec94-4e2c-bfd9-c5236ce11edc",
   "metadata": {
    "execution": {
     "iopub.execute_input": "2025-07-16T17:18:40.938881Z",
     "iopub.status.busy": "2025-07-16T17:18:40.937898Z",
     "iopub.status.idle": "2025-07-16T17:18:40.952661Z",
     "shell.execute_reply": "2025-07-16T17:18:40.950142Z",
     "shell.execute_reply.started": "2025-07-16T17:18:40.938881Z"
    }
   },
   "outputs": [],
   "source": [
    "cleaned_ansur[\"tour_de_hanches_haut\"]=0"
   ]
  },
  {
   "cell_type": "code",
   "execution_count": 683,
   "id": "05e916c6-e7f5-4937-ad5c-afeaaba4d737",
   "metadata": {
    "execution": {
     "iopub.execute_input": "2025-07-16T17:18:40.955666Z",
     "iopub.status.busy": "2025-07-16T17:18:40.954664Z",
     "iopub.status.idle": "2025-07-16T17:18:40.967096Z",
     "shell.execute_reply": "2025-07-16T17:18:40.966090Z",
     "shell.execute_reply.started": "2025-07-16T17:18:40.955666Z"
    }
   },
   "outputs": [],
   "source": [
    "cleaned_ansur[\"tour_de_genou\"]=0"
   ]
  },
  {
   "cell_type": "code",
   "execution_count": 684,
   "id": "e3b18e91-9af5-4e2f-b7c7-6ad0ec983a2b",
   "metadata": {
    "execution": {
     "iopub.execute_input": "2025-07-16T17:18:40.969095Z",
     "iopub.status.busy": "2025-07-16T17:18:40.969095Z",
     "iopub.status.idle": "2025-07-16T17:18:40.983158Z",
     "shell.execute_reply": "2025-07-16T17:18:40.981637Z",
     "shell.execute_reply.started": "2025-07-16T17:18:40.969095Z"
    }
   },
   "outputs": [],
   "source": [
    "cleaned_ansur[\"angle_de_l_epaule\"]=0"
   ]
  },
  {
   "cell_type": "code",
   "execution_count": 685,
   "id": "b6dcf3b8-e24f-49a2-a659-2af792d1f831",
   "metadata": {
    "execution": {
     "iopub.execute_input": "2025-07-16T17:18:40.985155Z",
     "iopub.status.busy": "2025-07-16T17:18:40.985155Z",
     "iopub.status.idle": "2025-07-16T17:18:40.999448Z",
     "shell.execute_reply": "2025-07-16T17:18:40.997502Z",
     "shell.execute_reply.started": "2025-07-16T17:18:40.985155Z"
    }
   },
   "outputs": [],
   "source": [
    "cleaned_ansur[\"longueur_du_côte\"]=0"
   ]
  },
  {
   "cell_type": "code",
   "execution_count": 686,
   "id": "4d903432-d26c-4cec-9baf-7c7828c869e8",
   "metadata": {
    "execution": {
     "iopub.execute_input": "2025-07-16T17:18:41.000405Z",
     "iopub.status.busy": "2025-07-16T17:18:41.000405Z",
     "iopub.status.idle": "2025-07-16T17:18:41.013688Z",
     "shell.execute_reply": "2025-07-16T17:18:41.012652Z",
     "shell.execute_reply.started": "2025-07-16T17:18:41.000405Z"
    }
   },
   "outputs": [],
   "source": [
    "cleaned_ansur[\"longueur_de_sous_poitrine\"]=0"
   ]
  },
  {
   "cell_type": "code",
   "execution_count": 687,
   "id": "8b7ff2b9-58a6-457e-995a-26ad01b8ddad",
   "metadata": {
    "execution": {
     "iopub.execute_input": "2025-07-16T17:18:41.016648Z",
     "iopub.status.busy": "2025-07-16T17:18:41.015649Z",
     "iopub.status.idle": "2025-07-16T17:18:41.029903Z",
     "shell.execute_reply": "2025-07-16T17:18:41.027930Z",
     "shell.execute_reply.started": "2025-07-16T17:18:41.016648Z"
    }
   },
   "outputs": [],
   "source": [
    "cleaned_ansur[\"hauteur_des_epaules\"]=0"
   ]
  },
  {
   "cell_type": "code",
   "execution_count": 688,
   "id": "28989d4e-7cea-4c59-85a1-acc5cb45ef22",
   "metadata": {
    "execution": {
     "iopub.execute_input": "2025-07-16T17:18:41.031724Z",
     "iopub.status.busy": "2025-07-16T17:18:41.031214Z",
     "iopub.status.idle": "2025-07-16T17:18:41.045263Z",
     "shell.execute_reply": "2025-07-16T17:18:41.043277Z",
     "shell.execute_reply.started": "2025-07-16T17:18:41.031724Z"
    }
   },
   "outputs": [],
   "source": [
    "cleaned_ansur[\"largeur_du_visage\"]=0"
   ]
  },
  {
   "cell_type": "code",
   "execution_count": 689,
   "id": "57338e9f-f68e-402f-a0b7-2256a114b410",
   "metadata": {
    "execution": {
     "iopub.execute_input": "2025-07-16T17:18:41.048259Z",
     "iopub.status.busy": "2025-07-16T17:18:41.047262Z",
     "iopub.status.idle": "2025-07-16T17:18:41.059860Z",
     "shell.execute_reply": "2025-07-16T17:18:41.058856Z",
     "shell.execute_reply.started": "2025-07-16T17:18:41.048259Z"
    }
   },
   "outputs": [],
   "source": [
    "cleaned_ansur[\"profondeur_de_poitrine\"]=0"
   ]
  },
  {
   "cell_type": "code",
   "execution_count": 690,
   "id": "97ae516a-6067-4a33-a959-2257de171dc1",
   "metadata": {
    "execution": {
     "iopub.execute_input": "2025-07-16T17:18:41.061856Z",
     "iopub.status.busy": "2025-07-16T17:18:41.061856Z",
     "iopub.status.idle": "2025-07-16T17:18:41.169626Z",
     "shell.execute_reply": "2025-07-16T17:18:41.168624Z",
     "shell.execute_reply.started": "2025-07-16T17:18:41.061856Z"
    }
   },
   "outputs": [
    {
     "data": {
      "text/html": [
       "<div>\n",
       "<style scoped>\n",
       "    .dataframe tbody tr th:only-of-type {\n",
       "        vertical-align: middle;\n",
       "    }\n",
       "\n",
       "    .dataframe tbody tr th {\n",
       "        vertical-align: top;\n",
       "    }\n",
       "\n",
       "    .dataframe thead th {\n",
       "        text-align: right;\n",
       "    }\n",
       "</style>\n",
       "<table border=\"1\" class=\"dataframe\">\n",
       "  <thead>\n",
       "    <tr style=\"text-align: right;\">\n",
       "      <th></th>\n",
       "      <th>taille</th>\n",
       "      <th>age</th>\n",
       "      <th>weight</th>\n",
       "      <th>sex</th>\n",
       "      <th>tour_de_cheville</th>\n",
       "      <th>longueur_du_bras</th>\n",
       "      <th>longueur_du_dos</th>\n",
       "      <th>largeur_du_dos</th>\n",
       "      <th>tour_de_ventre_maximal</th>\n",
       "      <th>tour_de_biceps</th>\n",
       "      <th>...</th>\n",
       "      <th>tour_de_poitrine_mesure_a_la_main</th>\n",
       "      <th>tour_de_coude</th>\n",
       "      <th>tour_de_hanches_haut</th>\n",
       "      <th>tour_de_genou</th>\n",
       "      <th>angle_de_l_epaule</th>\n",
       "      <th>longueur_du_côte</th>\n",
       "      <th>longueur_de_sous_poitrine</th>\n",
       "      <th>hauteur_des_epaules</th>\n",
       "      <th>largeur_du_visage</th>\n",
       "      <th>profondeur_de_poitrine</th>\n",
       "    </tr>\n",
       "  </thead>\n",
       "  <tbody>\n",
       "    <tr>\n",
       "      <th>count</th>\n",
       "      <td>6068.000000</td>\n",
       "      <td>6068.000000</td>\n",
       "      <td>6068.000000</td>\n",
       "      <td>6068.000000</td>\n",
       "      <td>6068.000000</td>\n",
       "      <td>6068.000000</td>\n",
       "      <td>6068.000000</td>\n",
       "      <td>6068.000000</td>\n",
       "      <td>6068.000000</td>\n",
       "      <td>6068.000000</td>\n",
       "      <td>...</td>\n",
       "      <td>6068.0</td>\n",
       "      <td>6068.0</td>\n",
       "      <td>6068.0</td>\n",
       "      <td>6068.0</td>\n",
       "      <td>6068.0</td>\n",
       "      <td>6068.0</td>\n",
       "      <td>6068.0</td>\n",
       "      <td>6068.0</td>\n",
       "      <td>6068.0</td>\n",
       "      <td>6068.0</td>\n",
       "    </tr>\n",
       "    <tr>\n",
       "      <th>mean</th>\n",
       "      <td>171.440606</td>\n",
       "      <td>29.761206</td>\n",
       "      <td>79.265052</td>\n",
       "      <td>0.672709</td>\n",
       "      <td>22.489140</td>\n",
       "      <td>35.408355</td>\n",
       "      <td>46.052472</td>\n",
       "      <td>39.920419</td>\n",
       "      <td>91.450148</td>\n",
       "      <td>34.093425</td>\n",
       "      <td>...</td>\n",
       "      <td>0.0</td>\n",
       "      <td>0.0</td>\n",
       "      <td>0.0</td>\n",
       "      <td>0.0</td>\n",
       "      <td>0.0</td>\n",
       "      <td>0.0</td>\n",
       "      <td>0.0</td>\n",
       "      <td>0.0</td>\n",
       "      <td>0.0</td>\n",
       "      <td>0.0</td>\n",
       "    </tr>\n",
       "    <tr>\n",
       "      <th>std</th>\n",
       "      <td>9.001534</td>\n",
       "      <td>8.674650</td>\n",
       "      <td>15.282400</td>\n",
       "      <td>0.469263</td>\n",
       "      <td>1.605183</td>\n",
       "      <td>2.259859</td>\n",
       "      <td>3.667791</td>\n",
       "      <td>3.023691</td>\n",
       "      <td>11.427451</td>\n",
       "      <td>4.151987</td>\n",
       "      <td>...</td>\n",
       "      <td>0.0</td>\n",
       "      <td>0.0</td>\n",
       "      <td>0.0</td>\n",
       "      <td>0.0</td>\n",
       "      <td>0.0</td>\n",
       "      <td>0.0</td>\n",
       "      <td>0.0</td>\n",
       "      <td>0.0</td>\n",
       "      <td>0.0</td>\n",
       "      <td>0.0</td>\n",
       "    </tr>\n",
       "    <tr>\n",
       "      <th>min</th>\n",
       "      <td>140.900000</td>\n",
       "      <td>17.000000</td>\n",
       "      <td>0.000000</td>\n",
       "      <td>0.000000</td>\n",
       "      <td>15.600000</td>\n",
       "      <td>27.100000</td>\n",
       "      <td>34.500000</td>\n",
       "      <td>28.300000</td>\n",
       "      <td>61.100000</td>\n",
       "      <td>21.600000</td>\n",
       "      <td>...</td>\n",
       "      <td>0.0</td>\n",
       "      <td>0.0</td>\n",
       "      <td>0.0</td>\n",
       "      <td>0.0</td>\n",
       "      <td>0.0</td>\n",
       "      <td>0.0</td>\n",
       "      <td>0.0</td>\n",
       "      <td>0.0</td>\n",
       "      <td>0.0</td>\n",
       "      <td>0.0</td>\n",
       "    </tr>\n",
       "    <tr>\n",
       "      <th>25%</th>\n",
       "      <td>165.175000</td>\n",
       "      <td>23.000000</td>\n",
       "      <td>68.038800</td>\n",
       "      <td>0.000000</td>\n",
       "      <td>21.400000</td>\n",
       "      <td>33.800000</td>\n",
       "      <td>43.500000</td>\n",
       "      <td>37.600000</td>\n",
       "      <td>82.900000</td>\n",
       "      <td>31.100000</td>\n",
       "      <td>...</td>\n",
       "      <td>0.0</td>\n",
       "      <td>0.0</td>\n",
       "      <td>0.0</td>\n",
       "      <td>0.0</td>\n",
       "      <td>0.0</td>\n",
       "      <td>0.0</td>\n",
       "      <td>0.0</td>\n",
       "      <td>0.0</td>\n",
       "      <td>0.0</td>\n",
       "      <td>0.0</td>\n",
       "    </tr>\n",
       "    <tr>\n",
       "      <th>50%</th>\n",
       "      <td>171.900000</td>\n",
       "      <td>28.000000</td>\n",
       "      <td>78.471416</td>\n",
       "      <td>1.000000</td>\n",
       "      <td>22.500000</td>\n",
       "      <td>35.500000</td>\n",
       "      <td>46.300000</td>\n",
       "      <td>40.400000</td>\n",
       "      <td>90.700000</td>\n",
       "      <td>34.100000</td>\n",
       "      <td>...</td>\n",
       "      <td>0.0</td>\n",
       "      <td>0.0</td>\n",
       "      <td>0.0</td>\n",
       "      <td>0.0</td>\n",
       "      <td>0.0</td>\n",
       "      <td>0.0</td>\n",
       "      <td>0.0</td>\n",
       "      <td>0.0</td>\n",
       "      <td>0.0</td>\n",
       "      <td>0.0</td>\n",
       "    </tr>\n",
       "    <tr>\n",
       "      <th>75%</th>\n",
       "      <td>177.900000</td>\n",
       "      <td>36.000000</td>\n",
       "      <td>88.904032</td>\n",
       "      <td>1.000000</td>\n",
       "      <td>23.500000</td>\n",
       "      <td>37.000000</td>\n",
       "      <td>48.600000</td>\n",
       "      <td>42.100000</td>\n",
       "      <td>99.200000</td>\n",
       "      <td>37.000000</td>\n",
       "      <td>...</td>\n",
       "      <td>0.0</td>\n",
       "      <td>0.0</td>\n",
       "      <td>0.0</td>\n",
       "      <td>0.0</td>\n",
       "      <td>0.0</td>\n",
       "      <td>0.0</td>\n",
       "      <td>0.0</td>\n",
       "      <td>0.0</td>\n",
       "      <td>0.0</td>\n",
       "      <td>0.0</td>\n",
       "    </tr>\n",
       "    <tr>\n",
       "      <th>max</th>\n",
       "      <td>199.300000</td>\n",
       "      <td>58.000000</td>\n",
       "      <td>145.603032</td>\n",
       "      <td>1.000000</td>\n",
       "      <td>29.300000</td>\n",
       "      <td>42.300000</td>\n",
       "      <td>59.800000</td>\n",
       "      <td>48.900000</td>\n",
       "      <td>137.900000</td>\n",
       "      <td>49.000000</td>\n",
       "      <td>...</td>\n",
       "      <td>0.0</td>\n",
       "      <td>0.0</td>\n",
       "      <td>0.0</td>\n",
       "      <td>0.0</td>\n",
       "      <td>0.0</td>\n",
       "      <td>0.0</td>\n",
       "      <td>0.0</td>\n",
       "      <td>0.0</td>\n",
       "      <td>0.0</td>\n",
       "      <td>0.0</td>\n",
       "    </tr>\n",
       "  </tbody>\n",
       "</table>\n",
       "<p>8 rows × 42 columns</p>\n",
       "</div>"
      ],
      "text/plain": [
       "            taille          age       weight          sex  tour_de_cheville  \\\n",
       "count  6068.000000  6068.000000  6068.000000  6068.000000       6068.000000   \n",
       "mean    171.440606    29.761206    79.265052     0.672709         22.489140   \n",
       "std       9.001534     8.674650    15.282400     0.469263          1.605183   \n",
       "min     140.900000    17.000000     0.000000     0.000000         15.600000   \n",
       "25%     165.175000    23.000000    68.038800     0.000000         21.400000   \n",
       "50%     171.900000    28.000000    78.471416     1.000000         22.500000   \n",
       "75%     177.900000    36.000000    88.904032     1.000000         23.500000   \n",
       "max     199.300000    58.000000   145.603032     1.000000         29.300000   \n",
       "\n",
       "       longueur_du_bras  longueur_du_dos  largeur_du_dos  \\\n",
       "count       6068.000000      6068.000000     6068.000000   \n",
       "mean          35.408355        46.052472       39.920419   \n",
       "std            2.259859         3.667791        3.023691   \n",
       "min           27.100000        34.500000       28.300000   \n",
       "25%           33.800000        43.500000       37.600000   \n",
       "50%           35.500000        46.300000       40.400000   \n",
       "75%           37.000000        48.600000       42.100000   \n",
       "max           42.300000        59.800000       48.900000   \n",
       "\n",
       "       tour_de_ventre_maximal  tour_de_biceps  ...  \\\n",
       "count             6068.000000     6068.000000  ...   \n",
       "mean                91.450148       34.093425  ...   \n",
       "std                 11.427451        4.151987  ...   \n",
       "min                 61.100000       21.600000  ...   \n",
       "25%                 82.900000       31.100000  ...   \n",
       "50%                 90.700000       34.100000  ...   \n",
       "75%                 99.200000       37.000000  ...   \n",
       "max                137.900000       49.000000  ...   \n",
       "\n",
       "       tour_de_poitrine_mesure_a_la_main  tour_de_coude  tour_de_hanches_haut  \\\n",
       "count                             6068.0         6068.0                6068.0   \n",
       "mean                                 0.0            0.0                   0.0   \n",
       "std                                  0.0            0.0                   0.0   \n",
       "min                                  0.0            0.0                   0.0   \n",
       "25%                                  0.0            0.0                   0.0   \n",
       "50%                                  0.0            0.0                   0.0   \n",
       "75%                                  0.0            0.0                   0.0   \n",
       "max                                  0.0            0.0                   0.0   \n",
       "\n",
       "       tour_de_genou  angle_de_l_epaule  longueur_du_côte  \\\n",
       "count         6068.0             6068.0            6068.0   \n",
       "mean             0.0                0.0               0.0   \n",
       "std              0.0                0.0               0.0   \n",
       "min              0.0                0.0               0.0   \n",
       "25%              0.0                0.0               0.0   \n",
       "50%              0.0                0.0               0.0   \n",
       "75%              0.0                0.0               0.0   \n",
       "max              0.0                0.0               0.0   \n",
       "\n",
       "       longueur_de_sous_poitrine  hauteur_des_epaules  largeur_du_visage  \\\n",
       "count                     6068.0               6068.0             6068.0   \n",
       "mean                         0.0                  0.0                0.0   \n",
       "std                          0.0                  0.0                0.0   \n",
       "min                          0.0                  0.0                0.0   \n",
       "25%                          0.0                  0.0                0.0   \n",
       "50%                          0.0                  0.0                0.0   \n",
       "75%                          0.0                  0.0                0.0   \n",
       "max                          0.0                  0.0                0.0   \n",
       "\n",
       "       profondeur_de_poitrine  \n",
       "count                  6068.0  \n",
       "mean                      0.0  \n",
       "std                       0.0  \n",
       "min                       0.0  \n",
       "25%                       0.0  \n",
       "50%                       0.0  \n",
       "75%                       0.0  \n",
       "max                       0.0  \n",
       "\n",
       "[8 rows x 42 columns]"
      ]
     },
     "execution_count": 690,
     "metadata": {},
     "output_type": "execute_result"
    }
   ],
   "source": [
    "cleaned_ansur.describe()"
   ]
  },
  {
   "cell_type": "code",
   "execution_count": 691,
   "id": "173ae852-571c-4cac-9590-755ecb34efb9",
   "metadata": {
    "execution": {
     "iopub.execute_input": "2025-07-16T17:18:41.170625Z",
     "iopub.status.busy": "2025-07-16T17:18:41.169626Z",
     "iopub.status.idle": "2025-07-16T17:18:41.185345Z",
     "shell.execute_reply": "2025-07-16T17:18:41.184333Z",
     "shell.execute_reply.started": "2025-07-16T17:18:41.170625Z"
    }
   },
   "outputs": [
    {
     "data": {
      "text/plain": [
       "Index(['taille', 'age', 'weight', 'sex', 'tour_de_cheville',\n",
       "       'longueur_du_bras', 'longueur_du_dos', 'largeur_du_dos',\n",
       "       'tour_de_ventre_maximal', 'tour_de_biceps', 'tour_de_poitrine',\n",
       "       'hauteur_de_poitrine', 'tour_de_mollet', 'hauteur_d_entrejambe',\n",
       "       'tour_d_avant_bras', 'longueur_avant', 'tour_de_tête',\n",
       "       'largeur_des_hanches', 'hauteur_des_hanches', 'hauteur_des_genoux',\n",
       "       'tour_du_cou', 'longueur_du_cou_au_genou', 'largeur_d_epaule',\n",
       "       'largeur_des_epaules_a_l_horizontales',\n",
       "       'longueur_de_la_colonne_vertebrale_jusqu_au_poignet', 'tour_de_cuisse',\n",
       "       'longueur_du_tronc', 'largeur_de_la_taille', 'tour_de_taille',\n",
       "       'hauteur_de_la_taille', 'tour_de_poignet', 'profondeur_des_aisselles',\n",
       "       'tour_de_poitrine_mesure_a_la_main', 'tour_de_coude',\n",
       "       'tour_de_hanches_haut', 'tour_de_genou', 'angle_de_l_epaule',\n",
       "       'longueur_du_côte', 'longueur_de_sous_poitrine', 'hauteur_des_epaules',\n",
       "       'largeur_du_visage', 'profondeur_de_poitrine'],\n",
       "      dtype='object')"
      ]
     },
     "execution_count": 691,
     "metadata": {},
     "output_type": "execute_result"
    }
   ],
   "source": [
    "cleaned_ansur.columns"
   ]
  },
  {
   "cell_type": "code",
   "execution_count": 692,
   "id": "58287d78-fca6-41b7-9b02-36942e1ac64e",
   "metadata": {
    "execution": {
     "iopub.execute_input": "2025-07-16T17:18:41.186366Z",
     "iopub.status.busy": "2025-07-16T17:18:41.186366Z",
     "iopub.status.idle": "2025-07-16T17:18:41.200588Z",
     "shell.execute_reply": "2025-07-16T17:18:41.199600Z",
     "shell.execute_reply.started": "2025-07-16T17:18:41.186366Z"
    }
   },
   "outputs": [],
   "source": [
    "bdims_df=pd.read_csv('data/bdims.csv', encoding='cp1252', sep=';')\n",
    "cleaned_bdims=pd.DataFrame()"
   ]
  },
  {
   "cell_type": "code",
   "execution_count": 693,
   "id": "2af9ba49-f7af-4a5a-bd6a-f5db8899544e",
   "metadata": {
    "execution": {
     "iopub.execute_input": "2025-07-16T17:18:41.202097Z",
     "iopub.status.busy": "2025-07-16T17:18:41.202097Z",
     "iopub.status.idle": "2025-07-16T17:18:41.216647Z",
     "shell.execute_reply": "2025-07-16T17:18:41.215638Z",
     "shell.execute_reply.started": "2025-07-16T17:18:41.202097Z"
    }
   },
   "outputs": [
    {
     "data": {
      "text/plain": [
       "count    507.000000\n",
       "mean      38.811440\n",
       "std        3.059132\n",
       "min       32.400000\n",
       "25%       36.200000\n",
       "50%       38.700000\n",
       "75%       41.150000\n",
       "max       47.400000\n",
       "Name: bia_di, dtype: float64"
      ]
     },
     "execution_count": 693,
     "metadata": {},
     "output_type": "execute_result"
    }
   ],
   "source": [
    "bdims_df[\"bia_di\"].describe()"
   ]
  },
  {
   "cell_type": "code",
   "execution_count": 694,
   "id": "cae2799c-c81f-49c8-b317-d901c27bf71f",
   "metadata": {
    "execution": {
     "iopub.execute_input": "2025-07-16T17:18:41.217619Z",
     "iopub.status.busy": "2025-07-16T17:18:41.217619Z",
     "iopub.status.idle": "2025-07-16T17:18:41.231826Z",
     "shell.execute_reply": "2025-07-16T17:18:41.230839Z",
     "shell.execute_reply.started": "2025-07-16T17:18:41.217619Z"
    }
   },
   "outputs": [],
   "source": [
    "cleaned_bdims[\"taille\"]=bdims_df[\"hgt\"]"
   ]
  },
  {
   "cell_type": "code",
   "execution_count": 695,
   "id": "4e371fb1-70a6-49da-baea-ab713160dd80",
   "metadata": {
    "execution": {
     "iopub.execute_input": "2025-07-16T17:18:41.234020Z",
     "iopub.status.busy": "2025-07-16T17:18:41.233025Z",
     "iopub.status.idle": "2025-07-16T17:18:41.247716Z",
     "shell.execute_reply": "2025-07-16T17:18:41.246732Z",
     "shell.execute_reply.started": "2025-07-16T17:18:41.234020Z"
    }
   },
   "outputs": [],
   "source": [
    "cleaned_bdims[\"age\"]=bdims_df[\"age\"]"
   ]
  },
  {
   "cell_type": "code",
   "execution_count": 696,
   "id": "7e8c6947-d660-47fc-b8e7-ad768fd99f4b",
   "metadata": {
    "execution": {
     "iopub.execute_input": "2025-07-16T17:18:41.249711Z",
     "iopub.status.busy": "2025-07-16T17:18:41.248711Z",
     "iopub.status.idle": "2025-07-16T17:18:41.263452Z",
     "shell.execute_reply": "2025-07-16T17:18:41.262476Z",
     "shell.execute_reply.started": "2025-07-16T17:18:41.249711Z"
    }
   },
   "outputs": [],
   "source": [
    "cleaned_bdims[\"weight\"]=bdims_df[\"wgt\"]"
   ]
  },
  {
   "cell_type": "code",
   "execution_count": 697,
   "id": "3674767f-f217-43a5-8253-c6e66bbf337f",
   "metadata": {
    "execution": {
     "iopub.execute_input": "2025-07-16T17:18:41.264461Z",
     "iopub.status.busy": "2025-07-16T17:18:41.264461Z",
     "iopub.status.idle": "2025-07-16T17:18:41.278540Z",
     "shell.execute_reply": "2025-07-16T17:18:41.277534Z",
     "shell.execute_reply.started": "2025-07-16T17:18:41.264461Z"
    }
   },
   "outputs": [],
   "source": [
    "cleaned_bdims[\"sex\"]=bdims_df[\"sex\"]"
   ]
  },
  {
   "cell_type": "code",
   "execution_count": 698,
   "id": "f3e2823c-d2f1-4021-906e-6a14c5526ece",
   "metadata": {
    "execution": {
     "iopub.execute_input": "2025-07-16T17:18:41.280535Z",
     "iopub.status.busy": "2025-07-16T17:18:41.279534Z",
     "iopub.status.idle": "2025-07-16T17:18:41.294520Z",
     "shell.execute_reply": "2025-07-16T17:18:41.293550Z",
     "shell.execute_reply.started": "2025-07-16T17:18:41.280535Z"
    }
   },
   "outputs": [],
   "source": [
    "cleaned_bdims[\"largeur_d_epaule\"]=bdims_df[\"bia_di\"]"
   ]
  },
  {
   "cell_type": "code",
   "execution_count": 699,
   "id": "1fe28312-4e8f-4d67-ae1e-65d44306e62c",
   "metadata": {
    "execution": {
     "iopub.execute_input": "2025-07-16T17:18:41.295516Z",
     "iopub.status.busy": "2025-07-16T17:18:41.295516Z",
     "iopub.status.idle": "2025-07-16T17:18:41.309965Z",
     "shell.execute_reply": "2025-07-16T17:18:41.308949Z",
     "shell.execute_reply.started": "2025-07-16T17:18:41.295516Z"
    }
   },
   "outputs": [],
   "source": [
    "cleaned_bdims[\"largeur_des_hanches\"]=bdims_df[\"bii_di\"]"
   ]
  },
  {
   "cell_type": "code",
   "execution_count": 700,
   "id": "3f635333-6e09-4197-a4be-184a4d77048f",
   "metadata": {
    "execution": {
     "iopub.execute_input": "2025-07-16T17:18:41.312488Z",
     "iopub.status.busy": "2025-07-16T17:18:41.311473Z",
     "iopub.status.idle": "2025-07-16T17:18:41.325377Z",
     "shell.execute_reply": "2025-07-16T17:18:41.324397Z",
     "shell.execute_reply.started": "2025-07-16T17:18:41.312488Z"
    }
   },
   "outputs": [],
   "source": [
    "cleaned_bdims[\"largeur_du_visage\"]=bdims_df[\"bit_di\"]"
   ]
  },
  {
   "cell_type": "code",
   "execution_count": 701,
   "id": "55482829-0109-40da-988b-6e9d6ea282c1",
   "metadata": {
    "execution": {
     "iopub.execute_input": "2025-07-16T17:18:41.326372Z",
     "iopub.status.busy": "2025-07-16T17:18:41.326372Z",
     "iopub.status.idle": "2025-07-16T17:18:41.339951Z",
     "shell.execute_reply": "2025-07-16T17:18:41.339951Z",
     "shell.execute_reply.started": "2025-07-16T17:18:41.326372Z"
    }
   },
   "outputs": [],
   "source": [
    "cleaned_bdims[\"profondeur_de_poitrine\"]=bdims_df[\"che_de\"]"
   ]
  },
  {
   "cell_type": "code",
   "execution_count": 702,
   "id": "c39ec96e-48f4-4b3d-ad4a-60e781893a9c",
   "metadata": {
    "execution": {
     "iopub.execute_input": "2025-07-16T17:18:41.342474Z",
     "iopub.status.busy": "2025-07-16T17:18:41.341463Z",
     "iopub.status.idle": "2025-07-16T17:18:41.356591Z",
     "shell.execute_reply": "2025-07-16T17:18:41.355619Z",
     "shell.execute_reply.started": "2025-07-16T17:18:41.342474Z"
    }
   },
   "outputs": [],
   "source": [
    "cleaned_bdims[\"hauteur_de_poitrine\"]=bdims_df[\"che_di\"]"
   ]
  },
  {
   "cell_type": "code",
   "execution_count": 703,
   "id": "e001e498-a45b-404e-9110-b235eb3b80f4",
   "metadata": {
    "execution": {
     "iopub.execute_input": "2025-07-16T17:18:41.357607Z",
     "iopub.status.busy": "2025-07-16T17:18:41.357607Z",
     "iopub.status.idle": "2025-07-16T17:18:41.371710Z",
     "shell.execute_reply": "2025-07-16T17:18:41.370404Z",
     "shell.execute_reply.started": "2025-07-16T17:18:41.357607Z"
    }
   },
   "outputs": [],
   "source": [
    "cleaned_bdims[\"tour_de_coude\"]=bdims_df[\"elb_di\"]"
   ]
  },
  {
   "cell_type": "code",
   "execution_count": 704,
   "id": "521a272e-db0f-4944-b0d5-5e164a827ddf",
   "metadata": {
    "execution": {
     "iopub.execute_input": "2025-07-16T17:18:41.374723Z",
     "iopub.status.busy": "2025-07-16T17:18:41.373722Z",
     "iopub.status.idle": "2025-07-16T17:18:41.386993Z",
     "shell.execute_reply": "2025-07-16T17:18:41.386006Z",
     "shell.execute_reply.started": "2025-07-16T17:18:41.374723Z"
    }
   },
   "outputs": [],
   "source": [
    "cleaned_bdims[\"tour_de_poignet\"]=bdims_df[\"wri_di\"]"
   ]
  },
  {
   "cell_type": "code",
   "execution_count": 705,
   "id": "5ad9439d-34ec-43cb-ad2f-8d6b0f38527b",
   "metadata": {
    "execution": {
     "iopub.execute_input": "2025-07-16T17:18:41.389992Z",
     "iopub.status.busy": "2025-07-16T17:18:41.387992Z",
     "iopub.status.idle": "2025-07-16T17:18:41.402651Z",
     "shell.execute_reply": "2025-07-16T17:18:41.401568Z",
     "shell.execute_reply.started": "2025-07-16T17:18:41.389992Z"
    }
   },
   "outputs": [],
   "source": [
    "cleaned_bdims[\"hauteur_des_genoux\"]=bdims_df[\"kne_di\"]"
   ]
  },
  {
   "cell_type": "code",
   "execution_count": 706,
   "id": "01e0198a-ba32-4e08-a085-91c67fe0c609",
   "metadata": {
    "execution": {
     "iopub.execute_input": "2025-07-16T17:18:41.404652Z",
     "iopub.status.busy": "2025-07-16T17:18:41.403650Z",
     "iopub.status.idle": "2025-07-16T17:18:41.417743Z",
     "shell.execute_reply": "2025-07-16T17:18:41.416756Z",
     "shell.execute_reply.started": "2025-07-16T17:18:41.404652Z"
    }
   },
   "outputs": [],
   "source": [
    "cleaned_bdims[\"tour_de_cheville\"]=bdims_df[\"ank_di\"]"
   ]
  },
  {
   "cell_type": "code",
   "execution_count": 707,
   "id": "546bcaa9-d1ae-4596-9914-4017b4803174",
   "metadata": {
    "execution": {
     "iopub.execute_input": "2025-07-16T17:18:41.418744Z",
     "iopub.status.busy": "2025-07-16T17:18:41.418744Z",
     "iopub.status.idle": "2025-07-16T17:18:41.433784Z",
     "shell.execute_reply": "2025-07-16T17:18:41.432784Z",
     "shell.execute_reply.started": "2025-07-16T17:18:41.418744Z"
    }
   },
   "outputs": [],
   "source": [
    "cleaned_bdims[\"largeur_d_epaule\"]=bdims_df[\"sho_gi\"]"
   ]
  },
  {
   "cell_type": "code",
   "execution_count": 708,
   "id": "6ff8211c-e726-4f0f-ae8d-be87678076ca",
   "metadata": {
    "execution": {
     "iopub.execute_input": "2025-07-16T17:18:41.434785Z",
     "iopub.status.busy": "2025-07-16T17:18:41.433784Z",
     "iopub.status.idle": "2025-07-16T17:18:41.448993Z",
     "shell.execute_reply": "2025-07-16T17:18:41.448007Z",
     "shell.execute_reply.started": "2025-07-16T17:18:41.434785Z"
    }
   },
   "outputs": [],
   "source": [
    "cleaned_bdims[\"tour_de_poitrine\"]=bdims_df[\"che_gi\"]"
   ]
  },
  {
   "cell_type": "code",
   "execution_count": 709,
   "id": "f26c5cfb-253f-4f60-94cb-b6cd536c4c94",
   "metadata": {
    "execution": {
     "iopub.execute_input": "2025-07-16T17:18:41.449991Z",
     "iopub.status.busy": "2025-07-16T17:18:41.449991Z",
     "iopub.status.idle": "2025-07-16T17:18:41.465210Z",
     "shell.execute_reply": "2025-07-16T17:18:41.464061Z",
     "shell.execute_reply.started": "2025-07-16T17:18:41.449991Z"
    }
   },
   "outputs": [],
   "source": [
    "cleaned_bdims[\"tour_de_taille\"]=bdims_df[\"wai_gi\"]"
   ]
  },
  {
   "cell_type": "code",
   "execution_count": 710,
   "id": "187ce20b-def3-433c-9e63-35a91dd61f92",
   "metadata": {
    "execution": {
     "iopub.execute_input": "2025-07-16T17:18:41.467227Z",
     "iopub.status.busy": "2025-07-16T17:18:41.466228Z",
     "iopub.status.idle": "2025-07-16T17:18:41.480757Z",
     "shell.execute_reply": "2025-07-16T17:18:41.479762Z",
     "shell.execute_reply.started": "2025-07-16T17:18:41.467227Z"
    }
   },
   "outputs": [],
   "source": [
    "cleaned_bdims[\"tour_de_ventre_maximal\"]=bdims_df[\"nav_gi\"]"
   ]
  },
  {
   "cell_type": "code",
   "execution_count": 711,
   "id": "2533ecf3-fe5b-4be6-bd5e-d0e8fb5b6705",
   "metadata": {
    "execution": {
     "iopub.execute_input": "2025-07-16T17:18:41.482263Z",
     "iopub.status.busy": "2025-07-16T17:18:41.481753Z",
     "iopub.status.idle": "2025-07-16T17:18:41.495819Z",
     "shell.execute_reply": "2025-07-16T17:18:41.494821Z",
     "shell.execute_reply.started": "2025-07-16T17:18:41.482263Z"
    }
   },
   "outputs": [],
   "source": [
    "cleaned_bdims[\"tour_de_hanches_haut\"]=bdims_df[\"hip_gi\"]"
   ]
  },
  {
   "cell_type": "code",
   "execution_count": 712,
   "id": "de57b1e5-babe-47ec-9e00-639ca98c18f7",
   "metadata": {
    "execution": {
     "iopub.execute_input": "2025-07-16T17:18:41.496818Z",
     "iopub.status.busy": "2025-07-16T17:18:41.496818Z",
     "iopub.status.idle": "2025-07-16T17:18:41.511890Z",
     "shell.execute_reply": "2025-07-16T17:18:41.510874Z",
     "shell.execute_reply.started": "2025-07-16T17:18:41.496818Z"
    }
   },
   "outputs": [],
   "source": [
    "cleaned_bdims[\"tour_de_cuisse\"]=bdims_df[\"thi_gi\"]"
   ]
  },
  {
   "cell_type": "code",
   "execution_count": 713,
   "id": "b8548d33-bb2e-4309-acc5-593077a9cf9b",
   "metadata": {
    "execution": {
     "iopub.execute_input": "2025-07-16T17:18:41.513432Z",
     "iopub.status.busy": "2025-07-16T17:18:41.513432Z",
     "iopub.status.idle": "2025-07-16T17:18:41.527522Z",
     "shell.execute_reply": "2025-07-16T17:18:41.526541Z",
     "shell.execute_reply.started": "2025-07-16T17:18:41.513432Z"
    }
   },
   "outputs": [],
   "source": [
    "cleaned_bdims[\"tour_de_biceps\"]=bdims_df[\"bic_gi\"]"
   ]
  },
  {
   "cell_type": "code",
   "execution_count": 714,
   "id": "a6eba7f5-9cdc-455e-8a15-42a076471d74",
   "metadata": {
    "execution": {
     "iopub.execute_input": "2025-07-16T17:18:41.528516Z",
     "iopub.status.busy": "2025-07-16T17:18:41.528516Z",
     "iopub.status.idle": "2025-07-16T17:18:41.542932Z",
     "shell.execute_reply": "2025-07-16T17:18:41.541666Z",
     "shell.execute_reply.started": "2025-07-16T17:18:41.528516Z"
    }
   },
   "outputs": [],
   "source": [
    "cleaned_bdims[\"tour_d_avant_bras\"]=bdims_df[\"for_gi\"]"
   ]
  },
  {
   "cell_type": "code",
   "execution_count": 715,
   "id": "2afab621-26dd-4dde-81f9-704e7900de9c",
   "metadata": {
    "execution": {
     "iopub.execute_input": "2025-07-16T17:18:41.543930Z",
     "iopub.status.busy": "2025-07-16T17:18:41.543930Z",
     "iopub.status.idle": "2025-07-16T17:18:41.557952Z",
     "shell.execute_reply": "2025-07-16T17:18:41.556940Z",
     "shell.execute_reply.started": "2025-07-16T17:18:41.543930Z"
    }
   },
   "outputs": [],
   "source": [
    "cleaned_bdims[\"tour_de_genou\"]=bdims_df[\"kne_gi\"]"
   ]
  },
  {
   "cell_type": "code",
   "execution_count": 716,
   "id": "61875083-77a1-4a88-a98f-1cd02a9bf871",
   "metadata": {
    "execution": {
     "iopub.execute_input": "2025-07-16T17:18:41.558949Z",
     "iopub.status.busy": "2025-07-16T17:18:41.558949Z",
     "iopub.status.idle": "2025-07-16T17:18:41.574342Z",
     "shell.execute_reply": "2025-07-16T17:18:41.573340Z",
     "shell.execute_reply.started": "2025-07-16T17:18:41.558949Z"
    }
   },
   "outputs": [],
   "source": [
    "cleaned_bdims[\"tour_de_mollet\"]=bdims_df[\"cal_gi\"]"
   ]
  },
  {
   "cell_type": "code",
   "execution_count": 717,
   "id": "5da69f73-532e-4990-a832-76550946ce02",
   "metadata": {
    "execution": {
     "iopub.execute_input": "2025-07-16T17:18:41.576341Z",
     "iopub.status.busy": "2025-07-16T17:18:41.575344Z",
     "iopub.status.idle": "2025-07-16T17:18:41.590070Z",
     "shell.execute_reply": "2025-07-16T17:18:41.589066Z",
     "shell.execute_reply.started": "2025-07-16T17:18:41.576341Z"
    }
   },
   "outputs": [],
   "source": [
    "cleaned_bdims[\"tour_de_cheville\"]=bdims_df[\"ank_gi\"]"
   ]
  },
  {
   "cell_type": "code",
   "execution_count": 718,
   "id": "886fecf8-c0b3-4438-a688-3674c68a6727",
   "metadata": {
    "execution": {
     "iopub.execute_input": "2025-07-16T17:18:41.591579Z",
     "iopub.status.busy": "2025-07-16T17:18:41.591579Z",
     "iopub.status.idle": "2025-07-16T17:18:41.605127Z",
     "shell.execute_reply": "2025-07-16T17:18:41.604122Z",
     "shell.execute_reply.started": "2025-07-16T17:18:41.591579Z"
    }
   },
   "outputs": [],
   "source": [
    "cleaned_bdims[\"longueur_du_bras\"]=0"
   ]
  },
  {
   "cell_type": "code",
   "execution_count": 719,
   "id": "65a6e8c7-dcbf-4fe6-82e4-55c226bee742",
   "metadata": {
    "execution": {
     "iopub.execute_input": "2025-07-16T17:18:41.607122Z",
     "iopub.status.busy": "2025-07-16T17:18:41.607122Z",
     "iopub.status.idle": "2025-07-16T17:18:41.620640Z",
     "shell.execute_reply": "2025-07-16T17:18:41.619655Z",
     "shell.execute_reply.started": "2025-07-16T17:18:41.607122Z"
    }
   },
   "outputs": [],
   "source": [
    "cleaned_bdims[\"profondeur_des_aisselles\"]=0"
   ]
  },
  {
   "cell_type": "code",
   "execution_count": 720,
   "id": "d4719aba-71af-4494-971e-203a908aeb5e",
   "metadata": {
    "execution": {
     "iopub.execute_input": "2025-07-16T17:18:41.623821Z",
     "iopub.status.busy": "2025-07-16T17:18:41.622821Z",
     "iopub.status.idle": "2025-07-16T17:18:41.636328Z",
     "shell.execute_reply": "2025-07-16T17:18:41.635326Z",
     "shell.execute_reply.started": "2025-07-16T17:18:41.623821Z"
    }
   },
   "outputs": [],
   "source": [
    "cleaned_bdims[\"longueur_du_dos\"]=0"
   ]
  },
  {
   "cell_type": "code",
   "execution_count": 721,
   "id": "ee9c2498-14fd-4d95-a7aa-52303b3f4d47",
   "metadata": {
    "execution": {
     "iopub.execute_input": "2025-07-16T17:18:41.638330Z",
     "iopub.status.busy": "2025-07-16T17:18:41.637330Z",
     "iopub.status.idle": "2025-07-16T17:18:41.651877Z",
     "shell.execute_reply": "2025-07-16T17:18:41.650877Z",
     "shell.execute_reply.started": "2025-07-16T17:18:41.638330Z"
    }
   },
   "outputs": [],
   "source": [
    "cleaned_bdims[\"tour_de_ventre_maximal\"]=0"
   ]
  },
  {
   "cell_type": "code",
   "execution_count": 722,
   "id": "acca8c5f-4cd1-4b1c-b87a-fff99d9921c6",
   "metadata": {
    "execution": {
     "iopub.execute_input": "2025-07-16T17:18:41.653231Z",
     "iopub.status.busy": "2025-07-16T17:18:41.651877Z",
     "iopub.status.idle": "2025-07-16T17:18:41.667758Z",
     "shell.execute_reply": "2025-07-16T17:18:41.666778Z",
     "shell.execute_reply.started": "2025-07-16T17:18:41.653231Z"
    }
   },
   "outputs": [],
   "source": [
    "cleaned_bdims[\"tour_de_poitrine_mesure_a_la_main\"]=0"
   ]
  },
  {
   "cell_type": "code",
   "execution_count": 723,
   "id": "34b53c21-c5a6-4304-ada0-32e52af0cdfd",
   "metadata": {
    "execution": {
     "iopub.execute_input": "2025-07-16T17:18:41.680287Z",
     "iopub.status.busy": "2025-07-16T17:18:41.680287Z",
     "iopub.status.idle": "2025-07-16T17:18:41.698816Z",
     "shell.execute_reply": "2025-07-16T17:18:41.697692Z",
     "shell.execute_reply.started": "2025-07-16T17:18:41.680287Z"
    }
   },
   "outputs": [],
   "source": [
    "cleaned_bdims[\"hauteur_de_poitrine\"]=0"
   ]
  },
  {
   "cell_type": "code",
   "execution_count": 724,
   "id": "07b5f5b4-6daa-4dd9-8e33-8e82fa1303bb",
   "metadata": {
    "execution": {
     "iopub.execute_input": "2025-07-16T17:18:41.699948Z",
     "iopub.status.busy": "2025-07-16T17:18:41.699948Z",
     "iopub.status.idle": "2025-07-16T17:18:41.713733Z",
     "shell.execute_reply": "2025-07-16T17:18:41.712768Z",
     "shell.execute_reply.started": "2025-07-16T17:18:41.699948Z"
    }
   },
   "outputs": [],
   "source": [
    "cleaned_bdims[\"hauteur_d_entrejambe\"]=0"
   ]
  },
  {
   "cell_type": "code",
   "execution_count": 725,
   "id": "a7100638-3357-4342-aa75-e1390e531744",
   "metadata": {
    "execution": {
     "iopub.execute_input": "2025-07-16T17:18:41.714732Z",
     "iopub.status.busy": "2025-07-16T17:18:41.714732Z",
     "iopub.status.idle": "2025-07-16T17:18:41.728990Z",
     "shell.execute_reply": "2025-07-16T17:18:41.727985Z",
     "shell.execute_reply.started": "2025-07-16T17:18:41.714732Z"
    }
   },
   "outputs": [],
   "source": [
    "cleaned_bdims[\"longueur_avant\"]=0"
   ]
  },
  {
   "cell_type": "code",
   "execution_count": 726,
   "id": "d92f0b51-cffb-427a-a721-31f9ad8c0cfd",
   "metadata": {
    "execution": {
     "iopub.execute_input": "2025-07-16T17:18:41.729970Z",
     "iopub.status.busy": "2025-07-16T17:18:41.729970Z",
     "iopub.status.idle": "2025-07-16T17:18:41.744487Z",
     "shell.execute_reply": "2025-07-16T17:18:41.743472Z",
     "shell.execute_reply.started": "2025-07-16T17:18:41.729970Z"
    }
   },
   "outputs": [],
   "source": [
    "cleaned_bdims[\"tour_de_tête\"]=0"
   ]
  },
  {
   "cell_type": "code",
   "execution_count": 727,
   "id": "65b46cb2-5474-4a4c-86ad-42e4e182ae6b",
   "metadata": {
    "execution": {
     "iopub.execute_input": "2025-07-16T17:18:41.745483Z",
     "iopub.status.busy": "2025-07-16T17:18:41.745483Z",
     "iopub.status.idle": "2025-07-16T17:18:41.760607Z",
     "shell.execute_reply": "2025-07-16T17:18:41.758622Z",
     "shell.execute_reply.started": "2025-07-16T17:18:41.745483Z"
    }
   },
   "outputs": [],
   "source": [
    "cleaned_bdims[\"largeur_des_hanches\"]=0"
   ]
  },
  {
   "cell_type": "code",
   "execution_count": 728,
   "id": "f8214178-0a13-4f16-8634-dd818673aa0a",
   "metadata": {
    "execution": {
     "iopub.execute_input": "2025-07-16T17:18:41.761606Z",
     "iopub.status.busy": "2025-07-16T17:18:41.761606Z",
     "iopub.status.idle": "2025-07-16T17:18:41.775667Z",
     "shell.execute_reply": "2025-07-16T17:18:41.774649Z",
     "shell.execute_reply.started": "2025-07-16T17:18:41.761606Z"
    }
   },
   "outputs": [],
   "source": [
    "cleaned_bdims[\"hauteur_des_hanches\"]=0"
   ]
  },
  {
   "cell_type": "code",
   "execution_count": 729,
   "id": "24332473-af23-4dc7-b5bf-bfc629a078c8",
   "metadata": {
    "execution": {
     "iopub.execute_input": "2025-07-16T17:18:41.776639Z",
     "iopub.status.busy": "2025-07-16T17:18:41.776639Z",
     "iopub.status.idle": "2025-07-16T17:18:41.790015Z",
     "shell.execute_reply": "2025-07-16T17:18:41.790015Z",
     "shell.execute_reply.started": "2025-07-16T17:18:41.776639Z"
    }
   },
   "outputs": [],
   "source": [
    "cleaned_bdims[\"hauteur_des_genoux\"]=0"
   ]
  },
  {
   "cell_type": "code",
   "execution_count": 730,
   "id": "0a589938-3d1d-4bea-ac3b-f3ab235aa57b",
   "metadata": {
    "execution": {
     "iopub.execute_input": "2025-07-16T17:18:41.791556Z",
     "iopub.status.busy": "2025-07-16T17:18:41.791556Z",
     "iopub.status.idle": "2025-07-16T17:18:41.806738Z",
     "shell.execute_reply": "2025-07-16T17:18:41.805736Z",
     "shell.execute_reply.started": "2025-07-16T17:18:41.791556Z"
    }
   },
   "outputs": [],
   "source": [
    "cleaned_bdims[\"tour_du_cou\"]=0"
   ]
  },
  {
   "cell_type": "code",
   "execution_count": 731,
   "id": "3664146d-1664-487c-9de2-5b72043c5e3a",
   "metadata": {
    "execution": {
     "iopub.execute_input": "2025-07-16T17:18:41.807735Z",
     "iopub.status.busy": "2025-07-16T17:18:41.807735Z",
     "iopub.status.idle": "2025-07-16T17:18:41.821899Z",
     "shell.execute_reply": "2025-07-16T17:18:41.820890Z",
     "shell.execute_reply.started": "2025-07-16T17:18:41.807735Z"
    }
   },
   "outputs": [],
   "source": [
    "cleaned_bdims[\"longueur_du_cou_au_genou\"]=0"
   ]
  },
  {
   "cell_type": "code",
   "execution_count": 732,
   "id": "b3313008-89d6-4355-bf38-e656264ab068",
   "metadata": {
    "execution": {
     "iopub.execute_input": "2025-07-16T17:18:41.824913Z",
     "iopub.status.busy": "2025-07-16T17:18:41.823913Z",
     "iopub.status.idle": "2025-07-16T17:18:41.837712Z",
     "shell.execute_reply": "2025-07-16T17:18:41.836332Z",
     "shell.execute_reply.started": "2025-07-16T17:18:41.824913Z"
    }
   },
   "outputs": [],
   "source": [
    "cleaned_bdims[\"angle_de_l_epaule\"]=0"
   ]
  },
  {
   "cell_type": "code",
   "execution_count": 733,
   "id": "d14026d4-08a1-41d9-8d81-ba4f1bc3f26d",
   "metadata": {
    "execution": {
     "iopub.execute_input": "2025-07-16T17:18:41.840252Z",
     "iopub.status.busy": "2025-07-16T17:18:41.839236Z",
     "iopub.status.idle": "2025-07-16T17:18:41.853109Z",
     "shell.execute_reply": "2025-07-16T17:18:41.852016Z",
     "shell.execute_reply.started": "2025-07-16T17:18:41.840252Z"
    }
   },
   "outputs": [],
   "source": [
    "cleaned_bdims[\"hauteur_des_epaules\"]=0"
   ]
  },
  {
   "cell_type": "code",
   "execution_count": 734,
   "id": "254b1b8d-4e49-4921-a461-898df7f4d3b8",
   "metadata": {
    "execution": {
     "iopub.execute_input": "2025-07-16T17:18:41.856110Z",
     "iopub.status.busy": "2025-07-16T17:18:41.855109Z",
     "iopub.status.idle": "2025-07-16T17:18:41.868630Z",
     "shell.execute_reply": "2025-07-16T17:18:41.867643Z",
     "shell.execute_reply.started": "2025-07-16T17:18:41.856110Z"
    }
   },
   "outputs": [],
   "source": [
    "cleaned_bdims[\"largeur_des_epaules_a_l_horizontales\"]=0"
   ]
  },
  {
   "cell_type": "code",
   "execution_count": 735,
   "id": "36151b92-7ebf-4642-803f-1f344ddd1a4f",
   "metadata": {
    "execution": {
     "iopub.execute_input": "2025-07-16T17:18:41.870628Z",
     "iopub.status.busy": "2025-07-16T17:18:41.869628Z",
     "iopub.status.idle": "2025-07-16T17:18:41.884715Z",
     "shell.execute_reply": "2025-07-16T17:18:41.883700Z",
     "shell.execute_reply.started": "2025-07-16T17:18:41.870628Z"
    }
   },
   "outputs": [],
   "source": [
    "cleaned_bdims[\"longueur_du_côte\"]=0"
   ]
  },
  {
   "cell_type": "code",
   "execution_count": 736,
   "id": "e11767b5-2872-405e-98c1-1a89fe783795",
   "metadata": {
    "execution": {
     "iopub.execute_input": "2025-07-16T17:18:41.886677Z",
     "iopub.status.busy": "2025-07-16T17:18:41.885677Z",
     "iopub.status.idle": "2025-07-16T17:18:41.899896Z",
     "shell.execute_reply": "2025-07-16T17:18:41.898897Z",
     "shell.execute_reply.started": "2025-07-16T17:18:41.886677Z"
    }
   },
   "outputs": [],
   "source": [
    "cleaned_bdims[\"longueur_de_la_colonne_vertebrale_jusqu_au_poignet\"]=0"
   ]
  },
  {
   "cell_type": "code",
   "execution_count": 737,
   "id": "0bfc4a62-19ef-4245-904e-b7c12957b3ff",
   "metadata": {
    "execution": {
     "iopub.execute_input": "2025-07-16T17:18:41.901897Z",
     "iopub.status.busy": "2025-07-16T17:18:41.900897Z",
     "iopub.status.idle": "2025-07-16T17:18:41.915661Z",
     "shell.execute_reply": "2025-07-16T17:18:41.914674Z",
     "shell.execute_reply.started": "2025-07-16T17:18:41.901897Z"
    }
   },
   "outputs": [],
   "source": [
    "cleaned_bdims[\"longueur_du_tronc\"]=0"
   ]
  },
  {
   "cell_type": "code",
   "execution_count": 738,
   "id": "5913a9bc-5896-4883-97b2-b48be3afd5cf",
   "metadata": {
    "execution": {
     "iopub.execute_input": "2025-07-16T17:18:41.917662Z",
     "iopub.status.busy": "2025-07-16T17:18:41.916660Z",
     "iopub.status.idle": "2025-07-16T17:18:41.930042Z",
     "shell.execute_reply": "2025-07-16T17:18:41.930042Z",
     "shell.execute_reply.started": "2025-07-16T17:18:41.917662Z"
    }
   },
   "outputs": [],
   "source": [
    "cleaned_bdims[\"longueur_de_sous_poitrine\"]=0"
   ]
  },
  {
   "cell_type": "code",
   "execution_count": 739,
   "id": "714c7b61-0ad5-475c-9ce8-178339ddd4ea",
   "metadata": {
    "execution": {
     "iopub.execute_input": "2025-07-16T17:18:41.932560Z",
     "iopub.status.busy": "2025-07-16T17:18:41.931549Z",
     "iopub.status.idle": "2025-07-16T17:18:41.947131Z",
     "shell.execute_reply": "2025-07-16T17:18:41.946155Z",
     "shell.execute_reply.started": "2025-07-16T17:18:41.932560Z"
    }
   },
   "outputs": [],
   "source": [
    "cleaned_bdims[\"largeur_de_la_taille\"]=0"
   ]
  },
  {
   "cell_type": "code",
   "execution_count": 740,
   "id": "97ceb0f0-d5ed-44c0-91db-6f5920000c49",
   "metadata": {
    "execution": {
     "iopub.execute_input": "2025-07-16T17:18:41.949133Z",
     "iopub.status.busy": "2025-07-16T17:18:41.948131Z",
     "iopub.status.idle": "2025-07-16T17:18:41.963207Z",
     "shell.execute_reply": "2025-07-16T17:18:41.961665Z",
     "shell.execute_reply.started": "2025-07-16T17:18:41.948131Z"
    }
   },
   "outputs": [],
   "source": [
    "cleaned_bdims[\"hauteur_de_la_taille\"]=0"
   ]
  },
  {
   "cell_type": "code",
   "execution_count": 796,
   "id": "17394238-9ffa-4cc1-9a59-019e2e4725e8",
   "metadata": {
    "execution": {
     "iopub.execute_input": "2025-07-16T17:23:26.499250Z",
     "iopub.status.busy": "2025-07-16T17:23:26.499250Z",
     "iopub.status.idle": "2025-07-16T17:23:26.504767Z",
     "shell.execute_reply": "2025-07-16T17:23:26.503923Z",
     "shell.execute_reply.started": "2025-07-16T17:23:26.499250Z"
    }
   },
   "outputs": [],
   "source": [
    "cleaned_bdims[\"largeur_du_dos\"]=0"
   ]
  },
  {
   "cell_type": "code",
   "execution_count": 797,
   "id": "49a56208-82c1-40a3-afc1-066e693f49b9",
   "metadata": {
    "execution": {
     "iopub.execute_input": "2025-07-16T17:23:29.418545Z",
     "iopub.status.busy": "2025-07-16T17:23:29.418545Z",
     "iopub.status.idle": "2025-07-16T17:23:29.488763Z",
     "shell.execute_reply": "2025-07-16T17:23:29.480216Z",
     "shell.execute_reply.started": "2025-07-16T17:23:29.418545Z"
    }
   },
   "outputs": [
    {
     "data": {
      "text/html": [
       "<div>\n",
       "<style scoped>\n",
       "    .dataframe tbody tr th:only-of-type {\n",
       "        vertical-align: middle;\n",
       "    }\n",
       "\n",
       "    .dataframe tbody tr th {\n",
       "        vertical-align: top;\n",
       "    }\n",
       "\n",
       "    .dataframe thead th {\n",
       "        text-align: right;\n",
       "    }\n",
       "</style>\n",
       "<table border=\"1\" class=\"dataframe\">\n",
       "  <thead>\n",
       "    <tr style=\"text-align: right;\">\n",
       "      <th></th>\n",
       "      <th>taille</th>\n",
       "      <th>age</th>\n",
       "      <th>weight</th>\n",
       "      <th>sex</th>\n",
       "      <th>largeur_d_epaule</th>\n",
       "      <th>largeur_des_hanches</th>\n",
       "      <th>largeur_du_visage</th>\n",
       "      <th>profondeur_de_poitrine</th>\n",
       "      <th>hauteur_de_poitrine</th>\n",
       "      <th>tour_de_coude</th>\n",
       "      <th>...</th>\n",
       "      <th>angle_de_l_epaule</th>\n",
       "      <th>hauteur_des_epaules</th>\n",
       "      <th>largeur_des_epaules_a_l_horizontales</th>\n",
       "      <th>longueur_du_côte</th>\n",
       "      <th>longueur_de_la_colonne_vertebrale_jusqu_au_poignet</th>\n",
       "      <th>longueur_du_tronc</th>\n",
       "      <th>longueur_de_sous_poitrine</th>\n",
       "      <th>largeur_de_la_taille</th>\n",
       "      <th>hauteur_de_la_taille</th>\n",
       "      <th>largeur_du_dos</th>\n",
       "    </tr>\n",
       "  </thead>\n",
       "  <tbody>\n",
       "    <tr>\n",
       "      <th>count</th>\n",
       "      <td>507.000000</td>\n",
       "      <td>507.000000</td>\n",
       "      <td>507.000000</td>\n",
       "      <td>507.000000</td>\n",
       "      <td>507.000000</td>\n",
       "      <td>507.0</td>\n",
       "      <td>507.000000</td>\n",
       "      <td>507.000000</td>\n",
       "      <td>507.0</td>\n",
       "      <td>507.000000</td>\n",
       "      <td>...</td>\n",
       "      <td>507.0</td>\n",
       "      <td>507.0</td>\n",
       "      <td>507.0</td>\n",
       "      <td>507.0</td>\n",
       "      <td>507.0</td>\n",
       "      <td>507.0</td>\n",
       "      <td>507.0</td>\n",
       "      <td>507.0</td>\n",
       "      <td>507.0</td>\n",
       "      <td>507.0</td>\n",
       "    </tr>\n",
       "    <tr>\n",
       "      <th>mean</th>\n",
       "      <td>171.143787</td>\n",
       "      <td>30.181460</td>\n",
       "      <td>69.147535</td>\n",
       "      <td>0.487179</td>\n",
       "      <td>108.195069</td>\n",
       "      <td>0.0</td>\n",
       "      <td>31.980473</td>\n",
       "      <td>19.226036</td>\n",
       "      <td>0.0</td>\n",
       "      <td>13.385207</td>\n",
       "      <td>...</td>\n",
       "      <td>0.0</td>\n",
       "      <td>0.0</td>\n",
       "      <td>0.0</td>\n",
       "      <td>0.0</td>\n",
       "      <td>0.0</td>\n",
       "      <td>0.0</td>\n",
       "      <td>0.0</td>\n",
       "      <td>0.0</td>\n",
       "      <td>0.0</td>\n",
       "      <td>0.0</td>\n",
       "    </tr>\n",
       "    <tr>\n",
       "      <th>std</th>\n",
       "      <td>9.407205</td>\n",
       "      <td>9.608472</td>\n",
       "      <td>13.345762</td>\n",
       "      <td>0.500329</td>\n",
       "      <td>10.374834</td>\n",
       "      <td>0.0</td>\n",
       "      <td>2.030916</td>\n",
       "      <td>2.515877</td>\n",
       "      <td>0.0</td>\n",
       "      <td>1.352906</td>\n",
       "      <td>...</td>\n",
       "      <td>0.0</td>\n",
       "      <td>0.0</td>\n",
       "      <td>0.0</td>\n",
       "      <td>0.0</td>\n",
       "      <td>0.0</td>\n",
       "      <td>0.0</td>\n",
       "      <td>0.0</td>\n",
       "      <td>0.0</td>\n",
       "      <td>0.0</td>\n",
       "      <td>0.0</td>\n",
       "    </tr>\n",
       "    <tr>\n",
       "      <th>min</th>\n",
       "      <td>147.200000</td>\n",
       "      <td>18.000000</td>\n",
       "      <td>42.000000</td>\n",
       "      <td>0.000000</td>\n",
       "      <td>85.900000</td>\n",
       "      <td>0.0</td>\n",
       "      <td>24.700000</td>\n",
       "      <td>14.300000</td>\n",
       "      <td>0.0</td>\n",
       "      <td>9.900000</td>\n",
       "      <td>...</td>\n",
       "      <td>0.0</td>\n",
       "      <td>0.0</td>\n",
       "      <td>0.0</td>\n",
       "      <td>0.0</td>\n",
       "      <td>0.0</td>\n",
       "      <td>0.0</td>\n",
       "      <td>0.0</td>\n",
       "      <td>0.0</td>\n",
       "      <td>0.0</td>\n",
       "      <td>0.0</td>\n",
       "    </tr>\n",
       "    <tr>\n",
       "      <th>25%</th>\n",
       "      <td>163.800000</td>\n",
       "      <td>23.000000</td>\n",
       "      <td>58.400000</td>\n",
       "      <td>0.000000</td>\n",
       "      <td>99.450000</td>\n",
       "      <td>0.0</td>\n",
       "      <td>30.600000</td>\n",
       "      <td>17.300000</td>\n",
       "      <td>0.0</td>\n",
       "      <td>12.400000</td>\n",
       "      <td>...</td>\n",
       "      <td>0.0</td>\n",
       "      <td>0.0</td>\n",
       "      <td>0.0</td>\n",
       "      <td>0.0</td>\n",
       "      <td>0.0</td>\n",
       "      <td>0.0</td>\n",
       "      <td>0.0</td>\n",
       "      <td>0.0</td>\n",
       "      <td>0.0</td>\n",
       "      <td>0.0</td>\n",
       "    </tr>\n",
       "    <tr>\n",
       "      <th>50%</th>\n",
       "      <td>170.300000</td>\n",
       "      <td>27.000000</td>\n",
       "      <td>68.200000</td>\n",
       "      <td>0.000000</td>\n",
       "      <td>108.200000</td>\n",
       "      <td>0.0</td>\n",
       "      <td>32.000000</td>\n",
       "      <td>19.000000</td>\n",
       "      <td>0.0</td>\n",
       "      <td>13.300000</td>\n",
       "      <td>...</td>\n",
       "      <td>0.0</td>\n",
       "      <td>0.0</td>\n",
       "      <td>0.0</td>\n",
       "      <td>0.0</td>\n",
       "      <td>0.0</td>\n",
       "      <td>0.0</td>\n",
       "      <td>0.0</td>\n",
       "      <td>0.0</td>\n",
       "      <td>0.0</td>\n",
       "      <td>0.0</td>\n",
       "    </tr>\n",
       "    <tr>\n",
       "      <th>75%</th>\n",
       "      <td>177.800000</td>\n",
       "      <td>36.000000</td>\n",
       "      <td>78.850000</td>\n",
       "      <td>1.000000</td>\n",
       "      <td>116.550000</td>\n",
       "      <td>0.0</td>\n",
       "      <td>33.350000</td>\n",
       "      <td>20.900000</td>\n",
       "      <td>0.0</td>\n",
       "      <td>14.400000</td>\n",
       "      <td>...</td>\n",
       "      <td>0.0</td>\n",
       "      <td>0.0</td>\n",
       "      <td>0.0</td>\n",
       "      <td>0.0</td>\n",
       "      <td>0.0</td>\n",
       "      <td>0.0</td>\n",
       "      <td>0.0</td>\n",
       "      <td>0.0</td>\n",
       "      <td>0.0</td>\n",
       "      <td>0.0</td>\n",
       "    </tr>\n",
       "    <tr>\n",
       "      <th>max</th>\n",
       "      <td>198.100000</td>\n",
       "      <td>67.000000</td>\n",
       "      <td>116.400000</td>\n",
       "      <td>1.000000</td>\n",
       "      <td>134.800000</td>\n",
       "      <td>0.0</td>\n",
       "      <td>38.000000</td>\n",
       "      <td>27.500000</td>\n",
       "      <td>0.0</td>\n",
       "      <td>16.700000</td>\n",
       "      <td>...</td>\n",
       "      <td>0.0</td>\n",
       "      <td>0.0</td>\n",
       "      <td>0.0</td>\n",
       "      <td>0.0</td>\n",
       "      <td>0.0</td>\n",
       "      <td>0.0</td>\n",
       "      <td>0.0</td>\n",
       "      <td>0.0</td>\n",
       "      <td>0.0</td>\n",
       "      <td>0.0</td>\n",
       "    </tr>\n",
       "  </tbody>\n",
       "</table>\n",
       "<p>8 rows × 42 columns</p>\n",
       "</div>"
      ],
      "text/plain": [
       "           taille         age      weight         sex  largeur_d_epaule  \\\n",
       "count  507.000000  507.000000  507.000000  507.000000        507.000000   \n",
       "mean   171.143787   30.181460   69.147535    0.487179        108.195069   \n",
       "std      9.407205    9.608472   13.345762    0.500329         10.374834   \n",
       "min    147.200000   18.000000   42.000000    0.000000         85.900000   \n",
       "25%    163.800000   23.000000   58.400000    0.000000         99.450000   \n",
       "50%    170.300000   27.000000   68.200000    0.000000        108.200000   \n",
       "75%    177.800000   36.000000   78.850000    1.000000        116.550000   \n",
       "max    198.100000   67.000000  116.400000    1.000000        134.800000   \n",
       "\n",
       "       largeur_des_hanches  largeur_du_visage  profondeur_de_poitrine  \\\n",
       "count                507.0         507.000000              507.000000   \n",
       "mean                   0.0          31.980473               19.226036   \n",
       "std                    0.0           2.030916                2.515877   \n",
       "min                    0.0          24.700000               14.300000   \n",
       "25%                    0.0          30.600000               17.300000   \n",
       "50%                    0.0          32.000000               19.000000   \n",
       "75%                    0.0          33.350000               20.900000   \n",
       "max                    0.0          38.000000               27.500000   \n",
       "\n",
       "       hauteur_de_poitrine  tour_de_coude  ...  angle_de_l_epaule  \\\n",
       "count                507.0     507.000000  ...              507.0   \n",
       "mean                   0.0      13.385207  ...                0.0   \n",
       "std                    0.0       1.352906  ...                0.0   \n",
       "min                    0.0       9.900000  ...                0.0   \n",
       "25%                    0.0      12.400000  ...                0.0   \n",
       "50%                    0.0      13.300000  ...                0.0   \n",
       "75%                    0.0      14.400000  ...                0.0   \n",
       "max                    0.0      16.700000  ...                0.0   \n",
       "\n",
       "       hauteur_des_epaules  largeur_des_epaules_a_l_horizontales  \\\n",
       "count                507.0                                 507.0   \n",
       "mean                   0.0                                   0.0   \n",
       "std                    0.0                                   0.0   \n",
       "min                    0.0                                   0.0   \n",
       "25%                    0.0                                   0.0   \n",
       "50%                    0.0                                   0.0   \n",
       "75%                    0.0                                   0.0   \n",
       "max                    0.0                                   0.0   \n",
       "\n",
       "       longueur_du_côte  longueur_de_la_colonne_vertebrale_jusqu_au_poignet  \\\n",
       "count             507.0                                              507.0    \n",
       "mean                0.0                                                0.0    \n",
       "std                 0.0                                                0.0    \n",
       "min                 0.0                                                0.0    \n",
       "25%                 0.0                                                0.0    \n",
       "50%                 0.0                                                0.0    \n",
       "75%                 0.0                                                0.0    \n",
       "max                 0.0                                                0.0    \n",
       "\n",
       "       longueur_du_tronc  longueur_de_sous_poitrine  largeur_de_la_taille  \\\n",
       "count              507.0                      507.0                 507.0   \n",
       "mean                 0.0                        0.0                   0.0   \n",
       "std                  0.0                        0.0                   0.0   \n",
       "min                  0.0                        0.0                   0.0   \n",
       "25%                  0.0                        0.0                   0.0   \n",
       "50%                  0.0                        0.0                   0.0   \n",
       "75%                  0.0                        0.0                   0.0   \n",
       "max                  0.0                        0.0                   0.0   \n",
       "\n",
       "       hauteur_de_la_taille  largeur_du_dos  \n",
       "count                 507.0           507.0  \n",
       "mean                    0.0             0.0  \n",
       "std                     0.0             0.0  \n",
       "min                     0.0             0.0  \n",
       "25%                     0.0             0.0  \n",
       "50%                     0.0             0.0  \n",
       "75%                     0.0             0.0  \n",
       "max                     0.0             0.0  \n",
       "\n",
       "[8 rows x 42 columns]"
      ]
     },
     "execution_count": 797,
     "metadata": {},
     "output_type": "execute_result"
    }
   ],
   "source": [
    "cleaned_bdims.describe()"
   ]
  },
  {
   "cell_type": "code",
   "execution_count": 798,
   "id": "26a6adf3-37d0-4bc8-8e34-2cc2f7607230",
   "metadata": {
    "execution": {
     "iopub.execute_input": "2025-07-16T17:23:33.617156Z",
     "iopub.status.busy": "2025-07-16T17:23:33.616164Z",
     "iopub.status.idle": "2025-07-16T17:23:33.638671Z",
     "shell.execute_reply": "2025-07-16T17:23:33.637784Z",
     "shell.execute_reply.started": "2025-07-16T17:23:33.617156Z"
    }
   },
   "outputs": [
    {
     "data": {
      "text/plain": [
       "Index(['taille', 'age', 'weight', 'sex', 'largeur_d_epaule',\n",
       "       'largeur_des_hanches', 'largeur_du_visage', 'profondeur_de_poitrine',\n",
       "       'hauteur_de_poitrine', 'tour_de_coude', 'tour_de_poignet',\n",
       "       'hauteur_des_genoux', 'tour_de_cheville', 'tour_de_poitrine',\n",
       "       'tour_de_taille', 'tour_de_ventre_maximal', 'tour_de_hanches_haut',\n",
       "       'tour_de_cuisse', 'tour_de_biceps', 'tour_d_avant_bras',\n",
       "       'tour_de_genou', 'tour_de_mollet', 'longueur_du_bras',\n",
       "       'profondeur_des_aisselles', 'longueur_du_dos',\n",
       "       'tour_de_poitrine_mesure_a_la_main', 'hauteur_d_entrejambe',\n",
       "       'longueur_avant', 'tour_de_tête', 'hauteur_des_hanches', 'tour_du_cou',\n",
       "       'longueur_du_cou_au_genou', 'angle_de_l_epaule', 'hauteur_des_epaules',\n",
       "       'largeur_des_epaules_a_l_horizontales', 'longueur_du_côte',\n",
       "       'longueur_de_la_colonne_vertebrale_jusqu_au_poignet',\n",
       "       'longueur_du_tronc', 'longueur_de_sous_poitrine',\n",
       "       'largeur_de_la_taille', 'hauteur_de_la_taille', 'largeur_du_dos'],\n",
       "      dtype='object')"
      ]
     },
     "execution_count": 798,
     "metadata": {},
     "output_type": "execute_result"
    }
   ],
   "source": [
    "cleaned_bdims.columns"
   ]
  },
  {
   "cell_type": "code",
   "execution_count": 743,
   "id": "26f61b25-f9d4-4dac-9f33-e0b3c66fd736",
   "metadata": {
    "execution": {
     "iopub.execute_input": "2025-07-16T17:18:42.060635Z",
     "iopub.status.busy": "2025-07-16T17:18:42.059632Z",
     "iopub.status.idle": "2025-07-16T17:18:42.118517Z",
     "shell.execute_reply": "2025-07-16T17:18:42.117531Z",
     "shell.execute_reply.started": "2025-07-16T17:18:42.060635Z"
    }
   },
   "outputs": [],
   "source": [
    "caesar_df=pd.read_csv('data/caesar.csv', encoding='cp1252', sep=';')\n",
    "cleaned_caesar=pd.DataFrame()"
   ]
  },
  {
   "cell_type": "code",
   "execution_count": 744,
   "id": "5d7af21f-bd69-4771-9a78-78613786b901",
   "metadata": {
    "execution": {
     "iopub.execute_input": "2025-07-16T17:18:42.119516Z",
     "iopub.status.busy": "2025-07-16T17:18:42.118517Z",
     "iopub.status.idle": "2025-07-16T17:18:42.134565Z",
     "shell.execute_reply": "2025-07-16T17:18:42.132564Z",
     "shell.execute_reply.started": "2025-07-16T17:18:42.119516Z"
    }
   },
   "outputs": [],
   "source": [
    "cleaned_caesar[\"taille\"]=caesar_df[\"height\"]*2.54"
   ]
  },
  {
   "cell_type": "code",
   "execution_count": 745,
   "id": "c5d73f93-e366-4aff-84c3-99e1b577f820",
   "metadata": {
    "execution": {
     "iopub.execute_input": "2025-07-16T17:18:42.136566Z",
     "iopub.status.busy": "2025-07-16T17:18:42.136566Z",
     "iopub.status.idle": "2025-07-16T17:18:42.150090Z",
     "shell.execute_reply": "2025-07-16T17:18:42.148090Z",
     "shell.execute_reply.started": "2025-07-16T17:18:42.136566Z"
    }
   },
   "outputs": [],
   "source": [
    "cleaned_caesar[\"age\"]=caesar_df[\"age\"]"
   ]
  },
  {
   "cell_type": "code",
   "execution_count": 746,
   "id": "eaf2e94b-49d0-46f3-9696-1f67e3443ce9",
   "metadata": {
    "execution": {
     "iopub.execute_input": "2025-07-16T17:18:42.151606Z",
     "iopub.status.busy": "2025-07-16T17:18:42.151606Z",
     "iopub.status.idle": "2025-07-16T17:18:42.164862Z",
     "shell.execute_reply": "2025-07-16T17:18:42.163865Z",
     "shell.execute_reply.started": "2025-07-16T17:18:42.151606Z"
    }
   },
   "outputs": [],
   "source": [
    "cleaned_caesar[\"weight\"]=caesar_df[\"weight\"]*0.453592"
   ]
  },
  {
   "cell_type": "code",
   "execution_count": 747,
   "id": "00b97c00-7751-43ca-90c0-f4008a0e5683",
   "metadata": {
    "execution": {
     "iopub.execute_input": "2025-07-16T17:18:42.166865Z",
     "iopub.status.busy": "2025-07-16T17:18:42.166865Z",
     "iopub.status.idle": "2025-07-16T17:18:42.179992Z",
     "shell.execute_reply": "2025-07-16T17:18:42.178994Z",
     "shell.execute_reply.started": "2025-07-16T17:18:42.166865Z"
    }
   },
   "outputs": [],
   "source": [
    "caesar_df[\"gender\"] = caesar_df[\"gender\"].map({\"male\": 1, \"female\": 0})"
   ]
  },
  {
   "cell_type": "code",
   "execution_count": 748,
   "id": "5103f698-d6b8-456f-b191-12b5fad169e4",
   "metadata": {
    "execution": {
     "iopub.execute_input": "2025-07-16T17:18:42.183511Z",
     "iopub.status.busy": "2025-07-16T17:18:42.182511Z",
     "iopub.status.idle": "2025-07-16T17:18:42.196154Z",
     "shell.execute_reply": "2025-07-16T17:18:42.194151Z",
     "shell.execute_reply.started": "2025-07-16T17:18:42.183511Z"
    }
   },
   "outputs": [],
   "source": [
    "cleaned_caesar[\"sex\"]=caesar_df[\"gender\"]"
   ]
  },
  {
   "cell_type": "code",
   "execution_count": 749,
   "id": "2dfb8588-f224-4208-9e88-b4581ed52ad8",
   "metadata": {
    "execution": {
     "iopub.execute_input": "2025-07-16T17:18:42.197153Z",
     "iopub.status.busy": "2025-07-16T17:18:42.197153Z",
     "iopub.status.idle": "2025-07-16T17:18:42.211669Z",
     "shell.execute_reply": "2025-07-16T17:18:42.209674Z",
     "shell.execute_reply.started": "2025-07-16T17:18:42.197153Z"
    }
   },
   "outputs": [],
   "source": [
    "cleaned_caesar[\"tour_de_cheville\"]=caesar_df[\"ankle_circum\"]*2.54"
   ]
  },
  {
   "cell_type": "code",
   "execution_count": 750,
   "id": "9fbf008a-e1c9-423c-8135-c25fa1b8121f",
   "metadata": {
    "execution": {
     "iopub.execute_input": "2025-07-16T17:18:42.213811Z",
     "iopub.status.busy": "2025-07-16T17:18:42.212791Z",
     "iopub.status.idle": "2025-07-16T17:18:42.228323Z",
     "shell.execute_reply": "2025-07-16T17:18:42.225324Z",
     "shell.execute_reply.started": "2025-07-16T17:18:42.213811Z"
    }
   },
   "outputs": [],
   "source": [
    "cleaned_caesar[\"longueur_du_bras\"]=caesar_df[\"arm_len_shoulder_wrist\"]*2.54"
   ]
  },
  {
   "cell_type": "code",
   "execution_count": 751,
   "id": "b4545024-e22c-41ca-b326-a82cafdd99be",
   "metadata": {
    "execution": {
     "iopub.execute_input": "2025-07-16T17:18:42.230325Z",
     "iopub.status.busy": "2025-07-16T17:18:42.229323Z",
     "iopub.status.idle": "2025-07-16T17:18:42.244310Z",
     "shell.execute_reply": "2025-07-16T17:18:42.240845Z",
     "shell.execute_reply.started": "2025-07-16T17:18:42.230325Z"
    }
   },
   "outputs": [],
   "source": [
    "cleaned_caesar[\"largeur_du_dos\"]=caesar_df[\"biacromial_breadth\"]*2.54"
   ]
  },
  {
   "cell_type": "code",
   "execution_count": 752,
   "id": "df045831-c16b-4754-b3ca-f4fb373997f6",
   "metadata": {
    "execution": {
     "iopub.execute_input": "2025-07-16T17:18:42.246313Z",
     "iopub.status.busy": "2025-07-16T17:18:42.245309Z",
     "iopub.status.idle": "2025-07-16T17:18:42.257848Z",
     "shell.execute_reply": "2025-07-16T17:18:42.256844Z",
     "shell.execute_reply.started": "2025-07-16T17:18:42.245309Z"
    }
   },
   "outputs": [],
   "source": [
    "cleaned_caesar[\"tour_de_ventre_maximal\"]=caesar_df[\"waist_circum_preferred\"]*2.54"
   ]
  },
  {
   "cell_type": "code",
   "execution_count": 753,
   "id": "e3b9aa15-04a0-4510-af7c-c4e7083ff161",
   "metadata": {
    "execution": {
     "iopub.execute_input": "2025-07-16T17:18:42.260843Z",
     "iopub.status.busy": "2025-07-16T17:18:42.259845Z",
     "iopub.status.idle": "2025-07-16T17:18:42.274824Z",
     "shell.execute_reply": "2025-07-16T17:18:42.272811Z",
     "shell.execute_reply.started": "2025-07-16T17:18:42.260843Z"
    }
   },
   "outputs": [],
   "source": [
    "cleaned_caesar[\"tour_de_poitrine\"]=caesar_df[\"chest_circum\"]*2.54"
   ]
  },
  {
   "cell_type": "code",
   "execution_count": 754,
   "id": "31a5c6e3-e848-4e7e-ad76-d36867f00fb8",
   "metadata": {
    "execution": {
     "iopub.execute_input": "2025-07-16T17:18:42.276822Z",
     "iopub.status.busy": "2025-07-16T17:18:42.276822Z",
     "iopub.status.idle": "2025-07-16T17:18:42.290354Z",
     "shell.execute_reply": "2025-07-16T17:18:42.288353Z",
     "shell.execute_reply.started": "2025-07-16T17:18:42.276822Z"
    }
   },
   "outputs": [],
   "source": [
    "cleaned_caesar[\"tour_de_poitrine_mesure_a_la_main\"]=caesar_df[\"bra_size_chest\"]*2.54"
   ]
  },
  {
   "cell_type": "code",
   "execution_count": 755,
   "id": "95c239d9-53b6-46c8-aa24-81872f91ed8a",
   "metadata": {
    "execution": {
     "iopub.execute_input": "2025-07-16T17:18:42.292874Z",
     "iopub.status.busy": "2025-07-16T17:18:42.291865Z",
     "iopub.status.idle": "2025-07-16T17:18:42.305953Z",
     "shell.execute_reply": "2025-07-16T17:18:42.303943Z",
     "shell.execute_reply.started": "2025-07-16T17:18:42.292874Z"
    }
   },
   "outputs": [],
   "source": [
    "cleaned_caesar[\"hauteur_de_poitrine\"]=caesar_df[\"chest_height\"]*2.54"
   ]
  },
  {
   "cell_type": "code",
   "execution_count": 756,
   "id": "46e8bed0-7256-473e-9eca-d4ead3980e99",
   "metadata": {
    "execution": {
     "iopub.execute_input": "2025-07-16T17:18:42.307954Z",
     "iopub.status.busy": "2025-07-16T17:18:42.307954Z",
     "iopub.status.idle": "2025-07-16T17:18:42.321479Z",
     "shell.execute_reply": "2025-07-16T17:18:42.319471Z",
     "shell.execute_reply.started": "2025-07-16T17:18:42.307954Z"
    }
   },
   "outputs": [],
   "source": [
    "cleaned_caesar[\"hauteur_d_entrejambe\"]=caesar_df[\"jean_inseam\"]*2.54"
   ]
  },
  {
   "cell_type": "code",
   "execution_count": 757,
   "id": "de7da753-687c-4c40-a7ca-9aaa7ea4c6a3",
   "metadata": {
    "execution": {
     "iopub.execute_input": "2025-07-16T17:18:42.324800Z",
     "iopub.status.busy": "2025-07-16T17:18:42.323790Z",
     "iopub.status.idle": "2025-07-16T17:18:42.336116Z",
     "shell.execute_reply": "2025-07-16T17:18:42.335114Z",
     "shell.execute_reply.started": "2025-07-16T17:18:42.323790Z"
    }
   },
   "outputs": [],
   "source": [
    "cleaned_caesar[\"longueur_avant\"]=caesar_df[\"radial_stylion_len\"]*2.54"
   ]
  },
  {
   "cell_type": "code",
   "execution_count": 758,
   "id": "6bb440af-3004-49f7-92f1-06cadbf95cee",
   "metadata": {
    "execution": {
     "iopub.execute_input": "2025-07-16T17:18:42.339116Z",
     "iopub.status.busy": "2025-07-16T17:18:42.338118Z",
     "iopub.status.idle": "2025-07-16T17:18:42.353745Z",
     "shell.execute_reply": "2025-07-16T17:18:42.351730Z",
     "shell.execute_reply.started": "2025-07-16T17:18:42.339116Z"
    }
   },
   "outputs": [],
   "source": [
    "cleaned_caesar[\"largeur_des_hanches\"]=caesar_df[\"bideltoid_breadth\"]*2.54"
   ]
  },
  {
   "cell_type": "code",
   "execution_count": 759,
   "id": "6b4a7c03-649b-43a0-8ee4-654dbeb91517",
   "metadata": {
    "execution": {
     "iopub.execute_input": "2025-07-16T17:18:42.355750Z",
     "iopub.status.busy": "2025-07-16T17:18:42.354750Z",
     "iopub.status.idle": "2025-07-16T17:18:42.368827Z",
     "shell.execute_reply": "2025-07-16T17:18:42.367827Z",
     "shell.execute_reply.started": "2025-07-16T17:18:42.355750Z"
    }
   },
   "outputs": [],
   "source": [
    "cleaned_caesar[\"hauteur_des_hanches\"]=caesar_df[\"hip_height\"]*2.54"
   ]
  },
  {
   "cell_type": "code",
   "execution_count": 760,
   "id": "673af7aa-cc32-4bc2-aec7-f51ea9262e09",
   "metadata": {
    "execution": {
     "iopub.execute_input": "2025-07-16T17:18:42.370827Z",
     "iopub.status.busy": "2025-07-16T17:18:42.370827Z",
     "iopub.status.idle": "2025-07-16T17:18:42.385880Z",
     "shell.execute_reply": "2025-07-16T17:18:42.383880Z",
     "shell.execute_reply.started": "2025-07-16T17:18:42.370827Z"
    }
   },
   "outputs": [],
   "source": [
    "cleaned_caesar[\"hauteur_des_genoux\"]=caesar_df[\"knee_height\"]*2.54"
   ]
  },
  {
   "cell_type": "code",
   "execution_count": 761,
   "id": "b00f834b-f3a0-4eee-82bd-34fc6dcbf522",
   "metadata": {
    "execution": {
     "iopub.execute_input": "2025-07-16T17:18:42.387880Z",
     "iopub.status.busy": "2025-07-16T17:18:42.386879Z",
     "iopub.status.idle": "2025-07-16T17:18:42.401454Z",
     "shell.execute_reply": "2025-07-16T17:18:42.399944Z",
     "shell.execute_reply.started": "2025-07-16T17:18:42.387880Z"
    }
   },
   "outputs": [],
   "source": [
    "cleaned_caesar[\"tour_du_cou\"]=caesar_df[\"neck_circum_base\"]*2.54"
   ]
  },
  {
   "cell_type": "code",
   "execution_count": 762,
   "id": "c5c55ab8-b534-4923-919f-53724ff71ac0",
   "metadata": {
    "execution": {
     "iopub.execute_input": "2025-07-16T17:18:42.402465Z",
     "iopub.status.busy": "2025-07-16T17:18:42.402465Z",
     "iopub.status.idle": "2025-07-16T17:18:42.416523Z",
     "shell.execute_reply": "2025-07-16T17:18:42.415520Z",
     "shell.execute_reply.started": "2025-07-16T17:18:42.402465Z"
    }
   },
   "outputs": [],
   "source": [
    "cleaned_caesar[\"largeur_d_epaule\"]=caesar_df[\"biacromial_breadth\"]*2.54"
   ]
  },
  {
   "cell_type": "code",
   "execution_count": 763,
   "id": "46b466ed-2c45-4334-aeba-9e83f5d3aba3",
   "metadata": {
    "execution": {
     "iopub.execute_input": "2025-07-16T17:18:42.418520Z",
     "iopub.status.busy": "2025-07-16T17:18:42.418520Z",
     "iopub.status.idle": "2025-07-16T17:18:42.433577Z",
     "shell.execute_reply": "2025-07-16T17:18:42.431567Z",
     "shell.execute_reply.started": "2025-07-16T17:18:42.418520Z"
    }
   },
   "outputs": [],
   "source": [
    "cleaned_caesar[\"hauteur_des_epaules\"]=caesar_df[\"acromion_height\"]*2.54"
   ]
  },
  {
   "cell_type": "code",
   "execution_count": 764,
   "id": "c9d74c52-50ab-4acd-984c-69bff6039e4c",
   "metadata": {
    "execution": {
     "iopub.execute_input": "2025-07-16T17:18:42.435586Z",
     "iopub.status.busy": "2025-07-16T17:18:42.434585Z",
     "iopub.status.idle": "2025-07-16T17:18:42.448894Z",
     "shell.execute_reply": "2025-07-16T17:18:42.447196Z",
     "shell.execute_reply.started": "2025-07-16T17:18:42.435586Z"
    }
   },
   "outputs": [],
   "source": [
    "cleaned_caesar[\"largeur_des_epaules_a_l_horizontales\"]=caesar_df[\"bideltoid_breadth\"]*2.54"
   ]
  },
  {
   "cell_type": "code",
   "execution_count": 765,
   "id": "ebd69ea7-11b6-41b3-86f3-d5f0b18f5e11",
   "metadata": {
    "execution": {
     "iopub.execute_input": "2025-07-16T17:18:42.450404Z",
     "iopub.status.busy": "2025-07-16T17:18:42.450404Z",
     "iopub.status.idle": "2025-07-16T17:18:42.464473Z",
     "shell.execute_reply": "2025-07-16T17:18:42.462475Z",
     "shell.execute_reply.started": "2025-07-16T17:18:42.450404Z"
    }
   },
   "outputs": [],
   "source": [
    "cleaned_caesar[\"longueur_de_la_colonne_vertebrale_jusqu_au_poignet\"]=caesar_df[\"arm_len_spine_wrist\"]*2.54"
   ]
  },
  {
   "cell_type": "code",
   "execution_count": 766,
   "id": "cd3dfcdf-af4a-4a8c-bf2d-aaec673f4065",
   "metadata": {
    "execution": {
     "iopub.execute_input": "2025-07-16T17:18:42.466474Z",
     "iopub.status.busy": "2025-07-16T17:18:42.465472Z",
     "iopub.status.idle": "2025-07-16T17:18:42.478632Z",
     "shell.execute_reply": "2025-07-16T17:18:42.477638Z",
     "shell.execute_reply.started": "2025-07-16T17:18:42.466474Z"
    }
   },
   "outputs": [],
   "source": [
    "cleaned_caesar[\"tour_de_cuisse\"]=caesar_df[\"thigh_circum_proximal\"]*2.54"
   ]
  },
  {
   "cell_type": "code",
   "execution_count": 767,
   "id": "c72122cc-254c-4ab7-9016-605edd431b98",
   "metadata": {
    "execution": {
     "iopub.execute_input": "2025-07-16T17:18:42.481635Z",
     "iopub.status.busy": "2025-07-16T17:18:42.480632Z",
     "iopub.status.idle": "2025-07-16T17:18:42.494260Z",
     "shell.execute_reply": "2025-07-16T17:18:42.493257Z",
     "shell.execute_reply.started": "2025-07-16T17:18:42.481635Z"
    }
   },
   "outputs": [],
   "source": [
    "cleaned_caesar[\"tour_de_taille\"]=caesar_df[\"waist_circum_preferred\"]*2.54"
   ]
  },
  {
   "cell_type": "code",
   "execution_count": 768,
   "id": "12aec337-90c2-4940-8dd6-4bca7b494b85",
   "metadata": {
    "execution": {
     "iopub.execute_input": "2025-07-16T17:18:42.497259Z",
     "iopub.status.busy": "2025-07-16T17:18:42.496260Z",
     "iopub.status.idle": "2025-07-16T17:18:42.510782Z",
     "shell.execute_reply": "2025-07-16T17:18:42.508782Z",
     "shell.execute_reply.started": "2025-07-16T17:18:42.497259Z"
    }
   },
   "outputs": [],
   "source": [
    "cleaned_caesar[\"hauteur_de_la_taille\"]=caesar_df[\"waist_height_preferred\"]*2.54"
   ]
  },
  {
   "cell_type": "code",
   "execution_count": 769,
   "id": "cd54426b-8bb1-4c4d-8428-7c34fb44c241",
   "metadata": {
    "execution": {
     "iopub.execute_input": "2025-07-16T17:18:42.512850Z",
     "iopub.status.busy": "2025-07-16T17:18:42.511782Z",
     "iopub.status.idle": "2025-07-16T17:18:42.524958Z",
     "shell.execute_reply": "2025-07-16T17:18:42.523956Z",
     "shell.execute_reply.started": "2025-07-16T17:18:42.512850Z"
    }
   },
   "outputs": [],
   "source": [
    "cleaned_caesar[\"profondeur_des_aisselles\"]=0"
   ]
  },
  {
   "cell_type": "code",
   "execution_count": 770,
   "id": "c7f9cd31-0cec-4b82-9d75-17fcf2d152e6",
   "metadata": {
    "execution": {
     "iopub.execute_input": "2025-07-16T17:18:42.526957Z",
     "iopub.status.busy": "2025-07-16T17:18:42.526957Z",
     "iopub.status.idle": "2025-07-16T17:18:42.541490Z",
     "shell.execute_reply": "2025-07-16T17:18:42.539488Z",
     "shell.execute_reply.started": "2025-07-16T17:18:42.526957Z"
    }
   },
   "outputs": [],
   "source": [
    "cleaned_caesar[\"longueur_du_dos\"]=0"
   ]
  },
  {
   "cell_type": "code",
   "execution_count": 771,
   "id": "29276b45-6996-4883-93b1-751e32d787e7",
   "metadata": {
    "execution": {
     "iopub.execute_input": "2025-07-16T17:18:42.542831Z",
     "iopub.status.busy": "2025-07-16T17:18:42.541490Z",
     "iopub.status.idle": "2025-07-16T17:18:42.556888Z",
     "shell.execute_reply": "2025-07-16T17:18:42.554891Z",
     "shell.execute_reply.started": "2025-07-16T17:18:42.542831Z"
    }
   },
   "outputs": [],
   "source": [
    "cleaned_caesar[\"tour_de_biceps\"]=0"
   ]
  },
  {
   "cell_type": "code",
   "execution_count": 772,
   "id": "9dc9aefd-1149-4d69-8bea-17ab915c00fc",
   "metadata": {
    "execution": {
     "iopub.execute_input": "2025-07-16T17:18:42.557889Z",
     "iopub.status.busy": "2025-07-16T17:18:42.557889Z",
     "iopub.status.idle": "2025-07-16T17:18:42.571623Z",
     "shell.execute_reply": "2025-07-16T17:18:42.570114Z",
     "shell.execute_reply.started": "2025-07-16T17:18:42.557889Z"
    }
   },
   "outputs": [],
   "source": [
    "cleaned_caesar[\"tour_de_mollet\"]=0"
   ]
  },
  {
   "cell_type": "code",
   "execution_count": 773,
   "id": "69100642-d553-4bb9-88e0-3620a6b53e5f",
   "metadata": {
    "execution": {
     "iopub.execute_input": "2025-07-16T17:18:42.573636Z",
     "iopub.status.busy": "2025-07-16T17:18:42.572633Z",
     "iopub.status.idle": "2025-07-16T17:18:42.586718Z",
     "shell.execute_reply": "2025-07-16T17:18:42.585718Z",
     "shell.execute_reply.started": "2025-07-16T17:18:42.573636Z"
    }
   },
   "outputs": [],
   "source": [
    "cleaned_caesar[\"tour_de_coude\"]=0"
   ]
  },
  {
   "cell_type": "code",
   "execution_count": 774,
   "id": "f8cee990-244a-443f-8e0c-0866cf96bca2",
   "metadata": {
    "execution": {
     "iopub.execute_input": "2025-07-16T17:18:42.588718Z",
     "iopub.status.busy": "2025-07-16T17:18:42.588718Z",
     "iopub.status.idle": "2025-07-16T17:18:42.602533Z",
     "shell.execute_reply": "2025-07-16T17:18:42.601010Z",
     "shell.execute_reply.started": "2025-07-16T17:18:42.588718Z"
    }
   },
   "outputs": [],
   "source": [
    "cleaned_caesar[\"tour_d_avant_bras\"]=0"
   ]
  },
  {
   "cell_type": "code",
   "execution_count": 775,
   "id": "f343ae0b-f666-49ad-80ab-f1e4eb045984",
   "metadata": {
    "execution": {
     "iopub.execute_input": "2025-07-16T17:18:42.605528Z",
     "iopub.status.busy": "2025-07-16T17:18:42.604531Z",
     "iopub.status.idle": "2025-07-16T17:18:42.617764Z",
     "shell.execute_reply": "2025-07-16T17:18:42.616764Z",
     "shell.execute_reply.started": "2025-07-16T17:18:42.605528Z"
    }
   },
   "outputs": [],
   "source": [
    "cleaned_caesar[\"tour_de_tête\"]=0"
   ]
  },
  {
   "cell_type": "code",
   "execution_count": 776,
   "id": "8c6e43f5-8ddd-41d7-8ef2-c284e13f43ed",
   "metadata": {
    "execution": {
     "iopub.execute_input": "2025-07-16T17:18:42.619764Z",
     "iopub.status.busy": "2025-07-16T17:18:42.619764Z",
     "iopub.status.idle": "2025-07-16T17:18:42.633496Z",
     "shell.execute_reply": "2025-07-16T17:18:42.632487Z",
     "shell.execute_reply.started": "2025-07-16T17:18:42.619764Z"
    }
   },
   "outputs": [],
   "source": [
    "cleaned_caesar[\"tour_de_hanches_haut\"]=0"
   ]
  },
  {
   "cell_type": "code",
   "execution_count": 777,
   "id": "9c4a3bc9-8fb8-4743-8831-aec2c8ed2323",
   "metadata": {
    "execution": {
     "iopub.execute_input": "2025-07-16T17:18:42.635467Z",
     "iopub.status.busy": "2025-07-16T17:18:42.634466Z",
     "iopub.status.idle": "2025-07-16T17:18:42.648785Z",
     "shell.execute_reply": "2025-07-16T17:18:42.647805Z",
     "shell.execute_reply.started": "2025-07-16T17:18:42.635467Z"
    }
   },
   "outputs": [],
   "source": [
    "cleaned_caesar[\"tour_de_genou\"]=0"
   ]
  },
  {
   "cell_type": "code",
   "execution_count": 778,
   "id": "53f2af48-97e6-4c31-8f71-6590d26683da",
   "metadata": {
    "execution": {
     "iopub.execute_input": "2025-07-16T17:18:42.650294Z",
     "iopub.status.busy": "2025-07-16T17:18:42.648785Z",
     "iopub.status.idle": "2025-07-16T17:18:42.664068Z",
     "shell.execute_reply": "2025-07-16T17:18:42.663066Z",
     "shell.execute_reply.started": "2025-07-16T17:18:42.650294Z"
    }
   },
   "outputs": [],
   "source": [
    "cleaned_caesar[\"longueur_du_cou_au_genou\"]=0"
   ]
  },
  {
   "cell_type": "code",
   "execution_count": 779,
   "id": "238b10a7-72d1-4c28-ae8d-5eb3f762a08f",
   "metadata": {
    "execution": {
     "iopub.execute_input": "2025-07-16T17:18:42.666067Z",
     "iopub.status.busy": "2025-07-16T17:18:42.666067Z",
     "iopub.status.idle": "2025-07-16T17:18:42.680592Z",
     "shell.execute_reply": "2025-07-16T17:18:42.678594Z",
     "shell.execute_reply.started": "2025-07-16T17:18:42.666067Z"
    }
   },
   "outputs": [],
   "source": [
    "cleaned_caesar[\"angle_de_l_epaule\"]=0"
   ]
  },
  {
   "cell_type": "code",
   "execution_count": 780,
   "id": "45ca6383-d9cb-4283-84f2-553a842df00f",
   "metadata": {
    "execution": {
     "iopub.execute_input": "2025-07-16T17:18:42.682699Z",
     "iopub.status.busy": "2025-07-16T17:18:42.681591Z",
     "iopub.status.idle": "2025-07-16T17:18:42.696222Z",
     "shell.execute_reply": "2025-07-16T17:18:42.694251Z",
     "shell.execute_reply.started": "2025-07-16T17:18:42.682699Z"
    }
   },
   "outputs": [],
   "source": [
    "cleaned_caesar[\"longueur_du_côte\"]=0"
   ]
  },
  {
   "cell_type": "code",
   "execution_count": 781,
   "id": "6c3e087c-4d28-4030-a9c3-7b515587aed3",
   "metadata": {
    "execution": {
     "iopub.execute_input": "2025-07-16T17:18:42.698223Z",
     "iopub.status.busy": "2025-07-16T17:18:42.698223Z",
     "iopub.status.idle": "2025-07-16T17:18:42.710745Z",
     "shell.execute_reply": "2025-07-16T17:18:42.709761Z",
     "shell.execute_reply.started": "2025-07-16T17:18:42.698223Z"
    }
   },
   "outputs": [],
   "source": [
    "cleaned_caesar[\"longueur_du_tronc\"]=0"
   ]
  },
  {
   "cell_type": "code",
   "execution_count": 782,
   "id": "e479566e-a9ef-4f2b-966b-db4c9bebb97b",
   "metadata": {
    "execution": {
     "iopub.execute_input": "2025-07-16T17:18:42.713267Z",
     "iopub.status.busy": "2025-07-16T17:18:42.712257Z",
     "iopub.status.idle": "2025-07-16T17:18:42.727792Z",
     "shell.execute_reply": "2025-07-16T17:18:42.725790Z",
     "shell.execute_reply.started": "2025-07-16T17:18:42.713267Z"
    }
   },
   "outputs": [],
   "source": [
    "cleaned_caesar[\"longueur_de_sous_poitrine\"]=0"
   ]
  },
  {
   "cell_type": "code",
   "execution_count": 783,
   "id": "e5770df3-98fa-4e7b-af8a-4c5fedcac556",
   "metadata": {
    "execution": {
     "iopub.execute_input": "2025-07-16T17:18:42.729792Z",
     "iopub.status.busy": "2025-07-16T17:18:42.728790Z",
     "iopub.status.idle": "2025-07-16T17:18:42.742888Z",
     "shell.execute_reply": "2025-07-16T17:18:42.741866Z",
     "shell.execute_reply.started": "2025-07-16T17:18:42.729792Z"
    }
   },
   "outputs": [],
   "source": [
    "cleaned_caesar[\"largeur_de_la_taille\"]=0"
   ]
  },
  {
   "cell_type": "code",
   "execution_count": 784,
   "id": "75992761-f5f3-46b6-9e0b-ad3bd9492025",
   "metadata": {
    "execution": {
     "iopub.execute_input": "2025-07-16T17:18:42.744888Z",
     "iopub.status.busy": "2025-07-16T17:18:42.743890Z",
     "iopub.status.idle": "2025-07-16T17:18:42.758971Z",
     "shell.execute_reply": "2025-07-16T17:18:42.757973Z",
     "shell.execute_reply.started": "2025-07-16T17:18:42.744888Z"
    }
   },
   "outputs": [],
   "source": [
    "cleaned_caesar[\"tour_de_poignet\"]=0"
   ]
  },
  {
   "cell_type": "code",
   "execution_count": 785,
   "id": "a153f53c-aae1-43bf-ab92-8c5f6c6ac254",
   "metadata": {
    "execution": {
     "iopub.execute_input": "2025-07-16T17:18:42.761477Z",
     "iopub.status.busy": "2025-07-16T17:18:42.759968Z",
     "iopub.status.idle": "2025-07-16T17:18:42.774768Z",
     "shell.execute_reply": "2025-07-16T17:18:42.773770Z",
     "shell.execute_reply.started": "2025-07-16T17:18:42.761477Z"
    }
   },
   "outputs": [],
   "source": [
    "cleaned_caesar[\"largeur_du_visage\"]=0"
   ]
  },
  {
   "cell_type": "code",
   "execution_count": 790,
   "id": "5c4ca035-e2fa-4c92-9021-c5e373f89bb7",
   "metadata": {
    "execution": {
     "iopub.execute_input": "2025-07-16T17:22:01.274832Z",
     "iopub.status.busy": "2025-07-16T17:22:01.274832Z",
     "iopub.status.idle": "2025-07-16T17:22:01.284462Z",
     "shell.execute_reply": "2025-07-16T17:22:01.284128Z",
     "shell.execute_reply.started": "2025-07-16T17:22:01.274832Z"
    }
   },
   "outputs": [],
   "source": [
    "cleaned_caesar[\"profondeur_de_poitrine\"]=0"
   ]
  },
  {
   "cell_type": "code",
   "execution_count": 793,
   "id": "b0911ebe-4016-4e38-81cb-18cd674c960d",
   "metadata": {
    "execution": {
     "iopub.execute_input": "2025-07-16T17:22:12.093307Z",
     "iopub.status.busy": "2025-07-16T17:22:12.092298Z",
     "iopub.status.idle": "2025-07-16T17:22:12.150374Z",
     "shell.execute_reply": "2025-07-16T17:22:12.149386Z",
     "shell.execute_reply.started": "2025-07-16T17:22:12.093307Z"
    }
   },
   "outputs": [
    {
     "data": {
      "text/html": [
       "<div>\n",
       "<style scoped>\n",
       "    .dataframe tbody tr th:only-of-type {\n",
       "        vertical-align: middle;\n",
       "    }\n",
       "\n",
       "    .dataframe tbody tr th {\n",
       "        vertical-align: top;\n",
       "    }\n",
       "\n",
       "    .dataframe thead th {\n",
       "        text-align: right;\n",
       "    }\n",
       "</style>\n",
       "<table border=\"1\" class=\"dataframe\">\n",
       "  <thead>\n",
       "    <tr style=\"text-align: right;\">\n",
       "      <th></th>\n",
       "      <th>taille</th>\n",
       "      <th>age</th>\n",
       "      <th>weight</th>\n",
       "      <th>sex</th>\n",
       "      <th>tour_de_cheville</th>\n",
       "      <th>longueur_du_bras</th>\n",
       "      <th>largeur_du_dos</th>\n",
       "      <th>tour_de_ventre_maximal</th>\n",
       "      <th>tour_de_poitrine</th>\n",
       "      <th>tour_de_poitrine_mesure_a_la_main</th>\n",
       "      <th>...</th>\n",
       "      <th>tour_de_genou</th>\n",
       "      <th>longueur_du_cou_au_genou</th>\n",
       "      <th>angle_de_l_epaule</th>\n",
       "      <th>longueur_du_côte</th>\n",
       "      <th>longueur_du_tronc</th>\n",
       "      <th>longueur_de_sous_poitrine</th>\n",
       "      <th>largeur_de_la_taille</th>\n",
       "      <th>tour_de_poignet</th>\n",
       "      <th>largeur_du_visage</th>\n",
       "      <th>profondeur_de_poitrine</th>\n",
       "    </tr>\n",
       "  </thead>\n",
       "  <tbody>\n",
       "    <tr>\n",
       "      <th>count</th>\n",
       "      <td>4458.000000</td>\n",
       "      <td>4452.000000</td>\n",
       "      <td>4458.000000</td>\n",
       "      <td>4459.000000</td>\n",
       "      <td>4458.000000</td>\n",
       "      <td>4452.000000</td>\n",
       "      <td>4329.000000</td>\n",
       "      <td>4451.000000</td>\n",
       "      <td>4457.000000</td>\n",
       "      <td>2139.000000</td>\n",
       "      <td>...</td>\n",
       "      <td>4465.0</td>\n",
       "      <td>4465.0</td>\n",
       "      <td>4465.0</td>\n",
       "      <td>4465.0</td>\n",
       "      <td>4465.0</td>\n",
       "      <td>4465.0</td>\n",
       "      <td>4465.0</td>\n",
       "      <td>4465.0</td>\n",
       "      <td>4465.0</td>\n",
       "      <td>4465.0</td>\n",
       "    </tr>\n",
       "    <tr>\n",
       "      <th>mean</th>\n",
       "      <td>170.933197</td>\n",
       "      <td>37.788971</td>\n",
       "      <td>75.180081</td>\n",
       "      <td>0.472527</td>\n",
       "      <td>25.352163</td>\n",
       "      <td>61.074922</td>\n",
       "      <td>39.248509</td>\n",
       "      <td>84.741921</td>\n",
       "      <td>98.635648</td>\n",
       "      <td>91.024385</td>\n",
       "      <td>...</td>\n",
       "      <td>0.0</td>\n",
       "      <td>0.0</td>\n",
       "      <td>0.0</td>\n",
       "      <td>0.0</td>\n",
       "      <td>0.0</td>\n",
       "      <td>0.0</td>\n",
       "      <td>0.0</td>\n",
       "      <td>0.0</td>\n",
       "      <td>0.0</td>\n",
       "      <td>0.0</td>\n",
       "    </tr>\n",
       "    <tr>\n",
       "      <th>std</th>\n",
       "      <td>10.377478</td>\n",
       "      <td>12.785712</td>\n",
       "      <td>18.439671</td>\n",
       "      <td>0.499301</td>\n",
       "      <td>2.007630</td>\n",
       "      <td>4.467474</td>\n",
       "      <td>3.119254</td>\n",
       "      <td>13.404852</td>\n",
       "      <td>11.818823</td>\n",
       "      <td>6.902016</td>\n",
       "      <td>...</td>\n",
       "      <td>0.0</td>\n",
       "      <td>0.0</td>\n",
       "      <td>0.0</td>\n",
       "      <td>0.0</td>\n",
       "      <td>0.0</td>\n",
       "      <td>0.0</td>\n",
       "      <td>0.0</td>\n",
       "      <td>0.0</td>\n",
       "      <td>0.0</td>\n",
       "      <td>0.0</td>\n",
       "    </tr>\n",
       "    <tr>\n",
       "      <th>min</th>\n",
       "      <td>124.790200</td>\n",
       "      <td>17.500000</td>\n",
       "      <td>37.298870</td>\n",
       "      <td>0.000000</td>\n",
       "      <td>18.999200</td>\n",
       "      <td>40.894000</td>\n",
       "      <td>30.530800</td>\n",
       "      <td>55.702200</td>\n",
       "      <td>73.304400</td>\n",
       "      <td>81.280000</td>\n",
       "      <td>...</td>\n",
       "      <td>0.0</td>\n",
       "      <td>0.0</td>\n",
       "      <td>0.0</td>\n",
       "      <td>0.0</td>\n",
       "      <td>0.0</td>\n",
       "      <td>0.0</td>\n",
       "      <td>0.0</td>\n",
       "      <td>0.0</td>\n",
       "      <td>0.0</td>\n",
       "      <td>0.0</td>\n",
       "    </tr>\n",
       "    <tr>\n",
       "      <th>25%</th>\n",
       "      <td>163.322000</td>\n",
       "      <td>26.500000</td>\n",
       "      <td>61.905102</td>\n",
       "      <td>0.000000</td>\n",
       "      <td>23.799800</td>\n",
       "      <td>57.810400</td>\n",
       "      <td>36.931600</td>\n",
       "      <td>75.006200</td>\n",
       "      <td>90.093800</td>\n",
       "      <td>86.360000</td>\n",
       "      <td>...</td>\n",
       "      <td>0.0</td>\n",
       "      <td>0.0</td>\n",
       "      <td>0.0</td>\n",
       "      <td>0.0</td>\n",
       "      <td>0.0</td>\n",
       "      <td>0.0</td>\n",
       "      <td>0.0</td>\n",
       "      <td>0.0</td>\n",
       "      <td>0.0</td>\n",
       "      <td>0.0</td>\n",
       "    </tr>\n",
       "    <tr>\n",
       "      <th>50%</th>\n",
       "      <td>170.408600</td>\n",
       "      <td>37.000000</td>\n",
       "      <td>72.121128</td>\n",
       "      <td>0.000000</td>\n",
       "      <td>25.196800</td>\n",
       "      <td>60.909200</td>\n",
       "      <td>39.090600</td>\n",
       "      <td>83.007200</td>\n",
       "      <td>96.799400</td>\n",
       "      <td>91.440000</td>\n",
       "      <td>...</td>\n",
       "      <td>0.0</td>\n",
       "      <td>0.0</td>\n",
       "      <td>0.0</td>\n",
       "      <td>0.0</td>\n",
       "      <td>0.0</td>\n",
       "      <td>0.0</td>\n",
       "      <td>0.0</td>\n",
       "      <td>0.0</td>\n",
       "      <td>0.0</td>\n",
       "      <td>0.0</td>\n",
       "    </tr>\n",
       "    <tr>\n",
       "      <th>75%</th>\n",
       "      <td>177.876200</td>\n",
       "      <td>48.000000</td>\n",
       "      <td>84.973657</td>\n",
       "      <td>1.000000</td>\n",
       "      <td>26.797000</td>\n",
       "      <td>64.109600</td>\n",
       "      <td>41.503600</td>\n",
       "      <td>92.303600</td>\n",
       "      <td>105.206800</td>\n",
       "      <td>96.520000</td>\n",
       "      <td>...</td>\n",
       "      <td>0.0</td>\n",
       "      <td>0.0</td>\n",
       "      <td>0.0</td>\n",
       "      <td>0.0</td>\n",
       "      <td>0.0</td>\n",
       "      <td>0.0</td>\n",
       "      <td>0.0</td>\n",
       "      <td>0.0</td>\n",
       "      <td>0.0</td>\n",
       "      <td>0.0</td>\n",
       "    </tr>\n",
       "    <tr>\n",
       "      <th>max</th>\n",
       "      <td>218.287600</td>\n",
       "      <td>79.000000</td>\n",
       "      <td>181.436800</td>\n",
       "      <td>1.000000</td>\n",
       "      <td>36.703000</td>\n",
       "      <td>80.391000</td>\n",
       "      <td>50.165000</td>\n",
       "      <td>170.205400</td>\n",
       "      <td>157.403800</td>\n",
       "      <td>116.840000</td>\n",
       "      <td>...</td>\n",
       "      <td>0.0</td>\n",
       "      <td>0.0</td>\n",
       "      <td>0.0</td>\n",
       "      <td>0.0</td>\n",
       "      <td>0.0</td>\n",
       "      <td>0.0</td>\n",
       "      <td>0.0</td>\n",
       "      <td>0.0</td>\n",
       "      <td>0.0</td>\n",
       "      <td>0.0</td>\n",
       "    </tr>\n",
       "  </tbody>\n",
       "</table>\n",
       "<p>8 rows × 42 columns</p>\n",
       "</div>"
      ],
      "text/plain": [
       "            taille          age       weight          sex  tour_de_cheville  \\\n",
       "count  4458.000000  4452.000000  4458.000000  4459.000000       4458.000000   \n",
       "mean    170.933197    37.788971    75.180081     0.472527         25.352163   \n",
       "std      10.377478    12.785712    18.439671     0.499301          2.007630   \n",
       "min     124.790200    17.500000    37.298870     0.000000         18.999200   \n",
       "25%     163.322000    26.500000    61.905102     0.000000         23.799800   \n",
       "50%     170.408600    37.000000    72.121128     0.000000         25.196800   \n",
       "75%     177.876200    48.000000    84.973657     1.000000         26.797000   \n",
       "max     218.287600    79.000000   181.436800     1.000000         36.703000   \n",
       "\n",
       "       longueur_du_bras  largeur_du_dos  tour_de_ventre_maximal  \\\n",
       "count       4452.000000     4329.000000             4451.000000   \n",
       "mean          61.074922       39.248509               84.741921   \n",
       "std            4.467474        3.119254               13.404852   \n",
       "min           40.894000       30.530800               55.702200   \n",
       "25%           57.810400       36.931600               75.006200   \n",
       "50%           60.909200       39.090600               83.007200   \n",
       "75%           64.109600       41.503600               92.303600   \n",
       "max           80.391000       50.165000              170.205400   \n",
       "\n",
       "       tour_de_poitrine  tour_de_poitrine_mesure_a_la_main  ...  \\\n",
       "count       4457.000000                        2139.000000  ...   \n",
       "mean          98.635648                          91.024385  ...   \n",
       "std           11.818823                           6.902016  ...   \n",
       "min           73.304400                          81.280000  ...   \n",
       "25%           90.093800                          86.360000  ...   \n",
       "50%           96.799400                          91.440000  ...   \n",
       "75%          105.206800                          96.520000  ...   \n",
       "max          157.403800                         116.840000  ...   \n",
       "\n",
       "       tour_de_genou  longueur_du_cou_au_genou  angle_de_l_epaule  \\\n",
       "count         4465.0                    4465.0             4465.0   \n",
       "mean             0.0                       0.0                0.0   \n",
       "std              0.0                       0.0                0.0   \n",
       "min              0.0                       0.0                0.0   \n",
       "25%              0.0                       0.0                0.0   \n",
       "50%              0.0                       0.0                0.0   \n",
       "75%              0.0                       0.0                0.0   \n",
       "max              0.0                       0.0                0.0   \n",
       "\n",
       "       longueur_du_côte  longueur_du_tronc  longueur_de_sous_poitrine  \\\n",
       "count            4465.0             4465.0                     4465.0   \n",
       "mean                0.0                0.0                        0.0   \n",
       "std                 0.0                0.0                        0.0   \n",
       "min                 0.0                0.0                        0.0   \n",
       "25%                 0.0                0.0                        0.0   \n",
       "50%                 0.0                0.0                        0.0   \n",
       "75%                 0.0                0.0                        0.0   \n",
       "max                 0.0                0.0                        0.0   \n",
       "\n",
       "       largeur_de_la_taille  tour_de_poignet  largeur_du_visage  \\\n",
       "count                4465.0           4465.0             4465.0   \n",
       "mean                    0.0              0.0                0.0   \n",
       "std                     0.0              0.0                0.0   \n",
       "min                     0.0              0.0                0.0   \n",
       "25%                     0.0              0.0                0.0   \n",
       "50%                     0.0              0.0                0.0   \n",
       "75%                     0.0              0.0                0.0   \n",
       "max                     0.0              0.0                0.0   \n",
       "\n",
       "       profondeur_de_poitrine  \n",
       "count                  4465.0  \n",
       "mean                      0.0  \n",
       "std                       0.0  \n",
       "min                       0.0  \n",
       "25%                       0.0  \n",
       "50%                       0.0  \n",
       "75%                       0.0  \n",
       "max                       0.0  \n",
       "\n",
       "[8 rows x 42 columns]"
      ]
     },
     "execution_count": 793,
     "metadata": {},
     "output_type": "execute_result"
    }
   ],
   "source": [
    "cleaned_caesar.describe()"
   ]
  },
  {
   "cell_type": "code",
   "execution_count": 794,
   "id": "c760cffb-725e-44d3-b72a-0c263711b170",
   "metadata": {
    "execution": {
     "iopub.execute_input": "2025-07-16T17:22:26.114891Z",
     "iopub.status.busy": "2025-07-16T17:22:26.114891Z",
     "iopub.status.idle": "2025-07-16T17:22:26.134948Z",
     "shell.execute_reply": "2025-07-16T17:22:26.133931Z",
     "shell.execute_reply.started": "2025-07-16T17:22:26.114891Z"
    }
   },
   "outputs": [
    {
     "data": {
      "text/plain": [
       "Index(['taille', 'age', 'weight', 'sex', 'tour_de_cheville',\n",
       "       'longueur_du_bras', 'largeur_du_dos', 'tour_de_ventre_maximal',\n",
       "       'tour_de_poitrine', 'tour_de_poitrine_mesure_a_la_main',\n",
       "       'hauteur_de_poitrine', 'hauteur_d_entrejambe', 'longueur_avant',\n",
       "       'largeur_des_hanches', 'hauteur_des_hanches', 'hauteur_des_genoux',\n",
       "       'tour_du_cou', 'largeur_d_epaule', 'hauteur_des_epaules',\n",
       "       'largeur_des_epaules_a_l_horizontales',\n",
       "       'longueur_de_la_colonne_vertebrale_jusqu_au_poignet', 'tour_de_cuisse',\n",
       "       'tour_de_taille', 'hauteur_de_la_taille', 'profondeur_des_aisselles',\n",
       "       'longueur_du_dos', 'tour_de_biceps', 'tour_de_mollet', 'tour_de_coude',\n",
       "       'tour_d_avant_bras', 'tour_de_tête', 'tour_de_hanches_haut',\n",
       "       'tour_de_genou', 'longueur_du_cou_au_genou', 'angle_de_l_epaule',\n",
       "       'longueur_du_côte', 'longueur_du_tronc', 'longueur_de_sous_poitrine',\n",
       "       'largeur_de_la_taille', 'tour_de_poignet', 'largeur_du_visage',\n",
       "       'profondeur_de_poitrine'],\n",
       "      dtype='object')"
      ]
     },
     "execution_count": 794,
     "metadata": {},
     "output_type": "execute_result"
    }
   ],
   "source": [
    "cleaned_caesar.columns"
   ]
  },
  {
   "cell_type": "code",
   "execution_count": 799,
   "id": "a2d1cba4-ad55-4320-9182-0be2b6a2059a",
   "metadata": {
    "execution": {
     "iopub.execute_input": "2025-07-16T17:23:39.565990Z",
     "iopub.status.busy": "2025-07-16T17:23:39.565990Z",
     "iopub.status.idle": "2025-07-16T17:23:39.913764Z",
     "shell.execute_reply": "2025-07-16T17:23:39.912764Z",
     "shell.execute_reply.started": "2025-07-16T17:23:39.565990Z"
    }
   },
   "outputs": [
    {
     "name": "stdout",
     "output_type": "stream",
     "text": [
      "Nombre de colonnes en commun : 42\n",
      "\n",
      "\n",
      "=== Mesure : age ===\n",
      "       ANSUR II MALE  ANSUR II FEMALE  BDIMS MALE  BDIMS FEMALE  CAESAR MALE  \\\n",
      "count    4082.000000      1986.000000  247.000000    260.000000  2102.000000   \n",
      "mean       30.158991        28.943605   31.668016     28.769231    37.538297   \n",
      "std         8.810118         8.332078   10.151450      8.853190    12.763015   \n",
      "min        17.000000        17.000000   18.000000     18.000000    17.500000   \n",
      "25%        23.000000        22.000000   24.000000     22.000000    26.200000   \n",
      "50%        28.000000        27.000000   29.000000     26.000000    37.000000   \n",
      "75%        36.000000        34.000000   37.000000     34.000000    47.000000   \n",
      "max        58.000000        58.000000   65.000000     67.000000    79.000000   \n",
      "\n",
      "       CAESAR FEMALE  \n",
      "count    2350.000000  \n",
      "mean       38.013191  \n",
      "std        12.804536  \n",
      "min        18.000000  \n",
      "25%        27.000000  \n",
      "50%        37.000000  \n",
      "75%        48.000000  \n",
      "max        69.000000  \n",
      "\n",
      "\n",
      "=== Mesure : angle_de_l_epaule ===\n",
      "       ANSUR II MALE  ANSUR II FEMALE  BDIMS MALE  BDIMS FEMALE  CAESAR MALE  \\\n",
      "count         4082.0           1986.0       247.0         260.0       2107.0   \n",
      "mean             0.0              0.0         0.0           0.0          0.0   \n",
      "std              0.0              0.0         0.0           0.0          0.0   \n",
      "min              0.0              0.0         0.0           0.0          0.0   \n",
      "25%              0.0              0.0         0.0           0.0          0.0   \n",
      "50%              0.0              0.0         0.0           0.0          0.0   \n",
      "75%              0.0              0.0         0.0           0.0          0.0   \n",
      "max              0.0              0.0         0.0           0.0          0.0   \n",
      "\n",
      "       CAESAR FEMALE  \n",
      "count         2352.0  \n",
      "mean             0.0  \n",
      "std              0.0  \n",
      "min              0.0  \n",
      "25%              0.0  \n",
      "50%              0.0  \n",
      "75%              0.0  \n",
      "max              0.0  \n",
      "\n",
      "\n",
      "=== Mesure : hauteur_d_entrejambe ===\n",
      "       ANSUR II MALE  ANSUR II FEMALE  BDIMS MALE  BDIMS FEMALE  CAESAR MALE  \\\n",
      "count    4082.000000      1986.000000       247.0         260.0  2101.000000   \n",
      "mean       84.592994        78.231722         0.0           0.0    81.218259   \n",
      "std         4.649916         4.463674         0.0           0.0     5.702633   \n",
      "min        70.200000        61.000000         0.0           0.0    38.989000   \n",
      "25%        81.400000        75.300000         0.0           0.0    77.292200   \n",
      "50%        84.500000        78.000000         0.0           0.0    80.899000   \n",
      "75%        87.600000        81.200000         0.0           0.0    84.810600   \n",
      "max       103.100000        94.700000         0.0           0.0   104.698800   \n",
      "\n",
      "       CAESAR FEMALE  \n",
      "count    2346.000000  \n",
      "mean       76.133068  \n",
      "std         5.106528  \n",
      "min        59.004200  \n",
      "25%        72.491600  \n",
      "50%        75.996800  \n",
      "75%        79.502000  \n",
      "max        96.291400  \n",
      "\n",
      "\n",
      "=== Mesure : hauteur_de_la_taille ===\n",
      "       ANSUR II MALE  ANSUR II FEMALE  BDIMS MALE  BDIMS FEMALE  CAESAR MALE  \\\n",
      "count    4082.000000      1986.000000       247.0         260.0  2106.000000   \n",
      "mean      105.648530        98.014904         0.0           0.0   104.425720   \n",
      "std         5.215467         5.002271         0.0           0.0     6.134137   \n",
      "min        87.600000        80.500000         0.0           0.0    67.995800   \n",
      "25%       102.000000        94.700000         0.0           0.0   100.406200   \n",
      "50%       105.500000        97.750000         0.0           0.0   103.987600   \n",
      "75%       109.000000       101.300000         0.0           0.0   108.204000   \n",
      "max       124.500000       114.200000         0.0           0.0   138.201400   \n",
      "\n",
      "       CAESAR FEMALE  \n",
      "count    2349.000000  \n",
      "mean      101.008307  \n",
      "std         5.934245  \n",
      "min        63.703200  \n",
      "25%        96.901000  \n",
      "50%       100.990400  \n",
      "75%       105.003600  \n",
      "max       125.704600  \n",
      "\n",
      "\n",
      "=== Mesure : hauteur_de_poitrine ===\n",
      "       ANSUR II MALE  ANSUR II FEMALE  BDIMS MALE  BDIMS FEMALE  CAESAR MALE  \\\n",
      "count    4082.000000      1986.000000       247.0         260.0  2054.000000   \n",
      "mean      129.111857       117.163646         0.0           0.0   128.796549   \n",
      "std         5.695670         5.549983         0.0           0.0     6.802525   \n",
      "min       108.800000        98.400000         0.0           0.0   103.403400   \n",
      "25%       125.225000       113.400000         0.0           0.0   124.206000   \n",
      "50%       128.900000       116.900000         0.0           0.0   128.397000   \n",
      "75%       132.900000       120.900000         0.0           0.0   133.197600   \n",
      "max       150.600000       135.500000         0.0           0.0   158.445200   \n",
      "\n",
      "       CAESAR FEMALE  \n",
      "count    2275.000000  \n",
      "mean      118.360785  \n",
      "std         6.439505  \n",
      "min        98.806000  \n",
      "25%       113.995200  \n",
      "50%       118.211600  \n",
      "75%       122.593100  \n",
      "max       145.999200  \n",
      "\n",
      "\n",
      "=== Mesure : hauteur_des_epaules ===\n",
      "       ANSUR II MALE  ANSUR II FEMALE  BDIMS MALE  BDIMS FEMALE  CAESAR MALE  \\\n",
      "count         4082.0           1986.0       247.0         260.0  2054.000000   \n",
      "mean             0.0              0.0         0.0           0.0   145.862530   \n",
      "std              0.0              0.0         0.0           0.0     7.558021   \n",
      "min              0.0              0.0         0.0           0.0   120.192800   \n",
      "25%              0.0              0.0         0.0           0.0   140.725525   \n",
      "50%              0.0              0.0         0.0           0.0   145.592800   \n",
      "75%              0.0              0.0         0.0           0.0   150.698200   \n",
      "max              0.0              0.0         0.0           0.0   179.768500   \n",
      "\n",
      "       CAESAR FEMALE  \n",
      "count    2273.000000  \n",
      "mean      134.809673  \n",
      "std         6.717473  \n",
      "min       113.207800  \n",
      "25%       130.302000  \n",
      "50%       134.696200  \n",
      "75%       138.988800  \n",
      "max       160.896300  \n",
      "\n",
      "\n",
      "=== Mesure : hauteur_des_genoux ===\n",
      "       ANSUR II MALE  ANSUR II FEMALE  BDIMS MALE  BDIMS FEMALE  CAESAR MALE  \\\n",
      "count    4082.000000      1986.000000       247.0         260.0  2053.000000   \n",
      "mean       48.838805        44.904935         0.0           0.0    49.597886   \n",
      "std         2.812620         2.599166         0.0           0.0     3.048260   \n",
      "min        39.700000        34.600000         0.0           0.0    39.497000   \n",
      "25%        46.900000        43.200000         0.0           0.0    47.498000   \n",
      "50%        48.700000        44.800000         0.0           0.0    49.453800   \n",
      "75%        50.700000        46.600000         0.0           0.0    51.600100   \n",
      "max        61.200000        54.000000         0.0           0.0    64.350900   \n",
      "\n",
      "       CAESAR FEMALE  \n",
      "count    2273.000000  \n",
      "mean       44.635611  \n",
      "std         2.673869  \n",
      "min        35.890200  \n",
      "25%        42.799000  \n",
      "50%        44.513500  \n",
      "75%        46.355000  \n",
      "max        55.600600  \n",
      "\n",
      "\n",
      "=== Mesure : hauteur_des_hanches ===\n",
      "       ANSUR II MALE  ANSUR II FEMALE  BDIMS MALE  BDIMS FEMALE  CAESAR MALE  \\\n",
      "count    4082.000000      1986.000000       247.0         260.0  2104.000000   \n",
      "mean      106.162935        99.572508         0.0           0.0    88.149034   \n",
      "std         5.201542         4.968500         0.0           0.0     5.928195   \n",
      "min        85.400000        81.600000         0.0           0.0    43.205400   \n",
      "25%       102.800000        96.325000         0.0           0.0    84.201000   \n",
      "50%       106.100000        99.300000         0.0           0.0    88.011000   \n",
      "75%       109.500000       102.800000         0.0           0.0    91.795600   \n",
      "max       125.300000       116.300000         0.0           0.0   108.204000   \n",
      "\n",
      "       CAESAR FEMALE  \n",
      "count    2348.000000  \n",
      "mean       81.197482  \n",
      "std         5.752059  \n",
      "min        65.405000  \n",
      "25%        77.089000  \n",
      "50%        80.797400  \n",
      "75%        84.607400  \n",
      "max       103.403400  \n",
      "\n",
      "\n",
      "=== Mesure : largeur_d_epaule ===\n",
      "       ANSUR II MALE  ANSUR II FEMALE  BDIMS MALE  BDIMS FEMALE  CAESAR MALE  \\\n",
      "count    4082.000000      1986.000000  247.000000    260.000000  2052.000000   \n",
      "mean       41.567565        36.534894  116.501619    100.303846    41.485936   \n",
      "std         1.916165         1.829885    6.498023      6.470598     2.403755   \n",
      "min        33.700000        28.300000  100.200000     85.900000    33.147000   \n",
      "25%        40.300000        35.300000  112.200000     96.100000    39.801800   \n",
      "50%        41.500000        36.500000  116.500000     99.500000    41.478200   \n",
      "75%        42.800000        37.800000  121.000000    103.925000    43.027600   \n",
      "max        48.900000        42.200000  134.800000    129.500000    50.165000   \n",
      "\n",
      "       CAESAR FEMALE  \n",
      "count    2272.000000  \n",
      "mean       37.230620  \n",
      "std         2.170358  \n",
      "min        30.530800  \n",
      "25%        35.712400  \n",
      "50%        37.198300  \n",
      "75%        38.658800  \n",
      "max        45.669200  \n",
      "\n",
      "\n",
      "=== Mesure : largeur_de_la_taille ===\n",
      "       ANSUR II MALE  ANSUR II FEMALE  BDIMS MALE  BDIMS FEMALE  CAESAR MALE  \\\n",
      "count    4082.000000      1986.000000       247.0         260.0       2107.0   \n",
      "mean       32.643729        29.989426         0.0           0.0          0.0   \n",
      "std         3.473809         3.295911         0.0           0.0          0.0   \n",
      "min        23.200000        21.100000         0.0           0.0          0.0   \n",
      "25%        30.100000        27.600000         0.0           0.0          0.0   \n",
      "50%        32.500000        29.800000         0.0           0.0          0.0   \n",
      "75%        35.000000        32.100000         0.0           0.0          0.0   \n",
      "max        45.900000        46.100000         0.0           0.0          0.0   \n",
      "\n",
      "       CAESAR FEMALE  \n",
      "count         2352.0  \n",
      "mean             0.0  \n",
      "std              0.0  \n",
      "min              0.0  \n",
      "25%              0.0  \n",
      "50%              0.0  \n",
      "75%              0.0  \n",
      "max              0.0  \n",
      "\n",
      "\n",
      "=== Mesure : largeur_des_epaules_a_l_horizontales ===\n",
      "       ANSUR II MALE  ANSUR II FEMALE  BDIMS MALE  BDIMS FEMALE  CAESAR MALE  \\\n",
      "count    4082.000000      1986.000000       247.0         260.0  2104.000000   \n",
      "mean       51.042479        45.032427         0.0           0.0    48.210359   \n",
      "std         3.250563         2.868742         0.0           0.0     3.616818   \n",
      "min        37.400000        35.700000         0.0           0.0    37.795200   \n",
      "25%        48.900000        43.000000         0.0           0.0    45.694600   \n",
      "50%        50.900000        45.000000         0.0           0.0    47.904400   \n",
      "75%        53.100000        46.900000         0.0           0.0    50.292000   \n",
      "max        63.700000        55.800000         0.0           0.0    65.811400   \n",
      "\n",
      "       CAESAR FEMALE  \n",
      "count    2350.000000  \n",
      "mean       42.604123  \n",
      "std         3.342537  \n",
      "min        34.594800  \n",
      "25%        40.411400  \n",
      "50%        42.189400  \n",
      "75%        44.196000  \n",
      "max        61.493400  \n",
      "\n",
      "\n",
      "=== Mesure : largeur_des_hanches ===\n",
      "       ANSUR II MALE  ANSUR II FEMALE  BDIMS MALE  BDIMS FEMALE  CAESAR MALE  \\\n",
      "count    4082.000000      1986.000000       247.0         260.0  2104.000000   \n",
      "mean       34.573322        35.383686         0.0           0.0    48.210359   \n",
      "std         2.416531         2.666969         0.0           0.0     3.616818   \n",
      "min        26.400000        27.600000         0.0           0.0    37.795200   \n",
      "25%        32.925000        33.600000         0.0           0.0    45.694600   \n",
      "50%        34.400000        35.300000         0.0           0.0    47.904400   \n",
      "75%        36.100000        37.000000         0.0           0.0    50.292000   \n",
      "max        45.200000        47.300000         0.0           0.0    65.811400   \n",
      "\n",
      "       CAESAR FEMALE  \n",
      "count    2350.000000  \n",
      "mean       42.604123  \n",
      "std         3.342537  \n",
      "min        34.594800  \n",
      "25%        40.411400  \n",
      "50%        42.189400  \n",
      "75%        44.196000  \n",
      "max        61.493400  \n",
      "\n",
      "\n",
      "=== Mesure : largeur_du_dos ===\n",
      "       ANSUR II MALE  ANSUR II FEMALE  BDIMS MALE  BDIMS FEMALE  CAESAR MALE  \\\n",
      "count    4082.000000      1986.000000       247.0         260.0  2052.000000   \n",
      "mean       41.567565        36.534894         0.0           0.0    41.485936   \n",
      "std         1.916165         1.829885         0.0           0.0     2.403755   \n",
      "min        33.700000        28.300000         0.0           0.0    33.147000   \n",
      "25%        40.300000        35.300000         0.0           0.0    39.801800   \n",
      "50%        41.500000        36.500000         0.0           0.0    41.478200   \n",
      "75%        42.800000        37.800000         0.0           0.0    43.027600   \n",
      "max        48.900000        42.200000         0.0           0.0    50.165000   \n",
      "\n",
      "       CAESAR FEMALE  \n",
      "count    2272.000000  \n",
      "mean       37.230620  \n",
      "std         2.170358  \n",
      "min        30.530800  \n",
      "25%        35.712400  \n",
      "50%        37.198300  \n",
      "75%        38.658800  \n",
      "max        45.669200  \n",
      "\n",
      "\n",
      "=== Mesure : largeur_du_visage ===\n",
      "       ANSUR II MALE  ANSUR II FEMALE  BDIMS MALE  BDIMS FEMALE  CAESAR MALE  \\\n",
      "count         4082.0           1986.0  247.000000    260.000000       2107.0   \n",
      "mean             0.0              0.0   32.526721     31.461538          0.0   \n",
      "std              0.0              0.0    1.865131      2.049179          0.0   \n",
      "min              0.0              0.0   27.500000     24.700000          0.0   \n",
      "25%              0.0              0.0   31.400000     30.000000          0.0   \n",
      "50%              0.0              0.0   32.400000     31.500000          0.0   \n",
      "75%              0.0              0.0   33.800000     32.900000          0.0   \n",
      "max              0.0              0.0   38.000000     37.800000          0.0   \n",
      "\n",
      "       CAESAR FEMALE  \n",
      "count         2352.0  \n",
      "mean             0.0  \n",
      "std              0.0  \n",
      "min              0.0  \n",
      "25%              0.0  \n",
      "50%              0.0  \n",
      "75%              0.0  \n",
      "max              0.0  \n",
      "\n",
      "\n",
      "=== Mesure : longueur_avant ===\n",
      "       ANSUR II MALE  ANSUR II FEMALE  BDIMS MALE  BDIMS FEMALE  CAESAR MALE  \\\n",
      "count    4082.000000      1986.000000       247.0         260.0  2052.000000   \n",
      "mean       34.901029        31.771198         0.0           0.0    26.407886   \n",
      "std         1.801510         1.802491         0.0           0.0     1.615831   \n",
      "min        29.000000        25.800000         0.0           0.0    20.154900   \n",
      "25%        33.700000        30.600000         0.0           0.0    25.311100   \n",
      "50%        34.850000        31.600000         0.0           0.0    26.320750   \n",
      "75%        36.100000        32.900000         0.0           0.0    27.432000   \n",
      "max        41.600000        39.200000         0.0           0.0    34.264600   \n",
      "\n",
      "       CAESAR FEMALE  \n",
      "count    2273.000000  \n",
      "mean       23.719650  \n",
      "std         1.474965  \n",
      "min        18.961100  \n",
      "25%        22.707600  \n",
      "50%        23.634700  \n",
      "75%        24.676100  \n",
      "max        29.451300  \n",
      "\n",
      "\n",
      "=== Mesure : longueur_de_la_colonne_vertebrale_jusqu_au_poignet ===\n",
      "       ANSUR II MALE  ANSUR II FEMALE  BDIMS MALE  BDIMS FEMALE  CAESAR MALE  \\\n",
      "count    4082.000000       1986.00000       247.0         260.0  2104.000000   \n",
      "mean       89.584713         80.66853         0.0           0.0    85.566516   \n",
      "std         4.022022          3.79124         0.0           0.0     4.192063   \n",
      "min        73.200000         63.60000         0.0           0.0    57.988200   \n",
      "25%        86.800000         78.20000         0.0           0.0    82.702400   \n",
      "50%        89.500000         80.50000         0.0           0.0    85.344000   \n",
      "75%        92.200000         83.00000         0.0           0.0    88.188800   \n",
      "max       105.800000         93.00000         0.0           0.0   103.098600   \n",
      "\n",
      "       CAESAR FEMALE  \n",
      "count    2348.000000  \n",
      "mean       77.641028  \n",
      "std         3.767968  \n",
      "min        63.296800  \n",
      "25%        75.107800  \n",
      "50%        77.495400  \n",
      "75%        80.111600  \n",
      "max        90.297000  \n",
      "\n",
      "\n",
      "=== Mesure : longueur_de_sous_poitrine ===\n",
      "       ANSUR II MALE  ANSUR II FEMALE  BDIMS MALE  BDIMS FEMALE  CAESAR MALE  \\\n",
      "count         4082.0           1986.0       247.0         260.0       2107.0   \n",
      "mean             0.0              0.0         0.0           0.0          0.0   \n",
      "std              0.0              0.0         0.0           0.0          0.0   \n",
      "min              0.0              0.0         0.0           0.0          0.0   \n",
      "25%              0.0              0.0         0.0           0.0          0.0   \n",
      "50%              0.0              0.0         0.0           0.0          0.0   \n",
      "75%              0.0              0.0         0.0           0.0          0.0   \n",
      "max              0.0              0.0         0.0           0.0          0.0   \n",
      "\n",
      "       CAESAR FEMALE  \n",
      "count         2352.0  \n",
      "mean             0.0  \n",
      "std              0.0  \n",
      "min              0.0  \n",
      "25%              0.0  \n",
      "50%              0.0  \n",
      "75%              0.0  \n",
      "max              0.0  \n",
      "\n",
      "\n",
      "=== Mesure : longueur_du_bras ===\n",
      "       ANSUR II MALE  ANSUR II FEMALE  BDIMS MALE  BDIMS FEMALE  CAESAR MALE  \\\n",
      "count    4082.000000      1986.000000       247.0         260.0  2104.000000   \n",
      "mean       36.370995        33.429758         0.0           0.0    64.139418   \n",
      "std         1.820078         1.725102         0.0           0.0     3.591747   \n",
      "min        29.800000        27.100000         0.0           0.0    40.894000   \n",
      "25%        35.200000        32.300000         0.0           0.0    61.798200   \n",
      "50%        36.300000        33.400000         0.0           0.0    64.008000   \n",
      "75%        37.600000        34.600000         0.0           0.0    66.395600   \n",
      "max        42.300000        39.800000         0.0           0.0    80.391000   \n",
      "\n",
      "       CAESAR FEMALE  \n",
      "count    2348.000000  \n",
      "mean       58.328882  \n",
      "std         3.213723  \n",
      "min        46.202600  \n",
      "25%        56.210200  \n",
      "50%        58.191400  \n",
      "75%        60.401200  \n",
      "max        70.891400  \n",
      "\n",
      "\n",
      "=== Mesure : longueur_du_cou_au_genou ===\n",
      "       ANSUR II MALE  ANSUR II FEMALE  BDIMS MALE  BDIMS FEMALE  CAESAR MALE  \\\n",
      "count    4082.000000      1986.000000       247.0         260.0       2107.0   \n",
      "mean       61.795345        59.059466         0.0           0.0          0.0   \n",
      "std         3.058865         3.260167         0.0           0.0          0.0   \n",
      "min        51.800000        46.600000         0.0           0.0          0.0   \n",
      "25%        59.700000        56.900000         0.0           0.0          0.0   \n",
      "50%        61.700000        58.900000         0.0           0.0          0.0   \n",
      "75%        63.900000        61.000000         0.0           0.0          0.0   \n",
      "max        73.600000        70.900000         0.0           0.0          0.0   \n",
      "\n",
      "       CAESAR FEMALE  \n",
      "count         2352.0  \n",
      "mean             0.0  \n",
      "std              0.0  \n",
      "min              0.0  \n",
      "25%              0.0  \n",
      "50%              0.0  \n",
      "75%              0.0  \n",
      "max              0.0  \n",
      "\n",
      "\n",
      "=== Mesure : longueur_du_côte ===\n",
      "       ANSUR II MALE  ANSUR II FEMALE  BDIMS MALE  BDIMS FEMALE  CAESAR MALE  \\\n",
      "count         4082.0           1986.0       247.0         260.0       2107.0   \n",
      "mean             0.0              0.0         0.0           0.0          0.0   \n",
      "std              0.0              0.0         0.0           0.0          0.0   \n",
      "min              0.0              0.0         0.0           0.0          0.0   \n",
      "25%              0.0              0.0         0.0           0.0          0.0   \n",
      "50%              0.0              0.0         0.0           0.0          0.0   \n",
      "75%              0.0              0.0         0.0           0.0          0.0   \n",
      "max              0.0              0.0         0.0           0.0          0.0   \n",
      "\n",
      "       CAESAR FEMALE  \n",
      "count         2352.0  \n",
      "mean             0.0  \n",
      "std              0.0  \n",
      "min              0.0  \n",
      "25%              0.0  \n",
      "50%              0.0  \n",
      "75%              0.0  \n",
      "max              0.0  \n",
      "\n",
      "\n",
      "=== Mesure : longueur_du_dos ===\n",
      "       ANSUR II MALE  ANSUR II FEMALE  BDIMS MALE  BDIMS FEMALE  CAESAR MALE  \\\n",
      "count    4082.000000      1986.000000       247.0         260.0       2107.0   \n",
      "mean       47.761244        42.540282         0.0           0.0          0.0   \n",
      "std         2.772829         2.638895         0.0           0.0          0.0   \n",
      "min        38.300000        34.500000         0.0           0.0          0.0   \n",
      "25%        45.925000        40.700000         0.0           0.0          0.0   \n",
      "50%        47.700000        42.450000         0.0           0.0          0.0   \n",
      "75%        49.500000        44.200000         0.0           0.0          0.0   \n",
      "max        59.800000        53.200000         0.0           0.0          0.0   \n",
      "\n",
      "       CAESAR FEMALE  \n",
      "count         2352.0  \n",
      "mean             0.0  \n",
      "std              0.0  \n",
      "min              0.0  \n",
      "25%              0.0  \n",
      "50%              0.0  \n",
      "75%              0.0  \n",
      "max              0.0  \n",
      "\n",
      "\n",
      "=== Mesure : longueur_du_tronc ===\n",
      "       ANSUR II MALE  ANSUR II FEMALE  BDIMS MALE  BDIMS FEMALE  CAESAR MALE  \\\n",
      "count    4082.000000      1986.000000       247.0         260.0       2107.0   \n",
      "mean       91.828981        85.662588         0.0           0.0          0.0   \n",
      "std         3.569818         3.305424         0.0           0.0          0.0   \n",
      "min        79.000000        75.000000         0.0           0.0          0.0   \n",
      "25%        89.425000        83.400000         0.0           0.0          0.0   \n",
      "50%        91.800000        85.700000         0.0           0.0          0.0   \n",
      "75%        94.300000        87.900000         0.0           0.0          0.0   \n",
      "max       103.900000        95.300000         0.0           0.0          0.0   \n",
      "\n",
      "       CAESAR FEMALE  \n",
      "count         2352.0  \n",
      "mean             0.0  \n",
      "std              0.0  \n",
      "min              0.0  \n",
      "25%              0.0  \n",
      "50%              0.0  \n",
      "75%              0.0  \n",
      "max              0.0  \n",
      "\n",
      "\n",
      "=== Mesure : profondeur_de_poitrine ===\n",
      "       ANSUR II MALE  ANSUR II FEMALE  BDIMS MALE  BDIMS FEMALE  CAESAR MALE  \\\n",
      "count         4082.0           1986.0  247.000000    260.000000       2107.0   \n",
      "mean             0.0              0.0   20.806478     17.724615          0.0   \n",
      "std              0.0              0.0    2.143633      1.832064          0.0   \n",
      "min              0.0              0.0   14.400000     14.300000          0.0   \n",
      "25%              0.0              0.0   19.350000     16.500000          0.0   \n",
      "50%              0.0              0.0   20.600000     17.500000          0.0   \n",
      "75%              0.0              0.0   22.100000     18.700000          0.0   \n",
      "max              0.0              0.0   27.500000     26.800000          0.0   \n",
      "\n",
      "       CAESAR FEMALE  \n",
      "count         2352.0  \n",
      "mean             0.0  \n",
      "std              0.0  \n",
      "min              0.0  \n",
      "25%              0.0  \n",
      "50%              0.0  \n",
      "75%              0.0  \n",
      "max              0.0  \n",
      "\n",
      "\n",
      "=== Mesure : profondeur_des_aisselles ===\n",
      "       ANSUR II MALE  ANSUR II FEMALE  BDIMS MALE  BDIMS FEMALE  CAESAR MALE  \\\n",
      "count         4082.0           1986.0       247.0         260.0       2107.0   \n",
      "mean             0.0              0.0         0.0           0.0          0.0   \n",
      "std              0.0              0.0         0.0           0.0          0.0   \n",
      "min              0.0              0.0         0.0           0.0          0.0   \n",
      "25%              0.0              0.0         0.0           0.0          0.0   \n",
      "50%              0.0              0.0         0.0           0.0          0.0   \n",
      "75%              0.0              0.0         0.0           0.0          0.0   \n",
      "max              0.0              0.0         0.0           0.0          0.0   \n",
      "\n",
      "       CAESAR FEMALE  \n",
      "count         2352.0  \n",
      "mean             0.0  \n",
      "std              0.0  \n",
      "min              0.0  \n",
      "25%              0.0  \n",
      "50%              0.0  \n",
      "75%              0.0  \n",
      "max              0.0  \n",
      "\n",
      "\n",
      "=== Mesure : sex ===\n",
      "       ANSUR II MALE  ANSUR II FEMALE  BDIMS MALE  BDIMS FEMALE  CAESAR MALE  \\\n",
      "count         4082.0           1986.0       247.0         260.0       2107.0   \n",
      "mean             1.0              0.0         1.0           0.0          1.0   \n",
      "std              0.0              0.0         0.0           0.0          0.0   \n",
      "min              1.0              0.0         1.0           0.0          1.0   \n",
      "25%              1.0              0.0         1.0           0.0          1.0   \n",
      "50%              1.0              0.0         1.0           0.0          1.0   \n",
      "75%              1.0              0.0         1.0           0.0          1.0   \n",
      "max              1.0              0.0         1.0           0.0          1.0   \n",
      "\n",
      "       CAESAR FEMALE  \n",
      "count         2352.0  \n",
      "mean             0.0  \n",
      "std              0.0  \n",
      "min              0.0  \n",
      "25%              0.0  \n",
      "50%              0.0  \n",
      "75%              0.0  \n",
      "max              0.0  \n",
      "\n",
      "\n",
      "=== Mesure : taille ===\n",
      "       ANSUR II MALE  ANSUR II FEMALE  BDIMS MALE  BDIMS FEMALE  CAESAR MALE  \\\n",
      "count    4082.000000      1986.000000  247.000000    260.000000  2106.000000   \n",
      "mean      175.621460       162.847331  177.745344    164.872308   177.913588   \n",
      "std         6.855079         6.419951    7.183629      6.544602     8.431030   \n",
      "min       149.100000       140.900000  157.200000    147.200000   131.495800   \n",
      "25%       171.000000       158.625000  172.900000    160.000000   172.212000   \n",
      "50%       175.500000       162.600000  177.800000    164.500000   177.495200   \n",
      "75%       180.200000       167.200000  182.650000    169.500000   183.311800   \n",
      "max       199.300000       182.900000  198.100000    182.900000   218.287600   \n",
      "\n",
      "       CAESAR FEMALE  \n",
      "count    2352.000000  \n",
      "mean      164.682898  \n",
      "std         7.601709  \n",
      "min       124.790200  \n",
      "25%       159.512000  \n",
      "50%       164.388800  \n",
      "75%       169.595800  \n",
      "max       194.792600  \n",
      "\n",
      "\n",
      "=== Mesure : tour_d_avant_bras ===\n",
      "       ANSUR II MALE  ANSUR II FEMALE  BDIMS MALE  BDIMS FEMALE  CAESAR MALE  \\\n",
      "count    4082.000000      1986.000000  247.000000    260.000000       2107.0   \n",
      "mean       31.005855        26.408157   28.240486     23.760385          0.0   \n",
      "std         2.199099         1.851784    1.779325      1.682251          0.0   \n",
      "min        23.300000        20.000000   22.700000     19.600000          0.0   \n",
      "25%        29.500000        25.100000   27.100000     22.675000          0.0   \n",
      "50%        31.000000        26.300000   28.400000     23.600000          0.0   \n",
      "75%        32.400000        27.600000   29.400000     24.700000          0.0   \n",
      "max        40.200000        34.200000   32.500000     30.800000          0.0   \n",
      "\n",
      "       CAESAR FEMALE  \n",
      "count         2352.0  \n",
      "mean             0.0  \n",
      "std              0.0  \n",
      "min              0.0  \n",
      "25%              0.0  \n",
      "50%              0.0  \n",
      "75%              0.0  \n",
      "max              0.0  \n",
      "\n",
      "\n",
      "=== Mesure : tour_de_biceps ===\n",
      "       ANSUR II MALE  ANSUR II FEMALE  BDIMS MALE  BDIMS FEMALE  CAESAR MALE  \\\n",
      "count    4082.000000      1986.000000  247.000000    260.000000       2107.0   \n",
      "mean       35.813572        30.557855   34.403644     28.097308          0.0   \n",
      "std         3.461809         3.075703    2.982037      2.709477          0.0   \n",
      "min        24.600000        21.600000   25.600000     22.400000          0.0   \n",
      "25%        33.500000        28.500000   32.500000     26.400000          0.0   \n",
      "50%        35.700000        30.400000   34.400000     27.800000          0.0   \n",
      "75%        38.000000        32.400000   36.400000     29.800000          0.0   \n",
      "max        49.000000        43.500000   42.400000     40.300000          0.0   \n",
      "\n",
      "       CAESAR FEMALE  \n",
      "count         2352.0  \n",
      "mean             0.0  \n",
      "std              0.0  \n",
      "min              0.0  \n",
      "25%              0.0  \n",
      "50%              0.0  \n",
      "75%              0.0  \n",
      "max              0.0  \n",
      "\n",
      "\n",
      "=== Mesure : tour_de_cheville ===\n",
      "       ANSUR II MALE  ANSUR II FEMALE  BDIMS MALE  BDIMS FEMALE  CAESAR MALE  \\\n",
      "count    4082.000000      1986.000000  247.000000    260.000000  2107.000000   \n",
      "mean       22.934395        21.573968   23.159109     21.205769    26.720221   \n",
      "std         1.464910         1.489176    1.729088      1.438818     1.545217   \n",
      "min        15.600000        17.000000   16.400000     17.400000    22.199600   \n",
      "25%        21.925000        20.500000   22.000000     20.300000    25.704800   \n",
      "50%        22.800000        21.500000   23.000000     21.100000    26.593800   \n",
      "75%        23.900000        22.500000   24.300000     22.000000    27.711400   \n",
      "max        29.300000        27.500000   29.300000     26.000000    36.703000   \n",
      "\n",
      "       CAESAR FEMALE  \n",
      "count    2351.000000  \n",
      "mean       24.126089  \n",
      "std         1.524024  \n",
      "min        18.999200  \n",
      "25%        23.088600  \n",
      "50%        24.003000  \n",
      "75%        24.993600  \n",
      "max        31.800800  \n",
      "\n",
      "\n",
      "=== Mesure : tour_de_coude ===\n",
      "       ANSUR II MALE  ANSUR II FEMALE  BDIMS MALE  BDIMS FEMALE  CAESAR MALE  \\\n",
      "count         4082.0           1986.0  247.000000    260.000000       2107.0   \n",
      "mean             0.0              0.0   14.457085     12.366923          0.0   \n",
      "std              0.0              0.0    0.882543      0.836373          0.0   \n",
      "min              0.0              0.0   12.400000      9.900000          0.0   \n",
      "25%              0.0              0.0   13.800000     11.800000          0.0   \n",
      "50%              0.0              0.0   14.400000     12.400000          0.0   \n",
      "75%              0.0              0.0   15.100000     12.900000          0.0   \n",
      "max              0.0              0.0   16.700000     15.000000          0.0   \n",
      "\n",
      "       CAESAR FEMALE  \n",
      "count         2352.0  \n",
      "mean             0.0  \n",
      "std              0.0  \n",
      "min              0.0  \n",
      "25%              0.0  \n",
      "50%              0.0  \n",
      "75%              0.0  \n",
      "max              0.0  \n",
      "\n",
      "\n",
      "=== Mesure : tour_de_cuisse ===\n",
      "       ANSUR II MALE  ANSUR II FEMALE  BDIMS MALE  BDIMS FEMALE  CAESAR MALE  \\\n",
      "count    4082.000000      1986.000000  247.000000    260.000000  2105.000000   \n",
      "mean       62.514233        61.614854   56.497976     57.195769    59.344186   \n",
      "std         5.845217         5.581030    4.246667      4.636004     5.874585   \n",
      "min        41.200000        44.800000   46.800000     46.300000    43.002200   \n",
      "25%        58.600000        57.900000   53.700000     53.775000    55.499000   \n",
      "50%        62.400000        61.300000   56.000000     56.400000    58.699400   \n",
      "75%        66.200000        65.100000   59.150000     59.800000    62.509400   \n",
      "max        84.300000        87.000000   70.000000     75.700000    94.107000   \n",
      "\n",
      "       CAESAR FEMALE  \n",
      "count    2347.000000  \n",
      "mean       59.917345  \n",
      "std         7.048276  \n",
      "min        41.300400  \n",
      "25%        54.991000  \n",
      "50%        58.801000  \n",
      "75%        63.601600  \n",
      "max       105.689400  \n",
      "\n",
      "\n",
      "=== Mesure : tour_de_genou ===\n",
      "       ANSUR II MALE  ANSUR II FEMALE  BDIMS MALE  BDIMS FEMALE  CAESAR MALE  \\\n",
      "count         4082.0           1986.0  247.000000    260.000000       2107.0   \n",
      "mean             0.0              0.0   37.195547     35.260000          0.0   \n",
      "std              0.0              0.0    2.272999      2.578081          0.0   \n",
      "min              0.0              0.0   31.100000     29.000000          0.0   \n",
      "25%              0.0              0.0   35.750000     33.500000          0.0   \n",
      "50%              0.0              0.0   37.000000     35.000000          0.0   \n",
      "75%              0.0              0.0   38.450000     36.800000          0.0   \n",
      "max              0.0              0.0   45.700000     49.000000          0.0   \n",
      "\n",
      "       CAESAR FEMALE  \n",
      "count         2352.0  \n",
      "mean             0.0  \n",
      "std              0.0  \n",
      "min              0.0  \n",
      "25%              0.0  \n",
      "50%              0.0  \n",
      "75%              0.0  \n",
      "max              0.0  \n",
      "\n",
      "\n",
      "=== Mesure : tour_de_hanches_haut ===\n",
      "       ANSUR II MALE  ANSUR II FEMALE  BDIMS MALE  BDIMS FEMALE  CAESAR MALE  \\\n",
      "count         4082.0           1986.0  247.000000    260.000000       2107.0   \n",
      "mean             0.0              0.0   97.763158     95.652692          0.0   \n",
      "std              0.0              0.0    6.228043      6.940728          0.0   \n",
      "min              0.0              0.0   81.500000     78.800000          0.0   \n",
      "25%              0.0              0.0   93.250000     90.750000          0.0   \n",
      "50%              0.0              0.0   97.400000     94.950000          0.0   \n",
      "75%              0.0              0.0  101.550000     99.500000          0.0   \n",
      "max              0.0              0.0  118.700000    128.300000          0.0   \n",
      "\n",
      "       CAESAR FEMALE  \n",
      "count         2352.0  \n",
      "mean             0.0  \n",
      "std              0.0  \n",
      "min              0.0  \n",
      "25%              0.0  \n",
      "50%              0.0  \n",
      "75%              0.0  \n",
      "max              0.0  \n",
      "\n",
      "\n",
      "=== Mesure : tour_de_mollet ===\n",
      "       ANSUR II MALE  ANSUR II FEMALE  BDIMS MALE  BDIMS FEMALE  CAESAR MALE  \\\n",
      "count    4082.000000      1986.000000  247.000000    260.000000       2107.0   \n",
      "mean       39.226066        37.325780   37.206883     35.006154          0.0   \n",
      "std         2.970884         2.851518    2.645135      2.613131          0.0   \n",
      "min        26.600000        28.200000   28.900000     28.400000          0.0   \n",
      "25%        37.200000        35.400000   35.500000     33.100000          0.0   \n",
      "50%        39.200000        37.200000   37.300000     34.850000          0.0   \n",
      "75%        41.200000        39.175000   38.950000     36.600000          0.0   \n",
      "max        52.300000        48.200000   47.700000     45.400000          0.0   \n",
      "\n",
      "       CAESAR FEMALE  \n",
      "count         2352.0  \n",
      "mean             0.0  \n",
      "std              0.0  \n",
      "min              0.0  \n",
      "25%              0.0  \n",
      "50%              0.0  \n",
      "75%              0.0  \n",
      "max              0.0  \n",
      "\n",
      "\n",
      "=== Mesure : tour_de_poignet ===\n",
      "       ANSUR II MALE  ANSUR II FEMALE  BDIMS MALE  BDIMS FEMALE  CAESAR MALE  \\\n",
      "count    4082.000000      1986.000000  247.000000    260.000000       2107.0   \n",
      "mean       17.591671        15.479255   11.246154      9.874231          0.0   \n",
      "std         0.895506         0.782770    0.635897      0.661627          0.0   \n",
      "min        14.100000        12.400000    9.800000      8.100000          0.0   \n",
      "25%        17.000000        15.000000   10.800000      9.400000          0.0   \n",
      "50%        17.600000        15.400000   11.200000      9.800000          0.0   \n",
      "75%        18.200000        16.000000   11.650000     10.400000          0.0   \n",
      "max        21.600000        18.300000   13.300000     12.200000          0.0   \n",
      "\n",
      "       CAESAR FEMALE  \n",
      "count         2352.0  \n",
      "mean             0.0  \n",
      "std              0.0  \n",
      "min              0.0  \n",
      "25%              0.0  \n",
      "50%              0.0  \n",
      "75%              0.0  \n",
      "max              0.0  \n",
      "\n",
      "\n",
      "=== Mesure : tour_de_poitrine ===\n",
      "       ANSUR II MALE  ANSUR II FEMALE  BDIMS MALE  BDIMS FEMALE  CAESAR MALE  \\\n",
      "count    4082.000000      1986.000000  247.000000    260.000000  2106.000000   \n",
      "mean      105.870554        94.685801  100.989879     86.060000   101.697680   \n",
      "std         8.743527         8.269911    7.209018      6.170406    10.616289   \n",
      "min        77.400000        69.500000   79.300000     72.600000    75.793600   \n",
      "25%        99.600000        88.900000   95.950000     81.975000    94.411800   \n",
      "50%       105.600000        94.000000  101.000000     85.500000   100.406200   \n",
      "75%       111.700000        99.900000  106.050000     89.500000   107.670600   \n",
      "max       146.900000       126.600000  118.700000    109.000000   157.403800   \n",
      "\n",
      "       CAESAR FEMALE  \n",
      "count    2351.000000  \n",
      "mean       95.892714  \n",
      "std        12.164740  \n",
      "min        73.304400  \n",
      "25%        87.299800  \n",
      "50%        92.989400  \n",
      "75%       101.549200  \n",
      "max       155.498800  \n",
      "\n",
      "\n",
      "=== Mesure : tour_de_poitrine_mesure_a_la_main ===\n",
      "       ANSUR II MALE  ANSUR II FEMALE  BDIMS MALE  BDIMS FEMALE  CAESAR MALE  \\\n",
      "count         4082.0           1986.0       247.0         260.0          0.0   \n",
      "mean             0.0              0.0         0.0           0.0          NaN   \n",
      "std              0.0              0.0         0.0           0.0          NaN   \n",
      "min              0.0              0.0         0.0           0.0          NaN   \n",
      "25%              0.0              0.0         0.0           0.0          NaN   \n",
      "50%              0.0              0.0         0.0           0.0          NaN   \n",
      "75%              0.0              0.0         0.0           0.0          NaN   \n",
      "max              0.0              0.0         0.0           0.0          NaN   \n",
      "\n",
      "       CAESAR FEMALE  \n",
      "count    2139.000000  \n",
      "mean       91.024385  \n",
      "std         6.902016  \n",
      "min        81.280000  \n",
      "25%        86.360000  \n",
      "50%        91.440000  \n",
      "75%        96.520000  \n",
      "max       116.840000  \n",
      "\n",
      "\n",
      "=== Mesure : tour_de_taille ===\n",
      "       ANSUR II MALE  ANSUR II FEMALE  BDIMS MALE  BDIMS FEMALE  CAESAR MALE  \\\n",
      "count    4082.000000      1986.000000  247.000000    260.000000  2103.000000   \n",
      "mean       94.057741        86.090534   84.533198     69.803462    90.094742   \n",
      "std        11.170587         9.993177    8.782241      7.587748    11.694893   \n",
      "min        64.800000        61.100000   67.100000     57.900000    61.899800   \n",
      "25%        85.700000        79.000000   77.900000     64.750000    82.194400   \n",
      "50%        93.700000        85.200000   83.400000     68.300000    88.290400   \n",
      "75%       101.600000        92.500000   90.000000     72.750000    95.707200   \n",
      "max       137.900000       133.400000  113.200000    101.500000   170.205400   \n",
      "\n",
      "       CAESAR FEMALE  \n",
      "count    2348.000000  \n",
      "mean       79.947636  \n",
      "std        13.020637  \n",
      "min        55.702200  \n",
      "25%        71.196200  \n",
      "50%        76.809600  \n",
      "75%        85.902800  \n",
      "max       149.809200  \n",
      "\n",
      "\n",
      "=== Mesure : tour_de_tête ===\n",
      "       ANSUR II MALE  ANSUR II FEMALE  BDIMS MALE  BDIMS FEMALE  CAESAR MALE  \\\n",
      "count    4082.000000      1986.000000       247.0         260.0       2107.0   \n",
      "mean       57.437286        56.111984         0.0           0.0          0.0   \n",
      "std         1.604852         1.936094         0.0           0.0          0.0   \n",
      "min        51.600000        50.000000         0.0           0.0          0.0   \n",
      "25%        56.300000        54.800000         0.0           0.0          0.0   \n",
      "50%        57.400000        56.000000         0.0           0.0          0.0   \n",
      "75%        58.500000        57.300000         0.0           0.0          0.0   \n",
      "max        63.300000        63.500000         0.0           0.0          0.0   \n",
      "\n",
      "       CAESAR FEMALE  \n",
      "count         2352.0  \n",
      "mean             0.0  \n",
      "std              0.0  \n",
      "min              0.0  \n",
      "25%              0.0  \n",
      "50%              0.0  \n",
      "75%              0.0  \n",
      "max              0.0  \n",
      "\n",
      "\n",
      "=== Mesure : tour_de_ventre_maximal ===\n",
      "       ANSUR II MALE  ANSUR II FEMALE  BDIMS MALE  BDIMS FEMALE  CAESAR MALE  \\\n",
      "count    4082.000000      1986.000000       247.0         260.0  2103.000000   \n",
      "mean       94.057741        86.090534         0.0           0.0    90.094742   \n",
      "std        11.170587         9.993177         0.0           0.0    11.694893   \n",
      "min        64.800000        61.100000         0.0           0.0    61.899800   \n",
      "25%        85.700000        79.000000         0.0           0.0    82.194400   \n",
      "50%        93.700000        85.200000         0.0           0.0    88.290400   \n",
      "75%       101.600000        92.500000         0.0           0.0    95.707200   \n",
      "max       137.900000       133.400000         0.0           0.0   170.205400   \n",
      "\n",
      "       CAESAR FEMALE  \n",
      "count    2348.000000  \n",
      "mean       79.947636  \n",
      "std        13.020637  \n",
      "min        55.702200  \n",
      "25%        71.196200  \n",
      "50%        76.809600  \n",
      "75%        85.902800  \n",
      "max       149.809200  \n",
      "\n",
      "\n",
      "=== Mesure : tour_du_cou ===\n",
      "       ANSUR II MALE  ANSUR II FEMALE  BDIMS MALE  BDIMS FEMALE  CAESAR MALE  \\\n",
      "count    4082.000000      1986.000000       247.0         260.0  2104.000000   \n",
      "mean       39.764895        32.979557         0.0           0.0    47.477682   \n",
      "std         2.577676         1.922114         0.0           0.0     3.143302   \n",
      "min        31.100000        27.500000         0.0           0.0    38.709600   \n",
      "25%        37.925000        31.600000         0.0           0.0    45.288200   \n",
      "50%        39.500000        32.800000         0.0           0.0    47.193200   \n",
      "75%        41.375000        34.200000         0.0           0.0    49.098200   \n",
      "max        51.400000        42.400000         0.0           0.0    62.204600   \n",
      "\n",
      "       CAESAR FEMALE  \n",
      "count    2346.000000  \n",
      "mean       42.207124  \n",
      "std         3.152315  \n",
      "min        34.391600  \n",
      "25%        40.005000  \n",
      "50%        41.808400  \n",
      "75%        43.992800  \n",
      "max        58.699400  \n",
      "\n",
      "\n",
      "=== Mesure : weight ===\n",
      "       ANSUR II MALE  ANSUR II FEMALE  BDIMS MALE  BDIMS FEMALE  CAESAR MALE  \\\n",
      "count    4082.000000      1986.000000  247.000000    260.000000  2106.000000   \n",
      "mean       85.277518        66.907104   78.144534     60.600385    82.985266   \n",
      "std        13.581392        10.367013   10.512890      9.615699    17.167743   \n",
      "min         0.000000        39.008912   53.900000     42.000000    45.812792   \n",
      "25%        76.203456        58.966960   70.950000     54.500000    70.801175   \n",
      "50%        83.914520        65.770840   77.300000     59.000000    80.058988   \n",
      "75%        93.893544        73.028312   85.500000     65.600000    91.398788   \n",
      "max       145.603032       122.469840  116.400000    105.200000   181.436800   \n",
      "\n",
      "       CAESAR FEMALE  \n",
      "count    2352.000000  \n",
      "mean       68.191255  \n",
      "std        16.651740  \n",
      "min        37.298870  \n",
      "25%        56.773843  \n",
      "50%        64.618716  \n",
      "75%        75.325755  \n",
      "max       156.489240  \n"
     ]
    }
   ],
   "source": [
    "# Séparer BDIMS en hommes (1) et femmes (0)\n",
    "df_bdims_male = cleaned_bdims[cleaned_bdims['sex'] == 1]\n",
    "df_bdims_female =cleaned_bdims[cleaned_bdims['sex'] == 0]\n",
    "\n",
    "# Séparer CAESAR en hommes (1) et femmes (0) (supposant que la colonne s'appelle aussi 'sex')\n",
    "df_caesar_male = cleaned_caesar[cleaned_caesar['sex'] == 1]\n",
    "df_caesar_female = cleaned_caesar[cleaned_caesar['sex'] == 0]\n",
    "\n",
    "# Séparer ANSUR en hommes (1) et femmes (0)\n",
    "df_ansur_male = cleaned_ansur[cleaned_ansur['sex'] == 1]\n",
    "df_ansur_female = cleaned_ansur[cleaned_ansur['sex'] == 0]\n",
    "\n",
    "# Trouver les colonnes communes (en incluant les nouvelles séparations)\n",
    "colonnes_communes = list(\n",
    "    set(df_ansur_male.columns) & \n",
    "    set(df_ansur_female.columns) & \n",
    "    set(df_bdims_male.columns) & \n",
    "    set(df_bdims_female.columns) & \n",
    "    set(df_caesar_male.columns) & \n",
    "    set(df_caesar_female.columns)\n",
    ")\n",
    "\n",
    "colonnes_communes.sort()  # Pour lisibilité\n",
    "print(f\"Nombre de colonnes en commun : {len(colonnes_communes)}\")\n",
    "\n",
    "# Pour chaque mesure, créer un tableau comparatif\n",
    "for col in colonnes_communes:\n",
    "    desc_ansur_male = df_ansur_male[col].describe()\n",
    "    desc_ansur_female = df_ansur_female[col].describe()\n",
    "    desc_bdims_male = df_bdims_male[col].describe()\n",
    "    desc_bdims_female = df_bdims_female[col].describe()\n",
    "    desc_caesar_male = df_caesar_male[col].describe()\n",
    "    desc_caesar_female = df_caesar_female[col].describe()\n",
    "    \n",
    "    # Créer un DataFrame avec les statistiques comme lignes\n",
    "    comparaison = pd.DataFrame({\n",
    "        'ANSUR II MALE': desc_ansur_male,\n",
    "        'ANSUR II FEMALE': desc_ansur_female,\n",
    "        'BDIMS MALE': desc_bdims_male,\n",
    "        'BDIMS FEMALE': desc_bdims_female,\n",
    "        'CAESAR MALE': desc_caesar_male,\n",
    "        'CAESAR FEMALE': desc_caesar_female\n",
    "    })\n",
    "\n",
    "    print(f\"\\n\\n=== Mesure : {col} ===\")\n",
    "    print(comparaison)    "
   ]
  }
 ],
 "metadata": {
  "kernelspec": {
   "display_name": "Python 3 (ipykernel)",
   "language": "python",
   "name": "python3"
  },
  "language_info": {
   "codemirror_mode": {
    "name": "ipython",
    "version": 3
   },
   "file_extension": ".py",
   "mimetype": "text/x-python",
   "name": "python",
   "nbconvert_exporter": "python",
   "pygments_lexer": "ipython3",
   "version": "3.10.10"
  }
 },
 "nbformat": 4,
 "nbformat_minor": 5
}

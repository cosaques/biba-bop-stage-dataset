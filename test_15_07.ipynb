{
 "cells": [
  {
   "cell_type": "code",
   "execution_count": 1,
   "id": "b64d16b5-3283-449f-9f77-57cf85f9e59c",
   "metadata": {
    "execution": {
     "iopub.execute_input": "2025-07-17T09:53:10.877486Z",
     "iopub.status.busy": "2025-07-17T09:53:10.877486Z",
     "iopub.status.idle": "2025-07-17T09:53:14.313186Z",
     "shell.execute_reply": "2025-07-17T09:53:14.311312Z",
     "shell.execute_reply.started": "2025-07-17T09:53:10.877486Z"
    }
   },
   "outputs": [],
   "source": [
    " import pandas as pd"
   ]
  },
  {
   "cell_type": "code",
   "execution_count": 2,
   "id": "5558abb5-7636-4f8a-9625-169ec9a620a7",
   "metadata": {
    "execution": {
     "iopub.execute_input": "2025-07-17T09:53:14.317185Z",
     "iopub.status.busy": "2025-07-17T09:53:14.315189Z",
     "iopub.status.idle": "2025-07-17T09:53:14.437569Z",
     "shell.execute_reply": "2025-07-17T09:53:14.436589Z",
     "shell.execute_reply.started": "2025-07-17T09:53:14.317185Z"
    }
   },
   "outputs": [],
   "source": [
    "man_df = pd.read_csv('data/ANSUR_II_MALE.csv', encoding='cp1252', sep=';')\n",
    "man_df[\"sex\"] = 1"
   ]
  },
  {
   "cell_type": "code",
   "execution_count": 3,
   "id": "bd8520bb-bcfc-4cdf-a548-0610227fbd25",
   "metadata": {
    "execution": {
     "iopub.execute_input": "2025-07-17T09:53:14.438562Z",
     "iopub.status.busy": "2025-07-17T09:53:14.438562Z",
     "iopub.status.idle": "2025-07-17T09:53:14.499924Z",
     "shell.execute_reply": "2025-07-17T09:53:14.498569Z",
     "shell.execute_reply.started": "2025-07-17T09:53:14.438562Z"
    }
   },
   "outputs": [],
   "source": [
    "woman_df = pd.read_csv('data/ANSUR_II_FEMALE.csv', encoding='cp1252', sep=';')\n",
    "woman_df[\"sex\"] = 0"
   ]
  },
  {
   "cell_type": "code",
   "execution_count": 4,
   "id": "aa0f5edc-b02d-43ea-ad84-b4dbe52cabfd",
   "metadata": {
    "execution": {
     "iopub.execute_input": "2025-07-17T09:53:14.501240Z",
     "iopub.status.busy": "2025-07-17T09:53:14.501240Z",
     "iopub.status.idle": "2025-07-17T09:53:14.515014Z",
     "shell.execute_reply": "2025-07-17T09:53:14.514037Z",
     "shell.execute_reply.started": "2025-07-17T09:53:14.501240Z"
    }
   },
   "outputs": [
    {
     "name": "stdout",
     "output_type": "stream",
     "text": [
      "(4082, 109)\n",
      "(1986, 109)\n"
     ]
    }
   ],
   "source": [
    "print(man_df.shape)\n",
    "print(woman_df.shape)"
   ]
  },
  {
   "cell_type": "code",
   "execution_count": 5,
   "id": "0e4b796c-0916-4276-b4be-659938aec946",
   "metadata": {
    "execution": {
     "iopub.execute_input": "2025-07-17T09:53:14.518011Z",
     "iopub.status.busy": "2025-07-17T09:53:14.517010Z",
     "iopub.status.idle": "2025-07-17T09:53:14.546680Z",
     "shell.execute_reply": "2025-07-17T09:53:14.545693Z",
     "shell.execute_reply.started": "2025-07-17T09:53:14.518011Z"
    }
   },
   "outputs": [],
   "source": [
    "ansur_df = pd.concat([man_df, woman_df], ignore_index=True)"
   ]
  },
  {
   "cell_type": "markdown",
   "id": "7661aa1f-210c-4937-9227-b39c027825b3",
   "metadata": {},
   "source": [
    "## Cleaned data"
   ]
  },
  {
   "cell_type": "code",
   "execution_count": 6,
   "id": "dd07e52f-13df-4810-910f-760a8fae75ee",
   "metadata": {
    "execution": {
     "iopub.execute_input": "2025-07-17T09:53:14.548680Z",
     "iopub.status.busy": "2025-07-17T09:53:14.547699Z",
     "iopub.status.idle": "2025-07-17T09:53:14.563124Z",
     "shell.execute_reply": "2025-07-17T09:53:14.561119Z",
     "shell.execute_reply.started": "2025-07-17T09:53:14.548680Z"
    }
   },
   "outputs": [],
   "source": [
    "cleaned_ansur = pd.DataFrame()\n",
    "cleaned_ansur[\"taille\"] = ansur_df[\"stature\"]/10"
   ]
  },
  {
   "cell_type": "code",
   "execution_count": 7,
   "id": "fadcd04d-c85e-47db-97fb-c4eb701c59e2",
   "metadata": {
    "execution": {
     "iopub.execute_input": "2025-07-17T09:53:14.564124Z",
     "iopub.status.busy": "2025-07-17T09:53:14.564124Z",
     "iopub.status.idle": "2025-07-17T09:53:14.577422Z",
     "shell.execute_reply": "2025-07-17T09:53:14.576452Z",
     "shell.execute_reply.started": "2025-07-17T09:53:14.564124Z"
    }
   },
   "outputs": [],
   "source": [
    "cleaned_ansur[\"age\"] = ansur_df[\"Age\"]"
   ]
  },
  {
   "cell_type": "code",
   "execution_count": 8,
   "id": "6f097c15-7db9-448f-8891-e2fc6d23f21f",
   "metadata": {
    "execution": {
     "iopub.execute_input": "2025-07-17T09:53:14.580175Z",
     "iopub.status.busy": "2025-07-17T09:53:14.578659Z",
     "iopub.status.idle": "2025-07-17T09:53:14.593875Z",
     "shell.execute_reply": "2025-07-17T09:53:14.591878Z",
     "shell.execute_reply.started": "2025-07-17T09:53:14.580175Z"
    }
   },
   "outputs": [],
   "source": [
    "cleaned_ansur[\"weight\"] = ansur_df[\"Weightlbs\"]*0.453592"
   ]
  },
  {
   "cell_type": "code",
   "execution_count": 9,
   "id": "7a796de1-3e6e-416b-b78a-a3b13fad1140",
   "metadata": {
    "execution": {
     "iopub.execute_input": "2025-07-17T09:53:14.595880Z",
     "iopub.status.busy": "2025-07-17T09:53:14.594880Z",
     "iopub.status.idle": "2025-07-17T09:53:14.608884Z",
     "shell.execute_reply": "2025-07-17T09:53:14.607902Z",
     "shell.execute_reply.started": "2025-07-17T09:53:14.595880Z"
    }
   },
   "outputs": [],
   "source": [
    "cleaned_ansur[\"sex\"] = ansur_df[\"sex\"]"
   ]
  },
  {
   "cell_type": "code",
   "execution_count": 10,
   "id": "e85600d9-d60a-4799-b751-1a3677f638d6",
   "metadata": {
    "execution": {
     "iopub.execute_input": "2025-07-17T09:53:14.614449Z",
     "iopub.status.busy": "2025-07-17T09:53:14.614449Z",
     "iopub.status.idle": "2025-07-17T09:53:14.625589Z",
     "shell.execute_reply": "2025-07-17T09:53:14.623184Z",
     "shell.execute_reply.started": "2025-07-17T09:53:14.614449Z"
    }
   },
   "outputs": [],
   "source": [
    "cleaned_ansur[\"tour_de_cheville\"]=ansur_df[\"anklecircumference\"]/10"
   ]
  },
  {
   "cell_type": "code",
   "execution_count": 171,
   "id": "5199e059-885d-4f35-8ce5-a92c2aefbac2",
   "metadata": {
    "execution": {
     "iopub.execute_input": "2025-07-17T11:00:05.494437Z",
     "iopub.status.busy": "2025-07-17T11:00:05.492436Z",
     "iopub.status.idle": "2025-07-17T11:00:05.512961Z",
     "shell.execute_reply": "2025-07-17T11:00:05.511956Z",
     "shell.execute_reply.started": "2025-07-17T11:00:05.494437Z"
    }
   },
   "outputs": [],
   "source": [
    "cleaned_ansur[\"longueur_du_bras\"]=0"
   ]
  },
  {
   "cell_type": "code",
   "execution_count": 12,
   "id": "564a712d-7d7f-40d6-b4f3-7b27f294c64b",
   "metadata": {
    "execution": {
     "iopub.execute_input": "2025-07-17T09:53:14.643227Z",
     "iopub.status.busy": "2025-07-17T09:53:14.642228Z",
     "iopub.status.idle": "2025-07-17T09:53:14.657037Z",
     "shell.execute_reply": "2025-07-17T09:53:14.655032Z",
     "shell.execute_reply.started": "2025-07-17T09:53:14.643227Z"
    }
   },
   "outputs": [],
   "source": [
    "cleaned_ansur[\"longueur_du_dos\"]=ansur_df[\"waistbacklength\"]/10"
   ]
  },
  {
   "cell_type": "code",
   "execution_count": 13,
   "id": "262ee7af-dda8-49dd-836d-5e6f62dc47d6",
   "metadata": {
    "execution": {
     "iopub.execute_input": "2025-07-17T09:53:14.660052Z",
     "iopub.status.busy": "2025-07-17T09:53:14.659055Z",
     "iopub.status.idle": "2025-07-17T09:53:14.672319Z",
     "shell.execute_reply": "2025-07-17T09:53:14.670283Z",
     "shell.execute_reply.started": "2025-07-17T09:53:14.660052Z"
    }
   },
   "outputs": [],
   "source": [
    "cleaned_ansur[\"largeur_du_dos\"]=ansur_df[\"biacromialbreadth\"]/10"
   ]
  },
  {
   "cell_type": "code",
   "execution_count": 14,
   "id": "9d43faa9-8272-4449-82db-bc0b2b04055a",
   "metadata": {
    "execution": {
     "iopub.execute_input": "2025-07-17T09:53:14.675328Z",
     "iopub.status.busy": "2025-07-17T09:53:14.673311Z",
     "iopub.status.idle": "2025-07-17T09:53:14.687883Z",
     "shell.execute_reply": "2025-07-17T09:53:14.685882Z",
     "shell.execute_reply.started": "2025-07-17T09:53:14.675328Z"
    }
   },
   "outputs": [],
   "source": [
    "cleaned_ansur[\"tour_de_ventre_maximal\"]=ansur_df[\"waistcircumference\"]/10"
   ]
  },
  {
   "cell_type": "code",
   "execution_count": 15,
   "id": "602c2aa2-6d02-41e5-86ba-90de2470568d",
   "metadata": {
    "execution": {
     "iopub.execute_input": "2025-07-17T09:53:14.689885Z",
     "iopub.status.busy": "2025-07-17T09:53:14.688882Z",
     "iopub.status.idle": "2025-07-17T09:53:14.703047Z",
     "shell.execute_reply": "2025-07-17T09:53:14.701047Z",
     "shell.execute_reply.started": "2025-07-17T09:53:14.689885Z"
    }
   },
   "outputs": [],
   "source": [
    "cleaned_ansur[\"tour_de_biceps\"]=ansur_df[\"bicepscircumferenceflexed\"]/10"
   ]
  },
  {
   "cell_type": "code",
   "execution_count": 16,
   "id": "60c9be34-3717-414a-a345-074389d2208a",
   "metadata": {
    "execution": {
     "iopub.execute_input": "2025-07-17T09:53:14.705574Z",
     "iopub.status.busy": "2025-07-17T09:53:14.704572Z",
     "iopub.status.idle": "2025-07-17T09:53:14.718988Z",
     "shell.execute_reply": "2025-07-17T09:53:14.716989Z",
     "shell.execute_reply.started": "2025-07-17T09:53:14.704572Z"
    }
   },
   "outputs": [],
   "source": [
    "cleaned_ansur[\"tour_de_poitrine\"]=ansur_df[\"chestcircumference\"]/10"
   ]
  },
  {
   "cell_type": "code",
   "execution_count": 17,
   "id": "adc302a0-5494-42d4-be6c-4cab376b3371",
   "metadata": {
    "execution": {
     "iopub.execute_input": "2025-07-17T09:53:14.722245Z",
     "iopub.status.busy": "2025-07-17T09:53:14.721250Z",
     "iopub.status.idle": "2025-07-17T09:53:14.734667Z",
     "shell.execute_reply": "2025-07-17T09:53:14.732681Z",
     "shell.execute_reply.started": "2025-07-17T09:53:14.722245Z"
    }
   },
   "outputs": [],
   "source": [
    "cleaned_ansur[\"hauteur_de_poitrine\"]=ansur_df[\"chestheight\"]/10"
   ]
  },
  {
   "cell_type": "code",
   "execution_count": 18,
   "id": "45fc5877-cad6-41bd-b766-8f5d16603d7d",
   "metadata": {
    "execution": {
     "iopub.execute_input": "2025-07-17T09:53:14.738126Z",
     "iopub.status.busy": "2025-07-17T09:53:14.737108Z",
     "iopub.status.idle": "2025-07-17T09:53:14.751134Z",
     "shell.execute_reply": "2025-07-17T09:53:14.748657Z",
     "shell.execute_reply.started": "2025-07-17T09:53:14.738126Z"
    }
   },
   "outputs": [],
   "source": [
    "cleaned_ansur[\"tour_de_mollet\"]=ansur_df[\"calfcircumference\"]/10"
   ]
  },
  {
   "cell_type": "code",
   "execution_count": 19,
   "id": "15b5f14b-1cb5-4620-917a-5de69b279a70",
   "metadata": {
    "execution": {
     "iopub.execute_input": "2025-07-17T09:53:14.754147Z",
     "iopub.status.busy": "2025-07-17T09:53:14.753149Z",
     "iopub.status.idle": "2025-07-17T09:53:14.765425Z",
     "shell.execute_reply": "2025-07-17T09:53:14.763427Z",
     "shell.execute_reply.started": "2025-07-17T09:53:14.754147Z"
    }
   },
   "outputs": [],
   "source": [
    "cleaned_ansur[\"hauteur_d_entrejambe\"]=ansur_df[\"crotchheight\"]/10"
   ]
  },
  {
   "cell_type": "code",
   "execution_count": 20,
   "id": "67fe554e-c92e-4034-b6b9-dfdffd6d31fa",
   "metadata": {
    "execution": {
     "iopub.execute_input": "2025-07-17T09:53:14.768428Z",
     "iopub.status.busy": "2025-07-17T09:53:14.767427Z",
     "iopub.status.idle": "2025-07-17T09:53:14.780556Z",
     "shell.execute_reply": "2025-07-17T09:53:14.778985Z",
     "shell.execute_reply.started": "2025-07-17T09:53:14.767427Z"
    }
   },
   "outputs": [],
   "source": [
    "cleaned_ansur[\"tour_d_avant_bras\"]=ansur_df[\"forearmcircumferenceflexed\"]/10"
   ]
  },
  {
   "cell_type": "code",
   "execution_count": 21,
   "id": "67fdff74-ebf0-4793-b67f-99e5e9d2433e",
   "metadata": {
    "execution": {
     "iopub.execute_input": "2025-07-17T09:53:14.784731Z",
     "iopub.status.busy": "2025-07-17T09:53:14.783713Z",
     "iopub.status.idle": "2025-07-17T09:53:14.796270Z",
     "shell.execute_reply": "2025-07-17T09:53:14.794263Z",
     "shell.execute_reply.started": "2025-07-17T09:53:14.784731Z"
    }
   },
   "outputs": [],
   "source": [
    "cleaned_ansur[\"longueur_avant\"]=ansur_df[\"forearmcenterofgriplength\"]/10"
   ]
  },
  {
   "cell_type": "code",
   "execution_count": 22,
   "id": "963431aa-aa78-4765-9d32-0312fd8e7d01",
   "metadata": {
    "execution": {
     "iopub.execute_input": "2025-07-17T09:53:14.801678Z",
     "iopub.status.busy": "2025-07-17T09:53:14.799262Z",
     "iopub.status.idle": "2025-07-17T09:53:14.827973Z",
     "shell.execute_reply": "2025-07-17T09:53:14.823947Z",
     "shell.execute_reply.started": "2025-07-17T09:53:14.801678Z"
    }
   },
   "outputs": [],
   "source": [
    "cleaned_ansur[\"tour_de_tête\"]=ansur_df[\"headcircumference\"]/10"
   ]
  },
  {
   "cell_type": "code",
   "execution_count": 23,
   "id": "5da0b76b-c7cd-40ba-a4d9-5236264e37a5",
   "metadata": {
    "execution": {
     "iopub.execute_input": "2025-07-17T09:53:14.831502Z",
     "iopub.status.busy": "2025-07-17T09:53:14.830456Z",
     "iopub.status.idle": "2025-07-17T09:53:14.857660Z",
     "shell.execute_reply": "2025-07-17T09:53:14.855672Z",
     "shell.execute_reply.started": "2025-07-17T09:53:14.831502Z"
    }
   },
   "outputs": [],
   "source": [
    "cleaned_ansur[\"largeur_des_hanches\"]=ansur_df[\"hipbreadth\"]/10"
   ]
  },
  {
   "cell_type": "code",
   "execution_count": 24,
   "id": "4da566e8-a2e2-4054-ab51-6c0cc441557d",
   "metadata": {
    "execution": {
     "iopub.execute_input": "2025-07-17T09:53:14.861188Z",
     "iopub.status.busy": "2025-07-17T09:53:14.861188Z",
     "iopub.status.idle": "2025-07-17T09:53:14.888582Z",
     "shell.execute_reply": "2025-07-17T09:53:14.886342Z",
     "shell.execute_reply.started": "2025-07-17T09:53:14.861188Z"
    }
   },
   "outputs": [],
   "source": [
    "cleaned_ansur[\"hauteur_des_hanches\"]=ansur_df[\"iliocristaleheight\"]/10"
   ]
  },
  {
   "cell_type": "code",
   "execution_count": 25,
   "id": "b95dc2b6-3ce8-4fb9-83ab-152fac34333d",
   "metadata": {
    "execution": {
     "iopub.execute_input": "2025-07-17T09:53:14.891120Z",
     "iopub.status.busy": "2025-07-17T09:53:14.891120Z",
     "iopub.status.idle": "2025-07-17T09:53:14.904546Z",
     "shell.execute_reply": "2025-07-17T09:53:14.902200Z",
     "shell.execute_reply.started": "2025-07-17T09:53:14.891120Z"
    }
   },
   "outputs": [],
   "source": [
    "cleaned_ansur[\"hauteur_des_genoux\"]=ansur_df[\"kneeheightmidpatella\"]/10"
   ]
  },
  {
   "cell_type": "code",
   "execution_count": 26,
   "id": "feae0e6f-7e13-40ce-8b13-4b1b3d3b8a00",
   "metadata": {
    "execution": {
     "iopub.execute_input": "2025-07-17T09:53:14.911164Z",
     "iopub.status.busy": "2025-07-17T09:53:14.907574Z",
     "iopub.status.idle": "2025-07-17T09:53:14.936303Z",
     "shell.execute_reply": "2025-07-17T09:53:14.933310Z",
     "shell.execute_reply.started": "2025-07-17T09:53:14.910120Z"
    }
   },
   "outputs": [],
   "source": [
    "cleaned_ansur[\"tour_du_cou\"]=ansur_df[\"neckcircumference\"]/10"
   ]
  },
  {
   "cell_type": "code",
   "execution_count": 27,
   "id": "3dada48c-beb0-4c97-90ee-5e281181e3c1",
   "metadata": {
    "execution": {
     "iopub.execute_input": "2025-07-17T09:53:14.939308Z",
     "iopub.status.busy": "2025-07-17T09:53:14.938317Z",
     "iopub.status.idle": "2025-07-17T09:53:14.966974Z",
     "shell.execute_reply": "2025-07-17T09:53:14.963973Z",
     "shell.execute_reply.started": "2025-07-17T09:53:14.939308Z"
    }
   },
   "outputs": [],
   "source": [
    "cleaned_ansur[\"longueur_du_cou_au_genou\"]=ansur_df[\"buttockkneelength\"]/10"
   ]
  },
  {
   "cell_type": "code",
   "execution_count": 28,
   "id": "899c9bfb-d495-468a-b7af-f9720a0f820e",
   "metadata": {
    "execution": {
     "iopub.execute_input": "2025-07-17T09:53:14.989161Z",
     "iopub.status.busy": "2025-07-17T09:53:14.987160Z",
     "iopub.status.idle": "2025-07-17T09:53:15.017384Z",
     "shell.execute_reply": "2025-07-17T09:53:15.011405Z",
     "shell.execute_reply.started": "2025-07-17T09:53:14.988195Z"
    }
   },
   "outputs": [],
   "source": [
    "cleaned_ansur[\"largeur_d_epaule\"]=ansur_df[\"biacromialbreadth\"]/10"
   ]
  },
  {
   "cell_type": "code",
   "execution_count": 29,
   "id": "61e84b88-4bcf-49df-82cb-eac845d1412d",
   "metadata": {
    "execution": {
     "iopub.execute_input": "2025-07-17T09:53:15.020898Z",
     "iopub.status.busy": "2025-07-17T09:53:15.019883Z",
     "iopub.status.idle": "2025-07-17T09:53:15.045544Z",
     "shell.execute_reply": "2025-07-17T09:53:15.041534Z",
     "shell.execute_reply.started": "2025-07-17T09:53:15.020898Z"
    }
   },
   "outputs": [],
   "source": [
    "cleaned_ansur[\"largeur_des_epaules_a_l_horizontales\"]=ansur_df[\"bideltoidbreadth\"]/10"
   ]
  },
  {
   "cell_type": "code",
   "execution_count": 30,
   "id": "80cf9288-22ad-4d34-a8c2-c32a0c65943a",
   "metadata": {
    "execution": {
     "iopub.execute_input": "2025-07-17T09:53:15.052378Z",
     "iopub.status.busy": "2025-07-17T09:53:15.048773Z",
     "iopub.status.idle": "2025-07-17T09:53:15.075054Z",
     "shell.execute_reply": "2025-07-17T09:53:15.072056Z",
     "shell.execute_reply.started": "2025-07-17T09:53:15.051381Z"
    }
   },
   "outputs": [],
   "source": [
    "cleaned_ansur[\"longueur_de_la_colonne_vertebrale_jusqu_au_poignet\"]=ansur_df[\"sleevelengthspinewrist\"]/10"
   ]
  },
  {
   "cell_type": "code",
   "execution_count": 31,
   "id": "ef0429f3-4d82-4377-b9f1-687af9f6c10d",
   "metadata": {
    "execution": {
     "iopub.execute_input": "2025-07-17T09:53:15.078047Z",
     "iopub.status.busy": "2025-07-17T09:53:15.077057Z",
     "iopub.status.idle": "2025-07-17T09:53:15.105203Z",
     "shell.execute_reply": "2025-07-17T09:53:15.102668Z",
     "shell.execute_reply.started": "2025-07-17T09:53:15.078047Z"
    }
   },
   "outputs": [],
   "source": [
    "cleaned_ansur[\"tour_de_cuisse\"]=ansur_df[\"thighcircumference\"]/10"
   ]
  },
  {
   "cell_type": "code",
   "execution_count": 32,
   "id": "830f869e-2e85-4e92-b305-3ab2145c3287",
   "metadata": {
    "execution": {
     "iopub.execute_input": "2025-07-17T09:53:15.108207Z",
     "iopub.status.busy": "2025-07-17T09:53:15.106205Z",
     "iopub.status.idle": "2025-07-17T09:53:15.138462Z",
     "shell.execute_reply": "2025-07-17T09:53:15.133489Z",
     "shell.execute_reply.started": "2025-07-17T09:53:15.108207Z"
    }
   },
   "outputs": [],
   "source": [
    "cleaned_ansur[\"longueur_du_tronc\"]=ansur_df[\"sittingheight\"]/10"
   ]
  },
  {
   "cell_type": "code",
   "execution_count": 172,
   "id": "ae99a927-9efd-43be-aaa8-2afd24d0491e",
   "metadata": {
    "execution": {
     "iopub.execute_input": "2025-07-17T11:00:43.592043Z",
     "iopub.status.busy": "2025-07-17T11:00:43.592043Z",
     "iopub.status.idle": "2025-07-17T11:00:43.604571Z",
     "shell.execute_reply": "2025-07-17T11:00:43.602566Z",
     "shell.execute_reply.started": "2025-07-17T11:00:43.592043Z"
    }
   },
   "outputs": [],
   "source": [
    "cleaned_ansur[\"longueur_d_avant_bras\"]=ansur_df[\"shoulderelbowlength\"]/10"
   ]
  },
  {
   "cell_type": "code",
   "execution_count": 34,
   "id": "981097f5-cfa3-48e4-8257-0168f4779b1f",
   "metadata": {
    "execution": {
     "iopub.execute_input": "2025-07-17T09:53:15.170333Z",
     "iopub.status.busy": "2025-07-17T09:53:15.170333Z",
     "iopub.status.idle": "2025-07-17T09:53:15.182240Z",
     "shell.execute_reply": "2025-07-17T09:53:15.180224Z",
     "shell.execute_reply.started": "2025-07-17T09:53:15.170333Z"
    }
   },
   "outputs": [],
   "source": [
    "cleaned_ansur[\"largeur_de_la_taille\"]=ansur_df[\"waistbreadth\"]/10"
   ]
  },
  {
   "cell_type": "code",
   "execution_count": 35,
   "id": "60a15841-5070-417a-a88d-637e2b5f02c8",
   "metadata": {
    "execution": {
     "iopub.execute_input": "2025-07-17T09:53:15.186253Z",
     "iopub.status.busy": "2025-07-17T09:53:15.185261Z",
     "iopub.status.idle": "2025-07-17T09:53:15.197742Z",
     "shell.execute_reply": "2025-07-17T09:53:15.195440Z",
     "shell.execute_reply.started": "2025-07-17T09:53:15.186253Z"
    }
   },
   "outputs": [],
   "source": [
    "cleaned_ansur[\"tour_de_taille\"]=ansur_df[\"waistcircumference\"]/10"
   ]
  },
  {
   "cell_type": "code",
   "execution_count": 36,
   "id": "ac642dc7-a15c-448f-8b81-d0fa1ae9648e",
   "metadata": {
    "execution": {
     "iopub.execute_input": "2025-07-17T09:53:15.201302Z",
     "iopub.status.busy": "2025-07-17T09:53:15.200277Z",
     "iopub.status.idle": "2025-07-17T09:53:15.213384Z",
     "shell.execute_reply": "2025-07-17T09:53:15.211388Z",
     "shell.execute_reply.started": "2025-07-17T09:53:15.201302Z"
    }
   },
   "outputs": [],
   "source": [
    "cleaned_ansur[\"hauteur_de_la_taille\"]=ansur_df[\"waistheightomphalion\"]/10"
   ]
  },
  {
   "cell_type": "code",
   "execution_count": 37,
   "id": "31006034-d2e3-4b92-9fe7-c729f2a9e898",
   "metadata": {
    "execution": {
     "iopub.execute_input": "2025-07-17T09:53:15.217441Z",
     "iopub.status.busy": "2025-07-17T09:53:15.215429Z",
     "iopub.status.idle": "2025-07-17T09:53:15.229988Z",
     "shell.execute_reply": "2025-07-17T09:53:15.226974Z",
     "shell.execute_reply.started": "2025-07-17T09:53:15.217441Z"
    }
   },
   "outputs": [],
   "source": [
    "cleaned_ansur[\"tour_de_poignet\"]=ansur_df[\"wristcircumference\"]/10"
   ]
  },
  {
   "cell_type": "code",
   "execution_count": 38,
   "id": "812d9c7a-4929-4b9d-93e6-38537c57259d",
   "metadata": {
    "execution": {
     "iopub.execute_input": "2025-07-17T09:53:15.233010Z",
     "iopub.status.busy": "2025-07-17T09:53:15.232044Z",
     "iopub.status.idle": "2025-07-17T09:53:15.244562Z",
     "shell.execute_reply": "2025-07-17T09:53:15.242556Z",
     "shell.execute_reply.started": "2025-07-17T09:53:15.233010Z"
    }
   },
   "outputs": [],
   "source": [
    "cleaned_ansur[\"profondeur_des_aisselles\"]=0"
   ]
  },
  {
   "cell_type": "code",
   "execution_count": 39,
   "id": "ca58c283-6053-466d-bb0d-888f59170acd",
   "metadata": {
    "execution": {
     "iopub.execute_input": "2025-07-17T09:53:15.251176Z",
     "iopub.status.busy": "2025-07-17T09:53:15.250138Z",
     "iopub.status.idle": "2025-07-17T09:53:15.275277Z",
     "shell.execute_reply": "2025-07-17T09:53:15.273305Z",
     "shell.execute_reply.started": "2025-07-17T09:53:15.251176Z"
    }
   },
   "outputs": [],
   "source": [
    "cleaned_ansur[\"tour_de_poitrine_mesure_a_la_main\"]=0"
   ]
  },
  {
   "cell_type": "code",
   "execution_count": 40,
   "id": "4b4c118d-76ba-47ce-ba83-1911fc401b7b",
   "metadata": {
    "execution": {
     "iopub.execute_input": "2025-07-17T09:53:15.277275Z",
     "iopub.status.busy": "2025-07-17T09:53:15.277275Z",
     "iopub.status.idle": "2025-07-17T09:53:15.291433Z",
     "shell.execute_reply": "2025-07-17T09:53:15.288895Z",
     "shell.execute_reply.started": "2025-07-17T09:53:15.277275Z"
    }
   },
   "outputs": [],
   "source": [
    "cleaned_ansur[\"tour_de_coude\"]=0"
   ]
  },
  {
   "cell_type": "code",
   "execution_count": 41,
   "id": "213fdf13-ec94-4e2c-bfd9-c5236ce11edc",
   "metadata": {
    "execution": {
     "iopub.execute_input": "2025-07-17T09:53:15.299964Z",
     "iopub.status.busy": "2025-07-17T09:53:15.296463Z",
     "iopub.status.idle": "2025-07-17T09:53:15.322461Z",
     "shell.execute_reply": "2025-07-17T09:53:15.320448Z",
     "shell.execute_reply.started": "2025-07-17T09:53:15.299964Z"
    }
   },
   "outputs": [],
   "source": [
    "cleaned_ansur[\"tour_de_hanches_haut\"]=0"
   ]
  },
  {
   "cell_type": "code",
   "execution_count": 42,
   "id": "05e916c6-e7f5-4937-ad5c-afeaaba4d737",
   "metadata": {
    "execution": {
     "iopub.execute_input": "2025-07-17T09:53:15.325461Z",
     "iopub.status.busy": "2025-07-17T09:53:15.324450Z",
     "iopub.status.idle": "2025-07-17T09:53:15.353043Z",
     "shell.execute_reply": "2025-07-17T09:53:15.352044Z",
     "shell.execute_reply.started": "2025-07-17T09:53:15.325461Z"
    }
   },
   "outputs": [],
   "source": [
    "cleaned_ansur[\"tour_de_genou\"]=0"
   ]
  },
  {
   "cell_type": "code",
   "execution_count": 43,
   "id": "e3b18e91-9af5-4e2f-b7c7-6ad0ec983a2b",
   "metadata": {
    "execution": {
     "iopub.execute_input": "2025-07-17T09:53:15.355046Z",
     "iopub.status.busy": "2025-07-17T09:53:15.355046Z",
     "iopub.status.idle": "2025-07-17T09:53:15.370123Z",
     "shell.execute_reply": "2025-07-17T09:53:15.367611Z",
     "shell.execute_reply.started": "2025-07-17T09:53:15.355046Z"
    }
   },
   "outputs": [],
   "source": [
    "cleaned_ansur[\"angle_de_l_epaule\"]=0"
   ]
  },
  {
   "cell_type": "code",
   "execution_count": 44,
   "id": "b6dcf3b8-e24f-49a2-a659-2af792d1f831",
   "metadata": {
    "execution": {
     "iopub.execute_input": "2025-07-17T09:53:15.372699Z",
     "iopub.status.busy": "2025-07-17T09:53:15.371644Z",
     "iopub.status.idle": "2025-07-17T09:53:15.385741Z",
     "shell.execute_reply": "2025-07-17T09:53:15.383453Z",
     "shell.execute_reply.started": "2025-07-17T09:53:15.372699Z"
    }
   },
   "outputs": [],
   "source": [
    "cleaned_ansur[\"longueur_du_côte\"]=0"
   ]
  },
  {
   "cell_type": "code",
   "execution_count": 45,
   "id": "4d903432-d26c-4cec-9baf-7c7828c869e8",
   "metadata": {
    "execution": {
     "iopub.execute_input": "2025-07-17T09:53:15.388770Z",
     "iopub.status.busy": "2025-07-17T09:53:15.387769Z",
     "iopub.status.idle": "2025-07-17T09:53:15.416816Z",
     "shell.execute_reply": "2025-07-17T09:53:15.414839Z",
     "shell.execute_reply.started": "2025-07-17T09:53:15.388770Z"
    }
   },
   "outputs": [],
   "source": [
    "cleaned_ansur[\"longueur_de_sous_poitrine\"]=0"
   ]
  },
  {
   "cell_type": "code",
   "execution_count": 46,
   "id": "8b7ff2b9-58a6-457e-995a-26ad01b8ddad",
   "metadata": {
    "execution": {
     "iopub.execute_input": "2025-07-17T09:53:15.418820Z",
     "iopub.status.busy": "2025-07-17T09:53:15.418820Z",
     "iopub.status.idle": "2025-07-17T09:53:15.432380Z",
     "shell.execute_reply": "2025-07-17T09:53:15.430357Z",
     "shell.execute_reply.started": "2025-07-17T09:53:15.418820Z"
    }
   },
   "outputs": [],
   "source": [
    "cleaned_ansur[\"hauteur_des_epaules\"]=0"
   ]
  },
  {
   "cell_type": "code",
   "execution_count": 164,
   "id": "28989d4e-7cea-4c59-85a1-acc5cb45ef22",
   "metadata": {
    "execution": {
     "iopub.execute_input": "2025-07-17T10:38:22.658335Z",
     "iopub.status.busy": "2025-07-17T10:38:22.656332Z",
     "iopub.status.idle": "2025-07-17T10:38:22.683347Z",
     "shell.execute_reply": "2025-07-17T10:38:22.680346Z",
     "shell.execute_reply.started": "2025-07-17T10:38:22.658335Z"
    }
   },
   "outputs": [],
   "source": [
    "cleaned_ansur[\"largeur_du_bassin\"]=0"
   ]
  },
  {
   "cell_type": "code",
   "execution_count": 48,
   "id": "57338e9f-f68e-402f-a0b7-2256a114b410",
   "metadata": {
    "execution": {
     "iopub.execute_input": "2025-07-17T09:53:15.469317Z",
     "iopub.status.busy": "2025-07-17T09:53:15.468322Z",
     "iopub.status.idle": "2025-07-17T09:53:15.495935Z",
     "shell.execute_reply": "2025-07-17T09:53:15.493939Z",
     "shell.execute_reply.started": "2025-07-17T09:53:15.469317Z"
    }
   },
   "outputs": [],
   "source": [
    "cleaned_ansur[\"profondeur_de_poitrine\"]=0"
   ]
  },
  {
   "cell_type": "code",
   "execution_count": 155,
   "id": "faae35e5-faae-4338-b1ca-ac51a0e025f6",
   "metadata": {
    "execution": {
     "iopub.execute_input": "2025-07-17T10:24:43.422651Z",
     "iopub.status.busy": "2025-07-17T10:24:43.421520Z",
     "iopub.status.idle": "2025-07-17T10:24:43.444267Z",
     "shell.execute_reply": "2025-07-17T10:24:43.443292Z",
     "shell.execute_reply.started": "2025-07-17T10:24:43.422651Z"
    }
   },
   "outputs": [],
   "source": [
    "cleaned_ansur[\"tour_d_epaule\"]=0"
   ]
  },
  {
   "cell_type": "code",
   "execution_count": 173,
   "id": "97ae516a-6067-4a33-a959-2257de171dc1",
   "metadata": {
    "execution": {
     "iopub.execute_input": "2025-07-17T11:00:47.776673Z",
     "iopub.status.busy": "2025-07-17T11:00:47.776673Z",
     "iopub.status.idle": "2025-07-17T11:00:47.974300Z",
     "shell.execute_reply": "2025-07-17T11:00:47.973291Z",
     "shell.execute_reply.started": "2025-07-17T11:00:47.776673Z"
    }
   },
   "outputs": [
    {
     "data": {
      "text/html": [
       "<div>\n",
       "<style scoped>\n",
       "    .dataframe tbody tr th:only-of-type {\n",
       "        vertical-align: middle;\n",
       "    }\n",
       "\n",
       "    .dataframe tbody tr th {\n",
       "        vertical-align: top;\n",
       "    }\n",
       "\n",
       "    .dataframe thead th {\n",
       "        text-align: right;\n",
       "    }\n",
       "</style>\n",
       "<table border=\"1\" class=\"dataframe\">\n",
       "  <thead>\n",
       "    <tr style=\"text-align: right;\">\n",
       "      <th></th>\n",
       "      <th>taille</th>\n",
       "      <th>age</th>\n",
       "      <th>weight</th>\n",
       "      <th>sex</th>\n",
       "      <th>tour_de_cheville</th>\n",
       "      <th>longueur_du_bras</th>\n",
       "      <th>longueur_du_dos</th>\n",
       "      <th>largeur_du_dos</th>\n",
       "      <th>tour_de_ventre_maximal</th>\n",
       "      <th>tour_de_biceps</th>\n",
       "      <th>...</th>\n",
       "      <th>tour_de_hanches_haut</th>\n",
       "      <th>tour_de_genou</th>\n",
       "      <th>angle_de_l_epaule</th>\n",
       "      <th>longueur_du_côte</th>\n",
       "      <th>longueur_de_sous_poitrine</th>\n",
       "      <th>hauteur_des_epaules</th>\n",
       "      <th>profondeur_de_poitrine</th>\n",
       "      <th>tour_d_epaule</th>\n",
       "      <th>largeur_du_bassin</th>\n",
       "      <th>longueur_d_avant_bras</th>\n",
       "    </tr>\n",
       "  </thead>\n",
       "  <tbody>\n",
       "    <tr>\n",
       "      <th>count</th>\n",
       "      <td>6068.000000</td>\n",
       "      <td>6068.000000</td>\n",
       "      <td>6068.000000</td>\n",
       "      <td>6068.000000</td>\n",
       "      <td>6068.000000</td>\n",
       "      <td>6068.0</td>\n",
       "      <td>6068.000000</td>\n",
       "      <td>6068.000000</td>\n",
       "      <td>6068.000000</td>\n",
       "      <td>6068.000000</td>\n",
       "      <td>...</td>\n",
       "      <td>6068.0</td>\n",
       "      <td>6068.0</td>\n",
       "      <td>6068.0</td>\n",
       "      <td>6068.0</td>\n",
       "      <td>6068.0</td>\n",
       "      <td>6068.0</td>\n",
       "      <td>6068.0</td>\n",
       "      <td>6068.0</td>\n",
       "      <td>6068.0</td>\n",
       "      <td>6068.000000</td>\n",
       "    </tr>\n",
       "    <tr>\n",
       "      <th>mean</th>\n",
       "      <td>171.440606</td>\n",
       "      <td>29.761206</td>\n",
       "      <td>79.265052</td>\n",
       "      <td>0.672709</td>\n",
       "      <td>22.489140</td>\n",
       "      <td>0.0</td>\n",
       "      <td>46.052472</td>\n",
       "      <td>39.920419</td>\n",
       "      <td>91.450148</td>\n",
       "      <td>34.093425</td>\n",
       "      <td>...</td>\n",
       "      <td>0.0</td>\n",
       "      <td>0.0</td>\n",
       "      <td>0.0</td>\n",
       "      <td>0.0</td>\n",
       "      <td>0.0</td>\n",
       "      <td>0.0</td>\n",
       "      <td>0.0</td>\n",
       "      <td>0.0</td>\n",
       "      <td>0.0</td>\n",
       "      <td>35.408355</td>\n",
       "    </tr>\n",
       "    <tr>\n",
       "      <th>std</th>\n",
       "      <td>9.001534</td>\n",
       "      <td>8.674650</td>\n",
       "      <td>15.282400</td>\n",
       "      <td>0.469263</td>\n",
       "      <td>1.605183</td>\n",
       "      <td>0.0</td>\n",
       "      <td>3.667791</td>\n",
       "      <td>3.023691</td>\n",
       "      <td>11.427451</td>\n",
       "      <td>4.151987</td>\n",
       "      <td>...</td>\n",
       "      <td>0.0</td>\n",
       "      <td>0.0</td>\n",
       "      <td>0.0</td>\n",
       "      <td>0.0</td>\n",
       "      <td>0.0</td>\n",
       "      <td>0.0</td>\n",
       "      <td>0.0</td>\n",
       "      <td>0.0</td>\n",
       "      <td>0.0</td>\n",
       "      <td>2.259859</td>\n",
       "    </tr>\n",
       "    <tr>\n",
       "      <th>min</th>\n",
       "      <td>140.900000</td>\n",
       "      <td>17.000000</td>\n",
       "      <td>0.000000</td>\n",
       "      <td>0.000000</td>\n",
       "      <td>15.600000</td>\n",
       "      <td>0.0</td>\n",
       "      <td>34.500000</td>\n",
       "      <td>28.300000</td>\n",
       "      <td>61.100000</td>\n",
       "      <td>21.600000</td>\n",
       "      <td>...</td>\n",
       "      <td>0.0</td>\n",
       "      <td>0.0</td>\n",
       "      <td>0.0</td>\n",
       "      <td>0.0</td>\n",
       "      <td>0.0</td>\n",
       "      <td>0.0</td>\n",
       "      <td>0.0</td>\n",
       "      <td>0.0</td>\n",
       "      <td>0.0</td>\n",
       "      <td>27.100000</td>\n",
       "    </tr>\n",
       "    <tr>\n",
       "      <th>25%</th>\n",
       "      <td>165.175000</td>\n",
       "      <td>23.000000</td>\n",
       "      <td>68.038800</td>\n",
       "      <td>0.000000</td>\n",
       "      <td>21.400000</td>\n",
       "      <td>0.0</td>\n",
       "      <td>43.500000</td>\n",
       "      <td>37.600000</td>\n",
       "      <td>82.900000</td>\n",
       "      <td>31.100000</td>\n",
       "      <td>...</td>\n",
       "      <td>0.0</td>\n",
       "      <td>0.0</td>\n",
       "      <td>0.0</td>\n",
       "      <td>0.0</td>\n",
       "      <td>0.0</td>\n",
       "      <td>0.0</td>\n",
       "      <td>0.0</td>\n",
       "      <td>0.0</td>\n",
       "      <td>0.0</td>\n",
       "      <td>33.800000</td>\n",
       "    </tr>\n",
       "    <tr>\n",
       "      <th>50%</th>\n",
       "      <td>171.900000</td>\n",
       "      <td>28.000000</td>\n",
       "      <td>78.471416</td>\n",
       "      <td>1.000000</td>\n",
       "      <td>22.500000</td>\n",
       "      <td>0.0</td>\n",
       "      <td>46.300000</td>\n",
       "      <td>40.400000</td>\n",
       "      <td>90.700000</td>\n",
       "      <td>34.100000</td>\n",
       "      <td>...</td>\n",
       "      <td>0.0</td>\n",
       "      <td>0.0</td>\n",
       "      <td>0.0</td>\n",
       "      <td>0.0</td>\n",
       "      <td>0.0</td>\n",
       "      <td>0.0</td>\n",
       "      <td>0.0</td>\n",
       "      <td>0.0</td>\n",
       "      <td>0.0</td>\n",
       "      <td>35.500000</td>\n",
       "    </tr>\n",
       "    <tr>\n",
       "      <th>75%</th>\n",
       "      <td>177.900000</td>\n",
       "      <td>36.000000</td>\n",
       "      <td>88.904032</td>\n",
       "      <td>1.000000</td>\n",
       "      <td>23.500000</td>\n",
       "      <td>0.0</td>\n",
       "      <td>48.600000</td>\n",
       "      <td>42.100000</td>\n",
       "      <td>99.200000</td>\n",
       "      <td>37.000000</td>\n",
       "      <td>...</td>\n",
       "      <td>0.0</td>\n",
       "      <td>0.0</td>\n",
       "      <td>0.0</td>\n",
       "      <td>0.0</td>\n",
       "      <td>0.0</td>\n",
       "      <td>0.0</td>\n",
       "      <td>0.0</td>\n",
       "      <td>0.0</td>\n",
       "      <td>0.0</td>\n",
       "      <td>37.000000</td>\n",
       "    </tr>\n",
       "    <tr>\n",
       "      <th>max</th>\n",
       "      <td>199.300000</td>\n",
       "      <td>58.000000</td>\n",
       "      <td>145.603032</td>\n",
       "      <td>1.000000</td>\n",
       "      <td>29.300000</td>\n",
       "      <td>0.0</td>\n",
       "      <td>59.800000</td>\n",
       "      <td>48.900000</td>\n",
       "      <td>137.900000</td>\n",
       "      <td>49.000000</td>\n",
       "      <td>...</td>\n",
       "      <td>0.0</td>\n",
       "      <td>0.0</td>\n",
       "      <td>0.0</td>\n",
       "      <td>0.0</td>\n",
       "      <td>0.0</td>\n",
       "      <td>0.0</td>\n",
       "      <td>0.0</td>\n",
       "      <td>0.0</td>\n",
       "      <td>0.0</td>\n",
       "      <td>42.300000</td>\n",
       "    </tr>\n",
       "  </tbody>\n",
       "</table>\n",
       "<p>8 rows × 44 columns</p>\n",
       "</div>"
      ],
      "text/plain": [
       "            taille          age       weight          sex  tour_de_cheville  \\\n",
       "count  6068.000000  6068.000000  6068.000000  6068.000000       6068.000000   \n",
       "mean    171.440606    29.761206    79.265052     0.672709         22.489140   \n",
       "std       9.001534     8.674650    15.282400     0.469263          1.605183   \n",
       "min     140.900000    17.000000     0.000000     0.000000         15.600000   \n",
       "25%     165.175000    23.000000    68.038800     0.000000         21.400000   \n",
       "50%     171.900000    28.000000    78.471416     1.000000         22.500000   \n",
       "75%     177.900000    36.000000    88.904032     1.000000         23.500000   \n",
       "max     199.300000    58.000000   145.603032     1.000000         29.300000   \n",
       "\n",
       "       longueur_du_bras  longueur_du_dos  largeur_du_dos  \\\n",
       "count            6068.0      6068.000000     6068.000000   \n",
       "mean                0.0        46.052472       39.920419   \n",
       "std                 0.0         3.667791        3.023691   \n",
       "min                 0.0        34.500000       28.300000   \n",
       "25%                 0.0        43.500000       37.600000   \n",
       "50%                 0.0        46.300000       40.400000   \n",
       "75%                 0.0        48.600000       42.100000   \n",
       "max                 0.0        59.800000       48.900000   \n",
       "\n",
       "       tour_de_ventre_maximal  tour_de_biceps  ...  tour_de_hanches_haut  \\\n",
       "count             6068.000000     6068.000000  ...                6068.0   \n",
       "mean                91.450148       34.093425  ...                   0.0   \n",
       "std                 11.427451        4.151987  ...                   0.0   \n",
       "min                 61.100000       21.600000  ...                   0.0   \n",
       "25%                 82.900000       31.100000  ...                   0.0   \n",
       "50%                 90.700000       34.100000  ...                   0.0   \n",
       "75%                 99.200000       37.000000  ...                   0.0   \n",
       "max                137.900000       49.000000  ...                   0.0   \n",
       "\n",
       "       tour_de_genou  angle_de_l_epaule  longueur_du_côte  \\\n",
       "count         6068.0             6068.0            6068.0   \n",
       "mean             0.0                0.0               0.0   \n",
       "std              0.0                0.0               0.0   \n",
       "min              0.0                0.0               0.0   \n",
       "25%              0.0                0.0               0.0   \n",
       "50%              0.0                0.0               0.0   \n",
       "75%              0.0                0.0               0.0   \n",
       "max              0.0                0.0               0.0   \n",
       "\n",
       "       longueur_de_sous_poitrine  hauteur_des_epaules  profondeur_de_poitrine  \\\n",
       "count                     6068.0               6068.0                  6068.0   \n",
       "mean                         0.0                  0.0                     0.0   \n",
       "std                          0.0                  0.0                     0.0   \n",
       "min                          0.0                  0.0                     0.0   \n",
       "25%                          0.0                  0.0                     0.0   \n",
       "50%                          0.0                  0.0                     0.0   \n",
       "75%                          0.0                  0.0                     0.0   \n",
       "max                          0.0                  0.0                     0.0   \n",
       "\n",
       "       tour_d_epaule  largeur_du_bassin  longueur_d_avant_bras  \n",
       "count         6068.0             6068.0            6068.000000  \n",
       "mean             0.0                0.0              35.408355  \n",
       "std              0.0                0.0               2.259859  \n",
       "min              0.0                0.0              27.100000  \n",
       "25%              0.0                0.0              33.800000  \n",
       "50%              0.0                0.0              35.500000  \n",
       "75%              0.0                0.0              37.000000  \n",
       "max              0.0                0.0              42.300000  \n",
       "\n",
       "[8 rows x 44 columns]"
      ]
     },
     "execution_count": 173,
     "metadata": {},
     "output_type": "execute_result"
    }
   ],
   "source": [
    "cleaned_ansur.describe()"
   ]
  },
  {
   "cell_type": "code",
   "execution_count": 174,
   "id": "173ae852-571c-4cac-9590-755ecb34efb9",
   "metadata": {
    "execution": {
     "iopub.execute_input": "2025-07-17T11:00:50.020083Z",
     "iopub.status.busy": "2025-07-17T11:00:50.019080Z",
     "iopub.status.idle": "2025-07-17T11:00:50.039083Z",
     "shell.execute_reply": "2025-07-17T11:00:50.035131Z",
     "shell.execute_reply.started": "2025-07-17T11:00:50.020083Z"
    }
   },
   "outputs": [
    {
     "data": {
      "text/plain": [
       "Index(['taille', 'age', 'weight', 'sex', 'tour_de_cheville',\n",
       "       'longueur_du_bras', 'longueur_du_dos', 'largeur_du_dos',\n",
       "       'tour_de_ventre_maximal', 'tour_de_biceps', 'tour_de_poitrine',\n",
       "       'hauteur_de_poitrine', 'tour_de_mollet', 'hauteur_d_entrejambe',\n",
       "       'tour_d_avant_bras', 'longueur_avant', 'tour_de_tête',\n",
       "       'largeur_des_hanches', 'hauteur_des_hanches', 'hauteur_des_genoux',\n",
       "       'tour_du_cou', 'longueur_du_cou_au_genou', 'largeur_d_epaule',\n",
       "       'largeur_des_epaules_a_l_horizontales',\n",
       "       'longueur_de_la_colonne_vertebrale_jusqu_au_poignet', 'tour_de_cuisse',\n",
       "       'longueur_du_tronc', 'largeur_de_la_taille', 'tour_de_taille',\n",
       "       'hauteur_de_la_taille', 'tour_de_poignet', 'profondeur_des_aisselles',\n",
       "       'tour_de_poitrine_mesure_a_la_main', 'tour_de_coude',\n",
       "       'tour_de_hanches_haut', 'tour_de_genou', 'angle_de_l_epaule',\n",
       "       'longueur_du_côte', 'longueur_de_sous_poitrine', 'hauteur_des_epaules',\n",
       "       'profondeur_de_poitrine', 'tour_d_epaule', 'largeur_du_bassin',\n",
       "       'longueur_d_avant_bras'],\n",
       "      dtype='object')"
      ]
     },
     "execution_count": 174,
     "metadata": {},
     "output_type": "execute_result"
    }
   ],
   "source": [
    "cleaned_ansur.columns"
   ]
  },
  {
   "cell_type": "code",
   "execution_count": 51,
   "id": "58287d78-fca6-41b7-9b02-36942e1ac64e",
   "metadata": {
    "execution": {
     "iopub.execute_input": "2025-07-17T09:53:15.738454Z",
     "iopub.status.busy": "2025-07-17T09:53:15.737458Z",
     "iopub.status.idle": "2025-07-17T09:53:15.763355Z",
     "shell.execute_reply": "2025-07-17T09:53:15.761445Z",
     "shell.execute_reply.started": "2025-07-17T09:53:15.738454Z"
    }
   },
   "outputs": [],
   "source": [
    "bdims_df=pd.read_csv('data/bdims.csv', encoding='cp1252', sep=';')\n",
    "cleaned_bdims=pd.DataFrame()"
   ]
  },
  {
   "cell_type": "code",
   "execution_count": 52,
   "id": "2af9ba49-f7af-4a5a-bd6a-f5db8899544e",
   "metadata": {
    "execution": {
     "iopub.execute_input": "2025-07-17T09:53:15.765371Z",
     "iopub.status.busy": "2025-07-17T09:53:15.764387Z",
     "iopub.status.idle": "2025-07-17T09:53:15.794538Z",
     "shell.execute_reply": "2025-07-17T09:53:15.792587Z",
     "shell.execute_reply.started": "2025-07-17T09:53:15.765371Z"
    }
   },
   "outputs": [
    {
     "data": {
      "text/plain": [
       "count    507.000000\n",
       "mean      38.811440\n",
       "std        3.059132\n",
       "min       32.400000\n",
       "25%       36.200000\n",
       "50%       38.700000\n",
       "75%       41.150000\n",
       "max       47.400000\n",
       "Name: bia_di, dtype: float64"
      ]
     },
     "execution_count": 52,
     "metadata": {},
     "output_type": "execute_result"
    }
   ],
   "source": [
    "bdims_df[\"bia_di\"].describe()"
   ]
  },
  {
   "cell_type": "code",
   "execution_count": 53,
   "id": "cae2799c-c81f-49c8-b317-d901c27bf71f",
   "metadata": {
    "execution": {
     "iopub.execute_input": "2025-07-17T09:53:15.797725Z",
     "iopub.status.busy": "2025-07-17T09:53:15.797725Z",
     "iopub.status.idle": "2025-07-17T09:53:15.811235Z",
     "shell.execute_reply": "2025-07-17T09:53:15.808485Z",
     "shell.execute_reply.started": "2025-07-17T09:53:15.797725Z"
    }
   },
   "outputs": [],
   "source": [
    "cleaned_bdims[\"taille\"]=bdims_df[\"hgt\"]"
   ]
  },
  {
   "cell_type": "code",
   "execution_count": 54,
   "id": "4e371fb1-70a6-49da-baea-ab713160dd80",
   "metadata": {
    "execution": {
     "iopub.execute_input": "2025-07-17T09:53:15.815226Z",
     "iopub.status.busy": "2025-07-17T09:53:15.814235Z",
     "iopub.status.idle": "2025-07-17T09:53:15.842559Z",
     "shell.execute_reply": "2025-07-17T09:53:15.840425Z",
     "shell.execute_reply.started": "2025-07-17T09:53:15.815226Z"
    }
   },
   "outputs": [],
   "source": [
    "cleaned_bdims[\"age\"]=bdims_df[\"age\"]"
   ]
  },
  {
   "cell_type": "code",
   "execution_count": 55,
   "id": "7e8c6947-d660-47fc-b8e7-ad768fd99f4b",
   "metadata": {
    "execution": {
     "iopub.execute_input": "2025-07-17T09:53:15.845437Z",
     "iopub.status.busy": "2025-07-17T09:53:15.844477Z",
     "iopub.status.idle": "2025-07-17T09:53:15.859054Z",
     "shell.execute_reply": "2025-07-17T09:53:15.856049Z",
     "shell.execute_reply.started": "2025-07-17T09:53:15.845437Z"
    }
   },
   "outputs": [],
   "source": [
    "cleaned_bdims[\"weight\"]=bdims_df[\"wgt\"]"
   ]
  },
  {
   "cell_type": "code",
   "execution_count": 56,
   "id": "3674767f-f217-43a5-8253-c6e66bbf337f",
   "metadata": {
    "execution": {
     "iopub.execute_input": "2025-07-17T09:53:15.862609Z",
     "iopub.status.busy": "2025-07-17T09:53:15.860563Z",
     "iopub.status.idle": "2025-07-17T09:53:15.873262Z",
     "shell.execute_reply": "2025-07-17T09:53:15.871211Z",
     "shell.execute_reply.started": "2025-07-17T09:53:15.862609Z"
    }
   },
   "outputs": [],
   "source": [
    "cleaned_bdims[\"sex\"]=bdims_df[\"sex\"]"
   ]
  },
  {
   "cell_type": "code",
   "execution_count": 57,
   "id": "f3e2823c-d2f1-4021-906e-6a14c5526ece",
   "metadata": {
    "execution": {
     "iopub.execute_input": "2025-07-17T09:53:15.876216Z",
     "iopub.status.busy": "2025-07-17T09:53:15.876216Z",
     "iopub.status.idle": "2025-07-17T09:53:15.888782Z",
     "shell.execute_reply": "2025-07-17T09:53:15.886840Z",
     "shell.execute_reply.started": "2025-07-17T09:53:15.876216Z"
    }
   },
   "outputs": [],
   "source": [
    "cleaned_bdims[\"largeur_d_epaule\"]=bdims_df[\"bia_di\"]"
   ]
  },
  {
   "cell_type": "code",
   "execution_count": 58,
   "id": "1fe28312-4e8f-4d67-ae1e-65d44306e62c",
   "metadata": {
    "execution": {
     "iopub.execute_input": "2025-07-17T09:53:15.893316Z",
     "iopub.status.busy": "2025-07-17T09:53:15.892325Z",
     "iopub.status.idle": "2025-07-17T09:53:15.919151Z",
     "shell.execute_reply": "2025-07-17T09:53:15.918204Z",
     "shell.execute_reply.started": "2025-07-17T09:53:15.893316Z"
    }
   },
   "outputs": [],
   "source": [
    "cleaned_bdims[\"largeur_des_hanches\"]=bdims_df[\"bii_di\"]"
   ]
  },
  {
   "cell_type": "code",
   "execution_count": 159,
   "id": "831117b9-d3a5-412f-bc70-7f1436187917",
   "metadata": {
    "execution": {
     "iopub.execute_input": "2025-07-17T10:37:41.088524Z",
     "iopub.status.busy": "2025-07-17T10:37:41.086520Z",
     "iopub.status.idle": "2025-07-17T10:37:41.106519Z",
     "shell.execute_reply": "2025-07-17T10:37:41.103514Z",
     "shell.execute_reply.started": "2025-07-17T10:37:41.088524Z"
    }
   },
   "outputs": [],
   "source": [
    "cleaned_bdims[\"largeur_du_bassin\"]=bdims_df[\"bit_di\"]"
   ]
  },
  {
   "cell_type": "code",
   "execution_count": 60,
   "id": "55482829-0109-40da-988b-6e9d6ea282c1",
   "metadata": {
    "execution": {
     "iopub.execute_input": "2025-07-17T09:53:15.940903Z",
     "iopub.status.busy": "2025-07-17T09:53:15.939325Z",
     "iopub.status.idle": "2025-07-17T09:53:15.966252Z",
     "shell.execute_reply": "2025-07-17T09:53:15.964242Z",
     "shell.execute_reply.started": "2025-07-17T09:53:15.940903Z"
    }
   },
   "outputs": [],
   "source": [
    "cleaned_bdims[\"profondeur_de_poitrine\"]=bdims_df[\"che_de\"]"
   ]
  },
  {
   "cell_type": "code",
   "execution_count": 61,
   "id": "c39ec96e-48f4-4b3d-ad4a-60e781893a9c",
   "metadata": {
    "execution": {
     "iopub.execute_input": "2025-07-17T09:53:15.968237Z",
     "iopub.status.busy": "2025-07-17T09:53:15.967223Z",
     "iopub.status.idle": "2025-07-17T09:53:15.982506Z",
     "shell.execute_reply": "2025-07-17T09:53:15.980445Z",
     "shell.execute_reply.started": "2025-07-17T09:53:15.968237Z"
    }
   },
   "outputs": [],
   "source": [
    "cleaned_bdims[\"hauteur_de_poitrine\"]=bdims_df[\"che_di\"]"
   ]
  },
  {
   "cell_type": "code",
   "execution_count": 62,
   "id": "e001e498-a45b-404e-9110-b235eb3b80f4",
   "metadata": {
    "execution": {
     "iopub.execute_input": "2025-07-17T09:53:15.986528Z",
     "iopub.status.busy": "2025-07-17T09:53:15.985513Z",
     "iopub.status.idle": "2025-07-17T09:53:15.998154Z",
     "shell.execute_reply": "2025-07-17T09:53:15.996147Z",
     "shell.execute_reply.started": "2025-07-17T09:53:15.986528Z"
    }
   },
   "outputs": [],
   "source": [
    "cleaned_bdims[\"tour_de_coude\"]=bdims_df[\"elb_di\"]"
   ]
  },
  {
   "cell_type": "code",
   "execution_count": 63,
   "id": "521a272e-db0f-4944-b0d5-5e164a827ddf",
   "metadata": {
    "execution": {
     "iopub.execute_input": "2025-07-17T09:53:16.002784Z",
     "iopub.status.busy": "2025-07-17T09:53:16.001790Z",
     "iopub.status.idle": "2025-07-17T09:53:16.014130Z",
     "shell.execute_reply": "2025-07-17T09:53:16.012120Z",
     "shell.execute_reply.started": "2025-07-17T09:53:16.002784Z"
    }
   },
   "outputs": [],
   "source": [
    "cleaned_bdims[\"tour_de_poignet\"]=bdims_df[\"wri_di\"]"
   ]
  },
  {
   "cell_type": "code",
   "execution_count": 64,
   "id": "5ad9439d-34ec-43cb-ad2f-8d6b0f38527b",
   "metadata": {
    "execution": {
     "iopub.execute_input": "2025-07-17T09:53:16.018153Z",
     "iopub.status.busy": "2025-07-17T09:53:16.017127Z",
     "iopub.status.idle": "2025-07-17T09:53:16.030269Z",
     "shell.execute_reply": "2025-07-17T09:53:16.027766Z",
     "shell.execute_reply.started": "2025-07-17T09:53:16.017127Z"
    }
   },
   "outputs": [],
   "source": [
    "cleaned_bdims[\"hauteur_des_genoux\"]=bdims_df[\"kne_di\"]"
   ]
  },
  {
   "cell_type": "code",
   "execution_count": 65,
   "id": "01e0198a-ba32-4e08-a085-91c67fe0c609",
   "metadata": {
    "execution": {
     "iopub.execute_input": "2025-07-17T09:53:16.033288Z",
     "iopub.status.busy": "2025-07-17T09:53:16.032291Z",
     "iopub.status.idle": "2025-07-17T09:53:16.044878Z",
     "shell.execute_reply": "2025-07-17T09:53:16.042903Z",
     "shell.execute_reply.started": "2025-07-17T09:53:16.033288Z"
    }
   },
   "outputs": [],
   "source": [
    "cleaned_bdims[\"tour_de_cheville\"]=bdims_df[\"ank_di\"]"
   ]
  },
  {
   "cell_type": "code",
   "execution_count": 153,
   "id": "546bcaa9-d1ae-4596-9914-4017b4803174",
   "metadata": {
    "execution": {
     "iopub.execute_input": "2025-07-17T10:24:20.868095Z",
     "iopub.status.busy": "2025-07-17T10:24:20.868095Z",
     "iopub.status.idle": "2025-07-17T10:24:20.878182Z",
     "shell.execute_reply": "2025-07-17T10:24:20.877175Z",
     "shell.execute_reply.started": "2025-07-17T10:24:20.868095Z"
    }
   },
   "outputs": [],
   "source": [
    "cleaned_bdims[\"largeur_d_epaule\"]=0"
   ]
  },
  {
   "cell_type": "code",
   "execution_count": 152,
   "id": "9df645a0-eeb3-4c84-b966-7623b2d4acd6",
   "metadata": {
    "execution": {
     "iopub.execute_input": "2025-07-17T10:24:16.202138Z",
     "iopub.status.busy": "2025-07-17T10:24:16.202138Z",
     "iopub.status.idle": "2025-07-17T10:24:16.215058Z",
     "shell.execute_reply": "2025-07-17T10:24:16.212530Z",
     "shell.execute_reply.started": "2025-07-17T10:24:16.202138Z"
    }
   },
   "outputs": [],
   "source": [
    "cleaned_bdims[\"tour_d_epaule\"]=bdims_df[\"sho_gi\"]"
   ]
  },
  {
   "cell_type": "code",
   "execution_count": 67,
   "id": "6ff8211c-e726-4f0f-ae8d-be87678076ca",
   "metadata": {
    "execution": {
     "iopub.execute_input": "2025-07-17T09:53:16.062134Z",
     "iopub.status.busy": "2025-07-17T09:53:16.061140Z",
     "iopub.status.idle": "2025-07-17T09:53:16.075760Z",
     "shell.execute_reply": "2025-07-17T09:53:16.073754Z",
     "shell.execute_reply.started": "2025-07-17T09:53:16.062134Z"
    }
   },
   "outputs": [],
   "source": [
    "cleaned_bdims[\"tour_de_poitrine\"]=bdims_df[\"che_gi\"]"
   ]
  },
  {
   "cell_type": "code",
   "execution_count": 68,
   "id": "f26c5cfb-253f-4f60-94cb-b6cd536c4c94",
   "metadata": {
    "execution": {
     "iopub.execute_input": "2025-07-17T09:53:16.078782Z",
     "iopub.status.busy": "2025-07-17T09:53:16.077771Z",
     "iopub.status.idle": "2025-07-17T09:53:16.106362Z",
     "shell.execute_reply": "2025-07-17T09:53:16.104291Z",
     "shell.execute_reply.started": "2025-07-17T09:53:16.078782Z"
    }
   },
   "outputs": [],
   "source": [
    "cleaned_bdims[\"tour_de_taille\"]=bdims_df[\"wai_gi\"]"
   ]
  },
  {
   "cell_type": "code",
   "execution_count": 69,
   "id": "187ce20b-def3-433c-9e63-35a91dd61f92",
   "metadata": {
    "execution": {
     "iopub.execute_input": "2025-07-17T09:53:16.109356Z",
     "iopub.status.busy": "2025-07-17T09:53:16.108365Z",
     "iopub.status.idle": "2025-07-17T09:53:16.123198Z",
     "shell.execute_reply": "2025-07-17T09:53:16.119989Z",
     "shell.execute_reply.started": "2025-07-17T09:53:16.109356Z"
    }
   },
   "outputs": [],
   "source": [
    "cleaned_bdims[\"tour_de_ventre_maximal\"]=bdims_df[\"nav_gi\"]"
   ]
  },
  {
   "cell_type": "code",
   "execution_count": 70,
   "id": "2533ecf3-fe5b-4be6-bd5e-d0e8fb5b6705",
   "metadata": {
    "execution": {
     "iopub.execute_input": "2025-07-17T09:53:16.124208Z",
     "iopub.status.busy": "2025-07-17T09:53:16.124208Z",
     "iopub.status.idle": "2025-07-17T09:53:16.138853Z",
     "shell.execute_reply": "2025-07-17T09:53:16.135860Z",
     "shell.execute_reply.started": "2025-07-17T09:53:16.124208Z"
    }
   },
   "outputs": [],
   "source": [
    "cleaned_bdims[\"tour_de_hanches_haut\"]=bdims_df[\"hip_gi\"]"
   ]
  },
  {
   "cell_type": "code",
   "execution_count": 71,
   "id": "de57b1e5-babe-47ec-9e00-639ca98c18f7",
   "metadata": {
    "execution": {
     "iopub.execute_input": "2025-07-17T09:53:16.142511Z",
     "iopub.status.busy": "2025-07-17T09:53:16.141468Z",
     "iopub.status.idle": "2025-07-17T09:53:16.169288Z",
     "shell.execute_reply": "2025-07-17T09:53:16.166289Z",
     "shell.execute_reply.started": "2025-07-17T09:53:16.142511Z"
    }
   },
   "outputs": [],
   "source": [
    "cleaned_bdims[\"tour_de_cuisse\"]=bdims_df[\"thi_gi\"]"
   ]
  },
  {
   "cell_type": "code",
   "execution_count": 72,
   "id": "b8548d33-bb2e-4309-acc5-593077a9cf9b",
   "metadata": {
    "execution": {
     "iopub.execute_input": "2025-07-17T09:53:16.170827Z",
     "iopub.status.busy": "2025-07-17T09:53:16.170827Z",
     "iopub.status.idle": "2025-07-17T09:53:16.185391Z",
     "shell.execute_reply": "2025-07-17T09:53:16.182379Z",
     "shell.execute_reply.started": "2025-07-17T09:53:16.170827Z"
    }
   },
   "outputs": [],
   "source": [
    "cleaned_bdims[\"tour_de_biceps\"]=bdims_df[\"bic_gi\"]"
   ]
  },
  {
   "cell_type": "code",
   "execution_count": 73,
   "id": "a6eba7f5-9cdc-455e-8a15-42a076471d74",
   "metadata": {
    "execution": {
     "iopub.execute_input": "2025-07-17T09:53:16.188488Z",
     "iopub.status.busy": "2025-07-17T09:53:16.187462Z",
     "iopub.status.idle": "2025-07-17T09:53:16.200876Z",
     "shell.execute_reply": "2025-07-17T09:53:16.198368Z",
     "shell.execute_reply.started": "2025-07-17T09:53:16.188488Z"
    }
   },
   "outputs": [],
   "source": [
    "cleaned_bdims[\"tour_d_avant_bras\"]=bdims_df[\"for_gi\"]"
   ]
  },
  {
   "cell_type": "code",
   "execution_count": 74,
   "id": "2afab621-26dd-4dde-81f9-704e7900de9c",
   "metadata": {
    "execution": {
     "iopub.execute_input": "2025-07-17T09:53:16.205732Z",
     "iopub.status.busy": "2025-07-17T09:53:16.204403Z",
     "iopub.status.idle": "2025-07-17T09:53:16.216357Z",
     "shell.execute_reply": "2025-07-17T09:53:16.214403Z",
     "shell.execute_reply.started": "2025-07-17T09:53:16.205732Z"
    }
   },
   "outputs": [],
   "source": [
    "cleaned_bdims[\"tour_de_genou\"]=bdims_df[\"kne_gi\"]"
   ]
  },
  {
   "cell_type": "code",
   "execution_count": 75,
   "id": "61875083-77a1-4a88-a98f-1cd02a9bf871",
   "metadata": {
    "execution": {
     "iopub.execute_input": "2025-07-17T09:53:16.221099Z",
     "iopub.status.busy": "2025-07-17T09:53:16.220077Z",
     "iopub.status.idle": "2025-07-17T09:53:16.231829Z",
     "shell.execute_reply": "2025-07-17T09:53:16.230289Z",
     "shell.execute_reply.started": "2025-07-17T09:53:16.221099Z"
    }
   },
   "outputs": [],
   "source": [
    "cleaned_bdims[\"tour_de_mollet\"]=bdims_df[\"cal_gi\"]"
   ]
  },
  {
   "cell_type": "code",
   "execution_count": 76,
   "id": "5da69f73-532e-4990-a832-76550946ce02",
   "metadata": {
    "execution": {
     "iopub.execute_input": "2025-07-17T09:53:16.235217Z",
     "iopub.status.busy": "2025-07-17T09:53:16.234189Z",
     "iopub.status.idle": "2025-07-17T09:53:16.248372Z",
     "shell.execute_reply": "2025-07-17T09:53:16.246378Z",
     "shell.execute_reply.started": "2025-07-17T09:53:16.235217Z"
    }
   },
   "outputs": [],
   "source": [
    "cleaned_bdims[\"tour_de_cheville\"]=bdims_df[\"ank_gi\"]"
   ]
  },
  {
   "cell_type": "code",
   "execution_count": 77,
   "id": "886fecf8-c0b3-4438-a688-3674c68a6727",
   "metadata": {
    "execution": {
     "iopub.execute_input": "2025-07-17T09:53:16.250375Z",
     "iopub.status.busy": "2025-07-17T09:53:16.249367Z",
     "iopub.status.idle": "2025-07-17T09:53:16.263033Z",
     "shell.execute_reply": "2025-07-17T09:53:16.262036Z",
     "shell.execute_reply.started": "2025-07-17T09:53:16.250375Z"
    }
   },
   "outputs": [],
   "source": [
    "cleaned_bdims[\"longueur_du_bras\"]=0"
   ]
  },
  {
   "cell_type": "code",
   "execution_count": 78,
   "id": "65a6e8c7-dcbf-4fe6-82e4-55c226bee742",
   "metadata": {
    "execution": {
     "iopub.execute_input": "2025-07-17T09:53:16.265037Z",
     "iopub.status.busy": "2025-07-17T09:53:16.265037Z",
     "iopub.status.idle": "2025-07-17T09:53:16.278593Z",
     "shell.execute_reply": "2025-07-17T09:53:16.277591Z",
     "shell.execute_reply.started": "2025-07-17T09:53:16.265037Z"
    }
   },
   "outputs": [],
   "source": [
    "cleaned_bdims[\"profondeur_des_aisselles\"]=0"
   ]
  },
  {
   "cell_type": "code",
   "execution_count": 79,
   "id": "d4719aba-71af-4494-971e-203a908aeb5e",
   "metadata": {
    "execution": {
     "iopub.execute_input": "2025-07-17T09:53:16.282190Z",
     "iopub.status.busy": "2025-07-17T09:53:16.282190Z",
     "iopub.status.idle": "2025-07-17T09:53:16.294845Z",
     "shell.execute_reply": "2025-07-17T09:53:16.292836Z",
     "shell.execute_reply.started": "2025-07-17T09:53:16.282190Z"
    }
   },
   "outputs": [],
   "source": [
    "cleaned_bdims[\"longueur_du_dos\"]=0"
   ]
  },
  {
   "cell_type": "code",
   "execution_count": 80,
   "id": "ee9c2498-14fd-4d95-a7aa-52303b3f4d47",
   "metadata": {
    "execution": {
     "iopub.execute_input": "2025-07-17T09:53:16.296806Z",
     "iopub.status.busy": "2025-07-17T09:53:16.295849Z",
     "iopub.status.idle": "2025-07-17T09:53:16.309181Z",
     "shell.execute_reply": "2025-07-17T09:53:16.308195Z",
     "shell.execute_reply.started": "2025-07-17T09:53:16.296806Z"
    }
   },
   "outputs": [],
   "source": [
    "cleaned_bdims[\"tour_de_ventre_maximal\"]=0"
   ]
  },
  {
   "cell_type": "code",
   "execution_count": 81,
   "id": "acca8c5f-4cd1-4b1c-b87a-fff99d9921c6",
   "metadata": {
    "execution": {
     "iopub.execute_input": "2025-07-17T09:53:16.311847Z",
     "iopub.status.busy": "2025-07-17T09:53:16.310802Z",
     "iopub.status.idle": "2025-07-17T09:53:16.324945Z",
     "shell.execute_reply": "2025-07-17T09:53:16.324003Z",
     "shell.execute_reply.started": "2025-07-17T09:53:16.311847Z"
    }
   },
   "outputs": [],
   "source": [
    "cleaned_bdims[\"tour_de_poitrine_mesure_a_la_main\"]=0"
   ]
  },
  {
   "cell_type": "code",
   "execution_count": 82,
   "id": "34b53c21-c5a6-4304-ada0-32e52af0cdfd",
   "metadata": {
    "execution": {
     "iopub.execute_input": "2025-07-17T09:53:16.348207Z",
     "iopub.status.busy": "2025-07-17T09:53:16.347204Z",
     "iopub.status.idle": "2025-07-17T09:53:16.357334Z",
     "shell.execute_reply": "2025-07-17T09:53:16.355340Z",
     "shell.execute_reply.started": "2025-07-17T09:53:16.348207Z"
    }
   },
   "outputs": [],
   "source": [
    "cleaned_bdims[\"hauteur_de_poitrine\"]=0"
   ]
  },
  {
   "cell_type": "code",
   "execution_count": 83,
   "id": "07b5f5b4-6daa-4dd9-8e33-8e82fa1303bb",
   "metadata": {
    "execution": {
     "iopub.execute_input": "2025-07-17T09:53:16.360337Z",
     "iopub.status.busy": "2025-07-17T09:53:16.359340Z",
     "iopub.status.idle": "2025-07-17T09:53:16.372980Z",
     "shell.execute_reply": "2025-07-17T09:53:16.370964Z",
     "shell.execute_reply.started": "2025-07-17T09:53:16.360337Z"
    }
   },
   "outputs": [],
   "source": [
    "cleaned_bdims[\"hauteur_d_entrejambe\"]=0"
   ]
  },
  {
   "cell_type": "code",
   "execution_count": 84,
   "id": "a7100638-3357-4342-aa75-e1390e531744",
   "metadata": {
    "execution": {
     "iopub.execute_input": "2025-07-17T09:53:16.376028Z",
     "iopub.status.busy": "2025-07-17T09:53:16.374972Z",
     "iopub.status.idle": "2025-07-17T09:53:16.388560Z",
     "shell.execute_reply": "2025-07-17T09:53:16.386580Z",
     "shell.execute_reply.started": "2025-07-17T09:53:16.374972Z"
    }
   },
   "outputs": [],
   "source": [
    "cleaned_bdims[\"longueur_avant\"]=0"
   ]
  },
  {
   "cell_type": "code",
   "execution_count": 85,
   "id": "d92f0b51-cffb-427a-a721-31f9ad8c0cfd",
   "metadata": {
    "execution": {
     "iopub.execute_input": "2025-07-17T09:53:16.391206Z",
     "iopub.status.busy": "2025-07-17T09:53:16.390159Z",
     "iopub.status.idle": "2025-07-17T09:53:16.404459Z",
     "shell.execute_reply": "2025-07-17T09:53:16.402461Z",
     "shell.execute_reply.started": "2025-07-17T09:53:16.391206Z"
    }
   },
   "outputs": [],
   "source": [
    "cleaned_bdims[\"tour_de_tête\"]=0"
   ]
  },
  {
   "cell_type": "code",
   "execution_count": 86,
   "id": "65b46cb2-5474-4a4c-86ad-42e4e182ae6b",
   "metadata": {
    "execution": {
     "iopub.execute_input": "2025-07-17T09:53:16.408499Z",
     "iopub.status.busy": "2025-07-17T09:53:16.406501Z",
     "iopub.status.idle": "2025-07-17T09:53:16.420356Z",
     "shell.execute_reply": "2025-07-17T09:53:16.418050Z",
     "shell.execute_reply.started": "2025-07-17T09:53:16.408499Z"
    }
   },
   "outputs": [],
   "source": [
    "cleaned_bdims[\"largeur_des_hanches\"]=0"
   ]
  },
  {
   "cell_type": "code",
   "execution_count": 87,
   "id": "f8214178-0a13-4f16-8634-dd818673aa0a",
   "metadata": {
    "execution": {
     "iopub.execute_input": "2025-07-17T09:53:16.423810Z",
     "iopub.status.busy": "2025-07-17T09:53:16.422803Z",
     "iopub.status.idle": "2025-07-17T09:53:16.436329Z",
     "shell.execute_reply": "2025-07-17T09:53:16.433335Z",
     "shell.execute_reply.started": "2025-07-17T09:53:16.423810Z"
    }
   },
   "outputs": [],
   "source": [
    "cleaned_bdims[\"hauteur_des_hanches\"]=0"
   ]
  },
  {
   "cell_type": "code",
   "execution_count": 88,
   "id": "24332473-af23-4dc7-b5bf-bfc629a078c8",
   "metadata": {
    "execution": {
     "iopub.execute_input": "2025-07-17T09:53:16.440332Z",
     "iopub.status.busy": "2025-07-17T09:53:16.438368Z",
     "iopub.status.idle": "2025-07-17T09:53:16.452542Z",
     "shell.execute_reply": "2025-07-17T09:53:16.449257Z",
     "shell.execute_reply.started": "2025-07-17T09:53:16.440332Z"
    }
   },
   "outputs": [],
   "source": [
    "cleaned_bdims[\"hauteur_des_genoux\"]=0"
   ]
  },
  {
   "cell_type": "code",
   "execution_count": 89,
   "id": "0a589938-3d1d-4bea-ac3b-f3ab235aa57b",
   "metadata": {
    "execution": {
     "iopub.execute_input": "2025-07-17T09:53:16.454543Z",
     "iopub.status.busy": "2025-07-17T09:53:16.453537Z",
     "iopub.status.idle": "2025-07-17T09:53:16.467093Z",
     "shell.execute_reply": "2025-07-17T09:53:16.465088Z",
     "shell.execute_reply.started": "2025-07-17T09:53:16.454543Z"
    }
   },
   "outputs": [],
   "source": [
    "cleaned_bdims[\"tour_du_cou\"]=0"
   ]
  },
  {
   "cell_type": "code",
   "execution_count": 90,
   "id": "3664146d-1664-487c-9de2-5b72043c5e3a",
   "metadata": {
    "execution": {
     "iopub.execute_input": "2025-07-17T09:53:16.470617Z",
     "iopub.status.busy": "2025-07-17T09:53:16.469090Z",
     "iopub.status.idle": "2025-07-17T09:53:16.483249Z",
     "shell.execute_reply": "2025-07-17T09:53:16.480188Z",
     "shell.execute_reply.started": "2025-07-17T09:53:16.470617Z"
    }
   },
   "outputs": [],
   "source": [
    "cleaned_bdims[\"longueur_du_cou_au_genou\"]=0"
   ]
  },
  {
   "cell_type": "code",
   "execution_count": 91,
   "id": "b3313008-89d6-4355-bf38-e656264ab068",
   "metadata": {
    "execution": {
     "iopub.execute_input": "2025-07-17T09:53:16.486642Z",
     "iopub.status.busy": "2025-07-17T09:53:16.485573Z",
     "iopub.status.idle": "2025-07-17T09:53:16.498164Z",
     "shell.execute_reply": "2025-07-17T09:53:16.496165Z",
     "shell.execute_reply.started": "2025-07-17T09:53:16.486642Z"
    }
   },
   "outputs": [],
   "source": [
    "cleaned_bdims[\"angle_de_l_epaule\"]=0"
   ]
  },
  {
   "cell_type": "code",
   "execution_count": 92,
   "id": "d14026d4-08a1-41d9-8d81-ba4f1bc3f26d",
   "metadata": {
    "execution": {
     "iopub.execute_input": "2025-07-17T09:53:16.502303Z",
     "iopub.status.busy": "2025-07-17T09:53:16.502303Z",
     "iopub.status.idle": "2025-07-17T09:53:16.513631Z",
     "shell.execute_reply": "2025-07-17T09:53:16.511186Z",
     "shell.execute_reply.started": "2025-07-17T09:53:16.502303Z"
    }
   },
   "outputs": [],
   "source": [
    "cleaned_bdims[\"hauteur_des_epaules\"]=0"
   ]
  },
  {
   "cell_type": "code",
   "execution_count": 93,
   "id": "254b1b8d-4e49-4921-a461-898df7f4d3b8",
   "metadata": {
    "execution": {
     "iopub.execute_input": "2025-07-17T09:53:16.517649Z",
     "iopub.status.busy": "2025-07-17T09:53:16.515653Z",
     "iopub.status.idle": "2025-07-17T09:53:16.528665Z",
     "shell.execute_reply": "2025-07-17T09:53:16.526657Z",
     "shell.execute_reply.started": "2025-07-17T09:53:16.517649Z"
    }
   },
   "outputs": [],
   "source": [
    "cleaned_bdims[\"largeur_des_epaules_a_l_horizontales\"]=0"
   ]
  },
  {
   "cell_type": "code",
   "execution_count": 94,
   "id": "36151b92-7ebf-4642-803f-1f344ddd1a4f",
   "metadata": {
    "execution": {
     "iopub.execute_input": "2025-07-17T09:53:16.532217Z",
     "iopub.status.busy": "2025-07-17T09:53:16.531216Z",
     "iopub.status.idle": "2025-07-17T09:53:16.544316Z",
     "shell.execute_reply": "2025-07-17T09:53:16.542315Z",
     "shell.execute_reply.started": "2025-07-17T09:53:16.532217Z"
    }
   },
   "outputs": [],
   "source": [
    "cleaned_bdims[\"longueur_du_côte\"]=0"
   ]
  },
  {
   "cell_type": "code",
   "execution_count": 95,
   "id": "e11767b5-2872-405e-98c1-1a89fe783795",
   "metadata": {
    "execution": {
     "iopub.execute_input": "2025-07-17T09:53:16.550313Z",
     "iopub.status.busy": "2025-07-17T09:53:16.546319Z",
     "iopub.status.idle": "2025-07-17T09:53:16.575968Z",
     "shell.execute_reply": "2025-07-17T09:53:16.572970Z",
     "shell.execute_reply.started": "2025-07-17T09:53:16.550313Z"
    }
   },
   "outputs": [],
   "source": [
    "cleaned_bdims[\"longueur_de_la_colonne_vertebrale_jusqu_au_poignet\"]=0"
   ]
  },
  {
   "cell_type": "code",
   "execution_count": 96,
   "id": "0bfc4a62-19ef-4245-904e-b7c12957b3ff",
   "metadata": {
    "execution": {
     "iopub.execute_input": "2025-07-17T09:53:16.577967Z",
     "iopub.status.busy": "2025-07-17T09:53:16.576968Z",
     "iopub.status.idle": "2025-07-17T09:53:16.591093Z",
     "shell.execute_reply": "2025-07-17T09:53:16.588549Z",
     "shell.execute_reply.started": "2025-07-17T09:53:16.577967Z"
    }
   },
   "outputs": [],
   "source": [
    "cleaned_bdims[\"longueur_du_tronc\"]=0"
   ]
  },
  {
   "cell_type": "code",
   "execution_count": 97,
   "id": "5913a9bc-5896-4883-97b2-b48be3afd5cf",
   "metadata": {
    "execution": {
     "iopub.execute_input": "2025-07-17T09:53:16.596090Z",
     "iopub.status.busy": "2025-07-17T09:53:16.595113Z",
     "iopub.status.idle": "2025-07-17T09:53:16.621759Z",
     "shell.execute_reply": "2025-07-17T09:53:16.620148Z",
     "shell.execute_reply.started": "2025-07-17T09:53:16.596090Z"
    }
   },
   "outputs": [],
   "source": [
    "cleaned_bdims[\"longueur_de_sous_poitrine\"]=0"
   ]
  },
  {
   "cell_type": "code",
   "execution_count": 98,
   "id": "714c7b61-0ad5-475c-9ce8-178339ddd4ea",
   "metadata": {
    "execution": {
     "iopub.execute_input": "2025-07-17T09:53:16.623762Z",
     "iopub.status.busy": "2025-07-17T09:53:16.622759Z",
     "iopub.status.idle": "2025-07-17T09:53:16.637279Z",
     "shell.execute_reply": "2025-07-17T09:53:16.635274Z",
     "shell.execute_reply.started": "2025-07-17T09:53:16.623762Z"
    }
   },
   "outputs": [],
   "source": [
    "cleaned_bdims[\"largeur_de_la_taille\"]=0"
   ]
  },
  {
   "cell_type": "code",
   "execution_count": 99,
   "id": "97ceb0f0-d5ed-44c0-91db-6f5920000c49",
   "metadata": {
    "execution": {
     "iopub.execute_input": "2025-07-17T09:53:16.640323Z",
     "iopub.status.busy": "2025-07-17T09:53:16.639310Z",
     "iopub.status.idle": "2025-07-17T09:53:16.653424Z",
     "shell.execute_reply": "2025-07-17T09:53:16.650402Z",
     "shell.execute_reply.started": "2025-07-17T09:53:16.640323Z"
    }
   },
   "outputs": [],
   "source": [
    "cleaned_bdims[\"hauteur_de_la_taille\"]=0"
   ]
  },
  {
   "cell_type": "code",
   "execution_count": 100,
   "id": "17394238-9ffa-4cc1-9a59-019e2e4725e8",
   "metadata": {
    "execution": {
     "iopub.execute_input": "2025-07-17T09:53:16.657417Z",
     "iopub.status.busy": "2025-07-17T09:53:16.656422Z",
     "iopub.status.idle": "2025-07-17T09:53:16.683236Z",
     "shell.execute_reply": "2025-07-17T09:53:16.681248Z",
     "shell.execute_reply.started": "2025-07-17T09:53:16.657417Z"
    }
   },
   "outputs": [],
   "source": [
    "cleaned_bdims[\"largeur_du_dos\"]=0"
   ]
  },
  {
   "cell_type": "code",
   "execution_count": 175,
   "id": "9d98eaa5-1222-44a5-ac0f-2eb937ba0387",
   "metadata": {
    "execution": {
     "iopub.execute_input": "2025-07-17T11:01:10.727665Z",
     "iopub.status.busy": "2025-07-17T11:01:10.727665Z",
     "iopub.status.idle": "2025-07-17T11:01:10.753738Z",
     "shell.execute_reply": "2025-07-17T11:01:10.746528Z",
     "shell.execute_reply.started": "2025-07-17T11:01:10.727665Z"
    }
   },
   "outputs": [],
   "source": [
    "cleaned_bdims[\"longeur_d_avant_bras\"]=0"
   ]
  },
  {
   "cell_type": "code",
   "execution_count": 176,
   "id": "49a56208-82c1-40a3-afc1-066e693f49b9",
   "metadata": {
    "execution": {
     "iopub.execute_input": "2025-07-17T11:01:13.237182Z",
     "iopub.status.busy": "2025-07-17T11:01:13.237182Z",
     "iopub.status.idle": "2025-07-17T11:01:13.409262Z",
     "shell.execute_reply": "2025-07-17T11:01:13.407263Z",
     "shell.execute_reply.started": "2025-07-17T11:01:13.237182Z"
    }
   },
   "outputs": [
    {
     "data": {
      "text/html": [
       "<div>\n",
       "<style scoped>\n",
       "    .dataframe tbody tr th:only-of-type {\n",
       "        vertical-align: middle;\n",
       "    }\n",
       "\n",
       "    .dataframe tbody tr th {\n",
       "        vertical-align: top;\n",
       "    }\n",
       "\n",
       "    .dataframe thead th {\n",
       "        text-align: right;\n",
       "    }\n",
       "</style>\n",
       "<table border=\"1\" class=\"dataframe\">\n",
       "  <thead>\n",
       "    <tr style=\"text-align: right;\">\n",
       "      <th></th>\n",
       "      <th>taille</th>\n",
       "      <th>age</th>\n",
       "      <th>weight</th>\n",
       "      <th>sex</th>\n",
       "      <th>largeur_d_epaule</th>\n",
       "      <th>largeur_des_hanches</th>\n",
       "      <th>profondeur_de_poitrine</th>\n",
       "      <th>hauteur_de_poitrine</th>\n",
       "      <th>tour_de_coude</th>\n",
       "      <th>tour_de_poignet</th>\n",
       "      <th>...</th>\n",
       "      <th>longueur_du_côte</th>\n",
       "      <th>longueur_de_la_colonne_vertebrale_jusqu_au_poignet</th>\n",
       "      <th>longueur_du_tronc</th>\n",
       "      <th>longueur_de_sous_poitrine</th>\n",
       "      <th>largeur_de_la_taille</th>\n",
       "      <th>hauteur_de_la_taille</th>\n",
       "      <th>largeur_du_dos</th>\n",
       "      <th>tour_d_epaule</th>\n",
       "      <th>largeur_du_bassin</th>\n",
       "      <th>longeur_d_avant_bras</th>\n",
       "    </tr>\n",
       "  </thead>\n",
       "  <tbody>\n",
       "    <tr>\n",
       "      <th>count</th>\n",
       "      <td>507.000000</td>\n",
       "      <td>507.000000</td>\n",
       "      <td>507.000000</td>\n",
       "      <td>507.000000</td>\n",
       "      <td>507.0</td>\n",
       "      <td>507.0</td>\n",
       "      <td>507.000000</td>\n",
       "      <td>507.0</td>\n",
       "      <td>507.000000</td>\n",
       "      <td>507.000000</td>\n",
       "      <td>...</td>\n",
       "      <td>507.0</td>\n",
       "      <td>507.0</td>\n",
       "      <td>507.0</td>\n",
       "      <td>507.0</td>\n",
       "      <td>507.0</td>\n",
       "      <td>507.0</td>\n",
       "      <td>507.0</td>\n",
       "      <td>507.000000</td>\n",
       "      <td>507.000000</td>\n",
       "      <td>507.0</td>\n",
       "    </tr>\n",
       "    <tr>\n",
       "      <th>mean</th>\n",
       "      <td>171.143787</td>\n",
       "      <td>30.181460</td>\n",
       "      <td>69.147535</td>\n",
       "      <td>0.487179</td>\n",
       "      <td>0.0</td>\n",
       "      <td>0.0</td>\n",
       "      <td>19.226036</td>\n",
       "      <td>0.0</td>\n",
       "      <td>13.385207</td>\n",
       "      <td>10.542604</td>\n",
       "      <td>...</td>\n",
       "      <td>0.0</td>\n",
       "      <td>0.0</td>\n",
       "      <td>0.0</td>\n",
       "      <td>0.0</td>\n",
       "      <td>0.0</td>\n",
       "      <td>0.0</td>\n",
       "      <td>0.0</td>\n",
       "      <td>108.195069</td>\n",
       "      <td>31.980473</td>\n",
       "      <td>0.0</td>\n",
       "    </tr>\n",
       "    <tr>\n",
       "      <th>std</th>\n",
       "      <td>9.407205</td>\n",
       "      <td>9.608472</td>\n",
       "      <td>13.345762</td>\n",
       "      <td>0.500329</td>\n",
       "      <td>0.0</td>\n",
       "      <td>0.0</td>\n",
       "      <td>2.515877</td>\n",
       "      <td>0.0</td>\n",
       "      <td>1.352906</td>\n",
       "      <td>0.944361</td>\n",
       "      <td>...</td>\n",
       "      <td>0.0</td>\n",
       "      <td>0.0</td>\n",
       "      <td>0.0</td>\n",
       "      <td>0.0</td>\n",
       "      <td>0.0</td>\n",
       "      <td>0.0</td>\n",
       "      <td>0.0</td>\n",
       "      <td>10.374834</td>\n",
       "      <td>2.030916</td>\n",
       "      <td>0.0</td>\n",
       "    </tr>\n",
       "    <tr>\n",
       "      <th>min</th>\n",
       "      <td>147.200000</td>\n",
       "      <td>18.000000</td>\n",
       "      <td>42.000000</td>\n",
       "      <td>0.000000</td>\n",
       "      <td>0.0</td>\n",
       "      <td>0.0</td>\n",
       "      <td>14.300000</td>\n",
       "      <td>0.0</td>\n",
       "      <td>9.900000</td>\n",
       "      <td>8.100000</td>\n",
       "      <td>...</td>\n",
       "      <td>0.0</td>\n",
       "      <td>0.0</td>\n",
       "      <td>0.0</td>\n",
       "      <td>0.0</td>\n",
       "      <td>0.0</td>\n",
       "      <td>0.0</td>\n",
       "      <td>0.0</td>\n",
       "      <td>85.900000</td>\n",
       "      <td>24.700000</td>\n",
       "      <td>0.0</td>\n",
       "    </tr>\n",
       "    <tr>\n",
       "      <th>25%</th>\n",
       "      <td>163.800000</td>\n",
       "      <td>23.000000</td>\n",
       "      <td>58.400000</td>\n",
       "      <td>0.000000</td>\n",
       "      <td>0.0</td>\n",
       "      <td>0.0</td>\n",
       "      <td>17.300000</td>\n",
       "      <td>0.0</td>\n",
       "      <td>12.400000</td>\n",
       "      <td>9.800000</td>\n",
       "      <td>...</td>\n",
       "      <td>0.0</td>\n",
       "      <td>0.0</td>\n",
       "      <td>0.0</td>\n",
       "      <td>0.0</td>\n",
       "      <td>0.0</td>\n",
       "      <td>0.0</td>\n",
       "      <td>0.0</td>\n",
       "      <td>99.450000</td>\n",
       "      <td>30.600000</td>\n",
       "      <td>0.0</td>\n",
       "    </tr>\n",
       "    <tr>\n",
       "      <th>50%</th>\n",
       "      <td>170.300000</td>\n",
       "      <td>27.000000</td>\n",
       "      <td>68.200000</td>\n",
       "      <td>0.000000</td>\n",
       "      <td>0.0</td>\n",
       "      <td>0.0</td>\n",
       "      <td>19.000000</td>\n",
       "      <td>0.0</td>\n",
       "      <td>13.300000</td>\n",
       "      <td>10.500000</td>\n",
       "      <td>...</td>\n",
       "      <td>0.0</td>\n",
       "      <td>0.0</td>\n",
       "      <td>0.0</td>\n",
       "      <td>0.0</td>\n",
       "      <td>0.0</td>\n",
       "      <td>0.0</td>\n",
       "      <td>0.0</td>\n",
       "      <td>108.200000</td>\n",
       "      <td>32.000000</td>\n",
       "      <td>0.0</td>\n",
       "    </tr>\n",
       "    <tr>\n",
       "      <th>75%</th>\n",
       "      <td>177.800000</td>\n",
       "      <td>36.000000</td>\n",
       "      <td>78.850000</td>\n",
       "      <td>1.000000</td>\n",
       "      <td>0.0</td>\n",
       "      <td>0.0</td>\n",
       "      <td>20.900000</td>\n",
       "      <td>0.0</td>\n",
       "      <td>14.400000</td>\n",
       "      <td>11.200000</td>\n",
       "      <td>...</td>\n",
       "      <td>0.0</td>\n",
       "      <td>0.0</td>\n",
       "      <td>0.0</td>\n",
       "      <td>0.0</td>\n",
       "      <td>0.0</td>\n",
       "      <td>0.0</td>\n",
       "      <td>0.0</td>\n",
       "      <td>116.550000</td>\n",
       "      <td>33.350000</td>\n",
       "      <td>0.0</td>\n",
       "    </tr>\n",
       "    <tr>\n",
       "      <th>max</th>\n",
       "      <td>198.100000</td>\n",
       "      <td>67.000000</td>\n",
       "      <td>116.400000</td>\n",
       "      <td>1.000000</td>\n",
       "      <td>0.0</td>\n",
       "      <td>0.0</td>\n",
       "      <td>27.500000</td>\n",
       "      <td>0.0</td>\n",
       "      <td>16.700000</td>\n",
       "      <td>13.300000</td>\n",
       "      <td>...</td>\n",
       "      <td>0.0</td>\n",
       "      <td>0.0</td>\n",
       "      <td>0.0</td>\n",
       "      <td>0.0</td>\n",
       "      <td>0.0</td>\n",
       "      <td>0.0</td>\n",
       "      <td>0.0</td>\n",
       "      <td>134.800000</td>\n",
       "      <td>38.000000</td>\n",
       "      <td>0.0</td>\n",
       "    </tr>\n",
       "  </tbody>\n",
       "</table>\n",
       "<p>8 rows × 44 columns</p>\n",
       "</div>"
      ],
      "text/plain": [
       "           taille         age      weight         sex  largeur_d_epaule  \\\n",
       "count  507.000000  507.000000  507.000000  507.000000             507.0   \n",
       "mean   171.143787   30.181460   69.147535    0.487179               0.0   \n",
       "std      9.407205    9.608472   13.345762    0.500329               0.0   \n",
       "min    147.200000   18.000000   42.000000    0.000000               0.0   \n",
       "25%    163.800000   23.000000   58.400000    0.000000               0.0   \n",
       "50%    170.300000   27.000000   68.200000    0.000000               0.0   \n",
       "75%    177.800000   36.000000   78.850000    1.000000               0.0   \n",
       "max    198.100000   67.000000  116.400000    1.000000               0.0   \n",
       "\n",
       "       largeur_des_hanches  profondeur_de_poitrine  hauteur_de_poitrine  \\\n",
       "count                507.0              507.000000                507.0   \n",
       "mean                   0.0               19.226036                  0.0   \n",
       "std                    0.0                2.515877                  0.0   \n",
       "min                    0.0               14.300000                  0.0   \n",
       "25%                    0.0               17.300000                  0.0   \n",
       "50%                    0.0               19.000000                  0.0   \n",
       "75%                    0.0               20.900000                  0.0   \n",
       "max                    0.0               27.500000                  0.0   \n",
       "\n",
       "       tour_de_coude  tour_de_poignet  ...  longueur_du_côte  \\\n",
       "count     507.000000       507.000000  ...             507.0   \n",
       "mean       13.385207        10.542604  ...               0.0   \n",
       "std         1.352906         0.944361  ...               0.0   \n",
       "min         9.900000         8.100000  ...               0.0   \n",
       "25%        12.400000         9.800000  ...               0.0   \n",
       "50%        13.300000        10.500000  ...               0.0   \n",
       "75%        14.400000        11.200000  ...               0.0   \n",
       "max        16.700000        13.300000  ...               0.0   \n",
       "\n",
       "       longueur_de_la_colonne_vertebrale_jusqu_au_poignet  longueur_du_tronc  \\\n",
       "count                                              507.0               507.0   \n",
       "mean                                                 0.0                 0.0   \n",
       "std                                                  0.0                 0.0   \n",
       "min                                                  0.0                 0.0   \n",
       "25%                                                  0.0                 0.0   \n",
       "50%                                                  0.0                 0.0   \n",
       "75%                                                  0.0                 0.0   \n",
       "max                                                  0.0                 0.0   \n",
       "\n",
       "       longueur_de_sous_poitrine  largeur_de_la_taille  hauteur_de_la_taille  \\\n",
       "count                      507.0                 507.0                 507.0   \n",
       "mean                         0.0                   0.0                   0.0   \n",
       "std                          0.0                   0.0                   0.0   \n",
       "min                          0.0                   0.0                   0.0   \n",
       "25%                          0.0                   0.0                   0.0   \n",
       "50%                          0.0                   0.0                   0.0   \n",
       "75%                          0.0                   0.0                   0.0   \n",
       "max                          0.0                   0.0                   0.0   \n",
       "\n",
       "       largeur_du_dos  tour_d_epaule  largeur_du_bassin  longeur_d_avant_bras  \n",
       "count           507.0     507.000000         507.000000                 507.0  \n",
       "mean              0.0     108.195069          31.980473                   0.0  \n",
       "std               0.0      10.374834           2.030916                   0.0  \n",
       "min               0.0      85.900000          24.700000                   0.0  \n",
       "25%               0.0      99.450000          30.600000                   0.0  \n",
       "50%               0.0     108.200000          32.000000                   0.0  \n",
       "75%               0.0     116.550000          33.350000                   0.0  \n",
       "max               0.0     134.800000          38.000000                   0.0  \n",
       "\n",
       "[8 rows x 44 columns]"
      ]
     },
     "execution_count": 176,
     "metadata": {},
     "output_type": "execute_result"
    }
   ],
   "source": [
    "cleaned_bdims.describe()"
   ]
  },
  {
   "cell_type": "code",
   "execution_count": 177,
   "id": "26a6adf3-37d0-4bc8-8e34-2cc2f7607230",
   "metadata": {
    "execution": {
     "iopub.execute_input": "2025-07-17T11:01:15.729019Z",
     "iopub.status.busy": "2025-07-17T11:01:15.729019Z",
     "iopub.status.idle": "2025-07-17T11:01:15.746019Z",
     "shell.execute_reply": "2025-07-17T11:01:15.743017Z",
     "shell.execute_reply.started": "2025-07-17T11:01:15.729019Z"
    }
   },
   "outputs": [
    {
     "data": {
      "text/plain": [
       "Index(['taille', 'age', 'weight', 'sex', 'largeur_d_epaule',\n",
       "       'largeur_des_hanches', 'profondeur_de_poitrine', 'hauteur_de_poitrine',\n",
       "       'tour_de_coude', 'tour_de_poignet', 'hauteur_des_genoux',\n",
       "       'tour_de_cheville', 'tour_de_poitrine', 'tour_de_taille',\n",
       "       'tour_de_ventre_maximal', 'tour_de_hanches_haut', 'tour_de_cuisse',\n",
       "       'tour_de_biceps', 'tour_d_avant_bras', 'tour_de_genou',\n",
       "       'tour_de_mollet', 'longueur_du_bras', 'profondeur_des_aisselles',\n",
       "       'longueur_du_dos', 'tour_de_poitrine_mesure_a_la_main',\n",
       "       'hauteur_d_entrejambe', 'longueur_avant', 'tour_de_tête',\n",
       "       'hauteur_des_hanches', 'tour_du_cou', 'longueur_du_cou_au_genou',\n",
       "       'angle_de_l_epaule', 'hauteur_des_epaules',\n",
       "       'largeur_des_epaules_a_l_horizontales', 'longueur_du_côte',\n",
       "       'longueur_de_la_colonne_vertebrale_jusqu_au_poignet',\n",
       "       'longueur_du_tronc', 'longueur_de_sous_poitrine',\n",
       "       'largeur_de_la_taille', 'hauteur_de_la_taille', 'largeur_du_dos',\n",
       "       'tour_d_epaule', 'largeur_du_bassin', 'longeur_d_avant_bras'],\n",
       "      dtype='object')"
      ]
     },
     "execution_count": 177,
     "metadata": {},
     "output_type": "execute_result"
    }
   ],
   "source": [
    "cleaned_bdims.columns"
   ]
  },
  {
   "cell_type": "code",
   "execution_count": 103,
   "id": "26f61b25-f9d4-4dac-9f33-e0b3c66fd736",
   "metadata": {
    "execution": {
     "iopub.execute_input": "2025-07-17T09:53:16.936061Z",
     "iopub.status.busy": "2025-07-17T09:53:16.935090Z",
     "iopub.status.idle": "2025-07-17T09:53:17.039319Z",
     "shell.execute_reply": "2025-07-17T09:53:17.037400Z",
     "shell.execute_reply.started": "2025-07-17T09:53:16.936061Z"
    }
   },
   "outputs": [],
   "source": [
    "caesar_df=pd.read_csv('data/caesar.csv', encoding='cp1252', sep=';')\n",
    "cleaned_caesar=pd.DataFrame()"
   ]
  },
  {
   "cell_type": "code",
   "execution_count": 104,
   "id": "5d7af21f-bd69-4771-9a78-78613786b901",
   "metadata": {
    "execution": {
     "iopub.execute_input": "2025-07-17T09:53:17.043112Z",
     "iopub.status.busy": "2025-07-17T09:53:17.042121Z",
     "iopub.status.idle": "2025-07-17T09:53:17.070046Z",
     "shell.execute_reply": "2025-07-17T09:53:17.068483Z",
     "shell.execute_reply.started": "2025-07-17T09:53:17.043112Z"
    }
   },
   "outputs": [],
   "source": [
    "cleaned_caesar[\"taille\"]=caesar_df[\"height\"]*2.54"
   ]
  },
  {
   "cell_type": "code",
   "execution_count": 105,
   "id": "c5d73f93-e366-4aff-84c3-99e1b577f820",
   "metadata": {
    "execution": {
     "iopub.execute_input": "2025-07-17T09:53:17.071096Z",
     "iopub.status.busy": "2025-07-17T09:53:17.071096Z",
     "iopub.status.idle": "2025-07-17T09:53:17.087726Z",
     "shell.execute_reply": "2025-07-17T09:53:17.083741Z",
     "shell.execute_reply.started": "2025-07-17T09:53:17.071096Z"
    }
   },
   "outputs": [],
   "source": [
    "cleaned_caesar[\"age\"]=caesar_df[\"age\"]"
   ]
  },
  {
   "cell_type": "code",
   "execution_count": 106,
   "id": "eaf2e94b-49d0-46f3-9696-1f67e3443ce9",
   "metadata": {
    "execution": {
     "iopub.execute_input": "2025-07-17T09:53:17.090269Z",
     "iopub.status.busy": "2025-07-17T09:53:17.088713Z",
     "iopub.status.idle": "2025-07-17T09:53:17.101907Z",
     "shell.execute_reply": "2025-07-17T09:53:17.099340Z",
     "shell.execute_reply.started": "2025-07-17T09:53:17.090269Z"
    }
   },
   "outputs": [],
   "source": [
    "cleaned_caesar[\"weight\"]=caesar_df[\"weight\"]*0.453592"
   ]
  },
  {
   "cell_type": "code",
   "execution_count": 107,
   "id": "00b97c00-7751-43ca-90c0-f4008a0e5683",
   "metadata": {
    "execution": {
     "iopub.execute_input": "2025-07-17T09:53:17.104976Z",
     "iopub.status.busy": "2025-07-17T09:53:17.103962Z",
     "iopub.status.idle": "2025-07-17T09:53:17.118100Z",
     "shell.execute_reply": "2025-07-17T09:53:17.115143Z",
     "shell.execute_reply.started": "2025-07-17T09:53:17.104976Z"
    }
   },
   "outputs": [],
   "source": [
    "caesar_df[\"gender\"] = caesar_df[\"gender\"].map({\"male\": 1, \"female\": 0})"
   ]
  },
  {
   "cell_type": "code",
   "execution_count": 108,
   "id": "5103f698-d6b8-456f-b191-12b5fad169e4",
   "metadata": {
    "execution": {
     "iopub.execute_input": "2025-07-17T09:53:17.121678Z",
     "iopub.status.busy": "2025-07-17T09:53:17.120620Z",
     "iopub.status.idle": "2025-07-17T09:53:17.131342Z",
     "shell.execute_reply": "2025-07-17T09:53:17.130286Z",
     "shell.execute_reply.started": "2025-07-17T09:53:17.121678Z"
    }
   },
   "outputs": [],
   "source": [
    "cleaned_caesar[\"sex\"]=caesar_df[\"gender\"]"
   ]
  },
  {
   "cell_type": "code",
   "execution_count": 109,
   "id": "2dfb8588-f224-4208-9e88-b4581ed52ad8",
   "metadata": {
    "execution": {
     "iopub.execute_input": "2025-07-17T09:53:17.135439Z",
     "iopub.status.busy": "2025-07-17T09:53:17.135439Z",
     "iopub.status.idle": "2025-07-17T09:53:17.149285Z",
     "shell.execute_reply": "2025-07-17T09:53:17.146271Z",
     "shell.execute_reply.started": "2025-07-17T09:53:17.135439Z"
    }
   },
   "outputs": [],
   "source": [
    "cleaned_caesar[\"tour_de_cheville\"]=caesar_df[\"ankle_circum\"]*2.54"
   ]
  },
  {
   "cell_type": "code",
   "execution_count": 110,
   "id": "9fbf008a-e1c9-423c-8135-c25fa1b8121f",
   "metadata": {
    "execution": {
     "iopub.execute_input": "2025-07-17T09:53:17.153665Z",
     "iopub.status.busy": "2025-07-17T09:53:17.151640Z",
     "iopub.status.idle": "2025-07-17T09:53:17.162411Z",
     "shell.execute_reply": "2025-07-17T09:53:17.161347Z",
     "shell.execute_reply.started": "2025-07-17T09:53:17.152655Z"
    }
   },
   "outputs": [],
   "source": [
    "cleaned_caesar[\"longueur_du_bras\"]=caesar_df[\"arm_len_shoulder_wrist\"]*2.54"
   ]
  },
  {
   "cell_type": "code",
   "execution_count": 111,
   "id": "b4545024-e22c-41ca-b326-a82cafdd99be",
   "metadata": {
    "execution": {
     "iopub.execute_input": "2025-07-17T09:53:17.164602Z",
     "iopub.status.busy": "2025-07-17T09:53:17.164602Z",
     "iopub.status.idle": "2025-07-17T09:53:17.179164Z",
     "shell.execute_reply": "2025-07-17T09:53:17.177173Z",
     "shell.execute_reply.started": "2025-07-17T09:53:17.164602Z"
    }
   },
   "outputs": [],
   "source": [
    "cleaned_caesar[\"largeur_du_dos\"]=caesar_df[\"biacromial_breadth\"]*2.54"
   ]
  },
  {
   "cell_type": "code",
   "execution_count": 112,
   "id": "df045831-c16b-4754-b3ca-f4fb373997f6",
   "metadata": {
    "execution": {
     "iopub.execute_input": "2025-07-17T09:53:17.181445Z",
     "iopub.status.busy": "2025-07-17T09:53:17.181445Z",
     "iopub.status.idle": "2025-07-17T09:53:17.194001Z",
     "shell.execute_reply": "2025-07-17T09:53:17.192003Z",
     "shell.execute_reply.started": "2025-07-17T09:53:17.181445Z"
    }
   },
   "outputs": [],
   "source": [
    "cleaned_caesar[\"tour_de_ventre_maximal\"]=caesar_df[\"waist_circum_preferred\"]*2.54"
   ]
  },
  {
   "cell_type": "code",
   "execution_count": 113,
   "id": "e3b9aa15-04a0-4510-af7c-c4e7083ff161",
   "metadata": {
    "execution": {
     "iopub.execute_input": "2025-07-17T09:53:17.196005Z",
     "iopub.status.busy": "2025-07-17T09:53:17.195005Z",
     "iopub.status.idle": "2025-07-17T09:53:17.210001Z",
     "shell.execute_reply": "2025-07-17T09:53:17.208040Z",
     "shell.execute_reply.started": "2025-07-17T09:53:17.196005Z"
    }
   },
   "outputs": [],
   "source": [
    "cleaned_caesar[\"tour_de_poitrine\"]=caesar_df[\"chest_circum\"]*2.54"
   ]
  },
  {
   "cell_type": "code",
   "execution_count": 114,
   "id": "31a5c6e3-e848-4e7e-ad76-d36867f00fb8",
   "metadata": {
    "execution": {
     "iopub.execute_input": "2025-07-17T09:53:17.213568Z",
     "iopub.status.busy": "2025-07-17T09:53:17.211549Z",
     "iopub.status.idle": "2025-07-17T09:53:17.225161Z",
     "shell.execute_reply": "2025-07-17T09:53:17.224117Z",
     "shell.execute_reply.started": "2025-07-17T09:53:17.213568Z"
    }
   },
   "outputs": [],
   "source": [
    "cleaned_caesar[\"tour_de_poitrine_mesure_a_la_main\"]=caesar_df[\"bra_size_chest\"]*2.54"
   ]
  },
  {
   "cell_type": "code",
   "execution_count": 115,
   "id": "95c239d9-53b6-46c8-aa24-81872f91ed8a",
   "metadata": {
    "execution": {
     "iopub.execute_input": "2025-07-17T09:53:17.228152Z",
     "iopub.status.busy": "2025-07-17T09:53:17.227156Z",
     "iopub.status.idle": "2025-07-17T09:53:17.241342Z",
     "shell.execute_reply": "2025-07-17T09:53:17.240278Z",
     "shell.execute_reply.started": "2025-07-17T09:53:17.228152Z"
    }
   },
   "outputs": [],
   "source": [
    "cleaned_caesar[\"hauteur_de_poitrine\"]=caesar_df[\"chest_height\"]*2.54"
   ]
  },
  {
   "cell_type": "code",
   "execution_count": 116,
   "id": "46e8bed0-7256-473e-9eca-d4ead3980e99",
   "metadata": {
    "execution": {
     "iopub.execute_input": "2025-07-17T09:53:17.244388Z",
     "iopub.status.busy": "2025-07-17T09:53:17.243387Z",
     "iopub.status.idle": "2025-07-17T09:53:17.258023Z",
     "shell.execute_reply": "2025-07-17T09:53:17.256042Z",
     "shell.execute_reply.started": "2025-07-17T09:53:17.244388Z"
    }
   },
   "outputs": [],
   "source": [
    "cleaned_caesar[\"hauteur_d_entrejambe\"]=caesar_df[\"jean_inseam\"]*2.54"
   ]
  },
  {
   "cell_type": "code",
   "execution_count": 117,
   "id": "de7da753-687c-4c40-a7ca-9aaa7ea4c6a3",
   "metadata": {
    "execution": {
     "iopub.execute_input": "2025-07-17T09:53:17.260032Z",
     "iopub.status.busy": "2025-07-17T09:53:17.259014Z",
     "iopub.status.idle": "2025-07-17T09:53:17.273281Z",
     "shell.execute_reply": "2025-07-17T09:53:17.271269Z",
     "shell.execute_reply.started": "2025-07-17T09:53:17.260032Z"
    }
   },
   "outputs": [],
   "source": [
    "cleaned_caesar[\"longueur_avant\"]=caesar_df[\"radial_stylion_len\"]*2.54"
   ]
  },
  {
   "cell_type": "code",
   "execution_count": 118,
   "id": "6bb440af-3004-49f7-92f1-06cadbf95cee",
   "metadata": {
    "execution": {
     "iopub.execute_input": "2025-07-17T09:53:17.274271Z",
     "iopub.status.busy": "2025-07-17T09:53:17.274271Z",
     "iopub.status.idle": "2025-07-17T09:53:17.289006Z",
     "shell.execute_reply": "2025-07-17T09:53:17.287059Z",
     "shell.execute_reply.started": "2025-07-17T09:53:17.274271Z"
    }
   },
   "outputs": [],
   "source": [
    "cleaned_caesar[\"largeur_des_hanches\"]=caesar_df[\"bideltoid_breadth\"]*2.54"
   ]
  },
  {
   "cell_type": "code",
   "execution_count": 119,
   "id": "6b4a7c03-649b-43a0-8ee4-654dbeb91517",
   "metadata": {
    "execution": {
     "iopub.execute_input": "2025-07-17T09:53:17.290551Z",
     "iopub.status.busy": "2025-07-17T09:53:17.290551Z",
     "iopub.status.idle": "2025-07-17T09:53:17.303191Z",
     "shell.execute_reply": "2025-07-17T09:53:17.302219Z",
     "shell.execute_reply.started": "2025-07-17T09:53:17.290551Z"
    }
   },
   "outputs": [],
   "source": [
    "cleaned_caesar[\"hauteur_des_hanches\"]=caesar_df[\"hip_height\"]*2.54"
   ]
  },
  {
   "cell_type": "code",
   "execution_count": 120,
   "id": "673af7aa-cc32-4bc2-aec7-f51ea9262e09",
   "metadata": {
    "execution": {
     "iopub.execute_input": "2025-07-17T09:53:17.305192Z",
     "iopub.status.busy": "2025-07-17T09:53:17.305192Z",
     "iopub.status.idle": "2025-07-17T09:53:17.318376Z",
     "shell.execute_reply": "2025-07-17T09:53:17.317422Z",
     "shell.execute_reply.started": "2025-07-17T09:53:17.305192Z"
    }
   },
   "outputs": [],
   "source": [
    "cleaned_caesar[\"hauteur_des_genoux\"]=caesar_df[\"knee_height\"]*2.54"
   ]
  },
  {
   "cell_type": "code",
   "execution_count": 121,
   "id": "b00f834b-f3a0-4eee-82bd-34fc6dcbf522",
   "metadata": {
    "execution": {
     "iopub.execute_input": "2025-07-17T09:53:17.321017Z",
     "iopub.status.busy": "2025-07-17T09:53:17.319964Z",
     "iopub.status.idle": "2025-07-17T09:53:17.335724Z",
     "shell.execute_reply": "2025-07-17T09:53:17.332745Z",
     "shell.execute_reply.started": "2025-07-17T09:53:17.321017Z"
    }
   },
   "outputs": [],
   "source": [
    "cleaned_caesar[\"tour_du_cou\"]=caesar_df[\"neck_circum_base\"]*2.54"
   ]
  },
  {
   "cell_type": "code",
   "execution_count": 122,
   "id": "c5c55ab8-b534-4923-919f-53724ff71ac0",
   "metadata": {
    "execution": {
     "iopub.execute_input": "2025-07-17T09:53:17.337725Z",
     "iopub.status.busy": "2025-07-17T09:53:17.337725Z",
     "iopub.status.idle": "2025-07-17T09:53:17.353095Z",
     "shell.execute_reply": "2025-07-17T09:53:17.348442Z",
     "shell.execute_reply.started": "2025-07-17T09:53:17.337725Z"
    }
   },
   "outputs": [],
   "source": [
    "cleaned_caesar[\"largeur_d_epaule\"]=caesar_df[\"biacromial_breadth\"]*2.54"
   ]
  },
  {
   "cell_type": "code",
   "execution_count": 123,
   "id": "46b466ed-2c45-4334-aeba-9e83f5d3aba3",
   "metadata": {
    "execution": {
     "iopub.execute_input": "2025-07-17T09:53:17.356097Z",
     "iopub.status.busy": "2025-07-17T09:53:17.355092Z",
     "iopub.status.idle": "2025-07-17T09:53:17.381672Z",
     "shell.execute_reply": "2025-07-17T09:53:17.379308Z",
     "shell.execute_reply.started": "2025-07-17T09:53:17.356097Z"
    }
   },
   "outputs": [],
   "source": [
    "cleaned_caesar[\"hauteur_des_epaules\"]=caesar_df[\"acromion_height\"]*2.54"
   ]
  },
  {
   "cell_type": "code",
   "execution_count": 124,
   "id": "c9d74c52-50ab-4acd-984c-69bff6039e4c",
   "metadata": {
    "execution": {
     "iopub.execute_input": "2025-07-17T09:53:17.384690Z",
     "iopub.status.busy": "2025-07-17T09:53:17.383672Z",
     "iopub.status.idle": "2025-07-17T09:53:17.398223Z",
     "shell.execute_reply": "2025-07-17T09:53:17.395203Z",
     "shell.execute_reply.started": "2025-07-17T09:53:17.384690Z"
    }
   },
   "outputs": [],
   "source": [
    "cleaned_caesar[\"largeur_des_epaules_a_l_horizontales\"]=caesar_df[\"bideltoid_breadth\"]*2.54"
   ]
  },
  {
   "cell_type": "code",
   "execution_count": 125,
   "id": "ebd69ea7-11b6-41b3-86f3-d5f0b18f5e11",
   "metadata": {
    "execution": {
     "iopub.execute_input": "2025-07-17T09:53:17.401735Z",
     "iopub.status.busy": "2025-07-17T09:53:17.400717Z",
     "iopub.status.idle": "2025-07-17T09:53:17.413372Z",
     "shell.execute_reply": "2025-07-17T09:53:17.411351Z",
     "shell.execute_reply.started": "2025-07-17T09:53:17.401735Z"
    }
   },
   "outputs": [],
   "source": [
    "cleaned_caesar[\"longueur_de_la_colonne_vertebrale_jusqu_au_poignet\"]=caesar_df[\"arm_len_spine_wrist\"]*2.54"
   ]
  },
  {
   "cell_type": "code",
   "execution_count": 126,
   "id": "cd3dfcdf-af4a-4a8c-bf2d-aaec673f4065",
   "metadata": {
    "execution": {
     "iopub.execute_input": "2025-07-17T09:53:17.416364Z",
     "iopub.status.busy": "2025-07-17T09:53:17.414367Z",
     "iopub.status.idle": "2025-07-17T09:53:17.428907Z",
     "shell.execute_reply": "2025-07-17T09:53:17.426910Z",
     "shell.execute_reply.started": "2025-07-17T09:53:17.416364Z"
    }
   },
   "outputs": [],
   "source": [
    "cleaned_caesar[\"tour_de_cuisse\"]=caesar_df[\"thigh_circum_proximal\"]*2.54"
   ]
  },
  {
   "cell_type": "code",
   "execution_count": 127,
   "id": "c72122cc-254c-4ab7-9016-605edd431b98",
   "metadata": {
    "execution": {
     "iopub.execute_input": "2025-07-17T09:53:17.430444Z",
     "iopub.status.busy": "2025-07-17T09:53:17.429904Z",
     "iopub.status.idle": "2025-07-17T09:53:17.444981Z",
     "shell.execute_reply": "2025-07-17T09:53:17.442993Z",
     "shell.execute_reply.started": "2025-07-17T09:53:17.430444Z"
    }
   },
   "outputs": [],
   "source": [
    "cleaned_caesar[\"tour_de_taille\"]=caesar_df[\"waist_circum_preferred\"]*2.54"
   ]
  },
  {
   "cell_type": "code",
   "execution_count": 128,
   "id": "12aec337-90c2-4940-8dd6-4bca7b494b85",
   "metadata": {
    "execution": {
     "iopub.execute_input": "2025-07-17T09:53:17.447000Z",
     "iopub.status.busy": "2025-07-17T09:53:17.447000Z",
     "iopub.status.idle": "2025-07-17T09:53:17.460071Z",
     "shell.execute_reply": "2025-07-17T09:53:17.459074Z",
     "shell.execute_reply.started": "2025-07-17T09:53:17.447000Z"
    }
   },
   "outputs": [],
   "source": [
    "cleaned_caesar[\"hauteur_de_la_taille\"]=caesar_df[\"waist_height_preferred\"]*2.54"
   ]
  },
  {
   "cell_type": "code",
   "execution_count": 129,
   "id": "cd54426b-8bb1-4c4d-8428-7c34fb44c241",
   "metadata": {
    "execution": {
     "iopub.execute_input": "2025-07-17T09:53:17.464248Z",
     "iopub.status.busy": "2025-07-17T09:53:17.462230Z",
     "iopub.status.idle": "2025-07-17T09:53:17.495356Z",
     "shell.execute_reply": "2025-07-17T09:53:17.489986Z",
     "shell.execute_reply.started": "2025-07-17T09:53:17.464248Z"
    }
   },
   "outputs": [],
   "source": [
    "cleaned_caesar[\"profondeur_des_aisselles\"]=0"
   ]
  },
  {
   "cell_type": "code",
   "execution_count": 130,
   "id": "c7f9cd31-0cec-4b82-9d75-17fcf2d152e6",
   "metadata": {
    "execution": {
     "iopub.execute_input": "2025-07-17T09:53:17.500359Z",
     "iopub.status.busy": "2025-07-17T09:53:17.499369Z",
     "iopub.status.idle": "2025-07-17T09:53:17.524759Z",
     "shell.execute_reply": "2025-07-17T09:53:17.521590Z",
     "shell.execute_reply.started": "2025-07-17T09:53:17.500359Z"
    }
   },
   "outputs": [],
   "source": [
    "cleaned_caesar[\"longueur_du_dos\"]=0"
   ]
  },
  {
   "cell_type": "code",
   "execution_count": 131,
   "id": "29276b45-6996-4883-93b1-751e32d787e7",
   "metadata": {
    "execution": {
     "iopub.execute_input": "2025-07-17T09:53:17.527776Z",
     "iopub.status.busy": "2025-07-17T09:53:17.526833Z",
     "iopub.status.idle": "2025-07-17T09:53:17.538434Z",
     "shell.execute_reply": "2025-07-17T09:53:17.537382Z",
     "shell.execute_reply.started": "2025-07-17T09:53:17.527776Z"
    }
   },
   "outputs": [],
   "source": [
    "cleaned_caesar[\"tour_de_biceps\"]=0"
   ]
  },
  {
   "cell_type": "code",
   "execution_count": 132,
   "id": "9dc9aefd-1149-4d69-8bea-17ab915c00fc",
   "metadata": {
    "execution": {
     "iopub.execute_input": "2025-07-17T09:53:17.542009Z",
     "iopub.status.busy": "2025-07-17T09:53:17.541007Z",
     "iopub.status.idle": "2025-07-17T09:53:17.555126Z",
     "shell.execute_reply": "2025-07-17T09:53:17.552980Z",
     "shell.execute_reply.started": "2025-07-17T09:53:17.542009Z"
    }
   },
   "outputs": [],
   "source": [
    "cleaned_caesar[\"tour_de_mollet\"]=0"
   ]
  },
  {
   "cell_type": "code",
   "execution_count": 133,
   "id": "69100642-d553-4bb9-88e0-3620a6b53e5f",
   "metadata": {
    "execution": {
     "iopub.execute_input": "2025-07-17T09:53:17.557146Z",
     "iopub.status.busy": "2025-07-17T09:53:17.556142Z",
     "iopub.status.idle": "2025-07-17T09:53:17.570260Z",
     "shell.execute_reply": "2025-07-17T09:53:17.568707Z",
     "shell.execute_reply.started": "2025-07-17T09:53:17.557146Z"
    }
   },
   "outputs": [],
   "source": [
    "cleaned_caesar[\"tour_de_coude\"]=0"
   ]
  },
  {
   "cell_type": "code",
   "execution_count": 134,
   "id": "f8cee990-244a-443f-8e0c-0866cf96bca2",
   "metadata": {
    "execution": {
     "iopub.execute_input": "2025-07-17T09:53:17.572274Z",
     "iopub.status.busy": "2025-07-17T09:53:17.571276Z",
     "iopub.status.idle": "2025-07-17T09:53:17.586910Z",
     "shell.execute_reply": "2025-07-17T09:53:17.583956Z",
     "shell.execute_reply.started": "2025-07-17T09:53:17.572274Z"
    }
   },
   "outputs": [],
   "source": [
    "cleaned_caesar[\"tour_d_avant_bras\"]=0"
   ]
  },
  {
   "cell_type": "code",
   "execution_count": 135,
   "id": "f343ae0b-f666-49ad-80ab-f1e4eb045984",
   "metadata": {
    "execution": {
     "iopub.execute_input": "2025-07-17T09:53:17.587904Z",
     "iopub.status.busy": "2025-07-17T09:53:17.587904Z",
     "iopub.status.idle": "2025-07-17T09:53:17.602252Z",
     "shell.execute_reply": "2025-07-17T09:53:17.599022Z",
     "shell.execute_reply.started": "2025-07-17T09:53:17.587904Z"
    }
   },
   "outputs": [],
   "source": [
    "cleaned_caesar[\"tour_de_tête\"]=0"
   ]
  },
  {
   "cell_type": "code",
   "execution_count": 136,
   "id": "8c6e43f5-8ddd-41d7-8ef2-c284e13f43ed",
   "metadata": {
    "execution": {
     "iopub.execute_input": "2025-07-17T09:53:17.604243Z",
     "iopub.status.busy": "2025-07-17T09:53:17.604243Z",
     "iopub.status.idle": "2025-07-17T09:53:17.617314Z",
     "shell.execute_reply": "2025-07-17T09:53:17.614310Z",
     "shell.execute_reply.started": "2025-07-17T09:53:17.604243Z"
    }
   },
   "outputs": [],
   "source": [
    "cleaned_caesar[\"tour_de_hanches_haut\"]=0"
   ]
  },
  {
   "cell_type": "code",
   "execution_count": 137,
   "id": "9c4a3bc9-8fb8-4743-8831-aec2c8ed2323",
   "metadata": {
    "execution": {
     "iopub.execute_input": "2025-07-17T09:53:17.620308Z",
     "iopub.status.busy": "2025-07-17T09:53:17.619313Z",
     "iopub.status.idle": "2025-07-17T09:53:17.631908Z",
     "shell.execute_reply": "2025-07-17T09:53:17.629892Z",
     "shell.execute_reply.started": "2025-07-17T09:53:17.620308Z"
    }
   },
   "outputs": [],
   "source": [
    "cleaned_caesar[\"tour_de_genou\"]=0"
   ]
  },
  {
   "cell_type": "code",
   "execution_count": 138,
   "id": "53f2af48-97e6-4c31-8f71-6590d26683da",
   "metadata": {
    "execution": {
     "iopub.execute_input": "2025-07-17T09:53:17.635919Z",
     "iopub.status.busy": "2025-07-17T09:53:17.634918Z",
     "iopub.status.idle": "2025-07-17T09:53:17.646455Z",
     "shell.execute_reply": "2025-07-17T09:53:17.645467Z",
     "shell.execute_reply.started": "2025-07-17T09:53:17.635919Z"
    }
   },
   "outputs": [],
   "source": [
    "cleaned_caesar[\"longueur_du_cou_au_genou\"]=0"
   ]
  },
  {
   "cell_type": "code",
   "execution_count": 139,
   "id": "238b10a7-72d1-4c28-ae8d-5eb3f762a08f",
   "metadata": {
    "execution": {
     "iopub.execute_input": "2025-07-17T09:53:17.649979Z",
     "iopub.status.busy": "2025-07-17T09:53:17.648459Z",
     "iopub.status.idle": "2025-07-17T09:53:17.663984Z",
     "shell.execute_reply": "2025-07-17T09:53:17.661479Z",
     "shell.execute_reply.started": "2025-07-17T09:53:17.648459Z"
    }
   },
   "outputs": [],
   "source": [
    "cleaned_caesar[\"angle_de_l_epaule\"]=0"
   ]
  },
  {
   "cell_type": "code",
   "execution_count": 140,
   "id": "45ca6383-d9cb-4283-84f2-553a842df00f",
   "metadata": {
    "execution": {
     "iopub.execute_input": "2025-07-17T09:53:17.667292Z",
     "iopub.status.busy": "2025-07-17T09:53:17.666003Z",
     "iopub.status.idle": "2025-07-17T09:53:17.680138Z",
     "shell.execute_reply": "2025-07-17T09:53:17.677384Z",
     "shell.execute_reply.started": "2025-07-17T09:53:17.667292Z"
    }
   },
   "outputs": [],
   "source": [
    "cleaned_caesar[\"longueur_du_côte\"]=0"
   ]
  },
  {
   "cell_type": "code",
   "execution_count": 141,
   "id": "6c3e087c-4d28-4030-a9c3-7b515587aed3",
   "metadata": {
    "execution": {
     "iopub.execute_input": "2025-07-17T09:53:17.682168Z",
     "iopub.status.busy": "2025-07-17T09:53:17.681159Z",
     "iopub.status.idle": "2025-07-17T09:53:17.694231Z",
     "shell.execute_reply": "2025-07-17T09:53:17.692231Z",
     "shell.execute_reply.started": "2025-07-17T09:53:17.682168Z"
    }
   },
   "outputs": [],
   "source": [
    "cleaned_caesar[\"longueur_du_tronc\"]=0"
   ]
  },
  {
   "cell_type": "code",
   "execution_count": 142,
   "id": "e479566e-a9ef-4f2b-966b-db4c9bebb97b",
   "metadata": {
    "execution": {
     "iopub.execute_input": "2025-07-17T09:53:17.696240Z",
     "iopub.status.busy": "2025-07-17T09:53:17.695232Z",
     "iopub.status.idle": "2025-07-17T09:53:17.709321Z",
     "shell.execute_reply": "2025-07-17T09:53:17.708297Z",
     "shell.execute_reply.started": "2025-07-17T09:53:17.696240Z"
    }
   },
   "outputs": [],
   "source": [
    "cleaned_caesar[\"longueur_de_sous_poitrine\"]=0"
   ]
  },
  {
   "cell_type": "code",
   "execution_count": 143,
   "id": "e5770df3-98fa-4e7b-af8a-4c5fedcac556",
   "metadata": {
    "execution": {
     "iopub.execute_input": "2025-07-17T09:53:17.711810Z",
     "iopub.status.busy": "2025-07-17T09:53:17.710808Z",
     "iopub.status.idle": "2025-07-17T09:53:17.726332Z",
     "shell.execute_reply": "2025-07-17T09:53:17.724336Z",
     "shell.execute_reply.started": "2025-07-17T09:53:17.711810Z"
    }
   },
   "outputs": [],
   "source": [
    "cleaned_caesar[\"largeur_de_la_taille\"]=0"
   ]
  },
  {
   "cell_type": "code",
   "execution_count": 144,
   "id": "75992761-f5f3-46b6-9e0b-ad3bd9492025",
   "metadata": {
    "execution": {
     "iopub.execute_input": "2025-07-17T09:53:17.728344Z",
     "iopub.status.busy": "2025-07-17T09:53:17.727341Z",
     "iopub.status.idle": "2025-07-17T09:53:17.741129Z",
     "shell.execute_reply": "2025-07-17T09:53:17.740028Z",
     "shell.execute_reply.started": "2025-07-17T09:53:17.728344Z"
    }
   },
   "outputs": [],
   "source": [
    "cleaned_caesar[\"tour_de_poignet\"]=0"
   ]
  },
  {
   "cell_type": "code",
   "execution_count": 167,
   "id": "a153f53c-aae1-43bf-ab92-8c5f6c6ac254",
   "metadata": {
    "execution": {
     "iopub.execute_input": "2025-07-17T10:38:54.471674Z",
     "iopub.status.busy": "2025-07-17T10:38:54.471674Z",
     "iopub.status.idle": "2025-07-17T10:38:54.481673Z",
     "shell.execute_reply": "2025-07-17T10:38:54.480673Z",
     "shell.execute_reply.started": "2025-07-17T10:38:54.471674Z"
    }
   },
   "outputs": [],
   "source": [
    "cleaned_caesar[\"largeur_du_bassin\"]=0"
   ]
  },
  {
   "cell_type": "code",
   "execution_count": 146,
   "id": "5c4ca035-e2fa-4c92-9021-c5e373f89bb7",
   "metadata": {
    "execution": {
     "iopub.execute_input": "2025-07-17T09:53:17.759038Z",
     "iopub.status.busy": "2025-07-17T09:53:17.758031Z",
     "iopub.status.idle": "2025-07-17T09:53:17.772231Z",
     "shell.execute_reply": "2025-07-17T09:53:17.770174Z",
     "shell.execute_reply.started": "2025-07-17T09:53:17.758031Z"
    }
   },
   "outputs": [],
   "source": [
    "cleaned_caesar[\"profondeur_de_poitrine\"]=0"
   ]
  },
  {
   "cell_type": "code",
   "execution_count": 150,
   "id": "6156257d-3084-4e24-90e3-290b4b8c437d",
   "metadata": {
    "execution": {
     "iopub.execute_input": "2025-07-17T10:23:22.837785Z",
     "iopub.status.busy": "2025-07-17T10:23:22.836780Z",
     "iopub.status.idle": "2025-07-17T10:23:22.862421Z",
     "shell.execute_reply": "2025-07-17T10:23:22.859414Z",
     "shell.execute_reply.started": "2025-07-17T10:23:22.837785Z"
    }
   },
   "outputs": [],
   "source": [
    "cleaned_caesar[\"tour_d_epaule\"]=0"
   ]
  },
  {
   "cell_type": "code",
   "execution_count": 178,
   "id": "2b0144a9-e0cd-4edf-92f3-a83464f6ade7",
   "metadata": {
    "execution": {
     "iopub.execute_input": "2025-07-17T11:01:39.635399Z",
     "iopub.status.busy": "2025-07-17T11:01:39.635399Z",
     "iopub.status.idle": "2025-07-17T11:01:39.646519Z",
     "shell.execute_reply": "2025-07-17T11:01:39.644221Z",
     "shell.execute_reply.started": "2025-07-17T11:01:39.635399Z"
    }
   },
   "outputs": [],
   "source": [
    "cleaned_caesar[\"longueur_d_avant_bras\"]=0"
   ]
  },
  {
   "cell_type": "code",
   "execution_count": 179,
   "id": "b0911ebe-4016-4e38-81cb-18cd674c960d",
   "metadata": {
    "execution": {
     "iopub.execute_input": "2025-07-17T11:01:40.990325Z",
     "iopub.status.busy": "2025-07-17T11:01:40.988328Z",
     "iopub.status.idle": "2025-07-17T11:01:41.157263Z",
     "shell.execute_reply": "2025-07-17T11:01:41.156432Z",
     "shell.execute_reply.started": "2025-07-17T11:01:40.990325Z"
    }
   },
   "outputs": [
    {
     "data": {
      "text/html": [
       "<div>\n",
       "<style scoped>\n",
       "    .dataframe tbody tr th:only-of-type {\n",
       "        vertical-align: middle;\n",
       "    }\n",
       "\n",
       "    .dataframe tbody tr th {\n",
       "        vertical-align: top;\n",
       "    }\n",
       "\n",
       "    .dataframe thead th {\n",
       "        text-align: right;\n",
       "    }\n",
       "</style>\n",
       "<table border=\"1\" class=\"dataframe\">\n",
       "  <thead>\n",
       "    <tr style=\"text-align: right;\">\n",
       "      <th></th>\n",
       "      <th>taille</th>\n",
       "      <th>age</th>\n",
       "      <th>weight</th>\n",
       "      <th>sex</th>\n",
       "      <th>tour_de_cheville</th>\n",
       "      <th>longueur_du_bras</th>\n",
       "      <th>largeur_du_dos</th>\n",
       "      <th>tour_de_ventre_maximal</th>\n",
       "      <th>tour_de_poitrine</th>\n",
       "      <th>tour_de_poitrine_mesure_a_la_main</th>\n",
       "      <th>...</th>\n",
       "      <th>angle_de_l_epaule</th>\n",
       "      <th>longueur_du_côte</th>\n",
       "      <th>longueur_du_tronc</th>\n",
       "      <th>longueur_de_sous_poitrine</th>\n",
       "      <th>largeur_de_la_taille</th>\n",
       "      <th>tour_de_poignet</th>\n",
       "      <th>profondeur_de_poitrine</th>\n",
       "      <th>tour_d_epaule</th>\n",
       "      <th>largeur_du_bassin</th>\n",
       "      <th>longueur_d_avant_bras</th>\n",
       "    </tr>\n",
       "  </thead>\n",
       "  <tbody>\n",
       "    <tr>\n",
       "      <th>count</th>\n",
       "      <td>4458.000000</td>\n",
       "      <td>4452.000000</td>\n",
       "      <td>4458.000000</td>\n",
       "      <td>4459.000000</td>\n",
       "      <td>4458.000000</td>\n",
       "      <td>4452.000000</td>\n",
       "      <td>4329.000000</td>\n",
       "      <td>4451.000000</td>\n",
       "      <td>4457.000000</td>\n",
       "      <td>2139.000000</td>\n",
       "      <td>...</td>\n",
       "      <td>4465.0</td>\n",
       "      <td>4465.0</td>\n",
       "      <td>4465.0</td>\n",
       "      <td>4465.0</td>\n",
       "      <td>4465.0</td>\n",
       "      <td>4465.0</td>\n",
       "      <td>4465.0</td>\n",
       "      <td>4465.0</td>\n",
       "      <td>4465.0</td>\n",
       "      <td>4465.0</td>\n",
       "    </tr>\n",
       "    <tr>\n",
       "      <th>mean</th>\n",
       "      <td>170.933197</td>\n",
       "      <td>37.788971</td>\n",
       "      <td>75.180081</td>\n",
       "      <td>0.472527</td>\n",
       "      <td>25.352163</td>\n",
       "      <td>61.074922</td>\n",
       "      <td>39.248509</td>\n",
       "      <td>84.741921</td>\n",
       "      <td>98.635648</td>\n",
       "      <td>91.024385</td>\n",
       "      <td>...</td>\n",
       "      <td>0.0</td>\n",
       "      <td>0.0</td>\n",
       "      <td>0.0</td>\n",
       "      <td>0.0</td>\n",
       "      <td>0.0</td>\n",
       "      <td>0.0</td>\n",
       "      <td>0.0</td>\n",
       "      <td>0.0</td>\n",
       "      <td>0.0</td>\n",
       "      <td>0.0</td>\n",
       "    </tr>\n",
       "    <tr>\n",
       "      <th>std</th>\n",
       "      <td>10.377478</td>\n",
       "      <td>12.785712</td>\n",
       "      <td>18.439671</td>\n",
       "      <td>0.499301</td>\n",
       "      <td>2.007630</td>\n",
       "      <td>4.467474</td>\n",
       "      <td>3.119254</td>\n",
       "      <td>13.404852</td>\n",
       "      <td>11.818823</td>\n",
       "      <td>6.902016</td>\n",
       "      <td>...</td>\n",
       "      <td>0.0</td>\n",
       "      <td>0.0</td>\n",
       "      <td>0.0</td>\n",
       "      <td>0.0</td>\n",
       "      <td>0.0</td>\n",
       "      <td>0.0</td>\n",
       "      <td>0.0</td>\n",
       "      <td>0.0</td>\n",
       "      <td>0.0</td>\n",
       "      <td>0.0</td>\n",
       "    </tr>\n",
       "    <tr>\n",
       "      <th>min</th>\n",
       "      <td>124.790200</td>\n",
       "      <td>17.500000</td>\n",
       "      <td>37.298870</td>\n",
       "      <td>0.000000</td>\n",
       "      <td>18.999200</td>\n",
       "      <td>40.894000</td>\n",
       "      <td>30.530800</td>\n",
       "      <td>55.702200</td>\n",
       "      <td>73.304400</td>\n",
       "      <td>81.280000</td>\n",
       "      <td>...</td>\n",
       "      <td>0.0</td>\n",
       "      <td>0.0</td>\n",
       "      <td>0.0</td>\n",
       "      <td>0.0</td>\n",
       "      <td>0.0</td>\n",
       "      <td>0.0</td>\n",
       "      <td>0.0</td>\n",
       "      <td>0.0</td>\n",
       "      <td>0.0</td>\n",
       "      <td>0.0</td>\n",
       "    </tr>\n",
       "    <tr>\n",
       "      <th>25%</th>\n",
       "      <td>163.322000</td>\n",
       "      <td>26.500000</td>\n",
       "      <td>61.905102</td>\n",
       "      <td>0.000000</td>\n",
       "      <td>23.799800</td>\n",
       "      <td>57.810400</td>\n",
       "      <td>36.931600</td>\n",
       "      <td>75.006200</td>\n",
       "      <td>90.093800</td>\n",
       "      <td>86.360000</td>\n",
       "      <td>...</td>\n",
       "      <td>0.0</td>\n",
       "      <td>0.0</td>\n",
       "      <td>0.0</td>\n",
       "      <td>0.0</td>\n",
       "      <td>0.0</td>\n",
       "      <td>0.0</td>\n",
       "      <td>0.0</td>\n",
       "      <td>0.0</td>\n",
       "      <td>0.0</td>\n",
       "      <td>0.0</td>\n",
       "    </tr>\n",
       "    <tr>\n",
       "      <th>50%</th>\n",
       "      <td>170.408600</td>\n",
       "      <td>37.000000</td>\n",
       "      <td>72.121128</td>\n",
       "      <td>0.000000</td>\n",
       "      <td>25.196800</td>\n",
       "      <td>60.909200</td>\n",
       "      <td>39.090600</td>\n",
       "      <td>83.007200</td>\n",
       "      <td>96.799400</td>\n",
       "      <td>91.440000</td>\n",
       "      <td>...</td>\n",
       "      <td>0.0</td>\n",
       "      <td>0.0</td>\n",
       "      <td>0.0</td>\n",
       "      <td>0.0</td>\n",
       "      <td>0.0</td>\n",
       "      <td>0.0</td>\n",
       "      <td>0.0</td>\n",
       "      <td>0.0</td>\n",
       "      <td>0.0</td>\n",
       "      <td>0.0</td>\n",
       "    </tr>\n",
       "    <tr>\n",
       "      <th>75%</th>\n",
       "      <td>177.876200</td>\n",
       "      <td>48.000000</td>\n",
       "      <td>84.973657</td>\n",
       "      <td>1.000000</td>\n",
       "      <td>26.797000</td>\n",
       "      <td>64.109600</td>\n",
       "      <td>41.503600</td>\n",
       "      <td>92.303600</td>\n",
       "      <td>105.206800</td>\n",
       "      <td>96.520000</td>\n",
       "      <td>...</td>\n",
       "      <td>0.0</td>\n",
       "      <td>0.0</td>\n",
       "      <td>0.0</td>\n",
       "      <td>0.0</td>\n",
       "      <td>0.0</td>\n",
       "      <td>0.0</td>\n",
       "      <td>0.0</td>\n",
       "      <td>0.0</td>\n",
       "      <td>0.0</td>\n",
       "      <td>0.0</td>\n",
       "    </tr>\n",
       "    <tr>\n",
       "      <th>max</th>\n",
       "      <td>218.287600</td>\n",
       "      <td>79.000000</td>\n",
       "      <td>181.436800</td>\n",
       "      <td>1.000000</td>\n",
       "      <td>36.703000</td>\n",
       "      <td>80.391000</td>\n",
       "      <td>50.165000</td>\n",
       "      <td>170.205400</td>\n",
       "      <td>157.403800</td>\n",
       "      <td>116.840000</td>\n",
       "      <td>...</td>\n",
       "      <td>0.0</td>\n",
       "      <td>0.0</td>\n",
       "      <td>0.0</td>\n",
       "      <td>0.0</td>\n",
       "      <td>0.0</td>\n",
       "      <td>0.0</td>\n",
       "      <td>0.0</td>\n",
       "      <td>0.0</td>\n",
       "      <td>0.0</td>\n",
       "      <td>0.0</td>\n",
       "    </tr>\n",
       "  </tbody>\n",
       "</table>\n",
       "<p>8 rows × 44 columns</p>\n",
       "</div>"
      ],
      "text/plain": [
       "            taille          age       weight          sex  tour_de_cheville  \\\n",
       "count  4458.000000  4452.000000  4458.000000  4459.000000       4458.000000   \n",
       "mean    170.933197    37.788971    75.180081     0.472527         25.352163   \n",
       "std      10.377478    12.785712    18.439671     0.499301          2.007630   \n",
       "min     124.790200    17.500000    37.298870     0.000000         18.999200   \n",
       "25%     163.322000    26.500000    61.905102     0.000000         23.799800   \n",
       "50%     170.408600    37.000000    72.121128     0.000000         25.196800   \n",
       "75%     177.876200    48.000000    84.973657     1.000000         26.797000   \n",
       "max     218.287600    79.000000   181.436800     1.000000         36.703000   \n",
       "\n",
       "       longueur_du_bras  largeur_du_dos  tour_de_ventre_maximal  \\\n",
       "count       4452.000000     4329.000000             4451.000000   \n",
       "mean          61.074922       39.248509               84.741921   \n",
       "std            4.467474        3.119254               13.404852   \n",
       "min           40.894000       30.530800               55.702200   \n",
       "25%           57.810400       36.931600               75.006200   \n",
       "50%           60.909200       39.090600               83.007200   \n",
       "75%           64.109600       41.503600               92.303600   \n",
       "max           80.391000       50.165000              170.205400   \n",
       "\n",
       "       tour_de_poitrine  tour_de_poitrine_mesure_a_la_main  ...  \\\n",
       "count       4457.000000                        2139.000000  ...   \n",
       "mean          98.635648                          91.024385  ...   \n",
       "std           11.818823                           6.902016  ...   \n",
       "min           73.304400                          81.280000  ...   \n",
       "25%           90.093800                          86.360000  ...   \n",
       "50%           96.799400                          91.440000  ...   \n",
       "75%          105.206800                          96.520000  ...   \n",
       "max          157.403800                         116.840000  ...   \n",
       "\n",
       "       angle_de_l_epaule  longueur_du_côte  longueur_du_tronc  \\\n",
       "count             4465.0            4465.0             4465.0   \n",
       "mean                 0.0               0.0                0.0   \n",
       "std                  0.0               0.0                0.0   \n",
       "min                  0.0               0.0                0.0   \n",
       "25%                  0.0               0.0                0.0   \n",
       "50%                  0.0               0.0                0.0   \n",
       "75%                  0.0               0.0                0.0   \n",
       "max                  0.0               0.0                0.0   \n",
       "\n",
       "       longueur_de_sous_poitrine  largeur_de_la_taille  tour_de_poignet  \\\n",
       "count                     4465.0                4465.0           4465.0   \n",
       "mean                         0.0                   0.0              0.0   \n",
       "std                          0.0                   0.0              0.0   \n",
       "min                          0.0                   0.0              0.0   \n",
       "25%                          0.0                   0.0              0.0   \n",
       "50%                          0.0                   0.0              0.0   \n",
       "75%                          0.0                   0.0              0.0   \n",
       "max                          0.0                   0.0              0.0   \n",
       "\n",
       "       profondeur_de_poitrine  tour_d_epaule  largeur_du_bassin  \\\n",
       "count                  4465.0         4465.0             4465.0   \n",
       "mean                      0.0            0.0                0.0   \n",
       "std                       0.0            0.0                0.0   \n",
       "min                       0.0            0.0                0.0   \n",
       "25%                       0.0            0.0                0.0   \n",
       "50%                       0.0            0.0                0.0   \n",
       "75%                       0.0            0.0                0.0   \n",
       "max                       0.0            0.0                0.0   \n",
       "\n",
       "       longueur_d_avant_bras  \n",
       "count                 4465.0  \n",
       "mean                     0.0  \n",
       "std                      0.0  \n",
       "min                      0.0  \n",
       "25%                      0.0  \n",
       "50%                      0.0  \n",
       "75%                      0.0  \n",
       "max                      0.0  \n",
       "\n",
       "[8 rows x 44 columns]"
      ]
     },
     "execution_count": 179,
     "metadata": {},
     "output_type": "execute_result"
    }
   ],
   "source": [
    "cleaned_caesar.describe()"
   ]
  },
  {
   "cell_type": "code",
   "execution_count": 182,
   "id": "c760cffb-725e-44d3-b72a-0c263711b170",
   "metadata": {
    "execution": {
     "iopub.execute_input": "2025-07-17T14:29:33.711308Z",
     "iopub.status.busy": "2025-07-17T14:29:33.705323Z",
     "iopub.status.idle": "2025-07-17T14:29:33.756295Z",
     "shell.execute_reply": "2025-07-17T14:29:33.752871Z",
     "shell.execute_reply.started": "2025-07-17T14:29:33.710309Z"
    }
   },
   "outputs": [
    {
     "data": {
      "text/plain": [
       "Index(['taille', 'age', 'weight', 'sex', 'tour_de_cheville',\n",
       "       'longueur_du_bras', 'largeur_du_dos', 'tour_de_ventre_maximal',\n",
       "       'tour_de_poitrine', 'tour_de_poitrine_mesure_a_la_main',\n",
       "       'hauteur_de_poitrine', 'hauteur_d_entrejambe', 'longueur_avant',\n",
       "       'largeur_des_hanches', 'hauteur_des_hanches', 'hauteur_des_genoux',\n",
       "       'tour_du_cou', 'largeur_d_epaule', 'hauteur_des_epaules',\n",
       "       'largeur_des_epaules_a_l_horizontales',\n",
       "       'longueur_de_la_colonne_vertebrale_jusqu_au_poignet', 'tour_de_cuisse',\n",
       "       'tour_de_taille', 'hauteur_de_la_taille', 'profondeur_des_aisselles',\n",
       "       'longueur_du_dos', 'tour_de_biceps', 'tour_de_mollet', 'tour_de_coude',\n",
       "       'tour_d_avant_bras', 'tour_de_tête', 'tour_de_hanches_haut',\n",
       "       'tour_de_genou', 'longueur_du_cou_au_genou', 'angle_de_l_epaule',\n",
       "       'longueur_du_côte', 'longueur_du_tronc', 'longueur_de_sous_poitrine',\n",
       "       'largeur_de_la_taille', 'tour_de_poignet', 'profondeur_de_poitrine',\n",
       "       'tour_d_epaule', 'largeur_du_bassin', 'longueur_d_avant_bras'],\n",
       "      dtype='object')"
      ]
     },
     "execution_count": 182,
     "metadata": {},
     "output_type": "execute_result"
    }
   ],
   "source": [
    "cleaned_caesar.columns"
   ]
  },
  {
   "cell_type": "code",
   "execution_count": 181,
   "id": "a2d1cba4-ad55-4320-9182-0be2b6a2059a",
   "metadata": {
    "execution": {
     "iopub.execute_input": "2025-07-17T11:01:47.920663Z",
     "iopub.status.busy": "2025-07-17T11:01:47.919664Z",
     "iopub.status.idle": "2025-07-17T11:01:48.629816Z",
     "shell.execute_reply": "2025-07-17T11:01:48.628284Z",
     "shell.execute_reply.started": "2025-07-17T11:01:47.920663Z"
    }
   },
   "outputs": [
    {
     "name": "stdout",
     "output_type": "stream",
     "text": [
      "Nombre de colonnes en commun : 43\n",
      "\n",
      "\n",
      "=== Mesure : age ===\n",
      "       ANSUR II MALE  ANSUR II FEMALE  BDIMS MALE  BDIMS FEMALE  CAESAR MALE  \\\n",
      "count    4082.000000      1986.000000  247.000000    260.000000  2102.000000   \n",
      "mean       30.158991        28.943605   31.668016     28.769231    37.538297   \n",
      "std         8.810118         8.332078   10.151450      8.853190    12.763015   \n",
      "min        17.000000        17.000000   18.000000     18.000000    17.500000   \n",
      "25%        23.000000        22.000000   24.000000     22.000000    26.200000   \n",
      "50%        28.000000        27.000000   29.000000     26.000000    37.000000   \n",
      "75%        36.000000        34.000000   37.000000     34.000000    47.000000   \n",
      "max        58.000000        58.000000   65.000000     67.000000    79.000000   \n",
      "\n",
      "       CAESAR FEMALE  \n",
      "count    2350.000000  \n",
      "mean       38.013191  \n",
      "std        12.804536  \n",
      "min        18.000000  \n",
      "25%        27.000000  \n",
      "50%        37.000000  \n",
      "75%        48.000000  \n",
      "max        69.000000  \n",
      "\n",
      "\n",
      "=== Mesure : angle_de_l_epaule ===\n",
      "       ANSUR II MALE  ANSUR II FEMALE  BDIMS MALE  BDIMS FEMALE  CAESAR MALE  \\\n",
      "count         4082.0           1986.0       247.0         260.0       2107.0   \n",
      "mean             0.0              0.0         0.0           0.0          0.0   \n",
      "std              0.0              0.0         0.0           0.0          0.0   \n",
      "min              0.0              0.0         0.0           0.0          0.0   \n",
      "25%              0.0              0.0         0.0           0.0          0.0   \n",
      "50%              0.0              0.0         0.0           0.0          0.0   \n",
      "75%              0.0              0.0         0.0           0.0          0.0   \n",
      "max              0.0              0.0         0.0           0.0          0.0   \n",
      "\n",
      "       CAESAR FEMALE  \n",
      "count         2352.0  \n",
      "mean             0.0  \n",
      "std              0.0  \n",
      "min              0.0  \n",
      "25%              0.0  \n",
      "50%              0.0  \n",
      "75%              0.0  \n",
      "max              0.0  \n",
      "\n",
      "\n",
      "=== Mesure : hauteur_d_entrejambe ===\n",
      "       ANSUR II MALE  ANSUR II FEMALE  BDIMS MALE  BDIMS FEMALE  CAESAR MALE  \\\n",
      "count    4082.000000      1986.000000       247.0         260.0  2101.000000   \n",
      "mean       84.592994        78.231722         0.0           0.0    81.218259   \n",
      "std         4.649916         4.463674         0.0           0.0     5.702633   \n",
      "min        70.200000        61.000000         0.0           0.0    38.989000   \n",
      "25%        81.400000        75.300000         0.0           0.0    77.292200   \n",
      "50%        84.500000        78.000000         0.0           0.0    80.899000   \n",
      "75%        87.600000        81.200000         0.0           0.0    84.810600   \n",
      "max       103.100000        94.700000         0.0           0.0   104.698800   \n",
      "\n",
      "       CAESAR FEMALE  \n",
      "count    2346.000000  \n",
      "mean       76.133068  \n",
      "std         5.106528  \n",
      "min        59.004200  \n",
      "25%        72.491600  \n",
      "50%        75.996800  \n",
      "75%        79.502000  \n",
      "max        96.291400  \n",
      "\n",
      "\n",
      "=== Mesure : hauteur_de_la_taille ===\n",
      "       ANSUR II MALE  ANSUR II FEMALE  BDIMS MALE  BDIMS FEMALE  CAESAR MALE  \\\n",
      "count    4082.000000      1986.000000       247.0         260.0  2106.000000   \n",
      "mean      105.648530        98.014904         0.0           0.0   104.425720   \n",
      "std         5.215467         5.002271         0.0           0.0     6.134137   \n",
      "min        87.600000        80.500000         0.0           0.0    67.995800   \n",
      "25%       102.000000        94.700000         0.0           0.0   100.406200   \n",
      "50%       105.500000        97.750000         0.0           0.0   103.987600   \n",
      "75%       109.000000       101.300000         0.0           0.0   108.204000   \n",
      "max       124.500000       114.200000         0.0           0.0   138.201400   \n",
      "\n",
      "       CAESAR FEMALE  \n",
      "count    2349.000000  \n",
      "mean      101.008307  \n",
      "std         5.934245  \n",
      "min        63.703200  \n",
      "25%        96.901000  \n",
      "50%       100.990400  \n",
      "75%       105.003600  \n",
      "max       125.704600  \n",
      "\n",
      "\n",
      "=== Mesure : hauteur_de_poitrine ===\n",
      "       ANSUR II MALE  ANSUR II FEMALE  BDIMS MALE  BDIMS FEMALE  CAESAR MALE  \\\n",
      "count    4082.000000      1986.000000       247.0         260.0  2054.000000   \n",
      "mean      129.111857       117.163646         0.0           0.0   128.796549   \n",
      "std         5.695670         5.549983         0.0           0.0     6.802525   \n",
      "min       108.800000        98.400000         0.0           0.0   103.403400   \n",
      "25%       125.225000       113.400000         0.0           0.0   124.206000   \n",
      "50%       128.900000       116.900000         0.0           0.0   128.397000   \n",
      "75%       132.900000       120.900000         0.0           0.0   133.197600   \n",
      "max       150.600000       135.500000         0.0           0.0   158.445200   \n",
      "\n",
      "       CAESAR FEMALE  \n",
      "count    2275.000000  \n",
      "mean      118.360785  \n",
      "std         6.439505  \n",
      "min        98.806000  \n",
      "25%       113.995200  \n",
      "50%       118.211600  \n",
      "75%       122.593100  \n",
      "max       145.999200  \n",
      "\n",
      "\n",
      "=== Mesure : hauteur_des_epaules ===\n",
      "       ANSUR II MALE  ANSUR II FEMALE  BDIMS MALE  BDIMS FEMALE  CAESAR MALE  \\\n",
      "count         4082.0           1986.0       247.0         260.0  2054.000000   \n",
      "mean             0.0              0.0         0.0           0.0   145.862530   \n",
      "std              0.0              0.0         0.0           0.0     7.558021   \n",
      "min              0.0              0.0         0.0           0.0   120.192800   \n",
      "25%              0.0              0.0         0.0           0.0   140.725525   \n",
      "50%              0.0              0.0         0.0           0.0   145.592800   \n",
      "75%              0.0              0.0         0.0           0.0   150.698200   \n",
      "max              0.0              0.0         0.0           0.0   179.768500   \n",
      "\n",
      "       CAESAR FEMALE  \n",
      "count    2273.000000  \n",
      "mean      134.809673  \n",
      "std         6.717473  \n",
      "min       113.207800  \n",
      "25%       130.302000  \n",
      "50%       134.696200  \n",
      "75%       138.988800  \n",
      "max       160.896300  \n",
      "\n",
      "\n",
      "=== Mesure : hauteur_des_genoux ===\n",
      "       ANSUR II MALE  ANSUR II FEMALE  BDIMS MALE  BDIMS FEMALE  CAESAR MALE  \\\n",
      "count    4082.000000      1986.000000       247.0         260.0  2053.000000   \n",
      "mean       48.838805        44.904935         0.0           0.0    49.597886   \n",
      "std         2.812620         2.599166         0.0           0.0     3.048260   \n",
      "min        39.700000        34.600000         0.0           0.0    39.497000   \n",
      "25%        46.900000        43.200000         0.0           0.0    47.498000   \n",
      "50%        48.700000        44.800000         0.0           0.0    49.453800   \n",
      "75%        50.700000        46.600000         0.0           0.0    51.600100   \n",
      "max        61.200000        54.000000         0.0           0.0    64.350900   \n",
      "\n",
      "       CAESAR FEMALE  \n",
      "count    2273.000000  \n",
      "mean       44.635611  \n",
      "std         2.673869  \n",
      "min        35.890200  \n",
      "25%        42.799000  \n",
      "50%        44.513500  \n",
      "75%        46.355000  \n",
      "max        55.600600  \n",
      "\n",
      "\n",
      "=== Mesure : hauteur_des_hanches ===\n",
      "       ANSUR II MALE  ANSUR II FEMALE  BDIMS MALE  BDIMS FEMALE  CAESAR MALE  \\\n",
      "count    4082.000000      1986.000000       247.0         260.0  2104.000000   \n",
      "mean      106.162935        99.572508         0.0           0.0    88.149034   \n",
      "std         5.201542         4.968500         0.0           0.0     5.928195   \n",
      "min        85.400000        81.600000         0.0           0.0    43.205400   \n",
      "25%       102.800000        96.325000         0.0           0.0    84.201000   \n",
      "50%       106.100000        99.300000         0.0           0.0    88.011000   \n",
      "75%       109.500000       102.800000         0.0           0.0    91.795600   \n",
      "max       125.300000       116.300000         0.0           0.0   108.204000   \n",
      "\n",
      "       CAESAR FEMALE  \n",
      "count    2348.000000  \n",
      "mean       81.197482  \n",
      "std         5.752059  \n",
      "min        65.405000  \n",
      "25%        77.089000  \n",
      "50%        80.797400  \n",
      "75%        84.607400  \n",
      "max       103.403400  \n",
      "\n",
      "\n",
      "=== Mesure : largeur_d_epaule ===\n",
      "       ANSUR II MALE  ANSUR II FEMALE  BDIMS MALE  BDIMS FEMALE  CAESAR MALE  \\\n",
      "count    4082.000000      1986.000000       247.0         260.0  2052.000000   \n",
      "mean       41.567565        36.534894         0.0           0.0    41.485936   \n",
      "std         1.916165         1.829885         0.0           0.0     2.403755   \n",
      "min        33.700000        28.300000         0.0           0.0    33.147000   \n",
      "25%        40.300000        35.300000         0.0           0.0    39.801800   \n",
      "50%        41.500000        36.500000         0.0           0.0    41.478200   \n",
      "75%        42.800000        37.800000         0.0           0.0    43.027600   \n",
      "max        48.900000        42.200000         0.0           0.0    50.165000   \n",
      "\n",
      "       CAESAR FEMALE  \n",
      "count    2272.000000  \n",
      "mean       37.230620  \n",
      "std         2.170358  \n",
      "min        30.530800  \n",
      "25%        35.712400  \n",
      "50%        37.198300  \n",
      "75%        38.658800  \n",
      "max        45.669200  \n",
      "\n",
      "\n",
      "=== Mesure : largeur_de_la_taille ===\n",
      "       ANSUR II MALE  ANSUR II FEMALE  BDIMS MALE  BDIMS FEMALE  CAESAR MALE  \\\n",
      "count    4082.000000      1986.000000       247.0         260.0       2107.0   \n",
      "mean       32.643729        29.989426         0.0           0.0          0.0   \n",
      "std         3.473809         3.295911         0.0           0.0          0.0   \n",
      "min        23.200000        21.100000         0.0           0.0          0.0   \n",
      "25%        30.100000        27.600000         0.0           0.0          0.0   \n",
      "50%        32.500000        29.800000         0.0           0.0          0.0   \n",
      "75%        35.000000        32.100000         0.0           0.0          0.0   \n",
      "max        45.900000        46.100000         0.0           0.0          0.0   \n",
      "\n",
      "       CAESAR FEMALE  \n",
      "count         2352.0  \n",
      "mean             0.0  \n",
      "std              0.0  \n",
      "min              0.0  \n",
      "25%              0.0  \n",
      "50%              0.0  \n",
      "75%              0.0  \n",
      "max              0.0  \n",
      "\n",
      "\n",
      "=== Mesure : largeur_des_epaules_a_l_horizontales ===\n",
      "       ANSUR II MALE  ANSUR II FEMALE  BDIMS MALE  BDIMS FEMALE  CAESAR MALE  \\\n",
      "count    4082.000000      1986.000000       247.0         260.0  2104.000000   \n",
      "mean       51.042479        45.032427         0.0           0.0    48.210359   \n",
      "std         3.250563         2.868742         0.0           0.0     3.616818   \n",
      "min        37.400000        35.700000         0.0           0.0    37.795200   \n",
      "25%        48.900000        43.000000         0.0           0.0    45.694600   \n",
      "50%        50.900000        45.000000         0.0           0.0    47.904400   \n",
      "75%        53.100000        46.900000         0.0           0.0    50.292000   \n",
      "max        63.700000        55.800000         0.0           0.0    65.811400   \n",
      "\n",
      "       CAESAR FEMALE  \n",
      "count    2350.000000  \n",
      "mean       42.604123  \n",
      "std         3.342537  \n",
      "min        34.594800  \n",
      "25%        40.411400  \n",
      "50%        42.189400  \n",
      "75%        44.196000  \n",
      "max        61.493400  \n",
      "\n",
      "\n",
      "=== Mesure : largeur_des_hanches ===\n",
      "       ANSUR II MALE  ANSUR II FEMALE  BDIMS MALE  BDIMS FEMALE  CAESAR MALE  \\\n",
      "count    4082.000000      1986.000000       247.0         260.0  2104.000000   \n",
      "mean       34.573322        35.383686         0.0           0.0    48.210359   \n",
      "std         2.416531         2.666969         0.0           0.0     3.616818   \n",
      "min        26.400000        27.600000         0.0           0.0    37.795200   \n",
      "25%        32.925000        33.600000         0.0           0.0    45.694600   \n",
      "50%        34.400000        35.300000         0.0           0.0    47.904400   \n",
      "75%        36.100000        37.000000         0.0           0.0    50.292000   \n",
      "max        45.200000        47.300000         0.0           0.0    65.811400   \n",
      "\n",
      "       CAESAR FEMALE  \n",
      "count    2350.000000  \n",
      "mean       42.604123  \n",
      "std         3.342537  \n",
      "min        34.594800  \n",
      "25%        40.411400  \n",
      "50%        42.189400  \n",
      "75%        44.196000  \n",
      "max        61.493400  \n",
      "\n",
      "\n",
      "=== Mesure : largeur_du_bassin ===\n",
      "       ANSUR II MALE  ANSUR II FEMALE  BDIMS MALE  BDIMS FEMALE  CAESAR MALE  \\\n",
      "count         4082.0           1986.0  247.000000    260.000000       2107.0   \n",
      "mean             0.0              0.0   32.526721     31.461538          0.0   \n",
      "std              0.0              0.0    1.865131      2.049179          0.0   \n",
      "min              0.0              0.0   27.500000     24.700000          0.0   \n",
      "25%              0.0              0.0   31.400000     30.000000          0.0   \n",
      "50%              0.0              0.0   32.400000     31.500000          0.0   \n",
      "75%              0.0              0.0   33.800000     32.900000          0.0   \n",
      "max              0.0              0.0   38.000000     37.800000          0.0   \n",
      "\n",
      "       CAESAR FEMALE  \n",
      "count         2352.0  \n",
      "mean             0.0  \n",
      "std              0.0  \n",
      "min              0.0  \n",
      "25%              0.0  \n",
      "50%              0.0  \n",
      "75%              0.0  \n",
      "max              0.0  \n",
      "\n",
      "\n",
      "=== Mesure : largeur_du_dos ===\n",
      "       ANSUR II MALE  ANSUR II FEMALE  BDIMS MALE  BDIMS FEMALE  CAESAR MALE  \\\n",
      "count    4082.000000      1986.000000       247.0         260.0  2052.000000   \n",
      "mean       41.567565        36.534894         0.0           0.0    41.485936   \n",
      "std         1.916165         1.829885         0.0           0.0     2.403755   \n",
      "min        33.700000        28.300000         0.0           0.0    33.147000   \n",
      "25%        40.300000        35.300000         0.0           0.0    39.801800   \n",
      "50%        41.500000        36.500000         0.0           0.0    41.478200   \n",
      "75%        42.800000        37.800000         0.0           0.0    43.027600   \n",
      "max        48.900000        42.200000         0.0           0.0    50.165000   \n",
      "\n",
      "       CAESAR FEMALE  \n",
      "count    2272.000000  \n",
      "mean       37.230620  \n",
      "std         2.170358  \n",
      "min        30.530800  \n",
      "25%        35.712400  \n",
      "50%        37.198300  \n",
      "75%        38.658800  \n",
      "max        45.669200  \n",
      "\n",
      "\n",
      "=== Mesure : longueur_avant ===\n",
      "       ANSUR II MALE  ANSUR II FEMALE  BDIMS MALE  BDIMS FEMALE  CAESAR MALE  \\\n",
      "count    4082.000000      1986.000000       247.0         260.0  2052.000000   \n",
      "mean       34.901029        31.771198         0.0           0.0    26.407886   \n",
      "std         1.801510         1.802491         0.0           0.0     1.615831   \n",
      "min        29.000000        25.800000         0.0           0.0    20.154900   \n",
      "25%        33.700000        30.600000         0.0           0.0    25.311100   \n",
      "50%        34.850000        31.600000         0.0           0.0    26.320750   \n",
      "75%        36.100000        32.900000         0.0           0.0    27.432000   \n",
      "max        41.600000        39.200000         0.0           0.0    34.264600   \n",
      "\n",
      "       CAESAR FEMALE  \n",
      "count    2273.000000  \n",
      "mean       23.719650  \n",
      "std         1.474965  \n",
      "min        18.961100  \n",
      "25%        22.707600  \n",
      "50%        23.634700  \n",
      "75%        24.676100  \n",
      "max        29.451300  \n",
      "\n",
      "\n",
      "=== Mesure : longueur_de_la_colonne_vertebrale_jusqu_au_poignet ===\n",
      "       ANSUR II MALE  ANSUR II FEMALE  BDIMS MALE  BDIMS FEMALE  CAESAR MALE  \\\n",
      "count    4082.000000       1986.00000       247.0         260.0  2104.000000   \n",
      "mean       89.584713         80.66853         0.0           0.0    85.566516   \n",
      "std         4.022022          3.79124         0.0           0.0     4.192063   \n",
      "min        73.200000         63.60000         0.0           0.0    57.988200   \n",
      "25%        86.800000         78.20000         0.0           0.0    82.702400   \n",
      "50%        89.500000         80.50000         0.0           0.0    85.344000   \n",
      "75%        92.200000         83.00000         0.0           0.0    88.188800   \n",
      "max       105.800000         93.00000         0.0           0.0   103.098600   \n",
      "\n",
      "       CAESAR FEMALE  \n",
      "count    2348.000000  \n",
      "mean       77.641028  \n",
      "std         3.767968  \n",
      "min        63.296800  \n",
      "25%        75.107800  \n",
      "50%        77.495400  \n",
      "75%        80.111600  \n",
      "max        90.297000  \n",
      "\n",
      "\n",
      "=== Mesure : longueur_de_sous_poitrine ===\n",
      "       ANSUR II MALE  ANSUR II FEMALE  BDIMS MALE  BDIMS FEMALE  CAESAR MALE  \\\n",
      "count         4082.0           1986.0       247.0         260.0       2107.0   \n",
      "mean             0.0              0.0         0.0           0.0          0.0   \n",
      "std              0.0              0.0         0.0           0.0          0.0   \n",
      "min              0.0              0.0         0.0           0.0          0.0   \n",
      "25%              0.0              0.0         0.0           0.0          0.0   \n",
      "50%              0.0              0.0         0.0           0.0          0.0   \n",
      "75%              0.0              0.0         0.0           0.0          0.0   \n",
      "max              0.0              0.0         0.0           0.0          0.0   \n",
      "\n",
      "       CAESAR FEMALE  \n",
      "count         2352.0  \n",
      "mean             0.0  \n",
      "std              0.0  \n",
      "min              0.0  \n",
      "25%              0.0  \n",
      "50%              0.0  \n",
      "75%              0.0  \n",
      "max              0.0  \n",
      "\n",
      "\n",
      "=== Mesure : longueur_du_bras ===\n",
      "       ANSUR II MALE  ANSUR II FEMALE  BDIMS MALE  BDIMS FEMALE  CAESAR MALE  \\\n",
      "count         4082.0           1986.0       247.0         260.0  2104.000000   \n",
      "mean             0.0              0.0         0.0           0.0    64.139418   \n",
      "std              0.0              0.0         0.0           0.0     3.591747   \n",
      "min              0.0              0.0         0.0           0.0    40.894000   \n",
      "25%              0.0              0.0         0.0           0.0    61.798200   \n",
      "50%              0.0              0.0         0.0           0.0    64.008000   \n",
      "75%              0.0              0.0         0.0           0.0    66.395600   \n",
      "max              0.0              0.0         0.0           0.0    80.391000   \n",
      "\n",
      "       CAESAR FEMALE  \n",
      "count    2348.000000  \n",
      "mean       58.328882  \n",
      "std         3.213723  \n",
      "min        46.202600  \n",
      "25%        56.210200  \n",
      "50%        58.191400  \n",
      "75%        60.401200  \n",
      "max        70.891400  \n",
      "\n",
      "\n",
      "=== Mesure : longueur_du_cou_au_genou ===\n",
      "       ANSUR II MALE  ANSUR II FEMALE  BDIMS MALE  BDIMS FEMALE  CAESAR MALE  \\\n",
      "count    4082.000000      1986.000000       247.0         260.0       2107.0   \n",
      "mean       61.795345        59.059466         0.0           0.0          0.0   \n",
      "std         3.058865         3.260167         0.0           0.0          0.0   \n",
      "min        51.800000        46.600000         0.0           0.0          0.0   \n",
      "25%        59.700000        56.900000         0.0           0.0          0.0   \n",
      "50%        61.700000        58.900000         0.0           0.0          0.0   \n",
      "75%        63.900000        61.000000         0.0           0.0          0.0   \n",
      "max        73.600000        70.900000         0.0           0.0          0.0   \n",
      "\n",
      "       CAESAR FEMALE  \n",
      "count         2352.0  \n",
      "mean             0.0  \n",
      "std              0.0  \n",
      "min              0.0  \n",
      "25%              0.0  \n",
      "50%              0.0  \n",
      "75%              0.0  \n",
      "max              0.0  \n",
      "\n",
      "\n",
      "=== Mesure : longueur_du_côte ===\n",
      "       ANSUR II MALE  ANSUR II FEMALE  BDIMS MALE  BDIMS FEMALE  CAESAR MALE  \\\n",
      "count         4082.0           1986.0       247.0         260.0       2107.0   \n",
      "mean             0.0              0.0         0.0           0.0          0.0   \n",
      "std              0.0              0.0         0.0           0.0          0.0   \n",
      "min              0.0              0.0         0.0           0.0          0.0   \n",
      "25%              0.0              0.0         0.0           0.0          0.0   \n",
      "50%              0.0              0.0         0.0           0.0          0.0   \n",
      "75%              0.0              0.0         0.0           0.0          0.0   \n",
      "max              0.0              0.0         0.0           0.0          0.0   \n",
      "\n",
      "       CAESAR FEMALE  \n",
      "count         2352.0  \n",
      "mean             0.0  \n",
      "std              0.0  \n",
      "min              0.0  \n",
      "25%              0.0  \n",
      "50%              0.0  \n",
      "75%              0.0  \n",
      "max              0.0  \n",
      "\n",
      "\n",
      "=== Mesure : longueur_du_dos ===\n",
      "       ANSUR II MALE  ANSUR II FEMALE  BDIMS MALE  BDIMS FEMALE  CAESAR MALE  \\\n",
      "count    4082.000000      1986.000000       247.0         260.0       2107.0   \n",
      "mean       47.761244        42.540282         0.0           0.0          0.0   \n",
      "std         2.772829         2.638895         0.0           0.0          0.0   \n",
      "min        38.300000        34.500000         0.0           0.0          0.0   \n",
      "25%        45.925000        40.700000         0.0           0.0          0.0   \n",
      "50%        47.700000        42.450000         0.0           0.0          0.0   \n",
      "75%        49.500000        44.200000         0.0           0.0          0.0   \n",
      "max        59.800000        53.200000         0.0           0.0          0.0   \n",
      "\n",
      "       CAESAR FEMALE  \n",
      "count         2352.0  \n",
      "mean             0.0  \n",
      "std              0.0  \n",
      "min              0.0  \n",
      "25%              0.0  \n",
      "50%              0.0  \n",
      "75%              0.0  \n",
      "max              0.0  \n",
      "\n",
      "\n",
      "=== Mesure : longueur_du_tronc ===\n",
      "       ANSUR II MALE  ANSUR II FEMALE  BDIMS MALE  BDIMS FEMALE  CAESAR MALE  \\\n",
      "count    4082.000000      1986.000000       247.0         260.0       2107.0   \n",
      "mean       91.828981        85.662588         0.0           0.0          0.0   \n",
      "std         3.569818         3.305424         0.0           0.0          0.0   \n",
      "min        79.000000        75.000000         0.0           0.0          0.0   \n",
      "25%        89.425000        83.400000         0.0           0.0          0.0   \n",
      "50%        91.800000        85.700000         0.0           0.0          0.0   \n",
      "75%        94.300000        87.900000         0.0           0.0          0.0   \n",
      "max       103.900000        95.300000         0.0           0.0          0.0   \n",
      "\n",
      "       CAESAR FEMALE  \n",
      "count         2352.0  \n",
      "mean             0.0  \n",
      "std              0.0  \n",
      "min              0.0  \n",
      "25%              0.0  \n",
      "50%              0.0  \n",
      "75%              0.0  \n",
      "max              0.0  \n",
      "\n",
      "\n",
      "=== Mesure : profondeur_de_poitrine ===\n",
      "       ANSUR II MALE  ANSUR II FEMALE  BDIMS MALE  BDIMS FEMALE  CAESAR MALE  \\\n",
      "count         4082.0           1986.0  247.000000    260.000000       2107.0   \n",
      "mean             0.0              0.0   20.806478     17.724615          0.0   \n",
      "std              0.0              0.0    2.143633      1.832064          0.0   \n",
      "min              0.0              0.0   14.400000     14.300000          0.0   \n",
      "25%              0.0              0.0   19.350000     16.500000          0.0   \n",
      "50%              0.0              0.0   20.600000     17.500000          0.0   \n",
      "75%              0.0              0.0   22.100000     18.700000          0.0   \n",
      "max              0.0              0.0   27.500000     26.800000          0.0   \n",
      "\n",
      "       CAESAR FEMALE  \n",
      "count         2352.0  \n",
      "mean             0.0  \n",
      "std              0.0  \n",
      "min              0.0  \n",
      "25%              0.0  \n",
      "50%              0.0  \n",
      "75%              0.0  \n",
      "max              0.0  \n",
      "\n",
      "\n",
      "=== Mesure : profondeur_des_aisselles ===\n",
      "       ANSUR II MALE  ANSUR II FEMALE  BDIMS MALE  BDIMS FEMALE  CAESAR MALE  \\\n",
      "count         4082.0           1986.0       247.0         260.0       2107.0   \n",
      "mean             0.0              0.0         0.0           0.0          0.0   \n",
      "std              0.0              0.0         0.0           0.0          0.0   \n",
      "min              0.0              0.0         0.0           0.0          0.0   \n",
      "25%              0.0              0.0         0.0           0.0          0.0   \n",
      "50%              0.0              0.0         0.0           0.0          0.0   \n",
      "75%              0.0              0.0         0.0           0.0          0.0   \n",
      "max              0.0              0.0         0.0           0.0          0.0   \n",
      "\n",
      "       CAESAR FEMALE  \n",
      "count         2352.0  \n",
      "mean             0.0  \n",
      "std              0.0  \n",
      "min              0.0  \n",
      "25%              0.0  \n",
      "50%              0.0  \n",
      "75%              0.0  \n",
      "max              0.0  \n",
      "\n",
      "\n",
      "=== Mesure : sex ===\n",
      "       ANSUR II MALE  ANSUR II FEMALE  BDIMS MALE  BDIMS FEMALE  CAESAR MALE  \\\n",
      "count         4082.0           1986.0       247.0         260.0       2107.0   \n",
      "mean             1.0              0.0         1.0           0.0          1.0   \n",
      "std              0.0              0.0         0.0           0.0          0.0   \n",
      "min              1.0              0.0         1.0           0.0          1.0   \n",
      "25%              1.0              0.0         1.0           0.0          1.0   \n",
      "50%              1.0              0.0         1.0           0.0          1.0   \n",
      "75%              1.0              0.0         1.0           0.0          1.0   \n",
      "max              1.0              0.0         1.0           0.0          1.0   \n",
      "\n",
      "       CAESAR FEMALE  \n",
      "count         2352.0  \n",
      "mean             0.0  \n",
      "std              0.0  \n",
      "min              0.0  \n",
      "25%              0.0  \n",
      "50%              0.0  \n",
      "75%              0.0  \n",
      "max              0.0  \n",
      "\n",
      "\n",
      "=== Mesure : taille ===\n",
      "       ANSUR II MALE  ANSUR II FEMALE  BDIMS MALE  BDIMS FEMALE  CAESAR MALE  \\\n",
      "count    4082.000000      1986.000000  247.000000    260.000000  2106.000000   \n",
      "mean      175.621460       162.847331  177.745344    164.872308   177.913588   \n",
      "std         6.855079         6.419951    7.183629      6.544602     8.431030   \n",
      "min       149.100000       140.900000  157.200000    147.200000   131.495800   \n",
      "25%       171.000000       158.625000  172.900000    160.000000   172.212000   \n",
      "50%       175.500000       162.600000  177.800000    164.500000   177.495200   \n",
      "75%       180.200000       167.200000  182.650000    169.500000   183.311800   \n",
      "max       199.300000       182.900000  198.100000    182.900000   218.287600   \n",
      "\n",
      "       CAESAR FEMALE  \n",
      "count    2352.000000  \n",
      "mean      164.682898  \n",
      "std         7.601709  \n",
      "min       124.790200  \n",
      "25%       159.512000  \n",
      "50%       164.388800  \n",
      "75%       169.595800  \n",
      "max       194.792600  \n",
      "\n",
      "\n",
      "=== Mesure : tour_d_avant_bras ===\n",
      "       ANSUR II MALE  ANSUR II FEMALE  BDIMS MALE  BDIMS FEMALE  CAESAR MALE  \\\n",
      "count    4082.000000      1986.000000  247.000000    260.000000       2107.0   \n",
      "mean       31.005855        26.408157   28.240486     23.760385          0.0   \n",
      "std         2.199099         1.851784    1.779325      1.682251          0.0   \n",
      "min        23.300000        20.000000   22.700000     19.600000          0.0   \n",
      "25%        29.500000        25.100000   27.100000     22.675000          0.0   \n",
      "50%        31.000000        26.300000   28.400000     23.600000          0.0   \n",
      "75%        32.400000        27.600000   29.400000     24.700000          0.0   \n",
      "max        40.200000        34.200000   32.500000     30.800000          0.0   \n",
      "\n",
      "       CAESAR FEMALE  \n",
      "count         2352.0  \n",
      "mean             0.0  \n",
      "std              0.0  \n",
      "min              0.0  \n",
      "25%              0.0  \n",
      "50%              0.0  \n",
      "75%              0.0  \n",
      "max              0.0  \n",
      "\n",
      "\n",
      "=== Mesure : tour_d_epaule ===\n",
      "       ANSUR II MALE  ANSUR II FEMALE  BDIMS MALE  BDIMS FEMALE  CAESAR MALE  \\\n",
      "count         4082.0           1986.0  247.000000    260.000000       2107.0   \n",
      "mean             0.0              0.0  116.501619    100.303846          0.0   \n",
      "std              0.0              0.0    6.498023      6.470598          0.0   \n",
      "min              0.0              0.0  100.200000     85.900000          0.0   \n",
      "25%              0.0              0.0  112.200000     96.100000          0.0   \n",
      "50%              0.0              0.0  116.500000     99.500000          0.0   \n",
      "75%              0.0              0.0  121.000000    103.925000          0.0   \n",
      "max              0.0              0.0  134.800000    129.500000          0.0   \n",
      "\n",
      "       CAESAR FEMALE  \n",
      "count         2352.0  \n",
      "mean             0.0  \n",
      "std              0.0  \n",
      "min              0.0  \n",
      "25%              0.0  \n",
      "50%              0.0  \n",
      "75%              0.0  \n",
      "max              0.0  \n",
      "\n",
      "\n",
      "=== Mesure : tour_de_biceps ===\n",
      "       ANSUR II MALE  ANSUR II FEMALE  BDIMS MALE  BDIMS FEMALE  CAESAR MALE  \\\n",
      "count    4082.000000      1986.000000  247.000000    260.000000       2107.0   \n",
      "mean       35.813572        30.557855   34.403644     28.097308          0.0   \n",
      "std         3.461809         3.075703    2.982037      2.709477          0.0   \n",
      "min        24.600000        21.600000   25.600000     22.400000          0.0   \n",
      "25%        33.500000        28.500000   32.500000     26.400000          0.0   \n",
      "50%        35.700000        30.400000   34.400000     27.800000          0.0   \n",
      "75%        38.000000        32.400000   36.400000     29.800000          0.0   \n",
      "max        49.000000        43.500000   42.400000     40.300000          0.0   \n",
      "\n",
      "       CAESAR FEMALE  \n",
      "count         2352.0  \n",
      "mean             0.0  \n",
      "std              0.0  \n",
      "min              0.0  \n",
      "25%              0.0  \n",
      "50%              0.0  \n",
      "75%              0.0  \n",
      "max              0.0  \n",
      "\n",
      "\n",
      "=== Mesure : tour_de_cheville ===\n",
      "       ANSUR II MALE  ANSUR II FEMALE  BDIMS MALE  BDIMS FEMALE  CAESAR MALE  \\\n",
      "count    4082.000000      1986.000000  247.000000    260.000000  2107.000000   \n",
      "mean       22.934395        21.573968   23.159109     21.205769    26.720221   \n",
      "std         1.464910         1.489176    1.729088      1.438818     1.545217   \n",
      "min        15.600000        17.000000   16.400000     17.400000    22.199600   \n",
      "25%        21.925000        20.500000   22.000000     20.300000    25.704800   \n",
      "50%        22.800000        21.500000   23.000000     21.100000    26.593800   \n",
      "75%        23.900000        22.500000   24.300000     22.000000    27.711400   \n",
      "max        29.300000        27.500000   29.300000     26.000000    36.703000   \n",
      "\n",
      "       CAESAR FEMALE  \n",
      "count    2351.000000  \n",
      "mean       24.126089  \n",
      "std         1.524024  \n",
      "min        18.999200  \n",
      "25%        23.088600  \n",
      "50%        24.003000  \n",
      "75%        24.993600  \n",
      "max        31.800800  \n",
      "\n",
      "\n",
      "=== Mesure : tour_de_coude ===\n",
      "       ANSUR II MALE  ANSUR II FEMALE  BDIMS MALE  BDIMS FEMALE  CAESAR MALE  \\\n",
      "count         4082.0           1986.0  247.000000    260.000000       2107.0   \n",
      "mean             0.0              0.0   14.457085     12.366923          0.0   \n",
      "std              0.0              0.0    0.882543      0.836373          0.0   \n",
      "min              0.0              0.0   12.400000      9.900000          0.0   \n",
      "25%              0.0              0.0   13.800000     11.800000          0.0   \n",
      "50%              0.0              0.0   14.400000     12.400000          0.0   \n",
      "75%              0.0              0.0   15.100000     12.900000          0.0   \n",
      "max              0.0              0.0   16.700000     15.000000          0.0   \n",
      "\n",
      "       CAESAR FEMALE  \n",
      "count         2352.0  \n",
      "mean             0.0  \n",
      "std              0.0  \n",
      "min              0.0  \n",
      "25%              0.0  \n",
      "50%              0.0  \n",
      "75%              0.0  \n",
      "max              0.0  \n",
      "\n",
      "\n",
      "=== Mesure : tour_de_cuisse ===\n",
      "       ANSUR II MALE  ANSUR II FEMALE  BDIMS MALE  BDIMS FEMALE  CAESAR MALE  \\\n",
      "count    4082.000000      1986.000000  247.000000    260.000000  2105.000000   \n",
      "mean       62.514233        61.614854   56.497976     57.195769    59.344186   \n",
      "std         5.845217         5.581030    4.246667      4.636004     5.874585   \n",
      "min        41.200000        44.800000   46.800000     46.300000    43.002200   \n",
      "25%        58.600000        57.900000   53.700000     53.775000    55.499000   \n",
      "50%        62.400000        61.300000   56.000000     56.400000    58.699400   \n",
      "75%        66.200000        65.100000   59.150000     59.800000    62.509400   \n",
      "max        84.300000        87.000000   70.000000     75.700000    94.107000   \n",
      "\n",
      "       CAESAR FEMALE  \n",
      "count    2347.000000  \n",
      "mean       59.917345  \n",
      "std         7.048276  \n",
      "min        41.300400  \n",
      "25%        54.991000  \n",
      "50%        58.801000  \n",
      "75%        63.601600  \n",
      "max       105.689400  \n",
      "\n",
      "\n",
      "=== Mesure : tour_de_genou ===\n",
      "       ANSUR II MALE  ANSUR II FEMALE  BDIMS MALE  BDIMS FEMALE  CAESAR MALE  \\\n",
      "count         4082.0           1986.0  247.000000    260.000000       2107.0   \n",
      "mean             0.0              0.0   37.195547     35.260000          0.0   \n",
      "std              0.0              0.0    2.272999      2.578081          0.0   \n",
      "min              0.0              0.0   31.100000     29.000000          0.0   \n",
      "25%              0.0              0.0   35.750000     33.500000          0.0   \n",
      "50%              0.0              0.0   37.000000     35.000000          0.0   \n",
      "75%              0.0              0.0   38.450000     36.800000          0.0   \n",
      "max              0.0              0.0   45.700000     49.000000          0.0   \n",
      "\n",
      "       CAESAR FEMALE  \n",
      "count         2352.0  \n",
      "mean             0.0  \n",
      "std              0.0  \n",
      "min              0.0  \n",
      "25%              0.0  \n",
      "50%              0.0  \n",
      "75%              0.0  \n",
      "max              0.0  \n",
      "\n",
      "\n",
      "=== Mesure : tour_de_hanches_haut ===\n",
      "       ANSUR II MALE  ANSUR II FEMALE  BDIMS MALE  BDIMS FEMALE  CAESAR MALE  \\\n",
      "count         4082.0           1986.0  247.000000    260.000000       2107.0   \n",
      "mean             0.0              0.0   97.763158     95.652692          0.0   \n",
      "std              0.0              0.0    6.228043      6.940728          0.0   \n",
      "min              0.0              0.0   81.500000     78.800000          0.0   \n",
      "25%              0.0              0.0   93.250000     90.750000          0.0   \n",
      "50%              0.0              0.0   97.400000     94.950000          0.0   \n",
      "75%              0.0              0.0  101.550000     99.500000          0.0   \n",
      "max              0.0              0.0  118.700000    128.300000          0.0   \n",
      "\n",
      "       CAESAR FEMALE  \n",
      "count         2352.0  \n",
      "mean             0.0  \n",
      "std              0.0  \n",
      "min              0.0  \n",
      "25%              0.0  \n",
      "50%              0.0  \n",
      "75%              0.0  \n",
      "max              0.0  \n",
      "\n",
      "\n",
      "=== Mesure : tour_de_mollet ===\n",
      "       ANSUR II MALE  ANSUR II FEMALE  BDIMS MALE  BDIMS FEMALE  CAESAR MALE  \\\n",
      "count    4082.000000      1986.000000  247.000000    260.000000       2107.0   \n",
      "mean       39.226066        37.325780   37.206883     35.006154          0.0   \n",
      "std         2.970884         2.851518    2.645135      2.613131          0.0   \n",
      "min        26.600000        28.200000   28.900000     28.400000          0.0   \n",
      "25%        37.200000        35.400000   35.500000     33.100000          0.0   \n",
      "50%        39.200000        37.200000   37.300000     34.850000          0.0   \n",
      "75%        41.200000        39.175000   38.950000     36.600000          0.0   \n",
      "max        52.300000        48.200000   47.700000     45.400000          0.0   \n",
      "\n",
      "       CAESAR FEMALE  \n",
      "count         2352.0  \n",
      "mean             0.0  \n",
      "std              0.0  \n",
      "min              0.0  \n",
      "25%              0.0  \n",
      "50%              0.0  \n",
      "75%              0.0  \n",
      "max              0.0  \n",
      "\n",
      "\n",
      "=== Mesure : tour_de_poignet ===\n",
      "       ANSUR II MALE  ANSUR II FEMALE  BDIMS MALE  BDIMS FEMALE  CAESAR MALE  \\\n",
      "count    4082.000000      1986.000000  247.000000    260.000000       2107.0   \n",
      "mean       17.591671        15.479255   11.246154      9.874231          0.0   \n",
      "std         0.895506         0.782770    0.635897      0.661627          0.0   \n",
      "min        14.100000        12.400000    9.800000      8.100000          0.0   \n",
      "25%        17.000000        15.000000   10.800000      9.400000          0.0   \n",
      "50%        17.600000        15.400000   11.200000      9.800000          0.0   \n",
      "75%        18.200000        16.000000   11.650000     10.400000          0.0   \n",
      "max        21.600000        18.300000   13.300000     12.200000          0.0   \n",
      "\n",
      "       CAESAR FEMALE  \n",
      "count         2352.0  \n",
      "mean             0.0  \n",
      "std              0.0  \n",
      "min              0.0  \n",
      "25%              0.0  \n",
      "50%              0.0  \n",
      "75%              0.0  \n",
      "max              0.0  \n",
      "\n",
      "\n",
      "=== Mesure : tour_de_poitrine ===\n",
      "       ANSUR II MALE  ANSUR II FEMALE  BDIMS MALE  BDIMS FEMALE  CAESAR MALE  \\\n",
      "count    4082.000000      1986.000000  247.000000    260.000000  2106.000000   \n",
      "mean      105.870554        94.685801  100.989879     86.060000   101.697680   \n",
      "std         8.743527         8.269911    7.209018      6.170406    10.616289   \n",
      "min        77.400000        69.500000   79.300000     72.600000    75.793600   \n",
      "25%        99.600000        88.900000   95.950000     81.975000    94.411800   \n",
      "50%       105.600000        94.000000  101.000000     85.500000   100.406200   \n",
      "75%       111.700000        99.900000  106.050000     89.500000   107.670600   \n",
      "max       146.900000       126.600000  118.700000    109.000000   157.403800   \n",
      "\n",
      "       CAESAR FEMALE  \n",
      "count    2351.000000  \n",
      "mean       95.892714  \n",
      "std        12.164740  \n",
      "min        73.304400  \n",
      "25%        87.299800  \n",
      "50%        92.989400  \n",
      "75%       101.549200  \n",
      "max       155.498800  \n",
      "\n",
      "\n",
      "=== Mesure : tour_de_poitrine_mesure_a_la_main ===\n",
      "       ANSUR II MALE  ANSUR II FEMALE  BDIMS MALE  BDIMS FEMALE  CAESAR MALE  \\\n",
      "count         4082.0           1986.0       247.0         260.0          0.0   \n",
      "mean             0.0              0.0         0.0           0.0          NaN   \n",
      "std              0.0              0.0         0.0           0.0          NaN   \n",
      "min              0.0              0.0         0.0           0.0          NaN   \n",
      "25%              0.0              0.0         0.0           0.0          NaN   \n",
      "50%              0.0              0.0         0.0           0.0          NaN   \n",
      "75%              0.0              0.0         0.0           0.0          NaN   \n",
      "max              0.0              0.0         0.0           0.0          NaN   \n",
      "\n",
      "       CAESAR FEMALE  \n",
      "count    2139.000000  \n",
      "mean       91.024385  \n",
      "std         6.902016  \n",
      "min        81.280000  \n",
      "25%        86.360000  \n",
      "50%        91.440000  \n",
      "75%        96.520000  \n",
      "max       116.840000  \n",
      "\n",
      "\n",
      "=== Mesure : tour_de_taille ===\n",
      "       ANSUR II MALE  ANSUR II FEMALE  BDIMS MALE  BDIMS FEMALE  CAESAR MALE  \\\n",
      "count    4082.000000      1986.000000  247.000000    260.000000  2103.000000   \n",
      "mean       94.057741        86.090534   84.533198     69.803462    90.094742   \n",
      "std        11.170587         9.993177    8.782241      7.587748    11.694893   \n",
      "min        64.800000        61.100000   67.100000     57.900000    61.899800   \n",
      "25%        85.700000        79.000000   77.900000     64.750000    82.194400   \n",
      "50%        93.700000        85.200000   83.400000     68.300000    88.290400   \n",
      "75%       101.600000        92.500000   90.000000     72.750000    95.707200   \n",
      "max       137.900000       133.400000  113.200000    101.500000   170.205400   \n",
      "\n",
      "       CAESAR FEMALE  \n",
      "count    2348.000000  \n",
      "mean       79.947636  \n",
      "std        13.020637  \n",
      "min        55.702200  \n",
      "25%        71.196200  \n",
      "50%        76.809600  \n",
      "75%        85.902800  \n",
      "max       149.809200  \n",
      "\n",
      "\n",
      "=== Mesure : tour_de_tête ===\n",
      "       ANSUR II MALE  ANSUR II FEMALE  BDIMS MALE  BDIMS FEMALE  CAESAR MALE  \\\n",
      "count    4082.000000      1986.000000       247.0         260.0       2107.0   \n",
      "mean       57.437286        56.111984         0.0           0.0          0.0   \n",
      "std         1.604852         1.936094         0.0           0.0          0.0   \n",
      "min        51.600000        50.000000         0.0           0.0          0.0   \n",
      "25%        56.300000        54.800000         0.0           0.0          0.0   \n",
      "50%        57.400000        56.000000         0.0           0.0          0.0   \n",
      "75%        58.500000        57.300000         0.0           0.0          0.0   \n",
      "max        63.300000        63.500000         0.0           0.0          0.0   \n",
      "\n",
      "       CAESAR FEMALE  \n",
      "count         2352.0  \n",
      "mean             0.0  \n",
      "std              0.0  \n",
      "min              0.0  \n",
      "25%              0.0  \n",
      "50%              0.0  \n",
      "75%              0.0  \n",
      "max              0.0  \n",
      "\n",
      "\n",
      "=== Mesure : tour_de_ventre_maximal ===\n",
      "       ANSUR II MALE  ANSUR II FEMALE  BDIMS MALE  BDIMS FEMALE  CAESAR MALE  \\\n",
      "count    4082.000000      1986.000000       247.0         260.0  2103.000000   \n",
      "mean       94.057741        86.090534         0.0           0.0    90.094742   \n",
      "std        11.170587         9.993177         0.0           0.0    11.694893   \n",
      "min        64.800000        61.100000         0.0           0.0    61.899800   \n",
      "25%        85.700000        79.000000         0.0           0.0    82.194400   \n",
      "50%        93.700000        85.200000         0.0           0.0    88.290400   \n",
      "75%       101.600000        92.500000         0.0           0.0    95.707200   \n",
      "max       137.900000       133.400000         0.0           0.0   170.205400   \n",
      "\n",
      "       CAESAR FEMALE  \n",
      "count    2348.000000  \n",
      "mean       79.947636  \n",
      "std        13.020637  \n",
      "min        55.702200  \n",
      "25%        71.196200  \n",
      "50%        76.809600  \n",
      "75%        85.902800  \n",
      "max       149.809200  \n",
      "\n",
      "\n",
      "=== Mesure : tour_du_cou ===\n",
      "       ANSUR II MALE  ANSUR II FEMALE  BDIMS MALE  BDIMS FEMALE  CAESAR MALE  \\\n",
      "count    4082.000000      1986.000000       247.0         260.0  2104.000000   \n",
      "mean       39.764895        32.979557         0.0           0.0    47.477682   \n",
      "std         2.577676         1.922114         0.0           0.0     3.143302   \n",
      "min        31.100000        27.500000         0.0           0.0    38.709600   \n",
      "25%        37.925000        31.600000         0.0           0.0    45.288200   \n",
      "50%        39.500000        32.800000         0.0           0.0    47.193200   \n",
      "75%        41.375000        34.200000         0.0           0.0    49.098200   \n",
      "max        51.400000        42.400000         0.0           0.0    62.204600   \n",
      "\n",
      "       CAESAR FEMALE  \n",
      "count    2346.000000  \n",
      "mean       42.207124  \n",
      "std         3.152315  \n",
      "min        34.391600  \n",
      "25%        40.005000  \n",
      "50%        41.808400  \n",
      "75%        43.992800  \n",
      "max        58.699400  \n",
      "\n",
      "\n",
      "=== Mesure : weight ===\n",
      "       ANSUR II MALE  ANSUR II FEMALE  BDIMS MALE  BDIMS FEMALE  CAESAR MALE  \\\n",
      "count    4082.000000      1986.000000  247.000000    260.000000  2106.000000   \n",
      "mean       85.277518        66.907104   78.144534     60.600385    82.985266   \n",
      "std        13.581392        10.367013   10.512890      9.615699    17.167743   \n",
      "min         0.000000        39.008912   53.900000     42.000000    45.812792   \n",
      "25%        76.203456        58.966960   70.950000     54.500000    70.801175   \n",
      "50%        83.914520        65.770840   77.300000     59.000000    80.058988   \n",
      "75%        93.893544        73.028312   85.500000     65.600000    91.398788   \n",
      "max       145.603032       122.469840  116.400000    105.200000   181.436800   \n",
      "\n",
      "       CAESAR FEMALE  \n",
      "count    2352.000000  \n",
      "mean       68.191255  \n",
      "std        16.651740  \n",
      "min        37.298870  \n",
      "25%        56.773843  \n",
      "50%        64.618716  \n",
      "75%        75.325755  \n",
      "max       156.489240  \n"
     ]
    }
   ],
   "source": [
    "# Séparer BDIMS en hommes (1) et femmes (0)\n",
    "df_bdims_male = cleaned_bdims[cleaned_bdims['sex'] == 1]\n",
    "df_bdims_female =cleaned_bdims[cleaned_bdims['sex'] == 0]\n",
    "\n",
    "# Séparer CAESAR en hommes (1) et femmes (0) (supposant que la colonne s'appelle aussi 'sex')\n",
    "df_caesar_male = cleaned_caesar[cleaned_caesar['sex'] == 1]\n",
    "df_caesar_female = cleaned_caesar[cleaned_caesar['sex'] == 0]\n",
    "\n",
    "# Séparer ANSUR en hommes (1) et femmes (0)\n",
    "df_ansur_male = cleaned_ansur[cleaned_ansur['sex'] == 1]\n",
    "df_ansur_female = cleaned_ansur[cleaned_ansur['sex'] == 0]\n",
    "\n",
    "# Trouver les colonnes communes (en incluant les nouvelles séparations)\n",
    "colonnes_communes = list(\n",
    "    set(df_ansur_male.columns) & \n",
    "    set(df_ansur_female.columns) & \n",
    "    set(df_bdims_male.columns) & \n",
    "    set(df_bdims_female.columns) & \n",
    "    set(df_caesar_male.columns) & \n",
    "    set(df_caesar_female.columns)\n",
    ")\n",
    "\n",
    "colonnes_communes.sort()  # Pour lisibilité\n",
    "print(f\"Nombre de colonnes en commun : {len(colonnes_communes)}\")\n",
    "\n",
    "# Pour chaque mesure, créer un tableau comparatif\n",
    "for col in colonnes_communes:\n",
    "    desc_ansur_male = df_ansur_male[col].describe()\n",
    "    desc_ansur_female = df_ansur_female[col].describe()\n",
    "    desc_bdims_male = df_bdims_male[col].describe()\n",
    "    desc_bdims_female = df_bdims_female[col].describe()\n",
    "    desc_caesar_male = df_caesar_male[col].describe()\n",
    "    desc_caesar_female = df_caesar_female[col].describe()\n",
    "    \n",
    "    # Créer un DataFrame avec les statistiques comme lignes\n",
    "    comparaison = pd.DataFrame({\n",
    "        'ANSUR II MALE': desc_ansur_male,\n",
    "        'ANSUR II FEMALE': desc_ansur_female,\n",
    "        'BDIMS MALE': desc_bdims_male,\n",
    "        'BDIMS FEMALE': desc_bdims_female,\n",
    "        'CAESAR MALE': desc_caesar_male,\n",
    "        'CAESAR FEMALE': desc_caesar_female\n",
    "    })\n",
    "\n",
    "    print(f\"\\n\\n=== Mesure : {col} ===\")\n",
    "    print(comparaison)    "
   ]
  }
 ],
 "metadata": {
  "kernelspec": {
   "display_name": "Python 3 (ipykernel)",
   "language": "python",
   "name": "python3"
  },
  "language_info": {
   "codemirror_mode": {
    "name": "ipython",
    "version": 3
   },
   "file_extension": ".py",
   "mimetype": "text/x-python",
   "name": "python",
   "nbconvert_exporter": "python",
   "pygments_lexer": "ipython3",
   "version": "3.10.10"
  }
 },
 "nbformat": 4,
 "nbformat_minor": 5
}

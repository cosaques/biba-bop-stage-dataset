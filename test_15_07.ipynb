{
 "cells": [
  {
   "cell_type": "code",
   "execution_count": 150,
   "id": "b64d16b5-3283-449f-9f77-57cf85f9e59c",
   "metadata": {
    "execution": {
     "iopub.execute_input": "2025-07-30T13:31:37.242666Z",
     "iopub.status.busy": "2025-07-30T13:31:37.241671Z",
     "iopub.status.idle": "2025-07-30T13:31:37.251203Z",
     "shell.execute_reply": "2025-07-30T13:31:37.249202Z",
     "shell.execute_reply.started": "2025-07-30T13:31:37.242666Z"
    }
   },
   "outputs": [],
   "source": [
    " import pandas as pd"
   ]
  },
  {
   "cell_type": "code",
   "execution_count": 151,
   "id": "5558abb5-7636-4f8a-9625-169ec9a620a7",
   "metadata": {
    "execution": {
     "iopub.execute_input": "2025-07-30T13:31:37.254716Z",
     "iopub.status.busy": "2025-07-30T13:31:37.253716Z",
     "iopub.status.idle": "2025-07-30T13:31:37.343835Z",
     "shell.execute_reply": "2025-07-30T13:31:37.342359Z",
     "shell.execute_reply.started": "2025-07-30T13:31:37.254716Z"
    }
   },
   "outputs": [],
   "source": [
    "man_df = pd.read_csv('data/ANSUR_II_MALE.csv', encoding='cp1252', sep=';')\n",
    "man_df[\"sex\"] = 1"
   ]
  },
  {
   "cell_type": "code",
   "execution_count": 152,
   "id": "bd8520bb-bcfc-4cdf-a548-0610227fbd25",
   "metadata": {
    "execution": {
     "iopub.execute_input": "2025-07-30T13:31:37.345833Z",
     "iopub.status.busy": "2025-07-30T13:31:37.345833Z",
     "iopub.status.idle": "2025-07-30T13:31:37.422406Z",
     "shell.execute_reply": "2025-07-30T13:31:37.420508Z",
     "shell.execute_reply.started": "2025-07-30T13:31:37.345833Z"
    }
   },
   "outputs": [],
   "source": [
    "woman_df = pd.read_csv('data/ANSUR_II_FEMALE.csv', encoding='cp1252', sep=';')\n",
    "woman_df[\"sex\"] = 0"
   ]
  },
  {
   "cell_type": "code",
   "execution_count": 153,
   "id": "aa0f5edc-b02d-43ea-ad84-b4dbe52cabfd",
   "metadata": {
    "execution": {
     "iopub.execute_input": "2025-07-30T13:31:37.424941Z",
     "iopub.status.busy": "2025-07-30T13:31:37.424941Z",
     "iopub.status.idle": "2025-07-30T13:31:37.437459Z",
     "shell.execute_reply": "2025-07-30T13:31:37.436478Z",
     "shell.execute_reply.started": "2025-07-30T13:31:37.424941Z"
    }
   },
   "outputs": [
    {
     "name": "stdout",
     "output_type": "stream",
     "text": [
      "(4082, 109)\n",
      "(1986, 109)\n"
     ]
    }
   ],
   "source": [
    "print(man_df.shape)\n",
    "print(woman_df.shape)"
   ]
  },
  {
   "cell_type": "code",
   "execution_count": 154,
   "id": "0e4b796c-0916-4276-b4be-659938aec946",
   "metadata": {
    "execution": {
     "iopub.execute_input": "2025-07-30T13:31:37.442969Z",
     "iopub.status.busy": "2025-07-30T13:31:37.442458Z",
     "iopub.status.idle": "2025-07-30T13:31:37.470836Z",
     "shell.execute_reply": "2025-07-30T13:31:37.467834Z",
     "shell.execute_reply.started": "2025-07-30T13:31:37.442969Z"
    }
   },
   "outputs": [],
   "source": [
    "ansur_df = pd.concat([man_df, woman_df], ignore_index=True)"
   ]
  },
  {
   "cell_type": "markdown",
   "id": "7661aa1f-210c-4937-9227-b39c027825b3",
   "metadata": {},
   "source": [
    "## Cleaned data"
   ]
  },
  {
   "cell_type": "code",
   "execution_count": 155,
   "id": "dd07e52f-13df-4810-910f-760a8fae75ee",
   "metadata": {
    "execution": {
     "iopub.execute_input": "2025-07-30T13:31:37.475379Z",
     "iopub.status.busy": "2025-07-30T13:31:37.474478Z",
     "iopub.status.idle": "2025-07-30T13:31:37.485766Z",
     "shell.execute_reply": "2025-07-30T13:31:37.483758Z",
     "shell.execute_reply.started": "2025-07-30T13:31:37.475379Z"
    }
   },
   "outputs": [],
   "source": [
    "cleaned_ansur = pd.DataFrame()\n",
    "cleaned_ansur[\"taille\"] = ansur_df[\"stature\"]/10"
   ]
  },
  {
   "cell_type": "code",
   "execution_count": 156,
   "id": "fadcd04d-c85e-47db-97fb-c4eb701c59e2",
   "metadata": {
    "execution": {
     "iopub.execute_input": "2025-07-30T13:31:37.488769Z",
     "iopub.status.busy": "2025-07-30T13:31:37.487765Z",
     "iopub.status.idle": "2025-07-30T13:31:37.515343Z",
     "shell.execute_reply": "2025-07-30T13:31:37.514372Z",
     "shell.execute_reply.started": "2025-07-30T13:31:37.488769Z"
    }
   },
   "outputs": [],
   "source": [
    "cleaned_ansur[\"age\"] = ansur_df[\"Age\"]"
   ]
  },
  {
   "cell_type": "code",
   "execution_count": 157,
   "id": "6f097c15-7db9-448f-8891-e2fc6d23f21f",
   "metadata": {
    "execution": {
     "iopub.execute_input": "2025-07-30T13:31:37.517358Z",
     "iopub.status.busy": "2025-07-30T13:31:37.517358Z",
     "iopub.status.idle": "2025-07-30T13:31:37.530675Z",
     "shell.execute_reply": "2025-07-30T13:31:37.529674Z",
     "shell.execute_reply.started": "2025-07-30T13:31:37.517358Z"
    }
   },
   "outputs": [],
   "source": [
    "cleaned_ansur[\"weight\"] = ansur_df[\"Weightlbs\"]*0.453592"
   ]
  },
  {
   "cell_type": "code",
   "execution_count": 158,
   "id": "7a796de1-3e6e-416b-b78a-a3b13fad1140",
   "metadata": {
    "execution": {
     "iopub.execute_input": "2025-07-30T13:31:37.534090Z",
     "iopub.status.busy": "2025-07-30T13:31:37.532674Z",
     "iopub.status.idle": "2025-07-30T13:31:37.549438Z",
     "shell.execute_reply": "2025-07-30T13:31:37.545620Z",
     "shell.execute_reply.started": "2025-07-30T13:31:37.534090Z"
    }
   },
   "outputs": [],
   "source": [
    "cleaned_ansur[\"sex\"] = ansur_df[\"sex\"]"
   ]
  },
  {
   "cell_type": "code",
   "execution_count": 159,
   "id": "e85600d9-d60a-4799-b751-1a3677f638d6",
   "metadata": {
    "execution": {
     "iopub.execute_input": "2025-07-30T13:31:37.552968Z",
     "iopub.status.busy": "2025-07-30T13:31:37.551447Z",
     "iopub.status.idle": "2025-07-30T13:31:37.578703Z",
     "shell.execute_reply": "2025-07-30T13:31:37.576701Z",
     "shell.execute_reply.started": "2025-07-30T13:31:37.552968Z"
    }
   },
   "outputs": [],
   "source": [
    "cleaned_ansur[\"tour_de_cheville\"]=ansur_df[\"anklecircumference\"]/10"
   ]
  },
  {
   "cell_type": "code",
   "execution_count": 160,
   "id": "5199e059-885d-4f35-8ce5-a92c2aefbac2",
   "metadata": {
    "execution": {
     "iopub.execute_input": "2025-07-30T13:31:37.580716Z",
     "iopub.status.busy": "2025-07-30T13:31:37.580716Z",
     "iopub.status.idle": "2025-07-30T13:31:37.595352Z",
     "shell.execute_reply": "2025-07-30T13:31:37.592340Z",
     "shell.execute_reply.started": "2025-07-30T13:31:37.580716Z"
    }
   },
   "outputs": [],
   "source": [
    "cleaned_ansur[\"longueur_du_bras\"]=0"
   ]
  },
  {
   "cell_type": "code",
   "execution_count": 161,
   "id": "564a712d-7d7f-40d6-b4f3-7b27f294c64b",
   "metadata": {
    "execution": {
     "iopub.execute_input": "2025-07-30T13:31:37.599350Z",
     "iopub.status.busy": "2025-07-30T13:31:37.599350Z",
     "iopub.status.idle": "2025-07-30T13:31:37.625944Z",
     "shell.execute_reply": "2025-07-30T13:31:37.623946Z",
     "shell.execute_reply.started": "2025-07-30T13:31:37.599350Z"
    }
   },
   "outputs": [],
   "source": [
    "cleaned_ansur[\"longueur_du_dos\"]=ansur_df[\"waistbacklength\"]/10"
   ]
  },
  {
   "cell_type": "code",
   "execution_count": 162,
   "id": "262ee7af-dda8-49dd-836d-5e6f62dc47d6",
   "metadata": {
    "execution": {
     "iopub.execute_input": "2025-07-30T13:31:37.627945Z",
     "iopub.status.busy": "2025-07-30T13:31:37.627945Z",
     "iopub.status.idle": "2025-07-30T13:31:37.641511Z",
     "shell.execute_reply": "2025-07-30T13:31:37.639502Z",
     "shell.execute_reply.started": "2025-07-30T13:31:37.627945Z"
    }
   },
   "outputs": [],
   "source": [
    "cleaned_ansur[\"largeur_du_dos\"]=ansur_df[\"biacromialbreadth\"]/10"
   ]
  },
  {
   "cell_type": "code",
   "execution_count": 163,
   "id": "9d43faa9-8272-4449-82db-bc0b2b04055a",
   "metadata": {
    "execution": {
     "iopub.execute_input": "2025-07-30T13:31:37.654197Z",
     "iopub.status.busy": "2025-07-30T13:31:37.652639Z",
     "iopub.status.idle": "2025-07-30T13:31:37.672704Z",
     "shell.execute_reply": "2025-07-30T13:31:37.670704Z",
     "shell.execute_reply.started": "2025-07-30T13:31:37.654197Z"
    }
   },
   "outputs": [],
   "source": [
    "cleaned_ansur[\"tour_de_ventre_maximal\"]=ansur_df[\"waistcircumference\"]/10"
   ]
  },
  {
   "cell_type": "code",
   "execution_count": 164,
   "id": "602c2aa2-6d02-41e5-86ba-90de2470568d",
   "metadata": {
    "execution": {
     "iopub.execute_input": "2025-07-30T13:31:37.676142Z",
     "iopub.status.busy": "2025-07-30T13:31:37.675168Z",
     "iopub.status.idle": "2025-07-30T13:31:37.687697Z",
     "shell.execute_reply": "2025-07-30T13:31:37.686693Z",
     "shell.execute_reply.started": "2025-07-30T13:31:37.676142Z"
    }
   },
   "outputs": [],
   "source": [
    "cleaned_ansur[\"tour_de_biceps\"]=ansur_df[\"bicepscircumferenceflexed\"]/10"
   ]
  },
  {
   "cell_type": "code",
   "execution_count": 165,
   "id": "60c9be34-3717-414a-a345-074389d2208a",
   "metadata": {
    "execution": {
     "iopub.execute_input": "2025-07-30T13:31:37.692685Z",
     "iopub.status.busy": "2025-07-30T13:31:37.690689Z",
     "iopub.status.idle": "2025-07-30T13:31:37.719653Z",
     "shell.execute_reply": "2025-07-30T13:31:37.717653Z",
     "shell.execute_reply.started": "2025-07-30T13:31:37.692685Z"
    }
   },
   "outputs": [],
   "source": [
    "cleaned_ansur[\"tour_de_poitrine\"]=ansur_df[\"chestcircumference\"]/10"
   ]
  },
  {
   "cell_type": "code",
   "execution_count": 166,
   "id": "adc302a0-5494-42d4-be6c-4cab376b3371",
   "metadata": {
    "execution": {
     "iopub.execute_input": "2025-07-30T13:31:37.722639Z",
     "iopub.status.busy": "2025-07-30T13:31:37.721653Z",
     "iopub.status.idle": "2025-07-30T13:31:37.737138Z",
     "shell.execute_reply": "2025-07-30T13:31:37.734135Z",
     "shell.execute_reply.started": "2025-07-30T13:31:37.722639Z"
    }
   },
   "outputs": [],
   "source": [
    "cleaned_ansur[\"hauteur_de_poitrine\"]=ansur_df[\"chestheight\"]/10"
   ]
  },
  {
   "cell_type": "code",
   "execution_count": 167,
   "id": "45fc5877-cad6-41bd-b766-8f5d16603d7d",
   "metadata": {
    "execution": {
     "iopub.execute_input": "2025-07-30T13:31:37.741143Z",
     "iopub.status.busy": "2025-07-30T13:31:37.740141Z",
     "iopub.status.idle": "2025-07-30T13:31:37.768726Z",
     "shell.execute_reply": "2025-07-30T13:31:37.765722Z",
     "shell.execute_reply.started": "2025-07-30T13:31:37.741143Z"
    }
   },
   "outputs": [],
   "source": [
    "cleaned_ansur[\"tour_de_mollet\"]=ansur_df[\"calfcircumference\"]/10"
   ]
  },
  {
   "cell_type": "code",
   "execution_count": 168,
   "id": "15b5f14b-1cb5-4620-917a-5de69b279a70",
   "metadata": {
    "execution": {
     "iopub.execute_input": "2025-07-30T13:31:37.770737Z",
     "iopub.status.busy": "2025-07-30T13:31:37.770737Z",
     "iopub.status.idle": "2025-07-30T13:31:37.783350Z",
     "shell.execute_reply": "2025-07-30T13:31:37.781248Z",
     "shell.execute_reply.started": "2025-07-30T13:31:37.770737Z"
    }
   },
   "outputs": [],
   "source": [
    "cleaned_ansur[\"hauteur_d_entrejambe\"]=ansur_df[\"crotchheight\"]/10"
   ]
  },
  {
   "cell_type": "code",
   "execution_count": 169,
   "id": "67fe554e-c92e-4034-b6b9-dfdffd6d31fa",
   "metadata": {
    "execution": {
     "iopub.execute_input": "2025-07-30T13:31:37.788353Z",
     "iopub.status.busy": "2025-07-30T13:31:37.786356Z",
     "iopub.status.idle": "2025-07-30T13:31:37.815048Z",
     "shell.execute_reply": "2025-07-30T13:31:37.812511Z",
     "shell.execute_reply.started": "2025-07-30T13:31:37.788353Z"
    }
   },
   "outputs": [],
   "source": [
    "cleaned_ansur[\"tour_d_avant_bras\"]=ansur_df[\"forearmcircumferenceflexed\"]/10"
   ]
  },
  {
   "cell_type": "code",
   "execution_count": 170,
   "id": "67fdff74-ebf0-4793-b67f-99e5e9d2433e",
   "metadata": {
    "execution": {
     "iopub.execute_input": "2025-07-30T13:31:37.818065Z",
     "iopub.status.busy": "2025-07-30T13:31:37.817043Z",
     "iopub.status.idle": "2025-07-30T13:31:37.831588Z",
     "shell.execute_reply": "2025-07-30T13:31:37.828589Z",
     "shell.execute_reply.started": "2025-07-30T13:31:37.818065Z"
    }
   },
   "outputs": [],
   "source": [
    "cleaned_ansur[\"longueur_avant\"]=ansur_df[\"forearmcenterofgriplength\"]/10"
   ]
  },
  {
   "cell_type": "code",
   "execution_count": 171,
   "id": "963431aa-aa78-4765-9d32-0312fd8e7d01",
   "metadata": {
    "execution": {
     "iopub.execute_input": "2025-07-30T13:31:37.834755Z",
     "iopub.status.busy": "2025-07-30T13:31:37.833734Z",
     "iopub.status.idle": "2025-07-30T13:31:37.847284Z",
     "shell.execute_reply": "2025-07-30T13:31:37.844271Z",
     "shell.execute_reply.started": "2025-07-30T13:31:37.834755Z"
    }
   },
   "outputs": [],
   "source": [
    "cleaned_ansur[\"tour_de_tête\"]=ansur_df[\"headcircumference\"]/10"
   ]
  },
  {
   "cell_type": "code",
   "execution_count": 172,
   "id": "5da0b76b-c7cd-40ba-a4d9-5236264e37a5",
   "metadata": {
    "execution": {
     "iopub.execute_input": "2025-07-30T13:31:37.850276Z",
     "iopub.status.busy": "2025-07-30T13:31:37.849322Z",
     "iopub.status.idle": "2025-07-30T13:31:37.877002Z",
     "shell.execute_reply": "2025-07-30T13:31:37.875018Z",
     "shell.execute_reply.started": "2025-07-30T13:31:37.850276Z"
    }
   },
   "outputs": [],
   "source": [
    "cleaned_ansur[\"largeur_des_hanches\"]=ansur_df[\"hipbreadth\"]/10"
   ]
  },
  {
   "cell_type": "code",
   "execution_count": 173,
   "id": "4da566e8-a2e2-4054-ab51-6c0cc441557d",
   "metadata": {
    "execution": {
     "iopub.execute_input": "2025-07-30T13:31:37.880002Z",
     "iopub.status.busy": "2025-07-30T13:31:37.879002Z",
     "iopub.status.idle": "2025-07-30T13:31:37.894057Z",
     "shell.execute_reply": "2025-07-30T13:31:37.890534Z",
     "shell.execute_reply.started": "2025-07-30T13:31:37.880002Z"
    }
   },
   "outputs": [],
   "source": [
    "cleaned_ansur[\"hauteur_des_hanches\"]=ansur_df[\"iliocristaleheight\"]/10"
   ]
  },
  {
   "cell_type": "code",
   "execution_count": 174,
   "id": "b95dc2b6-3ce8-4fb9-83ab-152fac34333d",
   "metadata": {
    "execution": {
     "iopub.execute_input": "2025-07-30T13:31:37.897078Z",
     "iopub.status.busy": "2025-07-30T13:31:37.896072Z",
     "iopub.status.idle": "2025-07-30T13:31:37.925784Z",
     "shell.execute_reply": "2025-07-30T13:31:37.922768Z",
     "shell.execute_reply.started": "2025-07-30T13:31:37.897078Z"
    }
   },
   "outputs": [],
   "source": [
    "cleaned_ansur[\"hauteur_des_genoux\"]=ansur_df[\"kneeheightmidpatella\"]/10"
   ]
  },
  {
   "cell_type": "code",
   "execution_count": 175,
   "id": "feae0e6f-7e13-40ce-8b13-4b1b3d3b8a00",
   "metadata": {
    "execution": {
     "iopub.execute_input": "2025-07-30T13:31:37.929801Z",
     "iopub.status.busy": "2025-07-30T13:31:37.927792Z",
     "iopub.status.idle": "2025-07-30T13:31:37.955580Z",
     "shell.execute_reply": "2025-07-30T13:31:37.953564Z",
     "shell.execute_reply.started": "2025-07-30T13:31:37.929801Z"
    }
   },
   "outputs": [],
   "source": [
    "cleaned_ansur[\"tour_du_cou\"]=ansur_df[\"neckcircumference\"]/10"
   ]
  },
  {
   "cell_type": "code",
   "execution_count": 176,
   "id": "3dada48c-beb0-4c97-90ee-5e281181e3c1",
   "metadata": {
    "execution": {
     "iopub.execute_input": "2025-07-30T13:31:37.958581Z",
     "iopub.status.busy": "2025-07-30T13:31:37.957565Z",
     "iopub.status.idle": "2025-07-30T13:31:37.971092Z",
     "shell.execute_reply": "2025-07-30T13:31:37.969098Z",
     "shell.execute_reply.started": "2025-07-30T13:31:37.958581Z"
    }
   },
   "outputs": [],
   "source": [
    "cleaned_ansur[\"longueur_du_cou_au_genou\"]=ansur_df[\"buttockkneelength\"]/10"
   ]
  },
  {
   "cell_type": "code",
   "execution_count": 177,
   "id": "899c9bfb-d495-468a-b7af-f9720a0f820e",
   "metadata": {
    "execution": {
     "iopub.execute_input": "2025-07-30T13:31:37.973611Z",
     "iopub.status.busy": "2025-07-30T13:31:37.973611Z",
     "iopub.status.idle": "2025-07-30T13:31:37.985679Z",
     "shell.execute_reply": "2025-07-30T13:31:37.984663Z",
     "shell.execute_reply.started": "2025-07-30T13:31:37.973611Z"
    }
   },
   "outputs": [],
   "source": [
    "cleaned_ansur[\"largeur_d_epaule\"]=ansur_df[\"biacromialbreadth\"]/10"
   ]
  },
  {
   "cell_type": "code",
   "execution_count": 178,
   "id": "61e84b88-4bcf-49df-82cb-eac845d1412d",
   "metadata": {
    "execution": {
     "iopub.execute_input": "2025-07-30T13:31:37.987660Z",
     "iopub.status.busy": "2025-07-30T13:31:37.986658Z",
     "iopub.status.idle": "2025-07-30T13:31:38.002182Z",
     "shell.execute_reply": "2025-07-30T13:31:38.000187Z",
     "shell.execute_reply.started": "2025-07-30T13:31:37.987660Z"
    }
   },
   "outputs": [],
   "source": [
    "cleaned_ansur[\"largeur_des_epaules_a_l_horizontales\"]=ansur_df[\"bideltoidbreadth\"]/10"
   ]
  },
  {
   "cell_type": "code",
   "execution_count": 179,
   "id": "80cf9288-22ad-4d34-a8c2-c32a0c65943a",
   "metadata": {
    "execution": {
     "iopub.execute_input": "2025-07-30T13:31:38.006727Z",
     "iopub.status.busy": "2025-07-30T13:31:38.004713Z",
     "iopub.status.idle": "2025-07-30T13:31:38.032946Z",
     "shell.execute_reply": "2025-07-30T13:31:38.031426Z",
     "shell.execute_reply.started": "2025-07-30T13:31:38.006727Z"
    }
   },
   "outputs": [],
   "source": [
    "cleaned_ansur[\"longueur_de_la_colonne_vertebrale_jusqu_au_poignet\"]=ansur_df[\"sleevelengthspinewrist\"]/10"
   ]
  },
  {
   "cell_type": "code",
   "execution_count": 180,
   "id": "ef0429f3-4d82-4377-b9f1-687af9f6c10d",
   "metadata": {
    "execution": {
     "iopub.execute_input": "2025-07-30T13:31:38.038977Z",
     "iopub.status.busy": "2025-07-30T13:31:38.036977Z",
     "iopub.status.idle": "2025-07-30T13:31:38.063731Z",
     "shell.execute_reply": "2025-07-30T13:31:38.062583Z",
     "shell.execute_reply.started": "2025-07-30T13:31:38.037978Z"
    }
   },
   "outputs": [],
   "source": [
    "cleaned_ansur[\"tour_de_cuisse\"]=ansur_df[\"thighcircumference\"]/10"
   ]
  },
  {
   "cell_type": "code",
   "execution_count": 181,
   "id": "830f869e-2e85-4e92-b305-3ab2145c3287",
   "metadata": {
    "execution": {
     "iopub.execute_input": "2025-07-30T13:31:38.067728Z",
     "iopub.status.busy": "2025-07-30T13:31:38.066752Z",
     "iopub.status.idle": "2025-07-30T13:31:38.081283Z",
     "shell.execute_reply": "2025-07-30T13:31:38.078283Z",
     "shell.execute_reply.started": "2025-07-30T13:31:38.067728Z"
    }
   },
   "outputs": [],
   "source": [
    "cleaned_ansur[\"longueur_du_tronc\"]=ansur_df[\"sittingheight\"]/10"
   ]
  },
  {
   "cell_type": "code",
   "execution_count": 182,
   "id": "ae99a927-9efd-43be-aaa8-2afd24d0491e",
   "metadata": {
    "execution": {
     "iopub.execute_input": "2025-07-30T13:31:38.083385Z",
     "iopub.status.busy": "2025-07-30T13:31:38.082286Z",
     "iopub.status.idle": "2025-07-30T13:31:38.096924Z",
     "shell.execute_reply": "2025-07-30T13:31:38.093914Z",
     "shell.execute_reply.started": "2025-07-30T13:31:38.083385Z"
    }
   },
   "outputs": [],
   "source": [
    "cleaned_ansur[\"longueur_d_avant_bras\"]=ansur_df[\"shoulderelbowlength\"]/10"
   ]
  },
  {
   "cell_type": "code",
   "execution_count": 183,
   "id": "981097f5-cfa3-48e4-8257-0168f4779b1f",
   "metadata": {
    "execution": {
     "iopub.execute_input": "2025-07-30T13:31:38.099919Z",
     "iopub.status.busy": "2025-07-30T13:31:38.098952Z",
     "iopub.status.idle": "2025-07-30T13:31:38.111450Z",
     "shell.execute_reply": "2025-07-30T13:31:38.109451Z",
     "shell.execute_reply.started": "2025-07-30T13:31:38.098952Z"
    }
   },
   "outputs": [],
   "source": [
    "cleaned_ansur[\"largeur_de_la_taille\"]=ansur_df[\"waistbreadth\"]/10"
   ]
  },
  {
   "cell_type": "code",
   "execution_count": 184,
   "id": "60a15841-5070-417a-a88d-637e2b5f02c8",
   "metadata": {
    "execution": {
     "iopub.execute_input": "2025-07-30T13:31:38.116986Z",
     "iopub.status.busy": "2025-07-30T13:31:38.114987Z",
     "iopub.status.idle": "2025-07-30T13:31:38.143607Z",
     "shell.execute_reply": "2025-07-30T13:31:38.141087Z",
     "shell.execute_reply.started": "2025-07-30T13:31:38.116986Z"
    }
   },
   "outputs": [],
   "source": [
    "cleaned_ansur[\"tour_de_taille\"]=ansur_df[\"waistcircumference\"]/10"
   ]
  },
  {
   "cell_type": "code",
   "execution_count": 185,
   "id": "ac642dc7-a15c-448f-8b81-d0fa1ae9648e",
   "metadata": {
    "execution": {
     "iopub.execute_input": "2025-07-30T13:31:38.145603Z",
     "iopub.status.busy": "2025-07-30T13:31:38.145603Z",
     "iopub.status.idle": "2025-07-30T13:31:38.158771Z",
     "shell.execute_reply": "2025-07-30T13:31:38.156771Z",
     "shell.execute_reply.started": "2025-07-30T13:31:38.145603Z"
    }
   },
   "outputs": [],
   "source": [
    "cleaned_ansur[\"hauteur_de_la_taille\"]=ansur_df[\"waistheightomphalion\"]/10"
   ]
  },
  {
   "cell_type": "code",
   "execution_count": 186,
   "id": "31006034-d2e3-4b92-9fe7-c729f2a9e898",
   "metadata": {
    "execution": {
     "iopub.execute_input": "2025-07-30T13:31:38.160777Z",
     "iopub.status.busy": "2025-07-30T13:31:38.160777Z",
     "iopub.status.idle": "2025-07-30T13:31:38.174492Z",
     "shell.execute_reply": "2025-07-30T13:31:38.172334Z",
     "shell.execute_reply.started": "2025-07-30T13:31:38.160777Z"
    }
   },
   "outputs": [],
   "source": [
    "cleaned_ansur[\"tour_de_poignet\"]=ansur_df[\"wristcircumference\"]/10"
   ]
  },
  {
   "cell_type": "code",
   "execution_count": 187,
   "id": "812d9c7a-4929-4b9d-93e6-38537c57259d",
   "metadata": {
    "execution": {
     "iopub.execute_input": "2025-07-30T13:31:38.177496Z",
     "iopub.status.busy": "2025-07-30T13:31:38.176499Z",
     "iopub.status.idle": "2025-07-30T13:31:38.189658Z",
     "shell.execute_reply": "2025-07-30T13:31:38.187643Z",
     "shell.execute_reply.started": "2025-07-30T13:31:38.177496Z"
    }
   },
   "outputs": [],
   "source": [
    "cleaned_ansur[\"profondeur_des_aisselles\"]=0"
   ]
  },
  {
   "cell_type": "code",
   "execution_count": 188,
   "id": "ca58c283-6053-466d-bb0d-888f59170acd",
   "metadata": {
    "execution": {
     "iopub.execute_input": "2025-07-30T13:31:38.193164Z",
     "iopub.status.busy": "2025-07-30T13:31:38.191646Z",
     "iopub.status.idle": "2025-07-30T13:31:38.205709Z",
     "shell.execute_reply": "2025-07-30T13:31:38.203702Z",
     "shell.execute_reply.started": "2025-07-30T13:31:38.193164Z"
    }
   },
   "outputs": [],
   "source": [
    "cleaned_ansur[\"tour_de_poitrine_mesure_a_la_main\"]=0"
   ]
  },
  {
   "cell_type": "code",
   "execution_count": 189,
   "id": "4b4c118d-76ba-47ce-ba83-1911fc401b7b",
   "metadata": {
    "execution": {
     "iopub.execute_input": "2025-07-30T13:31:38.207724Z",
     "iopub.status.busy": "2025-07-30T13:31:38.206708Z",
     "iopub.status.idle": "2025-07-30T13:31:38.235124Z",
     "shell.execute_reply": "2025-07-30T13:31:38.234131Z",
     "shell.execute_reply.started": "2025-07-30T13:31:38.207724Z"
    }
   },
   "outputs": [],
   "source": [
    "cleaned_ansur[\"tour_de_coude\"]=0"
   ]
  },
  {
   "cell_type": "code",
   "execution_count": 190,
   "id": "213fdf13-ec94-4e2c-bfd9-c5236ce11edc",
   "metadata": {
    "execution": {
     "iopub.execute_input": "2025-07-30T13:31:38.258895Z",
     "iopub.status.busy": "2025-07-30T13:31:38.257910Z",
     "iopub.status.idle": "2025-07-30T13:31:38.283739Z",
     "shell.execute_reply": "2025-07-30T13:31:38.281191Z",
     "shell.execute_reply.started": "2025-07-30T13:31:38.258895Z"
    }
   },
   "outputs": [],
   "source": [
    "cleaned_ansur[\"tour_de_hanches_haut\"]=0"
   ]
  },
  {
   "cell_type": "code",
   "execution_count": 191,
   "id": "05e916c6-e7f5-4937-ad5c-afeaaba4d737",
   "metadata": {
    "execution": {
     "iopub.execute_input": "2025-07-30T13:31:38.286738Z",
     "iopub.status.busy": "2025-07-30T13:31:38.285753Z",
     "iopub.status.idle": "2025-07-30T13:31:38.299279Z",
     "shell.execute_reply": "2025-07-30T13:31:38.296291Z",
     "shell.execute_reply.started": "2025-07-30T13:31:38.286738Z"
    }
   },
   "outputs": [],
   "source": [
    "cleaned_ansur[\"tour_de_genou\"]=0"
   ]
  },
  {
   "cell_type": "code",
   "execution_count": 192,
   "id": "e3b18e91-9af5-4e2f-b7c7-6ad0ec983a2b",
   "metadata": {
    "execution": {
     "iopub.execute_input": "2025-07-30T13:31:38.336965Z",
     "iopub.status.busy": "2025-07-30T13:31:38.303809Z",
     "iopub.status.idle": "2025-07-30T13:31:38.364591Z",
     "shell.execute_reply": "2025-07-30T13:31:38.360054Z",
     "shell.execute_reply.started": "2025-07-30T13:31:38.336965Z"
    }
   },
   "outputs": [],
   "source": [
    "cleaned_ansur[\"angle_de_l_epaule\"]=0"
   ]
  },
  {
   "cell_type": "code",
   "execution_count": 193,
   "id": "b6dcf3b8-e24f-49a2-a659-2af792d1f831",
   "metadata": {
    "execution": {
     "iopub.execute_input": "2025-07-30T13:31:38.367605Z",
     "iopub.status.busy": "2025-07-30T13:31:38.366605Z",
     "iopub.status.idle": "2025-07-30T13:31:38.392678Z",
     "shell.execute_reply": "2025-07-30T13:31:38.389684Z",
     "shell.execute_reply.started": "2025-07-30T13:31:38.367605Z"
    }
   },
   "outputs": [],
   "source": [
    "cleaned_ansur[\"longueur_du_côte\"]=0"
   ]
  },
  {
   "cell_type": "code",
   "execution_count": 194,
   "id": "4d903432-d26c-4cec-9baf-7c7828c869e8",
   "metadata": {
    "execution": {
     "iopub.execute_input": "2025-07-30T13:31:38.397225Z",
     "iopub.status.busy": "2025-07-30T13:31:38.395225Z",
     "iopub.status.idle": "2025-07-30T13:31:38.427861Z",
     "shell.execute_reply": "2025-07-30T13:31:38.421322Z",
     "shell.execute_reply.started": "2025-07-30T13:31:38.397225Z"
    }
   },
   "outputs": [],
   "source": [
    "cleaned_ansur[\"longueur_de_sous_poitrine\"]=0"
   ]
  },
  {
   "cell_type": "code",
   "execution_count": 195,
   "id": "8b7ff2b9-58a6-457e-995a-26ad01b8ddad",
   "metadata": {
    "execution": {
     "iopub.execute_input": "2025-07-30T13:31:38.433389Z",
     "iopub.status.busy": "2025-07-30T13:31:38.430853Z",
     "iopub.status.idle": "2025-07-30T13:31:38.458322Z",
     "shell.execute_reply": "2025-07-30T13:31:38.452286Z",
     "shell.execute_reply.started": "2025-07-30T13:31:38.433389Z"
    }
   },
   "outputs": [],
   "source": [
    "cleaned_ansur[\"hauteur_des_epaules\"]=0"
   ]
  },
  {
   "cell_type": "code",
   "execution_count": 196,
   "id": "28989d4e-7cea-4c59-85a1-acc5cb45ef22",
   "metadata": {
    "execution": {
     "iopub.execute_input": "2025-07-30T13:31:38.464855Z",
     "iopub.status.busy": "2025-07-30T13:31:38.462838Z",
     "iopub.status.idle": "2025-07-30T13:31:38.485936Z",
     "shell.execute_reply": "2025-07-30T13:31:38.482930Z",
     "shell.execute_reply.started": "2025-07-30T13:31:38.464855Z"
    }
   },
   "outputs": [],
   "source": [
    "cleaned_ansur[\"largeur_du_bassin\"]=0"
   ]
  },
  {
   "cell_type": "code",
   "execution_count": 197,
   "id": "57338e9f-f68e-402f-a0b7-2256a114b410",
   "metadata": {
    "execution": {
     "iopub.execute_input": "2025-07-30T13:31:38.490935Z",
     "iopub.status.busy": "2025-07-30T13:31:38.488936Z",
     "iopub.status.idle": "2025-07-30T13:31:38.520119Z",
     "shell.execute_reply": "2025-07-30T13:31:38.514105Z",
     "shell.execute_reply.started": "2025-07-30T13:31:38.490935Z"
    }
   },
   "outputs": [],
   "source": [
    "cleaned_ansur[\"profondeur_de_poitrine\"]=0"
   ]
  },
  {
   "cell_type": "code",
   "execution_count": 198,
   "id": "faae35e5-faae-4338-b1ca-ac51a0e025f6",
   "metadata": {
    "execution": {
     "iopub.execute_input": "2025-07-30T13:31:38.528677Z",
     "iopub.status.busy": "2025-07-30T13:31:38.526676Z",
     "iopub.status.idle": "2025-07-30T13:31:38.566850Z",
     "shell.execute_reply": "2025-07-30T13:31:38.561094Z",
     "shell.execute_reply.started": "2025-07-30T13:31:38.528677Z"
    }
   },
   "outputs": [],
   "source": [
    "cleaned_ansur[\"tour_d_epaule\"]=0"
   ]
  },
  {
   "cell_type": "code",
   "execution_count": 199,
   "id": "97ae516a-6067-4a33-a959-2257de171dc1",
   "metadata": {
    "execution": {
     "iopub.execute_input": "2025-07-30T13:31:38.572373Z",
     "iopub.status.busy": "2025-07-30T13:31:38.569858Z",
     "iopub.status.idle": "2025-07-30T13:31:39.073879Z",
     "shell.execute_reply": "2025-07-30T13:31:39.072576Z",
     "shell.execute_reply.started": "2025-07-30T13:31:38.571856Z"
    }
   },
   "outputs": [
    {
     "data": {
      "text/html": [
       "<div>\n",
       "<style scoped>\n",
       "    .dataframe tbody tr th:only-of-type {\n",
       "        vertical-align: middle;\n",
       "    }\n",
       "\n",
       "    .dataframe tbody tr th {\n",
       "        vertical-align: top;\n",
       "    }\n",
       "\n",
       "    .dataframe thead th {\n",
       "        text-align: right;\n",
       "    }\n",
       "</style>\n",
       "<table border=\"1\" class=\"dataframe\">\n",
       "  <thead>\n",
       "    <tr style=\"text-align: right;\">\n",
       "      <th></th>\n",
       "      <th>taille</th>\n",
       "      <th>age</th>\n",
       "      <th>weight</th>\n",
       "      <th>sex</th>\n",
       "      <th>tour_de_cheville</th>\n",
       "      <th>longueur_du_bras</th>\n",
       "      <th>longueur_du_dos</th>\n",
       "      <th>largeur_du_dos</th>\n",
       "      <th>tour_de_ventre_maximal</th>\n",
       "      <th>tour_de_biceps</th>\n",
       "      <th>...</th>\n",
       "      <th>tour_de_coude</th>\n",
       "      <th>tour_de_hanches_haut</th>\n",
       "      <th>tour_de_genou</th>\n",
       "      <th>angle_de_l_epaule</th>\n",
       "      <th>longueur_du_côte</th>\n",
       "      <th>longueur_de_sous_poitrine</th>\n",
       "      <th>hauteur_des_epaules</th>\n",
       "      <th>largeur_du_bassin</th>\n",
       "      <th>profondeur_de_poitrine</th>\n",
       "      <th>tour_d_epaule</th>\n",
       "    </tr>\n",
       "  </thead>\n",
       "  <tbody>\n",
       "    <tr>\n",
       "      <th>count</th>\n",
       "      <td>6068.000000</td>\n",
       "      <td>6068.000000</td>\n",
       "      <td>6068.000000</td>\n",
       "      <td>6068.000000</td>\n",
       "      <td>6068.000000</td>\n",
       "      <td>6068.0</td>\n",
       "      <td>6068.000000</td>\n",
       "      <td>6068.000000</td>\n",
       "      <td>6068.000000</td>\n",
       "      <td>6068.000000</td>\n",
       "      <td>...</td>\n",
       "      <td>6068.0</td>\n",
       "      <td>6068.0</td>\n",
       "      <td>6068.0</td>\n",
       "      <td>6068.0</td>\n",
       "      <td>6068.0</td>\n",
       "      <td>6068.0</td>\n",
       "      <td>6068.0</td>\n",
       "      <td>6068.0</td>\n",
       "      <td>6068.0</td>\n",
       "      <td>6068.0</td>\n",
       "    </tr>\n",
       "    <tr>\n",
       "      <th>mean</th>\n",
       "      <td>171.440606</td>\n",
       "      <td>29.761206</td>\n",
       "      <td>79.265052</td>\n",
       "      <td>0.672709</td>\n",
       "      <td>22.489140</td>\n",
       "      <td>0.0</td>\n",
       "      <td>46.052472</td>\n",
       "      <td>39.920419</td>\n",
       "      <td>91.450148</td>\n",
       "      <td>34.093425</td>\n",
       "      <td>...</td>\n",
       "      <td>0.0</td>\n",
       "      <td>0.0</td>\n",
       "      <td>0.0</td>\n",
       "      <td>0.0</td>\n",
       "      <td>0.0</td>\n",
       "      <td>0.0</td>\n",
       "      <td>0.0</td>\n",
       "      <td>0.0</td>\n",
       "      <td>0.0</td>\n",
       "      <td>0.0</td>\n",
       "    </tr>\n",
       "    <tr>\n",
       "      <th>std</th>\n",
       "      <td>9.001534</td>\n",
       "      <td>8.674650</td>\n",
       "      <td>15.282400</td>\n",
       "      <td>0.469263</td>\n",
       "      <td>1.605183</td>\n",
       "      <td>0.0</td>\n",
       "      <td>3.667791</td>\n",
       "      <td>3.023691</td>\n",
       "      <td>11.427451</td>\n",
       "      <td>4.151987</td>\n",
       "      <td>...</td>\n",
       "      <td>0.0</td>\n",
       "      <td>0.0</td>\n",
       "      <td>0.0</td>\n",
       "      <td>0.0</td>\n",
       "      <td>0.0</td>\n",
       "      <td>0.0</td>\n",
       "      <td>0.0</td>\n",
       "      <td>0.0</td>\n",
       "      <td>0.0</td>\n",
       "      <td>0.0</td>\n",
       "    </tr>\n",
       "    <tr>\n",
       "      <th>min</th>\n",
       "      <td>140.900000</td>\n",
       "      <td>17.000000</td>\n",
       "      <td>0.000000</td>\n",
       "      <td>0.000000</td>\n",
       "      <td>15.600000</td>\n",
       "      <td>0.0</td>\n",
       "      <td>34.500000</td>\n",
       "      <td>28.300000</td>\n",
       "      <td>61.100000</td>\n",
       "      <td>21.600000</td>\n",
       "      <td>...</td>\n",
       "      <td>0.0</td>\n",
       "      <td>0.0</td>\n",
       "      <td>0.0</td>\n",
       "      <td>0.0</td>\n",
       "      <td>0.0</td>\n",
       "      <td>0.0</td>\n",
       "      <td>0.0</td>\n",
       "      <td>0.0</td>\n",
       "      <td>0.0</td>\n",
       "      <td>0.0</td>\n",
       "    </tr>\n",
       "    <tr>\n",
       "      <th>25%</th>\n",
       "      <td>165.175000</td>\n",
       "      <td>23.000000</td>\n",
       "      <td>68.038800</td>\n",
       "      <td>0.000000</td>\n",
       "      <td>21.400000</td>\n",
       "      <td>0.0</td>\n",
       "      <td>43.500000</td>\n",
       "      <td>37.600000</td>\n",
       "      <td>82.900000</td>\n",
       "      <td>31.100000</td>\n",
       "      <td>...</td>\n",
       "      <td>0.0</td>\n",
       "      <td>0.0</td>\n",
       "      <td>0.0</td>\n",
       "      <td>0.0</td>\n",
       "      <td>0.0</td>\n",
       "      <td>0.0</td>\n",
       "      <td>0.0</td>\n",
       "      <td>0.0</td>\n",
       "      <td>0.0</td>\n",
       "      <td>0.0</td>\n",
       "    </tr>\n",
       "    <tr>\n",
       "      <th>50%</th>\n",
       "      <td>171.900000</td>\n",
       "      <td>28.000000</td>\n",
       "      <td>78.471416</td>\n",
       "      <td>1.000000</td>\n",
       "      <td>22.500000</td>\n",
       "      <td>0.0</td>\n",
       "      <td>46.300000</td>\n",
       "      <td>40.400000</td>\n",
       "      <td>90.700000</td>\n",
       "      <td>34.100000</td>\n",
       "      <td>...</td>\n",
       "      <td>0.0</td>\n",
       "      <td>0.0</td>\n",
       "      <td>0.0</td>\n",
       "      <td>0.0</td>\n",
       "      <td>0.0</td>\n",
       "      <td>0.0</td>\n",
       "      <td>0.0</td>\n",
       "      <td>0.0</td>\n",
       "      <td>0.0</td>\n",
       "      <td>0.0</td>\n",
       "    </tr>\n",
       "    <tr>\n",
       "      <th>75%</th>\n",
       "      <td>177.900000</td>\n",
       "      <td>36.000000</td>\n",
       "      <td>88.904032</td>\n",
       "      <td>1.000000</td>\n",
       "      <td>23.500000</td>\n",
       "      <td>0.0</td>\n",
       "      <td>48.600000</td>\n",
       "      <td>42.100000</td>\n",
       "      <td>99.200000</td>\n",
       "      <td>37.000000</td>\n",
       "      <td>...</td>\n",
       "      <td>0.0</td>\n",
       "      <td>0.0</td>\n",
       "      <td>0.0</td>\n",
       "      <td>0.0</td>\n",
       "      <td>0.0</td>\n",
       "      <td>0.0</td>\n",
       "      <td>0.0</td>\n",
       "      <td>0.0</td>\n",
       "      <td>0.0</td>\n",
       "      <td>0.0</td>\n",
       "    </tr>\n",
       "    <tr>\n",
       "      <th>max</th>\n",
       "      <td>199.300000</td>\n",
       "      <td>58.000000</td>\n",
       "      <td>145.603032</td>\n",
       "      <td>1.000000</td>\n",
       "      <td>29.300000</td>\n",
       "      <td>0.0</td>\n",
       "      <td>59.800000</td>\n",
       "      <td>48.900000</td>\n",
       "      <td>137.900000</td>\n",
       "      <td>49.000000</td>\n",
       "      <td>...</td>\n",
       "      <td>0.0</td>\n",
       "      <td>0.0</td>\n",
       "      <td>0.0</td>\n",
       "      <td>0.0</td>\n",
       "      <td>0.0</td>\n",
       "      <td>0.0</td>\n",
       "      <td>0.0</td>\n",
       "      <td>0.0</td>\n",
       "      <td>0.0</td>\n",
       "      <td>0.0</td>\n",
       "    </tr>\n",
       "  </tbody>\n",
       "</table>\n",
       "<p>8 rows × 44 columns</p>\n",
       "</div>"
      ],
      "text/plain": [
       "            taille          age       weight          sex  tour_de_cheville  \\\n",
       "count  6068.000000  6068.000000  6068.000000  6068.000000       6068.000000   \n",
       "mean    171.440606    29.761206    79.265052     0.672709         22.489140   \n",
       "std       9.001534     8.674650    15.282400     0.469263          1.605183   \n",
       "min     140.900000    17.000000     0.000000     0.000000         15.600000   \n",
       "25%     165.175000    23.000000    68.038800     0.000000         21.400000   \n",
       "50%     171.900000    28.000000    78.471416     1.000000         22.500000   \n",
       "75%     177.900000    36.000000    88.904032     1.000000         23.500000   \n",
       "max     199.300000    58.000000   145.603032     1.000000         29.300000   \n",
       "\n",
       "       longueur_du_bras  longueur_du_dos  largeur_du_dos  \\\n",
       "count            6068.0      6068.000000     6068.000000   \n",
       "mean                0.0        46.052472       39.920419   \n",
       "std                 0.0         3.667791        3.023691   \n",
       "min                 0.0        34.500000       28.300000   \n",
       "25%                 0.0        43.500000       37.600000   \n",
       "50%                 0.0        46.300000       40.400000   \n",
       "75%                 0.0        48.600000       42.100000   \n",
       "max                 0.0        59.800000       48.900000   \n",
       "\n",
       "       tour_de_ventre_maximal  tour_de_biceps  ...  tour_de_coude  \\\n",
       "count             6068.000000     6068.000000  ...         6068.0   \n",
       "mean                91.450148       34.093425  ...            0.0   \n",
       "std                 11.427451        4.151987  ...            0.0   \n",
       "min                 61.100000       21.600000  ...            0.0   \n",
       "25%                 82.900000       31.100000  ...            0.0   \n",
       "50%                 90.700000       34.100000  ...            0.0   \n",
       "75%                 99.200000       37.000000  ...            0.0   \n",
       "max                137.900000       49.000000  ...            0.0   \n",
       "\n",
       "       tour_de_hanches_haut  tour_de_genou  angle_de_l_epaule  \\\n",
       "count                6068.0         6068.0             6068.0   \n",
       "mean                    0.0            0.0                0.0   \n",
       "std                     0.0            0.0                0.0   \n",
       "min                     0.0            0.0                0.0   \n",
       "25%                     0.0            0.0                0.0   \n",
       "50%                     0.0            0.0                0.0   \n",
       "75%                     0.0            0.0                0.0   \n",
       "max                     0.0            0.0                0.0   \n",
       "\n",
       "       longueur_du_côte  longueur_de_sous_poitrine  hauteur_des_epaules  \\\n",
       "count            6068.0                     6068.0               6068.0   \n",
       "mean                0.0                        0.0                  0.0   \n",
       "std                 0.0                        0.0                  0.0   \n",
       "min                 0.0                        0.0                  0.0   \n",
       "25%                 0.0                        0.0                  0.0   \n",
       "50%                 0.0                        0.0                  0.0   \n",
       "75%                 0.0                        0.0                  0.0   \n",
       "max                 0.0                        0.0                  0.0   \n",
       "\n",
       "       largeur_du_bassin  profondeur_de_poitrine  tour_d_epaule  \n",
       "count             6068.0                  6068.0         6068.0  \n",
       "mean                 0.0                     0.0            0.0  \n",
       "std                  0.0                     0.0            0.0  \n",
       "min                  0.0                     0.0            0.0  \n",
       "25%                  0.0                     0.0            0.0  \n",
       "50%                  0.0                     0.0            0.0  \n",
       "75%                  0.0                     0.0            0.0  \n",
       "max                  0.0                     0.0            0.0  \n",
       "\n",
       "[8 rows x 44 columns]"
      ]
     },
     "execution_count": 199,
     "metadata": {},
     "output_type": "execute_result"
    }
   ],
   "source": [
    "cleaned_ansur.describe()"
   ]
  },
  {
   "cell_type": "code",
   "execution_count": 200,
   "id": "173ae852-571c-4cac-9590-755ecb34efb9",
   "metadata": {
    "execution": {
     "iopub.execute_input": "2025-07-30T13:31:39.075877Z",
     "iopub.status.busy": "2025-07-30T13:31:39.074876Z",
     "iopub.status.idle": "2025-07-30T13:31:39.088915Z",
     "shell.execute_reply": "2025-07-30T13:31:39.088060Z",
     "shell.execute_reply.started": "2025-07-30T13:31:39.075877Z"
    }
   },
   "outputs": [
    {
     "data": {
      "text/plain": [
       "Index(['taille', 'age', 'weight', 'sex', 'tour_de_cheville',\n",
       "       'longueur_du_bras', 'longueur_du_dos', 'largeur_du_dos',\n",
       "       'tour_de_ventre_maximal', 'tour_de_biceps', 'tour_de_poitrine',\n",
       "       'hauteur_de_poitrine', 'tour_de_mollet', 'hauteur_d_entrejambe',\n",
       "       'tour_d_avant_bras', 'longueur_avant', 'tour_de_tête',\n",
       "       'largeur_des_hanches', 'hauteur_des_hanches', 'hauteur_des_genoux',\n",
       "       'tour_du_cou', 'longueur_du_cou_au_genou', 'largeur_d_epaule',\n",
       "       'largeur_des_epaules_a_l_horizontales',\n",
       "       'longueur_de_la_colonne_vertebrale_jusqu_au_poignet', 'tour_de_cuisse',\n",
       "       'longueur_du_tronc', 'longueur_d_avant_bras', 'largeur_de_la_taille',\n",
       "       'tour_de_taille', 'hauteur_de_la_taille', 'tour_de_poignet',\n",
       "       'profondeur_des_aisselles', 'tour_de_poitrine_mesure_a_la_main',\n",
       "       'tour_de_coude', 'tour_de_hanches_haut', 'tour_de_genou',\n",
       "       'angle_de_l_epaule', 'longueur_du_côte', 'longueur_de_sous_poitrine',\n",
       "       'hauteur_des_epaules', 'largeur_du_bassin', 'profondeur_de_poitrine',\n",
       "       'tour_d_epaule'],\n",
       "      dtype='object')"
      ]
     },
     "execution_count": 200,
     "metadata": {},
     "output_type": "execute_result"
    }
   ],
   "source": [
    "cleaned_ansur.columns"
   ]
  },
  {
   "cell_type": "code",
   "execution_count": 201,
   "id": "58287d78-fca6-41b7-9b02-36942e1ac64e",
   "metadata": {
    "execution": {
     "iopub.execute_input": "2025-07-30T13:31:39.093629Z",
     "iopub.status.busy": "2025-07-30T13:31:39.092427Z",
     "iopub.status.idle": "2025-07-30T13:31:39.120617Z",
     "shell.execute_reply": "2025-07-30T13:31:39.118654Z",
     "shell.execute_reply.started": "2025-07-30T13:31:39.093629Z"
    }
   },
   "outputs": [],
   "source": [
    "bdims_df=pd.read_csv('data/bdims.csv', encoding='cp1252', sep=';')\n",
    "cleaned_bdims=pd.DataFrame()"
   ]
  },
  {
   "cell_type": "code",
   "execution_count": 202,
   "id": "2af9ba49-f7af-4a5a-bd6a-f5db8899544e",
   "metadata": {
    "execution": {
     "iopub.execute_input": "2025-07-30T13:31:39.127174Z",
     "iopub.status.busy": "2025-07-30T13:31:39.125158Z",
     "iopub.status.idle": "2025-07-30T13:31:39.167220Z",
     "shell.execute_reply": "2025-07-30T13:31:39.165219Z",
     "shell.execute_reply.started": "2025-07-30T13:31:39.127174Z"
    }
   },
   "outputs": [
    {
     "data": {
      "text/plain": [
       "count    507.000000\n",
       "mean      38.811440\n",
       "std        3.059132\n",
       "min       32.400000\n",
       "25%       36.200000\n",
       "50%       38.700000\n",
       "75%       41.150000\n",
       "max       47.400000\n",
       "Name: bia_di, dtype: float64"
      ]
     },
     "execution_count": 202,
     "metadata": {},
     "output_type": "execute_result"
    }
   ],
   "source": [
    "bdims_df[\"bia_di\"].describe()"
   ]
  },
  {
   "cell_type": "code",
   "execution_count": 203,
   "id": "cae2799c-c81f-49c8-b317-d901c27bf71f",
   "metadata": {
    "execution": {
     "iopub.execute_input": "2025-07-30T13:31:39.170206Z",
     "iopub.status.busy": "2025-07-30T13:31:39.170206Z",
     "iopub.status.idle": "2025-07-30T13:31:39.183680Z",
     "shell.execute_reply": "2025-07-30T13:31:39.181289Z",
     "shell.execute_reply.started": "2025-07-30T13:31:39.170206Z"
    }
   },
   "outputs": [],
   "source": [
    "cleaned_bdims[\"taille\"]=bdims_df[\"hgt\"]"
   ]
  },
  {
   "cell_type": "code",
   "execution_count": 204,
   "id": "4e371fb1-70a6-49da-baea-ab713160dd80",
   "metadata": {
    "execution": {
     "iopub.execute_input": "2025-07-30T13:31:39.186702Z",
     "iopub.status.busy": "2025-07-30T13:31:39.185678Z",
     "iopub.status.idle": "2025-07-30T13:31:39.213675Z",
     "shell.execute_reply": "2025-07-30T13:31:39.211367Z",
     "shell.execute_reply.started": "2025-07-30T13:31:39.186702Z"
    }
   },
   "outputs": [],
   "source": [
    "cleaned_bdims[\"age\"]=bdims_df[\"age\"]"
   ]
  },
  {
   "cell_type": "code",
   "execution_count": 205,
   "id": "7e8c6947-d660-47fc-b8e7-ad768fd99f4b",
   "metadata": {
    "execution": {
     "iopub.execute_input": "2025-07-30T13:31:39.215676Z",
     "iopub.status.busy": "2025-07-30T13:31:39.214673Z",
     "iopub.status.idle": "2025-07-30T13:31:39.231205Z",
     "shell.execute_reply": "2025-07-30T13:31:39.227208Z",
     "shell.execute_reply.started": "2025-07-30T13:31:39.215676Z"
    }
   },
   "outputs": [],
   "source": [
    "cleaned_bdims[\"weight\"]=bdims_df[\"wgt\"]"
   ]
  },
  {
   "cell_type": "code",
   "execution_count": 206,
   "id": "3674767f-f217-43a5-8253-c6e66bbf337f",
   "metadata": {
    "execution": {
     "iopub.execute_input": "2025-07-30T13:31:39.235262Z",
     "iopub.status.busy": "2025-07-30T13:31:39.233749Z",
     "iopub.status.idle": "2025-07-30T13:31:39.260350Z",
     "shell.execute_reply": "2025-07-30T13:31:39.257346Z",
     "shell.execute_reply.started": "2025-07-30T13:31:39.235262Z"
    }
   },
   "outputs": [],
   "source": [
    "cleaned_bdims[\"sex\"]=bdims_df[\"sex\"]"
   ]
  },
  {
   "cell_type": "code",
   "execution_count": 207,
   "id": "f3e2823c-d2f1-4021-906e-6a14c5526ece",
   "metadata": {
    "execution": {
     "iopub.execute_input": "2025-07-30T13:31:39.265466Z",
     "iopub.status.busy": "2025-07-30T13:31:39.263466Z",
     "iopub.status.idle": "2025-07-30T13:31:39.291473Z",
     "shell.execute_reply": "2025-07-30T13:31:39.288450Z",
     "shell.execute_reply.started": "2025-07-30T13:31:39.265466Z"
    }
   },
   "outputs": [],
   "source": [
    "cleaned_bdims[\"largeur_d_epaule\"]=bdims_df[\"bia_di\"]"
   ]
  },
  {
   "cell_type": "code",
   "execution_count": 208,
   "id": "1fe28312-4e8f-4d67-ae1e-65d44306e62c",
   "metadata": {
    "execution": {
     "iopub.execute_input": "2025-07-30T13:31:39.293977Z",
     "iopub.status.busy": "2025-07-30T13:31:39.292969Z",
     "iopub.status.idle": "2025-07-30T13:31:39.320864Z",
     "shell.execute_reply": "2025-07-30T13:31:39.318875Z",
     "shell.execute_reply.started": "2025-07-30T13:31:39.293977Z"
    }
   },
   "outputs": [],
   "source": [
    "cleaned_bdims[\"largeur_des_hanches\"]=bdims_df[\"bii_di\"]"
   ]
  },
  {
   "cell_type": "code",
   "execution_count": 209,
   "id": "831117b9-d3a5-412f-bc70-7f1436187917",
   "metadata": {
    "execution": {
     "iopub.execute_input": "2025-07-30T13:31:39.327399Z",
     "iopub.status.busy": "2025-07-30T13:31:39.324381Z",
     "iopub.status.idle": "2025-07-30T13:31:39.349814Z",
     "shell.execute_reply": "2025-07-30T13:31:39.348812Z",
     "shell.execute_reply.started": "2025-07-30T13:31:39.327399Z"
    }
   },
   "outputs": [],
   "source": [
    "cleaned_bdims[\"largeur_du_bassin\"]=bdims_df[\"bit_di\"]"
   ]
  },
  {
   "cell_type": "code",
   "execution_count": 210,
   "id": "55482829-0109-40da-988b-6e9d6ea282c1",
   "metadata": {
    "execution": {
     "iopub.execute_input": "2025-07-30T13:31:39.352319Z",
     "iopub.status.busy": "2025-07-30T13:31:39.350811Z",
     "iopub.status.idle": "2025-07-30T13:31:39.366456Z",
     "shell.execute_reply": "2025-07-30T13:31:39.363456Z",
     "shell.execute_reply.started": "2025-07-30T13:31:39.352319Z"
    }
   },
   "outputs": [],
   "source": [
    "cleaned_bdims[\"profondeur_de_poitrine\"]=bdims_df[\"che_de\"]"
   ]
  },
  {
   "cell_type": "code",
   "execution_count": 211,
   "id": "c39ec96e-48f4-4b3d-ad4a-60e781893a9c",
   "metadata": {
    "execution": {
     "iopub.execute_input": "2025-07-30T13:31:39.372459Z",
     "iopub.status.busy": "2025-07-30T13:31:39.369470Z",
     "iopub.status.idle": "2025-07-30T13:31:39.396788Z",
     "shell.execute_reply": "2025-07-30T13:31:39.393769Z",
     "shell.execute_reply.started": "2025-07-30T13:31:39.372459Z"
    }
   },
   "outputs": [],
   "source": [
    "cleaned_bdims[\"hauteur_de_poitrine\"]=bdims_df[\"che_di\"]"
   ]
  },
  {
   "cell_type": "code",
   "execution_count": 212,
   "id": "e001e498-a45b-404e-9110-b235eb3b80f4",
   "metadata": {
    "execution": {
     "iopub.execute_input": "2025-07-30T13:31:39.399780Z",
     "iopub.status.busy": "2025-07-30T13:31:39.398783Z",
     "iopub.status.idle": "2025-07-30T13:31:39.412295Z",
     "shell.execute_reply": "2025-07-30T13:31:39.409302Z",
     "shell.execute_reply.started": "2025-07-30T13:31:39.399780Z"
    }
   },
   "outputs": [],
   "source": [
    "cleaned_bdims[\"tour_de_coude\"]=bdims_df[\"elb_di\"]"
   ]
  },
  {
   "cell_type": "code",
   "execution_count": 213,
   "id": "521a272e-db0f-4944-b0d5-5e164a827ddf",
   "metadata": {
    "execution": {
     "iopub.execute_input": "2025-07-30T13:31:39.415366Z",
     "iopub.status.busy": "2025-07-30T13:31:39.414363Z",
     "iopub.status.idle": "2025-07-30T13:31:39.427417Z",
     "shell.execute_reply": "2025-07-30T13:31:39.424415Z",
     "shell.execute_reply.started": "2025-07-30T13:31:39.415366Z"
    }
   },
   "outputs": [],
   "source": [
    "cleaned_bdims[\"tour_de_poignet\"]=bdims_df[\"wri_di\"]"
   ]
  },
  {
   "cell_type": "code",
   "execution_count": 214,
   "id": "5ad9439d-34ec-43cb-ad2f-8d6b0f38527b",
   "metadata": {
    "execution": {
     "iopub.execute_input": "2025-07-30T13:31:39.430419Z",
     "iopub.status.busy": "2025-07-30T13:31:39.429417Z",
     "iopub.status.idle": "2025-07-30T13:31:39.442470Z",
     "shell.execute_reply": "2025-07-30T13:31:39.440472Z",
     "shell.execute_reply.started": "2025-07-30T13:31:39.430419Z"
    }
   },
   "outputs": [],
   "source": [
    "cleaned_bdims[\"hauteur_des_genoux\"]=bdims_df[\"kne_di\"]"
   ]
  },
  {
   "cell_type": "code",
   "execution_count": 215,
   "id": "01e0198a-ba32-4e08-a085-91c67fe0c609",
   "metadata": {
    "execution": {
     "iopub.execute_input": "2025-07-30T13:31:39.446521Z",
     "iopub.status.busy": "2025-07-30T13:31:39.445521Z",
     "iopub.status.idle": "2025-07-30T13:31:39.459042Z",
     "shell.execute_reply": "2025-07-30T13:31:39.456037Z",
     "shell.execute_reply.started": "2025-07-30T13:31:39.446521Z"
    }
   },
   "outputs": [],
   "source": [
    "cleaned_bdims[\"tour_de_cheville\"]=bdims_df[\"ank_di\"]"
   ]
  },
  {
   "cell_type": "code",
   "execution_count": 216,
   "id": "546bcaa9-d1ae-4596-9914-4017b4803174",
   "metadata": {
    "execution": {
     "iopub.execute_input": "2025-07-30T13:31:39.461043Z",
     "iopub.status.busy": "2025-07-30T13:31:39.460043Z",
     "iopub.status.idle": "2025-07-30T13:31:39.473738Z",
     "shell.execute_reply": "2025-07-30T13:31:39.471565Z",
     "shell.execute_reply.started": "2025-07-30T13:31:39.461043Z"
    }
   },
   "outputs": [],
   "source": [
    "cleaned_bdims[\"largeur_d_epaule\"]=0"
   ]
  },
  {
   "cell_type": "code",
   "execution_count": 217,
   "id": "9df645a0-eeb3-4c84-b966-7623b2d4acd6",
   "metadata": {
    "execution": {
     "iopub.execute_input": "2025-07-30T13:31:39.475737Z",
     "iopub.status.busy": "2025-07-30T13:31:39.475737Z",
     "iopub.status.idle": "2025-07-30T13:31:39.490259Z",
     "shell.execute_reply": "2025-07-30T13:31:39.486261Z",
     "shell.execute_reply.started": "2025-07-30T13:31:39.475737Z"
    }
   },
   "outputs": [],
   "source": [
    "cleaned_bdims[\"tour_d_epaule\"]=bdims_df[\"sho_gi\"]"
   ]
  },
  {
   "cell_type": "code",
   "execution_count": 218,
   "id": "6ff8211c-e726-4f0f-ae8d-be87678076ca",
   "metadata": {
    "execution": {
     "iopub.execute_input": "2025-07-30T13:31:39.492772Z",
     "iopub.status.busy": "2025-07-30T13:31:39.491259Z",
     "iopub.status.idle": "2025-07-30T13:31:39.504315Z",
     "shell.execute_reply": "2025-07-30T13:31:39.502305Z",
     "shell.execute_reply.started": "2025-07-30T13:31:39.492772Z"
    }
   },
   "outputs": [],
   "source": [
    "cleaned_bdims[\"tour_de_poitrine\"]=bdims_df[\"che_gi\"]"
   ]
  },
  {
   "cell_type": "code",
   "execution_count": 219,
   "id": "f26c5cfb-253f-4f60-94cb-b6cd536c4c94",
   "metadata": {
    "execution": {
     "iopub.execute_input": "2025-07-30T13:31:39.506314Z",
     "iopub.status.busy": "2025-07-30T13:31:39.506314Z",
     "iopub.status.idle": "2025-07-30T13:31:39.519568Z",
     "shell.execute_reply": "2025-07-30T13:31:39.517570Z",
     "shell.execute_reply.started": "2025-07-30T13:31:39.506314Z"
    }
   },
   "outputs": [],
   "source": [
    "cleaned_bdims[\"tour_de_taille\"]=bdims_df[\"wai_gi\"]"
   ]
  },
  {
   "cell_type": "code",
   "execution_count": 220,
   "id": "187ce20b-def3-433c-9e63-35a91dd61f92",
   "metadata": {
    "execution": {
     "iopub.execute_input": "2025-07-30T13:31:39.522569Z",
     "iopub.status.busy": "2025-07-30T13:31:39.522569Z",
     "iopub.status.idle": "2025-07-30T13:31:39.535734Z",
     "shell.execute_reply": "2025-07-30T13:31:39.533210Z",
     "shell.execute_reply.started": "2025-07-30T13:31:39.522569Z"
    }
   },
   "outputs": [],
   "source": [
    "cleaned_bdims[\"tour_de_ventre_maximal\"]=bdims_df[\"nav_gi\"]"
   ]
  },
  {
   "cell_type": "code",
   "execution_count": 221,
   "id": "2533ecf3-fe5b-4be6-bd5e-d0e8fb5b6705",
   "metadata": {
    "execution": {
     "iopub.execute_input": "2025-07-30T13:31:39.538749Z",
     "iopub.status.busy": "2025-07-30T13:31:39.537733Z",
     "iopub.status.idle": "2025-07-30T13:31:39.565566Z",
     "shell.execute_reply": "2025-07-30T13:31:39.563567Z",
     "shell.execute_reply.started": "2025-07-30T13:31:39.538749Z"
    }
   },
   "outputs": [],
   "source": [
    "cleaned_bdims[\"tour_de_hanches_haut\"]=bdims_df[\"hip_gi\"]"
   ]
  },
  {
   "cell_type": "code",
   "execution_count": 222,
   "id": "de57b1e5-babe-47ec-9e00-639ca98c18f7",
   "metadata": {
    "execution": {
     "iopub.execute_input": "2025-07-30T13:31:39.568564Z",
     "iopub.status.busy": "2025-07-30T13:31:39.567563Z",
     "iopub.status.idle": "2025-07-30T13:31:39.582618Z",
     "shell.execute_reply": "2025-07-30T13:31:39.579622Z",
     "shell.execute_reply.started": "2025-07-30T13:31:39.568564Z"
    }
   },
   "outputs": [],
   "source": [
    "cleaned_bdims[\"tour_de_cuisse\"]=bdims_df[\"thi_gi\"]"
   ]
  },
  {
   "cell_type": "code",
   "execution_count": 223,
   "id": "b8548d33-bb2e-4309-acc5-593077a9cf9b",
   "metadata": {
    "execution": {
     "iopub.execute_input": "2025-07-30T13:31:39.584627Z",
     "iopub.status.busy": "2025-07-30T13:31:39.584627Z",
     "iopub.status.idle": "2025-07-30T13:31:39.598172Z",
     "shell.execute_reply": "2025-07-30T13:31:39.595171Z",
     "shell.execute_reply.started": "2025-07-30T13:31:39.584627Z"
    }
   },
   "outputs": [],
   "source": [
    "cleaned_bdims[\"tour_de_biceps\"]=bdims_df[\"bic_gi\"]"
   ]
  },
  {
   "cell_type": "code",
   "execution_count": 224,
   "id": "a6eba7f5-9cdc-455e-8a15-42a076471d74",
   "metadata": {
    "execution": {
     "iopub.execute_input": "2025-07-30T13:31:39.601182Z",
     "iopub.status.busy": "2025-07-30T13:31:39.601182Z",
     "iopub.status.idle": "2025-07-30T13:31:39.627481Z",
     "shell.execute_reply": "2025-07-30T13:31:39.625481Z",
     "shell.execute_reply.started": "2025-07-30T13:31:39.601182Z"
    }
   },
   "outputs": [],
   "source": [
    "cleaned_bdims[\"tour_d_avant_bras\"]=bdims_df[\"for_gi\"]"
   ]
  },
  {
   "cell_type": "code",
   "execution_count": 225,
   "id": "2afab621-26dd-4dde-81f9-704e7900de9c",
   "metadata": {
    "execution": {
     "iopub.execute_input": "2025-07-30T13:31:39.630476Z",
     "iopub.status.busy": "2025-07-30T13:31:39.629477Z",
     "iopub.status.idle": "2025-07-30T13:31:39.643645Z",
     "shell.execute_reply": "2025-07-30T13:31:39.641115Z",
     "shell.execute_reply.started": "2025-07-30T13:31:39.630476Z"
    }
   },
   "outputs": [],
   "source": [
    "cleaned_bdims[\"tour_de_genou\"]=bdims_df[\"kne_gi\"]"
   ]
  },
  {
   "cell_type": "code",
   "execution_count": 226,
   "id": "61875083-77a1-4a88-a98f-1cd02a9bf871",
   "metadata": {
    "execution": {
     "iopub.execute_input": "2025-07-30T13:31:39.648660Z",
     "iopub.status.busy": "2025-07-30T13:31:39.646658Z",
     "iopub.status.idle": "2025-07-30T13:31:39.676699Z",
     "shell.execute_reply": "2025-07-30T13:31:39.671517Z",
     "shell.execute_reply.started": "2025-07-30T13:31:39.648660Z"
    }
   },
   "outputs": [],
   "source": [
    "cleaned_bdims[\"tour_de_mollet\"]=bdims_df[\"cal_gi\"]"
   ]
  },
  {
   "cell_type": "code",
   "execution_count": 227,
   "id": "5da69f73-532e-4990-a832-76550946ce02",
   "metadata": {
    "execution": {
     "iopub.execute_input": "2025-07-30T13:31:39.679700Z",
     "iopub.status.busy": "2025-07-30T13:31:39.678696Z",
     "iopub.status.idle": "2025-07-30T13:31:39.704302Z",
     "shell.execute_reply": "2025-07-30T13:31:39.702272Z",
     "shell.execute_reply.started": "2025-07-30T13:31:39.679700Z"
    }
   },
   "outputs": [],
   "source": [
    "cleaned_bdims[\"tour_de_cheville\"]=bdims_df[\"ank_gi\"]"
   ]
  },
  {
   "cell_type": "code",
   "execution_count": 228,
   "id": "886fecf8-c0b3-4438-a688-3674c68a6727",
   "metadata": {
    "execution": {
     "iopub.execute_input": "2025-07-30T13:31:39.708294Z",
     "iopub.status.busy": "2025-07-30T13:31:39.706287Z",
     "iopub.status.idle": "2025-07-30T13:31:39.719378Z",
     "shell.execute_reply": "2025-07-30T13:31:39.717380Z",
     "shell.execute_reply.started": "2025-07-30T13:31:39.707284Z"
    }
   },
   "outputs": [],
   "source": [
    "cleaned_bdims[\"longueur_du_bras\"]=0"
   ]
  },
  {
   "cell_type": "code",
   "execution_count": 229,
   "id": "65a6e8c7-dcbf-4fe6-82e4-55c226bee742",
   "metadata": {
    "execution": {
     "iopub.execute_input": "2025-07-30T13:31:39.725268Z",
     "iopub.status.busy": "2025-07-30T13:31:39.724273Z",
     "iopub.status.idle": "2025-07-30T13:31:39.749862Z",
     "shell.execute_reply": "2025-07-30T13:31:39.747876Z",
     "shell.execute_reply.started": "2025-07-30T13:31:39.725268Z"
    }
   },
   "outputs": [],
   "source": [
    "cleaned_bdims[\"profondeur_des_aisselles\"]=0"
   ]
  },
  {
   "cell_type": "code",
   "execution_count": 230,
   "id": "d4719aba-71af-4494-971e-203a908aeb5e",
   "metadata": {
    "execution": {
     "iopub.execute_input": "2025-07-30T13:31:39.754413Z",
     "iopub.status.busy": "2025-07-30T13:31:39.753412Z",
     "iopub.status.idle": "2025-07-30T13:31:39.783231Z",
     "shell.execute_reply": "2025-07-30T13:31:39.778715Z",
     "shell.execute_reply.started": "2025-07-30T13:31:39.754413Z"
    }
   },
   "outputs": [],
   "source": [
    "cleaned_bdims[\"longueur_du_dos\"]=0"
   ]
  },
  {
   "cell_type": "code",
   "execution_count": 231,
   "id": "ee9c2498-14fd-4d95-a7aa-52303b3f4d47",
   "metadata": {
    "execution": {
     "iopub.execute_input": "2025-07-30T13:31:39.787229Z",
     "iopub.status.busy": "2025-07-30T13:31:39.786229Z",
     "iopub.status.idle": "2025-07-30T13:31:39.813437Z",
     "shell.execute_reply": "2025-07-30T13:31:39.810288Z",
     "shell.execute_reply.started": "2025-07-30T13:31:39.787229Z"
    }
   },
   "outputs": [],
   "source": [
    "cleaned_bdims[\"tour_de_ventre_maximal\"]=0"
   ]
  },
  {
   "cell_type": "code",
   "execution_count": 232,
   "id": "acca8c5f-4cd1-4b1c-b87a-fff99d9921c6",
   "metadata": {
    "execution": {
     "iopub.execute_input": "2025-07-30T13:31:39.816443Z",
     "iopub.status.busy": "2025-07-30T13:31:39.816443Z",
     "iopub.status.idle": "2025-07-30T13:31:39.842892Z",
     "shell.execute_reply": "2025-07-30T13:31:39.840382Z",
     "shell.execute_reply.started": "2025-07-30T13:31:39.816443Z"
    }
   },
   "outputs": [],
   "source": [
    "cleaned_bdims[\"tour_de_poitrine_mesure_a_la_main\"]=0"
   ]
  },
  {
   "cell_type": "code",
   "execution_count": 233,
   "id": "34b53c21-c5a6-4304-ada0-32e52af0cdfd",
   "metadata": {
    "execution": {
     "iopub.execute_input": "2025-07-30T13:31:39.846900Z",
     "iopub.status.busy": "2025-07-30T13:31:39.845925Z",
     "iopub.status.idle": "2025-07-30T13:31:39.857426Z",
     "shell.execute_reply": "2025-07-30T13:31:39.855450Z",
     "shell.execute_reply.started": "2025-07-30T13:31:39.846900Z"
    }
   },
   "outputs": [],
   "source": [
    "cleaned_bdims[\"hauteur_de_poitrine\"]=0"
   ]
  },
  {
   "cell_type": "code",
   "execution_count": 234,
   "id": "07b5f5b4-6daa-4dd9-8e33-8e82fa1303bb",
   "metadata": {
    "execution": {
     "iopub.execute_input": "2025-07-30T13:31:39.862433Z",
     "iopub.status.busy": "2025-07-30T13:31:39.860430Z",
     "iopub.status.idle": "2025-07-30T13:31:39.872493Z",
     "shell.execute_reply": "2025-07-30T13:31:39.870497Z",
     "shell.execute_reply.started": "2025-07-30T13:31:39.862433Z"
    }
   },
   "outputs": [],
   "source": [
    "cleaned_bdims[\"hauteur_d_entrejambe\"]=0"
   ]
  },
  {
   "cell_type": "code",
   "execution_count": 235,
   "id": "a7100638-3357-4342-aa75-e1390e531744",
   "metadata": {
    "execution": {
     "iopub.execute_input": "2025-07-30T13:31:39.875586Z",
     "iopub.status.busy": "2025-07-30T13:31:39.874585Z",
     "iopub.status.idle": "2025-07-30T13:31:39.888443Z",
     "shell.execute_reply": "2025-07-30T13:31:39.886441Z",
     "shell.execute_reply.started": "2025-07-30T13:31:39.875586Z"
    }
   },
   "outputs": [],
   "source": [
    "cleaned_bdims[\"longueur_avant\"]=0"
   ]
  },
  {
   "cell_type": "code",
   "execution_count": 236,
   "id": "d92f0b51-cffb-427a-a721-31f9ad8c0cfd",
   "metadata": {
    "execution": {
     "iopub.execute_input": "2025-07-30T13:31:39.892442Z",
     "iopub.status.busy": "2025-07-30T13:31:39.891440Z",
     "iopub.status.idle": "2025-07-30T13:31:39.905344Z",
     "shell.execute_reply": "2025-07-30T13:31:39.902296Z",
     "shell.execute_reply.started": "2025-07-30T13:31:39.892442Z"
    }
   },
   "outputs": [],
   "source": [
    "cleaned_bdims[\"tour_de_tête\"]=0"
   ]
  },
  {
   "cell_type": "code",
   "execution_count": 237,
   "id": "65b46cb2-5474-4a4c-86ad-42e4e182ae6b",
   "metadata": {
    "execution": {
     "iopub.execute_input": "2025-07-30T13:31:39.909326Z",
     "iopub.status.busy": "2025-07-30T13:31:39.908324Z",
     "iopub.status.idle": "2025-07-30T13:31:39.935439Z",
     "shell.execute_reply": "2025-07-30T13:31:39.932930Z",
     "shell.execute_reply.started": "2025-07-30T13:31:39.909326Z"
    }
   },
   "outputs": [],
   "source": [
    "cleaned_bdims[\"largeur_des_hanches\"]=0"
   ]
  },
  {
   "cell_type": "code",
   "execution_count": 238,
   "id": "f8214178-0a13-4f16-8634-dd818673aa0a",
   "metadata": {
    "execution": {
     "iopub.execute_input": "2025-07-30T13:31:39.939452Z",
     "iopub.status.busy": "2025-07-30T13:31:39.938450Z",
     "iopub.status.idle": "2025-07-30T13:31:39.970052Z",
     "shell.execute_reply": "2025-07-30T13:31:39.964053Z",
     "shell.execute_reply.started": "2025-07-30T13:31:39.939452Z"
    }
   },
   "outputs": [],
   "source": [
    "cleaned_bdims[\"hauteur_des_hanches\"]=0"
   ]
  },
  {
   "cell_type": "code",
   "execution_count": 239,
   "id": "24332473-af23-4dc7-b5bf-bfc629a078c8",
   "metadata": {
    "execution": {
     "iopub.execute_input": "2025-07-30T13:31:39.976602Z",
     "iopub.status.busy": "2025-07-30T13:31:39.975600Z",
     "iopub.status.idle": "2025-07-30T13:31:39.997662Z",
     "shell.execute_reply": "2025-07-30T13:31:39.994657Z",
     "shell.execute_reply.started": "2025-07-30T13:31:39.976602Z"
    }
   },
   "outputs": [],
   "source": [
    "cleaned_bdims[\"hauteur_des_genoux\"]=0"
   ]
  },
  {
   "cell_type": "code",
   "execution_count": 240,
   "id": "0a589938-3d1d-4bea-ac3b-f3ab235aa57b",
   "metadata": {
    "execution": {
     "iopub.execute_input": "2025-07-30T13:31:40.000656Z",
     "iopub.status.busy": "2025-07-30T13:31:39.999655Z",
     "iopub.status.idle": "2025-07-30T13:31:40.028242Z",
     "shell.execute_reply": "2025-07-30T13:31:40.025240Z",
     "shell.execute_reply.started": "2025-07-30T13:31:40.000656Z"
    }
   },
   "outputs": [],
   "source": [
    "cleaned_bdims[\"tour_du_cou\"]=0"
   ]
  },
  {
   "cell_type": "code",
   "execution_count": 241,
   "id": "3664146d-1664-487c-9de2-5b72043c5e3a",
   "metadata": {
    "execution": {
     "iopub.execute_input": "2025-07-30T13:31:40.035284Z",
     "iopub.status.busy": "2025-07-30T13:31:40.031251Z",
     "iopub.status.idle": "2025-07-30T13:31:40.057941Z",
     "shell.execute_reply": "2025-07-30T13:31:40.054934Z",
     "shell.execute_reply.started": "2025-07-30T13:31:40.035284Z"
    }
   },
   "outputs": [],
   "source": [
    "cleaned_bdims[\"longueur_du_cou_au_genou\"]=0"
   ]
  },
  {
   "cell_type": "code",
   "execution_count": 242,
   "id": "b3313008-89d6-4355-bf38-e656264ab068",
   "metadata": {
    "execution": {
     "iopub.execute_input": "2025-07-30T13:31:40.060941Z",
     "iopub.status.busy": "2025-07-30T13:31:40.059938Z",
     "iopub.status.idle": "2025-07-30T13:31:40.072472Z",
     "shell.execute_reply": "2025-07-30T13:31:40.070466Z",
     "shell.execute_reply.started": "2025-07-30T13:31:40.060941Z"
    }
   },
   "outputs": [],
   "source": [
    "cleaned_bdims[\"angle_de_l_epaule\"]=0"
   ]
  },
  {
   "cell_type": "code",
   "execution_count": 243,
   "id": "d14026d4-08a1-41d9-8d81-ba4f1bc3f26d",
   "metadata": {
    "execution": {
     "iopub.execute_input": "2025-07-30T13:31:40.075550Z",
     "iopub.status.busy": "2025-07-30T13:31:40.074549Z",
     "iopub.status.idle": "2025-07-30T13:31:40.103174Z",
     "shell.execute_reply": "2025-07-30T13:31:40.101129Z",
     "shell.execute_reply.started": "2025-07-30T13:31:40.075550Z"
    }
   },
   "outputs": [],
   "source": [
    "cleaned_bdims[\"hauteur_des_epaules\"]=0"
   ]
  },
  {
   "cell_type": "code",
   "execution_count": 244,
   "id": "254b1b8d-4e49-4921-a461-898df7f4d3b8",
   "metadata": {
    "execution": {
     "iopub.execute_input": "2025-07-30T13:31:40.106451Z",
     "iopub.status.busy": "2025-07-30T13:31:40.105171Z",
     "iopub.status.idle": "2025-07-30T13:31:40.118265Z",
     "shell.execute_reply": "2025-07-30T13:31:40.116269Z",
     "shell.execute_reply.started": "2025-07-30T13:31:40.106451Z"
    }
   },
   "outputs": [],
   "source": [
    "cleaned_bdims[\"largeur_des_epaules_a_l_horizontales\"]=0"
   ]
  },
  {
   "cell_type": "code",
   "execution_count": 245,
   "id": "36151b92-7ebf-4642-803f-1f344ddd1a4f",
   "metadata": {
    "execution": {
     "iopub.execute_input": "2025-07-30T13:31:40.124570Z",
     "iopub.status.busy": "2025-07-30T13:31:40.122264Z",
     "iopub.status.idle": "2025-07-30T13:31:40.148717Z",
     "shell.execute_reply": "2025-07-30T13:31:40.146703Z",
     "shell.execute_reply.started": "2025-07-30T13:31:40.124570Z"
    }
   },
   "outputs": [],
   "source": [
    "cleaned_bdims[\"longueur_du_côte\"]=0"
   ]
  },
  {
   "cell_type": "code",
   "execution_count": 246,
   "id": "e11767b5-2872-405e-98c1-1a89fe783795",
   "metadata": {
    "execution": {
     "iopub.execute_input": "2025-07-30T13:31:40.155244Z",
     "iopub.status.busy": "2025-07-30T13:31:40.153262Z",
     "iopub.status.idle": "2025-07-30T13:31:40.181309Z",
     "shell.execute_reply": "2025-07-30T13:31:40.178310Z",
     "shell.execute_reply.started": "2025-07-30T13:31:40.154260Z"
    }
   },
   "outputs": [],
   "source": [
    "cleaned_bdims[\"longueur_de_la_colonne_vertebrale_jusqu_au_poignet\"]=0"
   ]
  },
  {
   "cell_type": "code",
   "execution_count": 247,
   "id": "0bfc4a62-19ef-4245-904e-b7c12957b3ff",
   "metadata": {
    "execution": {
     "iopub.execute_input": "2025-07-30T13:31:40.183842Z",
     "iopub.status.busy": "2025-07-30T13:31:40.182846Z",
     "iopub.status.idle": "2025-07-30T13:31:40.197381Z",
     "shell.execute_reply": "2025-07-30T13:31:40.193379Z",
     "shell.execute_reply.started": "2025-07-30T13:31:40.183842Z"
    }
   },
   "outputs": [],
   "source": [
    "cleaned_bdims[\"longueur_du_tronc\"]=0"
   ]
  },
  {
   "cell_type": "code",
   "execution_count": 248,
   "id": "5913a9bc-5896-4883-97b2-b48be3afd5cf",
   "metadata": {
    "execution": {
     "iopub.execute_input": "2025-07-30T13:31:40.202379Z",
     "iopub.status.busy": "2025-07-30T13:31:40.200380Z",
     "iopub.status.idle": "2025-07-30T13:31:40.225322Z",
     "shell.execute_reply": "2025-07-30T13:31:40.223317Z",
     "shell.execute_reply.started": "2025-07-30T13:31:40.202379Z"
    }
   },
   "outputs": [],
   "source": [
    "cleaned_bdims[\"longueur_de_sous_poitrine\"]=0"
   ]
  },
  {
   "cell_type": "code",
   "execution_count": 249,
   "id": "714c7b61-0ad5-475c-9ce8-178339ddd4ea",
   "metadata": {
    "execution": {
     "iopub.execute_input": "2025-07-30T13:31:40.228318Z",
     "iopub.status.busy": "2025-07-30T13:31:40.228318Z",
     "iopub.status.idle": "2025-07-30T13:31:40.240699Z",
     "shell.execute_reply": "2025-07-30T13:31:40.238695Z",
     "shell.execute_reply.started": "2025-07-30T13:31:40.228318Z"
    }
   },
   "outputs": [],
   "source": [
    "cleaned_bdims[\"largeur_de_la_taille\"]=0"
   ]
  },
  {
   "cell_type": "code",
   "execution_count": 250,
   "id": "97ceb0f0-d5ed-44c0-91db-6f5920000c49",
   "metadata": {
    "execution": {
     "iopub.execute_input": "2025-07-30T13:31:40.245228Z",
     "iopub.status.busy": "2025-07-30T13:31:40.244257Z",
     "iopub.status.idle": "2025-07-30T13:31:40.272226Z",
     "shell.execute_reply": "2025-07-30T13:31:40.269696Z",
     "shell.execute_reply.started": "2025-07-30T13:31:40.245228Z"
    }
   },
   "outputs": [],
   "source": [
    "cleaned_bdims[\"hauteur_de_la_taille\"]=0"
   ]
  },
  {
   "cell_type": "code",
   "execution_count": 251,
   "id": "17394238-9ffa-4cc1-9a59-019e2e4725e8",
   "metadata": {
    "execution": {
     "iopub.execute_input": "2025-07-30T13:31:40.275250Z",
     "iopub.status.busy": "2025-07-30T13:31:40.274246Z",
     "iopub.status.idle": "2025-07-30T13:31:40.302486Z",
     "shell.execute_reply": "2025-07-30T13:31:40.299970Z",
     "shell.execute_reply.started": "2025-07-30T13:31:40.275250Z"
    }
   },
   "outputs": [],
   "source": [
    "cleaned_bdims[\"largeur_du_dos\"]=0"
   ]
  },
  {
   "cell_type": "code",
   "execution_count": 252,
   "id": "9d98eaa5-1222-44a5-ac0f-2eb937ba0387",
   "metadata": {
    "execution": {
     "iopub.execute_input": "2025-07-30T13:31:40.306500Z",
     "iopub.status.busy": "2025-07-30T13:31:40.305498Z",
     "iopub.status.idle": "2025-07-30T13:31:40.332807Z",
     "shell.execute_reply": "2025-07-30T13:31:40.330294Z",
     "shell.execute_reply.started": "2025-07-30T13:31:40.306500Z"
    }
   },
   "outputs": [],
   "source": [
    "cleaned_bdims[\"longeur_d_avant_bras\"]=0"
   ]
  },
  {
   "cell_type": "code",
   "execution_count": 253,
   "id": "49a56208-82c1-40a3-afc1-066e693f49b9",
   "metadata": {
    "execution": {
     "iopub.execute_input": "2025-07-30T13:31:40.335819Z",
     "iopub.status.busy": "2025-07-30T13:31:40.335819Z",
     "iopub.status.idle": "2025-07-30T13:31:40.547330Z",
     "shell.execute_reply": "2025-07-30T13:31:40.545329Z",
     "shell.execute_reply.started": "2025-07-30T13:31:40.335819Z"
    }
   },
   "outputs": [
    {
     "data": {
      "text/html": [
       "<div>\n",
       "<style scoped>\n",
       "    .dataframe tbody tr th:only-of-type {\n",
       "        vertical-align: middle;\n",
       "    }\n",
       "\n",
       "    .dataframe tbody tr th {\n",
       "        vertical-align: top;\n",
       "    }\n",
       "\n",
       "    .dataframe thead th {\n",
       "        text-align: right;\n",
       "    }\n",
       "</style>\n",
       "<table border=\"1\" class=\"dataframe\">\n",
       "  <thead>\n",
       "    <tr style=\"text-align: right;\">\n",
       "      <th></th>\n",
       "      <th>taille</th>\n",
       "      <th>age</th>\n",
       "      <th>weight</th>\n",
       "      <th>sex</th>\n",
       "      <th>largeur_d_epaule</th>\n",
       "      <th>largeur_des_hanches</th>\n",
       "      <th>largeur_du_bassin</th>\n",
       "      <th>profondeur_de_poitrine</th>\n",
       "      <th>hauteur_de_poitrine</th>\n",
       "      <th>tour_de_coude</th>\n",
       "      <th>...</th>\n",
       "      <th>hauteur_des_epaules</th>\n",
       "      <th>largeur_des_epaules_a_l_horizontales</th>\n",
       "      <th>longueur_du_côte</th>\n",
       "      <th>longueur_de_la_colonne_vertebrale_jusqu_au_poignet</th>\n",
       "      <th>longueur_du_tronc</th>\n",
       "      <th>longueur_de_sous_poitrine</th>\n",
       "      <th>largeur_de_la_taille</th>\n",
       "      <th>hauteur_de_la_taille</th>\n",
       "      <th>largeur_du_dos</th>\n",
       "      <th>longeur_d_avant_bras</th>\n",
       "    </tr>\n",
       "  </thead>\n",
       "  <tbody>\n",
       "    <tr>\n",
       "      <th>count</th>\n",
       "      <td>507.000000</td>\n",
       "      <td>507.000000</td>\n",
       "      <td>507.000000</td>\n",
       "      <td>507.000000</td>\n",
       "      <td>507.0</td>\n",
       "      <td>507.0</td>\n",
       "      <td>507.000000</td>\n",
       "      <td>507.000000</td>\n",
       "      <td>507.0</td>\n",
       "      <td>507.000000</td>\n",
       "      <td>...</td>\n",
       "      <td>507.0</td>\n",
       "      <td>507.0</td>\n",
       "      <td>507.0</td>\n",
       "      <td>507.0</td>\n",
       "      <td>507.0</td>\n",
       "      <td>507.0</td>\n",
       "      <td>507.0</td>\n",
       "      <td>507.0</td>\n",
       "      <td>507.0</td>\n",
       "      <td>507.0</td>\n",
       "    </tr>\n",
       "    <tr>\n",
       "      <th>mean</th>\n",
       "      <td>171.143787</td>\n",
       "      <td>30.181460</td>\n",
       "      <td>69.147535</td>\n",
       "      <td>0.487179</td>\n",
       "      <td>0.0</td>\n",
       "      <td>0.0</td>\n",
       "      <td>31.980473</td>\n",
       "      <td>19.226036</td>\n",
       "      <td>0.0</td>\n",
       "      <td>13.385207</td>\n",
       "      <td>...</td>\n",
       "      <td>0.0</td>\n",
       "      <td>0.0</td>\n",
       "      <td>0.0</td>\n",
       "      <td>0.0</td>\n",
       "      <td>0.0</td>\n",
       "      <td>0.0</td>\n",
       "      <td>0.0</td>\n",
       "      <td>0.0</td>\n",
       "      <td>0.0</td>\n",
       "      <td>0.0</td>\n",
       "    </tr>\n",
       "    <tr>\n",
       "      <th>std</th>\n",
       "      <td>9.407205</td>\n",
       "      <td>9.608472</td>\n",
       "      <td>13.345762</td>\n",
       "      <td>0.500329</td>\n",
       "      <td>0.0</td>\n",
       "      <td>0.0</td>\n",
       "      <td>2.030916</td>\n",
       "      <td>2.515877</td>\n",
       "      <td>0.0</td>\n",
       "      <td>1.352906</td>\n",
       "      <td>...</td>\n",
       "      <td>0.0</td>\n",
       "      <td>0.0</td>\n",
       "      <td>0.0</td>\n",
       "      <td>0.0</td>\n",
       "      <td>0.0</td>\n",
       "      <td>0.0</td>\n",
       "      <td>0.0</td>\n",
       "      <td>0.0</td>\n",
       "      <td>0.0</td>\n",
       "      <td>0.0</td>\n",
       "    </tr>\n",
       "    <tr>\n",
       "      <th>min</th>\n",
       "      <td>147.200000</td>\n",
       "      <td>18.000000</td>\n",
       "      <td>42.000000</td>\n",
       "      <td>0.000000</td>\n",
       "      <td>0.0</td>\n",
       "      <td>0.0</td>\n",
       "      <td>24.700000</td>\n",
       "      <td>14.300000</td>\n",
       "      <td>0.0</td>\n",
       "      <td>9.900000</td>\n",
       "      <td>...</td>\n",
       "      <td>0.0</td>\n",
       "      <td>0.0</td>\n",
       "      <td>0.0</td>\n",
       "      <td>0.0</td>\n",
       "      <td>0.0</td>\n",
       "      <td>0.0</td>\n",
       "      <td>0.0</td>\n",
       "      <td>0.0</td>\n",
       "      <td>0.0</td>\n",
       "      <td>0.0</td>\n",
       "    </tr>\n",
       "    <tr>\n",
       "      <th>25%</th>\n",
       "      <td>163.800000</td>\n",
       "      <td>23.000000</td>\n",
       "      <td>58.400000</td>\n",
       "      <td>0.000000</td>\n",
       "      <td>0.0</td>\n",
       "      <td>0.0</td>\n",
       "      <td>30.600000</td>\n",
       "      <td>17.300000</td>\n",
       "      <td>0.0</td>\n",
       "      <td>12.400000</td>\n",
       "      <td>...</td>\n",
       "      <td>0.0</td>\n",
       "      <td>0.0</td>\n",
       "      <td>0.0</td>\n",
       "      <td>0.0</td>\n",
       "      <td>0.0</td>\n",
       "      <td>0.0</td>\n",
       "      <td>0.0</td>\n",
       "      <td>0.0</td>\n",
       "      <td>0.0</td>\n",
       "      <td>0.0</td>\n",
       "    </tr>\n",
       "    <tr>\n",
       "      <th>50%</th>\n",
       "      <td>170.300000</td>\n",
       "      <td>27.000000</td>\n",
       "      <td>68.200000</td>\n",
       "      <td>0.000000</td>\n",
       "      <td>0.0</td>\n",
       "      <td>0.0</td>\n",
       "      <td>32.000000</td>\n",
       "      <td>19.000000</td>\n",
       "      <td>0.0</td>\n",
       "      <td>13.300000</td>\n",
       "      <td>...</td>\n",
       "      <td>0.0</td>\n",
       "      <td>0.0</td>\n",
       "      <td>0.0</td>\n",
       "      <td>0.0</td>\n",
       "      <td>0.0</td>\n",
       "      <td>0.0</td>\n",
       "      <td>0.0</td>\n",
       "      <td>0.0</td>\n",
       "      <td>0.0</td>\n",
       "      <td>0.0</td>\n",
       "    </tr>\n",
       "    <tr>\n",
       "      <th>75%</th>\n",
       "      <td>177.800000</td>\n",
       "      <td>36.000000</td>\n",
       "      <td>78.850000</td>\n",
       "      <td>1.000000</td>\n",
       "      <td>0.0</td>\n",
       "      <td>0.0</td>\n",
       "      <td>33.350000</td>\n",
       "      <td>20.900000</td>\n",
       "      <td>0.0</td>\n",
       "      <td>14.400000</td>\n",
       "      <td>...</td>\n",
       "      <td>0.0</td>\n",
       "      <td>0.0</td>\n",
       "      <td>0.0</td>\n",
       "      <td>0.0</td>\n",
       "      <td>0.0</td>\n",
       "      <td>0.0</td>\n",
       "      <td>0.0</td>\n",
       "      <td>0.0</td>\n",
       "      <td>0.0</td>\n",
       "      <td>0.0</td>\n",
       "    </tr>\n",
       "    <tr>\n",
       "      <th>max</th>\n",
       "      <td>198.100000</td>\n",
       "      <td>67.000000</td>\n",
       "      <td>116.400000</td>\n",
       "      <td>1.000000</td>\n",
       "      <td>0.0</td>\n",
       "      <td>0.0</td>\n",
       "      <td>38.000000</td>\n",
       "      <td>27.500000</td>\n",
       "      <td>0.0</td>\n",
       "      <td>16.700000</td>\n",
       "      <td>...</td>\n",
       "      <td>0.0</td>\n",
       "      <td>0.0</td>\n",
       "      <td>0.0</td>\n",
       "      <td>0.0</td>\n",
       "      <td>0.0</td>\n",
       "      <td>0.0</td>\n",
       "      <td>0.0</td>\n",
       "      <td>0.0</td>\n",
       "      <td>0.0</td>\n",
       "      <td>0.0</td>\n",
       "    </tr>\n",
       "  </tbody>\n",
       "</table>\n",
       "<p>8 rows × 44 columns</p>\n",
       "</div>"
      ],
      "text/plain": [
       "           taille         age      weight         sex  largeur_d_epaule  \\\n",
       "count  507.000000  507.000000  507.000000  507.000000             507.0   \n",
       "mean   171.143787   30.181460   69.147535    0.487179               0.0   \n",
       "std      9.407205    9.608472   13.345762    0.500329               0.0   \n",
       "min    147.200000   18.000000   42.000000    0.000000               0.0   \n",
       "25%    163.800000   23.000000   58.400000    0.000000               0.0   \n",
       "50%    170.300000   27.000000   68.200000    0.000000               0.0   \n",
       "75%    177.800000   36.000000   78.850000    1.000000               0.0   \n",
       "max    198.100000   67.000000  116.400000    1.000000               0.0   \n",
       "\n",
       "       largeur_des_hanches  largeur_du_bassin  profondeur_de_poitrine  \\\n",
       "count                507.0         507.000000              507.000000   \n",
       "mean                   0.0          31.980473               19.226036   \n",
       "std                    0.0           2.030916                2.515877   \n",
       "min                    0.0          24.700000               14.300000   \n",
       "25%                    0.0          30.600000               17.300000   \n",
       "50%                    0.0          32.000000               19.000000   \n",
       "75%                    0.0          33.350000               20.900000   \n",
       "max                    0.0          38.000000               27.500000   \n",
       "\n",
       "       hauteur_de_poitrine  tour_de_coude  ...  hauteur_des_epaules  \\\n",
       "count                507.0     507.000000  ...                507.0   \n",
       "mean                   0.0      13.385207  ...                  0.0   \n",
       "std                    0.0       1.352906  ...                  0.0   \n",
       "min                    0.0       9.900000  ...                  0.0   \n",
       "25%                    0.0      12.400000  ...                  0.0   \n",
       "50%                    0.0      13.300000  ...                  0.0   \n",
       "75%                    0.0      14.400000  ...                  0.0   \n",
       "max                    0.0      16.700000  ...                  0.0   \n",
       "\n",
       "       largeur_des_epaules_a_l_horizontales  longueur_du_côte  \\\n",
       "count                                 507.0             507.0   \n",
       "mean                                    0.0               0.0   \n",
       "std                                     0.0               0.0   \n",
       "min                                     0.0               0.0   \n",
       "25%                                     0.0               0.0   \n",
       "50%                                     0.0               0.0   \n",
       "75%                                     0.0               0.0   \n",
       "max                                     0.0               0.0   \n",
       "\n",
       "       longueur_de_la_colonne_vertebrale_jusqu_au_poignet  longueur_du_tronc  \\\n",
       "count                                              507.0               507.0   \n",
       "mean                                                 0.0                 0.0   \n",
       "std                                                  0.0                 0.0   \n",
       "min                                                  0.0                 0.0   \n",
       "25%                                                  0.0                 0.0   \n",
       "50%                                                  0.0                 0.0   \n",
       "75%                                                  0.0                 0.0   \n",
       "max                                                  0.0                 0.0   \n",
       "\n",
       "       longueur_de_sous_poitrine  largeur_de_la_taille  hauteur_de_la_taille  \\\n",
       "count                      507.0                 507.0                 507.0   \n",
       "mean                         0.0                   0.0                   0.0   \n",
       "std                          0.0                   0.0                   0.0   \n",
       "min                          0.0                   0.0                   0.0   \n",
       "25%                          0.0                   0.0                   0.0   \n",
       "50%                          0.0                   0.0                   0.0   \n",
       "75%                          0.0                   0.0                   0.0   \n",
       "max                          0.0                   0.0                   0.0   \n",
       "\n",
       "       largeur_du_dos  longeur_d_avant_bras  \n",
       "count           507.0                 507.0  \n",
       "mean              0.0                   0.0  \n",
       "std               0.0                   0.0  \n",
       "min               0.0                   0.0  \n",
       "25%               0.0                   0.0  \n",
       "50%               0.0                   0.0  \n",
       "75%               0.0                   0.0  \n",
       "max               0.0                   0.0  \n",
       "\n",
       "[8 rows x 44 columns]"
      ]
     },
     "execution_count": 253,
     "metadata": {},
     "output_type": "execute_result"
    }
   ],
   "source": [
    "cleaned_bdims.describe()"
   ]
  },
  {
   "cell_type": "code",
   "execution_count": 254,
   "id": "26a6adf3-37d0-4bc8-8e34-2cc2f7607230",
   "metadata": {
    "execution": {
     "iopub.execute_input": "2025-07-30T13:31:40.549325Z",
     "iopub.status.busy": "2025-07-30T13:31:40.549325Z",
     "iopub.status.idle": "2025-07-30T13:31:40.563374Z",
     "shell.execute_reply": "2025-07-30T13:31:40.560854Z",
     "shell.execute_reply.started": "2025-07-30T13:31:40.549325Z"
    }
   },
   "outputs": [
    {
     "data": {
      "text/plain": [
       "Index(['taille', 'age', 'weight', 'sex', 'largeur_d_epaule',\n",
       "       'largeur_des_hanches', 'largeur_du_bassin', 'profondeur_de_poitrine',\n",
       "       'hauteur_de_poitrine', 'tour_de_coude', 'tour_de_poignet',\n",
       "       'hauteur_des_genoux', 'tour_de_cheville', 'tour_d_epaule',\n",
       "       'tour_de_poitrine', 'tour_de_taille', 'tour_de_ventre_maximal',\n",
       "       'tour_de_hanches_haut', 'tour_de_cuisse', 'tour_de_biceps',\n",
       "       'tour_d_avant_bras', 'tour_de_genou', 'tour_de_mollet',\n",
       "       'longueur_du_bras', 'profondeur_des_aisselles', 'longueur_du_dos',\n",
       "       'tour_de_poitrine_mesure_a_la_main', 'hauteur_d_entrejambe',\n",
       "       'longueur_avant', 'tour_de_tête', 'hauteur_des_hanches', 'tour_du_cou',\n",
       "       'longueur_du_cou_au_genou', 'angle_de_l_epaule', 'hauteur_des_epaules',\n",
       "       'largeur_des_epaules_a_l_horizontales', 'longueur_du_côte',\n",
       "       'longueur_de_la_colonne_vertebrale_jusqu_au_poignet',\n",
       "       'longueur_du_tronc', 'longueur_de_sous_poitrine',\n",
       "       'largeur_de_la_taille', 'hauteur_de_la_taille', 'largeur_du_dos',\n",
       "       'longeur_d_avant_bras'],\n",
       "      dtype='object')"
      ]
     },
     "execution_count": 254,
     "metadata": {},
     "output_type": "execute_result"
    }
   ],
   "source": [
    "cleaned_bdims.columns"
   ]
  },
  {
   "cell_type": "code",
   "execution_count": 255,
   "id": "26f61b25-f9d4-4dac-9f33-e0b3c66fd736",
   "metadata": {
    "execution": {
     "iopub.execute_input": "2025-07-30T13:31:40.566439Z",
     "iopub.status.busy": "2025-07-30T13:31:40.565378Z",
     "iopub.status.idle": "2025-07-30T13:31:40.655280Z",
     "shell.execute_reply": "2025-07-30T13:31:40.653276Z",
     "shell.execute_reply.started": "2025-07-30T13:31:40.566439Z"
    }
   },
   "outputs": [],
   "source": [
    "caesar_df=pd.read_csv('data/caesar.csv', encoding='cp1252', sep=';')\n",
    "cleaned_caesar=pd.DataFrame()"
   ]
  },
  {
   "cell_type": "code",
   "execution_count": 256,
   "id": "5d7af21f-bd69-4771-9a78-78613786b901",
   "metadata": {
    "execution": {
     "iopub.execute_input": "2025-07-30T13:31:40.657293Z",
     "iopub.status.busy": "2025-07-30T13:31:40.657293Z",
     "iopub.status.idle": "2025-07-30T13:31:40.671358Z",
     "shell.execute_reply": "2025-07-30T13:31:40.669362Z",
     "shell.execute_reply.started": "2025-07-30T13:31:40.657293Z"
    }
   },
   "outputs": [],
   "source": [
    "cleaned_caesar[\"taille\"]=caesar_df[\"height\"]*2.54"
   ]
  },
  {
   "cell_type": "code",
   "execution_count": 257,
   "id": "c5d73f93-e366-4aff-84c3-99e1b577f820",
   "metadata": {
    "execution": {
     "iopub.execute_input": "2025-07-30T13:31:40.674882Z",
     "iopub.status.busy": "2025-07-30T13:31:40.673876Z",
     "iopub.status.idle": "2025-07-30T13:31:40.686404Z",
     "shell.execute_reply": "2025-07-30T13:31:40.684405Z",
     "shell.execute_reply.started": "2025-07-30T13:31:40.674882Z"
    }
   },
   "outputs": [],
   "source": [
    "cleaned_caesar[\"age\"]=caesar_df[\"age\"]"
   ]
  },
  {
   "cell_type": "code",
   "execution_count": 258,
   "id": "eaf2e94b-49d0-46f3-9696-1f67e3443ce9",
   "metadata": {
    "execution": {
     "iopub.execute_input": "2025-07-30T13:31:40.690404Z",
     "iopub.status.busy": "2025-07-30T13:31:40.689402Z",
     "iopub.status.idle": "2025-07-30T13:31:40.703533Z",
     "shell.execute_reply": "2025-07-30T13:31:40.700472Z",
     "shell.execute_reply.started": "2025-07-30T13:31:40.690404Z"
    }
   },
   "outputs": [],
   "source": [
    "cleaned_caesar[\"weight\"]=caesar_df[\"weight\"]*0.453592"
   ]
  },
  {
   "cell_type": "code",
   "execution_count": 259,
   "id": "00b97c00-7751-43ca-90c0-f4008a0e5683",
   "metadata": {
    "execution": {
     "iopub.execute_input": "2025-07-30T13:31:40.706533Z",
     "iopub.status.busy": "2025-07-30T13:31:40.705533Z",
     "iopub.status.idle": "2025-07-30T13:31:40.733643Z",
     "shell.execute_reply": "2025-07-30T13:31:40.731588Z",
     "shell.execute_reply.started": "2025-07-30T13:31:40.706533Z"
    }
   },
   "outputs": [],
   "source": [
    "caesar_df[\"gender\"] = caesar_df[\"gender\"].map({\"male\": 1, \"female\": 0})"
   ]
  },
  {
   "cell_type": "code",
   "execution_count": 260,
   "id": "5103f698-d6b8-456f-b191-12b5fad169e4",
   "metadata": {
    "execution": {
     "iopub.execute_input": "2025-07-30T13:31:40.736234Z",
     "iopub.status.busy": "2025-07-30T13:31:40.734642Z",
     "iopub.status.idle": "2025-07-30T13:31:40.749846Z",
     "shell.execute_reply": "2025-07-30T13:31:40.746848Z",
     "shell.execute_reply.started": "2025-07-30T13:31:40.736234Z"
    }
   },
   "outputs": [],
   "source": [
    "cleaned_caesar[\"sex\"]=caesar_df[\"gender\"]"
   ]
  },
  {
   "cell_type": "code",
   "execution_count": 261,
   "id": "2dfb8588-f224-4208-9e88-b4581ed52ad8",
   "metadata": {
    "execution": {
     "iopub.execute_input": "2025-07-30T13:31:40.754363Z",
     "iopub.status.busy": "2025-07-30T13:31:40.750842Z",
     "iopub.status.idle": "2025-07-30T13:31:40.781330Z",
     "shell.execute_reply": "2025-07-30T13:31:40.778320Z",
     "shell.execute_reply.started": "2025-07-30T13:31:40.754363Z"
    }
   },
   "outputs": [],
   "source": [
    "cleaned_caesar[\"tour_de_cheville\"]=caesar_df[\"ankle_circum\"]*2.54"
   ]
  },
  {
   "cell_type": "code",
   "execution_count": 262,
   "id": "9fbf008a-e1c9-423c-8135-c25fa1b8121f",
   "metadata": {
    "execution": {
     "iopub.execute_input": "2025-07-30T13:31:40.783414Z",
     "iopub.status.busy": "2025-07-30T13:31:40.783414Z",
     "iopub.status.idle": "2025-07-30T13:31:40.811482Z",
     "shell.execute_reply": "2025-07-30T13:31:40.809481Z",
     "shell.execute_reply.started": "2025-07-30T13:31:40.783414Z"
    }
   },
   "outputs": [],
   "source": [
    "cleaned_caesar[\"longueur_du_bras\"]=caesar_df[\"arm_len_shoulder_wrist\"]*2.54"
   ]
  },
  {
   "cell_type": "code",
   "execution_count": 263,
   "id": "b4545024-e22c-41ca-b326-a82cafdd99be",
   "metadata": {
    "execution": {
     "iopub.execute_input": "2025-07-30T13:31:40.815746Z",
     "iopub.status.busy": "2025-07-30T13:31:40.813738Z",
     "iopub.status.idle": "2025-07-30T13:31:40.842346Z",
     "shell.execute_reply": "2025-07-30T13:31:40.839342Z",
     "shell.execute_reply.started": "2025-07-30T13:31:40.815746Z"
    }
   },
   "outputs": [],
   "source": [
    "cleaned_caesar[\"largeur_du_dos\"]=0"
   ]
  },
  {
   "cell_type": "code",
   "execution_count": 264,
   "id": "df045831-c16b-4754-b3ca-f4fb373997f6",
   "metadata": {
    "execution": {
     "iopub.execute_input": "2025-07-30T13:31:40.844874Z",
     "iopub.status.busy": "2025-07-30T13:31:40.843884Z",
     "iopub.status.idle": "2025-07-30T13:31:40.857407Z",
     "shell.execute_reply": "2025-07-30T13:31:40.854398Z",
     "shell.execute_reply.started": "2025-07-30T13:31:40.844874Z"
    }
   },
   "outputs": [],
   "source": [
    "cleaned_caesar[\"tour_de_ventre_maximal\"]=0"
   ]
  },
  {
   "cell_type": "code",
   "execution_count": 265,
   "id": "e3b9aa15-04a0-4510-af7c-c4e7083ff161",
   "metadata": {
    "execution": {
     "iopub.execute_input": "2025-07-30T13:31:40.861397Z",
     "iopub.status.busy": "2025-07-30T13:31:40.859398Z",
     "iopub.status.idle": "2025-07-30T13:31:40.888135Z",
     "shell.execute_reply": "2025-07-30T13:31:40.885131Z",
     "shell.execute_reply.started": "2025-07-30T13:31:40.861397Z"
    }
   },
   "outputs": [],
   "source": [
    "cleaned_caesar[\"tour_de_poitrine\"]=caesar_df[\"chest_circum\"]*2.54"
   ]
  },
  {
   "cell_type": "code",
   "execution_count": 266,
   "id": "31a5c6e3-e848-4e7e-ad76-d36867f00fb8",
   "metadata": {
    "execution": {
     "iopub.execute_input": "2025-07-30T13:31:40.894286Z",
     "iopub.status.busy": "2025-07-30T13:31:40.891135Z",
     "iopub.status.idle": "2025-07-30T13:31:40.917866Z",
     "shell.execute_reply": "2025-07-30T13:31:40.915866Z",
     "shell.execute_reply.started": "2025-07-30T13:31:40.893270Z"
    }
   },
   "outputs": [],
   "source": [
    "cleaned_caesar[\"tour_de_poitrine_mesure_a_la_main\"]=caesar_df[\"bra_size_chest\"]*2.54"
   ]
  },
  {
   "cell_type": "code",
   "execution_count": 267,
   "id": "95c239d9-53b6-46c8-aa24-81872f91ed8a",
   "metadata": {
    "execution": {
     "iopub.execute_input": "2025-07-30T13:31:40.920864Z",
     "iopub.status.busy": "2025-07-30T13:31:40.919867Z",
     "iopub.status.idle": "2025-07-30T13:31:40.934801Z",
     "shell.execute_reply": "2025-07-30T13:31:40.931395Z",
     "shell.execute_reply.started": "2025-07-30T13:31:40.920864Z"
    }
   },
   "outputs": [],
   "source": [
    "cleaned_caesar[\"hauteur_de_poitrine\"]=caesar_df[\"chest_height\"]*2.54"
   ]
  },
  {
   "cell_type": "code",
   "execution_count": 268,
   "id": "46e8bed0-7256-473e-9eca-d4ead3980e99",
   "metadata": {
    "execution": {
     "iopub.execute_input": "2025-07-30T13:31:40.939366Z",
     "iopub.status.busy": "2025-07-30T13:31:40.937370Z",
     "iopub.status.idle": "2025-07-30T13:31:40.964898Z",
     "shell.execute_reply": "2025-07-30T13:31:40.962417Z",
     "shell.execute_reply.started": "2025-07-30T13:31:40.939366Z"
    }
   },
   "outputs": [],
   "source": [
    "cleaned_caesar[\"hauteur_d_entrejambe\"]=caesar_df[\"jean_inseam\"]*2.54"
   ]
  },
  {
   "cell_type": "code",
   "execution_count": 269,
   "id": "de7da753-687c-4c40-a7ca-9aaa7ea4c6a3",
   "metadata": {
    "execution": {
     "iopub.execute_input": "2025-07-30T13:31:40.969874Z",
     "iopub.status.busy": "2025-07-30T13:31:40.967879Z",
     "iopub.status.idle": "2025-07-30T13:31:40.995470Z",
     "shell.execute_reply": "2025-07-30T13:31:40.992457Z",
     "shell.execute_reply.started": "2025-07-30T13:31:40.969874Z"
    }
   },
   "outputs": [],
   "source": [
    "cleaned_caesar[\"longueur_avant\"]=0"
   ]
  },
  {
   "cell_type": "code",
   "execution_count": 270,
   "id": "6bb440af-3004-49f7-92f1-06cadbf95cee",
   "metadata": {
    "execution": {
     "iopub.execute_input": "2025-07-30T13:31:40.998471Z",
     "iopub.status.busy": "2025-07-30T13:31:40.997473Z",
     "iopub.status.idle": "2025-07-30T13:31:41.027724Z",
     "shell.execute_reply": "2025-07-30T13:31:41.023720Z",
     "shell.execute_reply.started": "2025-07-30T13:31:40.998471Z"
    }
   },
   "outputs": [],
   "source": [
    "cleaned_caesar[\"largeur_des_hanches\"]=0"
   ]
  },
  {
   "cell_type": "code",
   "execution_count": 271,
   "id": "6b4a7c03-649b-43a0-8ee4-654dbeb91517",
   "metadata": {
    "execution": {
     "iopub.execute_input": "2025-07-30T13:31:41.062403Z",
     "iopub.status.busy": "2025-07-30T13:31:41.060887Z",
     "iopub.status.idle": "2025-07-30T13:31:41.087512Z",
     "shell.execute_reply": "2025-07-30T13:31:41.084495Z",
     "shell.execute_reply.started": "2025-07-30T13:31:41.062403Z"
    }
   },
   "outputs": [],
   "source": [
    "cleaned_caesar[\"hauteur_des_hanches\"]=caesar_df[\"hip_height\"]*2.54"
   ]
  },
  {
   "cell_type": "code",
   "execution_count": 272,
   "id": "673af7aa-cc32-4bc2-aec7-f51ea9262e09",
   "metadata": {
    "execution": {
     "iopub.execute_input": "2025-07-30T13:31:41.093037Z",
     "iopub.status.busy": "2025-07-30T13:31:41.090511Z",
     "iopub.status.idle": "2025-07-30T13:31:41.117974Z",
     "shell.execute_reply": "2025-07-30T13:31:41.115965Z",
     "shell.execute_reply.started": "2025-07-30T13:31:41.093037Z"
    }
   },
   "outputs": [],
   "source": [
    "cleaned_caesar[\"hauteur_des_genoux\"]=caesar_df[\"knee_height\"]*2.54"
   ]
  },
  {
   "cell_type": "code",
   "execution_count": 273,
   "id": "b00f834b-f3a0-4eee-82bd-34fc6dcbf522",
   "metadata": {
    "execution": {
     "iopub.execute_input": "2025-07-30T13:31:41.120971Z",
     "iopub.status.busy": "2025-07-30T13:31:41.120971Z",
     "iopub.status.idle": "2025-07-30T13:31:41.151122Z",
     "shell.execute_reply": "2025-07-30T13:31:41.147115Z",
     "shell.execute_reply.started": "2025-07-30T13:31:41.120971Z"
    }
   },
   "outputs": [],
   "source": [
    "cleaned_caesar[\"tour_du_cou\"]=caesar_df[\"neck_circum_base\"]*2.54"
   ]
  },
  {
   "cell_type": "code",
   "execution_count": 274,
   "id": "c5c55ab8-b534-4923-919f-53724ff71ac0",
   "metadata": {
    "execution": {
     "iopub.execute_input": "2025-07-30T13:31:41.154657Z",
     "iopub.status.busy": "2025-07-30T13:31:41.153656Z",
     "iopub.status.idle": "2025-07-30T13:31:41.180847Z",
     "shell.execute_reply": "2025-07-30T13:31:41.177808Z",
     "shell.execute_reply.started": "2025-07-30T13:31:41.154657Z"
    }
   },
   "outputs": [],
   "source": [
    "cleaned_caesar[\"largeur_d_epaule\"]=caesar_df[\"biacromial_breadth\"]*2.54"
   ]
  },
  {
   "cell_type": "code",
   "execution_count": 275,
   "id": "46b466ed-2c45-4334-aeba-9e83f5d3aba3",
   "metadata": {
    "execution": {
     "iopub.execute_input": "2025-07-30T13:31:41.184420Z",
     "iopub.status.busy": "2025-07-30T13:31:41.183419Z",
     "iopub.status.idle": "2025-07-30T13:31:41.212513Z",
     "shell.execute_reply": "2025-07-30T13:31:41.209490Z",
     "shell.execute_reply.started": "2025-07-30T13:31:41.184420Z"
    }
   },
   "outputs": [],
   "source": [
    "cleaned_caesar[\"hauteur_des_epaules\"]=caesar_df[\"acromion_height\"]*2.54"
   ]
  },
  {
   "cell_type": "code",
   "execution_count": 276,
   "id": "c9d74c52-50ab-4acd-984c-69bff6039e4c",
   "metadata": {
    "execution": {
     "iopub.execute_input": "2025-07-30T13:31:41.215761Z",
     "iopub.status.busy": "2025-07-30T13:31:41.214160Z",
     "iopub.status.idle": "2025-07-30T13:31:41.244325Z",
     "shell.execute_reply": "2025-07-30T13:31:41.240784Z",
     "shell.execute_reply.started": "2025-07-30T13:31:41.215761Z"
    }
   },
   "outputs": [],
   "source": [
    "cleaned_caesar[\"largeur_des_epaules_a_l_horizontales\"]=caesar_df[\"bideltoid_breadth\"]*2.54"
   ]
  },
  {
   "cell_type": "code",
   "execution_count": 277,
   "id": "ebd69ea7-11b6-41b3-86f3-d5f0b18f5e11",
   "metadata": {
    "execution": {
     "iopub.execute_input": "2025-07-30T13:31:41.247312Z",
     "iopub.status.busy": "2025-07-30T13:31:41.246318Z",
     "iopub.status.idle": "2025-07-30T13:31:41.276589Z",
     "shell.execute_reply": "2025-07-30T13:31:41.272572Z",
     "shell.execute_reply.started": "2025-07-30T13:31:41.247312Z"
    }
   },
   "outputs": [],
   "source": [
    "cleaned_caesar[\"longueur_de_la_colonne_vertebrale_jusqu_au_poignet\"]=caesar_df[\"sleeve_outseam\"]*2.54"
   ]
  },
  {
   "cell_type": "code",
   "execution_count": 278,
   "id": "cd3dfcdf-af4a-4a8c-bf2d-aaec673f4065",
   "metadata": {
    "execution": {
     "iopub.execute_input": "2025-07-30T13:31:41.279592Z",
     "iopub.status.busy": "2025-07-30T13:31:41.278592Z",
     "iopub.status.idle": "2025-07-30T13:31:41.305223Z",
     "shell.execute_reply": "2025-07-30T13:31:41.303221Z",
     "shell.execute_reply.started": "2025-07-30T13:31:41.279592Z"
    }
   },
   "outputs": [],
   "source": [
    "cleaned_caesar[\"tour_de_cuisse\"]=caesar_df[\"thigh_circum_proximal\"]*2.54"
   ]
  },
  {
   "cell_type": "code",
   "execution_count": 279,
   "id": "c72122cc-254c-4ab7-9016-605edd431b98",
   "metadata": {
    "execution": {
     "iopub.execute_input": "2025-07-30T13:31:41.309220Z",
     "iopub.status.busy": "2025-07-30T13:31:41.308228Z",
     "iopub.status.idle": "2025-07-30T13:31:41.337909Z",
     "shell.execute_reply": "2025-07-30T13:31:41.335383Z",
     "shell.execute_reply.started": "2025-07-30T13:31:41.309220Z"
    }
   },
   "outputs": [],
   "source": [
    "cleaned_caesar[\"tour_de_taille\"]=caesar_df[\"waist_circum_preferred\"]*2.54"
   ]
  },
  {
   "cell_type": "code",
   "execution_count": 280,
   "id": "12aec337-90c2-4940-8dd6-4bca7b494b85",
   "metadata": {
    "execution": {
     "iopub.execute_input": "2025-07-30T13:31:41.344453Z",
     "iopub.status.busy": "2025-07-30T13:31:41.340917Z",
     "iopub.status.idle": "2025-07-30T13:31:41.370550Z",
     "shell.execute_reply": "2025-07-30T13:31:41.367554Z",
     "shell.execute_reply.started": "2025-07-30T13:31:41.344453Z"
    }
   },
   "outputs": [],
   "source": [
    "cleaned_caesar[\"hauteur_de_la_taille\"]=caesar_df[\"waist_height_preferred\"]*2.54"
   ]
  },
  {
   "cell_type": "code",
   "execution_count": 281,
   "id": "cd54426b-8bb1-4c4d-8428-7c34fb44c241",
   "metadata": {
    "execution": {
     "iopub.execute_input": "2025-07-30T13:31:41.376072Z",
     "iopub.status.busy": "2025-07-30T13:31:41.374076Z",
     "iopub.status.idle": "2025-07-30T13:31:41.400981Z",
     "shell.execute_reply": "2025-07-30T13:31:41.398984Z",
     "shell.execute_reply.started": "2025-07-30T13:31:41.376072Z"
    }
   },
   "outputs": [],
   "source": [
    "cleaned_caesar[\"profondeur_des_aisselles\"]=0"
   ]
  },
  {
   "cell_type": "code",
   "execution_count": 282,
   "id": "c7f9cd31-0cec-4b82-9d75-17fcf2d152e6",
   "metadata": {
    "execution": {
     "iopub.execute_input": "2025-07-30T13:31:41.404507Z",
     "iopub.status.busy": "2025-07-30T13:31:41.403507Z",
     "iopub.status.idle": "2025-07-30T13:31:41.432659Z",
     "shell.execute_reply": "2025-07-30T13:31:41.430152Z",
     "shell.execute_reply.started": "2025-07-30T13:31:41.404507Z"
    }
   },
   "outputs": [],
   "source": [
    "cleaned_caesar[\"longueur_du_dos\"]=0"
   ]
  },
  {
   "cell_type": "code",
   "execution_count": 283,
   "id": "29276b45-6996-4883-93b1-751e32d787e7",
   "metadata": {
    "execution": {
     "iopub.execute_input": "2025-07-30T13:31:41.435685Z",
     "iopub.status.busy": "2025-07-30T13:31:41.434692Z",
     "iopub.status.idle": "2025-07-30T13:31:41.463073Z",
     "shell.execute_reply": "2025-07-30T13:31:41.461512Z",
     "shell.execute_reply.started": "2025-07-30T13:31:41.435685Z"
    }
   },
   "outputs": [],
   "source": [
    "cleaned_caesar[\"tour_de_biceps\"]=0"
   ]
  },
  {
   "cell_type": "code",
   "execution_count": 284,
   "id": "9dc9aefd-1149-4d69-8bea-17ab915c00fc",
   "metadata": {
    "execution": {
     "iopub.execute_input": "2025-07-30T13:31:41.467072Z",
     "iopub.status.busy": "2025-07-30T13:31:41.467072Z",
     "iopub.status.idle": "2025-07-30T13:31:41.496657Z",
     "shell.execute_reply": "2025-07-30T13:31:41.492642Z",
     "shell.execute_reply.started": "2025-07-30T13:31:41.467072Z"
    }
   },
   "outputs": [],
   "source": [
    "cleaned_caesar[\"tour_de_mollet\"]=0"
   ]
  },
  {
   "cell_type": "code",
   "execution_count": 285,
   "id": "69100642-d553-4bb9-88e0-3620a6b53e5f",
   "metadata": {
    "execution": {
     "iopub.execute_input": "2025-07-30T13:31:41.500674Z",
     "iopub.status.busy": "2025-07-30T13:31:41.500674Z",
     "iopub.status.idle": "2025-07-30T13:31:41.526273Z",
     "shell.execute_reply": "2025-07-30T13:31:41.524273Z",
     "shell.execute_reply.started": "2025-07-30T13:31:41.500674Z"
    }
   },
   "outputs": [],
   "source": [
    "cleaned_caesar[\"tour_de_coude\"]=0"
   ]
  },
  {
   "cell_type": "code",
   "execution_count": 286,
   "id": "f8cee990-244a-443f-8e0c-0866cf96bca2",
   "metadata": {
    "execution": {
     "iopub.execute_input": "2025-07-30T13:31:41.534679Z",
     "iopub.status.busy": "2025-07-30T13:31:41.530270Z",
     "iopub.status.idle": "2025-07-30T13:31:41.559259Z",
     "shell.execute_reply": "2025-07-30T13:31:41.556273Z",
     "shell.execute_reply.started": "2025-07-30T13:31:41.533662Z"
    }
   },
   "outputs": [],
   "source": [
    "cleaned_caesar[\"tour_d_avant_bras\"]=0"
   ]
  },
  {
   "cell_type": "code",
   "execution_count": 287,
   "id": "f343ae0b-f666-49ad-80ab-f1e4eb045984",
   "metadata": {
    "execution": {
     "iopub.execute_input": "2025-07-30T13:31:41.565545Z",
     "iopub.status.busy": "2025-07-30T13:31:41.564542Z",
     "iopub.status.idle": "2025-07-30T13:31:41.594890Z",
     "shell.execute_reply": "2025-07-30T13:31:41.587349Z",
     "shell.execute_reply.started": "2025-07-30T13:31:41.565545Z"
    }
   },
   "outputs": [],
   "source": [
    "cleaned_caesar[\"tour_de_tête\"]=0"
   ]
  },
  {
   "cell_type": "code",
   "execution_count": 288,
   "id": "8c6e43f5-8ddd-41d7-8ef2-c284e13f43ed",
   "metadata": {
    "execution": {
     "iopub.execute_input": "2025-07-30T13:31:41.598889Z",
     "iopub.status.busy": "2025-07-30T13:31:41.597888Z",
     "iopub.status.idle": "2025-07-30T13:31:41.619979Z",
     "shell.execute_reply": "2025-07-30T13:31:41.617986Z",
     "shell.execute_reply.started": "2025-07-30T13:31:41.598889Z"
    }
   },
   "outputs": [],
   "source": [
    "cleaned_caesar[\"tour_de_hanches_haut\"]=0"
   ]
  },
  {
   "cell_type": "code",
   "execution_count": 289,
   "id": "9c4a3bc9-8fb8-4743-8831-aec2c8ed2323",
   "metadata": {
    "execution": {
     "iopub.execute_input": "2025-07-30T13:31:41.623526Z",
     "iopub.status.busy": "2025-07-30T13:31:41.622511Z",
     "iopub.status.idle": "2025-07-30T13:31:41.637078Z",
     "shell.execute_reply": "2025-07-30T13:31:41.633061Z",
     "shell.execute_reply.started": "2025-07-30T13:31:41.623526Z"
    }
   },
   "outputs": [],
   "source": [
    "cleaned_caesar[\"tour_de_genou\"]=0"
   ]
  },
  {
   "cell_type": "code",
   "execution_count": 290,
   "id": "53f2af48-97e6-4c31-8f71-6590d26683da",
   "metadata": {
    "execution": {
     "iopub.execute_input": "2025-07-30T13:31:41.642607Z",
     "iopub.status.busy": "2025-07-30T13:31:41.639610Z",
     "iopub.status.idle": "2025-07-30T13:31:41.667236Z",
     "shell.execute_reply": "2025-07-30T13:31:41.664217Z",
     "shell.execute_reply.started": "2025-07-30T13:31:41.642607Z"
    }
   },
   "outputs": [],
   "source": [
    "cleaned_caesar[\"longueur_du_cou_au_genou\"]=0"
   ]
  },
  {
   "cell_type": "code",
   "execution_count": 291,
   "id": "238b10a7-72d1-4c28-ae8d-5eb3f762a08f",
   "metadata": {
    "execution": {
     "iopub.execute_input": "2025-07-30T13:31:41.670240Z",
     "iopub.status.busy": "2025-07-30T13:31:41.669241Z",
     "iopub.status.idle": "2025-07-30T13:31:41.698214Z",
     "shell.execute_reply": "2025-07-30T13:31:41.695211Z",
     "shell.execute_reply.started": "2025-07-30T13:31:41.670240Z"
    }
   },
   "outputs": [],
   "source": [
    "cleaned_caesar[\"angle_de_l_epaule\"]=0"
   ]
  },
  {
   "cell_type": "code",
   "execution_count": 292,
   "id": "45ca6383-d9cb-4283-84f2-553a842df00f",
   "metadata": {
    "execution": {
     "iopub.execute_input": "2025-07-30T13:31:41.701212Z",
     "iopub.status.busy": "2025-07-30T13:31:41.700238Z",
     "iopub.status.idle": "2025-07-30T13:31:41.713859Z",
     "shell.execute_reply": "2025-07-30T13:31:41.711320Z",
     "shell.execute_reply.started": "2025-07-30T13:31:41.701212Z"
    }
   },
   "outputs": [],
   "source": [
    "cleaned_caesar[\"longueur_du_côte\"]=0"
   ]
  },
  {
   "cell_type": "code",
   "execution_count": 293,
   "id": "6c3e087c-4d28-4030-a9c3-7b515587aed3",
   "metadata": {
    "execution": {
     "iopub.execute_input": "2025-07-30T13:31:41.717858Z",
     "iopub.status.busy": "2025-07-30T13:31:41.716854Z",
     "iopub.status.idle": "2025-07-30T13:31:41.744562Z",
     "shell.execute_reply": "2025-07-30T13:31:41.742539Z",
     "shell.execute_reply.started": "2025-07-30T13:31:41.717858Z"
    }
   },
   "outputs": [],
   "source": [
    "cleaned_caesar[\"longueur_du_tronc\"]=0"
   ]
  },
  {
   "cell_type": "code",
   "execution_count": 294,
   "id": "e479566e-a9ef-4f2b-966b-db4c9bebb97b",
   "metadata": {
    "execution": {
     "iopub.execute_input": "2025-07-30T13:31:41.748555Z",
     "iopub.status.busy": "2025-07-30T13:31:41.747554Z",
     "iopub.status.idle": "2025-07-30T13:31:41.777172Z",
     "shell.execute_reply": "2025-07-30T13:31:41.773166Z",
     "shell.execute_reply.started": "2025-07-30T13:31:41.748555Z"
    }
   },
   "outputs": [],
   "source": [
    "cleaned_caesar[\"longueur_de_sous_poitrine\"]=0"
   ]
  },
  {
   "cell_type": "code",
   "execution_count": 295,
   "id": "e5770df3-98fa-4e7b-af8a-4c5fedcac556",
   "metadata": {
    "execution": {
     "iopub.execute_input": "2025-07-30T13:31:41.780189Z",
     "iopub.status.busy": "2025-07-30T13:31:41.779169Z",
     "iopub.status.idle": "2025-07-30T13:31:41.808343Z",
     "shell.execute_reply": "2025-07-30T13:31:41.805341Z",
     "shell.execute_reply.started": "2025-07-30T13:31:41.780189Z"
    }
   },
   "outputs": [],
   "source": [
    "cleaned_caesar[\"largeur_de_la_taille\"]=0"
   ]
  },
  {
   "cell_type": "code",
   "execution_count": 296,
   "id": "75992761-f5f3-46b6-9e0b-ad3bd9492025",
   "metadata": {
    "execution": {
     "iopub.execute_input": "2025-07-30T13:31:41.811340Z",
     "iopub.status.busy": "2025-07-30T13:31:41.810336Z",
     "iopub.status.idle": "2025-07-30T13:31:41.823370Z",
     "shell.execute_reply": "2025-07-30T13:31:41.820822Z",
     "shell.execute_reply.started": "2025-07-30T13:31:41.811340Z"
    }
   },
   "outputs": [],
   "source": [
    "cleaned_caesar[\"tour_de_poignet\"]=0"
   ]
  },
  {
   "cell_type": "code",
   "execution_count": 297,
   "id": "a153f53c-aae1-43bf-ab92-8c5f6c6ac254",
   "metadata": {
    "execution": {
     "iopub.execute_input": "2025-07-30T13:31:41.827367Z",
     "iopub.status.busy": "2025-07-30T13:31:41.826379Z",
     "iopub.status.idle": "2025-07-30T13:31:41.839168Z",
     "shell.execute_reply": "2025-07-30T13:31:41.837151Z",
     "shell.execute_reply.started": "2025-07-30T13:31:41.827367Z"
    }
   },
   "outputs": [],
   "source": [
    "cleaned_caesar[\"largeur_du_bassin\"]=0"
   ]
  },
  {
   "cell_type": "code",
   "execution_count": 298,
   "id": "5c4ca035-e2fa-4c92-9021-c5e373f89bb7",
   "metadata": {
    "execution": {
     "iopub.execute_input": "2025-07-30T13:31:41.843707Z",
     "iopub.status.busy": "2025-07-30T13:31:41.843707Z",
     "iopub.status.idle": "2025-07-30T13:31:41.855259Z",
     "shell.execute_reply": "2025-07-30T13:31:41.852237Z",
     "shell.execute_reply.started": "2025-07-30T13:31:41.843707Z"
    }
   },
   "outputs": [],
   "source": [
    "cleaned_caesar[\"profondeur_de_poitrine\"]=0"
   ]
  },
  {
   "cell_type": "code",
   "execution_count": 299,
   "id": "6156257d-3084-4e24-90e3-290b4b8c437d",
   "metadata": {
    "execution": {
     "iopub.execute_input": "2025-07-30T13:31:41.862255Z",
     "iopub.status.busy": "2025-07-30T13:31:41.860263Z",
     "iopub.status.idle": "2025-07-30T13:31:41.886852Z",
     "shell.execute_reply": "2025-07-30T13:31:41.883840Z",
     "shell.execute_reply.started": "2025-07-30T13:31:41.862255Z"
    }
   },
   "outputs": [],
   "source": [
    "cleaned_caesar[\"tour_d_epaule\"]=0"
   ]
  },
  {
   "cell_type": "code",
   "execution_count": 305,
   "id": "2b0144a9-e0cd-4edf-92f3-a83464f6ade7",
   "metadata": {
    "execution": {
     "iopub.execute_input": "2025-07-30T17:56:02.183269Z",
     "iopub.status.busy": "2025-07-30T17:56:02.171256Z",
     "iopub.status.idle": "2025-07-30T17:56:02.274432Z",
     "shell.execute_reply": "2025-07-30T17:56:02.272390Z",
     "shell.execute_reply.started": "2025-07-30T17:56:02.183269Z"
    }
   },
   "outputs": [],
   "source": [
    "cleaned_caesar[\"longueur_d_avant_bras\"]=caesar_df[\"radial_stylion_len\"]*2.54"
   ]
  },
  {
   "cell_type": "code",
   "execution_count": 306,
   "id": "b0911ebe-4016-4e38-81cb-18cd674c960d",
   "metadata": {
    "execution": {
     "iopub.execute_input": "2025-07-30T17:56:05.677781Z",
     "iopub.status.busy": "2025-07-30T17:56:05.675714Z",
     "iopub.status.idle": "2025-07-30T17:56:05.959727Z",
     "shell.execute_reply": "2025-07-30T17:56:05.958720Z",
     "shell.execute_reply.started": "2025-07-30T17:56:05.677781Z"
    }
   },
   "outputs": [
    {
     "data": {
      "text/html": [
       "<div>\n",
       "<style scoped>\n",
       "    .dataframe tbody tr th:only-of-type {\n",
       "        vertical-align: middle;\n",
       "    }\n",
       "\n",
       "    .dataframe tbody tr th {\n",
       "        vertical-align: top;\n",
       "    }\n",
       "\n",
       "    .dataframe thead th {\n",
       "        text-align: right;\n",
       "    }\n",
       "</style>\n",
       "<table border=\"1\" class=\"dataframe\">\n",
       "  <thead>\n",
       "    <tr style=\"text-align: right;\">\n",
       "      <th></th>\n",
       "      <th>taille</th>\n",
       "      <th>age</th>\n",
       "      <th>weight</th>\n",
       "      <th>sex</th>\n",
       "      <th>tour_de_cheville</th>\n",
       "      <th>longueur_du_bras</th>\n",
       "      <th>largeur_du_dos</th>\n",
       "      <th>tour_de_ventre_maximal</th>\n",
       "      <th>tour_de_poitrine</th>\n",
       "      <th>tour_de_poitrine_mesure_a_la_main</th>\n",
       "      <th>...</th>\n",
       "      <th>angle_de_l_epaule</th>\n",
       "      <th>longueur_du_côte</th>\n",
       "      <th>longueur_du_tronc</th>\n",
       "      <th>longueur_de_sous_poitrine</th>\n",
       "      <th>largeur_de_la_taille</th>\n",
       "      <th>tour_de_poignet</th>\n",
       "      <th>largeur_du_bassin</th>\n",
       "      <th>profondeur_de_poitrine</th>\n",
       "      <th>tour_d_epaule</th>\n",
       "      <th>longueur_d_avant_bras</th>\n",
       "    </tr>\n",
       "  </thead>\n",
       "  <tbody>\n",
       "    <tr>\n",
       "      <th>count</th>\n",
       "      <td>4458.000000</td>\n",
       "      <td>4452.000000</td>\n",
       "      <td>4458.000000</td>\n",
       "      <td>4459.000000</td>\n",
       "      <td>4458.000000</td>\n",
       "      <td>4452.000000</td>\n",
       "      <td>4465.0</td>\n",
       "      <td>4465.0</td>\n",
       "      <td>4457.000000</td>\n",
       "      <td>2139.000000</td>\n",
       "      <td>...</td>\n",
       "      <td>4465.0</td>\n",
       "      <td>4465.0</td>\n",
       "      <td>4465.0</td>\n",
       "      <td>4465.0</td>\n",
       "      <td>4465.0</td>\n",
       "      <td>4465.0</td>\n",
       "      <td>4465.0</td>\n",
       "      <td>4465.0</td>\n",
       "      <td>4465.0</td>\n",
       "      <td>4330.000000</td>\n",
       "    </tr>\n",
       "    <tr>\n",
       "      <th>mean</th>\n",
       "      <td>170.933197</td>\n",
       "      <td>37.788971</td>\n",
       "      <td>75.180081</td>\n",
       "      <td>0.472527</td>\n",
       "      <td>25.352163</td>\n",
       "      <td>61.074922</td>\n",
       "      <td>0.0</td>\n",
       "      <td>0.0</td>\n",
       "      <td>98.635648</td>\n",
       "      <td>91.024385</td>\n",
       "      <td>...</td>\n",
       "      <td>0.0</td>\n",
       "      <td>0.0</td>\n",
       "      <td>0.0</td>\n",
       "      <td>0.0</td>\n",
       "      <td>0.0</td>\n",
       "      <td>0.0</td>\n",
       "      <td>0.0</td>\n",
       "      <td>0.0</td>\n",
       "      <td>0.0</td>\n",
       "      <td>24.995732</td>\n",
       "    </tr>\n",
       "    <tr>\n",
       "      <th>std</th>\n",
       "      <td>10.377478</td>\n",
       "      <td>12.785712</td>\n",
       "      <td>18.439671</td>\n",
       "      <td>0.499301</td>\n",
       "      <td>2.007630</td>\n",
       "      <td>4.467474</td>\n",
       "      <td>0.0</td>\n",
       "      <td>0.0</td>\n",
       "      <td>11.818823</td>\n",
       "      <td>6.902016</td>\n",
       "      <td>...</td>\n",
       "      <td>0.0</td>\n",
       "      <td>0.0</td>\n",
       "      <td>0.0</td>\n",
       "      <td>0.0</td>\n",
       "      <td>0.0</td>\n",
       "      <td>0.0</td>\n",
       "      <td>0.0</td>\n",
       "      <td>0.0</td>\n",
       "      <td>0.0</td>\n",
       "      <td>2.045719</td>\n",
       "    </tr>\n",
       "    <tr>\n",
       "      <th>min</th>\n",
       "      <td>124.790200</td>\n",
       "      <td>17.500000</td>\n",
       "      <td>37.298870</td>\n",
       "      <td>0.000000</td>\n",
       "      <td>18.999200</td>\n",
       "      <td>40.894000</td>\n",
       "      <td>0.0</td>\n",
       "      <td>0.0</td>\n",
       "      <td>73.304400</td>\n",
       "      <td>81.280000</td>\n",
       "      <td>...</td>\n",
       "      <td>0.0</td>\n",
       "      <td>0.0</td>\n",
       "      <td>0.0</td>\n",
       "      <td>0.0</td>\n",
       "      <td>0.0</td>\n",
       "      <td>0.0</td>\n",
       "      <td>0.0</td>\n",
       "      <td>0.0</td>\n",
       "      <td>0.0</td>\n",
       "      <td>18.961100</td>\n",
       "    </tr>\n",
       "    <tr>\n",
       "      <th>25%</th>\n",
       "      <td>163.322000</td>\n",
       "      <td>26.500000</td>\n",
       "      <td>61.905102</td>\n",
       "      <td>0.000000</td>\n",
       "      <td>23.799800</td>\n",
       "      <td>57.810400</td>\n",
       "      <td>0.0</td>\n",
       "      <td>0.0</td>\n",
       "      <td>90.093800</td>\n",
       "      <td>86.360000</td>\n",
       "      <td>...</td>\n",
       "      <td>0.0</td>\n",
       "      <td>0.0</td>\n",
       "      <td>0.0</td>\n",
       "      <td>0.0</td>\n",
       "      <td>0.0</td>\n",
       "      <td>0.0</td>\n",
       "      <td>0.0</td>\n",
       "      <td>0.0</td>\n",
       "      <td>0.0</td>\n",
       "      <td>23.482300</td>\n",
       "    </tr>\n",
       "    <tr>\n",
       "      <th>50%</th>\n",
       "      <td>170.408600</td>\n",
       "      <td>37.000000</td>\n",
       "      <td>72.121128</td>\n",
       "      <td>0.000000</td>\n",
       "      <td>25.196800</td>\n",
       "      <td>60.909200</td>\n",
       "      <td>0.0</td>\n",
       "      <td>0.0</td>\n",
       "      <td>96.799400</td>\n",
       "      <td>91.440000</td>\n",
       "      <td>...</td>\n",
       "      <td>0.0</td>\n",
       "      <td>0.0</td>\n",
       "      <td>0.0</td>\n",
       "      <td>0.0</td>\n",
       "      <td>0.0</td>\n",
       "      <td>0.0</td>\n",
       "      <td>0.0</td>\n",
       "      <td>0.0</td>\n",
       "      <td>0.0</td>\n",
       "      <td>24.923750</td>\n",
       "    </tr>\n",
       "    <tr>\n",
       "      <th>75%</th>\n",
       "      <td>177.876200</td>\n",
       "      <td>48.000000</td>\n",
       "      <td>84.973657</td>\n",
       "      <td>1.000000</td>\n",
       "      <td>26.797000</td>\n",
       "      <td>64.109600</td>\n",
       "      <td>0.0</td>\n",
       "      <td>0.0</td>\n",
       "      <td>105.206800</td>\n",
       "      <td>96.520000</td>\n",
       "      <td>...</td>\n",
       "      <td>0.0</td>\n",
       "      <td>0.0</td>\n",
       "      <td>0.0</td>\n",
       "      <td>0.0</td>\n",
       "      <td>0.0</td>\n",
       "      <td>0.0</td>\n",
       "      <td>0.0</td>\n",
       "      <td>0.0</td>\n",
       "      <td>0.0</td>\n",
       "      <td>26.377900</td>\n",
       "    </tr>\n",
       "    <tr>\n",
       "      <th>max</th>\n",
       "      <td>218.287600</td>\n",
       "      <td>79.000000</td>\n",
       "      <td>181.436800</td>\n",
       "      <td>1.000000</td>\n",
       "      <td>36.703000</td>\n",
       "      <td>80.391000</td>\n",
       "      <td>0.0</td>\n",
       "      <td>0.0</td>\n",
       "      <td>157.403800</td>\n",
       "      <td>116.840000</td>\n",
       "      <td>...</td>\n",
       "      <td>0.0</td>\n",
       "      <td>0.0</td>\n",
       "      <td>0.0</td>\n",
       "      <td>0.0</td>\n",
       "      <td>0.0</td>\n",
       "      <td>0.0</td>\n",
       "      <td>0.0</td>\n",
       "      <td>0.0</td>\n",
       "      <td>0.0</td>\n",
       "      <td>34.264600</td>\n",
       "    </tr>\n",
       "  </tbody>\n",
       "</table>\n",
       "<p>8 rows × 44 columns</p>\n",
       "</div>"
      ],
      "text/plain": [
       "            taille          age       weight          sex  tour_de_cheville  \\\n",
       "count  4458.000000  4452.000000  4458.000000  4459.000000       4458.000000   \n",
       "mean    170.933197    37.788971    75.180081     0.472527         25.352163   \n",
       "std      10.377478    12.785712    18.439671     0.499301          2.007630   \n",
       "min     124.790200    17.500000    37.298870     0.000000         18.999200   \n",
       "25%     163.322000    26.500000    61.905102     0.000000         23.799800   \n",
       "50%     170.408600    37.000000    72.121128     0.000000         25.196800   \n",
       "75%     177.876200    48.000000    84.973657     1.000000         26.797000   \n",
       "max     218.287600    79.000000   181.436800     1.000000         36.703000   \n",
       "\n",
       "       longueur_du_bras  largeur_du_dos  tour_de_ventre_maximal  \\\n",
       "count       4452.000000          4465.0                  4465.0   \n",
       "mean          61.074922             0.0                     0.0   \n",
       "std            4.467474             0.0                     0.0   \n",
       "min           40.894000             0.0                     0.0   \n",
       "25%           57.810400             0.0                     0.0   \n",
       "50%           60.909200             0.0                     0.0   \n",
       "75%           64.109600             0.0                     0.0   \n",
       "max           80.391000             0.0                     0.0   \n",
       "\n",
       "       tour_de_poitrine  tour_de_poitrine_mesure_a_la_main  ...  \\\n",
       "count       4457.000000                        2139.000000  ...   \n",
       "mean          98.635648                          91.024385  ...   \n",
       "std           11.818823                           6.902016  ...   \n",
       "min           73.304400                          81.280000  ...   \n",
       "25%           90.093800                          86.360000  ...   \n",
       "50%           96.799400                          91.440000  ...   \n",
       "75%          105.206800                          96.520000  ...   \n",
       "max          157.403800                         116.840000  ...   \n",
       "\n",
       "       angle_de_l_epaule  longueur_du_côte  longueur_du_tronc  \\\n",
       "count             4465.0            4465.0             4465.0   \n",
       "mean                 0.0               0.0                0.0   \n",
       "std                  0.0               0.0                0.0   \n",
       "min                  0.0               0.0                0.0   \n",
       "25%                  0.0               0.0                0.0   \n",
       "50%                  0.0               0.0                0.0   \n",
       "75%                  0.0               0.0                0.0   \n",
       "max                  0.0               0.0                0.0   \n",
       "\n",
       "       longueur_de_sous_poitrine  largeur_de_la_taille  tour_de_poignet  \\\n",
       "count                     4465.0                4465.0           4465.0   \n",
       "mean                         0.0                   0.0              0.0   \n",
       "std                          0.0                   0.0              0.0   \n",
       "min                          0.0                   0.0              0.0   \n",
       "25%                          0.0                   0.0              0.0   \n",
       "50%                          0.0                   0.0              0.0   \n",
       "75%                          0.0                   0.0              0.0   \n",
       "max                          0.0                   0.0              0.0   \n",
       "\n",
       "       largeur_du_bassin  profondeur_de_poitrine  tour_d_epaule  \\\n",
       "count             4465.0                  4465.0         4465.0   \n",
       "mean                 0.0                     0.0            0.0   \n",
       "std                  0.0                     0.0            0.0   \n",
       "min                  0.0                     0.0            0.0   \n",
       "25%                  0.0                     0.0            0.0   \n",
       "50%                  0.0                     0.0            0.0   \n",
       "75%                  0.0                     0.0            0.0   \n",
       "max                  0.0                     0.0            0.0   \n",
       "\n",
       "       longueur_d_avant_bras  \n",
       "count            4330.000000  \n",
       "mean               24.995732  \n",
       "std                 2.045719  \n",
       "min                18.961100  \n",
       "25%                23.482300  \n",
       "50%                24.923750  \n",
       "75%                26.377900  \n",
       "max                34.264600  \n",
       "\n",
       "[8 rows x 44 columns]"
      ]
     },
     "execution_count": 306,
     "metadata": {},
     "output_type": "execute_result"
    }
   ],
   "source": [
    "cleaned_caesar.describe()"
   ]
  },
  {
   "cell_type": "code",
   "execution_count": 307,
   "id": "c760cffb-725e-44d3-b72a-0c263711b170",
   "metadata": {
    "execution": {
     "iopub.execute_input": "2025-07-30T17:56:09.505790Z",
     "iopub.status.busy": "2025-07-30T17:56:09.504814Z",
     "iopub.status.idle": "2025-07-30T17:56:09.525048Z",
     "shell.execute_reply": "2025-07-30T17:56:09.522036Z",
     "shell.execute_reply.started": "2025-07-30T17:56:09.505790Z"
    }
   },
   "outputs": [
    {
     "data": {
      "text/plain": [
       "Index(['taille', 'age', 'weight', 'sex', 'tour_de_cheville',\n",
       "       'longueur_du_bras', 'largeur_du_dos', 'tour_de_ventre_maximal',\n",
       "       'tour_de_poitrine', 'tour_de_poitrine_mesure_a_la_main',\n",
       "       'hauteur_de_poitrine', 'hauteur_d_entrejambe', 'longueur_avant',\n",
       "       'largeur_des_hanches', 'hauteur_des_hanches', 'hauteur_des_genoux',\n",
       "       'tour_du_cou', 'largeur_d_epaule', 'hauteur_des_epaules',\n",
       "       'largeur_des_epaules_a_l_horizontales',\n",
       "       'longueur_de_la_colonne_vertebrale_jusqu_au_poignet', 'tour_de_cuisse',\n",
       "       'tour_de_taille', 'hauteur_de_la_taille', 'profondeur_des_aisselles',\n",
       "       'longueur_du_dos', 'tour_de_biceps', 'tour_de_mollet', 'tour_de_coude',\n",
       "       'tour_d_avant_bras', 'tour_de_tête', 'tour_de_hanches_haut',\n",
       "       'tour_de_genou', 'longueur_du_cou_au_genou', 'angle_de_l_epaule',\n",
       "       'longueur_du_côte', 'longueur_du_tronc', 'longueur_de_sous_poitrine',\n",
       "       'largeur_de_la_taille', 'tour_de_poignet', 'largeur_du_bassin',\n",
       "       'profondeur_de_poitrine', 'tour_d_epaule', 'longueur_d_avant_bras'],\n",
       "      dtype='object')"
      ]
     },
     "execution_count": 307,
     "metadata": {},
     "output_type": "execute_result"
    }
   ],
   "source": [
    "cleaned_caesar.columns"
   ]
  },
  {
   "cell_type": "code",
   "execution_count": 308,
   "id": "6e6dd786-97a9-4921-a261-1878b735d8f3",
   "metadata": {
    "execution": {
     "iopub.execute_input": "2025-07-30T17:56:13.498190Z",
     "iopub.status.busy": "2025-07-30T17:56:13.498190Z",
     "iopub.status.idle": "2025-07-30T17:56:13.767462Z",
     "shell.execute_reply": "2025-07-30T17:56:13.765478Z",
     "shell.execute_reply.started": "2025-07-30T17:56:13.498190Z"
    }
   },
   "outputs": [],
   "source": [
    "cleaned_caesar.to_csv('data/caesar_fr.csv', encoding='utf-8', sep=';', index=False)"
   ]
  },
  {
   "cell_type": "code",
   "execution_count": 304,
   "id": "a2d1cba4-ad55-4320-9182-0be2b6a2059a",
   "metadata": {
    "execution": {
     "iopub.execute_input": "2025-07-30T13:31:42.394178Z",
     "iopub.status.busy": "2025-07-30T13:31:42.391636Z",
     "iopub.status.idle": "2025-07-30T13:31:43.399320Z",
     "shell.execute_reply": "2025-07-30T13:31:43.398411Z",
     "shell.execute_reply.started": "2025-07-30T13:31:42.394178Z"
    }
   },
   "outputs": [
    {
     "name": "stdout",
     "output_type": "stream",
     "text": [
      "Nombre de colonnes en commun : 43\n",
      "\n",
      "\n",
      "=== Mesure : age ===\n",
      "       ANSUR II MALE  ANSUR II FEMALE  BDIMS MALE  BDIMS FEMALE  CAESAR MALE  \\\n",
      "count    4082.000000      1986.000000  247.000000    260.000000  2102.000000   \n",
      "mean       30.158991        28.943605   31.668016     28.769231    37.538297   \n",
      "std         8.810118         8.332078   10.151450      8.853190    12.763015   \n",
      "min        17.000000        17.000000   18.000000     18.000000    17.500000   \n",
      "25%        23.000000        22.000000   24.000000     22.000000    26.200000   \n",
      "50%        28.000000        27.000000   29.000000     26.000000    37.000000   \n",
      "75%        36.000000        34.000000   37.000000     34.000000    47.000000   \n",
      "max        58.000000        58.000000   65.000000     67.000000    79.000000   \n",
      "\n",
      "       CAESAR FEMALE  \n",
      "count    2350.000000  \n",
      "mean       38.013191  \n",
      "std        12.804536  \n",
      "min        18.000000  \n",
      "25%        27.000000  \n",
      "50%        37.000000  \n",
      "75%        48.000000  \n",
      "max        69.000000  \n",
      "\n",
      "\n",
      "=== Mesure : angle_de_l_epaule ===\n",
      "       ANSUR II MALE  ANSUR II FEMALE  BDIMS MALE  BDIMS FEMALE  CAESAR MALE  \\\n",
      "count         4082.0           1986.0       247.0         260.0       2107.0   \n",
      "mean             0.0              0.0         0.0           0.0          0.0   \n",
      "std              0.0              0.0         0.0           0.0          0.0   \n",
      "min              0.0              0.0         0.0           0.0          0.0   \n",
      "25%              0.0              0.0         0.0           0.0          0.0   \n",
      "50%              0.0              0.0         0.0           0.0          0.0   \n",
      "75%              0.0              0.0         0.0           0.0          0.0   \n",
      "max              0.0              0.0         0.0           0.0          0.0   \n",
      "\n",
      "       CAESAR FEMALE  \n",
      "count         2352.0  \n",
      "mean             0.0  \n",
      "std              0.0  \n",
      "min              0.0  \n",
      "25%              0.0  \n",
      "50%              0.0  \n",
      "75%              0.0  \n",
      "max              0.0  \n",
      "\n",
      "\n",
      "=== Mesure : hauteur_d_entrejambe ===\n",
      "       ANSUR II MALE  ANSUR II FEMALE  BDIMS MALE  BDIMS FEMALE  CAESAR MALE  \\\n",
      "count    4082.000000      1986.000000       247.0         260.0  2101.000000   \n",
      "mean       84.592994        78.231722         0.0           0.0    81.218259   \n",
      "std         4.649916         4.463674         0.0           0.0     5.702633   \n",
      "min        70.200000        61.000000         0.0           0.0    38.989000   \n",
      "25%        81.400000        75.300000         0.0           0.0    77.292200   \n",
      "50%        84.500000        78.000000         0.0           0.0    80.899000   \n",
      "75%        87.600000        81.200000         0.0           0.0    84.810600   \n",
      "max       103.100000        94.700000         0.0           0.0   104.698800   \n",
      "\n",
      "       CAESAR FEMALE  \n",
      "count    2346.000000  \n",
      "mean       76.133068  \n",
      "std         5.106528  \n",
      "min        59.004200  \n",
      "25%        72.491600  \n",
      "50%        75.996800  \n",
      "75%        79.502000  \n",
      "max        96.291400  \n",
      "\n",
      "\n",
      "=== Mesure : hauteur_de_la_taille ===\n",
      "       ANSUR II MALE  ANSUR II FEMALE  BDIMS MALE  BDIMS FEMALE  CAESAR MALE  \\\n",
      "count    4082.000000      1986.000000       247.0         260.0  2106.000000   \n",
      "mean      105.648530        98.014904         0.0           0.0   104.425720   \n",
      "std         5.215467         5.002271         0.0           0.0     6.134137   \n",
      "min        87.600000        80.500000         0.0           0.0    67.995800   \n",
      "25%       102.000000        94.700000         0.0           0.0   100.406200   \n",
      "50%       105.500000        97.750000         0.0           0.0   103.987600   \n",
      "75%       109.000000       101.300000         0.0           0.0   108.204000   \n",
      "max       124.500000       114.200000         0.0           0.0   138.201400   \n",
      "\n",
      "       CAESAR FEMALE  \n",
      "count    2349.000000  \n",
      "mean      101.008307  \n",
      "std         5.934245  \n",
      "min        63.703200  \n",
      "25%        96.901000  \n",
      "50%       100.990400  \n",
      "75%       105.003600  \n",
      "max       125.704600  \n",
      "\n",
      "\n",
      "=== Mesure : hauteur_de_poitrine ===\n",
      "       ANSUR II MALE  ANSUR II FEMALE  BDIMS MALE  BDIMS FEMALE  CAESAR MALE  \\\n",
      "count    4082.000000      1986.000000       247.0         260.0  2054.000000   \n",
      "mean      129.111857       117.163646         0.0           0.0   128.796549   \n",
      "std         5.695670         5.549983         0.0           0.0     6.802525   \n",
      "min       108.800000        98.400000         0.0           0.0   103.403400   \n",
      "25%       125.225000       113.400000         0.0           0.0   124.206000   \n",
      "50%       128.900000       116.900000         0.0           0.0   128.397000   \n",
      "75%       132.900000       120.900000         0.0           0.0   133.197600   \n",
      "max       150.600000       135.500000         0.0           0.0   158.445200   \n",
      "\n",
      "       CAESAR FEMALE  \n",
      "count    2275.000000  \n",
      "mean      118.360785  \n",
      "std         6.439505  \n",
      "min        98.806000  \n",
      "25%       113.995200  \n",
      "50%       118.211600  \n",
      "75%       122.593100  \n",
      "max       145.999200  \n",
      "\n",
      "\n",
      "=== Mesure : hauteur_des_epaules ===\n",
      "       ANSUR II MALE  ANSUR II FEMALE  BDIMS MALE  BDIMS FEMALE  CAESAR MALE  \\\n",
      "count         4082.0           1986.0       247.0         260.0  2054.000000   \n",
      "mean             0.0              0.0         0.0           0.0   145.862530   \n",
      "std              0.0              0.0         0.0           0.0     7.558021   \n",
      "min              0.0              0.0         0.0           0.0   120.192800   \n",
      "25%              0.0              0.0         0.0           0.0   140.725525   \n",
      "50%              0.0              0.0         0.0           0.0   145.592800   \n",
      "75%              0.0              0.0         0.0           0.0   150.698200   \n",
      "max              0.0              0.0         0.0           0.0   179.768500   \n",
      "\n",
      "       CAESAR FEMALE  \n",
      "count    2273.000000  \n",
      "mean      134.809673  \n",
      "std         6.717473  \n",
      "min       113.207800  \n",
      "25%       130.302000  \n",
      "50%       134.696200  \n",
      "75%       138.988800  \n",
      "max       160.896300  \n",
      "\n",
      "\n",
      "=== Mesure : hauteur_des_genoux ===\n",
      "       ANSUR II MALE  ANSUR II FEMALE  BDIMS MALE  BDIMS FEMALE  CAESAR MALE  \\\n",
      "count    4082.000000      1986.000000       247.0         260.0  2053.000000   \n",
      "mean       48.838805        44.904935         0.0           0.0    49.597886   \n",
      "std         2.812620         2.599166         0.0           0.0     3.048260   \n",
      "min        39.700000        34.600000         0.0           0.0    39.497000   \n",
      "25%        46.900000        43.200000         0.0           0.0    47.498000   \n",
      "50%        48.700000        44.800000         0.0           0.0    49.453800   \n",
      "75%        50.700000        46.600000         0.0           0.0    51.600100   \n",
      "max        61.200000        54.000000         0.0           0.0    64.350900   \n",
      "\n",
      "       CAESAR FEMALE  \n",
      "count    2273.000000  \n",
      "mean       44.635611  \n",
      "std         2.673869  \n",
      "min        35.890200  \n",
      "25%        42.799000  \n",
      "50%        44.513500  \n",
      "75%        46.355000  \n",
      "max        55.600600  \n",
      "\n",
      "\n",
      "=== Mesure : hauteur_des_hanches ===\n",
      "       ANSUR II MALE  ANSUR II FEMALE  BDIMS MALE  BDIMS FEMALE  CAESAR MALE  \\\n",
      "count    4082.000000      1986.000000       247.0         260.0  2104.000000   \n",
      "mean      106.162935        99.572508         0.0           0.0    88.149034   \n",
      "std         5.201542         4.968500         0.0           0.0     5.928195   \n",
      "min        85.400000        81.600000         0.0           0.0    43.205400   \n",
      "25%       102.800000        96.325000         0.0           0.0    84.201000   \n",
      "50%       106.100000        99.300000         0.0           0.0    88.011000   \n",
      "75%       109.500000       102.800000         0.0           0.0    91.795600   \n",
      "max       125.300000       116.300000         0.0           0.0   108.204000   \n",
      "\n",
      "       CAESAR FEMALE  \n",
      "count    2348.000000  \n",
      "mean       81.197482  \n",
      "std         5.752059  \n",
      "min        65.405000  \n",
      "25%        77.089000  \n",
      "50%        80.797400  \n",
      "75%        84.607400  \n",
      "max       103.403400  \n",
      "\n",
      "\n",
      "=== Mesure : largeur_d_epaule ===\n",
      "       ANSUR II MALE  ANSUR II FEMALE  BDIMS MALE  BDIMS FEMALE  CAESAR MALE  \\\n",
      "count    4082.000000      1986.000000       247.0         260.0  2052.000000   \n",
      "mean       41.567565        36.534894         0.0           0.0    41.485936   \n",
      "std         1.916165         1.829885         0.0           0.0     2.403755   \n",
      "min        33.700000        28.300000         0.0           0.0    33.147000   \n",
      "25%        40.300000        35.300000         0.0           0.0    39.801800   \n",
      "50%        41.500000        36.500000         0.0           0.0    41.478200   \n",
      "75%        42.800000        37.800000         0.0           0.0    43.027600   \n",
      "max        48.900000        42.200000         0.0           0.0    50.165000   \n",
      "\n",
      "       CAESAR FEMALE  \n",
      "count    2272.000000  \n",
      "mean       37.230620  \n",
      "std         2.170358  \n",
      "min        30.530800  \n",
      "25%        35.712400  \n",
      "50%        37.198300  \n",
      "75%        38.658800  \n",
      "max        45.669200  \n",
      "\n",
      "\n",
      "=== Mesure : largeur_de_la_taille ===\n",
      "       ANSUR II MALE  ANSUR II FEMALE  BDIMS MALE  BDIMS FEMALE  CAESAR MALE  \\\n",
      "count    4082.000000      1986.000000       247.0         260.0       2107.0   \n",
      "mean       32.643729        29.989426         0.0           0.0          0.0   \n",
      "std         3.473809         3.295911         0.0           0.0          0.0   \n",
      "min        23.200000        21.100000         0.0           0.0          0.0   \n",
      "25%        30.100000        27.600000         0.0           0.0          0.0   \n",
      "50%        32.500000        29.800000         0.0           0.0          0.0   \n",
      "75%        35.000000        32.100000         0.0           0.0          0.0   \n",
      "max        45.900000        46.100000         0.0           0.0          0.0   \n",
      "\n",
      "       CAESAR FEMALE  \n",
      "count         2352.0  \n",
      "mean             0.0  \n",
      "std              0.0  \n",
      "min              0.0  \n",
      "25%              0.0  \n",
      "50%              0.0  \n",
      "75%              0.0  \n",
      "max              0.0  \n",
      "\n",
      "\n",
      "=== Mesure : largeur_des_epaules_a_l_horizontales ===\n",
      "       ANSUR II MALE  ANSUR II FEMALE  BDIMS MALE  BDIMS FEMALE  CAESAR MALE  \\\n",
      "count    4082.000000      1986.000000       247.0         260.0  2104.000000   \n",
      "mean       51.042479        45.032427         0.0           0.0    48.210359   \n",
      "std         3.250563         2.868742         0.0           0.0     3.616818   \n",
      "min        37.400000        35.700000         0.0           0.0    37.795200   \n",
      "25%        48.900000        43.000000         0.0           0.0    45.694600   \n",
      "50%        50.900000        45.000000         0.0           0.0    47.904400   \n",
      "75%        53.100000        46.900000         0.0           0.0    50.292000   \n",
      "max        63.700000        55.800000         0.0           0.0    65.811400   \n",
      "\n",
      "       CAESAR FEMALE  \n",
      "count    2350.000000  \n",
      "mean       42.604123  \n",
      "std         3.342537  \n",
      "min        34.594800  \n",
      "25%        40.411400  \n",
      "50%        42.189400  \n",
      "75%        44.196000  \n",
      "max        61.493400  \n",
      "\n",
      "\n",
      "=== Mesure : largeur_des_hanches ===\n",
      "       ANSUR II MALE  ANSUR II FEMALE  BDIMS MALE  BDIMS FEMALE  CAESAR MALE  \\\n",
      "count    4082.000000      1986.000000       247.0         260.0       2107.0   \n",
      "mean       34.573322        35.383686         0.0           0.0          0.0   \n",
      "std         2.416531         2.666969         0.0           0.0          0.0   \n",
      "min        26.400000        27.600000         0.0           0.0          0.0   \n",
      "25%        32.925000        33.600000         0.0           0.0          0.0   \n",
      "50%        34.400000        35.300000         0.0           0.0          0.0   \n",
      "75%        36.100000        37.000000         0.0           0.0          0.0   \n",
      "max        45.200000        47.300000         0.0           0.0          0.0   \n",
      "\n",
      "       CAESAR FEMALE  \n",
      "count         2352.0  \n",
      "mean             0.0  \n",
      "std              0.0  \n",
      "min              0.0  \n",
      "25%              0.0  \n",
      "50%              0.0  \n",
      "75%              0.0  \n",
      "max              0.0  \n",
      "\n",
      "\n",
      "=== Mesure : largeur_du_bassin ===\n",
      "       ANSUR II MALE  ANSUR II FEMALE  BDIMS MALE  BDIMS FEMALE  CAESAR MALE  \\\n",
      "count         4082.0           1986.0  247.000000    260.000000       2107.0   \n",
      "mean             0.0              0.0   32.526721     31.461538          0.0   \n",
      "std              0.0              0.0    1.865131      2.049179          0.0   \n",
      "min              0.0              0.0   27.500000     24.700000          0.0   \n",
      "25%              0.0              0.0   31.400000     30.000000          0.0   \n",
      "50%              0.0              0.0   32.400000     31.500000          0.0   \n",
      "75%              0.0              0.0   33.800000     32.900000          0.0   \n",
      "max              0.0              0.0   38.000000     37.800000          0.0   \n",
      "\n",
      "       CAESAR FEMALE  \n",
      "count         2352.0  \n",
      "mean             0.0  \n",
      "std              0.0  \n",
      "min              0.0  \n",
      "25%              0.0  \n",
      "50%              0.0  \n",
      "75%              0.0  \n",
      "max              0.0  \n",
      "\n",
      "\n",
      "=== Mesure : largeur_du_dos ===\n",
      "       ANSUR II MALE  ANSUR II FEMALE  BDIMS MALE  BDIMS FEMALE  CAESAR MALE  \\\n",
      "count    4082.000000      1986.000000       247.0         260.0       2107.0   \n",
      "mean       41.567565        36.534894         0.0           0.0          0.0   \n",
      "std         1.916165         1.829885         0.0           0.0          0.0   \n",
      "min        33.700000        28.300000         0.0           0.0          0.0   \n",
      "25%        40.300000        35.300000         0.0           0.0          0.0   \n",
      "50%        41.500000        36.500000         0.0           0.0          0.0   \n",
      "75%        42.800000        37.800000         0.0           0.0          0.0   \n",
      "max        48.900000        42.200000         0.0           0.0          0.0   \n",
      "\n",
      "       CAESAR FEMALE  \n",
      "count         2352.0  \n",
      "mean             0.0  \n",
      "std              0.0  \n",
      "min              0.0  \n",
      "25%              0.0  \n",
      "50%              0.0  \n",
      "75%              0.0  \n",
      "max              0.0  \n",
      "\n",
      "\n",
      "=== Mesure : longueur_avant ===\n",
      "       ANSUR II MALE  ANSUR II FEMALE  BDIMS MALE  BDIMS FEMALE  CAESAR MALE  \\\n",
      "count    4082.000000      1986.000000       247.0         260.0       2107.0   \n",
      "mean       34.901029        31.771198         0.0           0.0          0.0   \n",
      "std         1.801510         1.802491         0.0           0.0          0.0   \n",
      "min        29.000000        25.800000         0.0           0.0          0.0   \n",
      "25%        33.700000        30.600000         0.0           0.0          0.0   \n",
      "50%        34.850000        31.600000         0.0           0.0          0.0   \n",
      "75%        36.100000        32.900000         0.0           0.0          0.0   \n",
      "max        41.600000        39.200000         0.0           0.0          0.0   \n",
      "\n",
      "       CAESAR FEMALE  \n",
      "count         2352.0  \n",
      "mean             0.0  \n",
      "std              0.0  \n",
      "min              0.0  \n",
      "25%              0.0  \n",
      "50%              0.0  \n",
      "75%              0.0  \n",
      "max              0.0  \n",
      "\n",
      "\n",
      "=== Mesure : longueur_de_la_colonne_vertebrale_jusqu_au_poignet ===\n",
      "       ANSUR II MALE  ANSUR II FEMALE  BDIMS MALE  BDIMS FEMALE  CAESAR MALE  \\\n",
      "count    4082.000000       1986.00000       247.0         260.0  2054.000000   \n",
      "mean       89.584713         80.66853         0.0           0.0    58.414713   \n",
      "std         4.022022          3.79124         0.0           0.0     3.273438   \n",
      "min        73.200000         63.60000         0.0           0.0    46.405800   \n",
      "25%        86.800000         78.20000         0.0           0.0    56.248300   \n",
      "50%        89.500000         80.50000         0.0           0.0    58.267600   \n",
      "75%        92.200000         83.00000         0.0           0.0    60.490100   \n",
      "max       105.800000         93.00000         0.0           0.0    74.168000   \n",
      "\n",
      "       CAESAR FEMALE  \n",
      "count    2272.000000  \n",
      "mean       52.821592  \n",
      "std         2.945164  \n",
      "min        43.053000  \n",
      "25%        50.800000  \n",
      "50%        52.755800  \n",
      "75%        54.702075  \n",
      "max        63.360300  \n",
      "\n",
      "\n",
      "=== Mesure : longueur_de_sous_poitrine ===\n",
      "       ANSUR II MALE  ANSUR II FEMALE  BDIMS MALE  BDIMS FEMALE  CAESAR MALE  \\\n",
      "count         4082.0           1986.0       247.0         260.0       2107.0   \n",
      "mean             0.0              0.0         0.0           0.0          0.0   \n",
      "std              0.0              0.0         0.0           0.0          0.0   \n",
      "min              0.0              0.0         0.0           0.0          0.0   \n",
      "25%              0.0              0.0         0.0           0.0          0.0   \n",
      "50%              0.0              0.0         0.0           0.0          0.0   \n",
      "75%              0.0              0.0         0.0           0.0          0.0   \n",
      "max              0.0              0.0         0.0           0.0          0.0   \n",
      "\n",
      "       CAESAR FEMALE  \n",
      "count         2352.0  \n",
      "mean             0.0  \n",
      "std              0.0  \n",
      "min              0.0  \n",
      "25%              0.0  \n",
      "50%              0.0  \n",
      "75%              0.0  \n",
      "max              0.0  \n",
      "\n",
      "\n",
      "=== Mesure : longueur_du_bras ===\n",
      "       ANSUR II MALE  ANSUR II FEMALE  BDIMS MALE  BDIMS FEMALE  CAESAR MALE  \\\n",
      "count         4082.0           1986.0       247.0         260.0  2104.000000   \n",
      "mean             0.0              0.0         0.0           0.0    64.139418   \n",
      "std              0.0              0.0         0.0           0.0     3.591747   \n",
      "min              0.0              0.0         0.0           0.0    40.894000   \n",
      "25%              0.0              0.0         0.0           0.0    61.798200   \n",
      "50%              0.0              0.0         0.0           0.0    64.008000   \n",
      "75%              0.0              0.0         0.0           0.0    66.395600   \n",
      "max              0.0              0.0         0.0           0.0    80.391000   \n",
      "\n",
      "       CAESAR FEMALE  \n",
      "count    2348.000000  \n",
      "mean       58.328882  \n",
      "std         3.213723  \n",
      "min        46.202600  \n",
      "25%        56.210200  \n",
      "50%        58.191400  \n",
      "75%        60.401200  \n",
      "max        70.891400  \n",
      "\n",
      "\n",
      "=== Mesure : longueur_du_cou_au_genou ===\n",
      "       ANSUR II MALE  ANSUR II FEMALE  BDIMS MALE  BDIMS FEMALE  CAESAR MALE  \\\n",
      "count    4082.000000      1986.000000       247.0         260.0       2107.0   \n",
      "mean       61.795345        59.059466         0.0           0.0          0.0   \n",
      "std         3.058865         3.260167         0.0           0.0          0.0   \n",
      "min        51.800000        46.600000         0.0           0.0          0.0   \n",
      "25%        59.700000        56.900000         0.0           0.0          0.0   \n",
      "50%        61.700000        58.900000         0.0           0.0          0.0   \n",
      "75%        63.900000        61.000000         0.0           0.0          0.0   \n",
      "max        73.600000        70.900000         0.0           0.0          0.0   \n",
      "\n",
      "       CAESAR FEMALE  \n",
      "count         2352.0  \n",
      "mean             0.0  \n",
      "std              0.0  \n",
      "min              0.0  \n",
      "25%              0.0  \n",
      "50%              0.0  \n",
      "75%              0.0  \n",
      "max              0.0  \n",
      "\n",
      "\n",
      "=== Mesure : longueur_du_côte ===\n",
      "       ANSUR II MALE  ANSUR II FEMALE  BDIMS MALE  BDIMS FEMALE  CAESAR MALE  \\\n",
      "count         4082.0           1986.0       247.0         260.0       2107.0   \n",
      "mean             0.0              0.0         0.0           0.0          0.0   \n",
      "std              0.0              0.0         0.0           0.0          0.0   \n",
      "min              0.0              0.0         0.0           0.0          0.0   \n",
      "25%              0.0              0.0         0.0           0.0          0.0   \n",
      "50%              0.0              0.0         0.0           0.0          0.0   \n",
      "75%              0.0              0.0         0.0           0.0          0.0   \n",
      "max              0.0              0.0         0.0           0.0          0.0   \n",
      "\n",
      "       CAESAR FEMALE  \n",
      "count         2352.0  \n",
      "mean             0.0  \n",
      "std              0.0  \n",
      "min              0.0  \n",
      "25%              0.0  \n",
      "50%              0.0  \n",
      "75%              0.0  \n",
      "max              0.0  \n",
      "\n",
      "\n",
      "=== Mesure : longueur_du_dos ===\n",
      "       ANSUR II MALE  ANSUR II FEMALE  BDIMS MALE  BDIMS FEMALE  CAESAR MALE  \\\n",
      "count    4082.000000      1986.000000       247.0         260.0       2107.0   \n",
      "mean       47.761244        42.540282         0.0           0.0          0.0   \n",
      "std         2.772829         2.638895         0.0           0.0          0.0   \n",
      "min        38.300000        34.500000         0.0           0.0          0.0   \n",
      "25%        45.925000        40.700000         0.0           0.0          0.0   \n",
      "50%        47.700000        42.450000         0.0           0.0          0.0   \n",
      "75%        49.500000        44.200000         0.0           0.0          0.0   \n",
      "max        59.800000        53.200000         0.0           0.0          0.0   \n",
      "\n",
      "       CAESAR FEMALE  \n",
      "count         2352.0  \n",
      "mean             0.0  \n",
      "std              0.0  \n",
      "min              0.0  \n",
      "25%              0.0  \n",
      "50%              0.0  \n",
      "75%              0.0  \n",
      "max              0.0  \n",
      "\n",
      "\n",
      "=== Mesure : longueur_du_tronc ===\n",
      "       ANSUR II MALE  ANSUR II FEMALE  BDIMS MALE  BDIMS FEMALE  CAESAR MALE  \\\n",
      "count    4082.000000      1986.000000       247.0         260.0       2107.0   \n",
      "mean       91.828981        85.662588         0.0           0.0          0.0   \n",
      "std         3.569818         3.305424         0.0           0.0          0.0   \n",
      "min        79.000000        75.000000         0.0           0.0          0.0   \n",
      "25%        89.425000        83.400000         0.0           0.0          0.0   \n",
      "50%        91.800000        85.700000         0.0           0.0          0.0   \n",
      "75%        94.300000        87.900000         0.0           0.0          0.0   \n",
      "max       103.900000        95.300000         0.0           0.0          0.0   \n",
      "\n",
      "       CAESAR FEMALE  \n",
      "count         2352.0  \n",
      "mean             0.0  \n",
      "std              0.0  \n",
      "min              0.0  \n",
      "25%              0.0  \n",
      "50%              0.0  \n",
      "75%              0.0  \n",
      "max              0.0  \n",
      "\n",
      "\n",
      "=== Mesure : profondeur_de_poitrine ===\n",
      "       ANSUR II MALE  ANSUR II FEMALE  BDIMS MALE  BDIMS FEMALE  CAESAR MALE  \\\n",
      "count         4082.0           1986.0  247.000000    260.000000       2107.0   \n",
      "mean             0.0              0.0   20.806478     17.724615          0.0   \n",
      "std              0.0              0.0    2.143633      1.832064          0.0   \n",
      "min              0.0              0.0   14.400000     14.300000          0.0   \n",
      "25%              0.0              0.0   19.350000     16.500000          0.0   \n",
      "50%              0.0              0.0   20.600000     17.500000          0.0   \n",
      "75%              0.0              0.0   22.100000     18.700000          0.0   \n",
      "max              0.0              0.0   27.500000     26.800000          0.0   \n",
      "\n",
      "       CAESAR FEMALE  \n",
      "count         2352.0  \n",
      "mean             0.0  \n",
      "std              0.0  \n",
      "min              0.0  \n",
      "25%              0.0  \n",
      "50%              0.0  \n",
      "75%              0.0  \n",
      "max              0.0  \n",
      "\n",
      "\n",
      "=== Mesure : profondeur_des_aisselles ===\n",
      "       ANSUR II MALE  ANSUR II FEMALE  BDIMS MALE  BDIMS FEMALE  CAESAR MALE  \\\n",
      "count         4082.0           1986.0       247.0         260.0       2107.0   \n",
      "mean             0.0              0.0         0.0           0.0          0.0   \n",
      "std              0.0              0.0         0.0           0.0          0.0   \n",
      "min              0.0              0.0         0.0           0.0          0.0   \n",
      "25%              0.0              0.0         0.0           0.0          0.0   \n",
      "50%              0.0              0.0         0.0           0.0          0.0   \n",
      "75%              0.0              0.0         0.0           0.0          0.0   \n",
      "max              0.0              0.0         0.0           0.0          0.0   \n",
      "\n",
      "       CAESAR FEMALE  \n",
      "count         2352.0  \n",
      "mean             0.0  \n",
      "std              0.0  \n",
      "min              0.0  \n",
      "25%              0.0  \n",
      "50%              0.0  \n",
      "75%              0.0  \n",
      "max              0.0  \n",
      "\n",
      "\n",
      "=== Mesure : sex ===\n",
      "       ANSUR II MALE  ANSUR II FEMALE  BDIMS MALE  BDIMS FEMALE  CAESAR MALE  \\\n",
      "count         4082.0           1986.0       247.0         260.0       2107.0   \n",
      "mean             1.0              0.0         1.0           0.0          1.0   \n",
      "std              0.0              0.0         0.0           0.0          0.0   \n",
      "min              1.0              0.0         1.0           0.0          1.0   \n",
      "25%              1.0              0.0         1.0           0.0          1.0   \n",
      "50%              1.0              0.0         1.0           0.0          1.0   \n",
      "75%              1.0              0.0         1.0           0.0          1.0   \n",
      "max              1.0              0.0         1.0           0.0          1.0   \n",
      "\n",
      "       CAESAR FEMALE  \n",
      "count         2352.0  \n",
      "mean             0.0  \n",
      "std              0.0  \n",
      "min              0.0  \n",
      "25%              0.0  \n",
      "50%              0.0  \n",
      "75%              0.0  \n",
      "max              0.0  \n",
      "\n",
      "\n",
      "=== Mesure : taille ===\n",
      "       ANSUR II MALE  ANSUR II FEMALE  BDIMS MALE  BDIMS FEMALE  CAESAR MALE  \\\n",
      "count    4082.000000      1986.000000  247.000000    260.000000  2106.000000   \n",
      "mean      175.621460       162.847331  177.745344    164.872308   177.913588   \n",
      "std         6.855079         6.419951    7.183629      6.544602     8.431030   \n",
      "min       149.100000       140.900000  157.200000    147.200000   131.495800   \n",
      "25%       171.000000       158.625000  172.900000    160.000000   172.212000   \n",
      "50%       175.500000       162.600000  177.800000    164.500000   177.495200   \n",
      "75%       180.200000       167.200000  182.650000    169.500000   183.311800   \n",
      "max       199.300000       182.900000  198.100000    182.900000   218.287600   \n",
      "\n",
      "       CAESAR FEMALE  \n",
      "count    2352.000000  \n",
      "mean      164.682898  \n",
      "std         7.601709  \n",
      "min       124.790200  \n",
      "25%       159.512000  \n",
      "50%       164.388800  \n",
      "75%       169.595800  \n",
      "max       194.792600  \n",
      "\n",
      "\n",
      "=== Mesure : tour_d_avant_bras ===\n",
      "       ANSUR II MALE  ANSUR II FEMALE  BDIMS MALE  BDIMS FEMALE  CAESAR MALE  \\\n",
      "count    4082.000000      1986.000000  247.000000    260.000000       2107.0   \n",
      "mean       31.005855        26.408157   28.240486     23.760385          0.0   \n",
      "std         2.199099         1.851784    1.779325      1.682251          0.0   \n",
      "min        23.300000        20.000000   22.700000     19.600000          0.0   \n",
      "25%        29.500000        25.100000   27.100000     22.675000          0.0   \n",
      "50%        31.000000        26.300000   28.400000     23.600000          0.0   \n",
      "75%        32.400000        27.600000   29.400000     24.700000          0.0   \n",
      "max        40.200000        34.200000   32.500000     30.800000          0.0   \n",
      "\n",
      "       CAESAR FEMALE  \n",
      "count         2352.0  \n",
      "mean             0.0  \n",
      "std              0.0  \n",
      "min              0.0  \n",
      "25%              0.0  \n",
      "50%              0.0  \n",
      "75%              0.0  \n",
      "max              0.0  \n",
      "\n",
      "\n",
      "=== Mesure : tour_d_epaule ===\n",
      "       ANSUR II MALE  ANSUR II FEMALE  BDIMS MALE  BDIMS FEMALE  CAESAR MALE  \\\n",
      "count         4082.0           1986.0  247.000000    260.000000       2107.0   \n",
      "mean             0.0              0.0  116.501619    100.303846          0.0   \n",
      "std              0.0              0.0    6.498023      6.470598          0.0   \n",
      "min              0.0              0.0  100.200000     85.900000          0.0   \n",
      "25%              0.0              0.0  112.200000     96.100000          0.0   \n",
      "50%              0.0              0.0  116.500000     99.500000          0.0   \n",
      "75%              0.0              0.0  121.000000    103.925000          0.0   \n",
      "max              0.0              0.0  134.800000    129.500000          0.0   \n",
      "\n",
      "       CAESAR FEMALE  \n",
      "count         2352.0  \n",
      "mean             0.0  \n",
      "std              0.0  \n",
      "min              0.0  \n",
      "25%              0.0  \n",
      "50%              0.0  \n",
      "75%              0.0  \n",
      "max              0.0  \n",
      "\n",
      "\n",
      "=== Mesure : tour_de_biceps ===\n",
      "       ANSUR II MALE  ANSUR II FEMALE  BDIMS MALE  BDIMS FEMALE  CAESAR MALE  \\\n",
      "count    4082.000000      1986.000000  247.000000    260.000000       2107.0   \n",
      "mean       35.813572        30.557855   34.403644     28.097308          0.0   \n",
      "std         3.461809         3.075703    2.982037      2.709477          0.0   \n",
      "min        24.600000        21.600000   25.600000     22.400000          0.0   \n",
      "25%        33.500000        28.500000   32.500000     26.400000          0.0   \n",
      "50%        35.700000        30.400000   34.400000     27.800000          0.0   \n",
      "75%        38.000000        32.400000   36.400000     29.800000          0.0   \n",
      "max        49.000000        43.500000   42.400000     40.300000          0.0   \n",
      "\n",
      "       CAESAR FEMALE  \n",
      "count         2352.0  \n",
      "mean             0.0  \n",
      "std              0.0  \n",
      "min              0.0  \n",
      "25%              0.0  \n",
      "50%              0.0  \n",
      "75%              0.0  \n",
      "max              0.0  \n",
      "\n",
      "\n",
      "=== Mesure : tour_de_cheville ===\n",
      "       ANSUR II MALE  ANSUR II FEMALE  BDIMS MALE  BDIMS FEMALE  CAESAR MALE  \\\n",
      "count    4082.000000      1986.000000  247.000000    260.000000  2107.000000   \n",
      "mean       22.934395        21.573968   23.159109     21.205769    26.720221   \n",
      "std         1.464910         1.489176    1.729088      1.438818     1.545217   \n",
      "min        15.600000        17.000000   16.400000     17.400000    22.199600   \n",
      "25%        21.925000        20.500000   22.000000     20.300000    25.704800   \n",
      "50%        22.800000        21.500000   23.000000     21.100000    26.593800   \n",
      "75%        23.900000        22.500000   24.300000     22.000000    27.711400   \n",
      "max        29.300000        27.500000   29.300000     26.000000    36.703000   \n",
      "\n",
      "       CAESAR FEMALE  \n",
      "count    2351.000000  \n",
      "mean       24.126089  \n",
      "std         1.524024  \n",
      "min        18.999200  \n",
      "25%        23.088600  \n",
      "50%        24.003000  \n",
      "75%        24.993600  \n",
      "max        31.800800  \n",
      "\n",
      "\n",
      "=== Mesure : tour_de_coude ===\n",
      "       ANSUR II MALE  ANSUR II FEMALE  BDIMS MALE  BDIMS FEMALE  CAESAR MALE  \\\n",
      "count         4082.0           1986.0  247.000000    260.000000       2107.0   \n",
      "mean             0.0              0.0   14.457085     12.366923          0.0   \n",
      "std              0.0              0.0    0.882543      0.836373          0.0   \n",
      "min              0.0              0.0   12.400000      9.900000          0.0   \n",
      "25%              0.0              0.0   13.800000     11.800000          0.0   \n",
      "50%              0.0              0.0   14.400000     12.400000          0.0   \n",
      "75%              0.0              0.0   15.100000     12.900000          0.0   \n",
      "max              0.0              0.0   16.700000     15.000000          0.0   \n",
      "\n",
      "       CAESAR FEMALE  \n",
      "count         2352.0  \n",
      "mean             0.0  \n",
      "std              0.0  \n",
      "min              0.0  \n",
      "25%              0.0  \n",
      "50%              0.0  \n",
      "75%              0.0  \n",
      "max              0.0  \n",
      "\n",
      "\n",
      "=== Mesure : tour_de_cuisse ===\n",
      "       ANSUR II MALE  ANSUR II FEMALE  BDIMS MALE  BDIMS FEMALE  CAESAR MALE  \\\n",
      "count    4082.000000      1986.000000  247.000000    260.000000  2105.000000   \n",
      "mean       62.514233        61.614854   56.497976     57.195769    59.344186   \n",
      "std         5.845217         5.581030    4.246667      4.636004     5.874585   \n",
      "min        41.200000        44.800000   46.800000     46.300000    43.002200   \n",
      "25%        58.600000        57.900000   53.700000     53.775000    55.499000   \n",
      "50%        62.400000        61.300000   56.000000     56.400000    58.699400   \n",
      "75%        66.200000        65.100000   59.150000     59.800000    62.509400   \n",
      "max        84.300000        87.000000   70.000000     75.700000    94.107000   \n",
      "\n",
      "       CAESAR FEMALE  \n",
      "count    2347.000000  \n",
      "mean       59.917345  \n",
      "std         7.048276  \n",
      "min        41.300400  \n",
      "25%        54.991000  \n",
      "50%        58.801000  \n",
      "75%        63.601600  \n",
      "max       105.689400  \n",
      "\n",
      "\n",
      "=== Mesure : tour_de_genou ===\n",
      "       ANSUR II MALE  ANSUR II FEMALE  BDIMS MALE  BDIMS FEMALE  CAESAR MALE  \\\n",
      "count         4082.0           1986.0  247.000000    260.000000       2107.0   \n",
      "mean             0.0              0.0   37.195547     35.260000          0.0   \n",
      "std              0.0              0.0    2.272999      2.578081          0.0   \n",
      "min              0.0              0.0   31.100000     29.000000          0.0   \n",
      "25%              0.0              0.0   35.750000     33.500000          0.0   \n",
      "50%              0.0              0.0   37.000000     35.000000          0.0   \n",
      "75%              0.0              0.0   38.450000     36.800000          0.0   \n",
      "max              0.0              0.0   45.700000     49.000000          0.0   \n",
      "\n",
      "       CAESAR FEMALE  \n",
      "count         2352.0  \n",
      "mean             0.0  \n",
      "std              0.0  \n",
      "min              0.0  \n",
      "25%              0.0  \n",
      "50%              0.0  \n",
      "75%              0.0  \n",
      "max              0.0  \n",
      "\n",
      "\n",
      "=== Mesure : tour_de_hanches_haut ===\n",
      "       ANSUR II MALE  ANSUR II FEMALE  BDIMS MALE  BDIMS FEMALE  CAESAR MALE  \\\n",
      "count         4082.0           1986.0  247.000000    260.000000       2107.0   \n",
      "mean             0.0              0.0   97.763158     95.652692          0.0   \n",
      "std              0.0              0.0    6.228043      6.940728          0.0   \n",
      "min              0.0              0.0   81.500000     78.800000          0.0   \n",
      "25%              0.0              0.0   93.250000     90.750000          0.0   \n",
      "50%              0.0              0.0   97.400000     94.950000          0.0   \n",
      "75%              0.0              0.0  101.550000     99.500000          0.0   \n",
      "max              0.0              0.0  118.700000    128.300000          0.0   \n",
      "\n",
      "       CAESAR FEMALE  \n",
      "count         2352.0  \n",
      "mean             0.0  \n",
      "std              0.0  \n",
      "min              0.0  \n",
      "25%              0.0  \n",
      "50%              0.0  \n",
      "75%              0.0  \n",
      "max              0.0  \n",
      "\n",
      "\n",
      "=== Mesure : tour_de_mollet ===\n",
      "       ANSUR II MALE  ANSUR II FEMALE  BDIMS MALE  BDIMS FEMALE  CAESAR MALE  \\\n",
      "count    4082.000000      1986.000000  247.000000    260.000000       2107.0   \n",
      "mean       39.226066        37.325780   37.206883     35.006154          0.0   \n",
      "std         2.970884         2.851518    2.645135      2.613131          0.0   \n",
      "min        26.600000        28.200000   28.900000     28.400000          0.0   \n",
      "25%        37.200000        35.400000   35.500000     33.100000          0.0   \n",
      "50%        39.200000        37.200000   37.300000     34.850000          0.0   \n",
      "75%        41.200000        39.175000   38.950000     36.600000          0.0   \n",
      "max        52.300000        48.200000   47.700000     45.400000          0.0   \n",
      "\n",
      "       CAESAR FEMALE  \n",
      "count         2352.0  \n",
      "mean             0.0  \n",
      "std              0.0  \n",
      "min              0.0  \n",
      "25%              0.0  \n",
      "50%              0.0  \n",
      "75%              0.0  \n",
      "max              0.0  \n",
      "\n",
      "\n",
      "=== Mesure : tour_de_poignet ===\n",
      "       ANSUR II MALE  ANSUR II FEMALE  BDIMS MALE  BDIMS FEMALE  CAESAR MALE  \\\n",
      "count    4082.000000      1986.000000  247.000000    260.000000       2107.0   \n",
      "mean       17.591671        15.479255   11.246154      9.874231          0.0   \n",
      "std         0.895506         0.782770    0.635897      0.661627          0.0   \n",
      "min        14.100000        12.400000    9.800000      8.100000          0.0   \n",
      "25%        17.000000        15.000000   10.800000      9.400000          0.0   \n",
      "50%        17.600000        15.400000   11.200000      9.800000          0.0   \n",
      "75%        18.200000        16.000000   11.650000     10.400000          0.0   \n",
      "max        21.600000        18.300000   13.300000     12.200000          0.0   \n",
      "\n",
      "       CAESAR FEMALE  \n",
      "count         2352.0  \n",
      "mean             0.0  \n",
      "std              0.0  \n",
      "min              0.0  \n",
      "25%              0.0  \n",
      "50%              0.0  \n",
      "75%              0.0  \n",
      "max              0.0  \n",
      "\n",
      "\n",
      "=== Mesure : tour_de_poitrine ===\n",
      "       ANSUR II MALE  ANSUR II FEMALE  BDIMS MALE  BDIMS FEMALE  CAESAR MALE  \\\n",
      "count    4082.000000      1986.000000  247.000000    260.000000  2106.000000   \n",
      "mean      105.870554        94.685801  100.989879     86.060000   101.697680   \n",
      "std         8.743527         8.269911    7.209018      6.170406    10.616289   \n",
      "min        77.400000        69.500000   79.300000     72.600000    75.793600   \n",
      "25%        99.600000        88.900000   95.950000     81.975000    94.411800   \n",
      "50%       105.600000        94.000000  101.000000     85.500000   100.406200   \n",
      "75%       111.700000        99.900000  106.050000     89.500000   107.670600   \n",
      "max       146.900000       126.600000  118.700000    109.000000   157.403800   \n",
      "\n",
      "       CAESAR FEMALE  \n",
      "count    2351.000000  \n",
      "mean       95.892714  \n",
      "std        12.164740  \n",
      "min        73.304400  \n",
      "25%        87.299800  \n",
      "50%        92.989400  \n",
      "75%       101.549200  \n",
      "max       155.498800  \n",
      "\n",
      "\n",
      "=== Mesure : tour_de_poitrine_mesure_a_la_main ===\n",
      "       ANSUR II MALE  ANSUR II FEMALE  BDIMS MALE  BDIMS FEMALE  CAESAR MALE  \\\n",
      "count         4082.0           1986.0       247.0         260.0          0.0   \n",
      "mean             0.0              0.0         0.0           0.0          NaN   \n",
      "std              0.0              0.0         0.0           0.0          NaN   \n",
      "min              0.0              0.0         0.0           0.0          NaN   \n",
      "25%              0.0              0.0         0.0           0.0          NaN   \n",
      "50%              0.0              0.0         0.0           0.0          NaN   \n",
      "75%              0.0              0.0         0.0           0.0          NaN   \n",
      "max              0.0              0.0         0.0           0.0          NaN   \n",
      "\n",
      "       CAESAR FEMALE  \n",
      "count    2139.000000  \n",
      "mean       91.024385  \n",
      "std         6.902016  \n",
      "min        81.280000  \n",
      "25%        86.360000  \n",
      "50%        91.440000  \n",
      "75%        96.520000  \n",
      "max       116.840000  \n",
      "\n",
      "\n",
      "=== Mesure : tour_de_taille ===\n",
      "       ANSUR II MALE  ANSUR II FEMALE  BDIMS MALE  BDIMS FEMALE  CAESAR MALE  \\\n",
      "count    4082.000000      1986.000000  247.000000    260.000000  2103.000000   \n",
      "mean       94.057741        86.090534   84.533198     69.803462    90.094742   \n",
      "std        11.170587         9.993177    8.782241      7.587748    11.694893   \n",
      "min        64.800000        61.100000   67.100000     57.900000    61.899800   \n",
      "25%        85.700000        79.000000   77.900000     64.750000    82.194400   \n",
      "50%        93.700000        85.200000   83.400000     68.300000    88.290400   \n",
      "75%       101.600000        92.500000   90.000000     72.750000    95.707200   \n",
      "max       137.900000       133.400000  113.200000    101.500000   170.205400   \n",
      "\n",
      "       CAESAR FEMALE  \n",
      "count    2348.000000  \n",
      "mean       79.947636  \n",
      "std        13.020637  \n",
      "min        55.702200  \n",
      "25%        71.196200  \n",
      "50%        76.809600  \n",
      "75%        85.902800  \n",
      "max       149.809200  \n",
      "\n",
      "\n",
      "=== Mesure : tour_de_tête ===\n",
      "       ANSUR II MALE  ANSUR II FEMALE  BDIMS MALE  BDIMS FEMALE  CAESAR MALE  \\\n",
      "count    4082.000000      1986.000000       247.0         260.0       2107.0   \n",
      "mean       57.437286        56.111984         0.0           0.0          0.0   \n",
      "std         1.604852         1.936094         0.0           0.0          0.0   \n",
      "min        51.600000        50.000000         0.0           0.0          0.0   \n",
      "25%        56.300000        54.800000         0.0           0.0          0.0   \n",
      "50%        57.400000        56.000000         0.0           0.0          0.0   \n",
      "75%        58.500000        57.300000         0.0           0.0          0.0   \n",
      "max        63.300000        63.500000         0.0           0.0          0.0   \n",
      "\n",
      "       CAESAR FEMALE  \n",
      "count         2352.0  \n",
      "mean             0.0  \n",
      "std              0.0  \n",
      "min              0.0  \n",
      "25%              0.0  \n",
      "50%              0.0  \n",
      "75%              0.0  \n",
      "max              0.0  \n",
      "\n",
      "\n",
      "=== Mesure : tour_de_ventre_maximal ===\n",
      "       ANSUR II MALE  ANSUR II FEMALE  BDIMS MALE  BDIMS FEMALE  CAESAR MALE  \\\n",
      "count    4082.000000      1986.000000       247.0         260.0       2107.0   \n",
      "mean       94.057741        86.090534         0.0           0.0          0.0   \n",
      "std        11.170587         9.993177         0.0           0.0          0.0   \n",
      "min        64.800000        61.100000         0.0           0.0          0.0   \n",
      "25%        85.700000        79.000000         0.0           0.0          0.0   \n",
      "50%        93.700000        85.200000         0.0           0.0          0.0   \n",
      "75%       101.600000        92.500000         0.0           0.0          0.0   \n",
      "max       137.900000       133.400000         0.0           0.0          0.0   \n",
      "\n",
      "       CAESAR FEMALE  \n",
      "count         2352.0  \n",
      "mean             0.0  \n",
      "std              0.0  \n",
      "min              0.0  \n",
      "25%              0.0  \n",
      "50%              0.0  \n",
      "75%              0.0  \n",
      "max              0.0  \n",
      "\n",
      "\n",
      "=== Mesure : tour_du_cou ===\n",
      "       ANSUR II MALE  ANSUR II FEMALE  BDIMS MALE  BDIMS FEMALE  CAESAR MALE  \\\n",
      "count    4082.000000      1986.000000       247.0         260.0  2104.000000   \n",
      "mean       39.764895        32.979557         0.0           0.0    47.477682   \n",
      "std         2.577676         1.922114         0.0           0.0     3.143302   \n",
      "min        31.100000        27.500000         0.0           0.0    38.709600   \n",
      "25%        37.925000        31.600000         0.0           0.0    45.288200   \n",
      "50%        39.500000        32.800000         0.0           0.0    47.193200   \n",
      "75%        41.375000        34.200000         0.0           0.0    49.098200   \n",
      "max        51.400000        42.400000         0.0           0.0    62.204600   \n",
      "\n",
      "       CAESAR FEMALE  \n",
      "count    2346.000000  \n",
      "mean       42.207124  \n",
      "std         3.152315  \n",
      "min        34.391600  \n",
      "25%        40.005000  \n",
      "50%        41.808400  \n",
      "75%        43.992800  \n",
      "max        58.699400  \n",
      "\n",
      "\n",
      "=== Mesure : weight ===\n",
      "       ANSUR II MALE  ANSUR II FEMALE  BDIMS MALE  BDIMS FEMALE  CAESAR MALE  \\\n",
      "count    4082.000000      1986.000000  247.000000    260.000000  2106.000000   \n",
      "mean       85.277518        66.907104   78.144534     60.600385    82.985266   \n",
      "std        13.581392        10.367013   10.512890      9.615699    17.167743   \n",
      "min         0.000000        39.008912   53.900000     42.000000    45.812792   \n",
      "25%        76.203456        58.966960   70.950000     54.500000    70.801175   \n",
      "50%        83.914520        65.770840   77.300000     59.000000    80.058988   \n",
      "75%        93.893544        73.028312   85.500000     65.600000    91.398788   \n",
      "max       145.603032       122.469840  116.400000    105.200000   181.436800   \n",
      "\n",
      "       CAESAR FEMALE  \n",
      "count    2352.000000  \n",
      "mean       68.191255  \n",
      "std        16.651740  \n",
      "min        37.298870  \n",
      "25%        56.773843  \n",
      "50%        64.618716  \n",
      "75%        75.325755  \n",
      "max       156.489240  \n"
     ]
    }
   ],
   "source": [
    "# Séparer BDIMS en hommes (1) et femmes (0)\n",
    "df_bdims_male = cleaned_bdims[cleaned_bdims['sex'] == 1]\n",
    "df_bdims_female =cleaned_bdims[cleaned_bdims['sex'] == 0]\n",
    "\n",
    "# Séparer CAESAR en hommes (1) et femmes (0) (supposant que la colonne s'appelle aussi 'sex')\n",
    "df_caesar_male = cleaned_caesar[cleaned_caesar['sex'] == 1]\n",
    "df_caesar_female = cleaned_caesar[cleaned_caesar['sex'] == 0]\n",
    "\n",
    "# Séparer ANSUR en hommes (1) et femmes (0)\n",
    "df_ansur_male = cleaned_ansur[cleaned_ansur['sex'] == 1]\n",
    "df_ansur_female = cleaned_ansur[cleaned_ansur['sex'] == 0]\n",
    "\n",
    "# Trouver les colonnes communes (en incluant les nouvelles séparations)\n",
    "colonnes_communes = list(\n",
    "    set(df_ansur_male.columns) & \n",
    "    set(df_ansur_female.columns) & \n",
    "    set(df_bdims_male.columns) & \n",
    "    set(df_bdims_female.columns) & \n",
    "    set(df_caesar_male.columns) & \n",
    "    set(df_caesar_female.columns)\n",
    ")\n",
    "\n",
    "colonnes_communes.sort()  # Pour lisibilité\n",
    "print(f\"Nombre de colonnes en commun : {len(colonnes_communes)}\")\n",
    "\n",
    "# Pour chaque mesure, créer un tableau comparatif\n",
    "for col in colonnes_communes:\n",
    "    desc_ansur_male = df_ansur_male[col].describe()\n",
    "    desc_ansur_female = df_ansur_female[col].describe()\n",
    "    desc_bdims_male = df_bdims_male[col].describe()\n",
    "    desc_bdims_female = df_bdims_female[col].describe()\n",
    "    desc_caesar_male = df_caesar_male[col].describe()\n",
    "    desc_caesar_female = df_caesar_female[col].describe()\n",
    "    \n",
    "    # Créer un DataFrame avec les statistiques comme lignes\n",
    "    comparaison = pd.DataFrame({\n",
    "        'ANSUR II MALE': desc_ansur_male,\n",
    "        'ANSUR II FEMALE': desc_ansur_female,\n",
    "        'BDIMS MALE': desc_bdims_male,\n",
    "        'BDIMS FEMALE': desc_bdims_female,\n",
    "        'CAESAR MALE': desc_caesar_male,\n",
    "        'CAESAR FEMALE': desc_caesar_female\n",
    "    })\n",
    "\n",
    "    print(f\"\\n\\n=== Mesure : {col} ===\")\n",
    "    print(comparaison)    "
   ]
  }
 ],
 "metadata": {
  "kernelspec": {
   "display_name": "Python 3 (ipykernel)",
   "language": "python",
   "name": "python3"
  },
  "language_info": {
   "codemirror_mode": {
    "name": "ipython",
    "version": 3
   },
   "file_extension": ".py",
   "mimetype": "text/x-python",
   "name": "python",
   "nbconvert_exporter": "python",
   "pygments_lexer": "ipython3",
   "version": "3.10.10"
  }
 },
 "nbformat": 4,
 "nbformat_minor": 5
}

{
 "cells": [
  {
   "cell_type": "code",
   "execution_count": 2,
   "id": "9fb20ca6-fb2f-4c6c-b0ef-afb1aa57dcab",
   "metadata": {
    "execution": {
     "iopub.execute_input": "2025-08-12T15:02:06.979689Z",
     "iopub.status.busy": "2025-08-12T15:02:06.979083Z",
     "iopub.status.idle": "2025-08-12T15:02:08.512515Z",
     "shell.execute_reply": "2025-08-12T15:02:08.510557Z",
     "shell.execute_reply.started": "2025-08-12T15:02:06.979689Z"
    }
   },
   "outputs": [
    {
     "ename": "ModuleNotFoundError",
     "evalue": "No module named 'streamlit'",
     "output_type": "error",
     "traceback": [
      "\u001b[1;31m---------------------------------------------------------------------------\u001b[0m",
      "\u001b[1;31mModuleNotFoundError\u001b[0m                       Traceback (most recent call last)",
      "Cell \u001b[1;32mIn[2], line 1\u001b[0m\n\u001b[1;32m----> 1\u001b[0m \u001b[38;5;28;01mimport\u001b[39;00m\u001b[38;5;250m \u001b[39m\u001b[38;5;21;01mstreamlit\u001b[39;00m\u001b[38;5;250m \u001b[39m\u001b[38;5;28;01mas\u001b[39;00m\u001b[38;5;250m \u001b[39m\u001b[38;5;21;01mst\u001b[39;00m\n\u001b[0;32m      2\u001b[0m \u001b[38;5;28;01mimport\u001b[39;00m\u001b[38;5;250m \u001b[39m\u001b[38;5;21;01mjoblib\u001b[39;00m\n\u001b[0;32m      3\u001b[0m \u001b[38;5;28;01mimport\u001b[39;00m\u001b[38;5;250m \u001b[39m\u001b[38;5;21;01mnumpy\u001b[39;00m\u001b[38;5;250m \u001b[39m\u001b[38;5;28;01mas\u001b[39;00m\u001b[38;5;250m \u001b[39m\u001b[38;5;21;01mnp\u001b[39;00m\n",
      "\u001b[1;31mModuleNotFoundError\u001b[0m: No module named 'streamlit'"
     ]
    }
   ],
   "source": [
    "import streamlit as st\n",
    "import joblib\n",
    "import numpy as np\n",
    "import pandas as pd\n",
    "\n",
    "# =========================\n",
    "# 1. Fonction pour charger le modèle\n",
    "# =========================\n",
    "def load_model(gender):\n",
    "    if gender == \"Homme\":\n",
    "        return joblib.load(\"full_pipeline_2.pkl\")\n",
    "    else:\n",
    "        return joblib.load(\"full_pipeline_female.pkl\")\n",
    "\n",
    "# =========================\n",
    "# 2. Interface Streamlit\n",
    "# =========================\n",
    "st.title(\"📏 Prédiction des mesures corporelles\")\n",
    "\n",
    "# Choix du genre\n",
    "gender = st.selectbox(\"Sélectionnez votre genre :\", [\"Homme\", \"Femme\"])\n",
    "\n",
    "# Champs communs\n",
    "st.subheader(\"Informations générales\")\n",
    "taille = st.number_input(\"Taille (cm)\", min_value=100, max_value=250, step=1)\n",
    "age = st.number_input(\"Âge\", min_value=10, max_value=120, step=1)\n",
    "poids = st.number_input(\"Poids (kg)\", min_value=30, max_value=250, step=1)\n",
    "\n",
    "# Champs spécifiques selon le genre\n",
    "if gender == \"Homme\":\n",
    "    categorie_ventre = st.selectbox(\"Catégorie ventre\", [\"Plat\", \"Moyen\", \"Rond\"])\n",
    "    categorie_torse = st.selectbox(\"Catégorie torse\", [\"Mince\", \"Normal\", \"Large\"])\n",
    "    categorie_cuisses = st.selectbox(\"Catégorie cuisses\", [\"Fines\", \"Moyennes\", \"Musclées\"])\n",
    "    # Encodage simple des catégories (à adapter à ton preprocessing)\n",
    "    features = [taille, age, poids,\n",
    "                [\"Plat\", \"Moyen\", \"Rond\"].index(categorie_ventre),\n",
    "                [\"Mince\", \"Normal\", \"Large\"].index(categorie_torse),\n",
    "                [\"Fines\", \"Moyennes\", \"Musclées\"].index(categorie_cuisses)]\n",
    "else:\n",
    "    categorie_ventre = st.selectbox(\"Catégorie ventre\", [\"Plat\", \"Moyen\", \"Rond\"])\n",
    "    categorie_bassin = st.selectbox(\"Catégorie bassin\", [\"Petit\", \"Moyen\", \"Large\"])\n",
    "    taille_soutien_gorge = st.number_input(\"Taille soutien-gorge\", min_value=60, max_value=120, step=1)\n",
    "    bonnet_rang = st.number_input(\"Rang du bonnet\", min_value=0, max_value=11, step=1)  # Directement entier\n",
    "    # Encodage simple des catégories (à adapter à ton preprocessing)\n",
    "    features = [taille, age, poids,\n",
    "                [\"Plat\", \"Moyen\", \"Rond\"].index(categorie_ventre),\n",
    "                [\"Petit\", \"Moyen\", \"Large\"].index(categorie_bassin),\n",
    "                taille_soutien_gorge,\n",
    "                bonnet_rang]\n",
    "# =========================\n",
    "# 3. Prédiction\n",
    "# =========================\n",
    "if st.button(\"Prédire les mesures\"):\n",
    "    model = load_model(gender)\n",
    "    prediction = model.predict([features])[0]  # [0] si sortie est en 2D\n",
    "\n",
    "    # Suppose que prediction est un array avec les noms de colonnes connus\n",
    "    mesures_names = model.feature_names_out_ if hasattr(model, \"feature_names_out_\") else [f\"Mesure {i+1}\" for i in range(len(prediction))]\n",
    "    \n",
    "    result_df = pd.DataFrame({\n",
    "        \"Mesure\": mesures_names,\n",
    "        \"Valeur prédite (cm)\": prediction\n",
    "    })\n",
    "\n",
    "    st.subheader(\"📊 Résultats des mesures prédites\")\n",
    "    st.dataframe(result_df.style.format({\"Valeur prédite (cm)\": \"{:.2f}\"}))\n"
   ]
  }
 ],
 "metadata": {
  "kernelspec": {
   "display_name": "Python 3 (ipykernel)",
   "language": "python",
   "name": "python3"
  },
  "language_info": {
   "codemirror_mode": {
    "name": "ipython",
    "version": 3
   },
   "file_extension": ".py",
   "mimetype": "text/x-python",
   "name": "python",
   "nbconvert_exporter": "python",
   "pygments_lexer": "ipython3",
   "version": "3.10.10"
  }
 },
 "nbformat": 4,
 "nbformat_minor": 5
}
